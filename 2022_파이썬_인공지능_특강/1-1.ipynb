{
 "cells": [
  {
   "cell_type": "code",
   "execution_count": 3,
   "id": "c243ecd1",
   "metadata": {},
   "outputs": [
    {
     "name": "stdout",
     "output_type": "stream",
     "text": [
      "hello, world\n"
     ]
    }
   ],
   "source": [
    "print(\"hello, world\")"
   ]
  },
  {
   "cell_type": "code",
   "execution_count": 4,
   "id": "07834051",
   "metadata": {},
   "outputs": [
    {
     "data": {
      "text/plain": [
       "7"
      ]
     },
     "execution_count": 4,
     "metadata": {},
     "output_type": "execute_result"
    }
   ],
   "source": [
    "3+4"
   ]
  },
  {
   "cell_type": "markdown",
   "id": "47088936",
   "metadata": {},
   "source": [
    "# 강의 1에서 실습한 내용들\n",
    "### 부제"
   ]
  },
  {
   "cell_type": "code",
   "execution_count": 6,
   "id": "2f455487",
   "metadata": {},
   "outputs": [
    {
     "data": {
      "text/plain": [
       "12"
      ]
     },
     "execution_count": 6,
     "metadata": {},
     "output_type": "execute_result"
    }
   ],
   "source": [
    "3*4"
   ]
  },
  {
   "cell_type": "code",
   "execution_count": 7,
   "id": "94d0a52c",
   "metadata": {},
   "outputs": [
    {
     "data": {
      "text/plain": [
       "3"
      ]
     },
     "execution_count": 7,
     "metadata": {},
     "output_type": "execute_result"
    }
   ],
   "source": [
    "13//4 #몫 구하기"
   ]
  },
  {
   "cell_type": "code",
   "execution_count": 8,
   "id": "de392c9c",
   "metadata": {},
   "outputs": [
    {
     "data": {
      "text/plain": [
       "3.25"
      ]
     },
     "execution_count": 8,
     "metadata": {},
     "output_type": "execute_result"
    }
   ],
   "source": [
    "13/4 #소수점까지"
   ]
  },
  {
   "cell_type": "code",
   "execution_count": 9,
   "id": "e9207611",
   "metadata": {},
   "outputs": [
    {
     "data": {
      "text/plain": [
       "1"
      ]
     },
     "execution_count": 9,
     "metadata": {},
     "output_type": "execute_result"
    }
   ],
   "source": [
    "13%4 #나머지"
   ]
  },
  {
   "cell_type": "code",
   "execution_count": 14,
   "id": "3fa1f8ba",
   "metadata": {},
   "outputs": [],
   "source": [
    "r = 3\n",
    "pi = 3.14159"
   ]
  },
  {
   "cell_type": "code",
   "execution_count": 15,
   "id": "49fbd536",
   "metadata": {},
   "outputs": [
    {
     "name": "stdout",
     "output_type": "stream",
     "text": [
      "28.27431\n"
     ]
    }
   ],
   "source": [
    "print(pi * r ** 2)"
   ]
  },
  {
   "cell_type": "code",
   "execution_count": 16,
   "id": "e7d70295",
   "metadata": {},
   "outputs": [
    {
     "name": "stdout",
     "output_type": "stream",
     "text": [
      "입력하세요: 5\n",
      "5\n"
     ]
    }
   ],
   "source": [
    "x = input(\"입력하세요: \")\n",
    "print(x)"
   ]
  },
  {
   "cell_type": "code",
   "execution_count": 17,
   "id": "9f5434cc",
   "metadata": {},
   "outputs": [
    {
     "data": {
      "text/plain": [
       "4"
      ]
     },
     "execution_count": 17,
     "metadata": {},
     "output_type": "execute_result"
    }
   ],
   "source": [
    "d = 4\n",
    "d"
   ]
  },
  {
   "cell_type": "code",
   "execution_count": 18,
   "id": "d109bcdc",
   "metadata": {},
   "outputs": [
    {
     "name": "stdout",
     "output_type": "stream",
     "text": [
      "314.159\n"
     ]
    }
   ],
   "source": [
    "#반지름이 10cm인 피자의 면적을 계산\n",
    "r = 10\n",
    "pi = 3.14159\n",
    "print(pi * r ** 2)"
   ]
  },
  {
   "cell_type": "code",
   "execution_count": 19,
   "id": "e817ce1b",
   "metadata": {},
   "outputs": [],
   "source": [
    "import math"
   ]
  },
  {
   "cell_type": "code",
   "execution_count": 20,
   "id": "c0dcf76e",
   "metadata": {},
   "outputs": [
    {
     "name": "stdout",
     "output_type": "stream",
     "text": [
      "2.280350850198276\n"
     ]
    }
   ],
   "source": [
    "print(math.sqrt(5.2)) #루트"
   ]
  },
  {
   "cell_type": "code",
   "execution_count": 25,
   "id": "0c3ef06d",
   "metadata": {},
   "outputs": [
    {
     "ename": "Terminator",
     "evalue": "",
     "output_type": "error",
     "traceback": [
      "\u001b[0;31m---------------------------------------------------------------------------\u001b[0m",
      "\u001b[0;31mTerminator\u001b[0m                                Traceback (most recent call last)",
      "\u001b[0;32m/var/folders/tk/_xgwj1jx765d70vyp9fbnn140000gn/T/ipykernel_5695/3849825154.py\u001b[0m in \u001b[0;36m<module>\u001b[0;34m\u001b[0m\n\u001b[1;32m     12\u001b[0m \u001b[0;34m\u001b[0m\u001b[0m\n\u001b[1;32m     13\u001b[0m \u001b[0mturtle\u001b[0m\u001b[0;34m.\u001b[0m\u001b[0mmainloop\u001b[0m\u001b[0;34m(\u001b[0m\u001b[0;34m)\u001b[0m\u001b[0;34m\u001b[0m\u001b[0;34m\u001b[0m\u001b[0m\n\u001b[0;32m---> 14\u001b[0;31m \u001b[0mturtle\u001b[0m\u001b[0;34m.\u001b[0m\u001b[0mbye\u001b[0m\u001b[0;34m(\u001b[0m\u001b[0;34m)\u001b[0m\u001b[0;34m\u001b[0m\u001b[0;34m\u001b[0m\u001b[0m\n\u001b[0m",
      "\u001b[0;32m~/opt/anaconda3/envs/vrconda/lib/python3.7/turtle.py\u001b[0m in \u001b[0;36mbye\u001b[0;34m()\u001b[0m\n",
      "\u001b[0;31mTerminator\u001b[0m: "
     ]
    }
   ],
   "source": [
    "import turtle\n",
    "\n",
    "t = turtle.Turtle()\n",
    "t.shape(\"turtle\")\n",
    "t.color(\"red\")\n",
    "t.forward(100)\n",
    "\n",
    "t.left(120)\n",
    "t.forward(100)\n",
    "t.left(120)\n",
    "t.forward(100) #fd == forward\n",
    "\n",
    "turtle.mainloop()\n",
    "turtle.bye()"
   ]
  },
  {
   "cell_type": "code",
   "execution_count": 1,
   "id": "f7306241",
   "metadata": {},
   "outputs": [
    {
     "ename": "Terminator",
     "evalue": "",
     "output_type": "error",
     "traceback": [
      "\u001b[0;31m---------------------------------------------------------------------------\u001b[0m",
      "\u001b[0;31mTerminator\u001b[0m                                Traceback (most recent call last)",
      "\u001b[0;32m/var/folders/tk/_xgwj1jx765d70vyp9fbnn140000gn/T/ipykernel_5773/52550545.py\u001b[0m in \u001b[0;36m<module>\u001b[0;34m\u001b[0m\n\u001b[1;32m     16\u001b[0m \u001b[0;34m\u001b[0m\u001b[0m\n\u001b[1;32m     17\u001b[0m \u001b[0mturtle\u001b[0m\u001b[0;34m.\u001b[0m\u001b[0mmainloop\u001b[0m\u001b[0;34m(\u001b[0m\u001b[0;34m)\u001b[0m\u001b[0;34m\u001b[0m\u001b[0;34m\u001b[0m\u001b[0m\n\u001b[0;32m---> 18\u001b[0;31m \u001b[0mturtle\u001b[0m\u001b[0;34m.\u001b[0m\u001b[0mbye\u001b[0m\u001b[0;34m(\u001b[0m\u001b[0;34m)\u001b[0m\u001b[0;34m\u001b[0m\u001b[0;34m\u001b[0m\u001b[0m\n\u001b[0m",
      "\u001b[0;32m~/opt/anaconda3/envs/vrconda/lib/python3.7/turtle.py\u001b[0m in \u001b[0;36mbye\u001b[0;34m()\u001b[0m\n",
      "\u001b[0;31mTerminator\u001b[0m: "
     ]
    }
   ],
   "source": [
    "import turtle\n",
    "\n",
    "colors = [\"red\", \"purple\", \"blue\", \"green\", \"yellow\", \"orange\"]\n",
    "t = turtle.Turtle()\n",
    "\n",
    "turtle.bgcolor(\"black\")\n",
    "t.speed(0)\n",
    "t.width(3)\n",
    "length = 10\n",
    "\n",
    "while length<300:\n",
    "    t.forward(length)\n",
    "    t.pencolor(colors[length%6])\n",
    "    t.right(86)\n",
    "    length += 5\n",
    "    \n",
    "turtle.mainloop()\n",
    "turtle.bye()"
   ]
  },
  {
   "cell_type": "code",
   "execution_count": 1,
   "id": "93ff03d2",
   "metadata": {},
   "outputs": [
    {
     "ename": "Terminator",
     "evalue": "",
     "output_type": "error",
     "traceback": [
      "\u001b[0;31m---------------------------------------------------------------------------\u001b[0m",
      "\u001b[0;31mTerminator\u001b[0m                                Traceback (most recent call last)",
      "\u001b[0;32m/var/folders/tk/_xgwj1jx765d70vyp9fbnn140000gn/T/ipykernel_5845/3864967548.py\u001b[0m in \u001b[0;36m<module>\u001b[0;34m\u001b[0m\n\u001b[1;32m     14\u001b[0m \u001b[0;34m\u001b[0m\u001b[0m\n\u001b[1;32m     15\u001b[0m \u001b[0mturtle\u001b[0m\u001b[0;34m.\u001b[0m\u001b[0mmainloop\u001b[0m\u001b[0;34m(\u001b[0m\u001b[0;34m)\u001b[0m\u001b[0;34m\u001b[0m\u001b[0;34m\u001b[0m\u001b[0m\n\u001b[0;32m---> 16\u001b[0;31m \u001b[0mturtle\u001b[0m\u001b[0;34m.\u001b[0m\u001b[0mbye\u001b[0m\u001b[0;34m(\u001b[0m\u001b[0;34m)\u001b[0m\u001b[0;34m\u001b[0m\u001b[0;34m\u001b[0m\u001b[0m\n\u001b[0m",
      "\u001b[0;32m~/opt/anaconda3/envs/vrconda/lib/python3.7/turtle.py\u001b[0m in \u001b[0;36mbye\u001b[0;34m()\u001b[0m\n",
      "\u001b[0;31mTerminator\u001b[0m: "
     ]
    }
   ],
   "source": [
    "import turtle\n",
    "\n",
    "t = turtle.Turtle()\n",
    "i = 0\n",
    "\n",
    "colors = [\"red\", \"green\", \"blue\", \"orange\", \"purple\"]\n",
    "\n",
    "while i < 5:\n",
    "    t.width(4)\n",
    "    t.pencolor(colors[i])\n",
    "    t.forward(200)\n",
    "    t.left(72)\n",
    "    i += 1\n",
    "    \n",
    "turtle.mainloop()\n",
    "turtle.bye()"
   ]
  },
  {
   "cell_type": "code",
   "execution_count": 12,
   "id": "35ea2bfc",
   "metadata": {},
   "outputs": [
    {
     "name": "stdout",
     "output_type": "stream",
     "text": [
      "첫 번째 정수를 입력하시오: 10\n",
      "두 번째 정수를 입력하시오: 3\n",
      "10의 3승은 1000입니다.\n"
     ]
    }
   ],
   "source": [
    "first_num = int(input(\"첫 번째 정수를 입력하시오: \"))\n",
    "second_num = int(input(\"두 번째 정수를 입력하시오: \"))\n",
    "result = 1\n",
    "\n",
    "for i in range(0, second_num):\n",
    "    result *= first_num\n",
    "\n",
    "print(str(first_num) + \"의 \" + str(second_num) + \"승은 \" + str(result) + \"입니다.\")"
   ]
  },
  {
   "cell_type": "code",
   "execution_count": 13,
   "id": "1c3baf91",
   "metadata": {},
   "outputs": [],
   "source": [
    "x = 3\n",
    "y = x"
   ]
  },
  {
   "cell_type": "code",
   "execution_count": 14,
   "id": "c3eee80c",
   "metadata": {},
   "outputs": [
    {
     "data": {
      "text/plain": [
       "4305142512"
      ]
     },
     "execution_count": 14,
     "metadata": {},
     "output_type": "execute_result"
    }
   ],
   "source": [
    "id(x)"
   ]
  },
  {
   "cell_type": "code",
   "execution_count": 15,
   "id": "a49859a9",
   "metadata": {},
   "outputs": [
    {
     "data": {
      "text/plain": [
       "4305142512"
      ]
     },
     "execution_count": 15,
     "metadata": {},
     "output_type": "execute_result"
    }
   ],
   "source": [
    "id(y)"
   ]
  },
  {
   "cell_type": "code",
   "execution_count": 16,
   "id": "816b164d",
   "metadata": {},
   "outputs": [
    {
     "data": {
      "text/plain": [
       "4305142736"
      ]
     },
     "execution_count": 16,
     "metadata": {},
     "output_type": "execute_result"
    }
   ],
   "source": [
    "y = 10\n",
    "id(y)"
   ]
  },
  {
   "cell_type": "markdown",
   "id": "797cdde8",
   "metadata": {},
   "source": [
    "# 파이썬에서 비교\n",
    "### x == y : 값 비교\n",
    "### x is y : 주소 비교(id(x)와 id(y)를 비교)"
   ]
  },
  {
   "cell_type": "code",
   "execution_count": 17,
   "id": "951828ee",
   "metadata": {},
   "outputs": [
    {
     "name": "stdout",
     "output_type": "stream",
     "text": [
      "4.227972264501945 광년\n"
     ]
    }
   ],
   "source": [
    "speed = 300000.0 # 빛의 속도\n",
    "distance = 40 * 10 ** 12 # 거리\n",
    "\n",
    "secs = distance / speed #걸리는 시간, 단위는 초\n",
    "light_year = secs / (60*60*24*365) # 광년으로 변환\n",
    "\n",
    "print(light_year, \"광년\")"
   ]
  },
  {
   "cell_type": "code",
   "execution_count": 18,
   "id": "8ec7e861",
   "metadata": {},
   "outputs": [
    {
     "name": "stdout",
     "output_type": "stream",
     "text": [
      "111442737812.28842\n"
     ]
    }
   ],
   "source": [
    "#1626년에 아메리카 인디언들이 뉴욕의 맨하탄섬을 단돈 60길더(약 24달러)에 팔았다. 382년 정도 경과한 땅값은 약 600억달러. 24달러를 정기예금에 입금해\n",
    "#두었다면 그 가격은? 예금금리 복리로 6%, 382년 지난후 원리금 계산\n",
    "init_money = 24\n",
    "interest = 0.06\n",
    "years = 382\n",
    "print(init_money*(1+interest)**years)"
   ]
  },
  {
   "cell_type": "code",
   "execution_count": 19,
   "id": "06243353",
   "metadata": {},
   "outputs": [
    {
     "name": "stdout",
     "output_type": "stream",
     "text": [
      "925.88\n"
     ]
    }
   ],
   "source": [
    "#반올림 round()\n",
    "price = 12345\n",
    "tax = price*0.075\n",
    "tax = round(tax,2) #소수점 2번째 까지. 3번째에서 반올림\n",
    "print(tax)"
   ]
  },
  {
   "cell_type": "code",
   "execution_count": 20,
   "id": "4cde2e9a",
   "metadata": {},
   "outputs": [
    {
     "name": "stdout",
     "output_type": "stream",
     "text": [
      "x - 4y : -21\n",
      "-(3/x)+(9/y) : 4.8\n",
      "x^2-3xy : 16\n",
      "(x+y)/(2x-y) : -0.5714285714285714\n"
     ]
    }
   ],
   "source": [
    "x = -1\n",
    "y = 5\n",
    "print(\"x - 4y : \" + str(x-4*y))\n",
    "print(\"-(3/x)+(9/y) : \" + str(-1*3/x+9/y))\n",
    "print(\"x^2-3xy : \" + str(x**2 - 3*x*y))\n",
    "print(\"(x+y)/(2x-y) : \" + str((x+y)/(2*x-y)))"
   ]
  },
  {
   "cell_type": "code",
   "execution_count": 21,
   "id": "67cc3b77",
   "metadata": {},
   "outputs": [],
   "source": [
    "import time"
   ]
  },
  {
   "cell_type": "code",
   "execution_count": 22,
   "id": "a2dc67cd",
   "metadata": {},
   "outputs": [
    {
     "data": {
      "text/plain": [
       "1658108407.199987"
      ]
     },
     "execution_count": 22,
     "metadata": {},
     "output_type": "execute_result"
    }
   ],
   "source": [
    "time.time() #특정 시간부터 흘러간 초"
   ]
  },
  {
   "cell_type": "code",
   "execution_count": 23,
   "id": "d36472c9",
   "metadata": {},
   "outputs": [
    {
     "name": "stdout",
     "output_type": "stream",
     "text": [
      "1658108547\n"
     ]
    }
   ],
   "source": [
    "now = int(time.time())\n",
    "print(now)"
   ]
  },
  {
   "cell_type": "code",
   "execution_count": 26,
   "id": "ffe2aeab",
   "metadata": {},
   "outputs": [
    {
     "name": "stdout",
     "output_type": "stream",
     "text": [
      "현재 시간 = 10시 47분\n"
     ]
    }
   ],
   "source": [
    "today_time = int(time.time())%(24*3600)\n",
    "hour = today_time//3600 + 9\n",
    "minute = today_time%3600//60\n",
    "print(f\"현재 시간 = {hour}시 {minute}분\")"
   ]
  },
  {
   "cell_type": "code",
   "execution_count": 30,
   "id": "54db726c",
   "metadata": {},
   "outputs": [
    {
     "name": "stdout",
     "output_type": "stream",
     "text": [
      "중심점 좌표 = (3.3, 3.95)\n",
      "거리 = 4.0853396431631\n"
     ]
    }
   ],
   "source": [
    "import math\n",
    "x1 = 5.2\n",
    "y1 = 4.7\n",
    "x2 = 1.4\n",
    "y2 = 3.2\n",
    "center_x = (x1+x2)/2\n",
    "center_y = (y1+y2)/2\n",
    "length = math.sqrt((x2-x1)**2 + (y2-y1)**2)\n",
    "print(f\"중심점 좌표 = ({center_x}, {center_y})\")\n",
    "print(f\"거리 = {length}\")"
   ]
  },
  {
   "cell_type": "code",
   "execution_count": 32,
   "id": "e6cf0362",
   "metadata": {},
   "outputs": [
    {
     "name": "stdout",
     "output_type": "stream",
     "text": [
      "첫번째 줄 = doesn't\n",
      "두번째 줄 = \"Hello\"\n"
     ]
    }
   ],
   "source": [
    "message = \"첫번째 줄 = doesn\\'t\\n두번째 줄 = \\\"Hello\\\"\"  #\\다음에 '나 \"를 써서 표현가능\n",
    "print(message)"
   ]
  },
  {
   "cell_type": "code",
   "execution_count": 33,
   "id": "aa3cde77",
   "metadata": {},
   "outputs": [
    {
     "name": "stdout",
     "output_type": "stream",
     "text": [
      "harry parter\n",
      "Harry Porter\n"
     ]
    }
   ],
   "source": [
    "name = \"Harry Parter\"\n",
    "lower_name = name.lower()\n",
    "print(lower_name)\n",
    "new_name = name.replace(\"Parter\", \"Porter\")\n",
    "print(new_name)"
   ]
  },
  {
   "cell_type": "code",
   "execution_count": 35,
   "id": "2b47eb3b",
   "metadata": {},
   "outputs": [
    {
     "name": "stdout",
     "output_type": "stream",
     "text": [
      "남학생과 여학생의 수를 입력하세요: 10 20\n",
      "남학생의 수 : 10\n",
      "여학생의 수 : 20\n"
     ]
    }
   ],
   "source": [
    "#파이썬 input은 항상 문자열로 받는다.\n",
    "#정수로 하고 싶으면 int(input())\n",
    "\n",
    "x, y = input(\"남학생과 여학생의 수를 입력하세요: \").split() #split으로 한번에 두개 변수 입력받기(입력시 중간에 띄워쓰기로 구분).\n",
    "#하지만 둘다 문자열로 받음.\n",
    "print(f\"남학생의 수 : {x}\")\n",
    "print(f\"여학생의 수 : {y}\")"
   ]
  },
  {
   "cell_type": "code",
   "execution_count": 37,
   "id": "1c57a070",
   "metadata": {},
   "outputs": [
    {
     "name": "stdout",
     "output_type": "stream",
     "text": [
      "남학생과 여학생의 수를 입력하세요: 10 20\n",
      "남학생의 수 : 10\n",
      "여학생의 수 : 20\n",
      "30\n"
     ]
    }
   ],
   "source": [
    "#둘다 정수로 받으려면\n",
    "x, y = [int(a) for a in input(\"남학생과 여학생의 수를 입력하세요: \").split()]\n",
    "#이렇게 해야된다\n",
    "print(f\"남학생의 수 : {x}\")\n",
    "print(f\"여학생의 수 : {y}\")\n",
    "print(x + y)"
   ]
  },
  {
   "cell_type": "code",
   "execution_count": 38,
   "id": "b0dd4996",
   "metadata": {},
   "outputs": [
    {
     "name": "stdout",
     "output_type": "stream",
     "text": [
      "더하기의 결과는 8 입니다. 5/3 = 1.6666666666666667\n"
     ]
    }
   ],
   "source": [
    "print(\"더하기의 결과는\", 5+3,\"입니다.\", end = \" \")  #print붙여쓰기. end = \"\"\n",
    "print(\"5/3 =\", 5/3)"
   ]
  },
  {
   "cell_type": "code",
   "execution_count": 40,
   "id": "d9f0da95",
   "metadata": {},
   "outputs": [
    {
     "name": "stdout",
     "output_type": "stream",
     "text": [
      "포맷 지정 출력: 정수 =    25, 실수 = 1.67\n"
     ]
    }
   ],
   "source": [
    "ivalue = 25\n",
    "print(f\"포맷 지정 출력: 정수 = {ivalue:5d}, 실수 = {5/3:.2f}\") #빈칸이랑 값 포함 5자리, 실수 소수점아래 2자리까지"
   ]
  },
  {
   "cell_type": "code",
   "execution_count": 43,
   "id": "dbdf58aa",
   "metadata": {},
   "outputs": [
    {
     "name": "stdout",
     "output_type": "stream",
     "text": [
      "01   1    1\n",
      "02   4    8\n",
      "03   9   27\n",
      "04  16   64\n",
      "05  25  125\n",
      "06  36  216\n",
      "07  49  343\n",
      "08  64  512\n",
      "09  81  729\n",
      "10 100 1000\n"
     ]
    }
   ],
   "source": [
    "for x in range(1, 11):\n",
    "    print(f\"{x:02} {x*x:3} {x*x*x:4}\")"
   ]
  },
  {
   "cell_type": "code",
   "execution_count": 45,
   "id": "aaf3ab81",
   "metadata": {},
   "outputs": [
    {
     "name": "stdout",
     "output_type": "stream",
     "text": [
      "정수를 입력하세요: 123\n",
      "123 + 123123 + 123123123 = 123246369\n"
     ]
    }
   ],
   "source": [
    "n = input(\"정수를 입력하세요: \")\n",
    "nn = n + n\n",
    "nnn = nn + n\n",
    "result = int(n) + int(nn) + int(nnn)\n",
    "print(f\"{n} + {nn} + {nnn} = {result}\")"
   ]
  },
  {
   "cell_type": "code",
   "execution_count": 46,
   "id": "1ef1582f",
   "metadata": {},
   "outputs": [
    {
     "name": "stdout",
     "output_type": "stream",
     "text": [
      "몸무게를 kg단위로 입력하시오: 3\n",
      "키를 m단위로 입력하시오: 4\n",
      "당신의 BMI= 0.1875\n"
     ]
    }
   ],
   "source": [
    "weight = float(input(\"몸무게를 kg단위로 입력하시오: \"))\n",
    "height = float(input(\"키를 m단위로 입력하시오: \"))\n",
    "\n",
    "bmi = (weight/(height**2))\n",
    "print(\"당신의 BMI=\", bmi)"
   ]
  },
  {
   "cell_type": "code",
   "execution_count": 47,
   "id": "c4185191",
   "metadata": {},
   "outputs": [
    {
     "name": "stdout",
     "output_type": "stream",
     "text": [
      "네 자리 정수를 입력하세요: 1234\n",
      "10\n"
     ]
    }
   ],
   "source": [
    "num = int(input(\"네 자리 정수를 입력하세요: \"))\n",
    "first = num//1000\n",
    "second = num%1000//100\n",
    "third = num%100//10\n",
    "fourth = num%10\n",
    "print(first+second+third+fourth)"
   ]
  },
  {
   "cell_type": "code",
   "execution_count": 48,
   "id": "a462d49a",
   "metadata": {},
   "outputs": [
    {
     "name": "stdout",
     "output_type": "stream",
     "text": [
      "네 자리 정수를 입력하세요: 1234\n",
      "자리수의 합 = 10\n"
     ]
    }
   ],
   "source": [
    "n = input(\"네 자리 정수를 입력하세요: \")\n",
    "print(f\"자리수의 합 = {int(n[0])+int(n[1])+int(n[2])+int(n[3])}\")"
   ]
  },
  {
   "cell_type": "code",
   "execution_count": 1,
   "id": "985351b7",
   "metadata": {},
   "outputs": [
    {
     "ename": "Terminator",
     "evalue": "",
     "output_type": "error",
     "traceback": [
      "\u001b[0;31m---------------------------------------------------------------------------\u001b[0m",
      "\u001b[0;31mTerminator\u001b[0m                                Traceback (most recent call last)",
      "\u001b[0;32m/var/folders/tk/_xgwj1jx765d70vyp9fbnn140000gn/T/ipykernel_6053/182630437.py\u001b[0m in \u001b[0;36m<module>\u001b[0;34m\u001b[0m\n\u001b[1;32m      8\u001b[0m \u001b[0;34m\u001b[0m\u001b[0m\n\u001b[1;32m      9\u001b[0m \u001b[0mturtle\u001b[0m\u001b[0;34m.\u001b[0m\u001b[0mmainloop\u001b[0m\u001b[0;34m(\u001b[0m\u001b[0;34m)\u001b[0m\u001b[0;34m\u001b[0m\u001b[0;34m\u001b[0m\u001b[0m\n\u001b[0;32m---> 10\u001b[0;31m \u001b[0mturtle\u001b[0m\u001b[0;34m.\u001b[0m\u001b[0mbye\u001b[0m\u001b[0;34m(\u001b[0m\u001b[0;34m)\u001b[0m\u001b[0;34m\u001b[0m\u001b[0;34m\u001b[0m\u001b[0m\n\u001b[0m",
      "\u001b[0;32m~/opt/anaconda3/envs/vrconda/lib/python3.7/turtle.py\u001b[0m in \u001b[0;36mbye\u001b[0;34m()\u001b[0m\n",
      "\u001b[0;31mTerminator\u001b[0m: "
     ]
    }
   ],
   "source": [
    "import turtle\n",
    "t = turtle.Turtle()\n",
    "\n",
    "for i in range(0,5):\n",
    "    t.width(4)\n",
    "    t.forward(200)\n",
    "    t.right(144)\n",
    "    \n",
    "turtle.mainloop()\n",
    "turtle.bye()\n"
   ]
  },
  {
   "cell_type": "code",
   "execution_count": 2,
   "id": "4fd00f58",
   "metadata": {},
   "outputs": [
    {
     "name": "stdout",
     "output_type": "stream",
     "text": [
      "time.struct_time(tm_year=2022, tm_mon=7, tm_mday=18, tm_hour=11, tm_min=33, tm_sec=29, tm_wday=0, tm_yday=199, tm_isdst=0)\n",
      "2022\n"
     ]
    }
   ],
   "source": [
    "import time\n",
    "now = time.localtime()\n",
    "print(now)\n",
    "print(now.tm_year)"
   ]
  },
  {
   "cell_type": "code",
   "execution_count": 9,
   "id": "6966cebf",
   "metadata": {},
   "outputs": [
    {
     "name": "stdout",
     "output_type": "stream",
     "text": [
      "주민등록번호 앞 6자리를 입력: 970304\n",
      "나이 = 26\n"
     ]
    }
   ],
   "source": [
    "birth = int(input(\"주민등록번호 앞 6자리를 입력: \"))\n",
    "year = 1900 + birth//10000\n",
    "now = time.localtime()\n",
    "n_year = now.tm_year\n",
    "print(f\"나이 = {n_year - year+ 1}\")"
   ]
  },
  {
   "cell_type": "markdown",
   "id": "f9da6c20",
   "metadata": {},
   "source": [
    "# 조건문"
   ]
  },
  {
   "cell_type": "code",
   "execution_count": 15,
   "id": "c3a6a457",
   "metadata": {},
   "outputs": [
    {
     "name": "stdout",
     "output_type": "stream",
     "text": [
      "F\n"
     ]
    }
   ],
   "source": [
    "grade = 60\n",
    "if grade >= 90:\n",
    "    print(\"A\")\n",
    "elif grade >= 80:\n",
    "    print(\"B\")\n",
    "elif grade >= 70:\n",
    "    print(\"C\")\n",
    "else :\n",
    "    print(\"F\")"
   ]
  },
  {
   "cell_type": "code",
   "execution_count": 17,
   "id": "8893a6a8",
   "metadata": {},
   "outputs": [
    {
     "name": "stdout",
     "output_type": "stream",
     "text": [
      "True\n",
      "False\n"
     ]
    }
   ],
   "source": [
    "s1 = \"Audrey Hepburn\"\n",
    "s2 = \"Audrey Hepburn\"\n",
    "print(s1 == s2)\n",
    "print(s1 is s2)"
   ]
  },
  {
   "cell_type": "code",
   "execution_count": 32,
   "id": "ea70a2b3",
   "metadata": {},
   "outputs": [
    {
     "name": "stdout",
     "output_type": "stream",
     "text": [
      "True\n",
      "True\n"
     ]
    }
   ],
   "source": [
    "s1 = \"AudreyHepburn\"\n",
    "s2 = \"AudreyHepburn\"\n",
    "print(s1 == s2)\n",
    "print(s1 is s2) #띄워쓰기 없으면 같은거?"
   ]
  },
  {
   "cell_type": "code",
   "execution_count": 20,
   "id": "15095e38",
   "metadata": {},
   "outputs": [
    {
     "data": {
      "text/plain": [
       "9"
      ]
     },
     "execution_count": 20,
     "metadata": {},
     "output_type": "execute_result"
    }
   ],
   "source": [
    "import random\n",
    "random.random() #0~1사이의 실수 생성\n",
    "random.randint(3,10) #3이상 10이하의 임의의 정수 반환"
   ]
  },
  {
   "cell_type": "code",
   "execution_count": 30,
   "id": "3c05f453",
   "metadata": {},
   "outputs": [
    {
     "name": "stdout",
     "output_type": "stream",
     "text": [
      "4자리 정수를 입력하세요 : 1223\n",
      "오후 12시 23분\n"
     ]
    }
   ],
   "source": [
    "s = input(\"4자리 정수를 입력하세요 : \")\n",
    "hour = s[0] + s[1]\n",
    "n_hour = int(hour)\n",
    "\n",
    "mint = s[2] + s[3]\n",
    "if n_hour > 12:\n",
    "    n_hour = n_hour - 12\n",
    "    print(f\"오후 {n_hour}시 {mint}분\")\n",
    "elif n_hour == 12:\n",
    "    print(f\"오후 12시 {mint}분\")\n",
    "elif n_hour == 0:\n",
    "    print(f\"오전 12시 {mint}분\")\n",
    "else:\n",
    "    print(f\"오전 {n_hour}시 {mint}분\")"
   ]
  },
  {
   "cell_type": "code",
   "execution_count": 41,
   "id": "28058c8e",
   "metadata": {},
   "outputs": [
    {
     "name": "stdout",
     "output_type": "stream",
     "text": [
      "입력: 1100\n",
      "윤년이 아닙니다.\n"
     ]
    }
   ],
   "source": [
    "year = int(input(\"입력: \"))\n",
    "\n",
    "if year % 400 == 0 or year %4 == 0 and year % 100 != 0:  #and가 or보다 먼저 계산\n",
    "    print(\"윤년입니다.\")\n",
    "else:\n",
    "    print(\"윤년이 아닙니다.\")"
   ]
  },
  {
   "cell_type": "code",
   "execution_count": 45,
   "id": "aba1e969",
   "metadata": {},
   "outputs": [
    {
     "name": "stdout",
     "output_type": "stream",
     "text": [
      "a b c입력: 12.2 3.2 2.1\n",
      "제일 큰 수는 A(12.2)\n"
     ]
    }
   ],
   "source": [
    "a, b, c = [float(x) for x in input(\"a b c입력: \").split()]\n",
    "\n",
    "if a>b:\n",
    "    if a>c:\n",
    "        print(f\"제일 큰 수는 A({a})\")\n",
    "    else:\n",
    "        print(f\"제일 큰 수는 C({c})\")\n",
    "else:\n",
    "    if b>c:\n",
    "        print(f\"제일 큰 수는 b({b})\")\n",
    "    else:\n",
    "        print(f\"제일 큰 수는 c({c})\")\n"
   ]
  },
  {
   "cell_type": "code",
   "execution_count": 48,
   "id": "6036f578",
   "metadata": {},
   "outputs": [
    {
     "name": "stdout",
     "output_type": "stream",
     "text": [
      "번호를 입력하세요(0~36): 11\n",
      "검정색\n"
     ]
    }
   ],
   "source": [
    "x = int(input(\"번호를 입력하세요(0~36): \"))\n",
    "\n",
    "if x<0 or x>36:\n",
    "    print(\"잘못된 번호 입니다.\")\n",
    "else:\n",
    "    if x == 0:\n",
    "        print(\"초록색\")\n",
    "    elif x<=10 or 19<=x<=28:\n",
    "        if x%2==1:\n",
    "            print(\"빨강색\")\n",
    "        else:\n",
    "            print(\"검정색\")\n",
    "    else:\n",
    "        if x%2==1:\n",
    "            print(\"검정색\")\n",
    "        else:\n",
    "            print(\"빨강색\")\n"
   ]
  },
  {
   "cell_type": "code",
   "execution_count": 54,
   "id": "656e4e62",
   "metadata": {},
   "outputs": [
    {
     "name": "stdout",
     "output_type": "stream",
     "text": [
      "좌표 x, y를 입력하세요: 1,1\n",
      "원의 내부에 있음\n"
     ]
    }
   ],
   "source": [
    "x, y = [int(a) for a in input(\"좌표 x, y를 입력하세요: \").split(\",\")]\n",
    "if 25 >= x**2 + y**2:\n",
    "    print(\"원의 내부에 있음\")\n",
    "else:\n",
    "    print(\"원의 외부에 있음\")"
   ]
  },
  {
   "cell_type": "code",
   "execution_count": 56,
   "id": "0e9638fd",
   "metadata": {},
   "outputs": [
    {
     "name": "stdout",
     "output_type": "stream",
     "text": [
      "[1, 2, 3, 4]\n",
      "2\n",
      "2\n"
     ]
    }
   ],
   "source": [
    "list = []\n",
    "list.append(1)\n",
    "list.append(2)\n",
    "list.append(3)\n",
    "list.append(4)\n",
    "print(list)\n",
    "print(list[1])\n",
    "print(list[-3]) # 뒤에서부터는 음수 -1부터"
   ]
  },
  {
   "cell_type": "code",
   "execution_count": 58,
   "id": "a3e67984",
   "metadata": {},
   "outputs": [
    {
     "name": "stdout",
     "output_type": "stream",
     "text": [
      "1\n",
      "2\n",
      "3\n",
      "4\n",
      "5\n"
     ]
    }
   ],
   "source": [
    "for i in[1,2,3,4,5]:\n",
    "    print(i)"
   ]
  },
  {
   "cell_type": "code",
   "execution_count": 59,
   "id": "3072aff5",
   "metadata": {},
   "outputs": [
    {
     "name": "stdout",
     "output_type": "stream",
     "text": [
      "0\n",
      "1\n",
      "2\n",
      "3\n",
      "4\n"
     ]
    }
   ],
   "source": [
    "for i in range(5): #0부터 5전까지\n",
    "    print(i)"
   ]
  },
  {
   "cell_type": "code",
   "execution_count": 60,
   "id": "42e7571b",
   "metadata": {},
   "outputs": [
    {
     "name": "stdout",
     "output_type": "stream",
     "text": [
      "1\n",
      "2\n",
      "3\n",
      "4\n"
     ]
    }
   ],
   "source": [
    "for i in range(1,5): #1부터 5전까지\n",
    "    print(i)"
   ]
  },
  {
   "cell_type": "code",
   "execution_count": 61,
   "id": "e85279ac",
   "metadata": {},
   "outputs": [
    {
     "name": "stdout",
     "output_type": "stream",
     "text": [
      "1\n",
      "3\n"
     ]
    }
   ],
   "source": [
    "for i in range(1,5,2): #1부터 5전까지 2씩커짐\n",
    "    print(i)"
   ]
  },
  {
   "cell_type": "code",
   "execution_count": 62,
   "id": "0cfefbd5",
   "metadata": {},
   "outputs": [
    {
     "name": "stdout",
     "output_type": "stream",
     "text": [
      "10\n",
      "9\n",
      "8\n",
      "7\n",
      "6\n",
      "5\n",
      "4\n",
      "3\n",
      "2\n",
      "1\n"
     ]
    }
   ],
   "source": [
    "for i in range(10,0,-1): #10부터 0전까지 -1씩\n",
    "    print(i)"
   ]
  },
  {
   "cell_type": "code",
   "execution_count": 64,
   "id": "406ad97d",
   "metadata": {},
   "outputs": [
    {
     "name": "stdout",
     "output_type": "stream",
     "text": [
      "정수를 입력하시오: 3\n",
      "3!은 6이다.\n"
     ]
    }
   ],
   "source": [
    "n = int(input(\"정수를 입력하시오: \"))\n",
    "fact = 1\n",
    "for i in range(1,n+1):\n",
    "    fact = fact*i;\n",
    "print(f\"{n}!은 {fact}이다.\")"
   ]
  },
  {
   "cell_type": "code",
   "execution_count": 65,
   "id": "f293e2a1",
   "metadata": {},
   "outputs": [
    {
     "name": "stdout",
     "output_type": "stream",
     "text": [
      "정수를 입력하시오: 10\n",
      "2.9289682539682538\n"
     ]
    }
   ],
   "source": [
    "n = int(input(\"정수를 입력하시오: \"))\n",
    "\n",
    "result = 0\n",
    "for i in range(1, n+1):\n",
    "    result += 1/i\n",
    "print(result)"
   ]
  },
  {
   "cell_type": "code",
   "execution_count": 71,
   "id": "1e4ff523",
   "metadata": {},
   "outputs": [
    {
     "name": "stdout",
     "output_type": "stream",
     "text": [
      "정수를 입력하시오: 10\n",
      "1.5497677311665408\n"
     ]
    }
   ],
   "source": [
    "n = int(input(\"정수를 입력하시오: \"))\n",
    "\n",
    "result = 0\n",
    "for i in range(1, n+1):\n",
    "    result += 1/(i**2)\n",
    "print(result)"
   ]
  },
  {
   "cell_type": "code",
   "execution_count": 72,
   "id": "c8696cb0",
   "metadata": {},
   "outputs": [
    {
     "name": "stdout",
     "output_type": "stream",
     "text": [
      "정수를 입력하시오: 10\n",
      "22.218650793650795\n"
     ]
    }
   ],
   "source": [
    "n = int(input(\"정수를 입력하시오: \"))\n",
    "\n",
    "result = 0\n",
    "for i in range(0, n):\n",
    "    result += (i+1)/(n-i)\n",
    "print(result)"
   ]
  },
  {
   "cell_type": "code",
   "execution_count": 74,
   "id": "0808cba6",
   "metadata": {},
   "outputs": [
    {
     "name": "stdout",
     "output_type": "stream",
     "text": [
      "46.10464832285218\n"
     ]
    }
   ],
   "source": [
    "result = 0\n",
    "for i in range(1,100,2):\n",
    "    result += i/(i+2)\n",
    "print(result)"
   ]
  },
  {
   "cell_type": "code",
   "execution_count": 77,
   "id": "52095a6b",
   "metadata": {},
   "outputs": [
    {
     "name": "stdout",
     "output_type": "stream",
     "text": [
      "153 : 1 + 125 +27\n",
      "370 : 27 + 343 +0\n",
      "371 : 27 + 343 +1\n",
      "407 : 64 + 0 +343\n"
     ]
    }
   ],
   "source": [
    "for i in range(100,1000):\n",
    "    if (i//100)**3 + (i%100//10)**3 + (i%10)**3 == i:\n",
    "        print(f\"{i} : {(i//100)**3} + {(i%100//10)**3} +{(i%10)**3}\")"
   ]
  },
  {
   "cell_type": "code",
   "execution_count": 104,
   "id": "9ac844d2",
   "metadata": {},
   "outputs": [
    {
     "data": {
      "text/plain": [
       "<function turtle.bye()>"
      ]
     },
     "execution_count": 104,
     "metadata": {},
     "output_type": "execute_result"
    }
   ],
   "source": [
    "import turtle\n",
    "turtle.colormode(255)\n",
    "t = turtle.Turtle()\n",
    "t.speed(0)\n",
    "screen = turtle.Screen()\n",
    "\n",
    "r = 255\n",
    "g = 0\n",
    "b = 0\n",
    "for i in range(120):\n",
    "    r -= 1\n",
    "    r = r%255\n",
    "    g += 2\n",
    "    g = g%255\n",
    "    b += 3\n",
    "    b = b%255\n",
    "    t.color(r, g, b)\n",
    "    t.circle(120)\n",
    "    t.right(3)\n",
    "turtle.mainloop()\n",
    "turtle.bye"
   ]
  },
  {
   "cell_type": "code",
   "execution_count": 107,
   "id": "89a9ea51",
   "metadata": {},
   "outputs": [
    {
     "name": "stdout",
     "output_type": "stream",
     "text": [
      "루프안쪽: i = 0\n",
      "루프안쪽: i = 1\n",
      "루프안쪽: i = 2\n",
      "else 부분: i = 3\n"
     ]
    }
   ],
   "source": [
    "i = 0\n",
    "while i<3:\n",
    "    print(f\"루프안쪽: i = {i}\")\n",
    "    i = i+1\n",
    "else:\n",
    "    print(f\"else 부분: i = {i}\")"
   ]
  },
  {
   "cell_type": "code",
   "execution_count": 113,
   "id": "914e853b",
   "metadata": {},
   "outputs": [
    {
     "name": "stdout",
     "output_type": "stream",
     "text": [
      "입력: 1\n",
      "입력: 2\n",
      "입력: 3\n",
      "입력: 4\n",
      "입력: 5\n",
      "입력: 6\n",
      "입력: 7\n",
      "입력: 8\n",
      "입력: 9\n",
      "입력: 10\n",
      "입력: -1\n",
      "출력: 5.5\n"
     ]
    }
   ],
   "source": [
    "count = 0\n",
    "sum = 0\n",
    "while True:\n",
    "    n = int(input(\"입력: \"))\n",
    "    if n==-1:\n",
    "        break;\n",
    "    sum+=n\n",
    "    count+=1\n",
    "print(f\"출력: {sum/count}\")"
   ]
  },
  {
   "cell_type": "code",
   "execution_count": 128,
   "id": "76022ef4",
   "metadata": {},
   "outputs": [
    {
     "name": "stdout",
     "output_type": "stream",
     "text": [
      "푸른색 거북이가 이겼습니다.\n"
     ]
    },
    {
     "ename": "Terminator",
     "evalue": "",
     "output_type": "error",
     "traceback": [
      "\u001b[0;31m---------------------------------------------------------------------------\u001b[0m",
      "\u001b[0;31mTerminator\u001b[0m                                Traceback (most recent call last)",
      "\u001b[0;32m/var/folders/tk/_xgwj1jx765d70vyp9fbnn140000gn/T/ipykernel_6053/1654096658.py\u001b[0m in \u001b[0;36m<module>\u001b[0;34m\u001b[0m\n\u001b[1;32m     45\u001b[0m \u001b[0;34m\u001b[0m\u001b[0m\n\u001b[1;32m     46\u001b[0m \u001b[0mturtle\u001b[0m\u001b[0;34m.\u001b[0m\u001b[0mmainloop\u001b[0m\u001b[0;34m(\u001b[0m\u001b[0;34m)\u001b[0m\u001b[0;34m\u001b[0m\u001b[0;34m\u001b[0m\u001b[0m\n\u001b[0;32m---> 47\u001b[0;31m \u001b[0mturtle\u001b[0m\u001b[0;34m.\u001b[0m\u001b[0mbye\u001b[0m\u001b[0;34m(\u001b[0m\u001b[0;34m)\u001b[0m\u001b[0;34m\u001b[0m\u001b[0;34m\u001b[0m\u001b[0m\n\u001b[0m",
      "\u001b[0;32m~/opt/anaconda3/envs/vrconda/lib/python3.7/turtle.py\u001b[0m in \u001b[0;36mbye\u001b[0;34m()\u001b[0m\n",
      "\u001b[0;31mTerminator\u001b[0m: "
     ]
    }
   ],
   "source": [
    "import turtle\n",
    "import time\n",
    "import random\n",
    "\n",
    "blue = turtle.Turtle()\n",
    "red = turtle.Turtle()\n",
    "blue.color(\"blue\")\n",
    "red.color(\"red\")\n",
    "blue.up()\n",
    "red.up()\n",
    "blue.goto(300,60)\n",
    "blue.down()\n",
    "blue.circle(40)\n",
    "blue.up()\n",
    "blue.goto(300,100)\n",
    "blue.down()\n",
    "blue.dot()\n",
    "blue.up()\n",
    "blue.goto(-200,100)\n",
    "blue.down()\n",
    "red.goto(300,-140)\n",
    "red.down()\n",
    "red.circle(40)\n",
    "red.up()\n",
    "red.goto(300,-100)\n",
    "red.down()\n",
    "red.dot()\n",
    "red.up()\n",
    "red.goto(-200,-100)\n",
    "red.down()\n",
    "\n",
    "while True:\n",
    "    blue.fd(random.randint(1,6)*20)\n",
    "    red.fd(random.randint(1,6)*20)\n",
    "    if blue.pos() >= (300,100) or red.pos() >= (300,-100):\n",
    "        break\n",
    "    time.sleep(0.2)\n",
    "    \n",
    "if blue.pos() < (300,100):\n",
    "    print(\"붉은색 거북이가 이겼습니다.\")\n",
    "elif red.pos() < (300,-100):\n",
    "    print(\"푸른색 거북이가 이겼습니다.\")\n",
    "else:\n",
    "    print(\"비겼습니다.\")\n",
    "\n",
    "turtle.mainloop()\n",
    "turtle.bye()"
   ]
  },
  {
   "cell_type": "code",
   "execution_count": null,
   "id": "d2eee1c2",
   "metadata": {},
   "outputs": [],
   "source": [
    "import random\n",
    "\n",
    "initial_money = 50\n",
    "goal = 250\n",
    "wins = 0\n",
    "\n",
    "for i in range(100):\n",
    "    cash = initial_money\n",
    "    while cash>0 and cash<goal:\n",
    "        number = random.randint(1,2)\n",
    "        if number ==1:\n",
    "            cash = chash+1\n",
    "        else:\n",
    "            cash = cash -1\n",
    "    ifcash == goal:wins=wins+1\n",
    "        \n",
    "print(f\"초기 금액 {initial_money}\")\n",
    "print(f\"목표 금액 {goal}\")\n",
    "print(f\"100번 중에서 {wins}번 성공\")"
   ]
  },
  {
   "cell_type": "code",
   "execution_count": 19,
   "id": "345f0c3e",
   "metadata": {},
   "outputs": [
    {
     "ename": "Terminator",
     "evalue": "",
     "output_type": "error",
     "traceback": [
      "\u001b[0;31m---------------------------------------------------------------------------\u001b[0m",
      "\u001b[0;31mTerminator\u001b[0m                                Traceback (most recent call last)",
      "\u001b[0;32m/var/folders/tk/_xgwj1jx765d70vyp9fbnn140000gn/T/ipykernel_6788/3846191855.py\u001b[0m in \u001b[0;36m<module>\u001b[0;34m\u001b[0m\n\u001b[1;32m     11\u001b[0m \u001b[0;34m\u001b[0m\u001b[0m\n\u001b[1;32m     12\u001b[0m \u001b[0mturtle\u001b[0m\u001b[0;34m.\u001b[0m\u001b[0mmainloop\u001b[0m\u001b[0;34m(\u001b[0m\u001b[0;34m)\u001b[0m\u001b[0;34m\u001b[0m\u001b[0;34m\u001b[0m\u001b[0m\n\u001b[0;32m---> 13\u001b[0;31m \u001b[0mturtle\u001b[0m\u001b[0;34m.\u001b[0m\u001b[0mbye\u001b[0m\u001b[0;34m(\u001b[0m\u001b[0;34m)\u001b[0m\u001b[0;34m\u001b[0m\u001b[0;34m\u001b[0m\u001b[0m\n\u001b[0m",
      "\u001b[0;32m~/opt/anaconda3/envs/vrconda/lib/python3.7/turtle.py\u001b[0m in \u001b[0;36mbye\u001b[0;34m()\u001b[0m\n",
      "\u001b[0;31mTerminator\u001b[0m: "
     ]
    }
   ],
   "source": [
    "import turtle\n",
    "t = turtle.Turtle()\n",
    "t.speed(0.2)\n",
    "length = 10\n",
    "for i in range(20):\n",
    "    for j in range(4):\n",
    "        t.left(90)\n",
    "        t.fd(length)\n",
    "        length+=10\n",
    "        \n",
    "\n",
    "turtle.mainloop()\n",
    "turtle.bye()"
   ]
  },
  {
   "cell_type": "code",
   "execution_count": 20,
   "id": "dced587c",
   "metadata": {},
   "outputs": [
    {
     "ename": "Terminator",
     "evalue": "",
     "output_type": "error",
     "traceback": [
      "\u001b[0;31m---------------------------------------------------------------------------\u001b[0m",
      "\u001b[0;31mTerminator\u001b[0m                                Traceback (most recent call last)",
      "\u001b[0;32m/var/folders/tk/_xgwj1jx765d70vyp9fbnn140000gn/T/ipykernel_6788/3266869007.py\u001b[0m in \u001b[0;36m<module>\u001b[0;34m\u001b[0m\n\u001b[1;32m     11\u001b[0m \u001b[0;34m\u001b[0m\u001b[0m\n\u001b[1;32m     12\u001b[0m \u001b[0mturtle\u001b[0m\u001b[0;34m.\u001b[0m\u001b[0mmainloop\u001b[0m\u001b[0;34m(\u001b[0m\u001b[0;34m)\u001b[0m\u001b[0;34m\u001b[0m\u001b[0;34m\u001b[0m\u001b[0m\n\u001b[0;32m---> 13\u001b[0;31m \u001b[0mturtle\u001b[0m\u001b[0;34m.\u001b[0m\u001b[0mbye\u001b[0m\u001b[0;34m(\u001b[0m\u001b[0;34m)\u001b[0m\u001b[0;34m\u001b[0m\u001b[0;34m\u001b[0m\u001b[0m\n\u001b[0m",
      "\u001b[0;32m~/opt/anaconda3/envs/vrconda/lib/python3.7/turtle.py\u001b[0m in \u001b[0;36mbye\u001b[0;34m()\u001b[0m\n",
      "\u001b[0;31mTerminator\u001b[0m: "
     ]
    }
   ],
   "source": [
    "import turtle\n",
    "t = turtle.Turtle()\n",
    "t.speed(0.2)\n",
    "length = 0\n",
    "for i in range(20):\n",
    "    length+=10\n",
    "    for j in range(4):\n",
    "        t.left(90)\n",
    "        t.fd(length)\n",
    "        \n",
    "\n",
    "turtle.mainloop()\n",
    "turtle.bye()"
   ]
  },
  {
   "cell_type": "code",
   "execution_count": 17,
   "id": "f9201b33",
   "metadata": {},
   "outputs": [
    {
     "name": "stdout",
     "output_type": "stream",
     "text": [
      "1부터 10사이의 정수를 입력하세요 : 5\n",
      "  1   2   3   4   5 \n",
      "  6   7   8   9  10 \n",
      " 11  12  13  14  15 \n",
      " 16  17  18  19  20 \n",
      " 21  22  23  24  25 \n"
     ]
    }
   ],
   "source": [
    "n = int(input(\"1부터 10사이의 정수를 입력하세요 : \"))\n",
    "a = 1\n",
    "for i in range(n):\n",
    "    for j in range(n):\n",
    "        print(f\"{a:3d}\",end=\" \")\n",
    "        a+=1\n",
    "    print()"
   ]
  },
  {
   "cell_type": "code",
   "execution_count": 18,
   "id": "ffcb962a",
   "metadata": {},
   "outputs": [
    {
     "name": "stdout",
     "output_type": "stream",
     "text": [
      "1부터 10사이의 정수를 입력하세요 : 5\n",
      "  1   6  11  16  21 \n",
      "  2   7  12  17  22 \n",
      "  3   8  13  18  23 \n",
      "  4   9  14  19  24 \n",
      "  5  10  15  20  25 \n"
     ]
    }
   ],
   "source": [
    "n = int(input(\"1부터 10사이의 정수를 입력하세요 : \"))\n",
    "a = 1\n",
    "for i in range(n):\n",
    "    a = i+1\n",
    "    for j in range(n):\n",
    "        print(f\"{a:3d}\",end=\" \")\n",
    "        a+=n\n",
    "    print()"
   ]
  },
  {
   "cell_type": "code",
   "execution_count": 23,
   "id": "c9fb082b",
   "metadata": {},
   "outputs": [
    {
     "name": "stdout",
     "output_type": "stream",
     "text": [
      "1부터 10사이의 정수를 입력하세요 : 7\n",
      "  1   2   3   4   5   6   7 \n",
      " 14  13  12  11  10   9   8 \n",
      " 15  16  17  18  19  20  21 \n",
      " 28  27  26  25  24  23  22 \n",
      " 29  30  31  32  33  34  35 \n",
      " 42  41  40  39  38  37  36 \n",
      " 43  44  45  46  47  48  49 \n"
     ]
    }
   ],
   "source": [
    "n = int(input(\"1부터 10사이의 정수를 입력하세요 : \"))\n",
    "a = 1\n",
    "for i in range(n):\n",
    "    if i%2 == 0:\n",
    "        a = i*n+1\n",
    "        for j in range(n):\n",
    "            print(f\"{a:3d}\",end=\" \")\n",
    "            a+=1\n",
    "    else:\n",
    "        a = (i+1)*n\n",
    "        for j in range(n):\n",
    "            print(f\"{a:3d}\",end=\" \")\n",
    "            a-=1\n",
    "    print()"
   ]
  },
  {
   "cell_type": "code",
   "execution_count": 53,
   "id": "c27aa477",
   "metadata": {},
   "outputs": [
    {
     "name": "stdout",
     "output_type": "stream",
     "text": [
      "홀수 정수를 입력하세요 : 19\n",
      "1                                   2 \n",
      "3 4                               5 6 \n",
      "7 8 9                           1 2 3 \n",
      "4 5 6 7                       8 9 1 2 \n",
      "3 4 5 6 7                   8 9 1 2 3 \n",
      "4 5 6 7 8 9               1 2 3 4 5 6 \n",
      "7 8 9 1 2 3 4           5 6 7 8 9 1 2 \n",
      "3 4 5 6 7 8 9 1       2 3 4 5 6 7 8 9 \n",
      "1 2 3 4 5 6 7 8 9   1 2 3 4 5 6 7 8 9 \n",
      "1 2 3 4 5 6 7 8 9 1 2 3 4 5 6 7 8 9 1 \n",
      "2 3 4 5 6 7 8 9 1   2 3 4 5 6 7 8 9 1 \n",
      "2 3 4 5 6 7 8 9       1 2 3 4 5 6 7 8 \n",
      "9 1 2 3 4 5 6           7 8 9 1 2 3 4 \n",
      "5 6 7 8 9 1               2 3 4 5 6 7 \n",
      "8 9 1 2 3                   4 5 6 7 8 \n",
      "9 1 2 3                       4 5 6 7 \n",
      "8 9 1                           2 3 4 \n",
      "5 6                               7 8 \n",
      "9                                   1 \n"
     ]
    }
   ],
   "source": [
    "\n",
    "n = int(input(\"홀수 정수를 입력하세요 : \"))\n",
    "a = 0\n",
    "for i in range(n):\n",
    "    a = a%9\n",
    "    for j in range(n):\n",
    "        if(i>n/2):\n",
    "            if i<=j or j<=n-1-i:\n",
    "                print(f\"{a%9+1:1d}\",end=\" \")\n",
    "                a+=1\n",
    "            else:\n",
    "                print(f\" \",end=\" \")\n",
    "        else:\n",
    "            if i>=j or j>=n-1-i:\n",
    "                print(f\"{a%9+1:1d}\",end=\" \")\n",
    "                a+=1\n",
    "            else:\n",
    "                print(f\" \",end=\" \")\n",
    "    print()"
   ]
  },
  {
   "cell_type": "code",
   "execution_count": 34,
   "id": "2e50dd0e",
   "metadata": {},
   "outputs": [
    {
     "name": "stdout",
     "output_type": "stream",
     "text": [
      "31.400000000000002\n",
      "25.12\n"
     ]
    }
   ],
   "source": [
    "def get_peri(radius = 5.0):\n",
    "    print(f\"{2*radius*3.14}\")\n",
    "    \n",
    "get_peri()\n",
    "get_peri(4.0)"
   ]
  },
  {
   "cell_type": "code",
   "execution_count": 40,
   "id": "39596334",
   "metadata": {},
   "outputs": [
    {
     "name": "stdout",
     "output_type": "stream",
     "text": [
      "2\n",
      "3\n",
      "5\n"
     ]
    }
   ],
   "source": [
    "\n",
    "def max_data(*num):\n",
    "    print(max(num))\n",
    "\n",
    "max_data(1,2)\n",
    "max_data(1,3,2)\n",
    "max_data(1,4,5,2)"
   ]
  },
  {
   "cell_type": "code",
   "execution_count": 49,
   "id": "4c7cfb5f",
   "metadata": {},
   "outputs": [],
   "source": [
    "import random\n",
    "def password_test():\n",
    "    word = \"abcdefghijklmnopqrstuvwxyz0123456789\"\n",
    "    msg=[\"\",\"\",\"\"]\n",
    "    for j in range(3):\n",
    "        for i in range(6):\n",
    "            #print(random.choice(word),end=\"\")\n",
    "            msg[j]+=random.choice(word)\n",
    "    return msg"
   ]
  },
  {
   "cell_type": "code",
   "execution_count": 50,
   "id": "4509737f",
   "metadata": {},
   "outputs": [
    {
     "name": "stdout",
     "output_type": "stream",
     "text": [
      "['ops244', 'lvjn8p', 'm1zodx']\n",
      "['i6yizl', 'lwoyqa', 'dmq1xb']\n",
      "['xrlbht', '7yge87', 'rpwkp0']\n"
     ]
    }
   ],
   "source": [
    "print(password_test())\n",
    "print(password_test())\n",
    "print(password_test())"
   ]
  },
  {
   "cell_type": "code",
   "execution_count": 52,
   "id": "30af90cd",
   "metadata": {},
   "outputs": [
    {
     "name": "stdout",
     "output_type": "stream",
     "text": [
      "n : 194444\n",
      "194444 638935 1178771 2957482 5805074 10510159 105611660 171728161 333555332 567110665 1133122430 1475335741 \n",
      "11번 만에 회문을 생성하였습니다.(1475335741)\n"
     ]
    }
   ],
   "source": [
    "def reverse(n):\n",
    "    rn = 0\n",
    "    while n>0:\n",
    "        rn = rn*10 + n%10\n",
    "        n = n//10\n",
    "    return rn\n",
    "        \n",
    "n = int(input(\"n : \"))\n",
    "count = 0\n",
    "while n <2**31:\n",
    "    print(n, end = \" \")\n",
    "    rn = reverse(n)\n",
    "    if n == rn:\n",
    "        print(f\"\\n{count}번 만에 회문을 생성하였습니다.({n})\")\n",
    "        break\n",
    "    else:\n",
    "        count += 1\n",
    "        n += rn\n"
   ]
  },
  {
   "cell_type": "code",
   "execution_count": null,
   "id": "30b0d8c7",
   "metadata": {},
   "outputs": [],
   "source": []
  }
 ],
 "metadata": {
  "kernelspec": {
   "display_name": "Python 3 (ipykernel)",
   "language": "python",
   "name": "python3"
  },
  "language_info": {
   "codemirror_mode": {
    "name": "ipython",
    "version": 3
   },
   "file_extension": ".py",
   "mimetype": "text/x-python",
   "name": "python",
   "nbconvert_exporter": "python",
   "pygments_lexer": "ipython3",
   "version": "3.7.13"
  }
 },
 "nbformat": 4,
 "nbformat_minor": 5
}
