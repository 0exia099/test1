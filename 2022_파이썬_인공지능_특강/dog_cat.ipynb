{
 "cells": [
  {
   "cell_type": "code",
   "execution_count": 2,
   "metadata": {},
   "outputs": [],
   "source": [
    "from tensorflow.keras.preprocessing.image import ImageDataGenerator"
   ]
  },
  {
   "cell_type": "code",
   "execution_count": 3,
   "metadata": {},
   "outputs": [],
   "source": [
    "train_datagen = ImageDataGenerator(rescale = 1./255, shear_range = 0.2, zoom_range = 0.2, horizontal_flip=True)\n",
    "test_datagen = ImageDataGenerator(rescale=1./255)"
   ]
  },
  {
   "cell_type": "code",
   "execution_count": 13,
   "metadata": {},
   "outputs": [],
   "source": [
    "train_dir = './PetImages/train'\n",
    "test_dir='./PetImages/test'"
   ]
  },
  {
   "cell_type": "code",
   "execution_count": 14,
   "metadata": {},
   "outputs": [
    {
     "name": "stdout",
     "output_type": "stream",
     "text": [
      "Found 2000 images belonging to 2 classes.\n"
     ]
    }
   ],
   "source": [
    "train_generator = train_datagen.flow_from_directory(\n",
    "    train_dir,\n",
    "    target_size=(128,128),\n",
    "    batch_size=20,\n",
    "    class_mode='binary'\n",
    ")"
   ]
  },
  {
   "cell_type": "code",
   "execution_count": 15,
   "metadata": {},
   "outputs": [
    {
     "name": "stdout",
     "output_type": "stream",
     "text": [
      "Found 200 images belonging to 2 classes.\n"
     ]
    }
   ],
   "source": [
    "test_generator = test_datagen.flow_from_directory(\n",
    "    test_dir,\n",
    "    target_size=(128,128),\n",
    "    batch_size=20,\n",
    "    class_mode='binary'\n",
    ")"
   ]
  },
  {
   "cell_type": "code",
   "execution_count": 16,
   "metadata": {},
   "outputs": [],
   "source": [
    "from tensorflow import keras"
   ]
  },
  {
   "cell_type": "code",
   "execution_count": 17,
   "metadata": {},
   "outputs": [
    {
     "name": "stderr",
     "output_type": "stream",
     "text": [
      "2022-08-18 11:03:23.917639: I tensorflow/core/platform/cpu_feature_guard.cc:145] This TensorFlow binary is optimized with Intel(R) MKL-DNN to use the following CPU instructions in performance critical operations:  SSE4.1 SSE4.2\n",
      "To enable them in non-MKL-DNN operations, rebuild TensorFlow with the appropriate compiler flags.\n",
      "2022-08-18 11:03:23.918411: I tensorflow/core/common_runtime/process_util.cc:115] Creating new thread pool with default inter op setting: 10. Tune using inter_op_parallelism_threads for best performance.\n"
     ]
    }
   ],
   "source": [
    "model = keras.Sequential()\n",
    "\n",
    "model.add(keras.layers.Conv2D(32,(3,3), activation='relu', input_shape=(128,128,3)))\n",
    "model.add(keras.layers.MaxPooling2D(2,2))\n",
    "model.add(keras.layers.Conv2D(64, (3,3), activation='relu'))\n",
    "model.add(keras.layers.MaxPooling2D(2,2))\n",
    "model.add(keras.layers.Flatten())\n",
    "model.add(keras.layers.Dense(units=512, activation='relu'))\n",
    "model.add(keras.layers.Dense(units=1, activation='sigmoid'))"
   ]
  },
  {
   "cell_type": "code",
   "execution_count": 18,
   "metadata": {},
   "outputs": [],
   "source": [
    "model.compile(optimizer = 'adam', loss='binary_crossentropy', metrics=['accuracy'])"
   ]
  },
  {
   "cell_type": "code",
   "execution_count": 19,
   "metadata": {},
   "outputs": [
    {
     "name": "stdout",
     "output_type": "stream",
     "text": [
      "Epoch 1/10\n",
      "100/100 [==============================] - 76s 756ms/step - loss: 0.8108 - accuracy: 0.5520 - val_loss: 0.6794 - val_accuracy: 0.6300\n",
      "Epoch 2/10\n",
      "100/100 [==============================] - 76s 763ms/step - loss: 0.6716 - accuracy: 0.6025 - val_loss: 0.6538 - val_accuracy: 0.5800\n",
      "Epoch 3/10\n",
      "100/100 [==============================] - 74s 739ms/step - loss: 0.6328 - accuracy: 0.6560 - val_loss: 0.5736 - val_accuracy: 0.7100\n",
      "Epoch 4/10\n",
      "100/100 [==============================] - 74s 740ms/step - loss: 0.5927 - accuracy: 0.7065 - val_loss: 0.6389 - val_accuracy: 0.6600\n",
      "Epoch 5/10\n",
      "100/100 [==============================] - 74s 739ms/step - loss: 0.5872 - accuracy: 0.6840 - val_loss: 0.5979 - val_accuracy: 0.6600\n",
      "Epoch 6/10\n",
      "100/100 [==============================] - 73s 731ms/step - loss: 0.5535 - accuracy: 0.7180 - val_loss: 0.6411 - val_accuracy: 0.6700\n",
      "Epoch 7/10\n",
      "100/100 [==============================] - 73s 730ms/step - loss: 0.5287 - accuracy: 0.7300 - val_loss: 0.5845 - val_accuracy: 0.7200\n",
      "Epoch 8/10\n",
      "100/100 [==============================] - 74s 738ms/step - loss: 0.5071 - accuracy: 0.7505 - val_loss: 0.6228 - val_accuracy: 0.6700\n",
      "Epoch 9/10\n",
      "100/100 [==============================] - 73s 731ms/step - loss: 0.4970 - accuracy: 0.7645 - val_loss: 0.5846 - val_accuracy: 0.7300\n",
      "Epoch 10/10\n",
      "100/100 [==============================] - 73s 732ms/step - loss: 0.4690 - accuracy: 0.7800 - val_loss: 0.5898 - val_accuracy: 0.7700\n"
     ]
    }
   ],
   "source": [
    "#ImageData Generator를 사용하는 경우 fit()이 아니라 fit_generator()를 사용\n",
    "history = model.fit_generator(train_generator, steps_per_epoch=100, epochs=10, validation_data=test_generator, validation_steps=5)"
   ]
  },
  {
   "cell_type": "code",
   "execution_count": 20,
   "metadata": {},
   "outputs": [],
   "source": [
    "model.save('dog_cat_model.h5')"
   ]
  },
  {
   "cell_type": "code",
   "execution_count": 21,
   "metadata": {},
   "outputs": [
    {
     "data": {
      "image/png": "[encoded data removed]",
      "text/plain": [
       "<Figure size 432x288 with 1 Axes>"
      ]
     },
     "metadata": {
      "needs_background": "light"
     },
     "output_type": "display_data"
    }
   ],
   "source": [
    "import matplotlib.pyplot as plt\n",
    "\n",
    "plt.plot(history.history['loss'])\n",
    "plt.plot(history.history['val_loss'])\n",
    "plt.xlabel('epoch')\n",
    "plt.ylabel('loss')\n",
    "plt.legend(['train', 'val'])\n",
    "plt.show()"
   ]
  },
  {
   "cell_type": "code",
   "execution_count": 23,
   "metadata": {},
   "outputs": [
    {
     "name": "stdout",
     "output_type": "stream",
     "text": [
      "10/10 [==============================] - 4s 405ms/step - loss: 0.5851 - accuracy: 0.7450\n"
     ]
    },
    {
     "data": {
      "text/plain": [
       "[0.5851174741983414, 0.745]"
      ]
     },
     "execution_count": 23,
     "metadata": {},
     "output_type": "execute_result"
    }
   ],
   "source": [
    "model.evaluate(test_generator)"
   ]
  },
  {
   "cell_type": "code",
   "execution_count": 25,
   "metadata": {},
   "outputs": [
    {
     "name": "stdout",
     "output_type": "stream",
     "text": [
      "Epoch 1/20\n",
      "100/100 [==============================] - 75s 748ms/step - loss: 0.7575 - accuracy: 0.5870 - val_loss: 0.6668 - val_accuracy: 0.6200\n",
      "Epoch 2/20\n",
      "100/100 [==============================] - 75s 754ms/step - loss: 0.6384 - accuracy: 0.6430 - val_loss: 0.7006 - val_accuracy: 0.5500\n",
      "Epoch 3/20\n",
      "100/100 [==============================] - 74s 742ms/step - loss: 0.6304 - accuracy: 0.6645 - val_loss: 0.6224 - val_accuracy: 0.6500\n",
      "Epoch 4/20\n",
      "100/100 [==============================] - 73s 726ms/step - loss: 0.6068 - accuracy: 0.6730 - val_loss: 0.6641 - val_accuracy: 0.6300\n",
      "Epoch 5/20\n",
      "100/100 [==============================] - 73s 727ms/step - loss: 0.5858 - accuracy: 0.7025 - val_loss: 0.6638 - val_accuracy: 0.6300\n",
      "Epoch 6/20\n",
      "100/100 [==============================] - 74s 743ms/step - loss: 0.5587 - accuracy: 0.7105 - val_loss: 0.5973 - val_accuracy: 0.7100\n",
      "Epoch 7/20\n",
      "100/100 [==============================] - 75s 750ms/step - loss: 0.5191 - accuracy: 0.7545 - val_loss: 0.5818 - val_accuracy: 0.7200\n",
      "Epoch 8/20\n",
      "100/100 [==============================] - 74s 740ms/step - loss: 0.5224 - accuracy: 0.7500 - val_loss: 0.5545 - val_accuracy: 0.6800\n",
      "Epoch 9/20\n",
      "100/100 [==============================] - 73s 726ms/step - loss: 0.4917 - accuracy: 0.7645 - val_loss: 0.6022 - val_accuracy: 0.7100\n",
      "Epoch 10/20\n",
      "100/100 [==============================] - 75s 748ms/step - loss: 0.4660 - accuracy: 0.7765 - val_loss: 0.5127 - val_accuracy: 0.7300\n",
      "Epoch 11/20\n",
      "100/100 [==============================] - 74s 743ms/step - loss: 0.4720 - accuracy: 0.7730 - val_loss: 0.5081 - val_accuracy: 0.8000\n",
      "Epoch 12/20\n",
      "100/100 [==============================] - 74s 744ms/step - loss: 0.4080 - accuracy: 0.8175 - val_loss: 0.4908 - val_accuracy: 0.8000\n",
      "Epoch 13/20\n",
      "100/100 [==============================] - 76s 756ms/step - loss: 0.3853 - accuracy: 0.8345 - val_loss: 0.5313 - val_accuracy: 0.7500\n",
      "Epoch 14/20\n",
      "100/100 [==============================] - 75s 749ms/step - loss: 0.3762 - accuracy: 0.8415 - val_loss: 0.4369 - val_accuracy: 0.7900\n",
      "Epoch 15/20\n",
      "100/100 [==============================] - 74s 741ms/step - loss: 0.3578 - accuracy: 0.8425 - val_loss: 0.4891 - val_accuracy: 0.7400\n",
      "Epoch 16/20\n",
      "100/100 [==============================] - 74s 737ms/step - loss: 0.3285 - accuracy: 0.8550 - val_loss: 0.5074 - val_accuracy: 0.7600\n",
      "Epoch 17/20\n",
      "100/100 [==============================] - 74s 738ms/step - loss: 0.3088 - accuracy: 0.8650 - val_loss: 0.5149 - val_accuracy: 0.7200\n"
     ]
    }
   ],
   "source": [
    "model2 = keras.Sequential()\n",
    "\n",
    "model2.add(keras.layers.Conv2D(32,(3,3), activation='relu', input_shape=(128,128,3)))\n",
    "model2.add(keras.layers.MaxPooling2D(2,2))\n",
    "model2.add(keras.layers.Conv2D(64, (3,3), activation='relu'))\n",
    "model2.add(keras.layers.MaxPooling2D(2,2))\n",
    "model2.add(keras.layers.Flatten())\n",
    "model2.add(keras.layers.Dense(units=512, activation='relu'))\n",
    "model2.add(keras.layers.Dense(units=1, activation='sigmoid'))\n",
    "\n",
    "model2.compile(optimizer = 'adam', loss='binary_crossentropy', metrics=['accuracy'])\n",
    "\n",
    "checkpoint_cb = keras.callbacks.ModelCheckpoint('bog-cat-model_best.h5', save_best_only=True)\n",
    "early_stopping_cb = keras.callbacks.EarlyStopping(patience=3, restore_best_weights=True)\n",
    "\n",
    "history2 = model2.fit_generator(train_generator, steps_per_epoch=100, epochs=20, validation_data=test_generator, validation_steps=10, callbacks=[checkpoint_cb, early_stopping_cb])"
   ]
  },
  {
   "cell_type": "code",
   "execution_count": 26,
   "metadata": {},
   "outputs": [
    {
     "data": {
      "image/png": "[encoded data removed]",
      "text/plain": [
       "<Figure size 432x288 with 1 Axes>"
      ]
     },
     "metadata": {
      "needs_background": "light"
     },
     "output_type": "display_data"
    }
   ],
   "source": [
    "import matplotlib.pyplot as plt\n",
    "\n",
    "plt.plot(history2.history['loss'])\n",
    "plt.plot(history2.history['val_loss'])\n",
    "plt.xlabel('epoch')\n",
    "plt.ylabel('loss')\n",
    "plt.legend(['train', 'val'])\n",
    "plt.show()"
   ]
  },
  {
   "cell_type": "code",
   "execution_count": 27,
   "metadata": {},
   "outputs": [
    {
     "name": "stdout",
     "output_type": "stream",
     "text": [
      "10/10 [==============================] - 4s 390ms/step - loss: 0.6046 - accuracy: 0.7400\n"
     ]
    },
    {
     "data": {
      "text/plain": [
       "[0.6046300947666168, 0.74]"
      ]
     },
     "execution_count": 27,
     "metadata": {},
     "output_type": "execute_result"
    }
   ],
   "source": [
    "model2.evaluate(test_generator)"
   ]
  },
  {
   "cell_type": "code",
   "execution_count": null,
   "metadata": {},
   "outputs": [],
   "source": []
  }
 ],
 "metadata": {
  "kernelspec": {
   "display_name": "Python 3.7.13 ('tfconda')",
   "language": "python",
   "name": "python3"
  },
  "language_info": {
   "codemirror_mode": {
    "name": "ipython",
    "version": 3
   },
   "file_extension": ".py",
   "mimetype": "text/x-python",
   "name": "python",
   "nbconvert_exporter": "python",
   "pygments_lexer": "ipython3",
   "version": "3.7.13"
  },
  "orig_nbformat": 4,
  "vscode": {
   "interpreter": {
    "hash": "0744aaa7db6f160eeef0af44bf51ca34b1d762fe44eb4b65d75aea0f249a1b66"
   }
  }
 },
 "nbformat": 4,
 "nbformat_minor": 2
}
