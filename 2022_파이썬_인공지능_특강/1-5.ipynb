{
 "cells": [
  {
   "cell_type": "code",
   "execution_count": 1,
   "id": "eb78bbd2",
   "metadata": {},
   "outputs": [],
   "source": [
    "import pymysql"
   ]
  },
  {
   "cell_type": "code",
   "execution_count": 2,
   "id": "feb729ea",
   "metadata": {},
   "outputs": [],
   "source": [
    "mydb = pymysql.connect(host='localhost', user='root', password='0exia099', db='StudentDB')"
   ]
  },
  {
   "cell_type": "code",
   "execution_count": 4,
   "id": "42621999",
   "metadata": {},
   "outputs": [],
   "source": [
    "mc = mydb.cursor()"
   ]
  },
  {
   "cell_type": "code",
   "execution_count": 5,
   "id": "fe0f5095",
   "metadata": {},
   "outputs": [
    {
     "name": "stdout",
     "output_type": "stream",
     "text": [
      "(1002, 'Emily', 30, 302, 'F', 'Seoul', datetime.date(1992, 4, 29), Decimal('3.25'))\n",
      "(1008, 'Gildong', 30, 302, 'M', 'Pohang', datetime.date(1995, 8, 16), Decimal('3.31'))\n",
      "(1013, 'Brown', 30, 302, 'M', 'Daegu', datetime.date(1988, 2, 21), Decimal('1.75'))\n"
     ]
    }
   ],
   "source": [
    "mc.execute(\"select * from student where deptno = 30\")\n",
    "result = mc.fetchall()  #튜플로 받아짐, 다 받기\n",
    "for x in result:\n",
    "    print(x)"
   ]
  },
  {
   "cell_type": "code",
   "execution_count": 6,
   "id": "522a851b",
   "metadata": {},
   "outputs": [
    {
     "name": "stdout",
     "output_type": "stream",
     "text": [
      "(1002, 'Emily', Decimal('3.25'))\n"
     ]
    }
   ],
   "source": [
    "mc.execute(\"select sid, sname, grade from student where deptno = 30\")\n",
    "result = mc.fetchone()  #하나만 받기\n",
    "print(result)"
   ]
  },
  {
   "cell_type": "code",
   "execution_count": 7,
   "id": "76c0b58c",
   "metadata": {},
   "outputs": [
    {
     "name": "stdout",
     "output_type": "stream",
     "text": [
      "(1008, 'Gildong', Decimal('3.31'))\n"
     ]
    }
   ],
   "source": [
    "result = mc.fetchone()   #다음거 받아짐\n",
    "print(result)"
   ]
  },
  {
   "cell_type": "code",
   "execution_count": 9,
   "id": "a51250b9",
   "metadata": {},
   "outputs": [
    {
     "name": "stdout",
     "output_type": "stream",
     "text": [
      "((1001, 'Minsu', 10, 101, 'M', 'Daegu', datetime.date(1995, 12, 15), Decimal('3.93')), (1002, 'Emily', 30, 302, 'F', 'Seoul', datetime.date(1992, 4, 29), Decimal('3.25')), (1003, 'Suji', 10, 102, 'F', 'Daegu', datetime.date(1988, 1, 3), Decimal('4.17')))\n"
     ]
    }
   ],
   "source": [
    "mc.execute(\"select * from student\")\n",
    "result = mc.fetchmany(3)  #n개 받기\n",
    "print(result)"
   ]
  },
  {
   "cell_type": "code",
   "execution_count": 12,
   "id": "86a64034",
   "metadata": {},
   "outputs": [
    {
     "name": "stdout",
     "output_type": "stream",
     "text": [
      "(1003, 'Suji', 10, 102, 'F', 'Daegu', datetime.date(1988, 1, 3), Decimal('4.17'))\n",
      "(1010, 'Taehee', 20, 202, 'F', 'Busan', datetime.date(1996, 7, 3), Decimal('4.41'))\n"
     ]
    }
   ],
   "source": [
    "sql = \"select * from student where grade >= %s\"  #%s에 인자설정\n",
    "grade = (4.0,)\n",
    "mc.execute(sql,grade)\n",
    "result = mc.fetchall()\n",
    "for x in result:\n",
    "    print(x)"
   ]
  },
  {
   "cell_type": "code",
   "execution_count": 18,
   "id": "76e4fd8c",
   "metadata": {},
   "outputs": [
    {
     "name": "stdout",
     "output_type": "stream",
     "text": [
      "deptno와 학점을 입력: 10 3.0\n"
     ]
    }
   ],
   "source": [
    "deptno, grade = input(\"deptno와 학점을 입력: \").split()\n",
    "deptno, grade = int(deptno), float(grade)"
   ]
  },
  {
   "cell_type": "code",
   "execution_count": 21,
   "id": "2659ad48",
   "metadata": {},
   "outputs": [
    {
     "name": "stdout",
     "output_type": "stream",
     "text": [
      "(1001, 'Minsu', '10', 101.0)\n",
      "(1003, 'Suji', '10', 102.0)\n",
      "(1012, 'Sarang', '10', 101.0)\n"
     ]
    }
   ],
   "source": [
    "sql = \"select * from student where deptno = %s and grade >= %s\"\n",
    "val = (deptno, grade)\n",
    "mc.execute(sql,val)\n",
    "result = mc.fetchall()\n",
    "res = [(item[0], item[1], str(item[2]), float(item[3])) for item in result]\n",
    "for x in res:\n",
    "    print(x)"
   ]
  },
  {
   "cell_type": "code",
   "execution_count": 22,
   "id": "acc30bbe",
   "metadata": {},
   "outputs": [
    {
     "name": "stdout",
     "output_type": "stream",
     "text": [
      "1 record inserted.\n"
     ]
    }
   ],
   "source": [
    "sql = \"insert into department values (60, 'Statistics', 'Sciences', 30000000)\"\n",
    "mc.execute(sql)\n",
    "mydb.commit() #commit안하면 임시로만 저장되고 db에 저장 안됨\n",
    "print(mc.rowcount,\"record inserted.\")"
   ]
  },
  {
   "cell_type": "code",
   "execution_count": 24,
   "id": "384ca34c",
   "metadata": {},
   "outputs": [
    {
     "name": "stdout",
     "output_type": "stream",
     "text": [
      "(10, 'Computer', 'Engineering', 10000000)\n",
      "(20, 'Mechanical', 'Engineering', 20000000)\n",
      "(30, 'Physics', 'Sciences', 10000000)\n",
      "(40, 'Korean Language', 'Liberal Arts', 8000000)\n",
      "(50, 'General Education', 'Basic Studies', 8000000)\n",
      "(60, 'Statistics', 'Sciences', 30000000)\n"
     ]
    }
   ],
   "source": [
    "mc.execute(\"select * from department\")\n",
    "result = mc.fetchall()\n",
    "for x in result:\n",
    "    print(x)"
   ]
  },
  {
   "cell_type": "code",
   "execution_count": 25,
   "id": "3082ea10",
   "metadata": {},
   "outputs": [
    {
     "name": "stdout",
     "output_type": "stream",
     "text": [
      "-1 record inserted.\n"
     ]
    }
   ],
   "source": [
    "sql = \"insert into department(deptno, dname) values (%s, %s)\"  #%s로 추가\n",
    "val = [(70,'Philosophy'),(80,'기계공학과'),(90,'전기공학과'),(100,'식품공학과')] #여러개 추가\n",
    "mc.executemany(sql, val)\n",
    "mydb.commit()\n",
    "print(mc.rowcount, \"record inserted.\")"
   ]
  },
  {
   "cell_type": "code",
   "execution_count": 26,
   "id": "43d142c2",
   "metadata": {},
   "outputs": [
    {
     "name": "stdout",
     "output_type": "stream",
     "text": [
      "(10, 'Computer', 'Engineering', 10000000)\n",
      "(20, 'Mechanical', 'Engineering', 20000000)\n",
      "(30, 'Physics', 'Sciences', 10000000)\n",
      "(40, 'Korean Language', 'Liberal Arts', 8000000)\n",
      "(50, 'General Education', 'Basic Studies', 8000000)\n",
      "(60, 'Statistics', 'Sciences', 30000000)\n",
      "(70, 'Philosophy', None, None)\n",
      "(80, '기계공학과', None, None)\n",
      "(90, '전기공학과', None, None)\n",
      "(100, '식품공학과', None, None)\n"
     ]
    }
   ],
   "source": [
    "mc.execute(\"select * from department\")\n",
    "result = mc.fetchall()\n",
    "for x in result:\n",
    "    print(x)"
   ]
  },
  {
   "cell_type": "code",
   "execution_count": 27,
   "id": "b984f808",
   "metadata": {},
   "outputs": [
    {
     "name": "stdout",
     "output_type": "stream",
     "text": [
      "5 record deleted.\n"
     ]
    }
   ],
   "source": [
    "sql = \"delete from department where deptno > %s\"  #삭제\n",
    "val = (50,)\n",
    "mc.execute(sql,val)\n",
    "mydb.commit()\n",
    "print(mc.rowcount, \"record deleted.\")"
   ]
  },
  {
   "cell_type": "code",
   "execution_count": 28,
   "id": "9c84f9ec",
   "metadata": {},
   "outputs": [
    {
     "name": "stdout",
     "output_type": "stream",
     "text": [
      "(10, 'Computer', 'Engineering', 10000000)\n",
      "(20, 'Mechanical', 'Engineering', 20000000)\n",
      "(30, 'Physics', 'Sciences', 10000000)\n",
      "(40, 'Korean Language', 'Liberal Arts', 8000000)\n",
      "(50, 'General Education', 'Basic Studies', 8000000)\n"
     ]
    }
   ],
   "source": [
    "mc.execute(\"select * from department\")\n",
    "result = mc.fetchall()\n",
    "for x in result:\n",
    "    print(x)"
   ]
  },
  {
   "cell_type": "code",
   "execution_count": 29,
   "id": "49404ca5",
   "metadata": {},
   "outputs": [],
   "source": [
    "sql = \"create table logs (id int auto_increment primary key, type int, place varchar(40) , time datetime)\"\n",
    "mc.execute(sql)\n",
    "mydb.commit()"
   ]
  },
  {
   "cell_type": "code",
   "execution_count": 30,
   "id": "b4e0b4e1",
   "metadata": {},
   "outputs": [
    {
     "data": {
      "text/plain": [
       "4"
      ]
     },
     "execution_count": 30,
     "metadata": {},
     "output_type": "execute_result"
    }
   ],
   "source": [
    "mc.execute(\"show tables\")"
   ]
  },
  {
   "cell_type": "code",
   "execution_count": 32,
   "id": "9242adcb",
   "metadata": {},
   "outputs": [
    {
     "name": "stdout",
     "output_type": "stream",
     "text": [
      "('DEPARTMENT',)\n",
      "('logs',)\n",
      "('PROFESSOR',)\n",
      "('STUDENT',)\n"
     ]
    }
   ],
   "source": [
    "for x in mc:\n",
    "    print(x)"
   ]
  },
  {
   "cell_type": "code",
   "execution_count": 45,
   "id": "ef52753a",
   "metadata": {},
   "outputs": [
    {
     "name": "stdout",
     "output_type": "stream",
     "text": [
      "1 record inserted.\n"
     ]
    }
   ],
   "source": [
    "import datetime\n",
    "sql = \"insert into logs(id, type, place, time) values (%s, %s, %s, %s)\"\n",
    "val = (1, 8, \"대구\", datetime.datetime.now())\n",
    "mc.execute(sql,val)\n",
    "mydb.commit()\n",
    "print(mc.rowcount,\"record inserted.\")"
   ]
  },
  {
   "cell_type": "code",
   "execution_count": 46,
   "id": "9e086604",
   "metadata": {},
   "outputs": [
    {
     "name": "stdout",
     "output_type": "stream",
     "text": [
      "(1, 8, '대구', datetime.datetime(2022, 7, 22, 13, 54, 6))\n"
     ]
    }
   ],
   "source": [
    "mc.execute(\"select * from logs\")\n",
    "result = mc.fetchall()\n",
    "for x in result:\n",
    "    print(x)"
   ]
  },
  {
   "cell_type": "code",
   "execution_count": 50,
   "id": "d8248e54",
   "metadata": {},
   "outputs": [
    {
     "name": "stdout",
     "output_type": "stream",
     "text": [
      "100 record inserted.\n"
     ]
    }
   ],
   "source": [
    "import datetime\n",
    "import random\n",
    "\n",
    "places = ['대구','서울','부산','울산','광주','인천','대전']\n",
    "types = list(range(1,11))\n",
    "val=[]\n",
    "sql = \"insert into logs(type, place, time) values (%s, %s, %s)\"\n",
    "for _ in range(100):\n",
    "    tp = random.choice(types)\n",
    "    pl = random.choice(places)\n",
    "    now = datetime.datetime.now()\n",
    "    d = random.randint(-365,0)\n",
    "    h = random.randint(-12,0)\n",
    "    s = random.randint(1,3600)\n",
    "    time = now + datetime.timedelta(days=d, hours = h, seconds = s)\n",
    "    val.append((tp,pl,time))\n",
    "    \n",
    "mc.executemany(sql,val)\n",
    "mydb.commit()\n",
    "\n",
    "print(mc.rowcount, \"record inserted.\")"
   ]
  },
  {
   "cell_type": "code",
   "execution_count": 51,
   "id": "9320fcbc",
   "metadata": {},
   "outputs": [
    {
     "name": "stdout",
     "output_type": "stream",
     "text": [
      "123\n"
     ]
    }
   ],
   "source": [
    "print(\"123\")"
   ]
  },
  {
   "cell_type": "code",
   "execution_count": null,
   "id": "197fff62",
   "metadata": {},
   "outputs": [],
   "source": []
  }
 ],
 "metadata": {
  "kernelspec": {
   "display_name": "Python 3 (ipykernel)",
   "language": "python",
   "name": "python3"
  },
  "language_info": {
   "codemirror_mode": {
    "name": "ipython",
    "version": 3
   },
   "file_extension": ".py",
   "mimetype": "text/x-python",
   "name": "python",
   "nbconvert_exporter": "python",
   "pygments_lexer": "ipython3",
   "version": "3.7.13"
  }
 },
 "nbformat": 4,
 "nbformat_minor": 5
}
