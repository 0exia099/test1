{
 "cells": [
  {
   "cell_type": "code",
   "execution_count": 12,
   "id": "7b36464a",
   "metadata": {},
   "outputs": [
    {
     "name": "stdout",
     "output_type": "stream",
     "text": [
      "200\n",
      "200\n"
     ]
    }
   ],
   "source": [
    "gx =100\n",
    "\n",
    "def myfunc():\n",
    "    global gx   #전역변수 gx사용\n",
    "    gx = 200\n",
    "    print(gx)\n",
    "    \n",
    "myfunc()\n",
    "print(gx)"
   ]
  },
  {
   "cell_type": "code",
   "execution_count": 14,
   "id": "acbd8d43",
   "metadata": {},
   "outputs": [
    {
     "name": "stdout",
     "output_type": "stream",
     "text": [
      "항 : 10\n",
      "10번째 피보나치항 = 55\n"
     ]
    }
   ],
   "source": [
    "def fibo(n):\n",
    "    if n <= 1:\n",
    "        return n\n",
    "    else:\n",
    "        return fibo(n-1)+fibo(n-2)\n",
    "    \n",
    "x = int(input(\"항 : \"))\n",
    "print(f\"{x}번째 피보나치항 = {fibo(x)}\")"
   ]
  },
  {
   "cell_type": "code",
   "execution_count": 17,
   "id": "b9c180b1",
   "metadata": {},
   "outputs": [
    {
     "name": "stdout",
     "output_type": "stream",
     "text": [
      "입력: 10\n",
      "출력: 2.9289682539682538\n"
     ]
    }
   ],
   "source": [
    "def rsum(n):\n",
    "    if n <= 1:\n",
    "        return 1\n",
    "    else:\n",
    "        return rsum(n-1) + 1/n\n",
    "    \n",
    "x = int(input(\"입력: \"))\n",
    "print(f\"출력: {rsum(x)}\")"
   ]
  },
  {
   "cell_type": "code",
   "execution_count": 20,
   "id": "b416e17e",
   "metadata": {},
   "outputs": [
    {
     "name": "stdout",
     "output_type": "stream",
     "text": [
      "두 수를 입력: 15 10\n",
      "출력: 3003\n"
     ]
    }
   ],
   "source": [
    "def bcoef(n,k):\n",
    "    if k<=0 or k>=n:\n",
    "        return 1\n",
    "    else:\n",
    "        return bcoef(n-1, k-1) + bcoef(n-1, k)\n",
    "    \n",
    "x, y = [int(a) for a in input(\"두 수를 입력: \").split()]\n",
    "print(f\"출력: {bcoef(x, y)}\")"
   ]
  },
  {
   "cell_type": "code",
   "execution_count": 21,
   "id": "68cf2ea0",
   "metadata": {},
   "outputs": [
    {
     "data": {
      "text/plain": [
       "'0b101110111011'"
      ]
     },
     "execution_count": 21,
     "metadata": {},
     "output_type": "execute_result"
    }
   ],
   "source": [
    "bin(3003)  #2진수만들기"
   ]
  },
  {
   "cell_type": "code",
   "execution_count": 39,
   "id": "dd5fa3db",
   "metadata": {},
   "outputs": [
    {
     "name": "stdout",
     "output_type": "stream",
     "text": [
      "입력: 3003\n",
      "출력: 101110111011\n"
     ]
    }
   ],
   "source": [
    "def r_bin(n):\n",
    "    if n==1 or n==0:\n",
    "        return str(n)\n",
    "    else:\n",
    "        return r_bin(n//2)+str(r_bin(n%2))\n",
    "        \n",
    "x = int(input(\"입력: \"))\n",
    "print(f\"출력: {r_bin(x)}\")"
   ]
  },
  {
   "cell_type": "code",
   "execution_count": 46,
   "id": "3b9f4435",
   "metadata": {},
   "outputs": [
    {
     "name": "stdout",
     "output_type": "stream",
     "text": [
      "1,2,3,4,5,\n",
      "1,2,3,4,5,"
     ]
    }
   ],
   "source": [
    "temps = [1,2,3,4,5]\n",
    "\n",
    "for i in range(len(temps)):\n",
    "    print(temps[i], end=\",\")\n",
    "    \n",
    "print()\n",
    "\n",
    "for element in temps:\n",
    "    print(element,end=\",\")\n",
    "#둘의 출력은 같다."
   ]
  },
  {
   "cell_type": "code",
   "execution_count": 47,
   "id": "d9ba4dc7",
   "metadata": {},
   "outputs": [
    {
     "name": "stdout",
     "output_type": "stream",
     "text": [
      "[10, 20, 30, 40, 50]\n",
      "[1, 2, 3, 4, 5]\n"
     ]
    }
   ],
   "source": [
    "temps = [1,2,3,4,5]\n",
    "\n",
    "for i in range(len(temps)):\n",
    "    temps[i] *= 10\n",
    "print(temps)\n",
    "\n",
    "temps = [1,2,3,4,5]\n",
    "\n",
    "for element in temps:\n",
    "    element *= 10\n",
    "print(temps)\n",
    "#하지만 값을 변경하면 달라진다. 아래것은 내용이 바꾸지 않는다."
   ]
  },
  {
   "cell_type": "code",
   "execution_count": 48,
   "id": "f6377c29",
   "metadata": {},
   "outputs": [
    {
     "name": "stdout",
     "output_type": "stream",
     "text": [
      "What is your name? It is kim\n",
      "What is your quest? It is 파이썬\n",
      "What is your color? It is blue\n"
     ]
    }
   ],
   "source": [
    "questions = ['name','quest','color']\n",
    "answers = ['kim','파이썬','blue']\n",
    "\n",
    "for q, a in zip(questions,answers):#questions와 answers를 짝지음\n",
    "    print(f\"What is your {q}? It is {a}\")"
   ]
  },
  {
   "cell_type": "code",
   "execution_count": 54,
   "id": "d80be3cc",
   "metadata": {},
   "outputs": [
    {
     "name": "stdout",
     "output_type": "stream",
     "text": [
      "[1, 2, 3, 4, 5, 6, 7]\n",
      "[7, 6, 5, 4, 3, 2, 1]\n",
      "[1, 5, 2, 4, 3, 6, 7]\n",
      "[1, 2, 3, 4, 5, 6, 7]\n",
      "[7, 6, 5, 4, 3, 2, 1]\n"
     ]
    }
   ],
   "source": [
    "A = [1,5,2,4,3,6,7]\n",
    "print(sorted(A))\n",
    "print(sorted(A, reverse=True))\n",
    "print(A)#A의 값은 바꾸지 않음\n",
    "A.sort()\n",
    "print(A)\n",
    "A.sort(reverse=True)\n",
    "print(A)"
   ]
  },
  {
   "cell_type": "code",
   "execution_count": 55,
   "id": "dec09218",
   "metadata": {},
   "outputs": [
    {
     "data": {
      "text/plain": [
       "[1, 2, 3, 4, 5, 6, 7]"
      ]
     },
     "execution_count": 55,
     "metadata": {},
     "output_type": "execute_result"
    }
   ],
   "source": [
    "sorted(A)#list를 반환"
   ]
  },
  {
   "cell_type": "code",
   "execution_count": 56,
   "id": "732854fc",
   "metadata": {},
   "outputs": [
    {
     "data": {
      "text/plain": [
       "<list_reverseiterator at 0x7f7e6925d190>"
      ]
     },
     "execution_count": 56,
     "metadata": {},
     "output_type": "execute_result"
    }
   ],
   "source": [
    "reversed(A)#list_reverseiterator를 반환"
   ]
  },
  {
   "cell_type": "code",
   "execution_count": 57,
   "id": "739c3266",
   "metadata": {},
   "outputs": [
    {
     "data": {
      "text/plain": [
       "[(0, 7), (1, 6), (2, 5), (3, 4), (4, 3), (5, 2), (6, 1)]"
      ]
     },
     "execution_count": 57,
     "metadata": {},
     "output_type": "execute_result"
    }
   ],
   "source": [
    "B = list(enumerate(A))#인덱스번호와 값을 쌍으로 (인덱스번호, 값)\n",
    "B"
   ]
  },
  {
   "cell_type": "code",
   "execution_count": 58,
   "id": "d6491ee2",
   "metadata": {},
   "outputs": [
    {
     "name": "stdout",
     "output_type": "stream",
     "text": [
      "랜덤하게 선택한 항목= 6\n"
     ]
    }
   ],
   "source": [
    "import random\n",
    "\n",
    "numberList = [1,2,3,4,5,6,7,8,9,10]\n",
    "print(\"랜덤하게 선택한 항목=\",random.choice(numberList))"
   ]
  },
  {
   "cell_type": "code",
   "execution_count": 60,
   "id": "30d48152",
   "metadata": {},
   "outputs": [
    {
     "data": {
      "text/plain": [
       "[2, 14, 11, 9, 8, 7, 6, 10, 19, 12]"
      ]
     },
     "execution_count": 60,
     "metadata": {},
     "output_type": "execute_result"
    }
   ],
   "source": [
    "import random\n",
    "A = random.sample(range(1,20),10)\n",
    "A"
   ]
  },
  {
   "cell_type": "code",
   "execution_count": 61,
   "id": "cf062071",
   "metadata": {},
   "outputs": [
    {
     "data": {
      "text/plain": [
       "19"
      ]
     },
     "execution_count": 61,
     "metadata": {},
     "output_type": "execute_result"
    }
   ],
   "source": [
    "max(A)#젤 큰수"
   ]
  },
  {
   "cell_type": "code",
   "execution_count": 62,
   "id": "29432742",
   "metadata": {},
   "outputs": [
    {
     "data": {
      "text/plain": [
       "14"
      ]
     },
     "execution_count": 62,
     "metadata": {},
     "output_type": "execute_result"
    }
   ],
   "source": [
    "#두번째로 큰수(1)\n",
    "sorted(A)[-2]"
   ]
  },
  {
   "cell_type": "code",
   "execution_count": 63,
   "id": "add4c19d",
   "metadata": {},
   "outputs": [
    {
     "data": {
      "text/plain": [
       "14"
      ]
     },
     "execution_count": 63,
     "metadata": {},
     "output_type": "execute_result"
    }
   ],
   "source": [
    "#두번째로 큰수(2)\n",
    "A.remove(max(A))\n",
    "max(A)"
   ]
  },
  {
   "cell_type": "code",
   "execution_count": 64,
   "id": "7079edb7",
   "metadata": {},
   "outputs": [
    {
     "name": "stdout",
     "output_type": "stream",
     "text": [
      "[10.0, 9.0, 8.3, 7.1, 3.0, 9.0]\n",
      "[9.0, 8.3, 7.1, 9.0]\n"
     ]
    }
   ],
   "source": [
    "scores = [10.0, 9.0,8.3,7.1,3.0,9.0]\n",
    "print(scores)\n",
    "scores.remove(max(scores))\n",
    "scores.remove(min(scores))\n",
    "print(scores)"
   ]
  },
  {
   "cell_type": "code",
   "execution_count": 66,
   "id": "24658c4f",
   "metadata": {},
   "outputs": [
    {
     "name": "stdout",
     "output_type": "stream",
     "text": [
      "True\n",
      "False\n"
     ]
    }
   ],
   "source": [
    "list1 = [1,2,3]\n",
    "list2 = [1,2,3]\n",
    "print(list1==list2)\n",
    "print(list1>list2)\n",
    "#만든 클래스의 리스트를 비교할때는 __eq..__로 연산 정의해야함"
   ]
  },
  {
   "cell_type": "code",
   "execution_count": 84,
   "id": "04dec9e6",
   "metadata": {},
   "outputs": [
    {
     "data": {
      "text/plain": [
       "True"
      ]
     },
     "execution_count": 84,
     "metadata": {},
     "output_type": "execute_result"
    }
   ],
   "source": [
    "#리스트끼리의 얕은복사\n",
    "temps = [1,2,3,4,5]\n",
    "values = temps\n",
    "id(values) == id(temps)"
   ]
  },
  {
   "cell_type": "code",
   "execution_count": 85,
   "id": "bea48d39",
   "metadata": {},
   "outputs": [
    {
     "data": {
      "text/plain": [
       "True"
      ]
     },
     "execution_count": 85,
     "metadata": {},
     "output_type": "execute_result"
    }
   ],
   "source": [
    "values == temps"
   ]
  },
  {
   "cell_type": "code",
   "execution_count": 86,
   "id": "8dcef0d8",
   "metadata": {},
   "outputs": [
    {
     "name": "stdout",
     "output_type": "stream",
     "text": [
      "[3, 2, 3, 4, 5]\n",
      "[3, 2, 3, 4, 5]\n"
     ]
    }
   ],
   "source": [
    "values[0] = 3\n",
    "print(values)\n",
    "print(temps)#temps도 바뀜"
   ]
  },
  {
   "cell_type": "code",
   "execution_count": 87,
   "id": "0d6e9176",
   "metadata": {},
   "outputs": [
    {
     "data": {
      "text/plain": [
       "False"
      ]
     },
     "execution_count": 87,
     "metadata": {},
     "output_type": "execute_result"
    }
   ],
   "source": [
    "temps = [1,2,3,4,5]\n",
    "values = temps.copy()\n",
    "id(values) == id(temps)"
   ]
  },
  {
   "cell_type": "code",
   "execution_count": 88,
   "id": "526359bc",
   "metadata": {},
   "outputs": [
    {
     "data": {
      "text/plain": [
       "True"
      ]
     },
     "execution_count": 88,
     "metadata": {},
     "output_type": "execute_result"
    }
   ],
   "source": [
    "values == temps"
   ]
  },
  {
   "cell_type": "code",
   "execution_count": 90,
   "id": "e81fcd67",
   "metadata": {},
   "outputs": [
    {
     "name": "stdout",
     "output_type": "stream",
     "text": [
      "[3, 2, 3, 4, 5]\n",
      "[1, 2, 3, 4, 5]\n"
     ]
    }
   ],
   "source": [
    "values[0] = 3\n",
    "print(values)\n",
    "print(temps)#temps 안바뀜"
   ]
  },
  {
   "cell_type": "code",
   "execution_count": 80,
   "id": "97ec27e5",
   "metadata": {},
   "outputs": [
    {
     "data": {
      "text/plain": [
       "False"
      ]
     },
     "execution_count": 80,
     "metadata": {},
     "output_type": "execute_result"
    }
   ],
   "source": [
    "#조금 깊은 복사\n",
    "temps = [1,2,3,4,5]\n",
    "values = list(temps)\n",
    "id(values) == id(temps)"
   ]
  },
  {
   "cell_type": "code",
   "execution_count": 72,
   "id": "9a3c87f5",
   "metadata": {},
   "outputs": [
    {
     "data": {
      "text/plain": [
       "True"
      ]
     },
     "execution_count": 72,
     "metadata": {},
     "output_type": "execute_result"
    }
   ],
   "source": [
    "values == temps"
   ]
  },
  {
   "cell_type": "code",
   "execution_count": 73,
   "id": "81199ef6",
   "metadata": {},
   "outputs": [
    {
     "data": {
      "text/plain": [
       "[3, 2, 3, 4, 5]"
      ]
     },
     "execution_count": 73,
     "metadata": {},
     "output_type": "execute_result"
    }
   ],
   "source": [
    "values[0] = 3\n",
    "values"
   ]
  },
  {
   "cell_type": "code",
   "execution_count": 74,
   "id": "805ec354",
   "metadata": {},
   "outputs": [
    {
     "data": {
      "text/plain": [
       "[1, 2, 3, 4, 5]"
      ]
     },
     "execution_count": 74,
     "metadata": {},
     "output_type": "execute_result"
    }
   ],
   "source": [
    "temps#temps안바뀜"
   ]
  },
  {
   "cell_type": "code",
   "execution_count": 91,
   "id": "53012e5a",
   "metadata": {},
   "outputs": [
    {
     "data": {
      "text/plain": [
       "[1, 2, 3]"
      ]
     },
     "execution_count": 91,
     "metadata": {},
     "output_type": "execute_result"
    }
   ],
   "source": [
    "#슬라이싱\n",
    "numbers=[1,2,3,4,5]\n",
    "numbers[:3]"
   ]
  },
  {
   "cell_type": "code",
   "execution_count": 94,
   "id": "dfbd2182",
   "metadata": {},
   "outputs": [
    {
     "data": {
      "text/plain": [
       "[1, 2, 3, 4, 5]"
      ]
     },
     "execution_count": 94,
     "metadata": {},
     "output_type": "execute_result"
    }
   ],
   "source": [
    "new_numbers = numbers[:]#조금 깊은 복사\n",
    "new_numbers"
   ]
  },
  {
   "cell_type": "code",
   "execution_count": 95,
   "id": "0be5c5e8",
   "metadata": {},
   "outputs": [
    {
     "data": {
      "text/plain": [
       "[3, 5, 7]"
      ]
     },
     "execution_count": 95,
     "metadata": {},
     "output_type": "execute_result"
    }
   ],
   "source": [
    "numbers = [1,2,3,4,5,6,7,8,9,10]\n",
    "numbers[2:7:2]#[시작, 끝, 크기(증가하는인덱스)]"
   ]
  },
  {
   "cell_type": "code",
   "execution_count": 96,
   "id": "47bc8533",
   "metadata": {},
   "outputs": [
    {
     "data": {
      "text/plain": [
       "[10, 9, 8, 7, 6, 5, 4, 3, 2, 1]"
      ]
     },
     "execution_count": 96,
     "metadata": {},
     "output_type": "execute_result"
    }
   ],
   "source": [
    "numbers[::-1]#역순"
   ]
  },
  {
   "cell_type": "code",
   "execution_count": 100,
   "id": "fb97b742",
   "metadata": {},
   "outputs": [
    {
     "data": {
      "text/plain": [
       "[10, 8, 6, 4, 2]"
      ]
     },
     "execution_count": 100,
     "metadata": {},
     "output_type": "execute_result"
    }
   ],
   "source": [
    "numbers = [1,2,3,4,5,6,7,8,9,10]\n",
    "numbers[::-2]"
   ]
  },
  {
   "cell_type": "code",
   "execution_count": 101,
   "id": "fc0fbe95",
   "metadata": {},
   "outputs": [
    {
     "data": {
      "text/plain": [
       "[1]"
      ]
     },
     "execution_count": 101,
     "metadata": {},
     "output_type": "execute_result"
    }
   ],
   "source": [
    "numbers = [1,2,3,4,5,6,7,8,9,10]\n",
    "numbers[0:1:1]"
   ]
  },
  {
   "cell_type": "code",
   "execution_count": 102,
   "id": "f9d6088d",
   "metadata": {},
   "outputs": [
    {
     "name": "stdout",
     "output_type": "stream",
     "text": [
      "[1]\n"
     ]
    }
   ],
   "source": [
    "numbers = [1,2,3,4,5,6,7,8,9,10]\n",
    "numbers[1:] = []#처음꺼말고 다 삭제\n",
    "print(numbers)"
   ]
  },
  {
   "cell_type": "code",
   "execution_count": 105,
   "id": "3aaef5c7",
   "metadata": {},
   "outputs": [
    {
     "name": "stdout",
     "output_type": "stream",
     "text": [
      "입력: 90\n",
      "입력: 87\n",
      "입력: 3\n",
      "입력: 55\n",
      "입력: 35\n",
      "[3, 35, 55, 87, 90]\n",
      "최고: 90\n",
      "최소: 3\n",
      "합: 270\n",
      "평균: 54.0\n",
      "1\n"
     ]
    }
   ],
   "source": [
    "A = []\n",
    "for i in range(5):\n",
    "    x = int(input(\"입력: \"))\n",
    "    A.append(x)\n",
    "    \n",
    "print(sorted(A))\n",
    "print(f\"최고: {max(A)}\")\n",
    "print(f\"최소: {min(A)}\")\n",
    "print(f\"합: {sum(A)}\")\n",
    "print(f\"평균: {sum(A)/5}\")\n",
    "count=0\n",
    "for i in sorted(A, reverse=True):\n",
    "    if i<90:\n",
    "        break\n",
    "    else:\n",
    "        count+=1\n",
    "print(count)"
   ]
  },
  {
   "cell_type": "code",
   "execution_count": 108,
   "id": "e7e35826",
   "metadata": {},
   "outputs": [
    {
     "name": "stdout",
     "output_type": "stream",
     "text": [
      "입력: +사과\n",
      "['사과']\n",
      "입력: -우유\n",
      "['사과']\n",
      "입력: +우유\n",
      "['사과', '우유']\n",
      "입력: +바나나\n",
      "['사과', '우유', '바나나']\n",
      "입력: -우유\n",
      "['사과', '바나나']\n",
      "입력: ㅌ\n"
     ]
    }
   ],
   "source": [
    "A=[]\n",
    "while True:\n",
    "    x = input(\"입력: \")\n",
    "    if x[0]==\"+\":\n",
    "        A.append(x[1:])\n",
    "    elif x[0]==\"-\":\n",
    "        if x[1:] in A:\n",
    "            A.remove(x[1:])\n",
    "    else:\n",
    "        break\n",
    "    print(A)"
   ]
  },
  {
   "cell_type": "code",
   "execution_count": 111,
   "id": "196d739b",
   "metadata": {},
   "outputs": [
    {
     "name": "stdout",
     "output_type": "stream",
     "text": [
      "입력: + tkrhk\n",
      "['tkrhk']\n",
      "입력: + dndb\n",
      "['tkrhk', 'dndb']\n",
      "입력: - dndb\n",
      "['tkrhk']\n",
      "입력: x\n"
     ]
    },
    {
     "ename": "ValueError",
     "evalue": "not enough values to unpack (expected 2, got 1)",
     "output_type": "error",
     "traceback": [
      "\u001b[0;31m---------------------------------------------------------------------------\u001b[0m",
      "\u001b[0;31mValueError\u001b[0m                                Traceback (most recent call last)",
      "\u001b[0;32m/var/folders/tk/_xgwj1jx765d70vyp9fbnn140000gn/T/ipykernel_1546/1240579867.py\u001b[0m in \u001b[0;36m<module>\u001b[0;34m\u001b[0m\n\u001b[1;32m      1\u001b[0m \u001b[0mA\u001b[0m\u001b[0;34m=\u001b[0m\u001b[0;34m[\u001b[0m\u001b[0;34m]\u001b[0m\u001b[0;34m\u001b[0m\u001b[0;34m\u001b[0m\u001b[0m\n\u001b[1;32m      2\u001b[0m \u001b[0;32mwhile\u001b[0m \u001b[0;32mTrue\u001b[0m\u001b[0;34m:\u001b[0m\u001b[0;34m\u001b[0m\u001b[0;34m\u001b[0m\u001b[0m\n\u001b[0;32m----> 3\u001b[0;31m     \u001b[0mx\u001b[0m\u001b[0;34m,\u001b[0m\u001b[0my\u001b[0m \u001b[0;34m=\u001b[0m \u001b[0minput\u001b[0m\u001b[0;34m(\u001b[0m\u001b[0;34m\"입력: \"\u001b[0m\u001b[0;34m)\u001b[0m\u001b[0;34m.\u001b[0m\u001b[0msplit\u001b[0m\u001b[0;34m(\u001b[0m\u001b[0;34m)\u001b[0m\u001b[0;34m\u001b[0m\u001b[0;34m\u001b[0m\u001b[0m\n\u001b[0m\u001b[1;32m      4\u001b[0m     \u001b[0;32mif\u001b[0m \u001b[0mx\u001b[0m\u001b[0;34m==\u001b[0m\u001b[0;34m\"+\"\u001b[0m\u001b[0;34m:\u001b[0m\u001b[0;34m\u001b[0m\u001b[0;34m\u001b[0m\u001b[0m\n\u001b[1;32m      5\u001b[0m         \u001b[0mA\u001b[0m\u001b[0;34m.\u001b[0m\u001b[0mappend\u001b[0m\u001b[0;34m(\u001b[0m\u001b[0my\u001b[0m\u001b[0;34m)\u001b[0m\u001b[0;34m\u001b[0m\u001b[0;34m\u001b[0m\u001b[0m\n",
      "\u001b[0;31mValueError\u001b[0m: not enough values to unpack (expected 2, got 1)"
     ]
    }
   ],
   "source": [
    "A=[]\n",
    "while True:\n",
    "    x,y = input(\"입력: \").split()\n",
    "    if x==\"+\":\n",
    "        A.append(y)\n",
    "    elif x==\"-\":\n",
    "        if y in A:\n",
    "            A.remove(y)\n",
    "    elif x==\"x\":\n",
    "        break\n",
    "    print(A)"
   ]
  },
  {
   "cell_type": "code",
   "execution_count": 136,
   "id": "b2123f2c",
   "metadata": {},
   "outputs": [
    {
     "data": {
      "text/plain": [
       "[3, 15, 26, 36, 42, 45]"
      ]
     },
     "execution_count": 136,
     "metadata": {},
     "output_type": "execute_result"
    }
   ],
   "source": [
    "import random\n",
    "A=[]\n",
    "\n",
    "while len(A)!=6:\n",
    "    a = random.randint(1,45)\n",
    "    if a not in A:\n",
    "        A.append(a)\n",
    "\n",
    "sorted(A)"
   ]
  },
  {
   "cell_type": "code",
   "execution_count": 144,
   "id": "f5b08013",
   "metadata": {},
   "outputs": [
    {
     "data": {
      "text/plain": [
       "[6, 7, 20, 25, 27, 34]"
      ]
     },
     "execution_count": 144,
     "metadata": {},
     "output_type": "execute_result"
    }
   ],
   "source": [
    "import random\n",
    "sorted(random.sample(range(1,46),6))#random.sample로 한줄"
   ]
  },
  {
   "cell_type": "code",
   "execution_count": 2,
   "id": "77e8a44a",
   "metadata": {},
   "outputs": [
    {
     "ename": "Terminator",
     "evalue": "",
     "output_type": "error",
     "traceback": [
      "\u001b[0;31m---------------------------------------------------------------------------\u001b[0m",
      "\u001b[0;31mTerminator\u001b[0m                                Traceback (most recent call last)",
      "\u001b[0;32m/var/folders/tk/_xgwj1jx765d70vyp9fbnn140000gn/T/ipykernel_2493/1022056213.py\u001b[0m in \u001b[0;36m<module>\u001b[0;34m\u001b[0m\n\u001b[1;32m      9\u001b[0m \u001b[0;34m\u001b[0m\u001b[0m\n\u001b[1;32m     10\u001b[0m \u001b[0mturtle\u001b[0m\u001b[0;34m.\u001b[0m\u001b[0mmainloop\u001b[0m\u001b[0;34m(\u001b[0m\u001b[0;34m)\u001b[0m\u001b[0;34m\u001b[0m\u001b[0;34m\u001b[0m\u001b[0m\n\u001b[0;32m---> 11\u001b[0;31m \u001b[0mturtle\u001b[0m\u001b[0;34m.\u001b[0m\u001b[0mbye\u001b[0m\u001b[0;34m(\u001b[0m\u001b[0;34m)\u001b[0m\u001b[0;34m\u001b[0m\u001b[0;34m\u001b[0m\u001b[0m\n\u001b[0m",
      "\u001b[0;32m~/opt/anaconda3/envs/vrconda/lib/python3.7/turtle.py\u001b[0m in \u001b[0;36mbye\u001b[0;34m()\u001b[0m\n",
      "\u001b[0;31mTerminator\u001b[0m: "
     ]
    }
   ],
   "source": [
    "import turtle\n",
    "t = turtle.Turtle()\n",
    "aList = [10,20,30,40,50,60,70,80,90,100,110,120]\n",
    "for i in aList:\n",
    "    t.fd(i)\n",
    "    t.stamp()\n",
    "    t.bk(i)\n",
    "    t.right(30)\n",
    "    \n",
    "turtle.mainloop()\n",
    "turtle.bye()"
   ]
  },
  {
   "cell_type": "code",
   "execution_count": 3,
   "id": "16e22839",
   "metadata": {},
   "outputs": [
    {
     "data": {
      "text/plain": [
       "[0, 1, 4, 9, 16, 25, 36, 49, 64, 81]"
      ]
     },
     "execution_count": 3,
     "metadata": {},
     "output_type": "execute_result"
    }
   ],
   "source": [
    "#리스트 함축\n",
    "squares = [x*x for x in range(10)]\n",
    "squares"
   ]
  },
  {
   "cell_type": "code",
   "execution_count": 4,
   "id": "beb2d82e",
   "metadata": {},
   "outputs": [
    {
     "data": {
      "text/plain": [
       "[0, 4, 16, 36, 64]"
      ]
     },
     "execution_count": 4,
     "metadata": {},
     "output_type": "execute_result"
    }
   ],
   "source": [
    "squares = [x*x for x in range(10) if x %2 ==0]\n",
    "squares"
   ]
  },
  {
   "cell_type": "code",
   "execution_count": 5,
   "id": "fb96cf45",
   "metadata": {},
   "outputs": [
    {
     "data": {
      "text/plain": [
       "[0, 6, 12, 18, 24, 30, 36, 42, 48, 54, 60, 66, 72, 78, 84, 90, 96]"
      ]
     },
     "execution_count": 5,
     "metadata": {},
     "output_type": "execute_result"
    }
   ],
   "source": [
    "A = [x for x in range(100) if x%2==0 and x%3==0]\n",
    "A"
   ]
  },
  {
   "cell_type": "code",
   "execution_count": 11,
   "id": "1e96e70a",
   "metadata": {},
   "outputs": [
    {
     "data": {
      "text/plain": [
       "[10, 30, 60, 100, 150]"
      ]
     },
     "execution_count": 11,
     "metadata": {},
     "output_type": "execute_result"
    }
   ],
   "source": [
    "A = [10,20,30,40,50]\n",
    "B = [sum(A[:x]) for x in range(1,len(A)+1)]\n",
    "B"
   ]
  },
  {
   "cell_type": "code",
   "execution_count": 13,
   "id": "ef748e4f",
   "metadata": {},
   "outputs": [
    {
     "data": {
      "text/plain": [
       "[(3, 4, 5),\n",
       " (5, 12, 13),\n",
       " (6, 8, 10),\n",
       " (7, 24, 25),\n",
       " (8, 15, 17),\n",
       " (9, 12, 15),\n",
       " (10, 24, 26),\n",
       " (12, 16, 20),\n",
       " (15, 20, 25),\n",
       " (20, 21, 29)]"
      ]
     },
     "execution_count": 13,
     "metadata": {},
     "output_type": "execute_result"
    }
   ],
   "source": [
    "A = [(x,y,z) for x in range(1,30) for y in range(x,30) for z in range(y,30) if x**2+y**2 == z**2]\n",
    "A"
   ]
  },
  {
   "cell_type": "code",
   "execution_count": 14,
   "id": "2952ec7c",
   "metadata": {},
   "outputs": [
    {
     "data": {
      "text/plain": [
       "[[1, 2, 3, 4, 5], [6, 7, 8, 9, 10], [11, 12, 13, 14, 15]]"
      ]
     },
     "execution_count": 14,
     "metadata": {},
     "output_type": "execute_result"
    }
   ],
   "source": [
    "#2차원 리스트\n",
    "s = [\n",
    "    [1,2,3,4,5],\n",
    "    [6,7,8,9,10],\n",
    "    [11,12,13,14,15]\n",
    "]\n",
    "s"
   ]
  },
  {
   "cell_type": "code",
   "execution_count": 15,
   "id": "8a4e316e",
   "metadata": {},
   "outputs": [
    {
     "data": {
      "text/plain": [
       "[[0, 0, 0, 0, 0], [0, 0, 0, 0, 0], [0, 0, 0, 0, 0]]"
      ]
     },
     "execution_count": 15,
     "metadata": {},
     "output_type": "execute_result"
    }
   ],
   "source": [
    "rows = 3\n",
    "cols = 5\n",
    "\n",
    "s = []\n",
    "for row in range(rows):\n",
    "    s+=[[0]*cols]\n",
    "    \n",
    "s"
   ]
  },
  {
   "cell_type": "code",
   "execution_count": 16,
   "id": "0c35505e",
   "metadata": {},
   "outputs": [
    {
     "data": {
      "text/plain": [
       "[0, 0, 0, 0, 0, 0, 0, 0, 0, 0, 0, 0, 0, 0, 0]"
      ]
     },
     "execution_count": 16,
     "metadata": {},
     "output_type": "execute_result"
    }
   ],
   "source": [
    "rows = 3\n",
    "cols = 5\n",
    "\n",
    "s = []\n",
    "for row in range(rows):\n",
    "    s+=[0]*cols#1차원끼리 더해짐\n",
    "    \n",
    "s"
   ]
  },
  {
   "cell_type": "code",
   "execution_count": 18,
   "id": "324dbe05",
   "metadata": {},
   "outputs": [
    {
     "name": "stdout",
     "output_type": "stream",
     "text": [
      "1,2,3,4,5,\n",
      "6,7,8,9,10,\n",
      "11,12,13,14,15,\n"
     ]
    }
   ],
   "source": [
    "s = [\n",
    "    [1,2,3,4,5],\n",
    "    [6,7,8,9,10],\n",
    "    [11,12,13,14,15]\n",
    "]\n",
    "rows = len(s)\n",
    "cols = len(s[0])\n",
    "\n",
    "for r in range(rows):\n",
    "    for c in range(cols):\n",
    "        print(s[r][c], end=\",\")\n",
    "    print()"
   ]
  },
  {
   "cell_type": "code",
   "execution_count": 19,
   "id": "f5ba1a0e",
   "metadata": {},
   "outputs": [
    {
     "data": {
      "text/plain": [
       "[[0, 1, 2, 3, 4],\n",
       " [0, 1, 2, 3, 4],\n",
       " [0, 1, 2, 3, 4],\n",
       " [0, 1, 2, 3, 4],\n",
       " [0, 1, 2, 3, 4],\n",
       " [0, 1, 2, 3, 4]]"
      ]
     },
     "execution_count": 19,
     "metadata": {},
     "output_type": "execute_result"
    }
   ],
   "source": [
    "matrix = [[i for i in range(5)] for _ in range(6)]\n",
    "matrix"
   ]
  },
  {
   "cell_type": "code",
   "execution_count": 25,
   "id": "0a26382b",
   "metadata": {},
   "outputs": [
    {
     "data": {
      "text/plain": [
       "[1, 2, 3, 4, 5, 6, 7, 8, 9, 10]"
      ]
     },
     "execution_count": 25,
     "metadata": {},
     "output_type": "execute_result"
    }
   ],
   "source": [
    "def flatten(nestedlist):\n",
    "    if nestedlist==[]:\n",
    "        return nestedlist\n",
    "    elif isinstance(nestedlist[0],list):\n",
    "        return flatten(nestedlist[0]) + flatten(nestedlist[1:])\n",
    "    else:\n",
    "        return [nestedlist[0]] + flatten(nestedlist[1:])\n",
    "    \n",
    "flatten([1,2,[3,4,[5,6],[7,8],9],10])"
   ]
  },
  {
   "cell_type": "code",
   "execution_count": 43,
   "id": "687c397f",
   "metadata": {},
   "outputs": [
    {
     "name": "stdout",
     "output_type": "stream",
     "text": [
      "입력: 5\n",
      " 13   7   1  25  19 \n",
      " 18  12   6   5  24 \n",
      " 23  17  11  10   4 \n",
      "  3  22  16  15   9 \n",
      "  8   2  21  20  14 \n"
     ]
    }
   ],
   "source": [
    "def magic_square(n):\n",
    "    x = 0\n",
    "    y = n//2\n",
    "    num = 1\n",
    "    M=[]\n",
    "    for row in range(n):\n",
    "        M+=[[0]*n]\n",
    "        \n",
    "    for i in range(n*n):\n",
    "        M[x][y] = num\n",
    "        num+=1\n",
    "        new_x=x-1\n",
    "        new_y=y-1\n",
    "        if new_x<0:\n",
    "            new_x=n-1\n",
    "        if new_y<0:\n",
    "            new_y=n-1\n",
    "            \n",
    "        if M[new_x][new_y]!=0:\n",
    "            new_x = (new_x+1)%n\n",
    "        x, y = new_x, new_y\n",
    "    \n",
    "    for r in range(n):\n",
    "        for c in range(n):\n",
    "            print(f\"{M[r][c]:3d}\", end=\" \")\n",
    "        print()\n",
    "    \n",
    "a = int(input(\"입력: \"))\n",
    "magic_square(a)"
   ]
  },
  {
   "cell_type": "code",
   "execution_count": 26,
   "id": "981db673",
   "metadata": {},
   "outputs": [
    {
     "data": {
      "text/plain": [
       "[[3, 2, 4], [7, 1, 4], [10, 2, 8]]"
      ]
     },
     "execution_count": 26,
     "metadata": {},
     "output_type": "execute_result"
    }
   ],
   "source": [
    "import random\n",
    "\n",
    "A = [[random.randint(1,10) for x in range(3)] for y in range(3)]\n",
    "A"
   ]
  },
  {
   "cell_type": "code",
   "execution_count": 71,
   "id": "7bf30dbf",
   "metadata": {},
   "outputs": [
    {
     "name": "stdout",
     "output_type": "stream",
     "text": [
      " 8  4  7 \n",
      " 4  2  6 \n",
      " 1 10  8 \n",
      "\n",
      "10  8  3 \n",
      " 2  2  4 \n",
      " 7 10  1 \n"
     ]
    }
   ],
   "source": [
    "def printMatrix(Q, rows, cols):\n",
    "    for r in range(rows):\n",
    "        for c in range(cols):\n",
    "            print(f\"{Q[r][c]:2d}\", end=\" \")\n",
    "        print()\n",
    "    return\n",
    "\n",
    "A = [[random.randint(1,10) for x in range(3)] for y in range(3)]\n",
    "B = [[random.randint(1,10) for x in range(3)] for y in range(3)]\n",
    "printMatrix(A,3,3)\n",
    "print()\n",
    "printMatrix(B,3,3)"
   ]
  },
  {
   "cell_type": "code",
   "execution_count": 72,
   "id": "4ba72218",
   "metadata": {},
   "outputs": [
    {
     "name": "stdout",
     "output_type": "stream",
     "text": [
      "18 12 10 \n",
      " 6  4 10 \n",
      " 8 20  9 \n"
     ]
    }
   ],
   "source": [
    "C = []\n",
    "for r in range(3):\n",
    "    D=[]\n",
    "    for c in range(3):\n",
    "        D.append(A[r][c] + B[r][c])\n",
    "    C.append(D)\n",
    "    \n",
    "printMatrix(C,len(C),len(C[0]))"
   ]
  },
  {
   "cell_type": "code",
   "execution_count": 73,
   "id": "f8f55c4d",
   "metadata": {},
   "outputs": [
    {
     "name": "stdout",
     "output_type": "stream",
     "text": [
      " 0  1  2  3  4 \n",
      " 0  1  2  3  4 \n",
      " 0  1  2  3  4 \n",
      " 0  1  2  3  4 \n",
      " 0  1  2  3  4 \n",
      " 0  1  2  3  4 \n"
     ]
    }
   ],
   "source": [
    "matrix = [[i for i in range(5)] for _ in range(6)]\n",
    "matrix\n",
    "printMatrix(matrix, len(matrix), len(matrix[0]))"
   ]
  },
  {
   "cell_type": "code",
   "execution_count": 75,
   "id": "ca76cc9d",
   "metadata": {},
   "outputs": [
    {
     "name": "stdout",
     "output_type": "stream",
     "text": [
      "문장을 입력하세요: 오늘은 4월 6일 월요일입니다. 날씨가 좋네요.\n",
      "('오늘은', '4월', '6일', '월요일입니다.', '날씨가', '좋네요.')\n",
      "6\n",
      "6일\n",
      "['4월', '6일', '날씨가', '오늘은', '월요일입니다.', '좋네요.']\n"
     ]
    }
   ],
   "source": [
    "words = tuple(input(\"문장을 입력하세요: \").split())\n",
    "print(words)\n",
    "print(len(words))\n",
    "print(words[2])\n",
    "print(sorted(words))"
   ]
  },
  {
   "cell_type": "code",
   "execution_count": 76,
   "id": "694b02cf",
   "metadata": {},
   "outputs": [
    {
     "data": {
      "text/plain": [
       "(146, 123, 130, 102, 123, 145, 130, 144, 124, 116)"
      ]
     },
     "execution_count": 76,
     "metadata": {},
     "output_type": "execute_result"
    }
   ],
   "source": [
    "import random\n",
    "T = tuple(random.randint(100,150) for _ in range(10))\n",
    "T"
   ]
  },
  {
   "cell_type": "code",
   "execution_count": 77,
   "id": "a20dc65d",
   "metadata": {},
   "outputs": [
    {
     "name": "stdout",
     "output_type": "stream",
     "text": [
      "5\n"
     ]
    }
   ],
   "source": [
    "count = 0\n",
    "for i in range(1,len(T)):\n",
    "    if T[i]<T[i-1]:\n",
    "        count+=1\n",
    "print(count)"
   ]
  },
  {
   "cell_type": "code",
   "execution_count": 84,
   "id": "ce3e3a01",
   "metadata": {},
   "outputs": [
    {
     "name": "stdout",
     "output_type": "stream",
     "text": [
      "(6, 3, 9, 8, 0, 4, 1, 2)\n",
      "(6, 3, 9, 8, 0, 4, 1)\n",
      "(6, 3, 9, 8, 0, 4)\n",
      "(6, 3, 9, 8, 0)\n",
      "(6, 3, 9, 8)\n",
      "(6, 3, 9)\n",
      "(6, 3)\n",
      "(6,)\n"
     ]
    }
   ],
   "source": [
    "T = tuple(random.sample(range(10), 8))\n",
    "for i in range(len(T)):\n",
    "    print(T[:8-i])"
   ]
  },
  {
   "cell_type": "code",
   "execution_count": 86,
   "id": "ca6e5eca",
   "metadata": {},
   "outputs": [
    {
     "name": "stdout",
     "output_type": "stream",
     "text": [
      "{1, 2, 3}\n"
     ]
    },
    {
     "data": {
      "text/plain": [
       "{'a', 'b', 'c'}"
      ]
     },
     "execution_count": 86,
     "metadata": {},
     "output_type": "execute_result"
    }
   ],
   "source": [
    "#set\n",
    "numbers = {1,2,3}\n",
    "values = set() #set의 공집합은{}가 아니라 set()이다.\n",
    "\n",
    "numbers = set([1,2,3,1,2,3])\n",
    "print(numbers) #중복제거\n",
    "letters = set(\"abc\")\n",
    "letters #문자열 분해"
   ]
  },
  {
   "cell_type": "code",
   "execution_count": 90,
   "id": "c35f3157",
   "metadata": {},
   "outputs": [
    {
     "name": "stdout",
     "output_type": "stream",
     "text": [
      "첫 번째 문자열: Hello World!\n",
      "두 번째 문자열: How are you?\n",
      "{'H', 'o', 'r', ' ', 'e'}\n",
      "H o r   e "
     ]
    }
   ],
   "source": [
    "s1 = input(\"첫 번째 문자열: \")\n",
    "s2 = input(\"두 번째 문자열: \")\n",
    "set1 = set(s1)\n",
    "set2 = set(s2)\n",
    "\n",
    "print(set1&set2)\n",
    "for i in set1&set2:\n",
    "    print(i, end=\" \")"
   ]
  },
  {
   "cell_type": "code",
   "execution_count": 93,
   "id": "c18f716d",
   "metadata": {},
   "outputs": [
    {
     "name": "stdout",
     "output_type": "stream",
     "text": [
      "{1, 8, 11, 12, 13, 14, 16, 17, 19, 20}\n",
      "{3, 4, 5, 6, 7, 10, 11, 16, 18, 19}\n",
      "{16, 19, 11}\n",
      "{1, 3, 4, 5, 6, 7, 8, 10, 11, 12, 13, 14, 16, 17, 18, 19, 20}\n",
      "{1, 8, 12, 13, 14, 17, 20}\n"
     ]
    }
   ],
   "source": [
    "import random\n",
    "S = set(random.sample(range(1,21), 10))\n",
    "T = set(random.sample(range(1,21), 10))\n",
    "print(S)\n",
    "print(T)\n",
    "print(S&T)\n",
    "print(S|T)\n",
    "print(S-T)"
   ]
  },
  {
   "cell_type": "code",
   "execution_count": 96,
   "id": "a1f19882",
   "metadata": {},
   "outputs": [
    {
     "name": "stdout",
     "output_type": "stream",
     "text": [
      "(3, 8, 3, 5, 4, 6, 1, 7, 8, 2, 5, 1, 3, 3, 9)\n",
      "{8, 1, 3, 5}\n"
     ]
    }
   ],
   "source": [
    "A = tuple(random.randint(1,9) for x in range(15))\n",
    "print(A)\n",
    "result = set()\n",
    "S = set(A)\n",
    "for x in S:\n",
    "    if A.count(x)>=2:\n",
    "        result.add(x)\n",
    "print(result)"
   ]
  },
  {
   "cell_type": "code",
   "execution_count": 97,
   "id": "4b0bd3e3",
   "metadata": {},
   "outputs": [
    {
     "name": "stdout",
     "output_type": "stream",
     "text": [
      "{8, 1, 3, 5}\n"
     ]
    }
   ],
   "source": [
    "result = set()\n",
    "for x in A:\n",
    "    if x in S:\n",
    "        S.remove(x)\n",
    "    else:\n",
    "        result.add(x)\n",
    "print(result)"
   ]
  },
  {
   "cell_type": "code",
   "execution_count": 98,
   "id": "7c527d20",
   "metadata": {},
   "outputs": [
    {
     "data": {
      "text/plain": [
       "{'Korean': 'Seoul', 'USA': 'Washingthon', 'UK': 'London'}"
      ]
     },
     "execution_count": 98,
     "metadata": {},
     "output_type": "execute_result"
    }
   ],
   "source": [
    "#딕셔너리\n",
    "capitals = {\"Korean\":\"Seoul\", \"USA\":\"Washingthon\"}\n",
    "capitals[\"UK\"] = \"London\"\n",
    "capitals"
   ]
  },
  {
   "cell_type": "code",
   "execution_count": 100,
   "id": "692bbb7f",
   "metadata": {},
   "outputs": [
    {
     "name": "stdout",
     "output_type": "stream",
     "text": [
      "Seoul\n",
      "해당 키가 없습니다.\n"
     ]
    }
   ],
   "source": [
    "print(capitals[\"Korean\"])\n",
    "print(capitals.get(\"France\",\"해당 키가 없습니다.\"))"
   ]
  },
  {
   "cell_type": "code",
   "execution_count": 101,
   "id": "2909a880",
   "metadata": {},
   "outputs": [
    {
     "name": "stdout",
     "output_type": "stream",
     "text": [
      "Korean : Seoul\n",
      "USA : Washingthon\n",
      "UK : London\n"
     ]
    }
   ],
   "source": [
    "for key in capitals:\n",
    "    print(key,\":\",capitals[key])"
   ]
  },
  {
   "cell_type": "code",
   "execution_count": 102,
   "id": "56402c14",
   "metadata": {},
   "outputs": [
    {
     "name": "stdout",
     "output_type": "stream",
     "text": [
      "Korean : Seoul\n",
      "USA : Washingthon\n",
      "UK : London\n"
     ]
    }
   ],
   "source": [
    "for key, value in capitals.items():\n",
    "    print(key,\":\",value)"
   ]
  },
  {
   "cell_type": "code",
   "execution_count": 104,
   "id": "e1ac4251",
   "metadata": {},
   "outputs": [
    {
     "name": "stdout",
     "output_type": "stream",
     "text": [
      "{2: 4, 4: 16, 6: 36}\n"
     ]
    }
   ],
   "source": [
    "values = [1,2,3,4,5,6]\n",
    "dic = {x:x**2 for x in values if x%2==0}\n",
    "print(dic)"
   ]
  },
  {
   "cell_type": "code",
   "execution_count": 112,
   "id": "cd333745",
   "metadata": {},
   "outputs": [
    {
     "name": "stdout",
     "output_type": "stream",
     "text": [
      "{'A': 6709, 'a': 3846, 'B': 5894, 'b': 2206, 'C': 5571, 'c': 2103, 'D': 9801, 'd': 2078, 'E': 2535, 'e': 5531, 'F': 9103, 'f': 4038, 'G': 6032, 'g': 3959, 'H': 9341, 'h': 3855, 'I': 1068, 'i': 6913, 'J': 7877, 'j': 2345, 'K': 1271, 'k': 5639, 'L': 3039, 'l': 9276, 'M': 4497, 'm': 2638, 'N': 3388, 'n': 9246, 'O': 8237, 'o': 4305, 'P': 3212, 'p': 4165, 'Q': 6696, 'q': 5340, 'R': 1017, 'r': 6911, 'S': 8105, 's': 3274, 'T': 2342, 't': 3493, 'U': 9045, 'u': 8649, 'V': 9009, 'v': 8465, 'W': 9859, 'w': 9742, 'X': 1722, 'x': 1593, 'Y': 2735, 'y': 9115, 'Z': 6249, 'z': 4258}\n",
      "id: a\n",
      "3846\n"
     ]
    }
   ],
   "source": [
    "import random\n",
    "\n",
    "info = {}\n",
    "# for key in \"ABCDEFGHIJKLMNOPQRSTUVWXYZ\":\n",
    "#     info[key] = random.randint(1000,9999)\n",
    "    \n",
    "for x in range(26):\n",
    "    key = chr(ord('A')+x)\n",
    "    info[key] = random.randint(1000,10000)\n",
    "    key = chr(ord('a')+x)\n",
    "    info[key] = random.randint(1000,10000)\n",
    "print(info)\n",
    "    \n",
    "id = input(\"id: \")\n",
    "if id in info:\n",
    "    print(info[id])\n",
    "else:\n",
    "    print(\"not in\")"
   ]
  },
  {
   "cell_type": "code",
   "execution_count": 118,
   "id": "c550a8d8",
   "metadata": {},
   "outputs": [
    {
     "name": "stdout",
     "output_type": "stream",
     "text": [
      "문장을 입력하세요: acccdefs\n",
      "{'a': 1, 'c': 3, 'd': 1, 'e': 1, 'f': 1, 's': 1}\n"
     ]
    }
   ],
   "source": [
    "word = input(\"문장을 입력하세요: \")\n",
    "d={}\n",
    "for i in word:\n",
    "    d[i] = d.get(i,0) + 1\n",
    "print(d)"
   ]
  },
  {
   "cell_type": "code",
   "execution_count": 132,
   "id": "b34acc09",
   "metadata": {},
   "outputs": [
    {
     "name": "stdout",
     "output_type": "stream",
     "text": [
      "c\n",
      "3\n",
      "[('c', 3)]\n"
     ]
    }
   ],
   "source": [
    "max_value = max(d.values())\n",
    "for key in d.keys():\n",
    "    if d[key] == max_value:\n",
    "        print(key)\n",
    "        print(d[key])\n",
    "    \n",
    "from collections import Counter\n",
    "c = Counter(d)\n",
    "print(c.most_common(1))"
   ]
  },
  {
   "cell_type": "code",
   "execution_count": 133,
   "id": "7c4c62ed",
   "metadata": {},
   "outputs": [
    {
     "name": "stdout",
     "output_type": "stream",
     "text": [
      "181 150\n",
      "가장 적게 나온 수와 빈도수 = (3,150)\n",
      "가장 많이 나온 수와 빈도수 = (4,181)\n"
     ]
    }
   ],
   "source": [
    "import random\n",
    "dice = {}\n",
    "for _ in range(1000):\n",
    "    key = random.randint(1,6)\n",
    "    dice[key] = dice.get(key,0)+1\n",
    "    \n",
    "max_value = max(dice.values())\n",
    "min_value = min(dice.values())\n",
    "print(max_value, min_value)\n",
    "\n",
    "for x in dice.keys():\n",
    "    if dice[x] == max_value:\n",
    "        print(f\"가장 많이 나온 수와 빈도수 = ({x},{dice[x]})\")\n",
    "    if dice[x] == min_value:\n",
    "        print(f\"가장 적게 나온 수와 빈도수 = ({x},{dice[x]})\")"
   ]
  },
  {
   "cell_type": "code",
   "execution_count": 135,
   "id": "4bb9c241",
   "metadata": {},
   "outputs": [
    {
     "name": "stdout",
     "output_type": "stream",
     "text": [
      "['a', 'b', 'c', 'd', 'e', 'f', 'g', 'h', 'i', 'j', 'k', 'l', 'm', 'n', 'o', 'p', 'q', 'r', 's', 't', 'u', 'v', 'w', 'x', 'y', 'z'] ['m', 'y', 'h', 'e', 'u', 'o', 'g', 'd', 't', 'x', 'c', 'b', 'z', 'k', 'f', 'a', 'w', 'i', 'r', 's', 'q', 'p', 'n', 'j', 'l', 'v']\n"
     ]
    }
   ],
   "source": [
    "import random\n",
    "\n",
    "alphabet = [chr(ord('a')+x) for x in range(26)]\n",
    "shuffled = alphabet.copy()\n",
    "random.shuffle(shuffled)\n",
    "print(alphabet, shuffled)"
   ]
  },
  {
   "cell_type": "code",
   "execution_count": 136,
   "id": "129c3cb8",
   "metadata": {},
   "outputs": [
    {
     "name": "stdout",
     "output_type": "stream",
     "text": [
      "{'a': 'm', 'b': 'y', 'c': 'h', 'd': 'e', 'e': 'u', 'f': 'o', 'g': 'g', 'h': 'd', 'i': 't', 'j': 'x', 'k': 'c', 'l': 'b', 'm': 'z', 'n': 'k', 'o': 'f', 'p': 'a', 'q': 'w', 'r': 'i', 's': 'r', 't': 's', 'u': 'q', 'v': 'p', 'w': 'n', 'x': 'j', 'y': 'l', 'z': 'v'}\n"
     ]
    }
   ],
   "source": [
    "ebook = dict(zip(alphabet, shuffled))\n",
    "print(ebook)"
   ]
  },
  {
   "cell_type": "code",
   "execution_count": 137,
   "id": "aab6cb79",
   "metadata": {},
   "outputs": [
    {
     "name": "stdout",
     "output_type": "stream",
     "text": [
      "평문을 입력하세요: hello world, my name is james web.\n",
      "암호문 = dubbf nfibe, zl kmzu tr xmzur nuy.\n"
     ]
    }
   ],
   "source": [
    "plain = input(\"평문을 입력하세요: \")\n",
    "encrypted = \"\"\n",
    "for ch in plain:\n",
    "    if ch in ebook:\n",
    "        encrypted += ebook[ch]\n",
    "    else:\n",
    "        encrypted += ch\n",
    "print(\"암호문 =\", encrypted)"
   ]
  },
  {
   "cell_type": "code",
   "execution_count": 138,
   "id": "70076ad2",
   "metadata": {},
   "outputs": [
    {
     "name": "stdout",
     "output_type": "stream",
     "text": [
      "{'m': 'a', 'y': 'b', 'h': 'c', 'e': 'd', 'u': 'e', 'o': 'f', 'g': 'g', 'd': 'h', 't': 'i', 'x': 'j', 'c': 'k', 'b': 'l', 'z': 'm', 'k': 'n', 'f': 'o', 'a': 'p', 'w': 'q', 'i': 'r', 'r': 's', 's': 't', 'q': 'u', 'p': 'v', 'n': 'w', 'j': 'x', 'l': 'y', 'v': 'z'}\n"
     ]
    }
   ],
   "source": [
    "dbook = {value:key for key, value in ebook.items()}\n",
    "print(dbook)"
   ]
  },
  {
   "cell_type": "code",
   "execution_count": 139,
   "id": "659787cf",
   "metadata": {},
   "outputs": [
    {
     "name": "stdout",
     "output_type": "stream",
     "text": [
      "hello world, my name is james web.\n"
     ]
    }
   ],
   "source": [
    "decrypted = \"\"\n",
    "for ch in encrypted:\n",
    "    if ch in dbook:\n",
    "        decrypted += dbook[ch]\n",
    "    else:\n",
    "        decrypted += ch\n",
    "print(decrypted)"
   ]
  },
  {
   "cell_type": "code",
   "execution_count": 2,
   "id": "f88084cf",
   "metadata": {},
   "outputs": [
    {
     "name": "stdout",
     "output_type": "stream",
     "text": [
      "문자열을 입력하십시오: North Atlantic Treaty Organization\n",
      "NATO\n"
     ]
    }
   ],
   "source": [
    "a = input(\"문자열을 입력하십시오: \").split()\n",
    "print(\"\".join(w[0] for w in a))"
   ]
  },
  {
   "cell_type": "code",
   "execution_count": 3,
   "id": "92d943ce",
   "metadata": {},
   "outputs": [
    {
     "name": "stdout",
     "output_type": "stream",
     "text": [
      "이메일: aaa@google.com\n",
      "aaa@google.com\n",
      "아이디:aaa\n",
      "도메인:google.com\n"
     ]
    }
   ],
   "source": [
    "address=input(\"이메일: \")\n",
    "(id, domain) = address.split(\"@\")\n",
    "print(address)\n",
    "print(\"아이디:\"+id)\n",
    "print(\"도메인:\"+domain)"
   ]
  },
  {
   "cell_type": "code",
   "execution_count": 4,
   "id": "9e680c3f",
   "metadata": {},
   "outputs": [
    {
     "name": "stdout",
     "output_type": "stream",
     "text": [
      "1482\n"
     ]
    }
   ],
   "source": [
    "import random\n",
    "s = \"0123456789\"\n",
    "passlen = 4\n",
    "print(\"\".join([random.choice(s) for _ in range(4)]))"
   ]
  },
  {
   "cell_type": "code",
   "execution_count": 1,
   "id": "3428f712",
   "metadata": {},
   "outputs": [
    {
     "name": "stdout",
     "output_type": "stream",
     "text": [
      "ISSN 번호를 입력하세요: 02642875\n",
      "O\n"
     ]
    }
   ],
   "source": [
    "issn = input(\"ISSN 번호를 입력하세요: \")\n",
    "check = 0\n",
    "n=8\n",
    "\n",
    "for i in issn[:7]:\n",
    "    check += int(i)*n\n",
    "    n-=1\n",
    "\n",
    "checkcode = str(11-(check%11))\n",
    "\n",
    "if checkcode==\"10\":\n",
    "    checkcode= \"X\"\n",
    "\n",
    "if checkcode==issn[-1]:\n",
    "    print(\"O\")\n",
    "else:\n",
    "    print(\"X\")"
   ]
  },
  {
   "cell_type": "code",
   "execution_count": 10,
   "id": "067c1b7a",
   "metadata": {},
   "outputs": [
    {
     "name": "stdout",
     "output_type": "stream",
     "text": [
      "휴대폰 번호를 입력하세요(종료는 q): 010-1234-1234\n",
      "Ok\n",
      "휴대폰 번호를 입력하세요(종료는 q): 011-1234-1234\n",
      "잘못된 전화번호 양식입니다.\n",
      "휴대폰 번호를 입력하세요(종료는 q): 010-123-1234\n",
      "잘못된 전화번호 양식입니다.\n",
      "휴대폰 번호를 입력하세요(종료는 q): 01012341234\n",
      "잘못된 전화번호 양식입니다.\n",
      "휴대폰 번호를 입력하세요(종료는 q): 010-abcd-abcd\n",
      "잘못된 전화번호 양식입니다.\n"
     ]
    },
    {
     "ename": "KeyboardInterrupt",
     "evalue": "Interrupted by user",
     "output_type": "error",
     "traceback": [
      "\u001b[0;31m---------------------------------------------------------------------------\u001b[0m",
      "\u001b[0;31mKeyboardInterrupt\u001b[0m                         Traceback (most recent call last)",
      "\u001b[0;32m/var/folders/tk/_xgwj1jx765d70vyp9fbnn140000gn/T/ipykernel_3177/134417475.py\u001b[0m in \u001b[0;36m<module>\u001b[0;34m\u001b[0m\n\u001b[1;32m      1\u001b[0m \u001b[0;32mwhile\u001b[0m \u001b[0;32mTrue\u001b[0m\u001b[0;34m:\u001b[0m\u001b[0;34m\u001b[0m\u001b[0;34m\u001b[0m\u001b[0m\n\u001b[0;32m----> 2\u001b[0;31m     \u001b[0minp\u001b[0m \u001b[0;34m=\u001b[0m \u001b[0minput\u001b[0m\u001b[0;34m(\u001b[0m\u001b[0;34m\"휴대폰 번호를 입력하세요(종료는 q): \"\u001b[0m\u001b[0;34m)\u001b[0m\u001b[0;34m\u001b[0m\u001b[0;34m\u001b[0m\u001b[0m\n\u001b[0m\u001b[1;32m      3\u001b[0m     \u001b[0;32mif\u001b[0m \u001b[0minp\u001b[0m \u001b[0;34m==\u001b[0m\u001b[0;34m'q'\u001b[0m\u001b[0;34m:\u001b[0m\u001b[0;34m\u001b[0m\u001b[0;34m\u001b[0m\u001b[0m\n\u001b[1;32m      4\u001b[0m         \u001b[0;32mbreak\u001b[0m\u001b[0;34m\u001b[0m\u001b[0;34m\u001b[0m\u001b[0m\n\u001b[1;32m      5\u001b[0m \u001b[0;34m\u001b[0m\u001b[0m\n",
      "\u001b[0;32m~/opt/anaconda3/envs/vrconda/lib/python3.7/site-packages/ipykernel/kernelbase.py\u001b[0m in \u001b[0;36mraw_input\u001b[0;34m(self, prompt)\u001b[0m\n\u001b[1;32m   1077\u001b[0m             \u001b[0mself\u001b[0m\u001b[0;34m.\u001b[0m\u001b[0m_parent_ident\u001b[0m\u001b[0;34m[\u001b[0m\u001b[0;34m\"shell\"\u001b[0m\u001b[0;34m]\u001b[0m\u001b[0;34m,\u001b[0m\u001b[0;34m\u001b[0m\u001b[0;34m\u001b[0m\u001b[0m\n\u001b[1;32m   1078\u001b[0m             \u001b[0mself\u001b[0m\u001b[0;34m.\u001b[0m\u001b[0mget_parent\u001b[0m\u001b[0;34m(\u001b[0m\u001b[0;34m\"shell\"\u001b[0m\u001b[0;34m)\u001b[0m\u001b[0;34m,\u001b[0m\u001b[0;34m\u001b[0m\u001b[0;34m\u001b[0m\u001b[0m\n\u001b[0;32m-> 1079\u001b[0;31m             \u001b[0mpassword\u001b[0m\u001b[0;34m=\u001b[0m\u001b[0;32mFalse\u001b[0m\u001b[0;34m,\u001b[0m\u001b[0;34m\u001b[0m\u001b[0;34m\u001b[0m\u001b[0m\n\u001b[0m\u001b[1;32m   1080\u001b[0m         )\n\u001b[1;32m   1081\u001b[0m \u001b[0;34m\u001b[0m\u001b[0m\n",
      "\u001b[0;32m~/opt/anaconda3/envs/vrconda/lib/python3.7/site-packages/ipykernel/kernelbase.py\u001b[0m in \u001b[0;36m_input_request\u001b[0;34m(self, prompt, ident, parent, password)\u001b[0m\n\u001b[1;32m   1118\u001b[0m             \u001b[0;32mexcept\u001b[0m \u001b[0mKeyboardInterrupt\u001b[0m\u001b[0;34m:\u001b[0m\u001b[0;34m\u001b[0m\u001b[0;34m\u001b[0m\u001b[0m\n\u001b[1;32m   1119\u001b[0m                 \u001b[0;31m# re-raise KeyboardInterrupt, to truncate traceback\u001b[0m\u001b[0;34m\u001b[0m\u001b[0;34m\u001b[0m\u001b[0;34m\u001b[0m\u001b[0m\n\u001b[0;32m-> 1120\u001b[0;31m                 \u001b[0;32mraise\u001b[0m \u001b[0mKeyboardInterrupt\u001b[0m\u001b[0;34m(\u001b[0m\u001b[0;34m\"Interrupted by user\"\u001b[0m\u001b[0;34m)\u001b[0m \u001b[0;32mfrom\u001b[0m \u001b[0;32mNone\u001b[0m\u001b[0;34m\u001b[0m\u001b[0;34m\u001b[0m\u001b[0m\n\u001b[0m\u001b[1;32m   1121\u001b[0m             \u001b[0;32mexcept\u001b[0m \u001b[0mException\u001b[0m\u001b[0;34m:\u001b[0m\u001b[0;34m\u001b[0m\u001b[0;34m\u001b[0m\u001b[0m\n\u001b[1;32m   1122\u001b[0m                 \u001b[0mself\u001b[0m\u001b[0;34m.\u001b[0m\u001b[0mlog\u001b[0m\u001b[0;34m.\u001b[0m\u001b[0mwarning\u001b[0m\u001b[0;34m(\u001b[0m\u001b[0;34m\"Invalid Message:\"\u001b[0m\u001b[0;34m,\u001b[0m \u001b[0mexc_info\u001b[0m\u001b[0;34m=\u001b[0m\u001b[0;32mTrue\u001b[0m\u001b[0;34m)\u001b[0m\u001b[0;34m\u001b[0m\u001b[0;34m\u001b[0m\u001b[0m\n",
      "\u001b[0;31mKeyboardInterrupt\u001b[0m: Interrupted by user"
     ]
    }
   ],
   "source": [
    "while True:\n",
    "    inp = input(\"휴대폰 번호를 입력하세요(종료는 q): \")\n",
    "    if inp =='q':\n",
    "        break\n",
    "    \n",
    "    if len(inp)!= 13 or inp.count('-') != 2 or inp[:3]!= \"010\":\n",
    "        print(\"잘못된 전화번호 양식입니다.\")\n",
    "        continue\n",
    "    d1, d2 = inp.split(\"-\")[1:]\n",
    "    if len(d1)!=4 or not d1.isdigit() or not d2.isdigit() or len(d2)!=4:\n",
    "        print(\"잘못된 전화번호 양식입니다.\")\n",
    "    else:\n",
    "        print(\"Ok\")\n",
    "    "
   ]
  },
  {
   "cell_type": "code",
   "execution_count": 15,
   "id": "1ce74d8d",
   "metadata": {},
   "outputs": [
    {
     "name": "stdout",
     "output_type": "stream",
     "text": [
      "문장을 입력하세요.: What a beautiful world? I read a java book.\n",
      "금칙어를 입력하세요.: beautiful java\n",
      "What a ********* world? I read a **** book.\n"
     ]
    }
   ],
   "source": [
    "sentence = input(\"문장을 입력하세요.: \")\n",
    "not_w = input(\"금칙어를 입력하세요.: \").split()\n",
    "for i in not_w:\n",
    "    sentence = sentence.replace(i,\"*\"*len(i))\n",
    "print(sentence)"
   ]
  },
  {
   "cell_type": "code",
   "execution_count": null,
   "id": "b6b4f0ff",
   "metadata": {},
   "outputs": [],
   "source": []
  }
 ],
 "metadata": {
  "kernelspec": {
   "display_name": "Python 3 (ipykernel)",
   "language": "python",
   "name": "python3"
  },
  "language_info": {
   "codemirror_mode": {
    "name": "ipython",
    "version": 3
   },
   "file_extension": ".py",
   "mimetype": "text/x-python",
   "name": "python",
   "nbconvert_exporter": "python",
   "pygments_lexer": "ipython3",
   "version": "3.7.13"
  }
 },
 "nbformat": 4,
 "nbformat_minor": 5
}
