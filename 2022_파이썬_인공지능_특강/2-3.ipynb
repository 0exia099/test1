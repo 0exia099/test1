{
 "cells": [
  {
   "cell_type": "code",
   "execution_count": 3,
   "id": "7cdf523f",
   "metadata": {},
   "outputs": [],
   "source": [
    "import pandas as pd"
   ]
  },
  {
   "cell_type": "code",
   "execution_count": 52,
   "id": "35ab9ff8",
   "metadata": {},
   "outputs": [],
   "source": [
    "casts = pd.read_csv('cast.csv')"
   ]
  },
  {
   "cell_type": "markdown",
   "id": "ae0ff6f4",
   "metadata": {},
   "source": [
    "### Index"
   ]
  },
  {
   "cell_type": "code",
   "execution_count": 53,
   "id": "284536a8",
   "metadata": {},
   "outputs": [
    {
     "data": {
      "text/html": [
       "<div>\n",
       "<style scoped>\n",
       "    .dataframe tbody tr th:only-of-type {\n",
       "        vertical-align: middle;\n",
       "    }\n",
       "\n",
       "    .dataframe tbody tr th {\n",
       "        vertical-align: top;\n",
       "    }\n",
       "\n",
       "    .dataframe thead th {\n",
       "        text-align: right;\n",
       "    }\n",
       "</style>\n",
       "<table border=\"1\" class=\"dataframe\">\n",
       "  <thead>\n",
       "    <tr style=\"text-align: right;\">\n",
       "      <th></th>\n",
       "      <th>title</th>\n",
       "      <th>year</th>\n",
       "      <th>name</th>\n",
       "      <th>type</th>\n",
       "      <th>character</th>\n",
       "      <th>n</th>\n",
       "    </tr>\n",
       "  </thead>\n",
       "  <tbody>\n",
       "    <tr>\n",
       "      <th>0</th>\n",
       "      <td>Closet Monster</td>\n",
       "      <td>2015</td>\n",
       "      <td>Buffy #1</td>\n",
       "      <td>actor</td>\n",
       "      <td>Buffy 4</td>\n",
       "      <td>31.0</td>\n",
       "    </tr>\n",
       "    <tr>\n",
       "      <th>1</th>\n",
       "      <td>Suuri illusioni</td>\n",
       "      <td>1985</td>\n",
       "      <td>Homo $</td>\n",
       "      <td>actor</td>\n",
       "      <td>Guests</td>\n",
       "      <td>22.0</td>\n",
       "    </tr>\n",
       "    <tr>\n",
       "      <th>2</th>\n",
       "      <td>Battle of the Sexes</td>\n",
       "      <td>2017</td>\n",
       "      <td>$hutter</td>\n",
       "      <td>actor</td>\n",
       "      <td>Bobby Riggs Fan</td>\n",
       "      <td>10.0</td>\n",
       "    </tr>\n",
       "    <tr>\n",
       "      <th>3</th>\n",
       "      <td>Secret in Their Eyes</td>\n",
       "      <td>2015</td>\n",
       "      <td>$hutter</td>\n",
       "      <td>actor</td>\n",
       "      <td>2002 Dodger Fan</td>\n",
       "      <td>NaN</td>\n",
       "    </tr>\n",
       "    <tr>\n",
       "      <th>4</th>\n",
       "      <td>Steve Jobs</td>\n",
       "      <td>2015</td>\n",
       "      <td>$hutter</td>\n",
       "      <td>actor</td>\n",
       "      <td>1988 Opera House Patron</td>\n",
       "      <td>NaN</td>\n",
       "    </tr>\n",
       "    <tr>\n",
       "      <th>...</th>\n",
       "      <td>...</td>\n",
       "      <td>...</td>\n",
       "      <td>...</td>\n",
       "      <td>...</td>\n",
       "      <td>...</td>\n",
       "      <td>...</td>\n",
       "    </tr>\n",
       "    <tr>\n",
       "      <th>74996</th>\n",
       "      <td>Mia fora kai ena... moro</td>\n",
       "      <td>2011</td>\n",
       "      <td>Penelope Anastasopoulou</td>\n",
       "      <td>actress</td>\n",
       "      <td>Popi voulkanizater</td>\n",
       "      <td>11.0</td>\n",
       "    </tr>\n",
       "    <tr>\n",
       "      <th>74997</th>\n",
       "      <td>The Magician King</td>\n",
       "      <td>2004</td>\n",
       "      <td>Tiannah Anastassiades</td>\n",
       "      <td>actress</td>\n",
       "      <td>Unicycle Race Attendant</td>\n",
       "      <td>NaN</td>\n",
       "    </tr>\n",
       "    <tr>\n",
       "      <th>74998</th>\n",
       "      <td>Festival of Lights</td>\n",
       "      <td>2010</td>\n",
       "      <td>Zoe Anastassiou</td>\n",
       "      <td>actress</td>\n",
       "      <td>Guidance Counselor</td>\n",
       "      <td>20.0</td>\n",
       "    </tr>\n",
       "    <tr>\n",
       "      <th>74999</th>\n",
       "      <td>Toxic Tutu</td>\n",
       "      <td>2016</td>\n",
       "      <td>Zoe Anastassiou</td>\n",
       "      <td>actress</td>\n",
       "      <td>Demon of Toxicity</td>\n",
       "      <td>NaN</td>\n",
       "    </tr>\n",
       "    <tr>\n",
       "      <th>75000</th>\n",
       "      <td>Fugitive Pieces</td>\n",
       "      <td>2007</td>\n",
       "      <td>Anastassia Anastassopoulou</td>\n",
       "      <td>actress</td>\n",
       "      <td>Laundry Girl</td>\n",
       "      <td>25.0</td>\n",
       "    </tr>\n",
       "  </tbody>\n",
       "</table>\n",
       "<p>75001 rows × 6 columns</p>\n",
       "</div>"
      ],
      "text/plain": [
       "                          title  year                        name     type  \\\n",
       "0                Closet Monster  2015                    Buffy #1    actor   \n",
       "1               Suuri illusioni  1985                      Homo $    actor   \n",
       "2           Battle of the Sexes  2017                     $hutter    actor   \n",
       "3          Secret in Their Eyes  2015                     $hutter    actor   \n",
       "4                    Steve Jobs  2015                     $hutter    actor   \n",
       "...                         ...   ...                         ...      ...   \n",
       "74996  Mia fora kai ena... moro  2011     Penelope Anastasopoulou  actress   \n",
       "74997         The Magician King  2004       Tiannah Anastassiades  actress   \n",
       "74998        Festival of Lights  2010             Zoe Anastassiou  actress   \n",
       "74999                Toxic Tutu  2016             Zoe Anastassiou  actress   \n",
       "75000           Fugitive Pieces  2007  Anastassia Anastassopoulou  actress   \n",
       "\n",
       "                     character     n  \n",
       "0                      Buffy 4  31.0  \n",
       "1                       Guests  22.0  \n",
       "2              Bobby Riggs Fan  10.0  \n",
       "3              2002 Dodger Fan   NaN  \n",
       "4      1988 Opera House Patron   NaN  \n",
       "...                        ...   ...  \n",
       "74996       Popi voulkanizater  11.0  \n",
       "74997  Unicycle Race Attendant   NaN  \n",
       "74998       Guidance Counselor  20.0  \n",
       "74999        Demon of Toxicity   NaN  \n",
       "75000             Laundry Girl  25.0  \n",
       "\n",
       "[75001 rows x 6 columns]"
      ]
     },
     "execution_count": 53,
     "metadata": {},
     "output_type": "execute_result"
    }
   ],
   "source": [
    "casts"
   ]
  },
  {
   "cell_type": "code",
   "execution_count": 54,
   "id": "da3ec9f8",
   "metadata": {
    "collapsed": true
   },
   "outputs": [
    {
     "name": "stdout",
     "output_type": "stream",
     "text": [
      "CPU times: user 16.2 ms, sys: 2.17 ms, total: 18.3 ms\n",
      "Wall time: 17.7 ms\n"
     ]
    },
    {
     "data": {
      "text/html": [
       "<div>\n",
       "<style scoped>\n",
       "    .dataframe tbody tr th:only-of-type {\n",
       "        vertical-align: middle;\n",
       "    }\n",
       "\n",
       "    .dataframe tbody tr th {\n",
       "        vertical-align: top;\n",
       "    }\n",
       "\n",
       "    .dataframe thead th {\n",
       "        text-align: right;\n",
       "    }\n",
       "</style>\n",
       "<table border=\"1\" class=\"dataframe\">\n",
       "  <thead>\n",
       "    <tr style=\"text-align: right;\">\n",
       "      <th></th>\n",
       "      <th>title</th>\n",
       "      <th>year</th>\n",
       "      <th>name</th>\n",
       "      <th>type</th>\n",
       "      <th>character</th>\n",
       "      <th>n</th>\n",
       "    </tr>\n",
       "  </thead>\n",
       "  <tbody>\n",
       "    <tr>\n",
       "      <th>12868</th>\n",
       "      <td>Macbeth</td>\n",
       "      <td>2015</td>\n",
       "      <td>Darren Adamson</td>\n",
       "      <td>actor</td>\n",
       "      <td>Soldier</td>\n",
       "      <td>NaN</td>\n",
       "    </tr>\n",
       "    <tr>\n",
       "      <th>22302</th>\n",
       "      <td>Macbeth</td>\n",
       "      <td>1916</td>\n",
       "      <td>Spottiswoode Aitken</td>\n",
       "      <td>actor</td>\n",
       "      <td>Duncan</td>\n",
       "      <td>4.0</td>\n",
       "    </tr>\n",
       "    <tr>\n",
       "      <th>25855</th>\n",
       "      <td>Macbeth</td>\n",
       "      <td>1948</td>\n",
       "      <td>Robert Alan</td>\n",
       "      <td>actor</td>\n",
       "      <td>Third Murderer</td>\n",
       "      <td>NaN</td>\n",
       "    </tr>\n",
       "    <tr>\n",
       "      <th>26990</th>\n",
       "      <td>Macbeth</td>\n",
       "      <td>2016</td>\n",
       "      <td>John Albasiny</td>\n",
       "      <td>actor</td>\n",
       "      <td>Doctor</td>\n",
       "      <td>NaN</td>\n",
       "    </tr>\n",
       "    <tr>\n",
       "      <th>38090</th>\n",
       "      <td>Macbeth</td>\n",
       "      <td>1948</td>\n",
       "      <td>William Alland</td>\n",
       "      <td>actor</td>\n",
       "      <td>Second Murderer</td>\n",
       "      <td>18.0</td>\n",
       "    </tr>\n",
       "    <tr>\n",
       "      <th>40639</th>\n",
       "      <td>Macbeth</td>\n",
       "      <td>1997</td>\n",
       "      <td>Stevie Allen</td>\n",
       "      <td>actor</td>\n",
       "      <td>Murderer</td>\n",
       "      <td>21.0</td>\n",
       "    </tr>\n",
       "    <tr>\n",
       "      <th>60543</th>\n",
       "      <td>Macbeth</td>\n",
       "      <td>2014</td>\n",
       "      <td>Moyo Akand?</td>\n",
       "      <td>actress</td>\n",
       "      <td>Witch</td>\n",
       "      <td>NaN</td>\n",
       "    </tr>\n",
       "    <tr>\n",
       "      <th>63776</th>\n",
       "      <td>Macbeth</td>\n",
       "      <td>1916</td>\n",
       "      <td>Mary Alden</td>\n",
       "      <td>actress</td>\n",
       "      <td>Lady Macduff</td>\n",
       "      <td>6.0</td>\n",
       "    </tr>\n",
       "  </tbody>\n",
       "</table>\n",
       "</div>"
      ],
      "text/plain": [
       "         title  year                 name     type        character     n\n",
       "12868  Macbeth  2015       Darren Adamson    actor          Soldier   NaN\n",
       "22302  Macbeth  1916  Spottiswoode Aitken    actor           Duncan   4.0\n",
       "25855  Macbeth  1948          Robert Alan    actor   Third Murderer   NaN\n",
       "26990  Macbeth  2016        John Albasiny    actor           Doctor   NaN\n",
       "38090  Macbeth  1948       William Alland    actor  Second Murderer  18.0\n",
       "40639  Macbeth  1997         Stevie Allen    actor         Murderer  21.0\n",
       "60543  Macbeth  2014          Moyo Akand?  actress            Witch   NaN\n",
       "63776  Macbeth  1916           Mary Alden  actress     Lady Macduff   6.0"
      ]
     },
     "execution_count": 54,
     "metadata": {},
     "output_type": "execute_result"
    }
   ],
   "source": [
    "%%time\n",
    "casts[casts['title']=='Macbeth']"
   ]
  },
  {
   "cell_type": "code",
   "execution_count": 55,
   "id": "e4fd6ca4",
   "metadata": {},
   "outputs": [
    {
     "name": "stdout",
     "output_type": "stream",
     "text": [
      "3.7 ms ± 41.9 µs per loop (mean ± std. dev. of 7 runs, 100 loops each)\n"
     ]
    }
   ],
   "source": [
    "%%timeit\n",
    "casts[casts['title']=='Macbeth']"
   ]
  },
  {
   "cell_type": "code",
   "execution_count": 56,
   "id": "907942eb",
   "metadata": {},
   "outputs": [],
   "source": [
    "title_indexed_casts = casts.set_index(['title'])  #title을 인덱스로"
   ]
  },
  {
   "cell_type": "code",
   "execution_count": 57,
   "id": "a6bb1eda",
   "metadata": {
    "collapsed": true
   },
   "outputs": [
    {
     "data": {
      "text/html": [
       "<div>\n",
       "<style scoped>\n",
       "    .dataframe tbody tr th:only-of-type {\n",
       "        vertical-align: middle;\n",
       "    }\n",
       "\n",
       "    .dataframe tbody tr th {\n",
       "        vertical-align: top;\n",
       "    }\n",
       "\n",
       "    .dataframe thead th {\n",
       "        text-align: right;\n",
       "    }\n",
       "</style>\n",
       "<table border=\"1\" class=\"dataframe\">\n",
       "  <thead>\n",
       "    <tr style=\"text-align: right;\">\n",
       "      <th></th>\n",
       "      <th>year</th>\n",
       "      <th>name</th>\n",
       "      <th>type</th>\n",
       "      <th>character</th>\n",
       "      <th>n</th>\n",
       "    </tr>\n",
       "    <tr>\n",
       "      <th>title</th>\n",
       "      <th></th>\n",
       "      <th></th>\n",
       "      <th></th>\n",
       "      <th></th>\n",
       "      <th></th>\n",
       "    </tr>\n",
       "  </thead>\n",
       "  <tbody>\n",
       "    <tr>\n",
       "      <th>Closet Monster</th>\n",
       "      <td>2015</td>\n",
       "      <td>Buffy #1</td>\n",
       "      <td>actor</td>\n",
       "      <td>Buffy 4</td>\n",
       "      <td>31.0</td>\n",
       "    </tr>\n",
       "    <tr>\n",
       "      <th>Suuri illusioni</th>\n",
       "      <td>1985</td>\n",
       "      <td>Homo $</td>\n",
       "      <td>actor</td>\n",
       "      <td>Guests</td>\n",
       "      <td>22.0</td>\n",
       "    </tr>\n",
       "    <tr>\n",
       "      <th>Battle of the Sexes</th>\n",
       "      <td>2017</td>\n",
       "      <td>$hutter</td>\n",
       "      <td>actor</td>\n",
       "      <td>Bobby Riggs Fan</td>\n",
       "      <td>10.0</td>\n",
       "    </tr>\n",
       "    <tr>\n",
       "      <th>Secret in Their Eyes</th>\n",
       "      <td>2015</td>\n",
       "      <td>$hutter</td>\n",
       "      <td>actor</td>\n",
       "      <td>2002 Dodger Fan</td>\n",
       "      <td>NaN</td>\n",
       "    </tr>\n",
       "    <tr>\n",
       "      <th>Steve Jobs</th>\n",
       "      <td>2015</td>\n",
       "      <td>$hutter</td>\n",
       "      <td>actor</td>\n",
       "      <td>1988 Opera House Patron</td>\n",
       "      <td>NaN</td>\n",
       "    </tr>\n",
       "    <tr>\n",
       "      <th>...</th>\n",
       "      <td>...</td>\n",
       "      <td>...</td>\n",
       "      <td>...</td>\n",
       "      <td>...</td>\n",
       "      <td>...</td>\n",
       "    </tr>\n",
       "    <tr>\n",
       "      <th>Mia fora kai ena... moro</th>\n",
       "      <td>2011</td>\n",
       "      <td>Penelope Anastasopoulou</td>\n",
       "      <td>actress</td>\n",
       "      <td>Popi voulkanizater</td>\n",
       "      <td>11.0</td>\n",
       "    </tr>\n",
       "    <tr>\n",
       "      <th>The Magician King</th>\n",
       "      <td>2004</td>\n",
       "      <td>Tiannah Anastassiades</td>\n",
       "      <td>actress</td>\n",
       "      <td>Unicycle Race Attendant</td>\n",
       "      <td>NaN</td>\n",
       "    </tr>\n",
       "    <tr>\n",
       "      <th>Festival of Lights</th>\n",
       "      <td>2010</td>\n",
       "      <td>Zoe Anastassiou</td>\n",
       "      <td>actress</td>\n",
       "      <td>Guidance Counselor</td>\n",
       "      <td>20.0</td>\n",
       "    </tr>\n",
       "    <tr>\n",
       "      <th>Toxic Tutu</th>\n",
       "      <td>2016</td>\n",
       "      <td>Zoe Anastassiou</td>\n",
       "      <td>actress</td>\n",
       "      <td>Demon of Toxicity</td>\n",
       "      <td>NaN</td>\n",
       "    </tr>\n",
       "    <tr>\n",
       "      <th>Fugitive Pieces</th>\n",
       "      <td>2007</td>\n",
       "      <td>Anastassia Anastassopoulou</td>\n",
       "      <td>actress</td>\n",
       "      <td>Laundry Girl</td>\n",
       "      <td>25.0</td>\n",
       "    </tr>\n",
       "  </tbody>\n",
       "</table>\n",
       "<p>75001 rows × 5 columns</p>\n",
       "</div>"
      ],
      "text/plain": [
       "                          year                        name     type  \\\n",
       "title                                                                 \n",
       "Closet Monster            2015                    Buffy #1    actor   \n",
       "Suuri illusioni           1985                      Homo $    actor   \n",
       "Battle of the Sexes       2017                     $hutter    actor   \n",
       "Secret in Their Eyes      2015                     $hutter    actor   \n",
       "Steve Jobs                2015                     $hutter    actor   \n",
       "...                        ...                         ...      ...   \n",
       "Mia fora kai ena... moro  2011     Penelope Anastasopoulou  actress   \n",
       "The Magician King         2004       Tiannah Anastassiades  actress   \n",
       "Festival of Lights        2010             Zoe Anastassiou  actress   \n",
       "Toxic Tutu                2016             Zoe Anastassiou  actress   \n",
       "Fugitive Pieces           2007  Anastassia Anastassopoulou  actress   \n",
       "\n",
       "                                        character     n  \n",
       "title                                                    \n",
       "Closet Monster                            Buffy 4  31.0  \n",
       "Suuri illusioni                            Guests  22.0  \n",
       "Battle of the Sexes               Bobby Riggs Fan  10.0  \n",
       "Secret in Their Eyes              2002 Dodger Fan   NaN  \n",
       "Steve Jobs                1988 Opera House Patron   NaN  \n",
       "...                                           ...   ...  \n",
       "Mia fora kai ena... moro       Popi voulkanizater  11.0  \n",
       "The Magician King         Unicycle Race Attendant   NaN  \n",
       "Festival of Lights             Guidance Counselor  20.0  \n",
       "Toxic Tutu                      Demon of Toxicity   NaN  \n",
       "Fugitive Pieces                      Laundry Girl  25.0  \n",
       "\n",
       "[75001 rows x 5 columns]"
      ]
     },
     "execution_count": 57,
     "metadata": {},
     "output_type": "execute_result"
    }
   ],
   "source": [
    "title_indexed_casts"
   ]
  },
  {
   "cell_type": "code",
   "execution_count": 58,
   "id": "c8445c7e",
   "metadata": {},
   "outputs": [
    {
     "name": "stdout",
     "output_type": "stream",
     "text": [
      "969 µs ± 3.57 µs per loop (mean ± std. dev. of 7 runs, 1000 loops each)\n"
     ]
    }
   ],
   "source": [
    "%%timeit\n",
    "title_indexed_casts.loc['Macbeth']   #더 빠르다."
   ]
  },
  {
   "cell_type": "code",
   "execution_count": 62,
   "id": "18b6b101",
   "metadata": {},
   "outputs": [],
   "source": [
    "sorted_casts = title_indexed_casts.sort_index()  #정렬"
   ]
  },
  {
   "cell_type": "code",
   "execution_count": 63,
   "id": "4c837851",
   "metadata": {},
   "outputs": [
    {
     "name": "stdout",
     "output_type": "stream",
     "text": [
      "50.7 ms ± 75.9 µs per loop (mean ± std. dev. of 7 runs, 10 loops each)\n"
     ]
    }
   ],
   "source": [
    "%%timeit\n",
    "title_indexed_casts.sort_index()"
   ]
  },
  {
   "cell_type": "code",
   "execution_count": 64,
   "id": "33abd39a",
   "metadata": {},
   "outputs": [
    {
     "name": "stdout",
     "output_type": "stream",
     "text": [
      "24.8 µs ± 360 ns per loop (mean ± std. dev. of 7 runs, 10000 loops each)\n"
     ]
    }
   ],
   "source": [
    "%%timeit\n",
    "sorted_casts.loc['Macbeth']  #정렬하면 더 빨라짐. 근데 정렬하는 시간이 김"
   ]
  },
  {
   "cell_type": "markdown",
   "id": "9fa8b000",
   "metadata": {},
   "source": [
    "### multi index"
   ]
  },
  {
   "cell_type": "code",
   "execution_count": 65,
   "id": "ee6fd9f4",
   "metadata": {},
   "outputs": [
    {
     "data": {
      "text/html": [
       "<div>\n",
       "<style scoped>\n",
       "    .dataframe tbody tr th:only-of-type {\n",
       "        vertical-align: middle;\n",
       "    }\n",
       "\n",
       "    .dataframe tbody tr th {\n",
       "        vertical-align: top;\n",
       "    }\n",
       "\n",
       "    .dataframe thead th {\n",
       "        text-align: right;\n",
       "    }\n",
       "</style>\n",
       "<table border=\"1\" class=\"dataframe\">\n",
       "  <thead>\n",
       "    <tr style=\"text-align: right;\">\n",
       "      <th></th>\n",
       "      <th></th>\n",
       "      <th>name</th>\n",
       "      <th>type</th>\n",
       "      <th>character</th>\n",
       "      <th>n</th>\n",
       "    </tr>\n",
       "    <tr>\n",
       "      <th>title</th>\n",
       "      <th>year</th>\n",
       "      <th></th>\n",
       "      <th></th>\n",
       "      <th></th>\n",
       "      <th></th>\n",
       "    </tr>\n",
       "  </thead>\n",
       "  <tbody>\n",
       "    <tr>\n",
       "      <th>Closet Monster</th>\n",
       "      <th>2015</th>\n",
       "      <td>Buffy #1</td>\n",
       "      <td>actor</td>\n",
       "      <td>Buffy 4</td>\n",
       "      <td>31.0</td>\n",
       "    </tr>\n",
       "    <tr>\n",
       "      <th>Suuri illusioni</th>\n",
       "      <th>1985</th>\n",
       "      <td>Homo $</td>\n",
       "      <td>actor</td>\n",
       "      <td>Guests</td>\n",
       "      <td>22.0</td>\n",
       "    </tr>\n",
       "    <tr>\n",
       "      <th>Battle of the Sexes</th>\n",
       "      <th>2017</th>\n",
       "      <td>$hutter</td>\n",
       "      <td>actor</td>\n",
       "      <td>Bobby Riggs Fan</td>\n",
       "      <td>10.0</td>\n",
       "    </tr>\n",
       "    <tr>\n",
       "      <th>Secret in Their Eyes</th>\n",
       "      <th>2015</th>\n",
       "      <td>$hutter</td>\n",
       "      <td>actor</td>\n",
       "      <td>2002 Dodger Fan</td>\n",
       "      <td>NaN</td>\n",
       "    </tr>\n",
       "    <tr>\n",
       "      <th>Steve Jobs</th>\n",
       "      <th>2015</th>\n",
       "      <td>$hutter</td>\n",
       "      <td>actor</td>\n",
       "      <td>1988 Opera House Patron</td>\n",
       "      <td>NaN</td>\n",
       "    </tr>\n",
       "    <tr>\n",
       "      <th>...</th>\n",
       "      <th>...</th>\n",
       "      <td>...</td>\n",
       "      <td>...</td>\n",
       "      <td>...</td>\n",
       "      <td>...</td>\n",
       "    </tr>\n",
       "    <tr>\n",
       "      <th>Mia fora kai ena... moro</th>\n",
       "      <th>2011</th>\n",
       "      <td>Penelope Anastasopoulou</td>\n",
       "      <td>actress</td>\n",
       "      <td>Popi voulkanizater</td>\n",
       "      <td>11.0</td>\n",
       "    </tr>\n",
       "    <tr>\n",
       "      <th>The Magician King</th>\n",
       "      <th>2004</th>\n",
       "      <td>Tiannah Anastassiades</td>\n",
       "      <td>actress</td>\n",
       "      <td>Unicycle Race Attendant</td>\n",
       "      <td>NaN</td>\n",
       "    </tr>\n",
       "    <tr>\n",
       "      <th>Festival of Lights</th>\n",
       "      <th>2010</th>\n",
       "      <td>Zoe Anastassiou</td>\n",
       "      <td>actress</td>\n",
       "      <td>Guidance Counselor</td>\n",
       "      <td>20.0</td>\n",
       "    </tr>\n",
       "    <tr>\n",
       "      <th>Toxic Tutu</th>\n",
       "      <th>2016</th>\n",
       "      <td>Zoe Anastassiou</td>\n",
       "      <td>actress</td>\n",
       "      <td>Demon of Toxicity</td>\n",
       "      <td>NaN</td>\n",
       "    </tr>\n",
       "    <tr>\n",
       "      <th>Fugitive Pieces</th>\n",
       "      <th>2007</th>\n",
       "      <td>Anastassia Anastassopoulou</td>\n",
       "      <td>actress</td>\n",
       "      <td>Laundry Girl</td>\n",
       "      <td>25.0</td>\n",
       "    </tr>\n",
       "  </tbody>\n",
       "</table>\n",
       "<p>75001 rows × 4 columns</p>\n",
       "</div>"
      ],
      "text/plain": [
       "                                                     name     type  \\\n",
       "title                    year                                        \n",
       "Closet Monster           2015                    Buffy #1    actor   \n",
       "Suuri illusioni          1985                      Homo $    actor   \n",
       "Battle of the Sexes      2017                     $hutter    actor   \n",
       "Secret in Their Eyes     2015                     $hutter    actor   \n",
       "Steve Jobs               2015                     $hutter    actor   \n",
       "...                                                   ...      ...   \n",
       "Mia fora kai ena... moro 2011     Penelope Anastasopoulou  actress   \n",
       "The Magician King        2004       Tiannah Anastassiades  actress   \n",
       "Festival of Lights       2010             Zoe Anastassiou  actress   \n",
       "Toxic Tutu               2016             Zoe Anastassiou  actress   \n",
       "Fugitive Pieces          2007  Anastassia Anastassopoulou  actress   \n",
       "\n",
       "                                             character     n  \n",
       "title                    year                                 \n",
       "Closet Monster           2015                  Buffy 4  31.0  \n",
       "Suuri illusioni          1985                   Guests  22.0  \n",
       "Battle of the Sexes      2017          Bobby Riggs Fan  10.0  \n",
       "Secret in Their Eyes     2015          2002 Dodger Fan   NaN  \n",
       "Steve Jobs               2015  1988 Opera House Patron   NaN  \n",
       "...                                                ...   ...  \n",
       "Mia fora kai ena... moro 2011       Popi voulkanizater  11.0  \n",
       "The Magician King        2004  Unicycle Race Attendant   NaN  \n",
       "Festival of Lights       2010       Guidance Counselor  20.0  \n",
       "Toxic Tutu               2016        Demon of Toxicity   NaN  \n",
       "Fugitive Pieces          2007             Laundry Girl  25.0  \n",
       "\n",
       "[75001 rows x 4 columns]"
      ]
     },
     "execution_count": 65,
     "metadata": {},
     "output_type": "execute_result"
    }
   ],
   "source": [
    "casts.set_index(['title','year']) #멀티 인덱스"
   ]
  },
  {
   "cell_type": "code",
   "execution_count": 66,
   "id": "a61e46a5",
   "metadata": {},
   "outputs": [],
   "source": [
    "multi_casts = casts.set_index(['title','year'])"
   ]
  },
  {
   "cell_type": "code",
   "execution_count": 68,
   "id": "1d11a97d",
   "metadata": {},
   "outputs": [],
   "source": [
    "multi_casts.reset_index(['title','year'],inplace=True) #인데스 다시 복구"
   ]
  },
  {
   "cell_type": "code",
   "execution_count": 69,
   "id": "39061788",
   "metadata": {},
   "outputs": [
    {
     "data": {
      "text/html": [
       "<div>\n",
       "<style scoped>\n",
       "    .dataframe tbody tr th:only-of-type {\n",
       "        vertical-align: middle;\n",
       "    }\n",
       "\n",
       "    .dataframe tbody tr th {\n",
       "        vertical-align: top;\n",
       "    }\n",
       "\n",
       "    .dataframe thead th {\n",
       "        text-align: right;\n",
       "    }\n",
       "</style>\n",
       "<table border=\"1\" class=\"dataframe\">\n",
       "  <thead>\n",
       "    <tr style=\"text-align: right;\">\n",
       "      <th></th>\n",
       "      <th>title</th>\n",
       "      <th>year</th>\n",
       "      <th>name</th>\n",
       "      <th>type</th>\n",
       "      <th>character</th>\n",
       "      <th>n</th>\n",
       "    </tr>\n",
       "  </thead>\n",
       "  <tbody>\n",
       "    <tr>\n",
       "      <th>0</th>\n",
       "      <td>Closet Monster</td>\n",
       "      <td>2015</td>\n",
       "      <td>Buffy #1</td>\n",
       "      <td>actor</td>\n",
       "      <td>Buffy 4</td>\n",
       "      <td>31.0</td>\n",
       "    </tr>\n",
       "    <tr>\n",
       "      <th>1</th>\n",
       "      <td>Suuri illusioni</td>\n",
       "      <td>1985</td>\n",
       "      <td>Homo $</td>\n",
       "      <td>actor</td>\n",
       "      <td>Guests</td>\n",
       "      <td>22.0</td>\n",
       "    </tr>\n",
       "    <tr>\n",
       "      <th>2</th>\n",
       "      <td>Battle of the Sexes</td>\n",
       "      <td>2017</td>\n",
       "      <td>$hutter</td>\n",
       "      <td>actor</td>\n",
       "      <td>Bobby Riggs Fan</td>\n",
       "      <td>10.0</td>\n",
       "    </tr>\n",
       "    <tr>\n",
       "      <th>3</th>\n",
       "      <td>Secret in Their Eyes</td>\n",
       "      <td>2015</td>\n",
       "      <td>$hutter</td>\n",
       "      <td>actor</td>\n",
       "      <td>2002 Dodger Fan</td>\n",
       "      <td>NaN</td>\n",
       "    </tr>\n",
       "    <tr>\n",
       "      <th>4</th>\n",
       "      <td>Steve Jobs</td>\n",
       "      <td>2015</td>\n",
       "      <td>$hutter</td>\n",
       "      <td>actor</td>\n",
       "      <td>1988 Opera House Patron</td>\n",
       "      <td>NaN</td>\n",
       "    </tr>\n",
       "    <tr>\n",
       "      <th>...</th>\n",
       "      <td>...</td>\n",
       "      <td>...</td>\n",
       "      <td>...</td>\n",
       "      <td>...</td>\n",
       "      <td>...</td>\n",
       "      <td>...</td>\n",
       "    </tr>\n",
       "    <tr>\n",
       "      <th>74996</th>\n",
       "      <td>Mia fora kai ena... moro</td>\n",
       "      <td>2011</td>\n",
       "      <td>Penelope Anastasopoulou</td>\n",
       "      <td>actress</td>\n",
       "      <td>Popi voulkanizater</td>\n",
       "      <td>11.0</td>\n",
       "    </tr>\n",
       "    <tr>\n",
       "      <th>74997</th>\n",
       "      <td>The Magician King</td>\n",
       "      <td>2004</td>\n",
       "      <td>Tiannah Anastassiades</td>\n",
       "      <td>actress</td>\n",
       "      <td>Unicycle Race Attendant</td>\n",
       "      <td>NaN</td>\n",
       "    </tr>\n",
       "    <tr>\n",
       "      <th>74998</th>\n",
       "      <td>Festival of Lights</td>\n",
       "      <td>2010</td>\n",
       "      <td>Zoe Anastassiou</td>\n",
       "      <td>actress</td>\n",
       "      <td>Guidance Counselor</td>\n",
       "      <td>20.0</td>\n",
       "    </tr>\n",
       "    <tr>\n",
       "      <th>74999</th>\n",
       "      <td>Toxic Tutu</td>\n",
       "      <td>2016</td>\n",
       "      <td>Zoe Anastassiou</td>\n",
       "      <td>actress</td>\n",
       "      <td>Demon of Toxicity</td>\n",
       "      <td>NaN</td>\n",
       "    </tr>\n",
       "    <tr>\n",
       "      <th>75000</th>\n",
       "      <td>Fugitive Pieces</td>\n",
       "      <td>2007</td>\n",
       "      <td>Anastassia Anastassopoulou</td>\n",
       "      <td>actress</td>\n",
       "      <td>Laundry Girl</td>\n",
       "      <td>25.0</td>\n",
       "    </tr>\n",
       "  </tbody>\n",
       "</table>\n",
       "<p>75001 rows × 6 columns</p>\n",
       "</div>"
      ],
      "text/plain": [
       "                          title  year                        name     type  \\\n",
       "0                Closet Monster  2015                    Buffy #1    actor   \n",
       "1               Suuri illusioni  1985                      Homo $    actor   \n",
       "2           Battle of the Sexes  2017                     $hutter    actor   \n",
       "3          Secret in Their Eyes  2015                     $hutter    actor   \n",
       "4                    Steve Jobs  2015                     $hutter    actor   \n",
       "...                         ...   ...                         ...      ...   \n",
       "74996  Mia fora kai ena... moro  2011     Penelope Anastasopoulou  actress   \n",
       "74997         The Magician King  2004       Tiannah Anastassiades  actress   \n",
       "74998        Festival of Lights  2010             Zoe Anastassiou  actress   \n",
       "74999                Toxic Tutu  2016             Zoe Anastassiou  actress   \n",
       "75000           Fugitive Pieces  2007  Anastassia Anastassopoulou  actress   \n",
       "\n",
       "                     character     n  \n",
       "0                      Buffy 4  31.0  \n",
       "1                       Guests  22.0  \n",
       "2              Bobby Riggs Fan  10.0  \n",
       "3              2002 Dodger Fan   NaN  \n",
       "4      1988 Opera House Patron   NaN  \n",
       "...                        ...   ...  \n",
       "74996       Popi voulkanizater  11.0  \n",
       "74997  Unicycle Race Attendant   NaN  \n",
       "74998       Guidance Counselor  20.0  \n",
       "74999        Demon of Toxicity   NaN  \n",
       "75000             Laundry Girl  25.0  \n",
       "\n",
       "[75001 rows x 6 columns]"
      ]
     },
     "execution_count": 69,
     "metadata": {},
     "output_type": "execute_result"
    }
   ],
   "source": [
    "multi_casts"
   ]
  },
  {
   "cell_type": "code",
   "execution_count": 70,
   "id": "19816d72",
   "metadata": {},
   "outputs": [
    {
     "data": {
      "text/plain": [
       "Index(['title', 'year', 'name', 'type', 'character', 'n'], dtype='object')"
      ]
     },
     "execution_count": 70,
     "metadata": {},
     "output_type": "execute_result"
    }
   ],
   "source": [
    "multi_casts.columns"
   ]
  },
  {
   "cell_type": "code",
   "execution_count": 71,
   "id": "51d1b6a8",
   "metadata": {},
   "outputs": [
    {
     "data": {
      "text/plain": [
       "'title'"
      ]
     },
     "execution_count": 71,
     "metadata": {},
     "output_type": "execute_result"
    }
   ],
   "source": [
    "multi_casts.columns[0]"
   ]
  },
  {
   "cell_type": "code",
   "execution_count": 72,
   "id": "fd74741a",
   "metadata": {},
   "outputs": [
    {
     "ename": "TypeError",
     "evalue": "Index does not support mutable operations",
     "output_type": "error",
     "traceback": [
      "\u001b[0;31m---------------------------------------------------------------------------\u001b[0m",
      "\u001b[0;31mTypeError\u001b[0m                                 Traceback (most recent call last)",
      "\u001b[0;32m/var/folders/tk/_xgwj1jx765d70vyp9fbnn140000gn/T/ipykernel_954/2981468138.py\u001b[0m in \u001b[0;36m<module>\u001b[0;34m\u001b[0m\n\u001b[0;32m----> 1\u001b[0;31m \u001b[0mmulti_casts\u001b[0m\u001b[0;34m.\u001b[0m\u001b[0mcolumns\u001b[0m\u001b[0;34m[\u001b[0m\u001b[0;36m0\u001b[0m\u001b[0;34m]\u001b[0m \u001b[0;34m=\u001b[0m \u001b[0;34m'제목'\u001b[0m\u001b[0;34m\u001b[0m\u001b[0;34m\u001b[0m\u001b[0m\n\u001b[0m",
      "\u001b[0;32m~/opt/anaconda3/envs/vrconda/lib/python3.7/site-packages/pandas/core/indexes/base.py\u001b[0m in \u001b[0;36m__setitem__\u001b[0;34m(self, key, value)\u001b[0m\n\u001b[1;32m   4583\u001b[0m     \u001b[0;34m@\u001b[0m\u001b[0mfinal\u001b[0m\u001b[0;34m\u001b[0m\u001b[0;34m\u001b[0m\u001b[0m\n\u001b[1;32m   4584\u001b[0m     \u001b[0;32mdef\u001b[0m \u001b[0m__setitem__\u001b[0m\u001b[0;34m(\u001b[0m\u001b[0mself\u001b[0m\u001b[0;34m,\u001b[0m \u001b[0mkey\u001b[0m\u001b[0;34m,\u001b[0m \u001b[0mvalue\u001b[0m\u001b[0;34m)\u001b[0m\u001b[0;34m:\u001b[0m\u001b[0;34m\u001b[0m\u001b[0;34m\u001b[0m\u001b[0m\n\u001b[0;32m-> 4585\u001b[0;31m         \u001b[0;32mraise\u001b[0m \u001b[0mTypeError\u001b[0m\u001b[0;34m(\u001b[0m\u001b[0;34m\"Index does not support mutable operations\"\u001b[0m\u001b[0;34m)\u001b[0m\u001b[0;34m\u001b[0m\u001b[0;34m\u001b[0m\u001b[0m\n\u001b[0m\u001b[1;32m   4586\u001b[0m \u001b[0;34m\u001b[0m\u001b[0m\n\u001b[1;32m   4587\u001b[0m     \u001b[0;32mdef\u001b[0m \u001b[0m__getitem__\u001b[0m\u001b[0;34m(\u001b[0m\u001b[0mself\u001b[0m\u001b[0;34m,\u001b[0m \u001b[0mkey\u001b[0m\u001b[0;34m)\u001b[0m\u001b[0;34m:\u001b[0m\u001b[0;34m\u001b[0m\u001b[0;34m\u001b[0m\u001b[0m\n",
      "\u001b[0;31mTypeError\u001b[0m: Index does not support mutable operations"
     ]
    }
   ],
   "source": [
    "multi_casts.columns[0] = '제목'  #Index타입은 이뮤터블"
   ]
  },
  {
   "cell_type": "code",
   "execution_count": 74,
   "id": "bb8f0ba2",
   "metadata": {},
   "outputs": [],
   "source": [
    "multi_casts.rename(columns={'title':'제목', 'name':'이름'}, inplace=True)   #rename을 이용하여 변경"
   ]
  },
  {
   "cell_type": "code",
   "execution_count": 75,
   "id": "0761388c",
   "metadata": {},
   "outputs": [
    {
     "data": {
      "text/html": [
       "<div>\n",
       "<style scoped>\n",
       "    .dataframe tbody tr th:only-of-type {\n",
       "        vertical-align: middle;\n",
       "    }\n",
       "\n",
       "    .dataframe tbody tr th {\n",
       "        vertical-align: top;\n",
       "    }\n",
       "\n",
       "    .dataframe thead th {\n",
       "        text-align: right;\n",
       "    }\n",
       "</style>\n",
       "<table border=\"1\" class=\"dataframe\">\n",
       "  <thead>\n",
       "    <tr style=\"text-align: right;\">\n",
       "      <th></th>\n",
       "      <th>제목</th>\n",
       "      <th>year</th>\n",
       "      <th>이름</th>\n",
       "      <th>type</th>\n",
       "      <th>character</th>\n",
       "      <th>n</th>\n",
       "    </tr>\n",
       "  </thead>\n",
       "  <tbody>\n",
       "    <tr>\n",
       "      <th>0</th>\n",
       "      <td>Closet Monster</td>\n",
       "      <td>2015</td>\n",
       "      <td>Buffy #1</td>\n",
       "      <td>actor</td>\n",
       "      <td>Buffy 4</td>\n",
       "      <td>31.0</td>\n",
       "    </tr>\n",
       "    <tr>\n",
       "      <th>1</th>\n",
       "      <td>Suuri illusioni</td>\n",
       "      <td>1985</td>\n",
       "      <td>Homo $</td>\n",
       "      <td>actor</td>\n",
       "      <td>Guests</td>\n",
       "      <td>22.0</td>\n",
       "    </tr>\n",
       "    <tr>\n",
       "      <th>2</th>\n",
       "      <td>Battle of the Sexes</td>\n",
       "      <td>2017</td>\n",
       "      <td>$hutter</td>\n",
       "      <td>actor</td>\n",
       "      <td>Bobby Riggs Fan</td>\n",
       "      <td>10.0</td>\n",
       "    </tr>\n",
       "    <tr>\n",
       "      <th>3</th>\n",
       "      <td>Secret in Their Eyes</td>\n",
       "      <td>2015</td>\n",
       "      <td>$hutter</td>\n",
       "      <td>actor</td>\n",
       "      <td>2002 Dodger Fan</td>\n",
       "      <td>NaN</td>\n",
       "    </tr>\n",
       "    <tr>\n",
       "      <th>4</th>\n",
       "      <td>Steve Jobs</td>\n",
       "      <td>2015</td>\n",
       "      <td>$hutter</td>\n",
       "      <td>actor</td>\n",
       "      <td>1988 Opera House Patron</td>\n",
       "      <td>NaN</td>\n",
       "    </tr>\n",
       "    <tr>\n",
       "      <th>...</th>\n",
       "      <td>...</td>\n",
       "      <td>...</td>\n",
       "      <td>...</td>\n",
       "      <td>...</td>\n",
       "      <td>...</td>\n",
       "      <td>...</td>\n",
       "    </tr>\n",
       "    <tr>\n",
       "      <th>74996</th>\n",
       "      <td>Mia fora kai ena... moro</td>\n",
       "      <td>2011</td>\n",
       "      <td>Penelope Anastasopoulou</td>\n",
       "      <td>actress</td>\n",
       "      <td>Popi voulkanizater</td>\n",
       "      <td>11.0</td>\n",
       "    </tr>\n",
       "    <tr>\n",
       "      <th>74997</th>\n",
       "      <td>The Magician King</td>\n",
       "      <td>2004</td>\n",
       "      <td>Tiannah Anastassiades</td>\n",
       "      <td>actress</td>\n",
       "      <td>Unicycle Race Attendant</td>\n",
       "      <td>NaN</td>\n",
       "    </tr>\n",
       "    <tr>\n",
       "      <th>74998</th>\n",
       "      <td>Festival of Lights</td>\n",
       "      <td>2010</td>\n",
       "      <td>Zoe Anastassiou</td>\n",
       "      <td>actress</td>\n",
       "      <td>Guidance Counselor</td>\n",
       "      <td>20.0</td>\n",
       "    </tr>\n",
       "    <tr>\n",
       "      <th>74999</th>\n",
       "      <td>Toxic Tutu</td>\n",
       "      <td>2016</td>\n",
       "      <td>Zoe Anastassiou</td>\n",
       "      <td>actress</td>\n",
       "      <td>Demon of Toxicity</td>\n",
       "      <td>NaN</td>\n",
       "    </tr>\n",
       "    <tr>\n",
       "      <th>75000</th>\n",
       "      <td>Fugitive Pieces</td>\n",
       "      <td>2007</td>\n",
       "      <td>Anastassia Anastassopoulou</td>\n",
       "      <td>actress</td>\n",
       "      <td>Laundry Girl</td>\n",
       "      <td>25.0</td>\n",
       "    </tr>\n",
       "  </tbody>\n",
       "</table>\n",
       "<p>75001 rows × 6 columns</p>\n",
       "</div>"
      ],
      "text/plain": [
       "                             제목  year                          이름     type  \\\n",
       "0                Closet Monster  2015                    Buffy #1    actor   \n",
       "1               Suuri illusioni  1985                      Homo $    actor   \n",
       "2           Battle of the Sexes  2017                     $hutter    actor   \n",
       "3          Secret in Their Eyes  2015                     $hutter    actor   \n",
       "4                    Steve Jobs  2015                     $hutter    actor   \n",
       "...                         ...   ...                         ...      ...   \n",
       "74996  Mia fora kai ena... moro  2011     Penelope Anastasopoulou  actress   \n",
       "74997         The Magician King  2004       Tiannah Anastassiades  actress   \n",
       "74998        Festival of Lights  2010             Zoe Anastassiou  actress   \n",
       "74999                Toxic Tutu  2016             Zoe Anastassiou  actress   \n",
       "75000           Fugitive Pieces  2007  Anastassia Anastassopoulou  actress   \n",
       "\n",
       "                     character     n  \n",
       "0                      Buffy 4  31.0  \n",
       "1                       Guests  22.0  \n",
       "2              Bobby Riggs Fan  10.0  \n",
       "3              2002 Dodger Fan   NaN  \n",
       "4      1988 Opera House Patron   NaN  \n",
       "...                        ...   ...  \n",
       "74996       Popi voulkanizater  11.0  \n",
       "74997  Unicycle Race Attendant   NaN  \n",
       "74998       Guidance Counselor  20.0  \n",
       "74999        Demon of Toxicity   NaN  \n",
       "75000             Laundry Girl  25.0  \n",
       "\n",
       "[75001 rows x 6 columns]"
      ]
     },
     "execution_count": 75,
     "metadata": {},
     "output_type": "execute_result"
    }
   ],
   "source": [
    "multi_casts"
   ]
  },
  {
   "cell_type": "markdown",
   "id": "bf08a708",
   "metadata": {},
   "source": [
    "# 파일 읽고 쓰기"
   ]
  },
  {
   "cell_type": "code",
   "execution_count": 76,
   "id": "2be6340e",
   "metadata": {},
   "outputs": [],
   "source": [
    "df = pd.read_csv('ex1.csv')"
   ]
  },
  {
   "cell_type": "code",
   "execution_count": 77,
   "id": "e7a7bdbc",
   "metadata": {},
   "outputs": [
    {
     "data": {
      "text/html": [
       "<div>\n",
       "<style scoped>\n",
       "    .dataframe tbody tr th:only-of-type {\n",
       "        vertical-align: middle;\n",
       "    }\n",
       "\n",
       "    .dataframe tbody tr th {\n",
       "        vertical-align: top;\n",
       "    }\n",
       "\n",
       "    .dataframe thead th {\n",
       "        text-align: right;\n",
       "    }\n",
       "</style>\n",
       "<table border=\"1\" class=\"dataframe\">\n",
       "  <thead>\n",
       "    <tr style=\"text-align: right;\">\n",
       "      <th></th>\n",
       "      <th>a</th>\n",
       "      <th>b</th>\n",
       "      <th>c</th>\n",
       "      <th>d</th>\n",
       "      <th>msg</th>\n",
       "    </tr>\n",
       "  </thead>\n",
       "  <tbody>\n",
       "    <tr>\n",
       "      <th>0</th>\n",
       "      <td>1</td>\n",
       "      <td>2</td>\n",
       "      <td>3</td>\n",
       "      <td>4</td>\n",
       "      <td>hello</td>\n",
       "    </tr>\n",
       "    <tr>\n",
       "      <th>1</th>\n",
       "      <td>5</td>\n",
       "      <td>6</td>\n",
       "      <td>7</td>\n",
       "      <td>8</td>\n",
       "      <td>world</td>\n",
       "    </tr>\n",
       "    <tr>\n",
       "      <th>2</th>\n",
       "      <td>9</td>\n",
       "      <td>10</td>\n",
       "      <td>11</td>\n",
       "      <td>12</td>\n",
       "      <td>foo</td>\n",
       "    </tr>\n",
       "  </tbody>\n",
       "</table>\n",
       "</div>"
      ],
      "text/plain": [
       "   a   b   c   d    msg\n",
       "0  1   2   3   4  hello\n",
       "1  5   6   7   8  world\n",
       "2  9  10  11  12    foo"
      ]
     },
     "execution_count": 77,
     "metadata": {},
     "output_type": "execute_result"
    }
   ],
   "source": [
    "df"
   ]
  },
  {
   "cell_type": "code",
   "execution_count": 95,
   "id": "1544b21b",
   "metadata": {},
   "outputs": [
    {
     "data": {
      "text/html": [
       "<div>\n",
       "<style scoped>\n",
       "    .dataframe tbody tr th:only-of-type {\n",
       "        vertical-align: middle;\n",
       "    }\n",
       "\n",
       "    .dataframe tbody tr th {\n",
       "        vertical-align: top;\n",
       "    }\n",
       "\n",
       "    .dataframe thead th {\n",
       "        text-align: right;\n",
       "    }\n",
       "</style>\n",
       "<table border=\"1\" class=\"dataframe\">\n",
       "  <thead>\n",
       "    <tr style=\"text-align: right;\">\n",
       "      <th></th>\n",
       "      <th>a,b,c,d,msg</th>\n",
       "    </tr>\n",
       "  </thead>\n",
       "  <tbody>\n",
       "    <tr>\n",
       "      <th>0</th>\n",
       "      <td>1,2,3,4,hello</td>\n",
       "    </tr>\n",
       "    <tr>\n",
       "      <th>1</th>\n",
       "      <td>5,6,7,8,world</td>\n",
       "    </tr>\n",
       "    <tr>\n",
       "      <th>2</th>\n",
       "      <td>9,10,11,12,foo</td>\n",
       "    </tr>\n",
       "  </tbody>\n",
       "</table>\n",
       "</div>"
      ],
      "text/plain": [
       "      a,b,c,d,msg\n",
       "0   1,2,3,4,hello\n",
       "1   5,6,7,8,world\n",
       "2  9,10,11,12,foo"
      ]
     },
     "execution_count": 95,
     "metadata": {},
     "output_type": "execute_result"
    }
   ],
   "source": [
    "df2= pd.read_table('ex1.csv')\n",
    "df2"
   ]
  },
  {
   "cell_type": "code",
   "execution_count": 93,
   "id": "9754d161",
   "metadata": {},
   "outputs": [],
   "source": [
    "df2= pd.read_table('ex1.csv', sep=',')"
   ]
  },
  {
   "cell_type": "code",
   "execution_count": 94,
   "id": "68f8efcd",
   "metadata": {},
   "outputs": [
    {
     "data": {
      "text/html": [
       "<div>\n",
       "<style scoped>\n",
       "    .dataframe tbody tr th:only-of-type {\n",
       "        vertical-align: middle;\n",
       "    }\n",
       "\n",
       "    .dataframe tbody tr th {\n",
       "        vertical-align: top;\n",
       "    }\n",
       "\n",
       "    .dataframe thead th {\n",
       "        text-align: right;\n",
       "    }\n",
       "</style>\n",
       "<table border=\"1\" class=\"dataframe\">\n",
       "  <thead>\n",
       "    <tr style=\"text-align: right;\">\n",
       "      <th></th>\n",
       "      <th>a</th>\n",
       "      <th>b</th>\n",
       "      <th>c</th>\n",
       "      <th>d</th>\n",
       "      <th>msg</th>\n",
       "    </tr>\n",
       "  </thead>\n",
       "  <tbody>\n",
       "    <tr>\n",
       "      <th>0</th>\n",
       "      <td>1</td>\n",
       "      <td>2</td>\n",
       "      <td>3</td>\n",
       "      <td>4</td>\n",
       "      <td>hello</td>\n",
       "    </tr>\n",
       "    <tr>\n",
       "      <th>1</th>\n",
       "      <td>5</td>\n",
       "      <td>6</td>\n",
       "      <td>7</td>\n",
       "      <td>8</td>\n",
       "      <td>world</td>\n",
       "    </tr>\n",
       "    <tr>\n",
       "      <th>2</th>\n",
       "      <td>9</td>\n",
       "      <td>10</td>\n",
       "      <td>11</td>\n",
       "      <td>12</td>\n",
       "      <td>foo</td>\n",
       "    </tr>\n",
       "  </tbody>\n",
       "</table>\n",
       "</div>"
      ],
      "text/plain": [
       "   a   b   c   d    msg\n",
       "0  1   2   3   4  hello\n",
       "1  5   6   7   8  world\n",
       "2  9  10  11  12    foo"
      ]
     },
     "execution_count": 94,
     "metadata": {},
     "output_type": "execute_result"
    }
   ],
   "source": [
    "df2"
   ]
  },
  {
   "cell_type": "code",
   "execution_count": 82,
   "id": "89fc815d",
   "metadata": {},
   "outputs": [],
   "source": [
    "df3 = pd.read_csv('ex2.csv', header=None) #헤더가없음->칼럼 인덱스 없으므로 자동생성"
   ]
  },
  {
   "cell_type": "code",
   "execution_count": 83,
   "id": "1d38b156",
   "metadata": {},
   "outputs": [
    {
     "data": {
      "text/html": [
       "<div>\n",
       "<style scoped>\n",
       "    .dataframe tbody tr th:only-of-type {\n",
       "        vertical-align: middle;\n",
       "    }\n",
       "\n",
       "    .dataframe tbody tr th {\n",
       "        vertical-align: top;\n",
       "    }\n",
       "\n",
       "    .dataframe thead th {\n",
       "        text-align: right;\n",
       "    }\n",
       "</style>\n",
       "<table border=\"1\" class=\"dataframe\">\n",
       "  <thead>\n",
       "    <tr style=\"text-align: right;\">\n",
       "      <th></th>\n",
       "      <th>0</th>\n",
       "      <th>1</th>\n",
       "      <th>2</th>\n",
       "      <th>3</th>\n",
       "      <th>4</th>\n",
       "    </tr>\n",
       "  </thead>\n",
       "  <tbody>\n",
       "    <tr>\n",
       "      <th>0</th>\n",
       "      <td>1</td>\n",
       "      <td>2</td>\n",
       "      <td>3</td>\n",
       "      <td>4</td>\n",
       "      <td>hello</td>\n",
       "    </tr>\n",
       "    <tr>\n",
       "      <th>1</th>\n",
       "      <td>5</td>\n",
       "      <td>6</td>\n",
       "      <td>7</td>\n",
       "      <td>8</td>\n",
       "      <td>world</td>\n",
       "    </tr>\n",
       "    <tr>\n",
       "      <th>2</th>\n",
       "      <td>9</td>\n",
       "      <td>10</td>\n",
       "      <td>11</td>\n",
       "      <td>12</td>\n",
       "      <td>foo</td>\n",
       "    </tr>\n",
       "  </tbody>\n",
       "</table>\n",
       "</div>"
      ],
      "text/plain": [
       "   0   1   2   3      4\n",
       "0  1   2   3   4  hello\n",
       "1  5   6   7   8  world\n",
       "2  9  10  11  12    foo"
      ]
     },
     "execution_count": 83,
     "metadata": {},
     "output_type": "execute_result"
    }
   ],
   "source": [
    "df3"
   ]
  },
  {
   "cell_type": "code",
   "execution_count": 84,
   "id": "c1feefd6",
   "metadata": {},
   "outputs": [],
   "source": [
    "df4 = pd.read_csv('ex2.csv', names=['a','b','c','d','msg']) #칼럼 인덱스 지정"
   ]
  },
  {
   "cell_type": "code",
   "execution_count": 85,
   "id": "da9fdd62",
   "metadata": {},
   "outputs": [
    {
     "data": {
      "text/html": [
       "<div>\n",
       "<style scoped>\n",
       "    .dataframe tbody tr th:only-of-type {\n",
       "        vertical-align: middle;\n",
       "    }\n",
       "\n",
       "    .dataframe tbody tr th {\n",
       "        vertical-align: top;\n",
       "    }\n",
       "\n",
       "    .dataframe thead th {\n",
       "        text-align: right;\n",
       "    }\n",
       "</style>\n",
       "<table border=\"1\" class=\"dataframe\">\n",
       "  <thead>\n",
       "    <tr style=\"text-align: right;\">\n",
       "      <th></th>\n",
       "      <th>a</th>\n",
       "      <th>b</th>\n",
       "      <th>c</th>\n",
       "      <th>d</th>\n",
       "      <th>msg</th>\n",
       "    </tr>\n",
       "  </thead>\n",
       "  <tbody>\n",
       "    <tr>\n",
       "      <th>0</th>\n",
       "      <td>1</td>\n",
       "      <td>2</td>\n",
       "      <td>3</td>\n",
       "      <td>4</td>\n",
       "      <td>hello</td>\n",
       "    </tr>\n",
       "    <tr>\n",
       "      <th>1</th>\n",
       "      <td>5</td>\n",
       "      <td>6</td>\n",
       "      <td>7</td>\n",
       "      <td>8</td>\n",
       "      <td>world</td>\n",
       "    </tr>\n",
       "    <tr>\n",
       "      <th>2</th>\n",
       "      <td>9</td>\n",
       "      <td>10</td>\n",
       "      <td>11</td>\n",
       "      <td>12</td>\n",
       "      <td>foo</td>\n",
       "    </tr>\n",
       "  </tbody>\n",
       "</table>\n",
       "</div>"
      ],
      "text/plain": [
       "   a   b   c   d    msg\n",
       "0  1   2   3   4  hello\n",
       "1  5   6   7   8  world\n",
       "2  9  10  11  12    foo"
      ]
     },
     "execution_count": 85,
     "metadata": {},
     "output_type": "execute_result"
    }
   ],
   "source": [
    "df4"
   ]
  },
  {
   "cell_type": "code",
   "execution_count": 86,
   "id": "c35c6acc",
   "metadata": {},
   "outputs": [
    {
     "data": {
      "text/html": [
       "<div>\n",
       "<style scoped>\n",
       "    .dataframe tbody tr th:only-of-type {\n",
       "        vertical-align: middle;\n",
       "    }\n",
       "\n",
       "    .dataframe tbody tr th {\n",
       "        vertical-align: top;\n",
       "    }\n",
       "\n",
       "    .dataframe thead th {\n",
       "        text-align: right;\n",
       "    }\n",
       "</style>\n",
       "<table border=\"1\" class=\"dataframe\">\n",
       "  <thead>\n",
       "    <tr style=\"text-align: right;\">\n",
       "      <th></th>\n",
       "      <th>a</th>\n",
       "      <th>b</th>\n",
       "      <th>c</th>\n",
       "      <th>d</th>\n",
       "    </tr>\n",
       "    <tr>\n",
       "      <th>msg</th>\n",
       "      <th></th>\n",
       "      <th></th>\n",
       "      <th></th>\n",
       "      <th></th>\n",
       "    </tr>\n",
       "  </thead>\n",
       "  <tbody>\n",
       "    <tr>\n",
       "      <th>hello</th>\n",
       "      <td>1</td>\n",
       "      <td>2</td>\n",
       "      <td>3</td>\n",
       "      <td>4</td>\n",
       "    </tr>\n",
       "    <tr>\n",
       "      <th>world</th>\n",
       "      <td>5</td>\n",
       "      <td>6</td>\n",
       "      <td>7</td>\n",
       "      <td>8</td>\n",
       "    </tr>\n",
       "    <tr>\n",
       "      <th>foo</th>\n",
       "      <td>9</td>\n",
       "      <td>10</td>\n",
       "      <td>11</td>\n",
       "      <td>12</td>\n",
       "    </tr>\n",
       "  </tbody>\n",
       "</table>\n",
       "</div>"
      ],
      "text/plain": [
       "       a   b   c   d\n",
       "msg                 \n",
       "hello  1   2   3   4\n",
       "world  5   6   7   8\n",
       "foo    9  10  11  12"
      ]
     },
     "execution_count": 86,
     "metadata": {},
     "output_type": "execute_result"
    }
   ],
   "source": [
    "df4.set_index(['msg'])"
   ]
  },
  {
   "cell_type": "code",
   "execution_count": 87,
   "id": "bc0e95df",
   "metadata": {},
   "outputs": [],
   "source": [
    "df4 = pd.read_csv('ex2.csv', names=['a','b','c','d','msg'], index_col='msg') #읽어오며 인덱스설정"
   ]
  },
  {
   "cell_type": "code",
   "execution_count": 88,
   "id": "26097e36",
   "metadata": {},
   "outputs": [
    {
     "data": {
      "text/html": [
       "<div>\n",
       "<style scoped>\n",
       "    .dataframe tbody tr th:only-of-type {\n",
       "        vertical-align: middle;\n",
       "    }\n",
       "\n",
       "    .dataframe tbody tr th {\n",
       "        vertical-align: top;\n",
       "    }\n",
       "\n",
       "    .dataframe thead th {\n",
       "        text-align: right;\n",
       "    }\n",
       "</style>\n",
       "<table border=\"1\" class=\"dataframe\">\n",
       "  <thead>\n",
       "    <tr style=\"text-align: right;\">\n",
       "      <th></th>\n",
       "      <th>a</th>\n",
       "      <th>b</th>\n",
       "      <th>c</th>\n",
       "      <th>d</th>\n",
       "    </tr>\n",
       "    <tr>\n",
       "      <th>msg</th>\n",
       "      <th></th>\n",
       "      <th></th>\n",
       "      <th></th>\n",
       "      <th></th>\n",
       "    </tr>\n",
       "  </thead>\n",
       "  <tbody>\n",
       "    <tr>\n",
       "      <th>hello</th>\n",
       "      <td>1</td>\n",
       "      <td>2</td>\n",
       "      <td>3</td>\n",
       "      <td>4</td>\n",
       "    </tr>\n",
       "    <tr>\n",
       "      <th>world</th>\n",
       "      <td>5</td>\n",
       "      <td>6</td>\n",
       "      <td>7</td>\n",
       "      <td>8</td>\n",
       "    </tr>\n",
       "    <tr>\n",
       "      <th>foo</th>\n",
       "      <td>9</td>\n",
       "      <td>10</td>\n",
       "      <td>11</td>\n",
       "      <td>12</td>\n",
       "    </tr>\n",
       "  </tbody>\n",
       "</table>\n",
       "</div>"
      ],
      "text/plain": [
       "       a   b   c   d\n",
       "msg                 \n",
       "hello  1   2   3   4\n",
       "world  5   6   7   8\n",
       "foo    9  10  11  12"
      ]
     },
     "execution_count": 88,
     "metadata": {},
     "output_type": "execute_result"
    }
   ],
   "source": [
    "df4"
   ]
  },
  {
   "cell_type": "code",
   "execution_count": 91,
   "id": "90936f70",
   "metadata": {},
   "outputs": [],
   "source": [
    "df5 = pd.read_csv('ex3.csv')"
   ]
  },
  {
   "cell_type": "code",
   "execution_count": 92,
   "id": "fbc4e057",
   "metadata": {},
   "outputs": [
    {
     "data": {
      "text/html": [
       "<div>\n",
       "<style scoped>\n",
       "    .dataframe tbody tr th:only-of-type {\n",
       "        vertical-align: middle;\n",
       "    }\n",
       "\n",
       "    .dataframe tbody tr th {\n",
       "        vertical-align: top;\n",
       "    }\n",
       "\n",
       "    .dataframe thead th {\n",
       "        text-align: right;\n",
       "    }\n",
       "</style>\n",
       "<table border=\"1\" class=\"dataframe\">\n",
       "  <thead>\n",
       "    <tr style=\"text-align: right;\">\n",
       "      <th></th>\n",
       "      <th></th>\n",
       "      <th></th>\n",
       "      <th></th>\n",
       "      <th>#주석  주석을 추가함...</th>\n",
       "    </tr>\n",
       "  </thead>\n",
       "  <tbody>\n",
       "    <tr>\n",
       "      <th>a</th>\n",
       "      <th>b</th>\n",
       "      <th>c</th>\n",
       "      <th>d</th>\n",
       "      <td>msg</td>\n",
       "    </tr>\n",
       "    <tr>\n",
       "      <th>1</th>\n",
       "      <th>2</th>\n",
       "      <th>3</th>\n",
       "      <th>4</th>\n",
       "      <td>hello</td>\n",
       "    </tr>\n",
       "    <tr>\n",
       "      <th>#주석</th>\n",
       "      <th>NaN</th>\n",
       "      <th>NaN</th>\n",
       "      <th>NaN</th>\n",
       "      <td>NaN</td>\n",
       "    </tr>\n",
       "    <tr>\n",
       "      <th>5</th>\n",
       "      <th>6</th>\n",
       "      <th>7</th>\n",
       "      <th>8</th>\n",
       "      <td>world</td>\n",
       "    </tr>\n",
       "    <tr>\n",
       "      <th>9</th>\n",
       "      <th>10</th>\n",
       "      <th>11</th>\n",
       "      <th>12</th>\n",
       "      <td>foo</td>\n",
       "    </tr>\n",
       "  </tbody>\n",
       "</table>\n",
       "</div>"
      ],
      "text/plain": [
       "                #주석  주석을 추가함...\n",
       "a   b   c   d               msg\n",
       "1   2   3   4             hello\n",
       "#주석 NaN NaN NaN             NaN\n",
       "5   6   7   8             world\n",
       "9   10  11  12              foo"
      ]
     },
     "execution_count": 92,
     "metadata": {},
     "output_type": "execute_result"
    }
   ],
   "source": [
    "df5"
   ]
  },
  {
   "cell_type": "code",
   "execution_count": 96,
   "id": "6e0c11b8",
   "metadata": {},
   "outputs": [],
   "source": [
    "df5 = pd.read_csv('ex3.csv',comment='#')  #주석 시작 문자"
   ]
  },
  {
   "cell_type": "code",
   "execution_count": 97,
   "id": "ac25e9a6",
   "metadata": {},
   "outputs": [
    {
     "data": {
      "text/html": [
       "<div>\n",
       "<style scoped>\n",
       "    .dataframe tbody tr th:only-of-type {\n",
       "        vertical-align: middle;\n",
       "    }\n",
       "\n",
       "    .dataframe tbody tr th {\n",
       "        vertical-align: top;\n",
       "    }\n",
       "\n",
       "    .dataframe thead th {\n",
       "        text-align: right;\n",
       "    }\n",
       "</style>\n",
       "<table border=\"1\" class=\"dataframe\">\n",
       "  <thead>\n",
       "    <tr style=\"text-align: right;\">\n",
       "      <th></th>\n",
       "      <th>a</th>\n",
       "      <th>b</th>\n",
       "      <th>c</th>\n",
       "      <th>d</th>\n",
       "      <th>msg</th>\n",
       "    </tr>\n",
       "  </thead>\n",
       "  <tbody>\n",
       "    <tr>\n",
       "      <th>0</th>\n",
       "      <td>1</td>\n",
       "      <td>2</td>\n",
       "      <td>3</td>\n",
       "      <td>4</td>\n",
       "      <td>hello</td>\n",
       "    </tr>\n",
       "    <tr>\n",
       "      <th>1</th>\n",
       "      <td>5</td>\n",
       "      <td>6</td>\n",
       "      <td>7</td>\n",
       "      <td>8</td>\n",
       "      <td>world</td>\n",
       "    </tr>\n",
       "    <tr>\n",
       "      <th>2</th>\n",
       "      <td>9</td>\n",
       "      <td>10</td>\n",
       "      <td>11</td>\n",
       "      <td>12</td>\n",
       "      <td>foo</td>\n",
       "    </tr>\n",
       "  </tbody>\n",
       "</table>\n",
       "</div>"
      ],
      "text/plain": [
       "   a   b   c   d    msg\n",
       "0  1   2   3   4  hello\n",
       "1  5   6   7   8  world\n",
       "2  9  10  11  12    foo"
      ]
     },
     "execution_count": 97,
     "metadata": {},
     "output_type": "execute_result"
    }
   ],
   "source": [
    "df5"
   ]
  },
  {
   "cell_type": "code",
   "execution_count": 98,
   "id": "ed9e41d5",
   "metadata": {},
   "outputs": [],
   "source": [
    "df6 = pd.read_csv('ex3.csv', skiprows=2)   #앞의 2줄 제외"
   ]
  },
  {
   "cell_type": "code",
   "execution_count": 99,
   "id": "bddb21f5",
   "metadata": {},
   "outputs": [
    {
     "data": {
      "text/html": [
       "<div>\n",
       "<style scoped>\n",
       "    .dataframe tbody tr th:only-of-type {\n",
       "        vertical-align: middle;\n",
       "    }\n",
       "\n",
       "    .dataframe tbody tr th {\n",
       "        vertical-align: top;\n",
       "    }\n",
       "\n",
       "    .dataframe thead th {\n",
       "        text-align: right;\n",
       "    }\n",
       "</style>\n",
       "<table border=\"1\" class=\"dataframe\">\n",
       "  <thead>\n",
       "    <tr style=\"text-align: right;\">\n",
       "      <th></th>\n",
       "      <th>1</th>\n",
       "      <th>2</th>\n",
       "      <th>3</th>\n",
       "      <th>4</th>\n",
       "      <th>hello</th>\n",
       "    </tr>\n",
       "  </thead>\n",
       "  <tbody>\n",
       "    <tr>\n",
       "      <th>0</th>\n",
       "      <td>#주석</td>\n",
       "      <td>NaN</td>\n",
       "      <td>NaN</td>\n",
       "      <td>NaN</td>\n",
       "      <td>NaN</td>\n",
       "    </tr>\n",
       "    <tr>\n",
       "      <th>1</th>\n",
       "      <td>5</td>\n",
       "      <td>6.0</td>\n",
       "      <td>7.0</td>\n",
       "      <td>8.0</td>\n",
       "      <td>world</td>\n",
       "    </tr>\n",
       "    <tr>\n",
       "      <th>2</th>\n",
       "      <td>9</td>\n",
       "      <td>10.0</td>\n",
       "      <td>11.0</td>\n",
       "      <td>12.0</td>\n",
       "      <td>foo</td>\n",
       "    </tr>\n",
       "  </tbody>\n",
       "</table>\n",
       "</div>"
      ],
      "text/plain": [
       "     1     2     3     4  hello\n",
       "0  #주석   NaN   NaN   NaN    NaN\n",
       "1    5   6.0   7.0   8.0  world\n",
       "2    9  10.0  11.0  12.0    foo"
      ]
     },
     "execution_count": 99,
     "metadata": {},
     "output_type": "execute_result"
    }
   ],
   "source": [
    "df6"
   ]
  },
  {
   "cell_type": "code",
   "execution_count": 100,
   "id": "6476c609",
   "metadata": {},
   "outputs": [
    {
     "data": {
      "text/html": [
       "<div>\n",
       "<style scoped>\n",
       "    .dataframe tbody tr th:only-of-type {\n",
       "        vertical-align: middle;\n",
       "    }\n",
       "\n",
       "    .dataframe tbody tr th {\n",
       "        vertical-align: top;\n",
       "    }\n",
       "\n",
       "    .dataframe thead th {\n",
       "        text-align: right;\n",
       "    }\n",
       "</style>\n",
       "<table border=\"1\" class=\"dataframe\">\n",
       "  <thead>\n",
       "    <tr style=\"text-align: right;\">\n",
       "      <th></th>\n",
       "      <th>a</th>\n",
       "      <th>b</th>\n",
       "      <th>c</th>\n",
       "      <th>d</th>\n",
       "      <th>msg</th>\n",
       "    </tr>\n",
       "  </thead>\n",
       "  <tbody>\n",
       "    <tr>\n",
       "      <th>0</th>\n",
       "      <td>1</td>\n",
       "      <td>2</td>\n",
       "      <td>3</td>\n",
       "      <td>4</td>\n",
       "      <td>hello</td>\n",
       "    </tr>\n",
       "    <tr>\n",
       "      <th>1</th>\n",
       "      <td>5</td>\n",
       "      <td>6</td>\n",
       "      <td>7</td>\n",
       "      <td>8</td>\n",
       "      <td>world</td>\n",
       "    </tr>\n",
       "    <tr>\n",
       "      <th>2</th>\n",
       "      <td>9</td>\n",
       "      <td>10</td>\n",
       "      <td>11</td>\n",
       "      <td>12</td>\n",
       "      <td>foo</td>\n",
       "    </tr>\n",
       "  </tbody>\n",
       "</table>\n",
       "</div>"
      ],
      "text/plain": [
       "   a   b   c   d    msg\n",
       "0  1   2   3   4  hello\n",
       "1  5   6   7   8  world\n",
       "2  9  10  11  12    foo"
      ]
     },
     "execution_count": 100,
     "metadata": {},
     "output_type": "execute_result"
    }
   ],
   "source": [
    "df6 = pd.read_csv('ex3.csv', skiprows=[0,3])   #0,3번째 줄 제외\n",
    "df6"
   ]
  },
  {
   "cell_type": "code",
   "execution_count": 103,
   "id": "5fe81376",
   "metadata": {},
   "outputs": [
    {
     "data": {
      "text/html": [
       "<div>\n",
       "<style scoped>\n",
       "    .dataframe tbody tr th:only-of-type {\n",
       "        vertical-align: middle;\n",
       "    }\n",
       "\n",
       "    .dataframe tbody tr th {\n",
       "        vertical-align: top;\n",
       "    }\n",
       "\n",
       "    .dataframe thead th {\n",
       "        text-align: right;\n",
       "    }\n",
       "</style>\n",
       "<table border=\"1\" class=\"dataframe\">\n",
       "  <thead>\n",
       "    <tr style=\"text-align: right;\">\n",
       "      <th></th>\n",
       "      <th>Unnamed: 0</th>\n",
       "      <th>a</th>\n",
       "      <th>b</th>\n",
       "      <th>c</th>\n",
       "      <th>d</th>\n",
       "      <th>msg</th>\n",
       "    </tr>\n",
       "  </thead>\n",
       "  <tbody>\n",
       "    <tr>\n",
       "      <th>0</th>\n",
       "      <td>x</td>\n",
       "      <td>1</td>\n",
       "      <td>2</td>\n",
       "      <td>3</td>\n",
       "      <td>4</td>\n",
       "      <td>hello</td>\n",
       "    </tr>\n",
       "    <tr>\n",
       "      <th>1</th>\n",
       "      <td>y</td>\n",
       "      <td>5</td>\n",
       "      <td>6</td>\n",
       "      <td>7</td>\n",
       "      <td>8</td>\n",
       "      <td>world</td>\n",
       "    </tr>\n",
       "    <tr>\n",
       "      <th>2</th>\n",
       "      <td>z</td>\n",
       "      <td>9</td>\n",
       "      <td>10</td>\n",
       "      <td>11</td>\n",
       "      <td>12</td>\n",
       "      <td>foo</td>\n",
       "    </tr>\n",
       "  </tbody>\n",
       "</table>\n",
       "</div>"
      ],
      "text/plain": [
       "  Unnamed: 0  a   b   c   d    msg\n",
       "0          x  1   2   3   4  hello\n",
       "1          y  5   6   7   8  world\n",
       "2          z  9  10  11  12    foo"
      ]
     },
     "execution_count": 103,
     "metadata": {},
     "output_type": "execute_result"
    }
   ],
   "source": [
    "df7 = pd.read_csv('ex4.csv')\n",
    "df7"
   ]
  },
  {
   "cell_type": "code",
   "execution_count": 4,
   "id": "c387d491",
   "metadata": {},
   "outputs": [
    {
     "data": {
      "text/html": [
       "<div>\n",
       "<style scoped>\n",
       "    .dataframe tbody tr th:only-of-type {\n",
       "        vertical-align: middle;\n",
       "    }\n",
       "\n",
       "    .dataframe tbody tr th {\n",
       "        vertical-align: top;\n",
       "    }\n",
       "\n",
       "    .dataframe thead th {\n",
       "        text-align: right;\n",
       "    }\n",
       "</style>\n",
       "<table border=\"1\" class=\"dataframe\">\n",
       "  <thead>\n",
       "    <tr style=\"text-align: right;\">\n",
       "      <th></th>\n",
       "      <th>a</th>\n",
       "      <th>b</th>\n",
       "      <th>c</th>\n",
       "      <th>d</th>\n",
       "      <th>msg</th>\n",
       "    </tr>\n",
       "  </thead>\n",
       "  <tbody>\n",
       "    <tr>\n",
       "      <th>x</th>\n",
       "      <td>1</td>\n",
       "      <td>2</td>\n",
       "      <td>3</td>\n",
       "      <td>4</td>\n",
       "      <td>hello</td>\n",
       "    </tr>\n",
       "    <tr>\n",
       "      <th>y</th>\n",
       "      <td>5</td>\n",
       "      <td>6</td>\n",
       "      <td>7</td>\n",
       "      <td>8</td>\n",
       "      <td>world</td>\n",
       "    </tr>\n",
       "    <tr>\n",
       "      <th>z</th>\n",
       "      <td>9</td>\n",
       "      <td>10</td>\n",
       "      <td>11</td>\n",
       "      <td>12</td>\n",
       "      <td>foo</td>\n",
       "    </tr>\n",
       "  </tbody>\n",
       "</table>\n",
       "</div>"
      ],
      "text/plain": [
       "   a   b   c   d    msg\n",
       "x  1   2   3   4  hello\n",
       "y  5   6   7   8  world\n",
       "z  9  10  11  12    foo"
      ]
     },
     "execution_count": 4,
     "metadata": {},
     "output_type": "execute_result"
    }
   ],
   "source": [
    "df7 = pd.read_csv('ex4.csv', index_col = 0)\n",
    "df7"
   ]
  },
  {
   "cell_type": "code",
   "execution_count": 105,
   "id": "8fcfff3c",
   "metadata": {},
   "outputs": [],
   "source": [
    "df6.to_csv('ex5.csv')   #csv로 저장"
   ]
  },
  {
   "cell_type": "code",
   "execution_count": 106,
   "id": "9e1c07f2",
   "metadata": {},
   "outputs": [],
   "source": [
    "df6.to_csv('ex5-1.csv', index=False)  #row인덱스는 저장하지 않음"
   ]
  },
  {
   "cell_type": "code",
   "execution_count": 5,
   "id": "bd462e13",
   "metadata": {},
   "outputs": [],
   "source": [
    "df7.to_excel('ex6.xlsx')   #엑셀 파일로 저장"
   ]
  },
  {
   "cell_type": "code",
   "execution_count": 7,
   "id": "7a9e59c6",
   "metadata": {},
   "outputs": [
    {
     "data": {
      "text/html": [
       "<div>\n",
       "<style scoped>\n",
       "    .dataframe tbody tr th:only-of-type {\n",
       "        vertical-align: middle;\n",
       "    }\n",
       "\n",
       "    .dataframe tbody tr th {\n",
       "        vertical-align: top;\n",
       "    }\n",
       "\n",
       "    .dataframe thead th {\n",
       "        text-align: right;\n",
       "    }\n",
       "</style>\n",
       "<table border=\"1\" class=\"dataframe\">\n",
       "  <thead>\n",
       "    <tr style=\"text-align: right;\">\n",
       "      <th></th>\n",
       "      <th>Unnamed: 0</th>\n",
       "      <th>a</th>\n",
       "      <th>b</th>\n",
       "      <th>c</th>\n",
       "      <th>d</th>\n",
       "      <th>msg</th>\n",
       "    </tr>\n",
       "  </thead>\n",
       "  <tbody>\n",
       "    <tr>\n",
       "      <th>0</th>\n",
       "      <td>x</td>\n",
       "      <td>1</td>\n",
       "      <td>2</td>\n",
       "      <td>3</td>\n",
       "      <td>4</td>\n",
       "      <td>hello</td>\n",
       "    </tr>\n",
       "    <tr>\n",
       "      <th>1</th>\n",
       "      <td>y</td>\n",
       "      <td>5</td>\n",
       "      <td>6</td>\n",
       "      <td>7</td>\n",
       "      <td>8</td>\n",
       "      <td>world</td>\n",
       "    </tr>\n",
       "    <tr>\n",
       "      <th>2</th>\n",
       "      <td>z</td>\n",
       "      <td>9</td>\n",
       "      <td>10</td>\n",
       "      <td>11</td>\n",
       "      <td>12</td>\n",
       "      <td>foo</td>\n",
       "    </tr>\n",
       "  </tbody>\n",
       "</table>\n",
       "</div>"
      ],
      "text/plain": [
       "  Unnamed: 0  a   b   c   d    msg\n",
       "0          x  1   2   3   4  hello\n",
       "1          y  5   6   7   8  world\n",
       "2          z  9  10  11  12    foo"
      ]
     },
     "execution_count": 7,
     "metadata": {},
     "output_type": "execute_result"
    }
   ],
   "source": [
    "df8 = pd.read_excel('ex6.xlsx')\n",
    "df8"
   ]
  },
  {
   "cell_type": "code",
   "execution_count": 8,
   "id": "38b4c7b5",
   "metadata": {},
   "outputs": [
    {
     "data": {
      "text/html": [
       "<div>\n",
       "<style scoped>\n",
       "    .dataframe tbody tr th:only-of-type {\n",
       "        vertical-align: middle;\n",
       "    }\n",
       "\n",
       "    .dataframe tbody tr th {\n",
       "        vertical-align: top;\n",
       "    }\n",
       "\n",
       "    .dataframe thead th {\n",
       "        text-align: right;\n",
       "    }\n",
       "</style>\n",
       "<table border=\"1\" class=\"dataframe\">\n",
       "  <thead>\n",
       "    <tr style=\"text-align: right;\">\n",
       "      <th></th>\n",
       "      <th>a</th>\n",
       "      <th>b</th>\n",
       "      <th>c</th>\n",
       "      <th>d</th>\n",
       "      <th>msg</th>\n",
       "    </tr>\n",
       "  </thead>\n",
       "  <tbody>\n",
       "    <tr>\n",
       "      <th>x</th>\n",
       "      <td>1</td>\n",
       "      <td>2</td>\n",
       "      <td>3</td>\n",
       "      <td>4</td>\n",
       "      <td>hello</td>\n",
       "    </tr>\n",
       "    <tr>\n",
       "      <th>y</th>\n",
       "      <td>5</td>\n",
       "      <td>6</td>\n",
       "      <td>7</td>\n",
       "      <td>8</td>\n",
       "      <td>world</td>\n",
       "    </tr>\n",
       "    <tr>\n",
       "      <th>z</th>\n",
       "      <td>9</td>\n",
       "      <td>10</td>\n",
       "      <td>11</td>\n",
       "      <td>12</td>\n",
       "      <td>foo</td>\n",
       "    </tr>\n",
       "  </tbody>\n",
       "</table>\n",
       "</div>"
      ],
      "text/plain": [
       "   a   b   c   d    msg\n",
       "x  1   2   3   4  hello\n",
       "y  5   6   7   8  world\n",
       "z  9  10  11  12    foo"
      ]
     },
     "execution_count": 8,
     "metadata": {},
     "output_type": "execute_result"
    }
   ],
   "source": [
    "df8 = pd.read_excel('ex6.xlsx', index_col=0)\n",
    "df8"
   ]
  },
  {
   "cell_type": "code",
   "execution_count": 9,
   "id": "91ff705e",
   "metadata": {},
   "outputs": [],
   "source": [
    "dg_temp = pd.read_csv('daegu20220802.csv',skiprows=7, encoding='ms949')   #한글을 읽기위해 ms949"
   ]
  },
  {
   "cell_type": "code",
   "execution_count": 10,
   "id": "3b9f6055",
   "metadata": {},
   "outputs": [
    {
     "data": {
      "text/html": [
       "<div>\n",
       "<style scoped>\n",
       "    .dataframe tbody tr th:only-of-type {\n",
       "        vertical-align: middle;\n",
       "    }\n",
       "\n",
       "    .dataframe tbody tr th {\n",
       "        vertical-align: top;\n",
       "    }\n",
       "\n",
       "    .dataframe thead th {\n",
       "        text-align: right;\n",
       "    }\n",
       "</style>\n",
       "<table border=\"1\" class=\"dataframe\">\n",
       "  <thead>\n",
       "    <tr style=\"text-align: right;\">\n",
       "      <th></th>\n",
       "      <th>날짜</th>\n",
       "      <th>지점</th>\n",
       "      <th>평균기온(℃)</th>\n",
       "      <th>최저기온(℃)</th>\n",
       "      <th>최고기온(℃)</th>\n",
       "    </tr>\n",
       "  </thead>\n",
       "  <tbody>\n",
       "    <tr>\n",
       "      <th>0</th>\n",
       "      <td>2017-01-01</td>\n",
       "      <td>143</td>\n",
       "      <td>3.4</td>\n",
       "      <td>-2.0</td>\n",
       "      <td>10.0</td>\n",
       "    </tr>\n",
       "    <tr>\n",
       "      <th>1</th>\n",
       "      <td>2017-01-02</td>\n",
       "      <td>143</td>\n",
       "      <td>5.3</td>\n",
       "      <td>-0.4</td>\n",
       "      <td>12.3</td>\n",
       "    </tr>\n",
       "    <tr>\n",
       "      <th>2</th>\n",
       "      <td>2017-01-03</td>\n",
       "      <td>143</td>\n",
       "      <td>5.2</td>\n",
       "      <td>0.9</td>\n",
       "      <td>10.9</td>\n",
       "    </tr>\n",
       "    <tr>\n",
       "      <th>3</th>\n",
       "      <td>2017-01-04</td>\n",
       "      <td>143</td>\n",
       "      <td>3.9</td>\n",
       "      <td>-1.9</td>\n",
       "      <td>11.2</td>\n",
       "    </tr>\n",
       "    <tr>\n",
       "      <th>4</th>\n",
       "      <td>2017-01-05</td>\n",
       "      <td>143</td>\n",
       "      <td>3.4</td>\n",
       "      <td>-1.6</td>\n",
       "      <td>7.6</td>\n",
       "    </tr>\n",
       "    <tr>\n",
       "      <th>...</th>\n",
       "      <td>...</td>\n",
       "      <td>...</td>\n",
       "      <td>...</td>\n",
       "      <td>...</td>\n",
       "      <td>...</td>\n",
       "    </tr>\n",
       "    <tr>\n",
       "      <th>2034</th>\n",
       "      <td>2022-07-28</td>\n",
       "      <td>143</td>\n",
       "      <td>26.2</td>\n",
       "      <td>24.2</td>\n",
       "      <td>29.6</td>\n",
       "    </tr>\n",
       "    <tr>\n",
       "      <th>2035</th>\n",
       "      <td>2022-07-29</td>\n",
       "      <td>143</td>\n",
       "      <td>28.7</td>\n",
       "      <td>24.5</td>\n",
       "      <td>33.9</td>\n",
       "    </tr>\n",
       "    <tr>\n",
       "      <th>2036</th>\n",
       "      <td>2022-07-30</td>\n",
       "      <td>143</td>\n",
       "      <td>27.8</td>\n",
       "      <td>25.9</td>\n",
       "      <td>30.3</td>\n",
       "    </tr>\n",
       "    <tr>\n",
       "      <th>2037</th>\n",
       "      <td>2022-07-31</td>\n",
       "      <td>143</td>\n",
       "      <td>27.1</td>\n",
       "      <td>25.3</td>\n",
       "      <td>29.5</td>\n",
       "    </tr>\n",
       "    <tr>\n",
       "      <th>2038</th>\n",
       "      <td>2022-08-01</td>\n",
       "      <td>143</td>\n",
       "      <td>29.4</td>\n",
       "      <td>26.8</td>\n",
       "      <td>31.2</td>\n",
       "    </tr>\n",
       "  </tbody>\n",
       "</table>\n",
       "<p>2039 rows × 5 columns</p>\n",
       "</div>"
      ],
      "text/plain": [
       "              날짜   지점  평균기온(℃)  최저기온(℃)  최고기온(℃)\n",
       "0     2017-01-01  143      3.4     -2.0     10.0\n",
       "1     2017-01-02  143      5.3     -0.4     12.3\n",
       "2     2017-01-03  143      5.2      0.9     10.9\n",
       "3     2017-01-04  143      3.9     -1.9     11.2\n",
       "4     2017-01-05  143      3.4     -1.6      7.6\n",
       "...          ...  ...      ...      ...      ...\n",
       "2034  2022-07-28  143     26.2     24.2     29.6\n",
       "2035  2022-07-29  143     28.7     24.5     33.9\n",
       "2036  2022-07-30  143     27.8     25.9     30.3\n",
       "2037  2022-07-31  143     27.1     25.3     29.5\n",
       "2038  2022-08-01  143     29.4     26.8     31.2\n",
       "\n",
       "[2039 rows x 5 columns]"
      ]
     },
     "execution_count": 10,
     "metadata": {},
     "output_type": "execute_result"
    }
   ],
   "source": [
    "dg_temp"
   ]
  },
  {
   "cell_type": "code",
   "execution_count": 11,
   "id": "6f832c0c",
   "metadata": {},
   "outputs": [
    {
     "name": "stdout",
     "output_type": "stream",
     "text": [
      "<class 'pandas.core.frame.DataFrame'>\n",
      "RangeIndex: 2039 entries, 0 to 2038\n",
      "Data columns (total 5 columns):\n",
      " #   Column   Non-Null Count  Dtype  \n",
      "---  ------   --------------  -----  \n",
      " 0   날짜       2039 non-null   object \n",
      " 1   지점       2039 non-null   int64  \n",
      " 2   평균기온(℃)  2038 non-null   float64\n",
      " 3   최저기온(℃)  2039 non-null   float64\n",
      " 4   최고기온(℃)  2039 non-null   float64\n",
      "dtypes: float64(3), int64(1), object(1)\n",
      "memory usage: 79.8+ KB\n"
     ]
    }
   ],
   "source": [
    "dg_temp.info()"
   ]
  },
  {
   "cell_type": "code",
   "execution_count": 15,
   "id": "3a307edd",
   "metadata": {},
   "outputs": [
    {
     "data": {
      "text/html": [
       "<div>\n",
       "<style scoped>\n",
       "    .dataframe tbody tr th:only-of-type {\n",
       "        vertical-align: middle;\n",
       "    }\n",
       "\n",
       "    .dataframe tbody tr th {\n",
       "        vertical-align: top;\n",
       "    }\n",
       "\n",
       "    .dataframe thead th {\n",
       "        text-align: right;\n",
       "    }\n",
       "</style>\n",
       "<table border=\"1\" class=\"dataframe\">\n",
       "  <thead>\n",
       "    <tr style=\"text-align: right;\">\n",
       "      <th></th>\n",
       "      <th>날짜</th>\n",
       "      <th>지점</th>\n",
       "      <th>평균기온(℃)</th>\n",
       "      <th>최저기온(℃)</th>\n",
       "      <th>최고기온(℃)</th>\n",
       "    </tr>\n",
       "  </thead>\n",
       "  <tbody>\n",
       "    <tr>\n",
       "      <th>209</th>\n",
       "      <td>2017-07-29</td>\n",
       "      <td>143</td>\n",
       "      <td>NaN</td>\n",
       "      <td>21.5</td>\n",
       "      <td>26.2</td>\n",
       "    </tr>\n",
       "  </tbody>\n",
       "</table>\n",
       "</div>"
      ],
      "text/plain": [
       "             날짜   지점  평균기온(℃)  최저기온(℃)  최고기온(℃)\n",
       "209  2017-07-29  143      NaN     21.5     26.2"
      ]
     },
     "execution_count": 15,
     "metadata": {},
     "output_type": "execute_result"
    }
   ],
   "source": [
    "dg_temp[dg_temp['평균기온(℃)'].isnull()]"
   ]
  },
  {
   "cell_type": "code",
   "execution_count": 18,
   "id": "fa311d07",
   "metadata": {},
   "outputs": [
    {
     "data": {
      "text/html": [
       "<div>\n",
       "<style scoped>\n",
       "    .dataframe tbody tr th:only-of-type {\n",
       "        vertical-align: middle;\n",
       "    }\n",
       "\n",
       "    .dataframe tbody tr th {\n",
       "        vertical-align: top;\n",
       "    }\n",
       "\n",
       "    .dataframe thead th {\n",
       "        text-align: right;\n",
       "    }\n",
       "</style>\n",
       "<table border=\"1\" class=\"dataframe\">\n",
       "  <thead>\n",
       "    <tr style=\"text-align: right;\">\n",
       "      <th></th>\n",
       "      <th>날짜</th>\n",
       "      <th>지점</th>\n",
       "      <th>평균기온(℃)</th>\n",
       "      <th>최저기온(℃)</th>\n",
       "      <th>최고기온(℃)</th>\n",
       "    </tr>\n",
       "  </thead>\n",
       "  <tbody>\n",
       "    <tr>\n",
       "      <th>205</th>\n",
       "      <td>2017-07-25</td>\n",
       "      <td>143</td>\n",
       "      <td>25.9</td>\n",
       "      <td>24.0</td>\n",
       "      <td>27.9</td>\n",
       "    </tr>\n",
       "    <tr>\n",
       "      <th>206</th>\n",
       "      <td>2017-07-26</td>\n",
       "      <td>143</td>\n",
       "      <td>25.4</td>\n",
       "      <td>21.9</td>\n",
       "      <td>30.1</td>\n",
       "    </tr>\n",
       "    <tr>\n",
       "      <th>207</th>\n",
       "      <td>2017-07-27</td>\n",
       "      <td>143</td>\n",
       "      <td>26.4</td>\n",
       "      <td>19.1</td>\n",
       "      <td>33.9</td>\n",
       "    </tr>\n",
       "    <tr>\n",
       "      <th>208</th>\n",
       "      <td>2017-07-28</td>\n",
       "      <td>143</td>\n",
       "      <td>28.2</td>\n",
       "      <td>21.9</td>\n",
       "      <td>35.4</td>\n",
       "    </tr>\n",
       "    <tr>\n",
       "      <th>209</th>\n",
       "      <td>2017-07-29</td>\n",
       "      <td>143</td>\n",
       "      <td>NaN</td>\n",
       "      <td>21.5</td>\n",
       "      <td>26.2</td>\n",
       "    </tr>\n",
       "    <tr>\n",
       "      <th>210</th>\n",
       "      <td>2017-07-30</td>\n",
       "      <td>143</td>\n",
       "      <td>26.3</td>\n",
       "      <td>22.0</td>\n",
       "      <td>30.9</td>\n",
       "    </tr>\n",
       "    <tr>\n",
       "      <th>211</th>\n",
       "      <td>2017-07-31</td>\n",
       "      <td>143</td>\n",
       "      <td>24.8</td>\n",
       "      <td>23.7</td>\n",
       "      <td>26.1</td>\n",
       "    </tr>\n",
       "    <tr>\n",
       "      <th>212</th>\n",
       "      <td>2017-08-01</td>\n",
       "      <td>143</td>\n",
       "      <td>26.9</td>\n",
       "      <td>23.4</td>\n",
       "      <td>32.8</td>\n",
       "    </tr>\n",
       "    <tr>\n",
       "      <th>213</th>\n",
       "      <td>2017-08-02</td>\n",
       "      <td>143</td>\n",
       "      <td>26.4</td>\n",
       "      <td>23.2</td>\n",
       "      <td>31.3</td>\n",
       "    </tr>\n",
       "    <tr>\n",
       "      <th>214</th>\n",
       "      <td>2017-08-03</td>\n",
       "      <td>143</td>\n",
       "      <td>26.9</td>\n",
       "      <td>22.5</td>\n",
       "      <td>32.1</td>\n",
       "    </tr>\n",
       "  </tbody>\n",
       "</table>\n",
       "</div>"
      ],
      "text/plain": [
       "             날짜   지점  평균기온(℃)  최저기온(℃)  최고기온(℃)\n",
       "205  2017-07-25  143     25.9     24.0     27.9\n",
       "206  2017-07-26  143     25.4     21.9     30.1\n",
       "207  2017-07-27  143     26.4     19.1     33.9\n",
       "208  2017-07-28  143     28.2     21.9     35.4\n",
       "209  2017-07-29  143      NaN     21.5     26.2\n",
       "210  2017-07-30  143     26.3     22.0     30.9\n",
       "211  2017-07-31  143     24.8     23.7     26.1\n",
       "212  2017-08-01  143     26.9     23.4     32.8\n",
       "213  2017-08-02  143     26.4     23.2     31.3\n",
       "214  2017-08-03  143     26.9     22.5     32.1"
      ]
     },
     "execution_count": 18,
     "metadata": {},
     "output_type": "execute_result"
    }
   ],
   "source": [
    "dg_temp[205:215]"
   ]
  },
  {
   "cell_type": "code",
   "execution_count": 19,
   "id": "cb8e9c8e",
   "metadata": {},
   "outputs": [],
   "source": [
    "dg_temp.fillna(method='bfill', inplace=True)"
   ]
  },
  {
   "cell_type": "markdown",
   "id": "7ac8877f",
   "metadata": {},
   "source": [
    "* 최고기온 구하기"
   ]
  },
  {
   "cell_type": "code",
   "execution_count": 20,
   "id": "58f232ed",
   "metadata": {},
   "outputs": [
    {
     "data": {
      "text/plain": [
       "39.2"
      ]
     },
     "execution_count": 20,
     "metadata": {},
     "output_type": "execute_result"
    }
   ],
   "source": [
    "dg_temp['최고기온(℃)'].max()"
   ]
  },
  {
   "cell_type": "code",
   "execution_count": 22,
   "id": "5d6d97fd",
   "metadata": {},
   "outputs": [
    {
     "data": {
      "text/plain": [
       "572"
      ]
     },
     "execution_count": 22,
     "metadata": {},
     "output_type": "execute_result"
    }
   ],
   "source": [
    "dg_temp['최고기온(℃)'].idxmax()"
   ]
  },
  {
   "cell_type": "code",
   "execution_count": 23,
   "id": "9a5ec103",
   "metadata": {},
   "outputs": [
    {
     "data": {
      "text/plain": [
       "날짜         2018-07-27\n",
       "지점                143\n",
       "평균기온(℃)          32.4\n",
       "최저기온(℃)          28.6\n",
       "최고기온(℃)          39.2\n",
       "Name: 572, dtype: object"
      ]
     },
     "execution_count": 23,
     "metadata": {},
     "output_type": "execute_result"
    }
   ],
   "source": [
    "dg_temp.iloc[572]"
   ]
  },
  {
   "cell_type": "code",
   "execution_count": 24,
   "id": "e10b2103",
   "metadata": {},
   "outputs": [
    {
     "data": {
      "text/plain": [
       "'2018-07-27'"
      ]
     },
     "execution_count": 24,
     "metadata": {},
     "output_type": "execute_result"
    }
   ],
   "source": [
    "dg_temp.iloc[572,0]   #최고기온일때의 날짜"
   ]
  },
  {
   "cell_type": "code",
   "execution_count": 25,
   "id": "1b59979d",
   "metadata": {},
   "outputs": [],
   "source": [
    "dg_temp2 = dg_temp.set_index(['날짜'])"
   ]
  },
  {
   "cell_type": "code",
   "execution_count": 26,
   "id": "00780ad6",
   "metadata": {
    "collapsed": true
   },
   "outputs": [
    {
     "data": {
      "text/html": [
       "<div>\n",
       "<style scoped>\n",
       "    .dataframe tbody tr th:only-of-type {\n",
       "        vertical-align: middle;\n",
       "    }\n",
       "\n",
       "    .dataframe tbody tr th {\n",
       "        vertical-align: top;\n",
       "    }\n",
       "\n",
       "    .dataframe thead th {\n",
       "        text-align: right;\n",
       "    }\n",
       "</style>\n",
       "<table border=\"1\" class=\"dataframe\">\n",
       "  <thead>\n",
       "    <tr style=\"text-align: right;\">\n",
       "      <th></th>\n",
       "      <th>지점</th>\n",
       "      <th>평균기온(℃)</th>\n",
       "      <th>최저기온(℃)</th>\n",
       "      <th>최고기온(℃)</th>\n",
       "    </tr>\n",
       "    <tr>\n",
       "      <th>날짜</th>\n",
       "      <th></th>\n",
       "      <th></th>\n",
       "      <th></th>\n",
       "      <th></th>\n",
       "    </tr>\n",
       "  </thead>\n",
       "  <tbody>\n",
       "    <tr>\n",
       "      <th>2017-01-01</th>\n",
       "      <td>143</td>\n",
       "      <td>3.4</td>\n",
       "      <td>-2.0</td>\n",
       "      <td>10.0</td>\n",
       "    </tr>\n",
       "    <tr>\n",
       "      <th>2017-01-02</th>\n",
       "      <td>143</td>\n",
       "      <td>5.3</td>\n",
       "      <td>-0.4</td>\n",
       "      <td>12.3</td>\n",
       "    </tr>\n",
       "    <tr>\n",
       "      <th>2017-01-03</th>\n",
       "      <td>143</td>\n",
       "      <td>5.2</td>\n",
       "      <td>0.9</td>\n",
       "      <td>10.9</td>\n",
       "    </tr>\n",
       "    <tr>\n",
       "      <th>2017-01-04</th>\n",
       "      <td>143</td>\n",
       "      <td>3.9</td>\n",
       "      <td>-1.9</td>\n",
       "      <td>11.2</td>\n",
       "    </tr>\n",
       "    <tr>\n",
       "      <th>2017-01-05</th>\n",
       "      <td>143</td>\n",
       "      <td>3.4</td>\n",
       "      <td>-1.6</td>\n",
       "      <td>7.6</td>\n",
       "    </tr>\n",
       "    <tr>\n",
       "      <th>...</th>\n",
       "      <td>...</td>\n",
       "      <td>...</td>\n",
       "      <td>...</td>\n",
       "      <td>...</td>\n",
       "    </tr>\n",
       "    <tr>\n",
       "      <th>2022-07-28</th>\n",
       "      <td>143</td>\n",
       "      <td>26.2</td>\n",
       "      <td>24.2</td>\n",
       "      <td>29.6</td>\n",
       "    </tr>\n",
       "    <tr>\n",
       "      <th>2022-07-29</th>\n",
       "      <td>143</td>\n",
       "      <td>28.7</td>\n",
       "      <td>24.5</td>\n",
       "      <td>33.9</td>\n",
       "    </tr>\n",
       "    <tr>\n",
       "      <th>2022-07-30</th>\n",
       "      <td>143</td>\n",
       "      <td>27.8</td>\n",
       "      <td>25.9</td>\n",
       "      <td>30.3</td>\n",
       "    </tr>\n",
       "    <tr>\n",
       "      <th>2022-07-31</th>\n",
       "      <td>143</td>\n",
       "      <td>27.1</td>\n",
       "      <td>25.3</td>\n",
       "      <td>29.5</td>\n",
       "    </tr>\n",
       "    <tr>\n",
       "      <th>2022-08-01</th>\n",
       "      <td>143</td>\n",
       "      <td>29.4</td>\n",
       "      <td>26.8</td>\n",
       "      <td>31.2</td>\n",
       "    </tr>\n",
       "  </tbody>\n",
       "</table>\n",
       "<p>2039 rows × 4 columns</p>\n",
       "</div>"
      ],
      "text/plain": [
       "             지점  평균기온(℃)  최저기온(℃)  최고기온(℃)\n",
       "날짜                                        \n",
       "2017-01-01  143      3.4     -2.0     10.0\n",
       "2017-01-02  143      5.3     -0.4     12.3\n",
       "2017-01-03  143      5.2      0.9     10.9\n",
       "2017-01-04  143      3.9     -1.9     11.2\n",
       "2017-01-05  143      3.4     -1.6      7.6\n",
       "...         ...      ...      ...      ...\n",
       "2022-07-28  143     26.2     24.2     29.6\n",
       "2022-07-29  143     28.7     24.5     33.9\n",
       "2022-07-30  143     27.8     25.9     30.3\n",
       "2022-07-31  143     27.1     25.3     29.5\n",
       "2022-08-01  143     29.4     26.8     31.2\n",
       "\n",
       "[2039 rows x 4 columns]"
      ]
     },
     "execution_count": 26,
     "metadata": {},
     "output_type": "execute_result"
    }
   ],
   "source": [
    "dg_temp2"
   ]
  },
  {
   "cell_type": "markdown",
   "id": "b7611145",
   "metadata": {},
   "source": [
    "* dg_temp2에서 불필요한 지점 정보 삭제"
   ]
  },
  {
   "cell_type": "code",
   "execution_count": 27,
   "id": "7b0e20e2",
   "metadata": {},
   "outputs": [],
   "source": [
    "del dg_temp2['지점']"
   ]
  },
  {
   "cell_type": "code",
   "execution_count": 28,
   "id": "6a39f777",
   "metadata": {},
   "outputs": [
    {
     "data": {
      "text/html": [
       "<div>\n",
       "<style scoped>\n",
       "    .dataframe tbody tr th:only-of-type {\n",
       "        vertical-align: middle;\n",
       "    }\n",
       "\n",
       "    .dataframe tbody tr th {\n",
       "        vertical-align: top;\n",
       "    }\n",
       "\n",
       "    .dataframe thead th {\n",
       "        text-align: right;\n",
       "    }\n",
       "</style>\n",
       "<table border=\"1\" class=\"dataframe\">\n",
       "  <thead>\n",
       "    <tr style=\"text-align: right;\">\n",
       "      <th></th>\n",
       "      <th>평균기온(℃)</th>\n",
       "      <th>최저기온(℃)</th>\n",
       "      <th>최고기온(℃)</th>\n",
       "    </tr>\n",
       "    <tr>\n",
       "      <th>날짜</th>\n",
       "      <th></th>\n",
       "      <th></th>\n",
       "      <th></th>\n",
       "    </tr>\n",
       "  </thead>\n",
       "  <tbody>\n",
       "    <tr>\n",
       "      <th>2017-01-01</th>\n",
       "      <td>3.4</td>\n",
       "      <td>-2.0</td>\n",
       "      <td>10.0</td>\n",
       "    </tr>\n",
       "    <tr>\n",
       "      <th>2017-01-02</th>\n",
       "      <td>5.3</td>\n",
       "      <td>-0.4</td>\n",
       "      <td>12.3</td>\n",
       "    </tr>\n",
       "  </tbody>\n",
       "</table>\n",
       "</div>"
      ],
      "text/plain": [
       "            평균기온(℃)  최저기온(℃)  최고기온(℃)\n",
       "날짜                                   \n",
       "2017-01-01      3.4     -2.0     10.0\n",
       "2017-01-02      5.3     -0.4     12.3"
      ]
     },
     "execution_count": 28,
     "metadata": {},
     "output_type": "execute_result"
    }
   ],
   "source": [
    "dg_temp2.head(2)"
   ]
  },
  {
   "cell_type": "markdown",
   "id": "4fb2b00f",
   "metadata": {},
   "source": [
    "* dg_temp2 컬럼인덱스에서 섭씨표시(℃) 없애기"
   ]
  },
  {
   "cell_type": "code",
   "execution_count": 29,
   "id": "c91872d9",
   "metadata": {},
   "outputs": [],
   "source": [
    "dg_temp2.columns=['평균기온', '최저기온', '최고기온']"
   ]
  },
  {
   "cell_type": "code",
   "execution_count": 30,
   "id": "9507e702",
   "metadata": {},
   "outputs": [
    {
     "data": {
      "text/html": [
       "<div>\n",
       "<style scoped>\n",
       "    .dataframe tbody tr th:only-of-type {\n",
       "        vertical-align: middle;\n",
       "    }\n",
       "\n",
       "    .dataframe tbody tr th {\n",
       "        vertical-align: top;\n",
       "    }\n",
       "\n",
       "    .dataframe thead th {\n",
       "        text-align: right;\n",
       "    }\n",
       "</style>\n",
       "<table border=\"1\" class=\"dataframe\">\n",
       "  <thead>\n",
       "    <tr style=\"text-align: right;\">\n",
       "      <th></th>\n",
       "      <th>평균기온</th>\n",
       "      <th>최저기온</th>\n",
       "      <th>최고기온</th>\n",
       "    </tr>\n",
       "    <tr>\n",
       "      <th>날짜</th>\n",
       "      <th></th>\n",
       "      <th></th>\n",
       "      <th></th>\n",
       "    </tr>\n",
       "  </thead>\n",
       "  <tbody>\n",
       "    <tr>\n",
       "      <th>2017-01-01</th>\n",
       "      <td>3.4</td>\n",
       "      <td>-2.0</td>\n",
       "      <td>10.0</td>\n",
       "    </tr>\n",
       "    <tr>\n",
       "      <th>2017-01-02</th>\n",
       "      <td>5.3</td>\n",
       "      <td>-0.4</td>\n",
       "      <td>12.3</td>\n",
       "    </tr>\n",
       "  </tbody>\n",
       "</table>\n",
       "</div>"
      ],
      "text/plain": [
       "            평균기온  최저기온  최고기온\n",
       "날짜                          \n",
       "2017-01-01   3.4  -2.0  10.0\n",
       "2017-01-02   5.3  -0.4  12.3"
      ]
     },
     "execution_count": 30,
     "metadata": {},
     "output_type": "execute_result"
    }
   ],
   "source": [
    "dg_temp2.head(2)"
   ]
  },
  {
   "cell_type": "markdown",
   "id": "014ee4cc",
   "metadata": {},
   "source": [
    "* 최고기온 top10"
   ]
  },
  {
   "cell_type": "code",
   "execution_count": 32,
   "id": "b148933d",
   "metadata": {},
   "outputs": [
    {
     "data": {
      "text/html": [
       "<div>\n",
       "<style scoped>\n",
       "    .dataframe tbody tr th:only-of-type {\n",
       "        vertical-align: middle;\n",
       "    }\n",
       "\n",
       "    .dataframe tbody tr th {\n",
       "        vertical-align: top;\n",
       "    }\n",
       "\n",
       "    .dataframe thead th {\n",
       "        text-align: right;\n",
       "    }\n",
       "</style>\n",
       "<table border=\"1\" class=\"dataframe\">\n",
       "  <thead>\n",
       "    <tr style=\"text-align: right;\">\n",
       "      <th></th>\n",
       "      <th>평균기온</th>\n",
       "      <th>최저기온</th>\n",
       "      <th>최고기온</th>\n",
       "    </tr>\n",
       "    <tr>\n",
       "      <th>날짜</th>\n",
       "      <th></th>\n",
       "      <th></th>\n",
       "      <th></th>\n",
       "    </tr>\n",
       "  </thead>\n",
       "  <tbody>\n",
       "    <tr>\n",
       "      <th>2018-07-27</th>\n",
       "      <td>32.4</td>\n",
       "      <td>28.6</td>\n",
       "      <td>39.2</td>\n",
       "    </tr>\n",
       "    <tr>\n",
       "      <th>2018-08-04</th>\n",
       "      <td>32.3</td>\n",
       "      <td>27.2</td>\n",
       "      <td>38.7</td>\n",
       "    </tr>\n",
       "    <tr>\n",
       "      <th>2018-07-24</th>\n",
       "      <td>32.2</td>\n",
       "      <td>26.7</td>\n",
       "      <td>38.6</td>\n",
       "    </tr>\n",
       "    <tr>\n",
       "      <th>2018-07-20</th>\n",
       "      <td>31.5</td>\n",
       "      <td>25.4</td>\n",
       "      <td>38.5</td>\n",
       "    </tr>\n",
       "    <tr>\n",
       "      <th>2017-07-22</th>\n",
       "      <td>28.8</td>\n",
       "      <td>22.7</td>\n",
       "      <td>38.4</td>\n",
       "    </tr>\n",
       "    <tr>\n",
       "      <th>2018-07-26</th>\n",
       "      <td>33.1</td>\n",
       "      <td>27.9</td>\n",
       "      <td>38.0</td>\n",
       "    </tr>\n",
       "    <tr>\n",
       "      <th>2018-07-23</th>\n",
       "      <td>32.2</td>\n",
       "      <td>27.4</td>\n",
       "      <td>38.0</td>\n",
       "    </tr>\n",
       "    <tr>\n",
       "      <th>2018-08-03</th>\n",
       "      <td>31.0</td>\n",
       "      <td>25.3</td>\n",
       "      <td>37.8</td>\n",
       "    </tr>\n",
       "    <tr>\n",
       "      <th>2018-08-01</th>\n",
       "      <td>30.4</td>\n",
       "      <td>24.0</td>\n",
       "      <td>37.5</td>\n",
       "    </tr>\n",
       "    <tr>\n",
       "      <th>2021-07-31</th>\n",
       "      <td>29.9</td>\n",
       "      <td>25.3</td>\n",
       "      <td>37.2</td>\n",
       "    </tr>\n",
       "  </tbody>\n",
       "</table>\n",
       "</div>"
      ],
      "text/plain": [
       "            평균기온  최저기온  최고기온\n",
       "날짜                          \n",
       "2018-07-27  32.4  28.6  39.2\n",
       "2018-08-04  32.3  27.2  38.7\n",
       "2018-07-24  32.2  26.7  38.6\n",
       "2018-07-20  31.5  25.4  38.5\n",
       "2017-07-22  28.8  22.7  38.4\n",
       "2018-07-26  33.1  27.9  38.0\n",
       "2018-07-23  32.2  27.4  38.0\n",
       "2018-08-03  31.0  25.3  37.8\n",
       "2018-08-01  30.4  24.0  37.5\n",
       "2021-07-31  29.9  25.3  37.2"
      ]
     },
     "execution_count": 32,
     "metadata": {},
     "output_type": "execute_result"
    }
   ],
   "source": [
    "dg_temp2.sort_values('최고기온', ascending=False).head(10)"
   ]
  },
  {
   "cell_type": "markdown",
   "id": "48267561",
   "metadata": {},
   "source": [
    "* 최저기온 top10"
   ]
  },
  {
   "cell_type": "code",
   "execution_count": 33,
   "id": "0e2ca098",
   "metadata": {},
   "outputs": [
    {
     "data": {
      "text/html": [
       "<div>\n",
       "<style scoped>\n",
       "    .dataframe tbody tr th:only-of-type {\n",
       "        vertical-align: middle;\n",
       "    }\n",
       "\n",
       "    .dataframe tbody tr th {\n",
       "        vertical-align: top;\n",
       "    }\n",
       "\n",
       "    .dataframe thead th {\n",
       "        text-align: right;\n",
       "    }\n",
       "</style>\n",
       "<table border=\"1\" class=\"dataframe\">\n",
       "  <thead>\n",
       "    <tr style=\"text-align: right;\">\n",
       "      <th></th>\n",
       "      <th>평균기온</th>\n",
       "      <th>최저기온</th>\n",
       "      <th>최고기온</th>\n",
       "    </tr>\n",
       "    <tr>\n",
       "      <th>날짜</th>\n",
       "      <th></th>\n",
       "      <th></th>\n",
       "      <th></th>\n",
       "    </tr>\n",
       "  </thead>\n",
       "  <tbody>\n",
       "    <tr>\n",
       "      <th>2018-01-27</th>\n",
       "      <td>-5.6</td>\n",
       "      <td>-13.9</td>\n",
       "      <td>2.8</td>\n",
       "    </tr>\n",
       "    <tr>\n",
       "      <th>2021-01-08</th>\n",
       "      <td>-10.4</td>\n",
       "      <td>-13.6</td>\n",
       "      <td>-5.8</td>\n",
       "    </tr>\n",
       "    <tr>\n",
       "      <th>2018-01-26</th>\n",
       "      <td>-8.9</td>\n",
       "      <td>-13.0</td>\n",
       "      <td>-3.9</td>\n",
       "    </tr>\n",
       "    <tr>\n",
       "      <th>2018-01-25</th>\n",
       "      <td>-8.7</td>\n",
       "      <td>-12.4</td>\n",
       "      <td>-4.4</td>\n",
       "    </tr>\n",
       "    <tr>\n",
       "      <th>2021-01-07</th>\n",
       "      <td>-8.7</td>\n",
       "      <td>-12.4</td>\n",
       "      <td>-1.2</td>\n",
       "    </tr>\n",
       "    <tr>\n",
       "      <th>2018-01-24</th>\n",
       "      <td>-9.4</td>\n",
       "      <td>-12.3</td>\n",
       "      <td>-6.1</td>\n",
       "    </tr>\n",
       "    <tr>\n",
       "      <th>2021-01-09</th>\n",
       "      <td>-8.0</td>\n",
       "      <td>-11.4</td>\n",
       "      <td>-3.1</td>\n",
       "    </tr>\n",
       "    <tr>\n",
       "      <th>2018-02-06</th>\n",
       "      <td>-6.7</td>\n",
       "      <td>-10.9</td>\n",
       "      <td>-2.8</td>\n",
       "    </tr>\n",
       "    <tr>\n",
       "      <th>2018-02-07</th>\n",
       "      <td>-5.3</td>\n",
       "      <td>-10.9</td>\n",
       "      <td>0.7</td>\n",
       "    </tr>\n",
       "    <tr>\n",
       "      <th>2021-12-26</th>\n",
       "      <td>-7.1</td>\n",
       "      <td>-10.8</td>\n",
       "      <td>-3.1</td>\n",
       "    </tr>\n",
       "  </tbody>\n",
       "</table>\n",
       "</div>"
      ],
      "text/plain": [
       "            평균기온  최저기온  최고기온\n",
       "날짜                          \n",
       "2018-01-27  -5.6 -13.9   2.8\n",
       "2021-01-08 -10.4 -13.6  -5.8\n",
       "2018-01-26  -8.9 -13.0  -3.9\n",
       "2018-01-25  -8.7 -12.4  -4.4\n",
       "2021-01-07  -8.7 -12.4  -1.2\n",
       "2018-01-24  -9.4 -12.3  -6.1\n",
       "2021-01-09  -8.0 -11.4  -3.1\n",
       "2018-02-06  -6.7 -10.9  -2.8\n",
       "2018-02-07  -5.3 -10.9   0.7\n",
       "2021-12-26  -7.1 -10.8  -3.1"
      ]
     },
     "execution_count": 33,
     "metadata": {},
     "output_type": "execute_result"
    }
   ],
   "source": [
    "dg_temp2.sort_values('최저기온').head(10)"
   ]
  },
  {
   "cell_type": "markdown",
   "id": "b4ec2ad1",
   "metadata": {},
   "source": [
    "### 병합"
   ]
  },
  {
   "cell_type": "code",
   "execution_count": 34,
   "id": "6357f4de",
   "metadata": {},
   "outputs": [],
   "source": [
    "df1 = pd.DataFrame({\n",
    "    'key':['b','b','a','c','a','a','b'],\n",
    "    'data1':range(7)\n",
    "})\n",
    "df2 = pd.DataFrame({\n",
    "    'key':['a','b','d','b'],\n",
    "    'data2':range(4)\n",
    "})"
   ]
  },
  {
   "cell_type": "code",
   "execution_count": 35,
   "id": "d30abd72",
   "metadata": {},
   "outputs": [
    {
     "data": {
      "text/html": [
       "<div>\n",
       "<style scoped>\n",
       "    .dataframe tbody tr th:only-of-type {\n",
       "        vertical-align: middle;\n",
       "    }\n",
       "\n",
       "    .dataframe tbody tr th {\n",
       "        vertical-align: top;\n",
       "    }\n",
       "\n",
       "    .dataframe thead th {\n",
       "        text-align: right;\n",
       "    }\n",
       "</style>\n",
       "<table border=\"1\" class=\"dataframe\">\n",
       "  <thead>\n",
       "    <tr style=\"text-align: right;\">\n",
       "      <th></th>\n",
       "      <th>key</th>\n",
       "      <th>data1</th>\n",
       "    </tr>\n",
       "  </thead>\n",
       "  <tbody>\n",
       "    <tr>\n",
       "      <th>0</th>\n",
       "      <td>b</td>\n",
       "      <td>0</td>\n",
       "    </tr>\n",
       "    <tr>\n",
       "      <th>1</th>\n",
       "      <td>b</td>\n",
       "      <td>1</td>\n",
       "    </tr>\n",
       "    <tr>\n",
       "      <th>2</th>\n",
       "      <td>a</td>\n",
       "      <td>2</td>\n",
       "    </tr>\n",
       "    <tr>\n",
       "      <th>3</th>\n",
       "      <td>c</td>\n",
       "      <td>3</td>\n",
       "    </tr>\n",
       "    <tr>\n",
       "      <th>4</th>\n",
       "      <td>a</td>\n",
       "      <td>4</td>\n",
       "    </tr>\n",
       "    <tr>\n",
       "      <th>5</th>\n",
       "      <td>a</td>\n",
       "      <td>5</td>\n",
       "    </tr>\n",
       "    <tr>\n",
       "      <th>6</th>\n",
       "      <td>b</td>\n",
       "      <td>6</td>\n",
       "    </tr>\n",
       "  </tbody>\n",
       "</table>\n",
       "</div>"
      ],
      "text/plain": [
       "  key  data1\n",
       "0   b      0\n",
       "1   b      1\n",
       "2   a      2\n",
       "3   c      3\n",
       "4   a      4\n",
       "5   a      5\n",
       "6   b      6"
      ]
     },
     "execution_count": 35,
     "metadata": {},
     "output_type": "execute_result"
    }
   ],
   "source": [
    "df1"
   ]
  },
  {
   "cell_type": "code",
   "execution_count": 36,
   "id": "78f831f5",
   "metadata": {},
   "outputs": [
    {
     "data": {
      "text/html": [
       "<div>\n",
       "<style scoped>\n",
       "    .dataframe tbody tr th:only-of-type {\n",
       "        vertical-align: middle;\n",
       "    }\n",
       "\n",
       "    .dataframe tbody tr th {\n",
       "        vertical-align: top;\n",
       "    }\n",
       "\n",
       "    .dataframe thead th {\n",
       "        text-align: right;\n",
       "    }\n",
       "</style>\n",
       "<table border=\"1\" class=\"dataframe\">\n",
       "  <thead>\n",
       "    <tr style=\"text-align: right;\">\n",
       "      <th></th>\n",
       "      <th>key</th>\n",
       "      <th>data2</th>\n",
       "    </tr>\n",
       "  </thead>\n",
       "  <tbody>\n",
       "    <tr>\n",
       "      <th>0</th>\n",
       "      <td>a</td>\n",
       "      <td>0</td>\n",
       "    </tr>\n",
       "    <tr>\n",
       "      <th>1</th>\n",
       "      <td>b</td>\n",
       "      <td>1</td>\n",
       "    </tr>\n",
       "    <tr>\n",
       "      <th>2</th>\n",
       "      <td>d</td>\n",
       "      <td>2</td>\n",
       "    </tr>\n",
       "    <tr>\n",
       "      <th>3</th>\n",
       "      <td>b</td>\n",
       "      <td>3</td>\n",
       "    </tr>\n",
       "  </tbody>\n",
       "</table>\n",
       "</div>"
      ],
      "text/plain": [
       "  key  data2\n",
       "0   a      0\n",
       "1   b      1\n",
       "2   d      2\n",
       "3   b      3"
      ]
     },
     "execution_count": 36,
     "metadata": {},
     "output_type": "execute_result"
    }
   ],
   "source": [
    "df2"
   ]
  },
  {
   "cell_type": "code",
   "execution_count": 37,
   "id": "6da18a8f",
   "metadata": {},
   "outputs": [
    {
     "data": {
      "text/html": [
       "<div>\n",
       "<style scoped>\n",
       "    .dataframe tbody tr th:only-of-type {\n",
       "        vertical-align: middle;\n",
       "    }\n",
       "\n",
       "    .dataframe tbody tr th {\n",
       "        vertical-align: top;\n",
       "    }\n",
       "\n",
       "    .dataframe thead th {\n",
       "        text-align: right;\n",
       "    }\n",
       "</style>\n",
       "<table border=\"1\" class=\"dataframe\">\n",
       "  <thead>\n",
       "    <tr style=\"text-align: right;\">\n",
       "      <th></th>\n",
       "      <th>key</th>\n",
       "      <th>data1</th>\n",
       "      <th>data2</th>\n",
       "    </tr>\n",
       "  </thead>\n",
       "  <tbody>\n",
       "    <tr>\n",
       "      <th>0</th>\n",
       "      <td>b</td>\n",
       "      <td>0</td>\n",
       "      <td>1</td>\n",
       "    </tr>\n",
       "    <tr>\n",
       "      <th>1</th>\n",
       "      <td>b</td>\n",
       "      <td>0</td>\n",
       "      <td>3</td>\n",
       "    </tr>\n",
       "    <tr>\n",
       "      <th>2</th>\n",
       "      <td>b</td>\n",
       "      <td>1</td>\n",
       "      <td>1</td>\n",
       "    </tr>\n",
       "    <tr>\n",
       "      <th>3</th>\n",
       "      <td>b</td>\n",
       "      <td>1</td>\n",
       "      <td>3</td>\n",
       "    </tr>\n",
       "    <tr>\n",
       "      <th>4</th>\n",
       "      <td>b</td>\n",
       "      <td>6</td>\n",
       "      <td>1</td>\n",
       "    </tr>\n",
       "    <tr>\n",
       "      <th>5</th>\n",
       "      <td>b</td>\n",
       "      <td>6</td>\n",
       "      <td>3</td>\n",
       "    </tr>\n",
       "    <tr>\n",
       "      <th>6</th>\n",
       "      <td>a</td>\n",
       "      <td>2</td>\n",
       "      <td>0</td>\n",
       "    </tr>\n",
       "    <tr>\n",
       "      <th>7</th>\n",
       "      <td>a</td>\n",
       "      <td>4</td>\n",
       "      <td>0</td>\n",
       "    </tr>\n",
       "    <tr>\n",
       "      <th>8</th>\n",
       "      <td>a</td>\n",
       "      <td>5</td>\n",
       "      <td>0</td>\n",
       "    </tr>\n",
       "  </tbody>\n",
       "</table>\n",
       "</div>"
      ],
      "text/plain": [
       "  key  data1  data2\n",
       "0   b      0      1\n",
       "1   b      0      3\n",
       "2   b      1      1\n",
       "3   b      1      3\n",
       "4   b      6      1\n",
       "5   b      6      3\n",
       "6   a      2      0\n",
       "7   a      4      0\n",
       "8   a      5      0"
      ]
     },
     "execution_count": 37,
     "metadata": {},
     "output_type": "execute_result"
    }
   ],
   "source": [
    "df1.merge(df2)"
   ]
  },
  {
   "cell_type": "code",
   "execution_count": 38,
   "id": "24dc6971",
   "metadata": {},
   "outputs": [
    {
     "data": {
      "text/html": [
       "<div>\n",
       "<style scoped>\n",
       "    .dataframe tbody tr th:only-of-type {\n",
       "        vertical-align: middle;\n",
       "    }\n",
       "\n",
       "    .dataframe tbody tr th {\n",
       "        vertical-align: top;\n",
       "    }\n",
       "\n",
       "    .dataframe thead th {\n",
       "        text-align: right;\n",
       "    }\n",
       "</style>\n",
       "<table border=\"1\" class=\"dataframe\">\n",
       "  <thead>\n",
       "    <tr style=\"text-align: right;\">\n",
       "      <th></th>\n",
       "      <th>key_x</th>\n",
       "      <th>data1</th>\n",
       "      <th>key_y</th>\n",
       "      <th>data2</th>\n",
       "    </tr>\n",
       "  </thead>\n",
       "  <tbody>\n",
       "    <tr>\n",
       "      <th>0</th>\n",
       "      <td>b</td>\n",
       "      <td>0</td>\n",
       "      <td>a</td>\n",
       "      <td>0</td>\n",
       "    </tr>\n",
       "    <tr>\n",
       "      <th>1</th>\n",
       "      <td>b</td>\n",
       "      <td>1</td>\n",
       "      <td>b</td>\n",
       "      <td>1</td>\n",
       "    </tr>\n",
       "    <tr>\n",
       "      <th>2</th>\n",
       "      <td>a</td>\n",
       "      <td>2</td>\n",
       "      <td>d</td>\n",
       "      <td>2</td>\n",
       "    </tr>\n",
       "    <tr>\n",
       "      <th>3</th>\n",
       "      <td>c</td>\n",
       "      <td>3</td>\n",
       "      <td>b</td>\n",
       "      <td>3</td>\n",
       "    </tr>\n",
       "  </tbody>\n",
       "</table>\n",
       "</div>"
      ],
      "text/plain": [
       "  key_x  data1 key_y  data2\n",
       "0     b      0     a      0\n",
       "1     b      1     b      1\n",
       "2     a      2     d      2\n",
       "3     c      3     b      3"
      ]
     },
     "execution_count": 38,
     "metadata": {},
     "output_type": "execute_result"
    }
   ],
   "source": [
    "pd.merge(df1,df2,left_on = 'data1', right_on = 'data2')"
   ]
  },
  {
   "cell_type": "code",
   "execution_count": 39,
   "id": "245d4735",
   "metadata": {},
   "outputs": [],
   "source": [
    "df1 = pd.DataFrame({\n",
    "    'key1':['b','b','a','c','a','a','b'],\n",
    "    'data1':range(7)\n",
    "})\n",
    "df2 = pd.DataFrame({\n",
    "    'key2':['a','b','d','b'],\n",
    "    'data2':range(4)\n",
    "})"
   ]
  },
  {
   "cell_type": "code",
   "execution_count": 40,
   "id": "b2cc8f16",
   "metadata": {
    "collapsed": true
   },
   "outputs": [
    {
     "ename": "MergeError",
     "evalue": "No common columns to perform merge on. Merge options: left_on=None, right_on=None, left_index=False, right_index=False",
     "output_type": "error",
     "traceback": [
      "\u001b[0;31m---------------------------------------------------------------------------\u001b[0m",
      "\u001b[0;31mMergeError\u001b[0m                                Traceback (most recent call last)",
      "\u001b[0;32m/var/folders/tk/_xgwj1jx765d70vyp9fbnn140000gn/T/ipykernel_1451/383950530.py\u001b[0m in \u001b[0;36m<module>\u001b[0;34m\u001b[0m\n\u001b[0;32m----> 1\u001b[0;31m \u001b[0mpd\u001b[0m\u001b[0;34m.\u001b[0m\u001b[0mmerge\u001b[0m\u001b[0;34m(\u001b[0m\u001b[0mdf1\u001b[0m\u001b[0;34m,\u001b[0m\u001b[0mdf2\u001b[0m\u001b[0;34m)\u001b[0m\u001b[0;34m\u001b[0m\u001b[0;34m\u001b[0m\u001b[0m\n\u001b[0m",
      "\u001b[0;32m~/opt/anaconda3/envs/vrconda/lib/python3.7/site-packages/pandas/core/reshape/merge.py\u001b[0m in \u001b[0;36mmerge\u001b[0;34m(left, right, how, on, left_on, right_on, left_index, right_index, sort, suffixes, copy, indicator, validate)\u001b[0m\n\u001b[1;32m    117\u001b[0m         \u001b[0mcopy\u001b[0m\u001b[0;34m=\u001b[0m\u001b[0mcopy\u001b[0m\u001b[0;34m,\u001b[0m\u001b[0;34m\u001b[0m\u001b[0;34m\u001b[0m\u001b[0m\n\u001b[1;32m    118\u001b[0m         \u001b[0mindicator\u001b[0m\u001b[0;34m=\u001b[0m\u001b[0mindicator\u001b[0m\u001b[0;34m,\u001b[0m\u001b[0;34m\u001b[0m\u001b[0;34m\u001b[0m\u001b[0m\n\u001b[0;32m--> 119\u001b[0;31m         \u001b[0mvalidate\u001b[0m\u001b[0;34m=\u001b[0m\u001b[0mvalidate\u001b[0m\u001b[0;34m,\u001b[0m\u001b[0;34m\u001b[0m\u001b[0;34m\u001b[0m\u001b[0m\n\u001b[0m\u001b[1;32m    120\u001b[0m     )\n\u001b[1;32m    121\u001b[0m     \u001b[0;32mreturn\u001b[0m \u001b[0mop\u001b[0m\u001b[0;34m.\u001b[0m\u001b[0mget_result\u001b[0m\u001b[0;34m(\u001b[0m\u001b[0;34m)\u001b[0m\u001b[0;34m\u001b[0m\u001b[0;34m\u001b[0m\u001b[0m\n",
      "\u001b[0;32m~/opt/anaconda3/envs/vrconda/lib/python3.7/site-packages/pandas/core/reshape/merge.py\u001b[0m in \u001b[0;36m__init__\u001b[0;34m(self, left, right, how, on, left_on, right_on, axis, left_index, right_index, sort, suffixes, copy, indicator, validate)\u001b[0m\n\u001b[1;32m    679\u001b[0m             \u001b[0mwarnings\u001b[0m\u001b[0;34m.\u001b[0m\u001b[0mwarn\u001b[0m\u001b[0;34m(\u001b[0m\u001b[0mmsg\u001b[0m\u001b[0;34m,\u001b[0m \u001b[0mFutureWarning\u001b[0m\u001b[0;34m,\u001b[0m \u001b[0mstacklevel\u001b[0m\u001b[0;34m=\u001b[0m\u001b[0;36m3\u001b[0m\u001b[0;34m)\u001b[0m\u001b[0;34m\u001b[0m\u001b[0;34m\u001b[0m\u001b[0m\n\u001b[1;32m    680\u001b[0m \u001b[0;34m\u001b[0m\u001b[0m\n\u001b[0;32m--> 681\u001b[0;31m         \u001b[0mself\u001b[0m\u001b[0;34m.\u001b[0m\u001b[0m_validate_specification\u001b[0m\u001b[0;34m(\u001b[0m\u001b[0;34m)\u001b[0m\u001b[0;34m\u001b[0m\u001b[0;34m\u001b[0m\u001b[0m\n\u001b[0m\u001b[1;32m    682\u001b[0m \u001b[0;34m\u001b[0m\u001b[0m\n\u001b[1;32m    683\u001b[0m         \u001b[0mcross_col\u001b[0m \u001b[0;34m=\u001b[0m \u001b[0;32mNone\u001b[0m\u001b[0;34m\u001b[0m\u001b[0;34m\u001b[0m\u001b[0m\n",
      "\u001b[0;32m~/opt/anaconda3/envs/vrconda/lib/python3.7/site-packages/pandas/core/reshape/merge.py\u001b[0m in \u001b[0;36m_validate_specification\u001b[0;34m(self)\u001b[0m\n\u001b[1;32m   1345\u001b[0m                 \u001b[0;32mif\u001b[0m \u001b[0mlen\u001b[0m\u001b[0;34m(\u001b[0m\u001b[0mcommon_cols\u001b[0m\u001b[0;34m)\u001b[0m \u001b[0;34m==\u001b[0m \u001b[0;36m0\u001b[0m\u001b[0;34m:\u001b[0m\u001b[0;34m\u001b[0m\u001b[0;34m\u001b[0m\u001b[0m\n\u001b[1;32m   1346\u001b[0m                     raise MergeError(\n\u001b[0;32m-> 1347\u001b[0;31m                         \u001b[0;34m\"No common columns to perform merge on. \"\u001b[0m\u001b[0;34m\u001b[0m\u001b[0;34m\u001b[0m\u001b[0m\n\u001b[0m\u001b[1;32m   1348\u001b[0m                         \u001b[0;34mf\"Merge options: left_on={self.left_on}, \"\u001b[0m\u001b[0;34m\u001b[0m\u001b[0;34m\u001b[0m\u001b[0m\n\u001b[1;32m   1349\u001b[0m                         \u001b[0;34mf\"right_on={self.right_on}, \"\u001b[0m\u001b[0;34m\u001b[0m\u001b[0;34m\u001b[0m\u001b[0m\n",
      "\u001b[0;31mMergeError\u001b[0m: No common columns to perform merge on. Merge options: left_on=None, right_on=None, left_index=False, right_index=False"
     ]
    }
   ],
   "source": [
    "pd.merge(df1,df2) #공통된것이 없어 불가능"
   ]
  },
  {
   "cell_type": "code",
   "execution_count": 42,
   "id": "6a360c22",
   "metadata": {},
   "outputs": [
    {
     "data": {
      "text/html": [
       "<div>\n",
       "<style scoped>\n",
       "    .dataframe tbody tr th:only-of-type {\n",
       "        vertical-align: middle;\n",
       "    }\n",
       "\n",
       "    .dataframe tbody tr th {\n",
       "        vertical-align: top;\n",
       "    }\n",
       "\n",
       "    .dataframe thead th {\n",
       "        text-align: right;\n",
       "    }\n",
       "</style>\n",
       "<table border=\"1\" class=\"dataframe\">\n",
       "  <thead>\n",
       "    <tr style=\"text-align: right;\">\n",
       "      <th></th>\n",
       "      <th>key1</th>\n",
       "      <th>data1</th>\n",
       "      <th>key2</th>\n",
       "      <th>data2</th>\n",
       "    </tr>\n",
       "  </thead>\n",
       "  <tbody>\n",
       "    <tr>\n",
       "      <th>0</th>\n",
       "      <td>b</td>\n",
       "      <td>0</td>\n",
       "      <td>b</td>\n",
       "      <td>1</td>\n",
       "    </tr>\n",
       "    <tr>\n",
       "      <th>1</th>\n",
       "      <td>b</td>\n",
       "      <td>0</td>\n",
       "      <td>b</td>\n",
       "      <td>3</td>\n",
       "    </tr>\n",
       "    <tr>\n",
       "      <th>2</th>\n",
       "      <td>b</td>\n",
       "      <td>1</td>\n",
       "      <td>b</td>\n",
       "      <td>1</td>\n",
       "    </tr>\n",
       "    <tr>\n",
       "      <th>3</th>\n",
       "      <td>b</td>\n",
       "      <td>1</td>\n",
       "      <td>b</td>\n",
       "      <td>3</td>\n",
       "    </tr>\n",
       "    <tr>\n",
       "      <th>4</th>\n",
       "      <td>b</td>\n",
       "      <td>6</td>\n",
       "      <td>b</td>\n",
       "      <td>1</td>\n",
       "    </tr>\n",
       "    <tr>\n",
       "      <th>5</th>\n",
       "      <td>b</td>\n",
       "      <td>6</td>\n",
       "      <td>b</td>\n",
       "      <td>3</td>\n",
       "    </tr>\n",
       "    <tr>\n",
       "      <th>6</th>\n",
       "      <td>a</td>\n",
       "      <td>2</td>\n",
       "      <td>a</td>\n",
       "      <td>0</td>\n",
       "    </tr>\n",
       "    <tr>\n",
       "      <th>7</th>\n",
       "      <td>a</td>\n",
       "      <td>4</td>\n",
       "      <td>a</td>\n",
       "      <td>0</td>\n",
       "    </tr>\n",
       "    <tr>\n",
       "      <th>8</th>\n",
       "      <td>a</td>\n",
       "      <td>5</td>\n",
       "      <td>a</td>\n",
       "      <td>0</td>\n",
       "    </tr>\n",
       "  </tbody>\n",
       "</table>\n",
       "</div>"
      ],
      "text/plain": [
       "  key1  data1 key2  data2\n",
       "0    b      0    b      1\n",
       "1    b      0    b      3\n",
       "2    b      1    b      1\n",
       "3    b      1    b      3\n",
       "4    b      6    b      1\n",
       "5    b      6    b      3\n",
       "6    a      2    a      0\n",
       "7    a      4    a      0\n",
       "8    a      5    a      0"
      ]
     },
     "execution_count": 42,
     "metadata": {},
     "output_type": "execute_result"
    }
   ],
   "source": [
    "pd.merge(df1, df2, left_on='key1', right_on='key2')"
   ]
  },
  {
   "cell_type": "code",
   "execution_count": 43,
   "id": "33fbf14a",
   "metadata": {},
   "outputs": [
    {
     "data": {
      "text/html": [
       "<div>\n",
       "<style scoped>\n",
       "    .dataframe tbody tr th:only-of-type {\n",
       "        vertical-align: middle;\n",
       "    }\n",
       "\n",
       "    .dataframe tbody tr th {\n",
       "        vertical-align: top;\n",
       "    }\n",
       "\n",
       "    .dataframe thead th {\n",
       "        text-align: right;\n",
       "    }\n",
       "</style>\n",
       "<table border=\"1\" class=\"dataframe\">\n",
       "  <thead>\n",
       "    <tr style=\"text-align: right;\">\n",
       "      <th></th>\n",
       "      <th>key1</th>\n",
       "      <th>data1</th>\n",
       "      <th>key2</th>\n",
       "      <th>data2</th>\n",
       "    </tr>\n",
       "  </thead>\n",
       "  <tbody>\n",
       "    <tr>\n",
       "      <th>0</th>\n",
       "      <td>b</td>\n",
       "      <td>0</td>\n",
       "      <td>b</td>\n",
       "      <td>1.0</td>\n",
       "    </tr>\n",
       "    <tr>\n",
       "      <th>1</th>\n",
       "      <td>b</td>\n",
       "      <td>0</td>\n",
       "      <td>b</td>\n",
       "      <td>3.0</td>\n",
       "    </tr>\n",
       "    <tr>\n",
       "      <th>2</th>\n",
       "      <td>b</td>\n",
       "      <td>1</td>\n",
       "      <td>b</td>\n",
       "      <td>1.0</td>\n",
       "    </tr>\n",
       "    <tr>\n",
       "      <th>3</th>\n",
       "      <td>b</td>\n",
       "      <td>1</td>\n",
       "      <td>b</td>\n",
       "      <td>3.0</td>\n",
       "    </tr>\n",
       "    <tr>\n",
       "      <th>4</th>\n",
       "      <td>a</td>\n",
       "      <td>2</td>\n",
       "      <td>a</td>\n",
       "      <td>0.0</td>\n",
       "    </tr>\n",
       "    <tr>\n",
       "      <th>5</th>\n",
       "      <td>c</td>\n",
       "      <td>3</td>\n",
       "      <td>NaN</td>\n",
       "      <td>NaN</td>\n",
       "    </tr>\n",
       "    <tr>\n",
       "      <th>6</th>\n",
       "      <td>a</td>\n",
       "      <td>4</td>\n",
       "      <td>a</td>\n",
       "      <td>0.0</td>\n",
       "    </tr>\n",
       "    <tr>\n",
       "      <th>7</th>\n",
       "      <td>a</td>\n",
       "      <td>5</td>\n",
       "      <td>a</td>\n",
       "      <td>0.0</td>\n",
       "    </tr>\n",
       "    <tr>\n",
       "      <th>8</th>\n",
       "      <td>b</td>\n",
       "      <td>6</td>\n",
       "      <td>b</td>\n",
       "      <td>1.0</td>\n",
       "    </tr>\n",
       "    <tr>\n",
       "      <th>9</th>\n",
       "      <td>b</td>\n",
       "      <td>6</td>\n",
       "      <td>b</td>\n",
       "      <td>3.0</td>\n",
       "    </tr>\n",
       "  </tbody>\n",
       "</table>\n",
       "</div>"
      ],
      "text/plain": [
       "  key1  data1 key2  data2\n",
       "0    b      0    b    1.0\n",
       "1    b      0    b    3.0\n",
       "2    b      1    b    1.0\n",
       "3    b      1    b    3.0\n",
       "4    a      2    a    0.0\n",
       "5    c      3  NaN    NaN\n",
       "6    a      4    a    0.0\n",
       "7    a      5    a    0.0\n",
       "8    b      6    b    1.0\n",
       "9    b      6    b    3.0"
      ]
     },
     "execution_count": 43,
     "metadata": {},
     "output_type": "execute_result"
    }
   ],
   "source": [
    "pd.merge(df1, df2, left_on='key1', right_on='key2', how='left')"
   ]
  },
  {
   "cell_type": "code",
   "execution_count": 44,
   "id": "00bede1e",
   "metadata": {},
   "outputs": [
    {
     "data": {
      "text/html": [
       "<div>\n",
       "<style scoped>\n",
       "    .dataframe tbody tr th:only-of-type {\n",
       "        vertical-align: middle;\n",
       "    }\n",
       "\n",
       "    .dataframe tbody tr th {\n",
       "        vertical-align: top;\n",
       "    }\n",
       "\n",
       "    .dataframe thead th {\n",
       "        text-align: right;\n",
       "    }\n",
       "</style>\n",
       "<table border=\"1\" class=\"dataframe\">\n",
       "  <thead>\n",
       "    <tr style=\"text-align: right;\">\n",
       "      <th></th>\n",
       "      <th>key1</th>\n",
       "      <th>data1</th>\n",
       "      <th>key2</th>\n",
       "      <th>data2</th>\n",
       "    </tr>\n",
       "  </thead>\n",
       "  <tbody>\n",
       "    <tr>\n",
       "      <th>0</th>\n",
       "      <td>a</td>\n",
       "      <td>2.0</td>\n",
       "      <td>a</td>\n",
       "      <td>0</td>\n",
       "    </tr>\n",
       "    <tr>\n",
       "      <th>1</th>\n",
       "      <td>a</td>\n",
       "      <td>4.0</td>\n",
       "      <td>a</td>\n",
       "      <td>0</td>\n",
       "    </tr>\n",
       "    <tr>\n",
       "      <th>2</th>\n",
       "      <td>a</td>\n",
       "      <td>5.0</td>\n",
       "      <td>a</td>\n",
       "      <td>0</td>\n",
       "    </tr>\n",
       "    <tr>\n",
       "      <th>3</th>\n",
       "      <td>b</td>\n",
       "      <td>0.0</td>\n",
       "      <td>b</td>\n",
       "      <td>1</td>\n",
       "    </tr>\n",
       "    <tr>\n",
       "      <th>4</th>\n",
       "      <td>b</td>\n",
       "      <td>1.0</td>\n",
       "      <td>b</td>\n",
       "      <td>1</td>\n",
       "    </tr>\n",
       "    <tr>\n",
       "      <th>5</th>\n",
       "      <td>b</td>\n",
       "      <td>6.0</td>\n",
       "      <td>b</td>\n",
       "      <td>1</td>\n",
       "    </tr>\n",
       "    <tr>\n",
       "      <th>6</th>\n",
       "      <td>NaN</td>\n",
       "      <td>NaN</td>\n",
       "      <td>d</td>\n",
       "      <td>2</td>\n",
       "    </tr>\n",
       "    <tr>\n",
       "      <th>7</th>\n",
       "      <td>b</td>\n",
       "      <td>0.0</td>\n",
       "      <td>b</td>\n",
       "      <td>3</td>\n",
       "    </tr>\n",
       "    <tr>\n",
       "      <th>8</th>\n",
       "      <td>b</td>\n",
       "      <td>1.0</td>\n",
       "      <td>b</td>\n",
       "      <td>3</td>\n",
       "    </tr>\n",
       "    <tr>\n",
       "      <th>9</th>\n",
       "      <td>b</td>\n",
       "      <td>6.0</td>\n",
       "      <td>b</td>\n",
       "      <td>3</td>\n",
       "    </tr>\n",
       "  </tbody>\n",
       "</table>\n",
       "</div>"
      ],
      "text/plain": [
       "  key1  data1 key2  data2\n",
       "0    a    2.0    a      0\n",
       "1    a    4.0    a      0\n",
       "2    a    5.0    a      0\n",
       "3    b    0.0    b      1\n",
       "4    b    1.0    b      1\n",
       "5    b    6.0    b      1\n",
       "6  NaN    NaN    d      2\n",
       "7    b    0.0    b      3\n",
       "8    b    1.0    b      3\n",
       "9    b    6.0    b      3"
      ]
     },
     "execution_count": 44,
     "metadata": {},
     "output_type": "execute_result"
    }
   ],
   "source": [
    "pd.merge(df1, df2, left_on='key1', right_on='key2', how='right')"
   ]
  },
  {
   "cell_type": "code",
   "execution_count": 45,
   "id": "b549c96b",
   "metadata": {},
   "outputs": [
    {
     "data": {
      "text/html": [
       "<div>\n",
       "<style scoped>\n",
       "    .dataframe tbody tr th:only-of-type {\n",
       "        vertical-align: middle;\n",
       "    }\n",
       "\n",
       "    .dataframe tbody tr th {\n",
       "        vertical-align: top;\n",
       "    }\n",
       "\n",
       "    .dataframe thead th {\n",
       "        text-align: right;\n",
       "    }\n",
       "</style>\n",
       "<table border=\"1\" class=\"dataframe\">\n",
       "  <thead>\n",
       "    <tr style=\"text-align: right;\">\n",
       "      <th></th>\n",
       "      <th>key1</th>\n",
       "      <th>data1</th>\n",
       "      <th>key2</th>\n",
       "      <th>data2</th>\n",
       "    </tr>\n",
       "  </thead>\n",
       "  <tbody>\n",
       "    <tr>\n",
       "      <th>0</th>\n",
       "      <td>b</td>\n",
       "      <td>0.0</td>\n",
       "      <td>b</td>\n",
       "      <td>1.0</td>\n",
       "    </tr>\n",
       "    <tr>\n",
       "      <th>1</th>\n",
       "      <td>b</td>\n",
       "      <td>0.0</td>\n",
       "      <td>b</td>\n",
       "      <td>3.0</td>\n",
       "    </tr>\n",
       "    <tr>\n",
       "      <th>2</th>\n",
       "      <td>b</td>\n",
       "      <td>1.0</td>\n",
       "      <td>b</td>\n",
       "      <td>1.0</td>\n",
       "    </tr>\n",
       "    <tr>\n",
       "      <th>3</th>\n",
       "      <td>b</td>\n",
       "      <td>1.0</td>\n",
       "      <td>b</td>\n",
       "      <td>3.0</td>\n",
       "    </tr>\n",
       "    <tr>\n",
       "      <th>4</th>\n",
       "      <td>b</td>\n",
       "      <td>6.0</td>\n",
       "      <td>b</td>\n",
       "      <td>1.0</td>\n",
       "    </tr>\n",
       "    <tr>\n",
       "      <th>5</th>\n",
       "      <td>b</td>\n",
       "      <td>6.0</td>\n",
       "      <td>b</td>\n",
       "      <td>3.0</td>\n",
       "    </tr>\n",
       "    <tr>\n",
       "      <th>6</th>\n",
       "      <td>a</td>\n",
       "      <td>2.0</td>\n",
       "      <td>a</td>\n",
       "      <td>0.0</td>\n",
       "    </tr>\n",
       "    <tr>\n",
       "      <th>7</th>\n",
       "      <td>a</td>\n",
       "      <td>4.0</td>\n",
       "      <td>a</td>\n",
       "      <td>0.0</td>\n",
       "    </tr>\n",
       "    <tr>\n",
       "      <th>8</th>\n",
       "      <td>a</td>\n",
       "      <td>5.0</td>\n",
       "      <td>a</td>\n",
       "      <td>0.0</td>\n",
       "    </tr>\n",
       "    <tr>\n",
       "      <th>9</th>\n",
       "      <td>c</td>\n",
       "      <td>3.0</td>\n",
       "      <td>NaN</td>\n",
       "      <td>NaN</td>\n",
       "    </tr>\n",
       "    <tr>\n",
       "      <th>10</th>\n",
       "      <td>NaN</td>\n",
       "      <td>NaN</td>\n",
       "      <td>d</td>\n",
       "      <td>2.0</td>\n",
       "    </tr>\n",
       "  </tbody>\n",
       "</table>\n",
       "</div>"
      ],
      "text/plain": [
       "   key1  data1 key2  data2\n",
       "0     b    0.0    b    1.0\n",
       "1     b    0.0    b    3.0\n",
       "2     b    1.0    b    1.0\n",
       "3     b    1.0    b    3.0\n",
       "4     b    6.0    b    1.0\n",
       "5     b    6.0    b    3.0\n",
       "6     a    2.0    a    0.0\n",
       "7     a    4.0    a    0.0\n",
       "8     a    5.0    a    0.0\n",
       "9     c    3.0  NaN    NaN\n",
       "10  NaN    NaN    d    2.0"
      ]
     },
     "execution_count": 45,
     "metadata": {},
     "output_type": "execute_result"
    }
   ],
   "source": [
    "pd.merge(df1, df2, left_on='key1', right_on='key2', how='outer')"
   ]
  },
  {
   "cell_type": "markdown",
   "id": "e3e580c9",
   "metadata": {},
   "source": [
    "### 데이터 결합(concatenation)"
   ]
  },
  {
   "cell_type": "code",
   "execution_count": 46,
   "id": "dbeb3a1e",
   "metadata": {},
   "outputs": [],
   "source": [
    "s1 = pd.Series([0,1],index=['a','b'])\n",
    "s2 = pd.Series([2,1,3],index=['c','d','e'])\n",
    "s3 = pd.Series([4,7],index=['a','e'])"
   ]
  },
  {
   "cell_type": "code",
   "execution_count": 47,
   "id": "c77005aa",
   "metadata": {},
   "outputs": [
    {
     "data": {
      "text/plain": [
       "a    0\n",
       "b    1\n",
       "dtype: int64"
      ]
     },
     "execution_count": 47,
     "metadata": {},
     "output_type": "execute_result"
    }
   ],
   "source": [
    "s1"
   ]
  },
  {
   "cell_type": "code",
   "execution_count": 48,
   "id": "df075558",
   "metadata": {},
   "outputs": [
    {
     "data": {
      "text/plain": [
       "c    2\n",
       "d    1\n",
       "e    3\n",
       "dtype: int64"
      ]
     },
     "execution_count": 48,
     "metadata": {},
     "output_type": "execute_result"
    }
   ],
   "source": [
    "s2"
   ]
  },
  {
   "cell_type": "code",
   "execution_count": 49,
   "id": "27a274e0",
   "metadata": {},
   "outputs": [
    {
     "data": {
      "text/plain": [
       "a    4\n",
       "e    7\n",
       "dtype: int64"
      ]
     },
     "execution_count": 49,
     "metadata": {},
     "output_type": "execute_result"
    }
   ],
   "source": [
    "s3"
   ]
  },
  {
   "cell_type": "code",
   "execution_count": 50,
   "id": "65e27d8d",
   "metadata": {},
   "outputs": [
    {
     "data": {
      "text/plain": [
       "a    0\n",
       "b    1\n",
       "c    2\n",
       "d    1\n",
       "e    3\n",
       "dtype: int64"
      ]
     },
     "execution_count": 50,
     "metadata": {},
     "output_type": "execute_result"
    }
   ],
   "source": [
    "pd.concat([s1,s2])"
   ]
  },
  {
   "cell_type": "code",
   "execution_count": 51,
   "id": "a63821a1",
   "metadata": {},
   "outputs": [
    {
     "data": {
      "text/html": [
       "<div>\n",
       "<style scoped>\n",
       "    .dataframe tbody tr th:only-of-type {\n",
       "        vertical-align: middle;\n",
       "    }\n",
       "\n",
       "    .dataframe tbody tr th {\n",
       "        vertical-align: top;\n",
       "    }\n",
       "\n",
       "    .dataframe thead th {\n",
       "        text-align: right;\n",
       "    }\n",
       "</style>\n",
       "<table border=\"1\" class=\"dataframe\">\n",
       "  <thead>\n",
       "    <tr style=\"text-align: right;\">\n",
       "      <th></th>\n",
       "      <th>0</th>\n",
       "      <th>1</th>\n",
       "    </tr>\n",
       "  </thead>\n",
       "  <tbody>\n",
       "    <tr>\n",
       "      <th>a</th>\n",
       "      <td>0.0</td>\n",
       "      <td>NaN</td>\n",
       "    </tr>\n",
       "    <tr>\n",
       "      <th>b</th>\n",
       "      <td>1.0</td>\n",
       "      <td>NaN</td>\n",
       "    </tr>\n",
       "    <tr>\n",
       "      <th>c</th>\n",
       "      <td>NaN</td>\n",
       "      <td>2.0</td>\n",
       "    </tr>\n",
       "    <tr>\n",
       "      <th>d</th>\n",
       "      <td>NaN</td>\n",
       "      <td>1.0</td>\n",
       "    </tr>\n",
       "    <tr>\n",
       "      <th>e</th>\n",
       "      <td>NaN</td>\n",
       "      <td>3.0</td>\n",
       "    </tr>\n",
       "  </tbody>\n",
       "</table>\n",
       "</div>"
      ],
      "text/plain": [
       "     0    1\n",
       "a  0.0  NaN\n",
       "b  1.0  NaN\n",
       "c  NaN  2.0\n",
       "d  NaN  1.0\n",
       "e  NaN  3.0"
      ]
     },
     "execution_count": 51,
     "metadata": {},
     "output_type": "execute_result"
    }
   ],
   "source": [
    "pd.concat([s1,s2], axis=1)"
   ]
  },
  {
   "cell_type": "code",
   "execution_count": 52,
   "id": "bea263b8",
   "metadata": {},
   "outputs": [
    {
     "data": {
      "text/html": [
       "<div>\n",
       "<style scoped>\n",
       "    .dataframe tbody tr th:only-of-type {\n",
       "        vertical-align: middle;\n",
       "    }\n",
       "\n",
       "    .dataframe tbody tr th {\n",
       "        vertical-align: top;\n",
       "    }\n",
       "\n",
       "    .dataframe thead th {\n",
       "        text-align: right;\n",
       "    }\n",
       "</style>\n",
       "<table border=\"1\" class=\"dataframe\">\n",
       "  <thead>\n",
       "    <tr style=\"text-align: right;\">\n",
       "      <th></th>\n",
       "      <th>key1</th>\n",
       "      <th>data1</th>\n",
       "    </tr>\n",
       "  </thead>\n",
       "  <tbody>\n",
       "    <tr>\n",
       "      <th>0</th>\n",
       "      <td>b</td>\n",
       "      <td>0</td>\n",
       "    </tr>\n",
       "    <tr>\n",
       "      <th>1</th>\n",
       "      <td>b</td>\n",
       "      <td>1</td>\n",
       "    </tr>\n",
       "    <tr>\n",
       "      <th>2</th>\n",
       "      <td>a</td>\n",
       "      <td>2</td>\n",
       "    </tr>\n",
       "    <tr>\n",
       "      <th>3</th>\n",
       "      <td>c</td>\n",
       "      <td>3</td>\n",
       "    </tr>\n",
       "    <tr>\n",
       "      <th>4</th>\n",
       "      <td>a</td>\n",
       "      <td>4</td>\n",
       "    </tr>\n",
       "    <tr>\n",
       "      <th>5</th>\n",
       "      <td>a</td>\n",
       "      <td>5</td>\n",
       "    </tr>\n",
       "    <tr>\n",
       "      <th>6</th>\n",
       "      <td>b</td>\n",
       "      <td>6</td>\n",
       "    </tr>\n",
       "  </tbody>\n",
       "</table>\n",
       "</div>"
      ],
      "text/plain": [
       "  key1  data1\n",
       "0    b      0\n",
       "1    b      1\n",
       "2    a      2\n",
       "3    c      3\n",
       "4    a      4\n",
       "5    a      5\n",
       "6    b      6"
      ]
     },
     "execution_count": 52,
     "metadata": {},
     "output_type": "execute_result"
    }
   ],
   "source": [
    "df1"
   ]
  },
  {
   "cell_type": "code",
   "execution_count": 53,
   "id": "5e651d89",
   "metadata": {},
   "outputs": [
    {
     "data": {
      "text/html": [
       "<div>\n",
       "<style scoped>\n",
       "    .dataframe tbody tr th:only-of-type {\n",
       "        vertical-align: middle;\n",
       "    }\n",
       "\n",
       "    .dataframe tbody tr th {\n",
       "        vertical-align: top;\n",
       "    }\n",
       "\n",
       "    .dataframe thead th {\n",
       "        text-align: right;\n",
       "    }\n",
       "</style>\n",
       "<table border=\"1\" class=\"dataframe\">\n",
       "  <thead>\n",
       "    <tr style=\"text-align: right;\">\n",
       "      <th></th>\n",
       "      <th>key2</th>\n",
       "      <th>data2</th>\n",
       "    </tr>\n",
       "  </thead>\n",
       "  <tbody>\n",
       "    <tr>\n",
       "      <th>0</th>\n",
       "      <td>a</td>\n",
       "      <td>0</td>\n",
       "    </tr>\n",
       "    <tr>\n",
       "      <th>1</th>\n",
       "      <td>b</td>\n",
       "      <td>1</td>\n",
       "    </tr>\n",
       "    <tr>\n",
       "      <th>2</th>\n",
       "      <td>d</td>\n",
       "      <td>2</td>\n",
       "    </tr>\n",
       "    <tr>\n",
       "      <th>3</th>\n",
       "      <td>b</td>\n",
       "      <td>3</td>\n",
       "    </tr>\n",
       "  </tbody>\n",
       "</table>\n",
       "</div>"
      ],
      "text/plain": [
       "  key2  data2\n",
       "0    a      0\n",
       "1    b      1\n",
       "2    d      2\n",
       "3    b      3"
      ]
     },
     "execution_count": 53,
     "metadata": {},
     "output_type": "execute_result"
    }
   ],
   "source": [
    "df2"
   ]
  },
  {
   "cell_type": "code",
   "execution_count": 54,
   "id": "2a018300",
   "metadata": {},
   "outputs": [
    {
     "data": {
      "text/html": [
       "<div>\n",
       "<style scoped>\n",
       "    .dataframe tbody tr th:only-of-type {\n",
       "        vertical-align: middle;\n",
       "    }\n",
       "\n",
       "    .dataframe tbody tr th {\n",
       "        vertical-align: top;\n",
       "    }\n",
       "\n",
       "    .dataframe thead th {\n",
       "        text-align: right;\n",
       "    }\n",
       "</style>\n",
       "<table border=\"1\" class=\"dataframe\">\n",
       "  <thead>\n",
       "    <tr style=\"text-align: right;\">\n",
       "      <th></th>\n",
       "      <th>key1</th>\n",
       "      <th>data1</th>\n",
       "      <th>key2</th>\n",
       "      <th>data2</th>\n",
       "    </tr>\n",
       "  </thead>\n",
       "  <tbody>\n",
       "    <tr>\n",
       "      <th>0</th>\n",
       "      <td>b</td>\n",
       "      <td>0.0</td>\n",
       "      <td>NaN</td>\n",
       "      <td>NaN</td>\n",
       "    </tr>\n",
       "    <tr>\n",
       "      <th>1</th>\n",
       "      <td>b</td>\n",
       "      <td>1.0</td>\n",
       "      <td>NaN</td>\n",
       "      <td>NaN</td>\n",
       "    </tr>\n",
       "    <tr>\n",
       "      <th>2</th>\n",
       "      <td>a</td>\n",
       "      <td>2.0</td>\n",
       "      <td>NaN</td>\n",
       "      <td>NaN</td>\n",
       "    </tr>\n",
       "    <tr>\n",
       "      <th>3</th>\n",
       "      <td>c</td>\n",
       "      <td>3.0</td>\n",
       "      <td>NaN</td>\n",
       "      <td>NaN</td>\n",
       "    </tr>\n",
       "    <tr>\n",
       "      <th>4</th>\n",
       "      <td>a</td>\n",
       "      <td>4.0</td>\n",
       "      <td>NaN</td>\n",
       "      <td>NaN</td>\n",
       "    </tr>\n",
       "    <tr>\n",
       "      <th>5</th>\n",
       "      <td>a</td>\n",
       "      <td>5.0</td>\n",
       "      <td>NaN</td>\n",
       "      <td>NaN</td>\n",
       "    </tr>\n",
       "    <tr>\n",
       "      <th>6</th>\n",
       "      <td>b</td>\n",
       "      <td>6.0</td>\n",
       "      <td>NaN</td>\n",
       "      <td>NaN</td>\n",
       "    </tr>\n",
       "    <tr>\n",
       "      <th>0</th>\n",
       "      <td>NaN</td>\n",
       "      <td>NaN</td>\n",
       "      <td>a</td>\n",
       "      <td>0.0</td>\n",
       "    </tr>\n",
       "    <tr>\n",
       "      <th>1</th>\n",
       "      <td>NaN</td>\n",
       "      <td>NaN</td>\n",
       "      <td>b</td>\n",
       "      <td>1.0</td>\n",
       "    </tr>\n",
       "    <tr>\n",
       "      <th>2</th>\n",
       "      <td>NaN</td>\n",
       "      <td>NaN</td>\n",
       "      <td>d</td>\n",
       "      <td>2.0</td>\n",
       "    </tr>\n",
       "    <tr>\n",
       "      <th>3</th>\n",
       "      <td>NaN</td>\n",
       "      <td>NaN</td>\n",
       "      <td>b</td>\n",
       "      <td>3.0</td>\n",
       "    </tr>\n",
       "  </tbody>\n",
       "</table>\n",
       "</div>"
      ],
      "text/plain": [
       "  key1  data1 key2  data2\n",
       "0    b    0.0  NaN    NaN\n",
       "1    b    1.0  NaN    NaN\n",
       "2    a    2.0  NaN    NaN\n",
       "3    c    3.0  NaN    NaN\n",
       "4    a    4.0  NaN    NaN\n",
       "5    a    5.0  NaN    NaN\n",
       "6    b    6.0  NaN    NaN\n",
       "0  NaN    NaN    a    0.0\n",
       "1  NaN    NaN    b    1.0\n",
       "2  NaN    NaN    d    2.0\n",
       "3  NaN    NaN    b    3.0"
      ]
     },
     "execution_count": 54,
     "metadata": {},
     "output_type": "execute_result"
    }
   ],
   "source": [
    "pd.concat([df1,df2])"
   ]
  },
  {
   "cell_type": "code",
   "execution_count": 55,
   "id": "1d8fb4f4",
   "metadata": {},
   "outputs": [
    {
     "data": {
      "text/html": [
       "<div>\n",
       "<style scoped>\n",
       "    .dataframe tbody tr th:only-of-type {\n",
       "        vertical-align: middle;\n",
       "    }\n",
       "\n",
       "    .dataframe tbody tr th {\n",
       "        vertical-align: top;\n",
       "    }\n",
       "\n",
       "    .dataframe thead th {\n",
       "        text-align: right;\n",
       "    }\n",
       "</style>\n",
       "<table border=\"1\" class=\"dataframe\">\n",
       "  <thead>\n",
       "    <tr style=\"text-align: right;\">\n",
       "      <th></th>\n",
       "      <th>key1</th>\n",
       "      <th>data1</th>\n",
       "      <th>key2</th>\n",
       "      <th>data2</th>\n",
       "    </tr>\n",
       "  </thead>\n",
       "  <tbody>\n",
       "    <tr>\n",
       "      <th>0</th>\n",
       "      <td>b</td>\n",
       "      <td>0</td>\n",
       "      <td>a</td>\n",
       "      <td>0.0</td>\n",
       "    </tr>\n",
       "    <tr>\n",
       "      <th>1</th>\n",
       "      <td>b</td>\n",
       "      <td>1</td>\n",
       "      <td>b</td>\n",
       "      <td>1.0</td>\n",
       "    </tr>\n",
       "    <tr>\n",
       "      <th>2</th>\n",
       "      <td>a</td>\n",
       "      <td>2</td>\n",
       "      <td>d</td>\n",
       "      <td>2.0</td>\n",
       "    </tr>\n",
       "    <tr>\n",
       "      <th>3</th>\n",
       "      <td>c</td>\n",
       "      <td>3</td>\n",
       "      <td>b</td>\n",
       "      <td>3.0</td>\n",
       "    </tr>\n",
       "    <tr>\n",
       "      <th>4</th>\n",
       "      <td>a</td>\n",
       "      <td>4</td>\n",
       "      <td>NaN</td>\n",
       "      <td>NaN</td>\n",
       "    </tr>\n",
       "    <tr>\n",
       "      <th>5</th>\n",
       "      <td>a</td>\n",
       "      <td>5</td>\n",
       "      <td>NaN</td>\n",
       "      <td>NaN</td>\n",
       "    </tr>\n",
       "    <tr>\n",
       "      <th>6</th>\n",
       "      <td>b</td>\n",
       "      <td>6</td>\n",
       "      <td>NaN</td>\n",
       "      <td>NaN</td>\n",
       "    </tr>\n",
       "  </tbody>\n",
       "</table>\n",
       "</div>"
      ],
      "text/plain": [
       "  key1  data1 key2  data2\n",
       "0    b      0    a    0.0\n",
       "1    b      1    b    1.0\n",
       "2    a      2    d    2.0\n",
       "3    c      3    b    3.0\n",
       "4    a      4  NaN    NaN\n",
       "5    a      5  NaN    NaN\n",
       "6    b      6  NaN    NaN"
      ]
     },
     "execution_count": 55,
     "metadata": {},
     "output_type": "execute_result"
    }
   ],
   "source": [
    "pd.concat([df1,df2], axis=1)"
   ]
  },
  {
   "cell_type": "markdown",
   "id": "1cf1c45f",
   "metadata": {},
   "source": [
    "### 값을 변경"
   ]
  },
  {
   "cell_type": "code",
   "execution_count": 56,
   "id": "e59bc00c",
   "metadata": {},
   "outputs": [
    {
     "data": {
      "text/html": [
       "<div>\n",
       "<style scoped>\n",
       "    .dataframe tbody tr th:only-of-type {\n",
       "        vertical-align: middle;\n",
       "    }\n",
       "\n",
       "    .dataframe tbody tr th {\n",
       "        vertical-align: top;\n",
       "    }\n",
       "\n",
       "    .dataframe thead th {\n",
       "        text-align: right;\n",
       "    }\n",
       "</style>\n",
       "<table border=\"1\" class=\"dataframe\">\n",
       "  <thead>\n",
       "    <tr style=\"text-align: right;\">\n",
       "      <th></th>\n",
       "      <th>key1</th>\n",
       "      <th>data1</th>\n",
       "    </tr>\n",
       "  </thead>\n",
       "  <tbody>\n",
       "    <tr>\n",
       "      <th>0</th>\n",
       "      <td>b</td>\n",
       "      <td>0</td>\n",
       "    </tr>\n",
       "    <tr>\n",
       "      <th>1</th>\n",
       "      <td>b</td>\n",
       "      <td>1</td>\n",
       "    </tr>\n",
       "    <tr>\n",
       "      <th>2</th>\n",
       "      <td>a</td>\n",
       "      <td>2</td>\n",
       "    </tr>\n",
       "    <tr>\n",
       "      <th>3</th>\n",
       "      <td>c</td>\n",
       "      <td>3</td>\n",
       "    </tr>\n",
       "    <tr>\n",
       "      <th>4</th>\n",
       "      <td>a</td>\n",
       "      <td>4</td>\n",
       "    </tr>\n",
       "    <tr>\n",
       "      <th>5</th>\n",
       "      <td>a</td>\n",
       "      <td>5</td>\n",
       "    </tr>\n",
       "    <tr>\n",
       "      <th>6</th>\n",
       "      <td>b</td>\n",
       "      <td>6</td>\n",
       "    </tr>\n",
       "  </tbody>\n",
       "</table>\n",
       "</div>"
      ],
      "text/plain": [
       "  key1  data1\n",
       "0    b      0\n",
       "1    b      1\n",
       "2    a      2\n",
       "3    c      3\n",
       "4    a      4\n",
       "5    a      5\n",
       "6    b      6"
      ]
     },
     "execution_count": 56,
     "metadata": {},
     "output_type": "execute_result"
    }
   ],
   "source": [
    "df1"
   ]
  },
  {
   "cell_type": "code",
   "execution_count": 57,
   "id": "aef1fbc7",
   "metadata": {},
   "outputs": [],
   "source": [
    "df = df1.copy()"
   ]
  },
  {
   "cell_type": "code",
   "execution_count": 58,
   "id": "f1337948",
   "metadata": {},
   "outputs": [
    {
     "data": {
      "text/plain": [
       "'a'"
      ]
     },
     "execution_count": 58,
     "metadata": {},
     "output_type": "execute_result"
    }
   ],
   "source": [
    "df['key1'][2]"
   ]
  },
  {
   "cell_type": "code",
   "execution_count": 61,
   "id": "cf9b6ef7",
   "metadata": {},
   "outputs": [
    {
     "name": "stderr",
     "output_type": "stream",
     "text": [
      "/Users/simsanghyeog/opt/anaconda3/envs/vrconda/lib/python3.7/site-packages/ipykernel_launcher.py:1: SettingWithCopyWarning: \n",
      "A value is trying to be set on a copy of a slice from a DataFrame\n",
      "\n",
      "See the caveats in the documentation: https://pandas.pydata.org/pandas-docs/stable/user_guide/indexing.html#returning-a-view-versus-a-copy\n",
      "  \"\"\"Entry point for launching an IPython kernel.\n"
     ]
    }
   ],
   "source": [
    "df['key1'][2] = '에이'"
   ]
  },
  {
   "cell_type": "code",
   "execution_count": 62,
   "id": "6f9329c8",
   "metadata": {},
   "outputs": [
    {
     "data": {
      "text/html": [
       "<div>\n",
       "<style scoped>\n",
       "    .dataframe tbody tr th:only-of-type {\n",
       "        vertical-align: middle;\n",
       "    }\n",
       "\n",
       "    .dataframe tbody tr th {\n",
       "        vertical-align: top;\n",
       "    }\n",
       "\n",
       "    .dataframe thead th {\n",
       "        text-align: right;\n",
       "    }\n",
       "</style>\n",
       "<table border=\"1\" class=\"dataframe\">\n",
       "  <thead>\n",
       "    <tr style=\"text-align: right;\">\n",
       "      <th></th>\n",
       "      <th>key1</th>\n",
       "      <th>data1</th>\n",
       "    </tr>\n",
       "  </thead>\n",
       "  <tbody>\n",
       "    <tr>\n",
       "      <th>0</th>\n",
       "      <td>b</td>\n",
       "      <td>0</td>\n",
       "    </tr>\n",
       "    <tr>\n",
       "      <th>1</th>\n",
       "      <td>b</td>\n",
       "      <td>1</td>\n",
       "    </tr>\n",
       "    <tr>\n",
       "      <th>2</th>\n",
       "      <td>에이</td>\n",
       "      <td>2</td>\n",
       "    </tr>\n",
       "    <tr>\n",
       "      <th>3</th>\n",
       "      <td>c</td>\n",
       "      <td>3</td>\n",
       "    </tr>\n",
       "    <tr>\n",
       "      <th>4</th>\n",
       "      <td>a</td>\n",
       "      <td>4</td>\n",
       "    </tr>\n",
       "    <tr>\n",
       "      <th>5</th>\n",
       "      <td>a</td>\n",
       "      <td>5</td>\n",
       "    </tr>\n",
       "    <tr>\n",
       "      <th>6</th>\n",
       "      <td>b</td>\n",
       "      <td>6</td>\n",
       "    </tr>\n",
       "  </tbody>\n",
       "</table>\n",
       "</div>"
      ],
      "text/plain": [
       "  key1  data1\n",
       "0    b      0\n",
       "1    b      1\n",
       "2   에이      2\n",
       "3    c      3\n",
       "4    a      4\n",
       "5    a      5\n",
       "6    b      6"
      ]
     },
     "execution_count": 62,
     "metadata": {},
     "output_type": "execute_result"
    }
   ],
   "source": [
    "df"
   ]
  },
  {
   "cell_type": "code",
   "execution_count": 63,
   "id": "4b8594ec",
   "metadata": {},
   "outputs": [
    {
     "data": {
      "text/html": [
       "<div>\n",
       "<style scoped>\n",
       "    .dataframe tbody tr th:only-of-type {\n",
       "        vertical-align: middle;\n",
       "    }\n",
       "\n",
       "    .dataframe tbody tr th {\n",
       "        vertical-align: top;\n",
       "    }\n",
       "\n",
       "    .dataframe thead th {\n",
       "        text-align: right;\n",
       "    }\n",
       "</style>\n",
       "<table border=\"1\" class=\"dataframe\">\n",
       "  <thead>\n",
       "    <tr style=\"text-align: right;\">\n",
       "      <th></th>\n",
       "      <th>key1</th>\n",
       "      <th>data1</th>\n",
       "    </tr>\n",
       "  </thead>\n",
       "  <tbody>\n",
       "    <tr>\n",
       "      <th>0</th>\n",
       "      <td>비</td>\n",
       "      <td>0</td>\n",
       "    </tr>\n",
       "    <tr>\n",
       "      <th>1</th>\n",
       "      <td>비</td>\n",
       "      <td>1</td>\n",
       "    </tr>\n",
       "    <tr>\n",
       "      <th>2</th>\n",
       "      <td>에이</td>\n",
       "      <td>2</td>\n",
       "    </tr>\n",
       "    <tr>\n",
       "      <th>3</th>\n",
       "      <td>c</td>\n",
       "      <td>3</td>\n",
       "    </tr>\n",
       "    <tr>\n",
       "      <th>4</th>\n",
       "      <td>a</td>\n",
       "      <td>4</td>\n",
       "    </tr>\n",
       "    <tr>\n",
       "      <th>5</th>\n",
       "      <td>a</td>\n",
       "      <td>5</td>\n",
       "    </tr>\n",
       "    <tr>\n",
       "      <th>6</th>\n",
       "      <td>비</td>\n",
       "      <td>6</td>\n",
       "    </tr>\n",
       "  </tbody>\n",
       "</table>\n",
       "</div>"
      ],
      "text/plain": [
       "  key1  data1\n",
       "0    비      0\n",
       "1    비      1\n",
       "2   에이      2\n",
       "3    c      3\n",
       "4    a      4\n",
       "5    a      5\n",
       "6    비      6"
      ]
     },
     "execution_count": 63,
     "metadata": {},
     "output_type": "execute_result"
    }
   ],
   "source": [
    "df.replace('b','비')"
   ]
  },
  {
   "cell_type": "markdown",
   "id": "fd230267",
   "metadata": {},
   "source": [
    "### 시계열 ( time series)"
   ]
  },
  {
   "cell_type": "code",
   "execution_count": 64,
   "id": "904ab266",
   "metadata": {},
   "outputs": [
    {
     "data": {
      "text/plain": [
       "DatetimeIndex(['2022-08-02', '2022-08-03', '2022-08-04', '2022-08-05',\n",
       "               '2022-08-06', '2022-08-07', '2022-08-08', '2022-08-09',\n",
       "               '2022-08-10', '2022-08-11'],\n",
       "              dtype='datetime64[ns]', freq='D')"
      ]
     },
     "execution_count": 64,
     "metadata": {},
     "output_type": "execute_result"
    }
   ],
   "source": [
    "rng= pd.date_range('2022-08-02 00:00', periods=10)\n",
    "rng"
   ]
  },
  {
   "cell_type": "code",
   "execution_count": 65,
   "id": "6b3c8634",
   "metadata": {},
   "outputs": [
    {
     "data": {
      "text/plain": [
       "DatetimeIndex(['2022-08-02', '2022-08-03', '2022-08-04', '2022-08-05',\n",
       "               '2022-08-08', '2022-08-09', '2022-08-10', '2022-08-11',\n",
       "               '2022-08-12', '2022-08-15'],\n",
       "              dtype='datetime64[ns]', freq='B')"
      ]
     },
     "execution_count": 65,
     "metadata": {},
     "output_type": "execute_result"
    }
   ],
   "source": [
    "rng= pd.date_range('2022-08-02 00:00', periods=10, freq='B')\n",
    "rng"
   ]
  },
  {
   "cell_type": "code",
   "execution_count": 66,
   "id": "335a6862",
   "metadata": {},
   "outputs": [
    {
     "data": {
      "text/plain": [
       "DatetimeIndex(['2022-08-31', '2022-09-30', '2022-10-31', '2022-11-30',\n",
       "               '2022-12-31', '2023-01-31', '2023-02-28', '2023-03-31',\n",
       "               '2023-04-30', '2023-05-31'],\n",
       "              dtype='datetime64[ns]', freq='M')"
      ]
     },
     "execution_count": 66,
     "metadata": {},
     "output_type": "execute_result"
    }
   ],
   "source": [
    "rng= pd.date_range('2022-08-02 00:00', periods=10, freq='M')\n",
    "rng"
   ]
  },
  {
   "cell_type": "code",
   "execution_count": 67,
   "id": "fc028888",
   "metadata": {},
   "outputs": [
    {
     "data": {
      "text/plain": [
       "DatetimeIndex(['2022-09-01', '2022-10-01', '2022-11-01', '2022-12-01',\n",
       "               '2023-01-01', '2023-02-01', '2023-03-01', '2023-04-01',\n",
       "               '2023-05-01', '2023-06-01'],\n",
       "              dtype='datetime64[ns]', freq='MS')"
      ]
     },
     "execution_count": 67,
     "metadata": {},
     "output_type": "execute_result"
    }
   ],
   "source": [
    "rng= pd.date_range('2022-08-02 00:00', periods=10, freq='MS')\n",
    "rng"
   ]
  },
  {
   "cell_type": "code",
   "execution_count": 68,
   "id": "0d29f6c6",
   "metadata": {},
   "outputs": [
    {
     "data": {
      "text/plain": [
       "DatetimeIndex(['2022-08-02 00:00:00', '2022-08-02 00:00:01',\n",
       "               '2022-08-02 00:00:02', '2022-08-02 00:00:03',\n",
       "               '2022-08-02 00:00:04', '2022-08-02 00:00:05',\n",
       "               '2022-08-02 00:00:06', '2022-08-02 00:00:07',\n",
       "               '2022-08-02 00:00:08', '2022-08-02 00:00:09'],\n",
       "              dtype='datetime64[ns]', freq='S')"
      ]
     },
     "execution_count": 68,
     "metadata": {},
     "output_type": "execute_result"
    }
   ],
   "source": [
    "rng= pd.date_range('2022-08-02 00:00', periods=10, freq='S')\n",
    "rng"
   ]
  },
  {
   "cell_type": "code",
   "execution_count": 70,
   "id": "21a2496b",
   "metadata": {},
   "outputs": [
    {
     "data": {
      "text/plain": [
       "DatetimeIndex(['2022-08-02 00:00:00+09:00', '2022-08-02 00:00:05+09:00',\n",
       "               '2022-08-02 00:00:10+09:00', '2022-08-02 00:00:15+09:00',\n",
       "               '2022-08-02 00:00:20+09:00', '2022-08-02 00:00:25+09:00',\n",
       "               '2022-08-02 00:00:30+09:00', '2022-08-02 00:00:35+09:00',\n",
       "               '2022-08-02 00:00:40+09:00', '2022-08-02 00:00:45+09:00'],\n",
       "              dtype='datetime64[ns, Asia/Seoul]', freq='5S')"
      ]
     },
     "execution_count": 70,
     "metadata": {},
     "output_type": "execute_result"
    }
   ],
   "source": [
    "rng= pd.date_range('2022-08-02 00:00', periods=10, freq='5S', tz='Asia/Seoul')  #타임존\n",
    "rng"
   ]
  },
  {
   "cell_type": "code",
   "execution_count": 72,
   "id": "920c5232",
   "metadata": {},
   "outputs": [
    {
     "data": {
      "text/plain": [
       "DatetimeIndex(['2022-08-02 01:00:00+10:00', '2022-08-02 01:00:05+10:00',\n",
       "               '2022-08-02 01:00:10+10:00', '2022-08-02 01:00:15+10:00',\n",
       "               '2022-08-02 01:00:20+10:00', '2022-08-02 01:00:25+10:00',\n",
       "               '2022-08-02 01:00:30+10:00', '2022-08-02 01:00:35+10:00',\n",
       "               '2022-08-02 01:00:40+10:00', '2022-08-02 01:00:45+10:00'],\n",
       "              dtype='datetime64[ns, Australia/Sydney]', freq='5S')"
      ]
     },
     "execution_count": 72,
     "metadata": {},
     "output_type": "execute_result"
    }
   ],
   "source": [
    "rng.tz_convert('Australia/Sydney')   #타임존 변경"
   ]
  },
  {
   "cell_type": "markdown",
   "id": "1b18967a",
   "metadata": {},
   "source": [
    "### 문자열->날짜타입으로 변경"
   ]
  },
  {
   "cell_type": "code",
   "execution_count": 73,
   "id": "44ce4aad",
   "metadata": {},
   "outputs": [],
   "source": [
    "date_data = ['07/07/2022','08/18/1998','12/04/2020']"
   ]
  },
  {
   "cell_type": "code",
   "execution_count": 75,
   "id": "8ecaeee7",
   "metadata": {},
   "outputs": [
    {
     "data": {
      "text/plain": [
       "DatetimeIndex(['2022-07-07', '1998-08-18', '2020-12-04'], dtype='datetime64[ns]', freq=None)"
      ]
     },
     "execution_count": 75,
     "metadata": {},
     "output_type": "execute_result"
    }
   ],
   "source": [
    "pd.to_datetime(date_data)"
   ]
  },
  {
   "cell_type": "code",
   "execution_count": 77,
   "id": "67567fff",
   "metadata": {},
   "outputs": [
    {
     "data": {
      "text/plain": [
       "DatetimeIndex(['2022-07-07', '1998-08-12', '2020-12-04'], dtype='datetime64[ns]', freq=None)"
      ]
     },
     "execution_count": 77,
     "metadata": {},
     "output_type": "execute_result"
    }
   ],
   "source": [
    "#미국식 mm/dd/yyyy  Mar.5,2020\n",
    "date_data = ['07/07/2022','08/12/1998','12/04/2020']\n",
    "pd.to_datetime(date_data)"
   ]
  },
  {
   "cell_type": "code",
   "execution_count": 78,
   "id": "651162f7",
   "metadata": {},
   "outputs": [
    {
     "data": {
      "text/plain": [
       "DatetimeIndex(['2022-07-07', '1998-12-08', '2020-04-12'], dtype='datetime64[ns]', freq=None)"
      ]
     },
     "execution_count": 78,
     "metadata": {},
     "output_type": "execute_result"
    }
   ],
   "source": [
    "#유럽식 dd/mm/yyyy\n",
    "pd.to_datetime(date_data, dayfirst=True)"
   ]
  },
  {
   "cell_type": "code",
   "execution_count": 79,
   "id": "2b0b3de8",
   "metadata": {},
   "outputs": [],
   "source": [
    "dates = pd.date_range('2021-01-01','2021-07-15', freq='M')"
   ]
  },
  {
   "cell_type": "code",
   "execution_count": 80,
   "id": "078fdc73",
   "metadata": {},
   "outputs": [
    {
     "data": {
      "text/plain": [
       "DatetimeIndex(['2021-01-31', '2021-02-28', '2021-03-31', '2021-04-30',\n",
       "               '2021-05-31', '2021-06-30'],\n",
       "              dtype='datetime64[ns]', freq='M')"
      ]
     },
     "execution_count": 80,
     "metadata": {},
     "output_type": "execute_result"
    }
   ],
   "source": [
    "dates"
   ]
  },
  {
   "cell_type": "code",
   "execution_count": 81,
   "id": "f8a74b90",
   "metadata": {},
   "outputs": [],
   "source": [
    "atemp = pd.Series([12.3,13.3,9.2,4.5,6.2,0.9], index=dates)"
   ]
  },
  {
   "cell_type": "code",
   "execution_count": 82,
   "id": "f9420ea2",
   "metadata": {},
   "outputs": [
    {
     "data": {
      "text/plain": [
       "2021-01-31    12.3\n",
       "2021-02-28    13.3\n",
       "2021-03-31     9.2\n",
       "2021-04-30     4.5\n",
       "2021-05-31     6.2\n",
       "2021-06-30     0.9\n",
       "Freq: M, dtype: float64"
      ]
     },
     "execution_count": 82,
     "metadata": {},
     "output_type": "execute_result"
    }
   ],
   "source": [
    "atemp"
   ]
  },
  {
   "cell_type": "code",
   "execution_count": 83,
   "id": "3abd2f7f",
   "metadata": {},
   "outputs": [],
   "source": [
    "stemp = pd.Series([10.3,12.3,19.2,14.5,8.2,2.9], index=dates)"
   ]
  },
  {
   "cell_type": "code",
   "execution_count": 85,
   "id": "e1e1ea2e",
   "metadata": {},
   "outputs": [],
   "source": [
    "df=pd.DataFrame({'대구':atemp, '경산':stemp})"
   ]
  },
  {
   "cell_type": "code",
   "execution_count": 86,
   "id": "24a3034d",
   "metadata": {},
   "outputs": [
    {
     "data": {
      "text/html": [
       "<div>\n",
       "<style scoped>\n",
       "    .dataframe tbody tr th:only-of-type {\n",
       "        vertical-align: middle;\n",
       "    }\n",
       "\n",
       "    .dataframe tbody tr th {\n",
       "        vertical-align: top;\n",
       "    }\n",
       "\n",
       "    .dataframe thead th {\n",
       "        text-align: right;\n",
       "    }\n",
       "</style>\n",
       "<table border=\"1\" class=\"dataframe\">\n",
       "  <thead>\n",
       "    <tr style=\"text-align: right;\">\n",
       "      <th></th>\n",
       "      <th>대구</th>\n",
       "      <th>경산</th>\n",
       "    </tr>\n",
       "  </thead>\n",
       "  <tbody>\n",
       "    <tr>\n",
       "      <th>2021-01-31</th>\n",
       "      <td>12.3</td>\n",
       "      <td>10.3</td>\n",
       "    </tr>\n",
       "    <tr>\n",
       "      <th>2021-02-28</th>\n",
       "      <td>13.3</td>\n",
       "      <td>12.3</td>\n",
       "    </tr>\n",
       "    <tr>\n",
       "      <th>2021-03-31</th>\n",
       "      <td>9.2</td>\n",
       "      <td>19.2</td>\n",
       "    </tr>\n",
       "    <tr>\n",
       "      <th>2021-04-30</th>\n",
       "      <td>4.5</td>\n",
       "      <td>14.5</td>\n",
       "    </tr>\n",
       "    <tr>\n",
       "      <th>2021-05-31</th>\n",
       "      <td>6.2</td>\n",
       "      <td>8.2</td>\n",
       "    </tr>\n",
       "    <tr>\n",
       "      <th>2021-06-30</th>\n",
       "      <td>0.9</td>\n",
       "      <td>2.9</td>\n",
       "    </tr>\n",
       "  </tbody>\n",
       "</table>\n",
       "</div>"
      ],
      "text/plain": [
       "              대구    경산\n",
       "2021-01-31  12.3  10.3\n",
       "2021-02-28  13.3  12.3\n",
       "2021-03-31   9.2  19.2\n",
       "2021-04-30   4.5  14.5\n",
       "2021-05-31   6.2   8.2\n",
       "2021-06-30   0.9   2.9"
      ]
     },
     "execution_count": 86,
     "metadata": {},
     "output_type": "execute_result"
    }
   ],
   "source": [
    "df"
   ]
  },
  {
   "cell_type": "code",
   "execution_count": 87,
   "id": "d9c4107a",
   "metadata": {},
   "outputs": [],
   "source": [
    "df['기온차'] = df['대구'] - df['경산']"
   ]
  },
  {
   "cell_type": "code",
   "execution_count": 88,
   "id": "a67fe9d1",
   "metadata": {},
   "outputs": [
    {
     "data": {
      "text/html": [
       "<div>\n",
       "<style scoped>\n",
       "    .dataframe tbody tr th:only-of-type {\n",
       "        vertical-align: middle;\n",
       "    }\n",
       "\n",
       "    .dataframe tbody tr th {\n",
       "        vertical-align: top;\n",
       "    }\n",
       "\n",
       "    .dataframe thead th {\n",
       "        text-align: right;\n",
       "    }\n",
       "</style>\n",
       "<table border=\"1\" class=\"dataframe\">\n",
       "  <thead>\n",
       "    <tr style=\"text-align: right;\">\n",
       "      <th></th>\n",
       "      <th>대구</th>\n",
       "      <th>경산</th>\n",
       "      <th>기온차</th>\n",
       "    </tr>\n",
       "  </thead>\n",
       "  <tbody>\n",
       "    <tr>\n",
       "      <th>2021-01-31</th>\n",
       "      <td>12.3</td>\n",
       "      <td>10.3</td>\n",
       "      <td>2.0</td>\n",
       "    </tr>\n",
       "    <tr>\n",
       "      <th>2021-02-28</th>\n",
       "      <td>13.3</td>\n",
       "      <td>12.3</td>\n",
       "      <td>1.0</td>\n",
       "    </tr>\n",
       "    <tr>\n",
       "      <th>2021-03-31</th>\n",
       "      <td>9.2</td>\n",
       "      <td>19.2</td>\n",
       "      <td>-10.0</td>\n",
       "    </tr>\n",
       "    <tr>\n",
       "      <th>2021-04-30</th>\n",
       "      <td>4.5</td>\n",
       "      <td>14.5</td>\n",
       "      <td>-10.0</td>\n",
       "    </tr>\n",
       "    <tr>\n",
       "      <th>2021-05-31</th>\n",
       "      <td>6.2</td>\n",
       "      <td>8.2</td>\n",
       "      <td>-2.0</td>\n",
       "    </tr>\n",
       "    <tr>\n",
       "      <th>2021-06-30</th>\n",
       "      <td>0.9</td>\n",
       "      <td>2.9</td>\n",
       "      <td>-2.0</td>\n",
       "    </tr>\n",
       "  </tbody>\n",
       "</table>\n",
       "</div>"
      ],
      "text/plain": [
       "              대구    경산   기온차\n",
       "2021-01-31  12.3  10.3   2.0\n",
       "2021-02-28  13.3  12.3   1.0\n",
       "2021-03-31   9.2  19.2 -10.0\n",
       "2021-04-30   4.5  14.5 -10.0\n",
       "2021-05-31   6.2   8.2  -2.0\n",
       "2021-06-30   0.9   2.9  -2.0"
      ]
     },
     "execution_count": 88,
     "metadata": {},
     "output_type": "execute_result"
    }
   ],
   "source": [
    "df"
   ]
  },
  {
   "cell_type": "code",
   "execution_count": 89,
   "id": "a71f865c",
   "metadata": {},
   "outputs": [
    {
     "data": {
      "text/plain": [
       "대구     13.3\n",
       "경산     12.3\n",
       "기온차     1.0\n",
       "Name: 2021-02-28 00:00:00, dtype: float64"
      ]
     },
     "execution_count": 89,
     "metadata": {},
     "output_type": "execute_result"
    }
   ],
   "source": [
    "df.loc['2021-02-28']"
   ]
  },
  {
   "cell_type": "code",
   "execution_count": 90,
   "id": "ce6b6e99",
   "metadata": {},
   "outputs": [
    {
     "data": {
      "text/plain": [
       "대구     13.3\n",
       "경산     12.3\n",
       "기온차     1.0\n",
       "Name: 2021-02-28 00:00:00, dtype: float64"
      ]
     },
     "execution_count": 90,
     "metadata": {},
     "output_type": "execute_result"
    }
   ],
   "source": [
    "df.loc['28/02/2021']"
   ]
  },
  {
   "cell_type": "code",
   "execution_count": 91,
   "id": "a657d95d",
   "metadata": {},
   "outputs": [
    {
     "data": {
      "text/html": [
       "<div>\n",
       "<style scoped>\n",
       "    .dataframe tbody tr th:only-of-type {\n",
       "        vertical-align: middle;\n",
       "    }\n",
       "\n",
       "    .dataframe tbody tr th {\n",
       "        vertical-align: top;\n",
       "    }\n",
       "\n",
       "    .dataframe thead th {\n",
       "        text-align: right;\n",
       "    }\n",
       "</style>\n",
       "<table border=\"1\" class=\"dataframe\">\n",
       "  <thead>\n",
       "    <tr style=\"text-align: right;\">\n",
       "      <th></th>\n",
       "      <th>대구</th>\n",
       "      <th>경산</th>\n",
       "      <th>기온차</th>\n",
       "    </tr>\n",
       "  </thead>\n",
       "  <tbody>\n",
       "    <tr>\n",
       "      <th>2021-02-28</th>\n",
       "      <td>13.3</td>\n",
       "      <td>12.3</td>\n",
       "      <td>1.0</td>\n",
       "    </tr>\n",
       "  </tbody>\n",
       "</table>\n",
       "</div>"
      ],
      "text/plain": [
       "              대구    경산  기온차\n",
       "2021-02-28  13.3  12.3  1.0"
      ]
     },
     "execution_count": 91,
     "metadata": {},
     "output_type": "execute_result"
    }
   ],
   "source": [
    "df.loc['02/2021']"
   ]
  },
  {
   "cell_type": "code",
   "execution_count": 92,
   "id": "719ea49e",
   "metadata": {},
   "outputs": [
    {
     "data": {
      "text/html": [
       "<div>\n",
       "<style scoped>\n",
       "    .dataframe tbody tr th:only-of-type {\n",
       "        vertical-align: middle;\n",
       "    }\n",
       "\n",
       "    .dataframe tbody tr th {\n",
       "        vertical-align: top;\n",
       "    }\n",
       "\n",
       "    .dataframe thead th {\n",
       "        text-align: right;\n",
       "    }\n",
       "</style>\n",
       "<table border=\"1\" class=\"dataframe\">\n",
       "  <thead>\n",
       "    <tr style=\"text-align: right;\">\n",
       "      <th></th>\n",
       "      <th>대구</th>\n",
       "      <th>경산</th>\n",
       "      <th>기온차</th>\n",
       "    </tr>\n",
       "  </thead>\n",
       "  <tbody>\n",
       "    <tr>\n",
       "      <th>2021-03-31</th>\n",
       "      <td>9.2</td>\n",
       "      <td>19.2</td>\n",
       "      <td>-10.0</td>\n",
       "    </tr>\n",
       "  </tbody>\n",
       "</table>\n",
       "</div>"
      ],
      "text/plain": [
       "             대구    경산   기온차\n",
       "2021-03-31  9.2  19.2 -10.0"
      ]
     },
     "execution_count": 92,
     "metadata": {},
     "output_type": "execute_result"
    }
   ],
   "source": [
    "df.loc['2021 Mar.']"
   ]
  },
  {
   "cell_type": "code",
   "execution_count": 93,
   "id": "6505dc8a",
   "metadata": {},
   "outputs": [],
   "source": [
    "### 기상청 데이터 : 각 여녿별 최고, 최저"
   ]
  },
  {
   "cell_type": "code",
   "execution_count": 94,
   "id": "4f8e9c87",
   "metadata": {},
   "outputs": [
    {
     "data": {
      "text/html": [
       "<div>\n",
       "<style scoped>\n",
       "    .dataframe tbody tr th:only-of-type {\n",
       "        vertical-align: middle;\n",
       "    }\n",
       "\n",
       "    .dataframe tbody tr th {\n",
       "        vertical-align: top;\n",
       "    }\n",
       "\n",
       "    .dataframe thead th {\n",
       "        text-align: right;\n",
       "    }\n",
       "</style>\n",
       "<table border=\"1\" class=\"dataframe\">\n",
       "  <thead>\n",
       "    <tr style=\"text-align: right;\">\n",
       "      <th></th>\n",
       "      <th>날짜</th>\n",
       "      <th>지점</th>\n",
       "      <th>평균기온(℃)</th>\n",
       "      <th>최저기온(℃)</th>\n",
       "      <th>최고기온(℃)</th>\n",
       "    </tr>\n",
       "  </thead>\n",
       "  <tbody>\n",
       "    <tr>\n",
       "      <th>0</th>\n",
       "      <td>2017-01-01</td>\n",
       "      <td>143</td>\n",
       "      <td>3.4</td>\n",
       "      <td>-2.0</td>\n",
       "      <td>10.0</td>\n",
       "    </tr>\n",
       "    <tr>\n",
       "      <th>1</th>\n",
       "      <td>2017-01-02</td>\n",
       "      <td>143</td>\n",
       "      <td>5.3</td>\n",
       "      <td>-0.4</td>\n",
       "      <td>12.3</td>\n",
       "    </tr>\n",
       "    <tr>\n",
       "      <th>2</th>\n",
       "      <td>2017-01-03</td>\n",
       "      <td>143</td>\n",
       "      <td>5.2</td>\n",
       "      <td>0.9</td>\n",
       "      <td>10.9</td>\n",
       "    </tr>\n",
       "    <tr>\n",
       "      <th>3</th>\n",
       "      <td>2017-01-04</td>\n",
       "      <td>143</td>\n",
       "      <td>3.9</td>\n",
       "      <td>-1.9</td>\n",
       "      <td>11.2</td>\n",
       "    </tr>\n",
       "    <tr>\n",
       "      <th>4</th>\n",
       "      <td>2017-01-05</td>\n",
       "      <td>143</td>\n",
       "      <td>3.4</td>\n",
       "      <td>-1.6</td>\n",
       "      <td>7.6</td>\n",
       "    </tr>\n",
       "    <tr>\n",
       "      <th>...</th>\n",
       "      <td>...</td>\n",
       "      <td>...</td>\n",
       "      <td>...</td>\n",
       "      <td>...</td>\n",
       "      <td>...</td>\n",
       "    </tr>\n",
       "    <tr>\n",
       "      <th>2034</th>\n",
       "      <td>2022-07-28</td>\n",
       "      <td>143</td>\n",
       "      <td>26.2</td>\n",
       "      <td>24.2</td>\n",
       "      <td>29.6</td>\n",
       "    </tr>\n",
       "    <tr>\n",
       "      <th>2035</th>\n",
       "      <td>2022-07-29</td>\n",
       "      <td>143</td>\n",
       "      <td>28.7</td>\n",
       "      <td>24.5</td>\n",
       "      <td>33.9</td>\n",
       "    </tr>\n",
       "    <tr>\n",
       "      <th>2036</th>\n",
       "      <td>2022-07-30</td>\n",
       "      <td>143</td>\n",
       "      <td>27.8</td>\n",
       "      <td>25.9</td>\n",
       "      <td>30.3</td>\n",
       "    </tr>\n",
       "    <tr>\n",
       "      <th>2037</th>\n",
       "      <td>2022-07-31</td>\n",
       "      <td>143</td>\n",
       "      <td>27.1</td>\n",
       "      <td>25.3</td>\n",
       "      <td>29.5</td>\n",
       "    </tr>\n",
       "    <tr>\n",
       "      <th>2038</th>\n",
       "      <td>2022-08-01</td>\n",
       "      <td>143</td>\n",
       "      <td>29.4</td>\n",
       "      <td>26.8</td>\n",
       "      <td>31.2</td>\n",
       "    </tr>\n",
       "  </tbody>\n",
       "</table>\n",
       "<p>2039 rows × 5 columns</p>\n",
       "</div>"
      ],
      "text/plain": [
       "              날짜   지점  평균기온(℃)  최저기온(℃)  최고기온(℃)\n",
       "0     2017-01-01  143      3.4     -2.0     10.0\n",
       "1     2017-01-02  143      5.3     -0.4     12.3\n",
       "2     2017-01-03  143      5.2      0.9     10.9\n",
       "3     2017-01-04  143      3.9     -1.9     11.2\n",
       "4     2017-01-05  143      3.4     -1.6      7.6\n",
       "...          ...  ...      ...      ...      ...\n",
       "2034  2022-07-28  143     26.2     24.2     29.6\n",
       "2035  2022-07-29  143     28.7     24.5     33.9\n",
       "2036  2022-07-30  143     27.8     25.9     30.3\n",
       "2037  2022-07-31  143     27.1     25.3     29.5\n",
       "2038  2022-08-01  143     29.4     26.8     31.2\n",
       "\n",
       "[2039 rows x 5 columns]"
      ]
     },
     "execution_count": 94,
     "metadata": {},
     "output_type": "execute_result"
    }
   ],
   "source": [
    "dg_temp"
   ]
  },
  {
   "cell_type": "code",
   "execution_count": 97,
   "id": "ce44bb1f",
   "metadata": {},
   "outputs": [],
   "source": [
    "dg_temp = pd.read_csv('daegu20220802.csv',skiprows=7, encoding = 'ms949',\n",
    "    index_col = '날짜', parse_dates=['날짜'])"
   ]
  },
  {
   "cell_type": "code",
   "execution_count": 98,
   "id": "ed2bf094",
   "metadata": {},
   "outputs": [
    {
     "name": "stdout",
     "output_type": "stream",
     "text": [
      "<class 'pandas.core.frame.DataFrame'>\n",
      "DatetimeIndex: 2039 entries, 2017-01-01 to 2022-08-01\n",
      "Data columns (total 4 columns):\n",
      " #   Column   Non-Null Count  Dtype  \n",
      "---  ------   --------------  -----  \n",
      " 0   지점       2039 non-null   int64  \n",
      " 1   평균기온(℃)  2038 non-null   float64\n",
      " 2   최저기온(℃)  2039 non-null   float64\n",
      " 3   최고기온(℃)  2039 non-null   float64\n",
      "dtypes: float64(3), int64(1)\n",
      "memory usage: 79.6 KB\n"
     ]
    }
   ],
   "source": [
    "dg_temp.info()"
   ]
  },
  {
   "cell_type": "code",
   "execution_count": 99,
   "id": "ff19c206",
   "metadata": {},
   "outputs": [
    {
     "data": {
      "text/plain": [
       "날짜\n",
       "2017-01-01    143\n",
       "2017-01-02    143\n",
       "2017-01-03    143\n",
       "2017-01-04    143\n",
       "2017-01-05    143\n",
       "             ... \n",
       "2022-07-28    143\n",
       "2022-07-29    143\n",
       "2022-07-30    143\n",
       "2022-07-31    143\n",
       "2022-08-01    143\n",
       "Name: 지점, Length: 2039, dtype: int64"
      ]
     },
     "execution_count": 99,
     "metadata": {},
     "output_type": "execute_result"
    }
   ],
   "source": [
    "dg_temp['지점']"
   ]
  },
  {
   "cell_type": "code",
   "execution_count": 100,
   "id": "00bae611",
   "metadata": {},
   "outputs": [
    {
     "name": "stderr",
     "output_type": "stream",
     "text": [
      "/Users/simsanghyeog/opt/anaconda3/envs/vrconda/lib/python3.7/site-packages/ipykernel_launcher.py:1: FutureWarning: Indexing a DataFrame with a datetimelike index using a single string to slice the rows, like `frame[string]`, is deprecated and will be removed in a future version. Use `frame.loc[string]` instead.\n",
      "  \"\"\"Entry point for launching an IPython kernel.\n"
     ]
    },
    {
     "data": {
      "text/html": [
       "<div>\n",
       "<style scoped>\n",
       "    .dataframe tbody tr th:only-of-type {\n",
       "        vertical-align: middle;\n",
       "    }\n",
       "\n",
       "    .dataframe tbody tr th {\n",
       "        vertical-align: top;\n",
       "    }\n",
       "\n",
       "    .dataframe thead th {\n",
       "        text-align: right;\n",
       "    }\n",
       "</style>\n",
       "<table border=\"1\" class=\"dataframe\">\n",
       "  <thead>\n",
       "    <tr style=\"text-align: right;\">\n",
       "      <th></th>\n",
       "      <th>지점</th>\n",
       "      <th>평균기온(℃)</th>\n",
       "      <th>최저기온(℃)</th>\n",
       "      <th>최고기온(℃)</th>\n",
       "    </tr>\n",
       "    <tr>\n",
       "      <th>날짜</th>\n",
       "      <th></th>\n",
       "      <th></th>\n",
       "      <th></th>\n",
       "      <th></th>\n",
       "    </tr>\n",
       "  </thead>\n",
       "  <tbody>\n",
       "    <tr>\n",
       "      <th>2022-01-01</th>\n",
       "      <td>143</td>\n",
       "      <td>-2.3</td>\n",
       "      <td>-8.8</td>\n",
       "      <td>5.6</td>\n",
       "    </tr>\n",
       "    <tr>\n",
       "      <th>2022-01-02</th>\n",
       "      <td>143</td>\n",
       "      <td>0.6</td>\n",
       "      <td>-6.0</td>\n",
       "      <td>7.7</td>\n",
       "    </tr>\n",
       "    <tr>\n",
       "      <th>2022-01-03</th>\n",
       "      <td>143</td>\n",
       "      <td>-0.2</td>\n",
       "      <td>-6.5</td>\n",
       "      <td>6.9</td>\n",
       "    </tr>\n",
       "    <tr>\n",
       "      <th>2022-01-04</th>\n",
       "      <td>143</td>\n",
       "      <td>1.9</td>\n",
       "      <td>-2.5</td>\n",
       "      <td>7.6</td>\n",
       "    </tr>\n",
       "    <tr>\n",
       "      <th>2022-01-05</th>\n",
       "      <td>143</td>\n",
       "      <td>0.6</td>\n",
       "      <td>-5.6</td>\n",
       "      <td>5.0</td>\n",
       "    </tr>\n",
       "    <tr>\n",
       "      <th>...</th>\n",
       "      <td>...</td>\n",
       "      <td>...</td>\n",
       "      <td>...</td>\n",
       "      <td>...</td>\n",
       "    </tr>\n",
       "    <tr>\n",
       "      <th>2022-07-28</th>\n",
       "      <td>143</td>\n",
       "      <td>26.2</td>\n",
       "      <td>24.2</td>\n",
       "      <td>29.6</td>\n",
       "    </tr>\n",
       "    <tr>\n",
       "      <th>2022-07-29</th>\n",
       "      <td>143</td>\n",
       "      <td>28.7</td>\n",
       "      <td>24.5</td>\n",
       "      <td>33.9</td>\n",
       "    </tr>\n",
       "    <tr>\n",
       "      <th>2022-07-30</th>\n",
       "      <td>143</td>\n",
       "      <td>27.8</td>\n",
       "      <td>25.9</td>\n",
       "      <td>30.3</td>\n",
       "    </tr>\n",
       "    <tr>\n",
       "      <th>2022-07-31</th>\n",
       "      <td>143</td>\n",
       "      <td>27.1</td>\n",
       "      <td>25.3</td>\n",
       "      <td>29.5</td>\n",
       "    </tr>\n",
       "    <tr>\n",
       "      <th>2022-08-01</th>\n",
       "      <td>143</td>\n",
       "      <td>29.4</td>\n",
       "      <td>26.8</td>\n",
       "      <td>31.2</td>\n",
       "    </tr>\n",
       "  </tbody>\n",
       "</table>\n",
       "<p>213 rows × 4 columns</p>\n",
       "</div>"
      ],
      "text/plain": [
       "             지점  평균기온(℃)  최저기온(℃)  최고기온(℃)\n",
       "날짜                                        \n",
       "2022-01-01  143     -2.3     -8.8      5.6\n",
       "2022-01-02  143      0.6     -6.0      7.7\n",
       "2022-01-03  143     -0.2     -6.5      6.9\n",
       "2022-01-04  143      1.9     -2.5      7.6\n",
       "2022-01-05  143      0.6     -5.6      5.0\n",
       "...         ...      ...      ...      ...\n",
       "2022-07-28  143     26.2     24.2     29.6\n",
       "2022-07-29  143     28.7     24.5     33.9\n",
       "2022-07-30  143     27.8     25.9     30.3\n",
       "2022-07-31  143     27.1     25.3     29.5\n",
       "2022-08-01  143     29.4     26.8     31.2\n",
       "\n",
       "[213 rows x 4 columns]"
      ]
     },
     "execution_count": 100,
     "metadata": {},
     "output_type": "execute_result"
    }
   ],
   "source": [
    "dg_temp['2022']"
   ]
  },
  {
   "cell_type": "code",
   "execution_count": 101,
   "id": "885c3f78",
   "metadata": {},
   "outputs": [
    {
     "data": {
      "text/html": [
       "<div>\n",
       "<style scoped>\n",
       "    .dataframe tbody tr th:only-of-type {\n",
       "        vertical-align: middle;\n",
       "    }\n",
       "\n",
       "    .dataframe tbody tr th {\n",
       "        vertical-align: top;\n",
       "    }\n",
       "\n",
       "    .dataframe thead th {\n",
       "        text-align: right;\n",
       "    }\n",
       "</style>\n",
       "<table border=\"1\" class=\"dataframe\">\n",
       "  <thead>\n",
       "    <tr style=\"text-align: right;\">\n",
       "      <th></th>\n",
       "      <th>지점</th>\n",
       "      <th>평균기온(℃)</th>\n",
       "      <th>최저기온(℃)</th>\n",
       "      <th>최고기온(℃)</th>\n",
       "    </tr>\n",
       "    <tr>\n",
       "      <th>날짜</th>\n",
       "      <th></th>\n",
       "      <th></th>\n",
       "      <th></th>\n",
       "      <th></th>\n",
       "    </tr>\n",
       "  </thead>\n",
       "  <tbody>\n",
       "    <tr>\n",
       "      <th>2021-01-01</th>\n",
       "      <td>143</td>\n",
       "      <td>-1.8</td>\n",
       "      <td>-5.7</td>\n",
       "      <td>2.6</td>\n",
       "    </tr>\n",
       "    <tr>\n",
       "      <th>2021-01-02</th>\n",
       "      <td>143</td>\n",
       "      <td>-0.9</td>\n",
       "      <td>-3.7</td>\n",
       "      <td>2.1</td>\n",
       "    </tr>\n",
       "    <tr>\n",
       "      <th>2021-01-03</th>\n",
       "      <td>143</td>\n",
       "      <td>-1.3</td>\n",
       "      <td>-4.1</td>\n",
       "      <td>2.1</td>\n",
       "    </tr>\n",
       "    <tr>\n",
       "      <th>2021-01-04</th>\n",
       "      <td>143</td>\n",
       "      <td>-0.3</td>\n",
       "      <td>-5.8</td>\n",
       "      <td>5.5</td>\n",
       "    </tr>\n",
       "    <tr>\n",
       "      <th>2021-01-05</th>\n",
       "      <td>143</td>\n",
       "      <td>-1.1</td>\n",
       "      <td>-5.1</td>\n",
       "      <td>2.6</td>\n",
       "    </tr>\n",
       "    <tr>\n",
       "      <th>...</th>\n",
       "      <td>...</td>\n",
       "      <td>...</td>\n",
       "      <td>...</td>\n",
       "      <td>...</td>\n",
       "    </tr>\n",
       "    <tr>\n",
       "      <th>2021-12-27</th>\n",
       "      <td>143</td>\n",
       "      <td>-2.1</td>\n",
       "      <td>-7.9</td>\n",
       "      <td>2.3</td>\n",
       "    </tr>\n",
       "    <tr>\n",
       "      <th>2021-12-28</th>\n",
       "      <td>143</td>\n",
       "      <td>2.1</td>\n",
       "      <td>-3.4</td>\n",
       "      <td>7.4</td>\n",
       "    </tr>\n",
       "    <tr>\n",
       "      <th>2021-12-29</th>\n",
       "      <td>143</td>\n",
       "      <td>3.5</td>\n",
       "      <td>-2.6</td>\n",
       "      <td>10.0</td>\n",
       "    </tr>\n",
       "    <tr>\n",
       "      <th>2021-12-30</th>\n",
       "      <td>143</td>\n",
       "      <td>1.1</td>\n",
       "      <td>-1.9</td>\n",
       "      <td>4.9</td>\n",
       "    </tr>\n",
       "    <tr>\n",
       "      <th>2021-12-31</th>\n",
       "      <td>143</td>\n",
       "      <td>-2.5</td>\n",
       "      <td>-4.9</td>\n",
       "      <td>1.6</td>\n",
       "    </tr>\n",
       "  </tbody>\n",
       "</table>\n",
       "<p>365 rows × 4 columns</p>\n",
       "</div>"
      ],
      "text/plain": [
       "             지점  평균기온(℃)  최저기온(℃)  최고기온(℃)\n",
       "날짜                                        \n",
       "2021-01-01  143     -1.8     -5.7      2.6\n",
       "2021-01-02  143     -0.9     -3.7      2.1\n",
       "2021-01-03  143     -1.3     -4.1      2.1\n",
       "2021-01-04  143     -0.3     -5.8      5.5\n",
       "2021-01-05  143     -1.1     -5.1      2.6\n",
       "...         ...      ...      ...      ...\n",
       "2021-12-27  143     -2.1     -7.9      2.3\n",
       "2021-12-28  143      2.1     -3.4      7.4\n",
       "2021-12-29  143      3.5     -2.6     10.0\n",
       "2021-12-30  143      1.1     -1.9      4.9\n",
       "2021-12-31  143     -2.5     -4.9      1.6\n",
       "\n",
       "[365 rows x 4 columns]"
      ]
     },
     "execution_count": 101,
     "metadata": {},
     "output_type": "execute_result"
    }
   ],
   "source": [
    "dg_temp.loc['2021']"
   ]
  },
  {
   "cell_type": "code",
   "execution_count": 102,
   "id": "7c53a3af",
   "metadata": {},
   "outputs": [
    {
     "name": "stderr",
     "output_type": "stream",
     "text": [
      "/Users/simsanghyeog/opt/anaconda3/envs/vrconda/lib/python3.7/site-packages/ipykernel_launcher.py:1: FutureWarning: Indexing a DataFrame with a datetimelike index using a single string to slice the rows, like `frame[string]`, is deprecated and will be removed in a future version. Use `frame.loc[string]` instead.\n",
      "  \"\"\"Entry point for launching an IPython kernel.\n"
     ]
    },
    {
     "data": {
      "text/html": [
       "<div>\n",
       "<style scoped>\n",
       "    .dataframe tbody tr th:only-of-type {\n",
       "        vertical-align: middle;\n",
       "    }\n",
       "\n",
       "    .dataframe tbody tr th {\n",
       "        vertical-align: top;\n",
       "    }\n",
       "\n",
       "    .dataframe thead th {\n",
       "        text-align: right;\n",
       "    }\n",
       "</style>\n",
       "<table border=\"1\" class=\"dataframe\">\n",
       "  <thead>\n",
       "    <tr style=\"text-align: right;\">\n",
       "      <th></th>\n",
       "      <th>지점</th>\n",
       "      <th>평균기온(℃)</th>\n",
       "      <th>최저기온(℃)</th>\n",
       "      <th>최고기온(℃)</th>\n",
       "    </tr>\n",
       "    <tr>\n",
       "      <th>날짜</th>\n",
       "      <th></th>\n",
       "      <th></th>\n",
       "      <th></th>\n",
       "      <th></th>\n",
       "    </tr>\n",
       "  </thead>\n",
       "  <tbody>\n",
       "    <tr>\n",
       "      <th>2022-07-01</th>\n",
       "      <td>143</td>\n",
       "      <td>29.8</td>\n",
       "      <td>24.0</td>\n",
       "      <td>36.2</td>\n",
       "    </tr>\n",
       "    <tr>\n",
       "      <th>2022-07-02</th>\n",
       "      <td>143</td>\n",
       "      <td>29.9</td>\n",
       "      <td>22.5</td>\n",
       "      <td>36.8</td>\n",
       "    </tr>\n",
       "    <tr>\n",
       "      <th>2022-07-03</th>\n",
       "      <td>143</td>\n",
       "      <td>29.3</td>\n",
       "      <td>25.3</td>\n",
       "      <td>35.1</td>\n",
       "    </tr>\n",
       "    <tr>\n",
       "      <th>2022-07-04</th>\n",
       "      <td>143</td>\n",
       "      <td>28.8</td>\n",
       "      <td>25.8</td>\n",
       "      <td>32.8</td>\n",
       "    </tr>\n",
       "    <tr>\n",
       "      <th>2022-07-05</th>\n",
       "      <td>143</td>\n",
       "      <td>28.8</td>\n",
       "      <td>24.6</td>\n",
       "      <td>33.0</td>\n",
       "    </tr>\n",
       "    <tr>\n",
       "      <th>2022-07-06</th>\n",
       "      <td>143</td>\n",
       "      <td>28.5</td>\n",
       "      <td>25.3</td>\n",
       "      <td>33.8</td>\n",
       "    </tr>\n",
       "    <tr>\n",
       "      <th>2022-07-07</th>\n",
       "      <td>143</td>\n",
       "      <td>29.7</td>\n",
       "      <td>25.1</td>\n",
       "      <td>35.3</td>\n",
       "    </tr>\n",
       "    <tr>\n",
       "      <th>2022-07-08</th>\n",
       "      <td>143</td>\n",
       "      <td>28.5</td>\n",
       "      <td>26.0</td>\n",
       "      <td>33.6</td>\n",
       "    </tr>\n",
       "    <tr>\n",
       "      <th>2022-07-09</th>\n",
       "      <td>143</td>\n",
       "      <td>28.7</td>\n",
       "      <td>24.3</td>\n",
       "      <td>33.8</td>\n",
       "    </tr>\n",
       "    <tr>\n",
       "      <th>2022-07-10</th>\n",
       "      <td>143</td>\n",
       "      <td>28.1</td>\n",
       "      <td>24.1</td>\n",
       "      <td>33.4</td>\n",
       "    </tr>\n",
       "    <tr>\n",
       "      <th>2022-07-11</th>\n",
       "      <td>143</td>\n",
       "      <td>26.4</td>\n",
       "      <td>23.9</td>\n",
       "      <td>29.7</td>\n",
       "    </tr>\n",
       "    <tr>\n",
       "      <th>2022-07-12</th>\n",
       "      <td>143</td>\n",
       "      <td>25.6</td>\n",
       "      <td>23.6</td>\n",
       "      <td>29.4</td>\n",
       "    </tr>\n",
       "    <tr>\n",
       "      <th>2022-07-13</th>\n",
       "      <td>143</td>\n",
       "      <td>24.4</td>\n",
       "      <td>22.5</td>\n",
       "      <td>27.7</td>\n",
       "    </tr>\n",
       "    <tr>\n",
       "      <th>2022-07-14</th>\n",
       "      <td>143</td>\n",
       "      <td>28.2</td>\n",
       "      <td>23.1</td>\n",
       "      <td>33.6</td>\n",
       "    </tr>\n",
       "    <tr>\n",
       "      <th>2022-07-15</th>\n",
       "      <td>143</td>\n",
       "      <td>28.3</td>\n",
       "      <td>23.3</td>\n",
       "      <td>33.2</td>\n",
       "    </tr>\n",
       "    <tr>\n",
       "      <th>2022-07-16</th>\n",
       "      <td>143</td>\n",
       "      <td>26.8</td>\n",
       "      <td>21.4</td>\n",
       "      <td>34.0</td>\n",
       "    </tr>\n",
       "    <tr>\n",
       "      <th>2022-07-17</th>\n",
       "      <td>143</td>\n",
       "      <td>27.3</td>\n",
       "      <td>21.5</td>\n",
       "      <td>33.0</td>\n",
       "    </tr>\n",
       "    <tr>\n",
       "      <th>2022-07-18</th>\n",
       "      <td>143</td>\n",
       "      <td>22.9</td>\n",
       "      <td>21.6</td>\n",
       "      <td>27.2</td>\n",
       "    </tr>\n",
       "    <tr>\n",
       "      <th>2022-07-19</th>\n",
       "      <td>143</td>\n",
       "      <td>27.6</td>\n",
       "      <td>22.6</td>\n",
       "      <td>34.1</td>\n",
       "    </tr>\n",
       "    <tr>\n",
       "      <th>2022-07-20</th>\n",
       "      <td>143</td>\n",
       "      <td>29.4</td>\n",
       "      <td>25.4</td>\n",
       "      <td>34.1</td>\n",
       "    </tr>\n",
       "    <tr>\n",
       "      <th>2022-07-21</th>\n",
       "      <td>143</td>\n",
       "      <td>26.0</td>\n",
       "      <td>21.8</td>\n",
       "      <td>32.3</td>\n",
       "    </tr>\n",
       "    <tr>\n",
       "      <th>2022-07-22</th>\n",
       "      <td>143</td>\n",
       "      <td>25.8</td>\n",
       "      <td>22.6</td>\n",
       "      <td>29.7</td>\n",
       "    </tr>\n",
       "    <tr>\n",
       "      <th>2022-07-23</th>\n",
       "      <td>143</td>\n",
       "      <td>24.9</td>\n",
       "      <td>22.1</td>\n",
       "      <td>28.6</td>\n",
       "    </tr>\n",
       "    <tr>\n",
       "      <th>2022-07-24</th>\n",
       "      <td>143</td>\n",
       "      <td>27.4</td>\n",
       "      <td>22.3</td>\n",
       "      <td>32.0</td>\n",
       "    </tr>\n",
       "    <tr>\n",
       "      <th>2022-07-25</th>\n",
       "      <td>143</td>\n",
       "      <td>28.8</td>\n",
       "      <td>24.9</td>\n",
       "      <td>35.5</td>\n",
       "    </tr>\n",
       "    <tr>\n",
       "      <th>2022-07-26</th>\n",
       "      <td>143</td>\n",
       "      <td>26.9</td>\n",
       "      <td>23.1</td>\n",
       "      <td>34.0</td>\n",
       "    </tr>\n",
       "    <tr>\n",
       "      <th>2022-07-27</th>\n",
       "      <td>143</td>\n",
       "      <td>25.6</td>\n",
       "      <td>22.0</td>\n",
       "      <td>29.9</td>\n",
       "    </tr>\n",
       "    <tr>\n",
       "      <th>2022-07-28</th>\n",
       "      <td>143</td>\n",
       "      <td>26.2</td>\n",
       "      <td>24.2</td>\n",
       "      <td>29.6</td>\n",
       "    </tr>\n",
       "    <tr>\n",
       "      <th>2022-07-29</th>\n",
       "      <td>143</td>\n",
       "      <td>28.7</td>\n",
       "      <td>24.5</td>\n",
       "      <td>33.9</td>\n",
       "    </tr>\n",
       "    <tr>\n",
       "      <th>2022-07-30</th>\n",
       "      <td>143</td>\n",
       "      <td>27.8</td>\n",
       "      <td>25.9</td>\n",
       "      <td>30.3</td>\n",
       "    </tr>\n",
       "    <tr>\n",
       "      <th>2022-07-31</th>\n",
       "      <td>143</td>\n",
       "      <td>27.1</td>\n",
       "      <td>25.3</td>\n",
       "      <td>29.5</td>\n",
       "    </tr>\n",
       "  </tbody>\n",
       "</table>\n",
       "</div>"
      ],
      "text/plain": [
       "             지점  평균기온(℃)  최저기온(℃)  최고기온(℃)\n",
       "날짜                                        \n",
       "2022-07-01  143     29.8     24.0     36.2\n",
       "2022-07-02  143     29.9     22.5     36.8\n",
       "2022-07-03  143     29.3     25.3     35.1\n",
       "2022-07-04  143     28.8     25.8     32.8\n",
       "2022-07-05  143     28.8     24.6     33.0\n",
       "2022-07-06  143     28.5     25.3     33.8\n",
       "2022-07-07  143     29.7     25.1     35.3\n",
       "2022-07-08  143     28.5     26.0     33.6\n",
       "2022-07-09  143     28.7     24.3     33.8\n",
       "2022-07-10  143     28.1     24.1     33.4\n",
       "2022-07-11  143     26.4     23.9     29.7\n",
       "2022-07-12  143     25.6     23.6     29.4\n",
       "2022-07-13  143     24.4     22.5     27.7\n",
       "2022-07-14  143     28.2     23.1     33.6\n",
       "2022-07-15  143     28.3     23.3     33.2\n",
       "2022-07-16  143     26.8     21.4     34.0\n",
       "2022-07-17  143     27.3     21.5     33.0\n",
       "2022-07-18  143     22.9     21.6     27.2\n",
       "2022-07-19  143     27.6     22.6     34.1\n",
       "2022-07-20  143     29.4     25.4     34.1\n",
       "2022-07-21  143     26.0     21.8     32.3\n",
       "2022-07-22  143     25.8     22.6     29.7\n",
       "2022-07-23  143     24.9     22.1     28.6\n",
       "2022-07-24  143     27.4     22.3     32.0\n",
       "2022-07-25  143     28.8     24.9     35.5\n",
       "2022-07-26  143     26.9     23.1     34.0\n",
       "2022-07-27  143     25.6     22.0     29.9\n",
       "2022-07-28  143     26.2     24.2     29.6\n",
       "2022-07-29  143     28.7     24.5     33.9\n",
       "2022-07-30  143     27.8     25.9     30.3\n",
       "2022-07-31  143     27.1     25.3     29.5"
      ]
     },
     "execution_count": 102,
     "metadata": {},
     "output_type": "execute_result"
    }
   ],
   "source": [
    "dg_temp['2022/07']"
   ]
  },
  {
   "cell_type": "code",
   "execution_count": 103,
   "id": "ccc4e4dd",
   "metadata": {},
   "outputs": [],
   "source": [
    "del dg_temp['지점']"
   ]
  },
  {
   "cell_type": "code",
   "execution_count": 104,
   "id": "dfa2e0b1",
   "metadata": {},
   "outputs": [],
   "source": [
    "dg_temp.columns = ['평균기온', '최저기온','최고기온']"
   ]
  },
  {
   "cell_type": "code",
   "execution_count": 105,
   "id": "4783d9f4",
   "metadata": {},
   "outputs": [
    {
     "data": {
      "text/html": [
       "<div>\n",
       "<style scoped>\n",
       "    .dataframe tbody tr th:only-of-type {\n",
       "        vertical-align: middle;\n",
       "    }\n",
       "\n",
       "    .dataframe tbody tr th {\n",
       "        vertical-align: top;\n",
       "    }\n",
       "\n",
       "    .dataframe thead th {\n",
       "        text-align: right;\n",
       "    }\n",
       "</style>\n",
       "<table border=\"1\" class=\"dataframe\">\n",
       "  <thead>\n",
       "    <tr style=\"text-align: right;\">\n",
       "      <th></th>\n",
       "      <th>평균기온</th>\n",
       "      <th>최저기온</th>\n",
       "      <th>최고기온</th>\n",
       "    </tr>\n",
       "    <tr>\n",
       "      <th>날짜</th>\n",
       "      <th></th>\n",
       "      <th></th>\n",
       "      <th></th>\n",
       "    </tr>\n",
       "  </thead>\n",
       "  <tbody>\n",
       "    <tr>\n",
       "      <th>2017-01-01</th>\n",
       "      <td>3.4</td>\n",
       "      <td>-2.0</td>\n",
       "      <td>10.0</td>\n",
       "    </tr>\n",
       "    <tr>\n",
       "      <th>2017-01-02</th>\n",
       "      <td>5.3</td>\n",
       "      <td>-0.4</td>\n",
       "      <td>12.3</td>\n",
       "    </tr>\n",
       "    <tr>\n",
       "      <th>2017-01-03</th>\n",
       "      <td>5.2</td>\n",
       "      <td>0.9</td>\n",
       "      <td>10.9</td>\n",
       "    </tr>\n",
       "    <tr>\n",
       "      <th>2017-01-04</th>\n",
       "      <td>3.9</td>\n",
       "      <td>-1.9</td>\n",
       "      <td>11.2</td>\n",
       "    </tr>\n",
       "    <tr>\n",
       "      <th>2017-01-05</th>\n",
       "      <td>3.4</td>\n",
       "      <td>-1.6</td>\n",
       "      <td>7.6</td>\n",
       "    </tr>\n",
       "    <tr>\n",
       "      <th>...</th>\n",
       "      <td>...</td>\n",
       "      <td>...</td>\n",
       "      <td>...</td>\n",
       "    </tr>\n",
       "    <tr>\n",
       "      <th>2022-07-28</th>\n",
       "      <td>26.2</td>\n",
       "      <td>24.2</td>\n",
       "      <td>29.6</td>\n",
       "    </tr>\n",
       "    <tr>\n",
       "      <th>2022-07-29</th>\n",
       "      <td>28.7</td>\n",
       "      <td>24.5</td>\n",
       "      <td>33.9</td>\n",
       "    </tr>\n",
       "    <tr>\n",
       "      <th>2022-07-30</th>\n",
       "      <td>27.8</td>\n",
       "      <td>25.9</td>\n",
       "      <td>30.3</td>\n",
       "    </tr>\n",
       "    <tr>\n",
       "      <th>2022-07-31</th>\n",
       "      <td>27.1</td>\n",
       "      <td>25.3</td>\n",
       "      <td>29.5</td>\n",
       "    </tr>\n",
       "    <tr>\n",
       "      <th>2022-08-01</th>\n",
       "      <td>29.4</td>\n",
       "      <td>26.8</td>\n",
       "      <td>31.2</td>\n",
       "    </tr>\n",
       "  </tbody>\n",
       "</table>\n",
       "<p>2039 rows × 3 columns</p>\n",
       "</div>"
      ],
      "text/plain": [
       "            평균기온  최저기온  최고기온\n",
       "날짜                          \n",
       "2017-01-01   3.4  -2.0  10.0\n",
       "2017-01-02   5.3  -0.4  12.3\n",
       "2017-01-03   5.2   0.9  10.9\n",
       "2017-01-04   3.9  -1.9  11.2\n",
       "2017-01-05   3.4  -1.6   7.6\n",
       "...          ...   ...   ...\n",
       "2022-07-28  26.2  24.2  29.6\n",
       "2022-07-29  28.7  24.5  33.9\n",
       "2022-07-30  27.8  25.9  30.3\n",
       "2022-07-31  27.1  25.3  29.5\n",
       "2022-08-01  29.4  26.8  31.2\n",
       "\n",
       "[2039 rows x 3 columns]"
      ]
     },
     "execution_count": 105,
     "metadata": {},
     "output_type": "execute_result"
    }
   ],
   "source": [
    "dg_temp"
   ]
  },
  {
   "cell_type": "code",
   "execution_count": 107,
   "id": "73214053",
   "metadata": {},
   "outputs": [
    {
     "name": "stderr",
     "output_type": "stream",
     "text": [
      "/Users/simsanghyeog/opt/anaconda3/envs/vrconda/lib/python3.7/site-packages/ipykernel_launcher.py:2: FutureWarning: Indexing a DataFrame with a datetimelike index using a single string to slice the rows, like `frame[string]`, is deprecated and will be removed in a future version. Use `frame.loc[string]` instead.\n",
      "  \n"
     ]
    },
    {
     "data": {
      "text/plain": [
       "37.1"
      ]
     },
     "execution_count": 107,
     "metadata": {},
     "output_type": "execute_result"
    }
   ],
   "source": [
    "#2022년도 최고기온\n",
    "dg_temp['2022']['최고기온'].max()"
   ]
  },
  {
   "cell_type": "code",
   "execution_count": 108,
   "id": "30b0b483",
   "metadata": {},
   "outputs": [
    {
     "name": "stderr",
     "output_type": "stream",
     "text": [
      "/Users/simsanghyeog/opt/anaconda3/envs/vrconda/lib/python3.7/site-packages/ipykernel_launcher.py:1: FutureWarning: Indexing a DataFrame with a datetimelike index using a single string to slice the rows, like `frame[string]`, is deprecated and will be removed in a future version. Use `frame.loc[string]` instead.\n",
      "  \"\"\"Entry point for launching an IPython kernel.\n"
     ]
    },
    {
     "data": {
      "text/plain": [
       "Timestamp('2022-06-22 00:00:00')"
      ]
     },
     "execution_count": 108,
     "metadata": {},
     "output_type": "execute_result"
    }
   ],
   "source": [
    "dg_temp['2022']['최고기온'].idxmax()"
   ]
  },
  {
   "cell_type": "code",
   "execution_count": 109,
   "id": "2e9f0ddd",
   "metadata": {},
   "outputs": [
    {
     "data": {
      "text/html": [
       "<div>\n",
       "<style scoped>\n",
       "    .dataframe tbody tr th:only-of-type {\n",
       "        vertical-align: middle;\n",
       "    }\n",
       "\n",
       "    .dataframe tbody tr th {\n",
       "        vertical-align: top;\n",
       "    }\n",
       "\n",
       "    .dataframe thead th {\n",
       "        text-align: right;\n",
       "    }\n",
       "</style>\n",
       "<table border=\"1\" class=\"dataframe\">\n",
       "  <thead>\n",
       "    <tr style=\"text-align: right;\">\n",
       "      <th></th>\n",
       "      <th>평균기온</th>\n",
       "      <th>최저기온</th>\n",
       "      <th>최고기온</th>\n",
       "    </tr>\n",
       "    <tr>\n",
       "      <th>날짜</th>\n",
       "      <th></th>\n",
       "      <th></th>\n",
       "      <th></th>\n",
       "    </tr>\n",
       "  </thead>\n",
       "  <tbody>\n",
       "    <tr>\n",
       "      <th>2017</th>\n",
       "      <td>3.4</td>\n",
       "      <td>-2.0</td>\n",
       "      <td>10.0</td>\n",
       "    </tr>\n",
       "    <tr>\n",
       "      <th>2017</th>\n",
       "      <td>5.3</td>\n",
       "      <td>-0.4</td>\n",
       "      <td>12.3</td>\n",
       "    </tr>\n",
       "    <tr>\n",
       "      <th>2017</th>\n",
       "      <td>5.2</td>\n",
       "      <td>0.9</td>\n",
       "      <td>10.9</td>\n",
       "    </tr>\n",
       "    <tr>\n",
       "      <th>2017</th>\n",
       "      <td>3.9</td>\n",
       "      <td>-1.9</td>\n",
       "      <td>11.2</td>\n",
       "    </tr>\n",
       "    <tr>\n",
       "      <th>2017</th>\n",
       "      <td>3.4</td>\n",
       "      <td>-1.6</td>\n",
       "      <td>7.6</td>\n",
       "    </tr>\n",
       "    <tr>\n",
       "      <th>...</th>\n",
       "      <td>...</td>\n",
       "      <td>...</td>\n",
       "      <td>...</td>\n",
       "    </tr>\n",
       "    <tr>\n",
       "      <th>2022</th>\n",
       "      <td>26.2</td>\n",
       "      <td>24.2</td>\n",
       "      <td>29.6</td>\n",
       "    </tr>\n",
       "    <tr>\n",
       "      <th>2022</th>\n",
       "      <td>28.7</td>\n",
       "      <td>24.5</td>\n",
       "      <td>33.9</td>\n",
       "    </tr>\n",
       "    <tr>\n",
       "      <th>2022</th>\n",
       "      <td>27.8</td>\n",
       "      <td>25.9</td>\n",
       "      <td>30.3</td>\n",
       "    </tr>\n",
       "    <tr>\n",
       "      <th>2022</th>\n",
       "      <td>27.1</td>\n",
       "      <td>25.3</td>\n",
       "      <td>29.5</td>\n",
       "    </tr>\n",
       "    <tr>\n",
       "      <th>2022</th>\n",
       "      <td>29.4</td>\n",
       "      <td>26.8</td>\n",
       "      <td>31.2</td>\n",
       "    </tr>\n",
       "  </tbody>\n",
       "</table>\n",
       "<p>2039 rows × 3 columns</p>\n",
       "</div>"
      ],
      "text/plain": [
       "      평균기온  최저기온  최고기온\n",
       "날짜                    \n",
       "2017   3.4  -2.0  10.0\n",
       "2017   5.3  -0.4  12.3\n",
       "2017   5.2   0.9  10.9\n",
       "2017   3.9  -1.9  11.2\n",
       "2017   3.4  -1.6   7.6\n",
       "...    ...   ...   ...\n",
       "2022  26.2  24.2  29.6\n",
       "2022  28.7  24.5  33.9\n",
       "2022  27.8  25.9  30.3\n",
       "2022  27.1  25.3  29.5\n",
       "2022  29.4  26.8  31.2\n",
       "\n",
       "[2039 rows x 3 columns]"
      ]
     },
     "execution_count": 109,
     "metadata": {},
     "output_type": "execute_result"
    }
   ],
   "source": [
    "dg_temp.to_period('A')"
   ]
  },
  {
   "cell_type": "code",
   "execution_count": 110,
   "id": "beb543a6",
   "metadata": {},
   "outputs": [],
   "source": [
    "dg_temp_ann = dg_temp.to_period('A')"
   ]
  },
  {
   "cell_type": "code",
   "execution_count": 111,
   "id": "f032c359",
   "metadata": {},
   "outputs": [
    {
     "data": {
      "text/plain": [
       "날짜\n",
       "2017    38.4\n",
       "2018    39.2\n",
       "2019    36.9\n",
       "2020    37.0\n",
       "2021    37.2\n",
       "2022    37.1\n",
       "Freq: A-DEC, Name: 최고기온, dtype: float64"
      ]
     },
     "execution_count": 111,
     "metadata": {},
     "output_type": "execute_result"
    }
   ],
   "source": [
    "dg_temp_ann.groupby('날짜')['최고기온'].max()"
   ]
  },
  {
   "cell_type": "code",
   "execution_count": 113,
   "id": "2bd6163e",
   "metadata": {},
   "outputs": [
    {
     "data": {
      "text/plain": [
       "날짜\n",
       "2017   -10.2\n",
       "2018   -13.9\n",
       "2019    -7.2\n",
       "2020   -10.3\n",
       "2021   -13.6\n",
       "2022    -9.3\n",
       "Freq: A-DEC, Name: 최저기온, dtype: float64"
      ]
     },
     "execution_count": 113,
     "metadata": {},
     "output_type": "execute_result"
    }
   ],
   "source": [
    "dg_temp_ann.groupby('날짜').min()['최저기온']"
   ]
  },
  {
   "cell_type": "code",
   "execution_count": 114,
   "id": "1338e351",
   "metadata": {},
   "outputs": [],
   "source": [
    "high_temp = dg_temp_ann.groupby('날짜')['최고기온'].max()\n",
    "low_temp = dg_temp_ann.groupby('날짜').min()['최저기온']"
   ]
  },
  {
   "cell_type": "code",
   "execution_count": 115,
   "id": "40c42101",
   "metadata": {},
   "outputs": [
    {
     "data": {
      "text/plain": [
       "pandas.core.series.Series"
      ]
     },
     "execution_count": 115,
     "metadata": {},
     "output_type": "execute_result"
    }
   ],
   "source": [
    "type(high_temp)"
   ]
  },
  {
   "cell_type": "code",
   "execution_count": 117,
   "id": "6b37cfd7",
   "metadata": {},
   "outputs": [
    {
     "data": {
      "text/html": [
       "<div>\n",
       "<style scoped>\n",
       "    .dataframe tbody tr th:only-of-type {\n",
       "        vertical-align: middle;\n",
       "    }\n",
       "\n",
       "    .dataframe tbody tr th {\n",
       "        vertical-align: top;\n",
       "    }\n",
       "\n",
       "    .dataframe thead th {\n",
       "        text-align: right;\n",
       "    }\n",
       "</style>\n",
       "<table border=\"1\" class=\"dataframe\">\n",
       "  <thead>\n",
       "    <tr style=\"text-align: right;\">\n",
       "      <th></th>\n",
       "      <th>최고기온</th>\n",
       "      <th>최저기온</th>\n",
       "    </tr>\n",
       "    <tr>\n",
       "      <th>날짜</th>\n",
       "      <th></th>\n",
       "      <th></th>\n",
       "    </tr>\n",
       "  </thead>\n",
       "  <tbody>\n",
       "    <tr>\n",
       "      <th>2017</th>\n",
       "      <td>38.4</td>\n",
       "      <td>-10.2</td>\n",
       "    </tr>\n",
       "    <tr>\n",
       "      <th>2018</th>\n",
       "      <td>39.2</td>\n",
       "      <td>-13.9</td>\n",
       "    </tr>\n",
       "    <tr>\n",
       "      <th>2019</th>\n",
       "      <td>36.9</td>\n",
       "      <td>-7.2</td>\n",
       "    </tr>\n",
       "    <tr>\n",
       "      <th>2020</th>\n",
       "      <td>37.0</td>\n",
       "      <td>-10.3</td>\n",
       "    </tr>\n",
       "    <tr>\n",
       "      <th>2021</th>\n",
       "      <td>37.2</td>\n",
       "      <td>-13.6</td>\n",
       "    </tr>\n",
       "    <tr>\n",
       "      <th>2022</th>\n",
       "      <td>37.1</td>\n",
       "      <td>-9.3</td>\n",
       "    </tr>\n",
       "  </tbody>\n",
       "</table>\n",
       "</div>"
      ],
      "text/plain": [
       "      최고기온  최저기온\n",
       "날짜              \n",
       "2017  38.4 -10.2\n",
       "2018  39.2 -13.9\n",
       "2019  36.9  -7.2\n",
       "2020  37.0 -10.3\n",
       "2021  37.2 -13.6\n",
       "2022  37.1  -9.3"
      ]
     },
     "execution_count": 117,
     "metadata": {},
     "output_type": "execute_result"
    }
   ],
   "source": [
    "pd.merge(high_temp, low_temp, on='날짜')"
   ]
  },
  {
   "cell_type": "code",
   "execution_count": 118,
   "id": "c4266c8b",
   "metadata": {},
   "outputs": [],
   "source": [
    "high_temp=dg_temp_ann.groupby((dg_temp_ann.index.year//10)*10).max()"
   ]
  },
  {
   "cell_type": "code",
   "execution_count": 119,
   "id": "d2240f31",
   "metadata": {},
   "outputs": [
    {
     "data": {
      "text/html": [
       "<div>\n",
       "<style scoped>\n",
       "    .dataframe tbody tr th:only-of-type {\n",
       "        vertical-align: middle;\n",
       "    }\n",
       "\n",
       "    .dataframe tbody tr th {\n",
       "        vertical-align: top;\n",
       "    }\n",
       "\n",
       "    .dataframe thead th {\n",
       "        text-align: right;\n",
       "    }\n",
       "</style>\n",
       "<table border=\"1\" class=\"dataframe\">\n",
       "  <thead>\n",
       "    <tr style=\"text-align: right;\">\n",
       "      <th></th>\n",
       "      <th>평균기온</th>\n",
       "      <th>최저기온</th>\n",
       "      <th>최고기온</th>\n",
       "    </tr>\n",
       "    <tr>\n",
       "      <th>날짜</th>\n",
       "      <th></th>\n",
       "      <th></th>\n",
       "      <th></th>\n",
       "    </tr>\n",
       "  </thead>\n",
       "  <tbody>\n",
       "    <tr>\n",
       "      <th>2010</th>\n",
       "      <td>33.1</td>\n",
       "      <td>28.6</td>\n",
       "      <td>39.2</td>\n",
       "    </tr>\n",
       "    <tr>\n",
       "      <th>2020</th>\n",
       "      <td>31.4</td>\n",
       "      <td>27.7</td>\n",
       "      <td>37.2</td>\n",
       "    </tr>\n",
       "  </tbody>\n",
       "</table>\n",
       "</div>"
      ],
      "text/plain": [
       "      평균기온  최저기온  최고기온\n",
       "날짜                    \n",
       "2010  33.1  28.6  39.2\n",
       "2020  31.4  27.7  37.2"
      ]
     },
     "execution_count": 119,
     "metadata": {},
     "output_type": "execute_result"
    }
   ],
   "source": [
    "high_temp"
   ]
  },
  {
   "cell_type": "code",
   "execution_count": 120,
   "id": "987bca88",
   "metadata": {},
   "outputs": [
    {
     "data": {
      "text/plain": [
       "PeriodIndex(['2017', '2017', '2017', '2017', '2017', '2017', '2017', '2017',\n",
       "             '2017', '2017',\n",
       "             ...\n",
       "             '2022', '2022', '2022', '2022', '2022', '2022', '2022', '2022',\n",
       "             '2022', '2022'],\n",
       "            dtype='period[A-DEC]', name='날짜', length=2039)"
      ]
     },
     "execution_count": 120,
     "metadata": {},
     "output_type": "execute_result"
    }
   ],
   "source": [
    "dg_temp_ann.index"
   ]
  },
  {
   "cell_type": "code",
   "execution_count": 121,
   "id": "92298e6d",
   "metadata": {},
   "outputs": [
    {
     "data": {
      "text/plain": [
       "Int64Index([2017, 2017, 2017, 2017, 2017, 2017, 2017, 2017, 2017, 2017,\n",
       "            ...\n",
       "            2022, 2022, 2022, 2022, 2022, 2022, 2022, 2022, 2022, 2022],\n",
       "           dtype='int64', name='날짜', length=2039)"
      ]
     },
     "execution_count": 121,
     "metadata": {},
     "output_type": "execute_result"
    }
   ],
   "source": [
    "dg_temp_ann.index.year"
   ]
  },
  {
   "cell_type": "markdown",
   "id": "0daabd70",
   "metadata": {},
   "source": [
    "### 시각화(visualization)"
   ]
  },
  {
   "cell_type": "code",
   "execution_count": 122,
   "id": "14b2452b",
   "metadata": {},
   "outputs": [],
   "source": [
    "import matplotlib.pyplot as plt"
   ]
  },
  {
   "cell_type": "code",
   "execution_count": 123,
   "id": "ba7ddad9",
   "metadata": {},
   "outputs": [
    {
     "data": {
      "image/png": "[encoded data removed]",
      "text/plain": [
       "<Figure size 432x288 with 1 Axes>"
      ]
     },
     "metadata": {
      "needs_background": "light"
     },
     "output_type": "display_data"
    }
   ],
   "source": [
    "plt.plot([1,3,8,2,9,5,7])\n",
    "plt.show()"
   ]
  },
  {
   "cell_type": "code",
   "execution_count": 128,
   "id": "505b4996",
   "metadata": {},
   "outputs": [
    {
     "data": {
      "image/png": "[encoded data removed]",
      "text/plain": [
       "<Figure size 432x288 with 1 Axes>"
      ]
     },
     "metadata": {
      "needs_background": "light"
     },
     "output_type": "display_data"
    }
   ],
   "source": [
    "plt.plot(['a','b','c','d','e','f','g'],[1,3,8,2,9,5,7])\n",
    "plt.xlabel('x')\n",
    "plt.ylabel('y')\n",
    "plt.show()"
   ]
  },
  {
   "cell_type": "code",
   "execution_count": 129,
   "id": "da5fd3c5",
   "metadata": {},
   "outputs": [
    {
     "name": "stderr",
     "output_type": "stream",
     "text": [
      "/Users/simsanghyeog/opt/anaconda3/envs/vrconda/lib/python3.7/site-packages/IPython/core/pylabtools.py:151: UserWarning: Glyph 44277 (\\N{HANGUL SYLLABLE GONG}) missing from current font.\n",
      "  fig.canvas.print_figure(bytes_io, **kw)\n",
      "/Users/simsanghyeog/opt/anaconda3/envs/vrconda/lib/python3.7/site-packages/IPython/core/pylabtools.py:151: UserWarning: Glyph 48512 (\\N{HANGUL SYLLABLE BU}) missing from current font.\n",
      "  fig.canvas.print_figure(bytes_io, **kw)\n",
      "/Users/simsanghyeog/opt/anaconda3/envs/vrconda/lib/python3.7/site-packages/IPython/core/pylabtools.py:151: UserWarning: Glyph 54620 (\\N{HANGUL SYLLABLE HAN}) missing from current font.\n",
      "  fig.canvas.print_figure(bytes_io, **kw)\n",
      "/Users/simsanghyeog/opt/anaconda3/envs/vrconda/lib/python3.7/site-packages/IPython/core/pylabtools.py:151: UserWarning: Glyph 49884 (\\N{HANGUL SYLLABLE SI}) missing from current font.\n",
      "  fig.canvas.print_figure(bytes_io, **kw)\n",
      "/Users/simsanghyeog/opt/anaconda3/envs/vrconda/lib/python3.7/site-packages/IPython/core/pylabtools.py:151: UserWarning: Glyph 44036 (\\N{HANGUL SYLLABLE GAN}) missing from current font.\n",
      "  fig.canvas.print_figure(bytes_io, **kw)\n",
      "/Users/simsanghyeog/opt/anaconda3/envs/vrconda/lib/python3.7/site-packages/IPython/core/pylabtools.py:151: UserWarning: Glyph 49457 (\\N{HANGUL SYLLABLE SEONG}) missing from current font.\n",
      "  fig.canvas.print_figure(bytes_io, **kw)\n",
      "/Users/simsanghyeog/opt/anaconda3/envs/vrconda/lib/python3.7/site-packages/IPython/core/pylabtools.py:151: UserWarning: Glyph 51201 (\\N{HANGUL SYLLABLE JEOG}) missing from current font.\n",
      "  fig.canvas.print_figure(bytes_io, **kw)\n"
     ]
    },
    {
     "data": {
      "image/png": "[encoded data removed]",
      "text/plain": [
       "<Figure size 432x288 with 1 Axes>"
      ]
     },
     "metadata": {
      "needs_background": "light"
     },
     "output_type": "display_data"
    }
   ],
   "source": [
    "plt.plot(['a','b','c','d','e','f','g'],[1,3,8,2,9,5,7])\n",
    "plt.xlabel('공부한 시간')\n",
    "plt.ylabel('성적')\n",
    "plt.show()"
   ]
  },
  {
   "cell_type": "markdown",
   "id": "babcdd75",
   "metadata": {},
   "source": [
    "### 한글 폰트를 지정하는 방법"
   ]
  },
  {
   "cell_type": "code",
   "execution_count": 130,
   "id": "8f3d5ac4",
   "metadata": {},
   "outputs": [],
   "source": [
    "import matplotlib.font_manager as fm"
   ]
  },
  {
   "cell_type": "code",
   "execution_count": 131,
   "id": "c316aee8",
   "metadata": {},
   "outputs": [],
   "source": [
    "font_list = fm.findSystemFonts()"
   ]
  },
  {
   "cell_type": "code",
   "execution_count": 132,
   "id": "b7900a80",
   "metadata": {
    "scrolled": true
   },
   "outputs": [
    {
     "data": {
      "text/plain": [
       "['/System/Library/Fonts/Supplemental/Athelas.ttc',\n",
       " '/System/Library/Fonts/Supplemental/Cochin.ttc',\n",
       " '/System/Library/Fonts/Supplemental/NotoSansUgaritic-Regular.ttf',\n",
       " '/System/Library/Fonts/Supplemental/Lao Sangam MN.ttf',\n",
       " '/System/Library/Fonts/Supplemental/Courier New Bold.ttf',\n",
       " '/System/Library/Fonts/ArialHB.ttc',\n",
       " '/System/Library/Fonts/Supplemental/NotoSansMahajani-Regular.ttf',\n",
       " '/System/Library/Fonts/Supplemental/NotoSansSamaritan-Regular.ttf',\n",
       " '/System/Library/Fonts/Supplemental/Shree714.ttc',\n",
       " '/System/Library/Fonts/Supplemental/Charter.ttc',\n",
       " '/System/Library/Fonts/Supplemental/Myanmar MN.ttc',\n",
       " '/System/Library/Fonts/Supplemental/Courier New.ttf',\n",
       " '/System/Library/Fonts/Supplemental/NotoSansNewTaiLue-Regular.ttf',\n",
       " '/System/Library/Fonts/NewYork.ttf',\n",
       " '/System/Library/Fonts/Supplemental/NotoSansYi-Regular.ttf',\n",
       " '/System/Library/Fonts/Supplemental/Arial Narrow Bold.ttf',\n",
       " '/System/Library/Fonts/Supplemental/Khmer MN.ttc',\n",
       " '/System/Library/Fonts/ヒラギノ角ゴシック W2.ttc',\n",
       " '/System/Library/Fonts/Supplemental/STIXIntUpBol.otf',\n",
       " '/System/Library/Fonts/Supplemental/STIXIntDReg.otf',\n",
       " '/System/Library/Fonts/Supplemental/Verdana Bold.ttf',\n",
       " '/System/Library/Fonts/Supplemental/NotoSansMiao-Regular.ttf',\n",
       " '/System/Library/Fonts/SFNS.ttf',\n",
       " '/System/Library/Fonts/Supplemental/STIXVarBol.otf',\n",
       " '/System/Library/Fonts/Supplemental/SignPainter.ttc',\n",
       " '/System/Library/Fonts/Supplemental/NotoSansHanunoo-Regular.ttf',\n",
       " '/System/Library/Fonts/Supplemental/Mishafi Gold.ttf',\n",
       " '/System/Library/Fonts/Apple Braille Pinpoint 6 Dot.ttf',\n",
       " '/System/Library/Fonts/ヒラギノ角ゴシック W5.ttc',\n",
       " '/System/Library/Fonts/Supplemental/STIXIntSmBol.otf',\n",
       " '/System/Library/Fonts/Helvetica.ttc',\n",
       " '/System/Library/Fonts/Supplemental/Copperplate.ttc',\n",
       " '/System/Library/Fonts/Times.ttc',\n",
       " '/System/Library/Fonts/Supplemental/Courier New Italic.ttf',\n",
       " '/System/Library/Fonts/Supplemental/STIXVar.otf',\n",
       " '/System/Library/Fonts/Apple Symbols.ttf',\n",
       " '/System/Library/Fonts/Supplemental/DIN Alternate Bold.ttf',\n",
       " '/System/Library/Fonts/Supplemental/Gujarati Sangam MN.ttc',\n",
       " '/System/Library/Fonts/ヒラギノ角ゴシック W3.ttc',\n",
       " '/System/Library/Fonts/Supplemental/Trebuchet MS Bold Italic.ttf',\n",
       " '/System/Library/Fonts/Supplemental/NotoSansKhudawadi-Regular.ttf',\n",
       " '/System/Library/Fonts/Supplemental/NotoSansCoptic-Regular.ttf',\n",
       " '/System/Library/Fonts/Supplemental/NotoSerifYezidi-Regular.otf',\n",
       " '/System/Library/Fonts/Supplemental/NotoSansOlChiki-Regular.ttf',\n",
       " '/System/Library/Fonts/Supplemental/STIXSizFourSymBol.otf',\n",
       " '/System/Library/Fonts/LastResort.otf',\n",
       " '/System/Library/Fonts/SFNSItalic.ttf',\n",
       " '/System/Library/Fonts/Supplemental/NotoSansKayahLi-Regular.ttf',\n",
       " '/System/Library/Fonts/ZapfDingbats.ttf',\n",
       " '/System/Library/Fonts/Supplemental/NotoSansRejang-Regular.ttf',\n",
       " '/System/Library/Fonts/Supplemental/NotoSansWarangCiti-Regular.ttf',\n",
       " '/System/Library/Fonts/Supplemental/Raanana.ttc',\n",
       " '/System/Library/Fonts/Supplemental/STIXGeneralBol.otf',\n",
       " '/System/Library/Fonts/NewYorkItalic.ttf',\n",
       " '/System/Library/Fonts/Supplemental/Bodoni Ornaments.ttf',\n",
       " '/System/Library/Fonts/Supplemental/Times New Roman Bold.ttf',\n",
       " '/System/Library/Fonts/Apple Color Emoji.ttc',\n",
       " '/System/Library/Fonts/Apple Braille.ttf',\n",
       " '/System/Library/Fonts/Supplemental/Tamil Sangam MN.ttc',\n",
       " '/System/Library/Fonts/Supplemental/NotoSansSiddham-Regular.ttf',\n",
       " '/System/Library/Fonts/KohinoorTelugu.ttc',\n",
       " '/System/Library/Fonts/Hiragino Sans GB.ttc',\n",
       " '/System/Library/Fonts/KohinoorGujarati.ttc',\n",
       " '/System/Library/Fonts/Supplemental/NotoSansGunjalaGondi-Regular.otf',\n",
       " '/System/Library/Fonts/Supplemental/Iowan Old Style.ttc',\n",
       " '/System/Library/Fonts/Supplemental/NotoSansElbasan-Regular.ttf',\n",
       " '/System/Library/Fonts/Kohinoor.ttc',\n",
       " '/System/Library/Fonts/Supplemental/NotoSansSylotiNagri-Regular.ttf',\n",
       " '/System/Library/Fonts/Supplemental/Sana.ttc',\n",
       " '/System/Library/Fonts/Supplemental/NotoSansLepcha-Regular.ttf',\n",
       " '/System/Library/Fonts/Supplemental/DecoTypeNaskh.ttc',\n",
       " '/System/Library/Fonts/Supplemental/Trebuchet MS.ttf',\n",
       " '/System/Library/Fonts/NotoSansOriya.ttc',\n",
       " '/System/Library/Fonts/Supplemental/STIXIntUpDReg.otf',\n",
       " '/System/Library/Fonts/Supplemental/STIXNonUni.otf',\n",
       " '/System/Library/Fonts/Avenir.ttc',\n",
       " '/System/Library/Fonts/Supplemental/Arial.ttf',\n",
       " '/System/Library/Fonts/Supplemental/Georgia.ttf',\n",
       " '/System/Library/Fonts/Supplemental/Brush Script.ttf',\n",
       " '/System/Library/Fonts/Supplemental/Nadeem.ttc',\n",
       " '/System/Library/Fonts/Supplemental/STIXSizTwoSymBol.otf',\n",
       " '/System/Library/Fonts/Supplemental/Wingdings 3.ttf',\n",
       " '/System/Library/Fonts/Supplemental/NotoSansAdlam-Regular.ttf',\n",
       " '/System/Library/Fonts/Supplemental/STIXNonUniBolIta.otf',\n",
       " '/System/Library/Fonts/Supplemental/NotoSansNewa-Regular.ttf',\n",
       " '/System/Library/Fonts/SFNSRounded.ttf',\n",
       " '/System/Library/Fonts/Supplemental/PlantagenetCherokee.ttf',\n",
       " '/System/Library/Fonts/ヒラギノ角ゴシック W1.ttc',\n",
       " '/System/Library/Fonts/Supplemental/Verdana.ttf',\n",
       " '/System/Library/Fonts/Supplemental/NotoSansMarchen-Regular.ttf',\n",
       " '/System/Library/Fonts/MarkerFelt.ttc',\n",
       " '/System/Library/Fonts/Supplemental/Times New Roman Bold Italic.ttf',\n",
       " '/System/Library/Fonts/Supplemental/Gurmukhi.ttf',\n",
       " '/System/Library/Fonts/Supplemental/NotoSansPahawhHmong-Regular.ttf',\n",
       " '/System/Library/Fonts/Supplemental/STIXIntUpSmReg.otf',\n",
       " '/System/Library/Fonts/Supplemental/NotoSansAvestan-Regular.ttf',\n",
       " '/System/Library/Fonts/Supplemental/Songti.ttc',\n",
       " '/System/Library/Fonts/Supplemental/Devanagari Sangam MN.ttc',\n",
       " '/System/Library/Fonts/Supplemental/Oriya Sangam MN.ttc',\n",
       " '/System/Library/Fonts/Supplemental/SnellRoundhand.ttc',\n",
       " '/System/Library/Fonts/Thonburi.ttc',\n",
       " '/System/Library/Fonts/Supplemental/NotoSansKhojki-Regular.ttf',\n",
       " '/System/Library/Fonts/Supplemental/Kokonor.ttf',\n",
       " '/System/Library/Fonts/Supplemental/NotoSansChakma-Regular.ttf',\n",
       " '/System/Library/Fonts/Supplemental/Bodoni 72.ttc',\n",
       " '/System/Library/Fonts/Supplemental/Arial Black.ttf',\n",
       " '/System/Library/Fonts/Supplemental/Savoye LET.ttc',\n",
       " '/System/Library/Fonts/Supplemental/STIXSizOneSymReg.otf',\n",
       " '/System/Library/Fonts/Supplemental/Didot.ttc',\n",
       " '/System/Library/Fonts/Supplemental/Mishafi.ttf',\n",
       " '/System/Library/Fonts/Supplemental/STIXSizThreeSymReg.otf',\n",
       " '/System/Library/Fonts/Supplemental/Wingdings.ttf',\n",
       " '/System/Library/Fonts/Monaco.ttf',\n",
       " '/System/Library/Fonts/Supplemental/NotoSansBuhid-Regular.ttf',\n",
       " '/System/Library/Fonts/Supplemental/NotoSansSyriac-Regular.ttf',\n",
       " '/System/Library/Fonts/Supplemental/NotoSansSharada-Regular.ttf',\n",
       " '/System/Library/Fonts/Supplemental/PTMono.ttc',\n",
       " '/System/Library/Fonts/Supplemental/NotoSansGothic-Regular.ttf',\n",
       " '/System/Library/Fonts/ヒラギノ明朝 ProN.ttc',\n",
       " '/System/Library/Fonts/Supplemental/Webdings.ttf',\n",
       " '/System/Library/Fonts/Supplemental/NotoSansLimbu-Regular.ttf',\n",
       " '/System/Library/Fonts/AppleSDGothicNeo.ttc',\n",
       " '/System/Library/Fonts/Supplemental/STIXSizThreeSymBol.otf',\n",
       " '/System/Library/Fonts/Supplemental/NotoSansEgyptianHieroglyphs-Regular.ttf',\n",
       " '/System/Library/Fonts/Supplemental/Beirut.ttc',\n",
       " '/System/Library/Fonts/Supplemental/NotoSansKaithi-Regular.ttf',\n",
       " '/System/Library/Fonts/ヒラギノ角ゴシック W8.ttc',\n",
       " '/System/Library/Fonts/Supplemental/NotoSansOldTurkic-Regular.ttf',\n",
       " '/System/Library/Fonts/Supplemental/NotoSansTaiTham-Regular.ttf',\n",
       " '/System/Library/Fonts/LucidaGrande.ttc',\n",
       " '/System/Library/Fonts/Supplemental/NotoSansLycian-Regular.ttf',\n",
       " '/System/Library/Fonts/Supplemental/Damascus.ttc',\n",
       " '/System/Library/Fonts/Supplemental/Trebuchet MS Italic.ttf',\n",
       " '/System/Library/Fonts/Supplemental/NotoSansSoraSompeng-Regular.ttf',\n",
       " '/System/Library/Fonts/Supplemental/SuperClarendon.ttc',\n",
       " '/System/Library/Fonts/Supplemental/ITFDevanagari.ttc',\n",
       " '/System/Library/Fonts/Supplemental/DevanagariMT.ttc',\n",
       " '/System/Library/Fonts/Supplemental/Sinhala Sangam MN.ttc',\n",
       " '/System/Library/Fonts/Supplemental/Luminari.ttf',\n",
       " '/System/Library/Fonts/Supplemental/NotoSansImperialAramaic-Regular.ttf',\n",
       " '/System/Library/Fonts/Supplemental/STIXSizFiveSymReg.otf',\n",
       " '/System/Library/Fonts/Supplemental/Andale Mono.ttf',\n",
       " '/System/Library/Fonts/Supplemental/Rockwell.ttc',\n",
       " '/System/Library/Fonts/Supplemental/Tamil MN.ttc',\n",
       " '/System/Library/Fonts/Supplemental/NotoSansManichaean-Regular.ttf',\n",
       " '/System/Library/Fonts/Supplemental/PTSerif.ttc',\n",
       " '/System/Library/Fonts/Supplemental/STIXIntUpReg.otf',\n",
       " '/System/Library/Fonts/Supplemental/NotoSansNabataean-Regular.ttf',\n",
       " '/System/Library/Fonts/Supplemental/NotoSansOsage-Regular.ttf',\n",
       " '/System/Library/Fonts/Supplemental/Papyrus.ttc',\n",
       " '/System/Library/Fonts/Supplemental/NotoSansBuginese-Regular.ttf',\n",
       " '/System/Library/Fonts/Supplemental/Sathu.ttf',\n",
       " '/System/Library/Fonts/Supplemental/NotoSansCaucasianAlbanian-Regular.ttf',\n",
       " '/System/Library/Fonts/ヒラギノ丸ゴ ProN W4.ttc',\n",
       " '/System/Library/Fonts/Supplemental/NotoSansBatak-Regular.ttf',\n",
       " '/System/Library/Fonts/Supplemental/BigCaslon.ttf',\n",
       " '/System/Library/Fonts/Supplemental/NotoSansHatran-Regular.ttf',\n",
       " '/System/Library/Fonts/Supplemental/NotoSansCarian-Regular.ttf',\n",
       " '/System/Library/Fonts/Supplemental/NotoSansOldPersian-Regular.ttf',\n",
       " '/System/Library/Fonts/Avenir Next.ttc',\n",
       " '/System/Library/Fonts/NotoSansKannada.ttc',\n",
       " '/System/Library/Fonts/Supplemental/STIXGeneralItalic.otf',\n",
       " '/System/Library/Fonts/Supplemental/KufiStandardGK.ttc',\n",
       " '/System/Library/Fonts/Supplemental/Lao MN.ttc',\n",
       " '/System/Library/Fonts/Supplemental/NotoSansBassaVah-Regular.ttf',\n",
       " '/System/Library/Fonts/SFArabic.ttf',\n",
       " '/System/Library/Fonts/Courier.ttc',\n",
       " '/System/Library/Fonts/Supplemental/Baghdad.ttc',\n",
       " '/System/Library/Fonts/Supplemental/NotoSansTifinagh-Regular.ttf',\n",
       " '/System/Library/Fonts/Supplemental/Herculanum.ttf',\n",
       " '/System/Library/Fonts/Supplemental/NotoSansMongolian-Regular.ttf',\n",
       " '/System/Library/Fonts/Supplemental/SukhumvitSet.ttc',\n",
       " '/System/Library/Fonts/Supplemental/NotoSansMultani-Regular.ttf',\n",
       " '/System/Library/Fonts/Supplemental/NewPeninimMT.ttc',\n",
       " '/System/Library/Fonts/Supplemental/Wingdings 2.ttf',\n",
       " '/System/Library/Fonts/Supplemental/Ayuthaya.ttf',\n",
       " '/System/Library/Fonts/NotoSerifMyanmar.ttc',\n",
       " '/Library/Fonts/Arial Unicode.ttf',\n",
       " '/System/Library/Fonts/Supplemental/STIXGeneralBolIta.otf',\n",
       " '/System/Library/Fonts/Supplemental/Arial Italic.ttf',\n",
       " '/System/Library/Fonts/Supplemental/NotoSansOldItalic-Regular.ttf',\n",
       " '/System/Library/Fonts/Supplemental/NotoSansPsalterPahlavi-Regular.ttf',\n",
       " '/System/Library/Fonts/Supplemental/Malayalam Sangam MN.ttc',\n",
       " '/System/Library/Fonts/Supplemental/NotoSansOldNorthArabian-Regular.ttf',\n",
       " '/System/Library/Fonts/Supplemental/PTSans.ttc',\n",
       " '/System/Library/Fonts/STHeiti Light.ttc',\n",
       " '/System/Library/Fonts/Supplemental/AppleMyungjo.ttf',\n",
       " '/System/Library/Fonts/Supplemental/NISC18030.ttf',\n",
       " '/System/Library/Fonts/Supplemental/Kefa.ttc',\n",
       " '/System/Library/Fonts/Supplemental/NotoSansMeeteiMayek-Regular.ttf',\n",
       " '/System/Library/Fonts/Palatino.ttc',\n",
       " '/System/Library/Fonts/Supplemental/Bangla Sangam MN.ttc',\n",
       " '/System/Library/Fonts/STHeiti Medium.ttc',\n",
       " '/System/Library/Fonts/Supplemental/STIXIntSmReg.otf',\n",
       " '/System/Library/Fonts/Supplemental/NotoSansLydian-Regular.ttf',\n",
       " '/System/Library/Fonts/Supplemental/NotoSansNKo-Regular.ttf',\n",
       " '/System/Library/Fonts/Supplemental/NotoSansSundanese-Regular.ttf',\n",
       " '/System/Library/Fonts/Supplemental/STIXSizTwoSymReg.otf',\n",
       " '/System/Library/Fonts/Supplemental/NotoSansSaurashtra-Regular.ttf',\n",
       " '/System/Library/Fonts/Supplemental/STIXNonUniIta.otf',\n",
       " '/System/Library/Fonts/Apple Braille Outline 8 Dot.ttf',\n",
       " '/System/Library/Fonts/Supplemental/Bangla MN.ttc',\n",
       " '/System/Library/Fonts/Supplemental/NotoSansOsmanya-Regular.ttf',\n",
       " '/System/Library/Fonts/Supplemental/InaiMathi-MN.ttc',\n",
       " '/System/Library/Fonts/Supplemental/Tahoma Bold.ttf',\n",
       " '/System/Library/Fonts/Supplemental/NotoSansTirhuta-Regular.ttf',\n",
       " '/System/Library/Fonts/Supplemental/Arial Bold Italic.ttf',\n",
       " '/System/Library/Fonts/Supplemental/NotoSansTakri-Regular.ttf',\n",
       " '/System/Library/Fonts/Supplemental/Zapfino.ttf',\n",
       " '/System/Library/Fonts/ヒラギノ角ゴシック W0.ttc',\n",
       " '/System/Library/Fonts/Supplemental/Kailasa.ttc',\n",
       " '/System/Library/Fonts/ヒラギノ角ゴシック W7.ttc',\n",
       " '/System/Library/Fonts/Supplemental/Kannada Sangam MN.ttc',\n",
       " '/System/Library/Fonts/PingFang.ttc',\n",
       " '/System/Library/Fonts/Supplemental/Bodoni 72 Smallcaps Book.ttf',\n",
       " '/System/Library/Fonts/Supplemental/Malayalam MN.ttc',\n",
       " '/System/Library/Fonts/Supplemental/Baskerville.ttc',\n",
       " '/System/Library/Fonts/Supplemental/Farisi.ttf',\n",
       " '/System/Library/Fonts/Supplemental/Arial Narrow Italic.ttf',\n",
       " '/System/Library/Fonts/Supplemental/NotoSansOldPermic-Regular.ttf',\n",
       " '/System/Library/Fonts/Supplemental/Kannada MN.ttc',\n",
       " '/System/Library/Fonts/Supplemental/NotoSansTaiViet-Regular.ttf',\n",
       " '/System/Library/Fonts/Supplemental/Gurmukhi Sangam MN.ttc',\n",
       " '/System/Library/Fonts/Supplemental/Academy Engraved LET Fonts.ttf',\n",
       " '/System/Library/Fonts/Supplemental/Mshtakan.ttc',\n",
       " '/System/Library/Fonts/Supplemental/NotoSansTagbanwa-Regular.ttf',\n",
       " '/System/Library/Fonts/Supplemental/Arial Rounded Bold.ttf',\n",
       " '/System/Library/Fonts/Apple Braille Outline 6 Dot.ttf',\n",
       " '/System/Library/Fonts/Supplemental/Diwan Thuluth.ttf',\n",
       " '/System/Library/Fonts/Supplemental/Marion.ttc',\n",
       " '/System/Library/Fonts/Supplemental/STIXGeneral.otf',\n",
       " '/System/Library/Fonts/Supplemental/NotoSansCham-Regular.ttf',\n",
       " '/System/Library/Fonts/Supplemental/Trattatello.ttf',\n",
       " '/System/Library/Fonts/Supplemental/ChalkboardSE.ttc',\n",
       " '/System/Library/Fonts/Supplemental/NotoSansMro-Regular.ttf',\n",
       " '/System/Library/Fonts/Supplemental/Phosphate.ttc',\n",
       " '/System/Library/Fonts/Supplemental/Arial Bold.ttf',\n",
       " '/System/Library/Fonts/Supplemental/NotoSansInscriptionalPahlavi-Regular.ttf',\n",
       " '/System/Library/Fonts/Supplemental/Futura.ttc',\n",
       " '/System/Library/Fonts/Supplemental/GillSans.ttc',\n",
       " '/System/Library/Fonts/Supplemental/Comic Sans MS Bold.ttf',\n",
       " '/System/Library/Fonts/Supplemental/Microsoft Sans Serif.ttf',\n",
       " '/System/Library/Fonts/Supplemental/NotoSansCuneiform-Regular.ttf',\n",
       " '/System/Library/Fonts/Supplemental/Chalkduster.ttf',\n",
       " '/System/Library/Fonts/NotoSansArmenian.ttc',\n",
       " '/System/Library/Fonts/Supplemental/NotoSansCypriot-Regular.ttf',\n",
       " '/System/Library/Fonts/Supplemental/EuphemiaCAS.ttc',\n",
       " '/System/Library/Fonts/Supplemental/Bodoni 72 OS.ttc',\n",
       " '/System/Library/Fonts/Supplemental/AlBayan.ttc',\n",
       " '/System/Library/Fonts/Supplemental/Krungthep.ttf',\n",
       " '/System/Library/Fonts/Supplemental/STIXIntUpSmBol.otf',\n",
       " '/System/Library/Fonts/Supplemental/Hoefler Text.ttc',\n",
       " '/System/Library/Fonts/Supplemental/Corsiva.ttc',\n",
       " '/System/Library/Fonts/Supplemental/NotoSansLisu-Regular.ttf',\n",
       " '/System/Library/Fonts/Supplemental/Arial Narrow.ttf',\n",
       " '/System/Library/Fonts/Geneva.ttf',\n",
       " '/System/Library/Fonts/Supplemental/STIXNonUniBol.otf',\n",
       " '/System/Library/Fonts/Avenir Next Condensed.ttc',\n",
       " '/System/Library/Fonts/Supplemental/Georgia Bold Italic.ttf',\n",
       " '/System/Library/Fonts/NotoSansMyanmar.ttc',\n",
       " '/System/Library/Fonts/Supplemental/Muna.ttc',\n",
       " '/System/Library/Fonts/Supplemental/Georgia Italic.ttf',\n",
       " '/System/Library/Fonts/Supplemental/AppleGothic.ttf',\n",
       " '/System/Library/Fonts/Supplemental/Tahoma.ttf',\n",
       " '/System/Library/Fonts/Supplemental/NotoSerifBalinese-Regular.ttf',\n",
       " '/System/Library/Fonts/Supplemental/NotoSansBrahmi-Regular.ttf',\n",
       " '/System/Library/Fonts/Supplemental/Sinhala MN.ttc',\n",
       " '/System/Library/Fonts/Supplemental/NotoSansModi-Regular.ttf',\n",
       " '/System/Library/Fonts/AquaKana.ttc',\n",
       " '/System/Library/Fonts/Supplemental/NotoSansLinearA-Regular.ttf',\n",
       " '/System/Library/Fonts/Supplemental/STIXSizFourSymReg.otf',\n",
       " '/System/Library/Fonts/Optima.ttc',\n",
       " '/System/Library/Fonts/NotoNastaliq.ttc',\n",
       " '/System/Library/Fonts/HelveticaNeue.ttc',\n",
       " '/System/Library/Fonts/Supplemental/Arial Unicode.ttf',\n",
       " '/System/Library/Fonts/Supplemental/Impact.ttf',\n",
       " '/System/Library/Fonts/Supplemental/Oriya MN.ttc',\n",
       " '/System/Library/Fonts/Supplemental/NotoSansMendeKikakui-Regular.ttf',\n",
       " '/System/Library/Fonts/Supplemental/NotoSansVai-Regular.ttf',\n",
       " '/System/Library/Fonts/SFNSMonoItalic.ttf',\n",
       " '/System/Library/Fonts/Keyboard.ttf',\n",
       " '/System/Library/Fonts/KohinoorBangla.ttc',\n",
       " '/System/Library/Fonts/Supplemental/NotoSansOldHungarian-Regular.ttf',\n",
       " '/System/Library/Fonts/Supplemental/Gurmukhi MN.ttc',\n",
       " '/System/Library/Fonts/Supplemental/Myanmar Sangam MN.ttc',\n",
       " '/System/Library/Fonts/Supplemental/Seravek.ttc',\n",
       " '/System/Library/Fonts/Supplemental/Galvji.ttc',\n",
       " '/System/Library/Fonts/SFCompact.ttf',\n",
       " '/System/Library/Fonts/Supplemental/NotoSansPalmyrene-Regular.ttf',\n",
       " '/System/Library/Fonts/Supplemental/Diwan Kufi.ttc',\n",
       " '/System/Library/Fonts/Supplemental/Al Tarikh.ttc',\n",
       " '/System/Library/Fonts/Supplemental/NotoSansWancho-Regular.ttf',\n",
       " '/System/Library/Fonts/Supplemental/NotoSansMeroitic-Regular.ttf',\n",
       " '/System/Library/Fonts/Supplemental/Verdana Italic.ttf',\n",
       " '/System/Library/Fonts/Supplemental/Silom.ttf',\n",
       " '/System/Library/Fonts/Supplemental/Georgia Bold.ttf',\n",
       " '/System/Library/Fonts/Supplemental/Waseem.ttc',\n",
       " '/System/Library/Fonts/Supplemental/NotoSansThaana-Regular.ttf',\n",
       " '/System/Library/Fonts/Supplemental/NotoSansOldSouthArabian-Regular.ttf',\n",
       " '/System/Library/Fonts/Supplemental/Skia.ttf',\n",
       " '/System/Library/Fonts/Supplemental/Courier New Bold Italic.ttf',\n",
       " '/System/Library/Fonts/Supplemental/Al Nile.ttc',\n",
       " '/System/Library/Fonts/Supplemental/Telugu MN.ttc',\n",
       " '/System/Library/Fonts/Supplemental/NotoSansInscriptionalParthian-Regular.ttf',\n",
       " '/System/Library/Fonts/Supplemental/NotoSansHanifiRohingya-Regular.ttf',\n",
       " '/System/Library/Fonts/ヒラギノ角ゴシック W6.ttc',\n",
       " '/System/Library/Fonts/Supplemental/Times New Roman Italic.ttf',\n",
       " '/System/Library/Fonts/Supplemental/STIXSizOneSymBol.otf',\n",
       " '/System/Library/Fonts/Supplemental/Times New Roman.ttf',\n",
       " '/System/Library/Fonts/SFCompactRounded.ttf',\n",
       " '/System/Library/Fonts/Supplemental/Verdana Bold Italic.ttf',\n",
       " '/System/Library/Fonts/SFCompactItalic.ttf',\n",
       " '/System/Library/Fonts/Supplemental/STIXIntDBol.otf',\n",
       " '/System/Library/Fonts/Supplemental/AmericanTypewriter.ttc',\n",
       " '/System/Library/Fonts/Supplemental/NotoSansBhaiksuki-Regular.ttf',\n",
       " '/System/Library/Fonts/Supplemental/NotoSansTagalog-Regular.ttf',\n",
       " '/System/Library/Fonts/Supplemental/NotoSansTaiLe-Regular.ttf',\n",
       " '/System/Library/Fonts/Menlo.ttc',\n",
       " '/System/Library/Fonts/Supplemental/NotoSerifAhom-Regular.ttf',\n",
       " '/System/Library/Fonts/Supplemental/NotoSansMasaramGondi-Regular.otf',\n",
       " '/System/Library/Fonts/Supplemental/Bradley Hand Bold.ttf',\n",
       " '/System/Library/Fonts/Supplemental/Khmer Sangam MN.ttf',\n",
       " '/System/Library/Fonts/Symbol.ttf',\n",
       " '/System/Library/Fonts/Supplemental/DIN Condensed Bold.ttf',\n",
       " '/System/Library/Fonts/Supplemental/Hoefler Text Ornaments.ttf',\n",
       " '/System/Library/Fonts/Supplemental/Farah.ttc',\n",
       " '/System/Library/Fonts/Supplemental/NotoSansJavanese-Regular.otf',\n",
       " '/System/Library/Fonts/MuktaMahee.ttc',\n",
       " '/System/Library/Fonts/Supplemental/NotoSansKharoshthi-Regular.ttf',\n",
       " '/System/Library/Fonts/Supplemental/NotoSansPauCinHau-Regular.ttf',\n",
       " '/System/Library/Fonts/Supplemental/Trebuchet MS Bold.ttf',\n",
       " '/System/Library/Fonts/Supplemental/NotoSansMandaic-Regular.ttf',\n",
       " '/System/Library/Fonts/Supplemental/STIXIntUpDBol.otf',\n",
       " '/System/Library/Fonts/Apple Braille Pinpoint 8 Dot.ttf',\n",
       " '/System/Library/Fonts/Supplemental/NotoSansPhoenician-Regular.ttf',\n",
       " '/System/Library/Fonts/ヒラギノ角ゴシック W9.ttc',\n",
       " '/System/Library/Fonts/Supplemental/NotoSansBamum-Regular.ttf',\n",
       " '/System/Library/Fonts/SFNSMono.ttf',\n",
       " '/System/Library/Fonts/Noteworthy.ttc',\n",
       " '/System/Library/Fonts/Supplemental/PTSerifCaption.ttc',\n",
       " '/System/Library/Fonts/Supplemental/Arial Narrow Bold Italic.ttf',\n",
       " '/System/Library/Fonts/GeezaPro.ttc',\n",
       " '/System/Library/Fonts/Supplemental/Telugu Sangam MN.ttc',\n",
       " '/System/Library/Fonts/Supplemental/Apple Chancery.ttf',\n",
       " '/System/Library/Fonts/Supplemental/NotoSansDuployan-Regular.ttf',\n",
       " '/System/Library/Fonts/Supplemental/GujaratiMT.ttc',\n",
       " '/System/Library/Fonts/Supplemental/Comic Sans MS.ttf',\n",
       " '/System/Library/Fonts/Supplemental/Chalkboard.ttc',\n",
       " '/System/Library/Fonts/Supplemental/NotoSansGlagolitic-Regular.ttf',\n",
       " '/System/Library/Fonts/ヒラギノ角ゴシック W4.ttc',\n",
       " '/System/Library/Fonts/Supplemental/NotoSansLinearB-Regular.ttf',\n",
       " '/System/Library/Fonts/Supplemental/PartyLET-plain.ttf',\n",
       " '/System/Library/Fonts/Supplemental/NotoSansPhagsPa-Regular.ttf']"
      ]
     },
     "execution_count": 132,
     "metadata": {},
     "output_type": "execute_result"
    }
   ],
   "source": [
    "font_list"
   ]
  },
  {
   "cell_type": "code",
   "execution_count": 133,
   "id": "0e76f152",
   "metadata": {},
   "outputs": [
    {
     "data": {
      "text/plain": [
       "353"
      ]
     },
     "execution_count": 133,
     "metadata": {},
     "output_type": "execute_result"
    }
   ],
   "source": [
    "len(font_list)"
   ]
  },
  {
   "cell_type": "code",
   "execution_count": 145,
   "id": "b3948821",
   "metadata": {},
   "outputs": [
    {
     "name": "stdout",
     "output_type": "stream",
     "text": [
      "/System/Library/Fonts/AppleSDGothicNeo.ttc\n"
     ]
    }
   ],
   "source": [
    "for f in font_list:\n",
    "    if 'Neo' in f: #맥에 있는 한글 글꼴\n",
    "        print(f)"
   ]
  },
  {
   "cell_type": "code",
   "execution_count": 146,
   "id": "dc3aeb35",
   "metadata": {},
   "outputs": [
    {
     "data": {
      "text/plain": [
       "'Apple SD Gothic Neo'"
      ]
     },
     "execution_count": 146,
     "metadata": {},
     "output_type": "execute_result"
    }
   ],
   "source": [
    "fm.FontProperties(fname = '/System/Library/Fonts/AppleSDGothicNeo.ttc').get_name()"
   ]
  },
  {
   "cell_type": "code",
   "execution_count": 147,
   "id": "ab5db21b",
   "metadata": {},
   "outputs": [
    {
     "name": "stdout",
     "output_type": "stream",
     "text": [
      "Athelas\n",
      "Cochin\n",
      "Noto Sans Ugaritic\n",
      "Lao Sangam MN\n",
      "Courier New\n",
      "Arial Hebrew\n",
      "Noto Sans Mahajani\n",
      "Noto Sans Samaritan\n",
      "Shree Devanagari 714\n",
      "Charter\n",
      "Myanmar MN\n",
      "Courier New\n",
      "Noto Sans New Tai Lue\n",
      ".New York\n",
      "Noto Sans Yi\n",
      "Arial Narrow\n",
      "Khmer MN\n",
      "Hiragino Sans\n",
      "STIXIntegralsUp\n",
      "STIXIntegralsD\n",
      "Verdana\n",
      "Noto Sans Miao\n",
      "System Font\n",
      "STIXVariants\n",
      "SignPainter\n",
      "Noto Sans Hanunoo\n",
      "Mishafi Gold\n",
      "Apple Braille\n",
      "Hiragino Sans\n",
      "STIXIntegralsSm\n",
      "Helvetica\n",
      "Copperplate\n",
      "Times\n",
      "Courier New\n",
      "STIXVariants\n",
      "Apple Symbols\n",
      "DIN Alternate\n",
      "Gujarati Sangam MN\n",
      "Hiragino Sans\n",
      "Trebuchet MS\n",
      "Noto Sans Khudawadi\n",
      "Noto Sans Coptic\n",
      "Noto Serif Yezidi\n",
      "Noto Sans Ol Chiki\n",
      "STIXSizeFourSym\n",
      ".LastResort\n",
      "System Font\n",
      "Noto Sans Kayah Li\n",
      "Zapf Dingbats\n",
      "Noto Sans Rejang\n",
      "Noto Sans Warang Citi\n",
      "Raanana\n",
      "STIXGeneral\n",
      ".New York\n",
      "Bodoni Ornaments\n",
      "Times New Roman\n"
     ]
    },
    {
     "ename": "RuntimeError",
     "evalue": "In FT2Font: Could not set the fontsize (error code 0x17)",
     "output_type": "error",
     "traceback": [
      "\u001b[0;31m---------------------------------------------------------------------------\u001b[0m",
      "\u001b[0;31mRuntimeError\u001b[0m                              Traceback (most recent call last)",
      "\u001b[0;32m/var/folders/tk/_xgwj1jx765d70vyp9fbnn140000gn/T/ipykernel_1451/1231955337.py\u001b[0m in \u001b[0;36m<module>\u001b[0;34m\u001b[0m\n\u001b[1;32m      1\u001b[0m \u001b[0;32mfor\u001b[0m \u001b[0mf\u001b[0m \u001b[0;32min\u001b[0m \u001b[0mfont_list\u001b[0m\u001b[0;34m:\u001b[0m\u001b[0;34m\u001b[0m\u001b[0;34m\u001b[0m\u001b[0m\n\u001b[0;32m----> 2\u001b[0;31m     \u001b[0mprint\u001b[0m\u001b[0;34m(\u001b[0m\u001b[0mfm\u001b[0m\u001b[0;34m.\u001b[0m\u001b[0mFontProperties\u001b[0m\u001b[0;34m(\u001b[0m\u001b[0mfname\u001b[0m\u001b[0;34m=\u001b[0m\u001b[0mf\u001b[0m\u001b[0;34m)\u001b[0m\u001b[0;34m.\u001b[0m\u001b[0mget_name\u001b[0m\u001b[0;34m(\u001b[0m\u001b[0;34m)\u001b[0m\u001b[0;34m)\u001b[0m\u001b[0;34m\u001b[0m\u001b[0;34m\u001b[0m\u001b[0m\n\u001b[0m",
      "\u001b[0;32m~/opt/anaconda3/envs/vrconda/lib/python3.7/site-packages/matplotlib/font_manager.py\u001b[0m in \u001b[0;36mget_name\u001b[0;34m(self)\u001b[0m\n\u001b[1;32m    735\u001b[0m         \u001b[0mReturn\u001b[0m \u001b[0mthe\u001b[0m \u001b[0mname\u001b[0m \u001b[0mof\u001b[0m \u001b[0mthe\u001b[0m \u001b[0mfont\u001b[0m \u001b[0mthat\u001b[0m \u001b[0mbest\u001b[0m \u001b[0mmatches\u001b[0m \u001b[0mthe\u001b[0m \u001b[0mfont\u001b[0m \u001b[0mproperties\u001b[0m\u001b[0;34m.\u001b[0m\u001b[0;34m\u001b[0m\u001b[0;34m\u001b[0m\u001b[0m\n\u001b[1;32m    736\u001b[0m         \"\"\"\n\u001b[0;32m--> 737\u001b[0;31m         \u001b[0;32mreturn\u001b[0m \u001b[0mget_font\u001b[0m\u001b[0;34m(\u001b[0m\u001b[0mfindfont\u001b[0m\u001b[0;34m(\u001b[0m\u001b[0mself\u001b[0m\u001b[0;34m)\u001b[0m\u001b[0;34m)\u001b[0m\u001b[0;34m.\u001b[0m\u001b[0mfamily_name\u001b[0m\u001b[0;34m\u001b[0m\u001b[0;34m\u001b[0m\u001b[0m\n\u001b[0m\u001b[1;32m    738\u001b[0m \u001b[0;34m\u001b[0m\u001b[0m\n\u001b[1;32m    739\u001b[0m     \u001b[0;32mdef\u001b[0m \u001b[0mget_style\u001b[0m\u001b[0;34m(\u001b[0m\u001b[0mself\u001b[0m\u001b[0;34m)\u001b[0m\u001b[0;34m:\u001b[0m\u001b[0;34m\u001b[0m\u001b[0;34m\u001b[0m\u001b[0m\n",
      "\u001b[0;32m~/opt/anaconda3/envs/vrconda/lib/python3.7/site-packages/matplotlib/font_manager.py\u001b[0m in \u001b[0;36mget_font\u001b[0;34m(filename, hinting_factor)\u001b[0m\n\u001b[1;32m   1424\u001b[0m     return _get_font(filename, hinting_factor,\n\u001b[1;32m   1425\u001b[0m                      \u001b[0m_kerning_factor\u001b[0m\u001b[0;34m=\u001b[0m\u001b[0mrcParams\u001b[0m\u001b[0;34m[\u001b[0m\u001b[0;34m'text.kerning_factor'\u001b[0m\u001b[0;34m]\u001b[0m\u001b[0;34m,\u001b[0m\u001b[0;34m\u001b[0m\u001b[0;34m\u001b[0m\u001b[0m\n\u001b[0;32m-> 1426\u001b[0;31m                      thread_id=threading.get_ident())\n\u001b[0m\u001b[1;32m   1427\u001b[0m \u001b[0;34m\u001b[0m\u001b[0m\n\u001b[1;32m   1428\u001b[0m \u001b[0;34m\u001b[0m\u001b[0m\n",
      "\u001b[0;32m~/opt/anaconda3/envs/vrconda/lib/python3.7/site-packages/matplotlib/font_manager.py\u001b[0m in \u001b[0;36m_get_font\u001b[0;34m(filename, hinting_factor, _kerning_factor, thread_id)\u001b[0m\n\u001b[1;32m   1404\u001b[0m \u001b[0;32mdef\u001b[0m \u001b[0m_get_font\u001b[0m\u001b[0;34m(\u001b[0m\u001b[0mfilename\u001b[0m\u001b[0;34m,\u001b[0m \u001b[0mhinting_factor\u001b[0m\u001b[0;34m,\u001b[0m \u001b[0;34m*\u001b[0m\u001b[0;34m,\u001b[0m \u001b[0m_kerning_factor\u001b[0m\u001b[0;34m,\u001b[0m \u001b[0mthread_id\u001b[0m\u001b[0;34m)\u001b[0m\u001b[0;34m:\u001b[0m\u001b[0;34m\u001b[0m\u001b[0;34m\u001b[0m\u001b[0m\n\u001b[1;32m   1405\u001b[0m     return ft2font.FT2Font(\n\u001b[0;32m-> 1406\u001b[0;31m         filename, hinting_factor, _kerning_factor=_kerning_factor)\n\u001b[0m\u001b[1;32m   1407\u001b[0m \u001b[0;34m\u001b[0m\u001b[0m\n\u001b[1;32m   1408\u001b[0m \u001b[0;34m\u001b[0m\u001b[0m\n",
      "\u001b[0;31mRuntimeError\u001b[0m: In FT2Font: Could not set the fontsize (error code 0x17)"
     ]
    }
   ],
   "source": [
    "for f in font_list:\n",
    "    print(fm.FontProperties(fname=f).get_name())"
   ]
  },
  {
   "cell_type": "code",
   "execution_count": 148,
   "id": "b2dcef8c",
   "metadata": {},
   "outputs": [
    {
     "data": {
      "image/png": "[encoded data removed]",
      "text/plain": [
       "<Figure size 432x288 with 1 Axes>"
      ]
     },
     "metadata": {
      "needs_background": "light"
     },
     "output_type": "display_data"
    }
   ],
   "source": [
    "plt.rcParams['font.family'] = 'Apple SD Gothic Neo'\n",
    "plt.rcParams['font.size'] = 14\n",
    "plt.plot(['a','b','c','d','e','f','g'],[1,3,8,2,9,5,7])\n",
    "plt.xlabel('공부한 시간')\n",
    "plt.ylabel('성적')\n",
    "plt.title('공부시간과 성적의 연관관계')\n",
    "plt.show()"
   ]
  },
  {
   "cell_type": "code",
   "execution_count": 151,
   "id": "357c0280",
   "metadata": {},
   "outputs": [
    {
     "data": {
      "image/png": "[encoded data removed]",
      "text/plain": [
       "<Figure size 432x288 with 1 Axes>"
      ]
     },
     "metadata": {
      "needs_background": "light"
     },
     "output_type": "display_data"
    }
   ],
   "source": [
    "plt.rcParams['font.family'] = 'Apple SD Gothic Neo'\n",
    "plt.rcParams['font.size'] = 14\n",
    "plt.plot(['a','b','c','d','e','f','g'],[1,3,8,2,9,5,7],'rD:')\n",
    "plt.xlabel('공부한 시간')\n",
    "plt.ylabel('성적')\n",
    "plt.title('공부시간과 성적의 연관관계')\n",
    "plt.show()"
   ]
  },
  {
   "cell_type": "code",
   "execution_count": 174,
   "id": "733ee15c",
   "metadata": {},
   "outputs": [
    {
     "data": {
      "image/png": "[encoded data removed]",
      "text/plain": [
       "<Figure size 432x288 with 1 Axes>"
      ]
     },
     "metadata": {
      "needs_background": "light"
     },
     "output_type": "display_data"
    }
   ],
   "source": [
    "plt.rcParams['font.family'] = 'Apple SD Gothic Neo'\n",
    "plt.rcParams['font.size'] = 14\n",
    "plt.plot(['a','b','c','d','e','f','g'],[1,3,8,2,9,5,7],'k^-.')\n",
    "plt.xlabel('공부한 시간')\n",
    "plt.ylabel('성적')\n",
    "plt.title('공부시간과 성적의 연관관계')\n",
    "plt.show()"
   ]
  },
  {
   "cell_type": "code",
   "execution_count": 155,
   "id": "c5aeed5e",
   "metadata": {},
   "outputs": [],
   "source": [
    "import numpy as np\n",
    "x = np.arange(10)\n",
    "y = np.arange(0,100,10)"
   ]
  },
  {
   "cell_type": "code",
   "execution_count": 166,
   "id": "90ac3e13",
   "metadata": {},
   "outputs": [
    {
     "data": {
      "image/png": "[encoded data removed]",
      "text/plain": [
       "<Figure size 432x288 with 1 Axes>"
      ]
     },
     "metadata": {
      "needs_background": "light"
     },
     "output_type": "display_data"
    }
   ],
   "source": [
    "plt.plot(x,y)\n",
    "plt.xticks(np.arange(0,10,0.5))\n",
    "plt.yticks([20,60,90])\n",
    "plt.grid()\n",
    "plt.show()"
   ]
  },
  {
   "cell_type": "code",
   "execution_count": 172,
   "id": "864f4a1a",
   "metadata": {},
   "outputs": [
    {
     "data": {
      "image/png": "[encoded data removed]",
      "text/plain": [
       "<Figure size 432x288 with 1 Axes>"
      ]
     },
     "metadata": {
      "needs_background": "light"
     },
     "output_type": "display_data"
    }
   ],
   "source": [
    "plt.plot(x,y,color='red', linestyle='--', linewidth=3, marker='<', markersize=10, mfc='green', markeredgecolor='blue')\n",
    "plt.show()"
   ]
  },
  {
   "cell_type": "code",
   "execution_count": 179,
   "id": "6edfd39d",
   "metadata": {},
   "outputs": [
    {
     "data": {
      "image/png": "[encoded data removed]",
      "text/plain": [
       "<Figure size 432x288 with 1 Axes>"
      ]
     },
     "metadata": {
      "needs_background": "light"
     },
     "output_type": "display_data"
    }
   ],
   "source": [
    "plt.figure(figsize=(6,4)) #인치단위\n",
    "plt.plot(x,y,'g-.h', label='바람')\n",
    "plt.plot(x,x**2,'k:D', label='강수량')\n",
    "plt.plot(x,x*y,'r-->', label='기온')\n",
    "plt.legend()\n",
    "plt.show()"
   ]
  },
  {
   "cell_type": "code",
   "execution_count": 181,
   "id": "7149724f",
   "metadata": {},
   "outputs": [
    {
     "data": {
      "image/png": "[encoded data removed]",
      "text/plain": [
       "<Figure size 1800x1200 with 1 Axes>"
      ]
     },
     "metadata": {
      "needs_background": "light"
     },
     "output_type": "display_data"
    }
   ],
   "source": [
    "plt.figure(figsize=(6,4), dpi=300)\n",
    "plt.plot(x,y,'g-.h', label='바람')\n",
    "plt.plot(x,x**2,'k:D', label='강수량')\n",
    "plt.plot(x,x*y,'r-->', label='기온')\n",
    "plt.legend()\n",
    "plt.savefig('testgraph.png', dpi=200) #그림을 이미지 파일로 저장\n",
    "plt.show()"
   ]
  },
  {
   "cell_type": "markdown",
   "id": "b88cbda8",
   "metadata": {},
   "source": [
    "### 막대그래프"
   ]
  },
  {
   "cell_type": "code",
   "execution_count": 186,
   "id": "63d6cb1d",
   "metadata": {},
   "outputs": [
    {
     "data": {
      "image/png": "[encoded data removed]",
      "text/plain": [
       "<Figure size 432x288 with 1 Axes>"
      ]
     },
     "metadata": {
      "needs_background": "light"
     },
     "output_type": "display_data"
    }
   ],
   "source": [
    "labels = ['a','b','c']\n",
    "values = [10,60,30]\n",
    "\n",
    "bars = plt.bar(labels, values, width=0.4)\n",
    "bars[0].set_hatch('x')\n",
    "bars[1].set_hatch('-')\n",
    "bars[2].set_hatch('\\\\')\n",
    "plt.show()"
   ]
  },
  {
   "cell_type": "markdown",
   "id": "87765513",
   "metadata": {},
   "source": [
    "### scatter graph"
   ]
  },
  {
   "cell_type": "code",
   "execution_count": 190,
   "id": "b1cb8c3d",
   "metadata": {},
   "outputs": [
    {
     "data": {
      "image/png": "[encoded data removed]",
      "text/plain": [
       "<Figure size 432x288 with 1 Axes>"
      ]
     },
     "metadata": {
      "needs_background": "light"
     },
     "output_type": "display_data"
    }
   ],
   "source": [
    "plt.scatter(10,20, s=300, c='green')\n",
    "plt.show()"
   ]
  },
  {
   "cell_type": "code",
   "execution_count": 194,
   "id": "90188c46",
   "metadata": {},
   "outputs": [
    {
     "data": {
      "image/png": "[encoded data removed]",
      "text/plain": [
       "<Figure size 432x288 with 1 Axes>"
      ]
     },
     "metadata": {
      "needs_background": "light"
     },
     "output_type": "display_data"
    }
   ],
   "source": [
    "x=np.arange(0,20,2)\n",
    "plt.scatter(x,x**2,s=x*10,c=x*30)\n",
    "plt.text(10,100,'매우 중요한 값')\n",
    "plt.grid()\n",
    "plt.show()"
   ]
  },
  {
   "cell_type": "code",
   "execution_count": 195,
   "id": "01a4aa33",
   "metadata": {},
   "outputs": [],
   "source": [
    "graph_data={\n",
    "    'a':np.arange(50),\n",
    "    'c':np.random.randint(0,50,50),\n",
    "    'd':np.random.randn(50)\n",
    "}"
   ]
  },
  {
   "cell_type": "code",
   "execution_count": 196,
   "id": "d5e0360a",
   "metadata": {},
   "outputs": [
    {
     "data": {
      "text/plain": [
       "{'a': array([ 0,  1,  2,  3,  4,  5,  6,  7,  8,  9, 10, 11, 12, 13, 14, 15, 16,\n",
       "        17, 18, 19, 20, 21, 22, 23, 24, 25, 26, 27, 28, 29, 30, 31, 32, 33,\n",
       "        34, 35, 36, 37, 38, 39, 40, 41, 42, 43, 44, 45, 46, 47, 48, 49]),\n",
       " 'c': array([39, 14, 18, 38,  2, 44, 44, 34,  1, 10,  0, 47, 43, 43, 12,  8, 12,\n",
       "         8, 41, 46,  3, 45, 12,  2, 34, 19, 23,  1, 24, 39,  2, 25, 25, 47,\n",
       "        29, 18, 18, 49, 12,  2, 34, 30, 13, 11, 13, 19, 21, 32, 32, 17]),\n",
       " 'd': array([-1.13269989,  1.20505268,  1.15430219,  0.69584834, -0.26042527,\n",
       "         1.24484218,  0.47416105,  0.29825847,  0.90945071,  0.69566459,\n",
       "         0.96374343,  1.0558048 ,  1.46850849,  0.67388338, -0.01953553,\n",
       "        -0.30299933,  0.00270843, -1.3193287 , -1.22924478, -1.41363524,\n",
       "         0.67953919,  0.47746414, -0.16400715,  0.71807354,  0.34181806,\n",
       "        -0.65756645,  1.35968658,  0.65765415, -0.02466658,  0.40386661,\n",
       "        -1.25333661, -0.09246507, -0.3161268 , -1.37885192, -1.28483194,\n",
       "         0.54672908,  0.88322475, -0.55050958,  0.39819194,  2.39934064,\n",
       "         0.47321114, -0.7672898 , -0.90428584, -1.42610684,  1.10679133,\n",
       "         0.52924955, -1.49995427,  1.07071058,  0.01593534, -2.23336451])}"
      ]
     },
     "execution_count": 196,
     "metadata": {},
     "output_type": "execute_result"
    }
   ],
   "source": [
    "graph_data"
   ]
  },
  {
   "cell_type": "code",
   "execution_count": 197,
   "id": "52a523f3",
   "metadata": {},
   "outputs": [],
   "source": [
    "graph_data['b'] = graph_data['a']+10*np.random.randn(50)"
   ]
  },
  {
   "cell_type": "code",
   "execution_count": 198,
   "id": "88ba992d",
   "metadata": {},
   "outputs": [],
   "source": [
    "graph_data['d'] = np.abs(graph_data['d']*100)"
   ]
  },
  {
   "cell_type": "code",
   "execution_count": 200,
   "id": "9e6202b4",
   "metadata": {},
   "outputs": [
    {
     "data": {
      "text/plain": [
       "{'a': array([ 0,  1,  2,  3,  4,  5,  6,  7,  8,  9, 10, 11, 12, 13, 14, 15, 16,\n",
       "        17, 18, 19, 20, 21, 22, 23, 24, 25, 26, 27, 28, 29, 30, 31, 32, 33,\n",
       "        34, 35, 36, 37, 38, 39, 40, 41, 42, 43, 44, 45, 46, 47, 48, 49]),\n",
       " 'c': array([39, 14, 18, 38,  2, 44, 44, 34,  1, 10,  0, 47, 43, 43, 12,  8, 12,\n",
       "         8, 41, 46,  3, 45, 12,  2, 34, 19, 23,  1, 24, 39,  2, 25, 25, 47,\n",
       "        29, 18, 18, 49, 12,  2, 34, 30, 13, 11, 13, 19, 21, 32, 32, 17]),\n",
       " 'd': array([113.2699893 , 120.50526763, 115.43021855,  69.58483361,\n",
       "         26.04252672, 124.48421831,  47.41610452,  29.82584653,\n",
       "         90.94507075,  69.56645923,  96.37434293, 105.58047992,\n",
       "        146.85084916,  67.3883377 ,   1.95355291,  30.2999333 ,\n",
       "          0.27084336, 131.93287018, 122.92447754, 141.36352428,\n",
       "         67.95391872,  47.74641377,  16.40071507,  71.80735372,\n",
       "         34.18180561,  65.75664471, 135.96865788,  65.76541523,\n",
       "          2.46665783,  40.38666127, 125.33366119,   9.24650715,\n",
       "         31.61268036, 137.88519153, 128.48319401,  54.6729076 ,\n",
       "         88.32247495,  55.05095845,  39.81919374, 239.93406361,\n",
       "         47.32111444,  76.72898006,  90.42858366, 142.61068438,\n",
       "        110.67913327,  52.92495524, 149.99542682, 107.07105802,\n",
       "          1.59353403, 223.3364509 ]),\n",
       " 'b': array([-7.98127833, 21.60583894, -8.46541874,  1.93951011,  0.7553823 ,\n",
       "        -5.63273297,  6.50671189, 13.88085291,  8.54918767, -9.34571559,\n",
       "        24.93929773, 13.00238203, 18.04345184, 27.08218789, 27.68088113,\n",
       "         9.58055366, 18.68845027, 13.91104497,  9.29534755, 27.34466485,\n",
       "        27.27841001,  4.68768424, 23.79060687, 23.97862755, 22.66000126,\n",
       "        22.28738601, 27.21761912, 30.00161659, 17.50410986,  7.33317879,\n",
       "        18.85148287, 18.22770741, 33.4831719 , 31.39324467, 52.16517645,\n",
       "        45.55859541, 21.11017959, 26.763081  , 56.35907515, 37.6023764 ,\n",
       "        50.72354276, 31.90967484, 30.95064762, 27.21091875, 33.24147923,\n",
       "        41.03532949, 49.72920183, 57.83161478, 53.635895  , 57.04931332])}"
      ]
     },
     "execution_count": 200,
     "metadata": {},
     "output_type": "execute_result"
    }
   ],
   "source": [
    "graph_data"
   ]
  },
  {
   "cell_type": "code",
   "execution_count": 203,
   "id": "3617a627",
   "metadata": {},
   "outputs": [
    {
     "data": {
      "image/png": "[encoded data removed]",
      "text/plain": [
       "<Figure size 432x288 with 2 Axes>"
      ]
     },
     "metadata": {
      "needs_background": "light"
     },
     "output_type": "display_data"
    }
   ],
   "source": [
    "plt.scatter('a','b',c='c',s='d',data=graph_data)\n",
    "plt.colorbar()\n",
    "plt.show()"
   ]
  },
  {
   "cell_type": "markdown",
   "id": "66cc9284",
   "metadata": {},
   "source": [
    "### subplot 그리기"
   ]
  },
  {
   "cell_type": "code",
   "execution_count": 208,
   "id": "d5a7a7ec",
   "metadata": {},
   "outputs": [
    {
     "data": {
      "image/png": "[encoded data removed]",
      "text/plain": [
       "<Figure size 900x600 with 3 Axes>"
      ]
     },
     "metadata": {
      "needs_background": "light"
     },
     "output_type": "display_data"
    }
   ],
   "source": [
    "names= ['a','b','c']\n",
    "values = np.array([10,100,50])\n",
    "plt.figure(figsize=(9,6),dpi=100)\n",
    "\n",
    "plt.subplot(1,3,1)\n",
    "plt.plot(names, values,'r-')\n",
    "plt.plot(names, values*3,'g:')\n",
    "plt.title('(a)AAA')\n",
    "\n",
    "plt.subplot(1,3,2)\n",
    "plt.plot(names, values)\n",
    "plt.title('(b)BBB')\n",
    "\n",
    "plt.subplot(133) #1,3,3\n",
    "plt.bar(names, values)\n",
    "plt.title('(c)CCC')\n",
    "\n",
    "plt.suptitle('그래프 예제')\n",
    "plt.show()"
   ]
  },
  {
   "cell_type": "code",
   "execution_count": 209,
   "id": "49f52a6f",
   "metadata": {},
   "outputs": [
    {
     "data": {
      "image/png": "[encoded data removed]",
      "text/plain": [
       "<Figure size 432x288 with 1 Axes>"
      ]
     },
     "metadata": {
      "needs_background": "light"
     },
     "output_type": "display_data"
    }
   ],
   "source": [
    "x=np.arange(0,20,2)\n",
    "plt.scatter(x,x**2,s=x*10,c=x*30)\n",
    "plt.text(10,100,'매우 중요한 값')\n",
    "plt.annotate('아주 중요한 값', xy=(4,16),xytext=(5,150),arrowprops={'facecolor':'red','shrink':0.05})\n",
    "plt.grid()\n",
    "plt.show()"
   ]
  },
  {
   "cell_type": "code",
   "execution_count": 210,
   "id": "826beb35",
   "metadata": {},
   "outputs": [
    {
     "data": {
      "text/html": [
       "<div>\n",
       "<style scoped>\n",
       "    .dataframe tbody tr th:only-of-type {\n",
       "        vertical-align: middle;\n",
       "    }\n",
       "\n",
       "    .dataframe tbody tr th {\n",
       "        vertical-align: top;\n",
       "    }\n",
       "\n",
       "    .dataframe thead th {\n",
       "        text-align: right;\n",
       "    }\n",
       "</style>\n",
       "<table border=\"1\" class=\"dataframe\">\n",
       "  <thead>\n",
       "    <tr style=\"text-align: right;\">\n",
       "      <th></th>\n",
       "      <th>평균기온</th>\n",
       "      <th>최저기온</th>\n",
       "      <th>최고기온</th>\n",
       "    </tr>\n",
       "    <tr>\n",
       "      <th>날짜</th>\n",
       "      <th></th>\n",
       "      <th></th>\n",
       "      <th></th>\n",
       "    </tr>\n",
       "  </thead>\n",
       "  <tbody>\n",
       "    <tr>\n",
       "      <th>2017-01-01</th>\n",
       "      <td>3.4</td>\n",
       "      <td>-2.0</td>\n",
       "      <td>10.0</td>\n",
       "    </tr>\n",
       "    <tr>\n",
       "      <th>2017-01-02</th>\n",
       "      <td>5.3</td>\n",
       "      <td>-0.4</td>\n",
       "      <td>12.3</td>\n",
       "    </tr>\n",
       "    <tr>\n",
       "      <th>2017-01-03</th>\n",
       "      <td>5.2</td>\n",
       "      <td>0.9</td>\n",
       "      <td>10.9</td>\n",
       "    </tr>\n",
       "    <tr>\n",
       "      <th>2017-01-04</th>\n",
       "      <td>3.9</td>\n",
       "      <td>-1.9</td>\n",
       "      <td>11.2</td>\n",
       "    </tr>\n",
       "    <tr>\n",
       "      <th>2017-01-05</th>\n",
       "      <td>3.4</td>\n",
       "      <td>-1.6</td>\n",
       "      <td>7.6</td>\n",
       "    </tr>\n",
       "    <tr>\n",
       "      <th>...</th>\n",
       "      <td>...</td>\n",
       "      <td>...</td>\n",
       "      <td>...</td>\n",
       "    </tr>\n",
       "    <tr>\n",
       "      <th>2022-07-28</th>\n",
       "      <td>26.2</td>\n",
       "      <td>24.2</td>\n",
       "      <td>29.6</td>\n",
       "    </tr>\n",
       "    <tr>\n",
       "      <th>2022-07-29</th>\n",
       "      <td>28.7</td>\n",
       "      <td>24.5</td>\n",
       "      <td>33.9</td>\n",
       "    </tr>\n",
       "    <tr>\n",
       "      <th>2022-07-30</th>\n",
       "      <td>27.8</td>\n",
       "      <td>25.9</td>\n",
       "      <td>30.3</td>\n",
       "    </tr>\n",
       "    <tr>\n",
       "      <th>2022-07-31</th>\n",
       "      <td>27.1</td>\n",
       "      <td>25.3</td>\n",
       "      <td>29.5</td>\n",
       "    </tr>\n",
       "    <tr>\n",
       "      <th>2022-08-01</th>\n",
       "      <td>29.4</td>\n",
       "      <td>26.8</td>\n",
       "      <td>31.2</td>\n",
       "    </tr>\n",
       "  </tbody>\n",
       "</table>\n",
       "<p>2039 rows × 3 columns</p>\n",
       "</div>"
      ],
      "text/plain": [
       "            평균기온  최저기온  최고기온\n",
       "날짜                          \n",
       "2017-01-01   3.4  -2.0  10.0\n",
       "2017-01-02   5.3  -0.4  12.3\n",
       "2017-01-03   5.2   0.9  10.9\n",
       "2017-01-04   3.9  -1.9  11.2\n",
       "2017-01-05   3.4  -1.6   7.6\n",
       "...          ...   ...   ...\n",
       "2022-07-28  26.2  24.2  29.6\n",
       "2022-07-29  28.7  24.5  33.9\n",
       "2022-07-30  27.8  25.9  30.3\n",
       "2022-07-31  27.1  25.3  29.5\n",
       "2022-08-01  29.4  26.8  31.2\n",
       "\n",
       "[2039 rows x 3 columns]"
      ]
     },
     "execution_count": 210,
     "metadata": {},
     "output_type": "execute_result"
    }
   ],
   "source": [
    "dg_temp"
   ]
  },
  {
   "cell_type": "code",
   "execution_count": 211,
   "id": "bfabe3aa",
   "metadata": {},
   "outputs": [
    {
     "name": "stderr",
     "output_type": "stream",
     "text": [
      "/Users/simsanghyeog/opt/anaconda3/envs/vrconda/lib/python3.7/site-packages/IPython/core/pylabtools.py:151: UserWarning: Glyph 8722 (\\N{MINUS SIGN}) missing from current font.\n",
      "  fig.canvas.print_figure(bytes_io, **kw)\n"
     ]
    },
    {
     "data": {
      "image/png": "[encoded data removed]",
      "text/plain": [
       "<Figure size 432x288 with 1 Axes>"
      ]
     },
     "metadata": {
      "needs_background": "light"
     },
     "output_type": "display_data"
    }
   ],
   "source": [
    "dg_temp.plot()\n",
    "plt.show()"
   ]
  },
  {
   "cell_type": "code",
   "execution_count": null,
   "id": "5c4416ee",
   "metadata": {},
   "outputs": [],
   "source": []
  }
 ],
 "metadata": {
  "kernelspec": {
   "display_name": "Python 3 (ipykernel)",
   "language": "python",
   "name": "python3"
  },
  "language_info": {
   "codemirror_mode": {
    "name": "ipython",
    "version": 3
   },
   "file_extension": ".py",
   "mimetype": "text/x-python",
   "name": "python",
   "nbconvert_exporter": "python",
   "pygments_lexer": "ipython3",
   "version": "3.7.13"
  }
 },
 "nbformat": 4,
 "nbformat_minor": 5
}
