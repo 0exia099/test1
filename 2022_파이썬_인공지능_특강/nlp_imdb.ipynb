{
 "cells": [
  {
   "cell_type": "code",
   "execution_count": 1,
   "metadata": {},
   "outputs": [],
   "source": [
    "from tensorflow.keras.datasets import imdb"
   ]
  },
  {
   "cell_type": "code",
   "execution_count": 2,
   "metadata": {},
   "outputs": [
    {
     "name": "stderr",
     "output_type": "stream",
     "text": [
      "/Users/simsanghyeog/opt/anaconda3/envs/tfconda/lib/python3.7/site-packages/tensorflow_core/python/keras/datasets/imdb.py:129: VisibleDeprecationWarning: Creating an ndarray from ragged nested sequences (which is a list-or-tuple of lists-or-tuples-or ndarrays with different lengths or shapes) is deprecated. If you meant to do this, you must specify 'dtype=object' when creating the ndarray\n",
      "  x_train, y_train = np.array(xs[:idx]), np.array(labels[:idx])\n",
      "/Users/simsanghyeog/opt/anaconda3/envs/tfconda/lib/python3.7/site-packages/tensorflow_core/python/keras/datasets/imdb.py:130: VisibleDeprecationWarning: Creating an ndarray from ragged nested sequences (which is a list-or-tuple of lists-or-tuples-or ndarrays with different lengths or shapes) is deprecated. If you meant to do this, you must specify 'dtype=object' when creating the ndarray\n",
      "  x_test, y_test = np.array(xs[idx:]), np.array(labels[idx:])\n"
     ]
    }
   ],
   "source": [
    "(train_input, train_target), (test_input, test_target) = imdb.load_data(num_words=500) #전체 데이터 셋에서 자주 등장하는 상위 500개 단어"
   ]
  },
  {
   "cell_type": "code",
   "execution_count": 3,
   "metadata": {},
   "outputs": [
    {
     "name": "stdout",
     "output_type": "stream",
     "text": [
      "(25000,) (25000,)\n"
     ]
    }
   ],
   "source": [
    "print(train_input.shape, test_input.shape) #일차원으로 표시되지만 넘파이 배열 안에 파이썬 리스트로 있다."
   ]
  },
  {
   "cell_type": "code",
   "execution_count": 4,
   "metadata": {},
   "outputs": [
    {
     "name": "stdout",
     "output_type": "stream",
     "text": [
      "218\n",
      "189\n"
     ]
    }
   ],
   "source": [
    "print(len(train_input[0]))\n",
    "print(len(train_input[1]))"
   ]
  },
  {
   "cell_type": "code",
   "execution_count": 5,
   "metadata": {},
   "outputs": [
    {
     "name": "stdout",
     "output_type": "stream",
     "text": [
      "[1, 14, 22, 16, 43, 2, 2, 2, 2, 65, 458, 2, 66, 2, 4, 173, 36, 256, 5, 25, 100, 43, 2, 112, 50, 2, 2, 9, 35, 480, 284, 5, 150, 4, 172, 112, 167, 2, 336, 385, 39, 4, 172, 2, 2, 17, 2, 38, 13, 447, 4, 192, 50, 16, 6, 147, 2, 19, 14, 22, 4, 2, 2, 469, 4, 22, 71, 87, 12, 16, 43, 2, 38, 76, 15, 13, 2, 4, 22, 17, 2, 17, 12, 16, 2, 18, 2, 5, 62, 386, 12, 8, 316, 8, 106, 5, 4, 2, 2, 16, 480, 66, 2, 33, 4, 130, 12, 16, 38, 2, 5, 25, 124, 51, 36, 135, 48, 25, 2, 33, 6, 22, 12, 215, 28, 77, 52, 5, 14, 407, 16, 82, 2, 8, 4, 107, 117, 2, 15, 256, 4, 2, 7, 2, 5, 2, 36, 71, 43, 2, 476, 26, 400, 317, 46, 7, 4, 2, 2, 13, 104, 88, 4, 381, 15, 297, 98, 32, 2, 56, 26, 141, 6, 194, 2, 18, 4, 226, 22, 21, 134, 476, 26, 480, 5, 144, 30, 2, 18, 51, 36, 28, 224, 92, 25, 104, 4, 226, 65, 16, 38, 2, 88, 12, 16, 283, 5, 16, 2, 113, 103, 32, 15, 16, 2, 19, 178, 32]\n"
     ]
    }
   ],
   "source": [
    "print(train_input[0]) #첫번째 리뷰 데이터"
   ]
  },
  {
   "cell_type": "code",
   "execution_count": 6,
   "metadata": {},
   "outputs": [
    {
     "name": "stdout",
     "output_type": "stream",
     "text": [
      "[1 0 0 1 0 0 1 0 1 0 1 0 0 0 0 0 1 1 0 1]\n"
     ]
    }
   ],
   "source": [
    "print(train_target[:20])  #긍정 or 부정 이진분류"
   ]
  },
  {
   "cell_type": "code",
   "execution_count": 7,
   "metadata": {},
   "outputs": [],
   "source": [
    "from sklearn.model_selection import train_test_split\n",
    "\n",
    "train_input, val_input, train_target, val_target = train_test_split(train_input, train_target, test_size=0.2, random_state=42)"
   ]
  },
  {
   "cell_type": "code",
   "execution_count": 8,
   "metadata": {},
   "outputs": [
    {
     "name": "stdout",
     "output_type": "stream",
     "text": [
      "239.00925 178.0\n"
     ]
    }
   ],
   "source": [
    "import numpy as np\n",
    "lengths = np.array([len(x) for x in train_input])\n",
    "print(np.mean(lengths), np.median(lengths))"
   ]
  },
  {
   "cell_type": "code",
   "execution_count": 9,
   "metadata": {},
   "outputs": [
    {
     "data": {
      "image/png": "[encoded data removed]",
      "text/plain": [
       "<Figure size 432x288 with 1 Axes>"
      ]
     },
     "metadata": {
      "needs_background": "light"
     },
     "output_type": "display_data"
    }
   ],
   "source": [
    "import matplotlib.pyplot as plt\n",
    "\n",
    "plt.hist(lengths)\n",
    "plt.xlabel('length')\n",
    "plt.ylabel('frequency')\n",
    "plt.show()  #리뷰 길이가 서로 다르다. 리뷰의 길이를 통일하자"
   ]
  },
  {
   "cell_type": "code",
   "execution_count": 10,
   "metadata": {},
   "outputs": [],
   "source": [
    "from tensorflow.keras.preprocessing.sequence import pad_sequences\n",
    "\n",
    "train_seq = pad_sequences(train_input, maxlen=100)  #100개의 토큰만 사용. 100개보다 적으면 zero패딩, 많으면 나머지 토큰 삭제\n",
    "#pad_sequences() 함수는 기본적으로 maxlen보다 긴 시퀸스의 앞부분 자름. 뒤를 자르려면 truncating='post'해야함. 기본('pre')"
   ]
  },
  {
   "cell_type": "code",
   "execution_count": 11,
   "metadata": {},
   "outputs": [
    {
     "name": "stdout",
     "output_type": "stream",
     "text": [
      "(20000, 100)\n"
     ]
    }
   ],
   "source": [
    "print(train_seq.shape)"
   ]
  },
  {
   "cell_type": "code",
   "execution_count": 12,
   "metadata": {},
   "outputs": [
    {
     "name": "stdout",
     "output_type": "stream",
     "text": [
      "[ 10   4  20   9   2 364 352   5  45   6   2   2  33 269   8   2 142   2\n",
      "   5   2  17  73  17 204   5   2  19  55   2   2  92  66 104  14  20  93\n",
      "  76   2 151  33   4  58  12 188   2 151  12 215  69 224 142  73 237   6\n",
      "   2   7   2   2 188   2 103  14  31  10  10 451   7   2   5   2  80  91\n",
      "   2  30   2  34  14  20 151  50  26 131  49   2  84  46  50  37  80  79\n",
      "   6   2  46   7  14  20  10  10 470 158]\n"
     ]
    }
   ],
   "source": [
    "print(train_seq[0])  #100개보다 많은 토큰 삭제된것(앞부분)"
   ]
  },
  {
   "cell_type": "code",
   "execution_count": 13,
   "metadata": {},
   "outputs": [
    {
     "name": "stdout",
     "output_type": "stream",
     "text": [
      "[6, 2, 46, 7, 14, 20, 10, 10, 470, 158]\n"
     ]
    }
   ],
   "source": [
    "print(train_input[0][-10:]) #뒷부분은 있다"
   ]
  },
  {
   "cell_type": "code",
   "execution_count": 14,
   "metadata": {},
   "outputs": [
    {
     "name": "stdout",
     "output_type": "stream",
     "text": [
      "[  0   0   0   0   1   2 195  19  49   2   2 190   4   2 352   2 183  10\n",
      "  10  13  82  79   4   2  36  71 269   8   2  25  19  49   7   4   2   2\n",
      "   2   2   2  10  10  48  25  40   2  11   2   2  40   2   2   5   4   2\n",
      "   2  95  14 238  56 129   2  10  10  21   2  94 364 352   2   2  11 190\n",
      "  24 484   2   7  94 205 405  10  10  87   2  34  49   2   7   2   2   2\n",
      "   2   2 290   2  46  48  64  18   4   2]\n"
     ]
    }
   ],
   "source": [
    "print(train_seq[5]) #100개보다 적은 토큰 zero 패딩"
   ]
  },
  {
   "cell_type": "code",
   "execution_count": 15,
   "metadata": {},
   "outputs": [],
   "source": [
    "val_seq = pad_sequences(val_input, maxlen=100) #검증데이터도"
   ]
  },
  {
   "cell_type": "code",
   "execution_count": 16,
   "metadata": {},
   "outputs": [
    {
     "name": "stderr",
     "output_type": "stream",
     "text": [
      "2022-08-19 14:29:03.673144: I tensorflow/core/platform/cpu_feature_guard.cc:145] This TensorFlow binary is optimized with Intel(R) MKL-DNN to use the following CPU instructions in performance critical operations:  SSE4.1 SSE4.2\n",
      "To enable them in non-MKL-DNN operations, rebuild TensorFlow with the appropriate compiler flags.\n",
      "2022-08-19 14:29:03.673884: I tensorflow/core/common_runtime/process_util.cc:115] Creating new thread pool with default inter op setting: 10. Tune using inter_op_parallelism_threads for best performance.\n"
     ]
    }
   ],
   "source": [
    "from tensorflow import keras\n",
    "\n",
    "model = keras.Sequential()\n",
    "\n",
    "model.add(keras.layers.SimpleRNN(8, input_shape=(100,500))) #SimpleRNN 클래스의 activation 매개변수 기본값은 'tanh'\n",
    "#RNN에서는 이전값을 반복하여 누적 재사용함으로 relu를 사용하면 값이 계속 증폭될 수 있기 때문에 tanh가 더 좋다.\n",
    "model.add(keras.layers.Dense(1, activation='sigmoid'))"
   ]
  },
  {
   "cell_type": "code",
   "execution_count": 17,
   "metadata": {},
   "outputs": [
    {
     "name": "stdout",
     "output_type": "stream",
     "text": [
      "(20000, 100, 500)\n"
     ]
    }
   ],
   "source": [
    "train_oh = keras.utils.to_categorical(train_seq) #원핫 인코딩 수행\n",
    "print(train_oh.shape)"
   ]
  },
  {
   "cell_type": "code",
   "execution_count": 18,
   "metadata": {},
   "outputs": [
    {
     "name": "stdout",
     "output_type": "stream",
     "text": [
      "[ 10   4  20   9   2 364 352   5  45   6   2   2  33 269   8   2 142   2\n",
      "   5   2  17  73  17 204   5   2  19  55   2   2  92  66 104  14  20  93\n",
      "  76   2 151  33   4  58  12 188   2 151  12 215  69 224 142  73 237   6\n",
      "   2   7   2   2 188   2 103  14  31  10  10 451   7   2   5   2  80  91\n",
      "   2  30   2  34  14  20 151  50  26 131  49   2  84  46  50  37  80  79\n",
      "   6   2  46   7  14  20  10  10 470 158]\n"
     ]
    }
   ],
   "source": [
    "print(train_seq[0])"
   ]
  },
  {
   "cell_type": "code",
   "execution_count": 19,
   "metadata": {},
   "outputs": [
    {
     "name": "stdout",
     "output_type": "stream",
     "text": [
      "[0. 0. 0. 0. 0. 0. 0. 0. 0. 0. 1. 0.]\n"
     ]
    }
   ],
   "source": [
    "print(train_oh[0][0][:12]) #10번째"
   ]
  },
  {
   "cell_type": "code",
   "execution_count": 20,
   "metadata": {},
   "outputs": [
    {
     "name": "stdout",
     "output_type": "stream",
     "text": [
      "1.0\n"
     ]
    }
   ],
   "source": [
    "print(np.sum(train_oh[0][0])) #전체 비트 중 1은 하나"
   ]
  },
  {
   "cell_type": "code",
   "execution_count": 21,
   "metadata": {},
   "outputs": [],
   "source": [
    "val_oh = keras.utils.to_categorical(val_seq) #검증데이터도 원핫 인코딩"
   ]
  },
  {
   "cell_type": "code",
   "execution_count": 22,
   "metadata": {},
   "outputs": [
    {
     "name": "stdout",
     "output_type": "stream",
     "text": [
      "Model: \"sequential\"\n",
      "_________________________________________________________________\n",
      "Layer (type)                 Output Shape              Param #   \n",
      "=================================================================\n",
      "simple_rnn (SimpleRNN)       (None, 8)                 4072      \n",
      "_________________________________________________________________\n",
      "dense (Dense)                (None, 1)                 9         \n",
      "=================================================================\n",
      "Total params: 4,081\n",
      "Trainable params: 4,081\n",
      "Non-trainable params: 0\n",
      "_________________________________________________________________\n"
     ]
    }
   ],
   "source": [
    "model.summary()    #500*8 + 8*8 + 8(바이어스) = 4072"
   ]
  },
  {
   "cell_type": "code",
   "execution_count": 23,
   "metadata": {},
   "outputs": [
    {
     "name": "stdout",
     "output_type": "stream",
     "text": [
      "Train on 20000 samples, validate on 5000 samples\n",
      "Epoch 1/100\n",
      "20000/20000 [==============================] - 32s 2ms/sample - loss: 0.6952 - accuracy: 0.5210 - val_loss: 0.6880 - val_accuracy: 0.5428\n",
      "Epoch 2/100\n",
      "20000/20000 [==============================] - 28s 1ms/sample - loss: 0.6838 - accuracy: 0.5637 - val_loss: 0.6799 - val_accuracy: 0.5748\n",
      "Epoch 3/100\n",
      "20000/20000 [==============================] - 28s 1ms/sample - loss: 0.6731 - accuracy: 0.6016 - val_loss: 0.6678 - val_accuracy: 0.6104\n",
      "Epoch 4/100\n",
      "20000/20000 [==============================] - 28s 1ms/sample - loss: 0.6599 - accuracy: 0.6363 - val_loss: 0.6553 - val_accuracy: 0.6376\n",
      "Epoch 5/100\n",
      "20000/20000 [==============================] - 33s 2ms/sample - loss: 0.6457 - accuracy: 0.6638 - val_loss: 0.6423 - val_accuracy: 0.6580\n",
      "Epoch 6/100\n",
      "20000/20000 [==============================] - 31s 2ms/sample - loss: 0.6303 - accuracy: 0.6888 - val_loss: 0.6266 - val_accuracy: 0.6898\n",
      "Epoch 7/100\n",
      "20000/20000 [==============================] - 30s 2ms/sample - loss: 0.6141 - accuracy: 0.7078 - val_loss: 0.6115 - val_accuracy: 0.7026\n",
      "Epoch 8/100\n",
      "20000/20000 [==============================] - 29s 1ms/sample - loss: 0.5981 - accuracy: 0.7232 - val_loss: 0.5960 - val_accuracy: 0.7182\n",
      "Epoch 9/100\n",
      "20000/20000 [==============================] - 30s 1ms/sample - loss: 0.5832 - accuracy: 0.7355 - val_loss: 0.5837 - val_accuracy: 0.7302\n",
      "Epoch 10/100\n",
      "20000/20000 [==============================] - 31s 2ms/sample - loss: 0.5693 - accuracy: 0.7448 - val_loss: 0.5707 - val_accuracy: 0.7358\n",
      "Epoch 11/100\n",
      "20000/20000 [==============================] - 30s 2ms/sample - loss: 0.5558 - accuracy: 0.7570 - val_loss: 0.5595 - val_accuracy: 0.7474\n",
      "Epoch 12/100\n",
      "20000/20000 [==============================] - 30s 1ms/sample - loss: 0.5435 - accuracy: 0.7620 - val_loss: 0.5487 - val_accuracy: 0.7518\n",
      "Epoch 13/100\n",
      "20000/20000 [==============================] - 31s 2ms/sample - loss: 0.5313 - accuracy: 0.7686 - val_loss: 0.5360 - val_accuracy: 0.7630\n",
      "Epoch 14/100\n",
      "20000/20000 [==============================] - 31s 2ms/sample - loss: 0.5210 - accuracy: 0.7717 - val_loss: 0.5254 - val_accuracy: 0.7684\n",
      "Epoch 15/100\n",
      "20000/20000 [==============================] - 30s 2ms/sample - loss: 0.5109 - accuracy: 0.7779 - val_loss: 0.5177 - val_accuracy: 0.7712\n",
      "Epoch 16/100\n",
      "20000/20000 [==============================] - 30s 2ms/sample - loss: 0.5016 - accuracy: 0.7826 - val_loss: 0.5099 - val_accuracy: 0.7746\n",
      "Epoch 17/100\n",
      "20000/20000 [==============================] - 31s 2ms/sample - loss: 0.4933 - accuracy: 0.7866 - val_loss: 0.5043 - val_accuracy: 0.7760\n",
      "Epoch 18/100\n",
      "20000/20000 [==============================] - 31s 2ms/sample - loss: 0.4857 - accuracy: 0.7907 - val_loss: 0.4965 - val_accuracy: 0.7808\n",
      "Epoch 19/100\n",
      "20000/20000 [==============================] - 31s 2ms/sample - loss: 0.4787 - accuracy: 0.7934 - val_loss: 0.4913 - val_accuracy: 0.7824\n",
      "Epoch 20/100\n",
      "20000/20000 [==============================] - 32s 2ms/sample - loss: 0.4728 - accuracy: 0.7954 - val_loss: 0.4869 - val_accuracy: 0.7836\n",
      "Epoch 21/100\n",
      "20000/20000 [==============================] - 31s 2ms/sample - loss: 0.4668 - accuracy: 0.7972 - val_loss: 0.4849 - val_accuracy: 0.7834\n",
      "Epoch 22/100\n",
      "20000/20000 [==============================] - 31s 2ms/sample - loss: 0.4613 - accuracy: 0.8012 - val_loss: 0.4788 - val_accuracy: 0.7870\n",
      "Epoch 23/100\n",
      "20000/20000 [==============================] - 29s 1ms/sample - loss: 0.4565 - accuracy: 0.8033 - val_loss: 0.4791 - val_accuracy: 0.7826\n",
      "Epoch 24/100\n",
      "20000/20000 [==============================] - 29s 1ms/sample - loss: 0.4526 - accuracy: 0.8029 - val_loss: 0.4749 - val_accuracy: 0.7860\n",
      "Epoch 25/100\n",
      "20000/20000 [==============================] - 30s 1ms/sample - loss: 0.4485 - accuracy: 0.8042 - val_loss: 0.4696 - val_accuracy: 0.7892\n",
      "Epoch 26/100\n",
      "20000/20000 [==============================] - 29s 1ms/sample - loss: 0.4447 - accuracy: 0.8066 - val_loss: 0.4696 - val_accuracy: 0.7860\n",
      "Epoch 27/100\n",
      "20000/20000 [==============================] - 28s 1ms/sample - loss: 0.4412 - accuracy: 0.8077 - val_loss: 0.4665 - val_accuracy: 0.7866\n",
      "Epoch 28/100\n",
      "20000/20000 [==============================] - 29s 1ms/sample - loss: 0.4382 - accuracy: 0.8106 - val_loss: 0.4654 - val_accuracy: 0.7880\n",
      "Epoch 29/100\n",
      "20000/20000 [==============================] - 29s 1ms/sample - loss: 0.4349 - accuracy: 0.8122 - val_loss: 0.4658 - val_accuracy: 0.7902\n",
      "Epoch 30/100\n",
      "20000/20000 [==============================] - 29s 1ms/sample - loss: 0.4332 - accuracy: 0.8108 - val_loss: 0.4669 - val_accuracy: 0.7876\n",
      "Epoch 31/100\n",
      "20000/20000 [==============================] - 29s 1ms/sample - loss: 0.4305 - accuracy: 0.8112 - val_loss: 0.4632 - val_accuracy: 0.7906\n",
      "Epoch 32/100\n",
      "20000/20000 [==============================] - 30s 1ms/sample - loss: 0.4289 - accuracy: 0.8124 - val_loss: 0.4607 - val_accuracy: 0.7926\n",
      "Epoch 33/100\n",
      "20000/20000 [==============================] - 31s 2ms/sample - loss: 0.4265 - accuracy: 0.8152 - val_loss: 0.4623 - val_accuracy: 0.7876\n",
      "Epoch 34/100\n",
      "20000/20000 [==============================] - 29s 1ms/sample - loss: 0.4251 - accuracy: 0.8138 - val_loss: 0.4591 - val_accuracy: 0.7904\n",
      "Epoch 35/100\n",
      "20000/20000 [==============================] - 32s 2ms/sample - loss: 0.4232 - accuracy: 0.8151 - val_loss: 0.4603 - val_accuracy: 0.7906\n",
      "Epoch 36/100\n",
      "20000/20000 [==============================] - 29s 1ms/sample - loss: 0.4215 - accuracy: 0.8156 - val_loss: 0.4587 - val_accuracy: 0.7892\n",
      "Epoch 37/100\n",
      "20000/20000 [==============================] - 30s 1ms/sample - loss: 0.4198 - accuracy: 0.8168 - val_loss: 0.4616 - val_accuracy: 0.7882\n",
      "Epoch 38/100\n",
      "20000/20000 [==============================] - 31s 2ms/sample - loss: 0.4187 - accuracy: 0.8156 - val_loss: 0.4574 - val_accuracy: 0.7904\n",
      "Epoch 39/100\n",
      "20000/20000 [==============================] - 29s 1ms/sample - loss: 0.4173 - accuracy: 0.8174 - val_loss: 0.4605 - val_accuracy: 0.7886\n",
      "Epoch 40/100\n",
      "20000/20000 [==============================] - 29s 1ms/sample - loss: 0.4153 - accuracy: 0.8192 - val_loss: 0.4683 - val_accuracy: 0.7858\n",
      "Epoch 41/100\n",
      "20000/20000 [==============================] - 31s 2ms/sample - loss: 0.4144 - accuracy: 0.8195 - val_loss: 0.4572 - val_accuracy: 0.7912\n",
      "Epoch 42/100\n",
      "20000/20000 [==============================] - 29s 1ms/sample - loss: 0.4124 - accuracy: 0.8205 - val_loss: 0.4573 - val_accuracy: 0.7880\n",
      "Epoch 43/100\n",
      "20000/20000 [==============================] - 30s 2ms/sample - loss: 0.4113 - accuracy: 0.8203 - val_loss: 0.4598 - val_accuracy: 0.7888\n",
      "Epoch 44/100\n",
      "20000/20000 [==============================] - 28s 1ms/sample - loss: 0.4097 - accuracy: 0.8209 - val_loss: 0.4620 - val_accuracy: 0.7886\n"
     ]
    }
   ],
   "source": [
    "rmsprop = keras.optimizers.RMSprop(learning_rate=1e-4)\n",
    "model.compile(optimizer=rmsprop, loss='binary_crossentropy', metrics=['accuracy'])\n",
    "\n",
    "checkpoint_cb = keras.callbacks.ModelCheckpoint('best-simplernn-model.h5', save_best_only=True)\n",
    "early_stopping_cb = keras.callbacks.EarlyStopping(patience=3, restore_best_weights=True)\n",
    "\n",
    "history = model.fit(train_oh, train_target, epochs=100, batch_size=64, validation_data=(val_oh, val_target), callbacks=[checkpoint_cb, early_stopping_cb])"
   ]
  },
  {
   "cell_type": "code",
   "execution_count": 24,
   "metadata": {},
   "outputs": [
    {
     "data": {
      "image/png": "[encoded data removed]",
      "text/plain": [
       "<Figure size 432x288 with 1 Axes>"
      ]
     },
     "metadata": {
      "needs_background": "light"
     },
     "output_type": "display_data"
    }
   ],
   "source": [
    "plt.plot(history.history['loss'])\n",
    "plt.plot(history.history['val_loss'])\n",
    "plt.xlabel('epoch')\n",
    "plt.ylabel('loss')\n",
    "plt.legend(['train', 'val'])\n",
    "plt.show()"
   ]
  },
  {
   "cell_type": "code",
   "execution_count": null,
   "metadata": {},
   "outputs": [],
   "source": [
    "#500개 중에 하나를 나타내기 위해 원핫인코딩 쓰는것은 비효율적->워드 임베딩\n",
    "#학습하여 의미있는 값으로 자동으로 채워준다.\n",
    "model2 = keras.Sequential()\n",
    "#원핫 인코딩안하고\n",
    "model2.add(keras.layers.Embedding(500, 16, input_length=100)) #워드 임베딩 - 100개의 입력 중 500개 종류를 16개의 벡터크기로\n",
    "model2.add(keras.layers.SimpleRNN(8, dropout=0.3)) #dropout적용. (SimpleRNN도 동일)\n",
    "model2.add(keras.layers.Dense(1, activation='sigmoid'))\n",
    "\n",
    "model2.summary()"
   ]
  },
  {
   "cell_type": "markdown",
   "metadata": {},
   "source": [
    "# Long Short Term Memory (LSTM)\n",
    "##### 기본 RNN은 시퀀스 길이가 길 경우 성능이 저하되는 문제가 있다. 타임스텝이 길어질수록 이전 입력정보 사라짐\n",
    "### 이를 해결하기위해 개발된 순환신경망 LSTM\n",
    "### 최근 가장 많이 사용되고 있는 RNN 모델이라 할 수 있음"
   ]
  },
  {
   "cell_type": "code",
   "execution_count": null,
   "metadata": {},
   "outputs": [],
   "source": [
    "#SimpleRNN대신 LSTM사용\n",
    "model = keras.Sequential()\n",
    "\n",
    "model.add(keras.layers.Embedding(500, 16, input_length=100))\n",
    "model.add(keras.layers.LSTM(8, dropout=0.3))\n",
    "model.add(keras.layers.Dense(1, activation='sigmoid'))\n",
    "\n",
    "model.summary()"
   ]
  },
  {
   "cell_type": "code",
   "execution_count": null,
   "metadata": {},
   "outputs": [],
   "source": [
    "#2개의 층을 연결하기\n",
    "model3 = keras.Sequential()\n",
    "\n",
    "model3.add(keras.layers.Embedding(500,16,input_length=100))\n",
    "model3.add(keras.layers.LSTM(8,dropout=0.3, return_sequences=True)) #마지막이 아닌 층에 retrun_sequences에 True를 준다.\n",
    "model3.add(keras.layers.LSTM(8,dropout=0.3))\n",
    "model3.add(keras.layers.Dense(1, activation='sigmoid'))\n",
    "\n",
    "model3.summary()"
   ]
  }
 ],
 "metadata": {
  "kernelspec": {
   "display_name": "Python 3.7.13 ('tfconda')",
   "language": "python",
   "name": "python3"
  },
  "language_info": {
   "codemirror_mode": {
    "name": "ipython",
    "version": 3
   },
   "file_extension": ".py",
   "mimetype": "text/x-python",
   "name": "python",
   "nbconvert_exporter": "python",
   "pygments_lexer": "ipython3",
   "version": "3.7.13"
  },
  "orig_nbformat": 4,
  "vscode": {
   "interpreter": {
    "hash": "0744aaa7db6f160eeef0af44bf51ca34b1d762fe44eb4b65d75aea0f249a1b66"
   }
  }
 },
 "nbformat": 4,
 "nbformat_minor": 2
}
