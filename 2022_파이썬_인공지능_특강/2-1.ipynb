{
 "cells": [
  {
   "cell_type": "code",
   "execution_count": 5,
   "id": "26258b93",
   "metadata": {},
   "outputs": [],
   "source": [
    "import numpy as np"
   ]
  },
  {
   "cell_type": "code",
   "execution_count": 2,
   "id": "082fa972",
   "metadata": {},
   "outputs": [],
   "source": [
    "l = [1,2,1.2,'aaa']"
   ]
  },
  {
   "cell_type": "code",
   "execution_count": 5,
   "id": "a3fc70e1",
   "metadata": {},
   "outputs": [
    {
     "data": {
      "text/plain": [
       "[1, 2, 1.2, 'aaa']"
      ]
     },
     "execution_count": 5,
     "metadata": {},
     "output_type": "execute_result"
    }
   ],
   "source": [
    "l"
   ]
  },
  {
   "cell_type": "code",
   "execution_count": 6,
   "id": "1761b615",
   "metadata": {},
   "outputs": [
    {
     "data": {
      "text/plain": [
       "list"
      ]
     },
     "execution_count": 6,
     "metadata": {},
     "output_type": "execute_result"
    }
   ],
   "source": [
    "type(l)"
   ]
  },
  {
   "cell_type": "code",
   "execution_count": 7,
   "id": "dd54a7f7",
   "metadata": {},
   "outputs": [
    {
     "data": {
      "text/plain": [
       "int"
      ]
     },
     "execution_count": 7,
     "metadata": {},
     "output_type": "execute_result"
    }
   ],
   "source": [
    "type(l[0])"
   ]
  },
  {
   "cell_type": "code",
   "execution_count": 8,
   "id": "be93cce8",
   "metadata": {},
   "outputs": [
    {
     "data": {
      "text/plain": [
       "int"
      ]
     },
     "execution_count": 8,
     "metadata": {},
     "output_type": "execute_result"
    }
   ],
   "source": [
    "type(l[1])"
   ]
  },
  {
   "cell_type": "code",
   "execution_count": 9,
   "id": "736e52a2",
   "metadata": {},
   "outputs": [
    {
     "data": {
      "text/plain": [
       "float"
      ]
     },
     "execution_count": 9,
     "metadata": {},
     "output_type": "execute_result"
    }
   ],
   "source": [
    "type(l[2])"
   ]
  },
  {
   "cell_type": "code",
   "execution_count": 10,
   "id": "868966c5",
   "metadata": {},
   "outputs": [
    {
     "data": {
      "text/plain": [
       "str"
      ]
     },
     "execution_count": 10,
     "metadata": {},
     "output_type": "execute_result"
    }
   ],
   "source": [
    "type(l[3])"
   ]
  },
  {
   "cell_type": "code",
   "execution_count": 11,
   "id": "3597f9c9",
   "metadata": {},
   "outputs": [],
   "source": [
    "a = np.zeros(5)"
   ]
  },
  {
   "cell_type": "code",
   "execution_count": 12,
   "id": "761e25c6",
   "metadata": {},
   "outputs": [
    {
     "data": {
      "text/plain": [
       "array([0., 0., 0., 0., 0.])"
      ]
     },
     "execution_count": 12,
     "metadata": {},
     "output_type": "execute_result"
    }
   ],
   "source": [
    "a"
   ]
  },
  {
   "cell_type": "code",
   "execution_count": 13,
   "id": "827ede05",
   "metadata": {},
   "outputs": [
    {
     "data": {
      "text/plain": [
       "numpy.ndarray"
      ]
     },
     "execution_count": 13,
     "metadata": {},
     "output_type": "execute_result"
    }
   ],
   "source": [
    "type(a)"
   ]
  },
  {
   "cell_type": "code",
   "execution_count": 14,
   "id": "fe93ad85",
   "metadata": {},
   "outputs": [
    {
     "data": {
      "text/plain": [
       "['In',\n",
       " 'Out',\n",
       " '_',\n",
       " '_10',\n",
       " '_12',\n",
       " '_13',\n",
       " '_3',\n",
       " '_4',\n",
       " '_5',\n",
       " '_6',\n",
       " '_7',\n",
       " '_8',\n",
       " '_9',\n",
       " '__',\n",
       " '___',\n",
       " '__builtin__',\n",
       " '__builtins__',\n",
       " '__doc__',\n",
       " '__loader__',\n",
       " '__name__',\n",
       " '__package__',\n",
       " '__spec__',\n",
       " '_dh',\n",
       " '_i',\n",
       " '_i1',\n",
       " '_i10',\n",
       " '_i11',\n",
       " '_i12',\n",
       " '_i13',\n",
       " '_i14',\n",
       " '_i2',\n",
       " '_i3',\n",
       " '_i4',\n",
       " '_i5',\n",
       " '_i6',\n",
       " '_i7',\n",
       " '_i8',\n",
       " '_i9',\n",
       " '_ih',\n",
       " '_ii',\n",
       " '_iii',\n",
       " '_oh',\n",
       " 'a',\n",
       " 'exit',\n",
       " 'get_ipython',\n",
       " 'l',\n",
       " 'np',\n",
       " 'quit']"
      ]
     },
     "execution_count": 14,
     "metadata": {},
     "output_type": "execute_result"
    }
   ],
   "source": [
    "dir()"
   ]
  },
  {
   "cell_type": "code",
   "execution_count": 15,
   "id": "9a186860",
   "metadata": {},
   "outputs": [
    {
     "data": {
      "text/plain": [
       "'__main__'"
      ]
     },
     "execution_count": 15,
     "metadata": {},
     "output_type": "execute_result"
    }
   ],
   "source": [
    "__name__"
   ]
  },
  {
   "cell_type": "code",
   "execution_count": 16,
   "id": "a78a15d3",
   "metadata": {},
   "outputs": [],
   "source": [
    "#if __name__ == \"__main__\":\n",
    "#    main()   자기가 만든 main사용"
   ]
  },
  {
   "cell_type": "code",
   "execution_count": 17,
   "id": "87408ce5",
   "metadata": {},
   "outputs": [
    {
     "data": {
      "text/plain": [
       "['T',\n",
       " '__abs__',\n",
       " '__add__',\n",
       " '__and__',\n",
       " '__array__',\n",
       " '__array_finalize__',\n",
       " '__array_function__',\n",
       " '__array_interface__',\n",
       " '__array_prepare__',\n",
       " '__array_priority__',\n",
       " '__array_struct__',\n",
       " '__array_ufunc__',\n",
       " '__array_wrap__',\n",
       " '__bool__',\n",
       " '__class__',\n",
       " '__complex__',\n",
       " '__contains__',\n",
       " '__copy__',\n",
       " '__deepcopy__',\n",
       " '__delattr__',\n",
       " '__delitem__',\n",
       " '__dir__',\n",
       " '__divmod__',\n",
       " '__doc__',\n",
       " '__eq__',\n",
       " '__float__',\n",
       " '__floordiv__',\n",
       " '__format__',\n",
       " '__ge__',\n",
       " '__getattribute__',\n",
       " '__getitem__',\n",
       " '__gt__',\n",
       " '__hash__',\n",
       " '__iadd__',\n",
       " '__iand__',\n",
       " '__ifloordiv__',\n",
       " '__ilshift__',\n",
       " '__imatmul__',\n",
       " '__imod__',\n",
       " '__imul__',\n",
       " '__index__',\n",
       " '__init__',\n",
       " '__init_subclass__',\n",
       " '__int__',\n",
       " '__invert__',\n",
       " '__ior__',\n",
       " '__ipow__',\n",
       " '__irshift__',\n",
       " '__isub__',\n",
       " '__iter__',\n",
       " '__itruediv__',\n",
       " '__ixor__',\n",
       " '__le__',\n",
       " '__len__',\n",
       " '__lshift__',\n",
       " '__lt__',\n",
       " '__matmul__',\n",
       " '__mod__',\n",
       " '__mul__',\n",
       " '__ne__',\n",
       " '__neg__',\n",
       " '__new__',\n",
       " '__or__',\n",
       " '__pos__',\n",
       " '__pow__',\n",
       " '__radd__',\n",
       " '__rand__',\n",
       " '__rdivmod__',\n",
       " '__reduce__',\n",
       " '__reduce_ex__',\n",
       " '__repr__',\n",
       " '__rfloordiv__',\n",
       " '__rlshift__',\n",
       " '__rmatmul__',\n",
       " '__rmod__',\n",
       " '__rmul__',\n",
       " '__ror__',\n",
       " '__rpow__',\n",
       " '__rrshift__',\n",
       " '__rshift__',\n",
       " '__rsub__',\n",
       " '__rtruediv__',\n",
       " '__rxor__',\n",
       " '__setattr__',\n",
       " '__setitem__',\n",
       " '__setstate__',\n",
       " '__sizeof__',\n",
       " '__str__',\n",
       " '__sub__',\n",
       " '__subclasshook__',\n",
       " '__truediv__',\n",
       " '__xor__',\n",
       " 'all',\n",
       " 'any',\n",
       " 'argmax',\n",
       " 'argmin',\n",
       " 'argpartition',\n",
       " 'argsort',\n",
       " 'astype',\n",
       " 'base',\n",
       " 'byteswap',\n",
       " 'choose',\n",
       " 'clip',\n",
       " 'compress',\n",
       " 'conj',\n",
       " 'conjugate',\n",
       " 'copy',\n",
       " 'ctypes',\n",
       " 'cumprod',\n",
       " 'cumsum',\n",
       " 'data',\n",
       " 'diagonal',\n",
       " 'dot',\n",
       " 'dtype',\n",
       " 'dump',\n",
       " 'dumps',\n",
       " 'fill',\n",
       " 'flags',\n",
       " 'flat',\n",
       " 'flatten',\n",
       " 'getfield',\n",
       " 'imag',\n",
       " 'item',\n",
       " 'itemset',\n",
       " 'itemsize',\n",
       " 'max',\n",
       " 'mean',\n",
       " 'min',\n",
       " 'nbytes',\n",
       " 'ndim',\n",
       " 'newbyteorder',\n",
       " 'nonzero',\n",
       " 'partition',\n",
       " 'prod',\n",
       " 'ptp',\n",
       " 'put',\n",
       " 'ravel',\n",
       " 'real',\n",
       " 'repeat',\n",
       " 'reshape',\n",
       " 'resize',\n",
       " 'round',\n",
       " 'searchsorted',\n",
       " 'setfield',\n",
       " 'setflags',\n",
       " 'shape',\n",
       " 'size',\n",
       " 'sort',\n",
       " 'squeeze',\n",
       " 'std',\n",
       " 'strides',\n",
       " 'sum',\n",
       " 'swapaxes',\n",
       " 'take',\n",
       " 'tobytes',\n",
       " 'tofile',\n",
       " 'tolist',\n",
       " 'tostring',\n",
       " 'trace',\n",
       " 'transpose',\n",
       " 'var',\n",
       " 'view']"
      ]
     },
     "execution_count": 17,
     "metadata": {},
     "output_type": "execute_result"
    }
   ],
   "source": [
    "dir(a)"
   ]
  },
  {
   "cell_type": "code",
   "execution_count": 18,
   "id": "294578f1",
   "metadata": {},
   "outputs": [
    {
     "data": {
      "text/plain": [
       "['__add__',\n",
       " '__class__',\n",
       " '__contains__',\n",
       " '__delattr__',\n",
       " '__delitem__',\n",
       " '__dir__',\n",
       " '__doc__',\n",
       " '__eq__',\n",
       " '__format__',\n",
       " '__ge__',\n",
       " '__getattribute__',\n",
       " '__getitem__',\n",
       " '__gt__',\n",
       " '__hash__',\n",
       " '__iadd__',\n",
       " '__imul__',\n",
       " '__init__',\n",
       " '__init_subclass__',\n",
       " '__iter__',\n",
       " '__le__',\n",
       " '__len__',\n",
       " '__lt__',\n",
       " '__mul__',\n",
       " '__ne__',\n",
       " '__new__',\n",
       " '__reduce__',\n",
       " '__reduce_ex__',\n",
       " '__repr__',\n",
       " '__reversed__',\n",
       " '__rmul__',\n",
       " '__setattr__',\n",
       " '__setitem__',\n",
       " '__sizeof__',\n",
       " '__str__',\n",
       " '__subclasshook__',\n",
       " 'append',\n",
       " 'clear',\n",
       " 'copy',\n",
       " 'count',\n",
       " 'extend',\n",
       " 'index',\n",
       " 'insert',\n",
       " 'pop',\n",
       " 'remove',\n",
       " 'reverse',\n",
       " 'sort']"
      ]
     },
     "execution_count": 18,
     "metadata": {},
     "output_type": "execute_result"
    }
   ],
   "source": [
    "dir(l)"
   ]
  },
  {
   "cell_type": "markdown",
   "id": "6537bea0",
   "metadata": {},
   "source": [
    "# Numpy 배열 생성"
   ]
  },
  {
   "cell_type": "code",
   "execution_count": 20,
   "id": "1488ebed",
   "metadata": {},
   "outputs": [],
   "source": [
    "a = np.array([1,2,3,4,5])"
   ]
  },
  {
   "cell_type": "code",
   "execution_count": 21,
   "id": "891f495f",
   "metadata": {},
   "outputs": [
    {
     "data": {
      "text/plain": [
       "array([1, 2, 3, 4, 5])"
      ]
     },
     "execution_count": 21,
     "metadata": {},
     "output_type": "execute_result"
    }
   ],
   "source": [
    "a"
   ]
  },
  {
   "cell_type": "code",
   "execution_count": 22,
   "id": "90e3bb2d",
   "metadata": {},
   "outputs": [
    {
     "data": {
      "text/plain": [
       "1"
      ]
     },
     "execution_count": 22,
     "metadata": {},
     "output_type": "execute_result"
    }
   ],
   "source": [
    "a[0]"
   ]
  },
  {
   "cell_type": "code",
   "execution_count": 23,
   "id": "d5c88386",
   "metadata": {},
   "outputs": [
    {
     "data": {
      "text/plain": [
       "5"
      ]
     },
     "execution_count": 23,
     "metadata": {},
     "output_type": "execute_result"
    }
   ],
   "source": [
    "a[4]"
   ]
  },
  {
   "cell_type": "code",
   "execution_count": 24,
   "id": "fa2a8958",
   "metadata": {},
   "outputs": [
    {
     "data": {
      "text/plain": [
       "numpy.int64"
      ]
     },
     "execution_count": 24,
     "metadata": {},
     "output_type": "execute_result"
    }
   ],
   "source": [
    "type(a[0])"
   ]
  },
  {
   "cell_type": "code",
   "execution_count": 25,
   "id": "9486d0b8",
   "metadata": {},
   "outputs": [
    {
     "data": {
      "text/plain": [
       "[1, 2, 1.2, 'aaa']"
      ]
     },
     "execution_count": 25,
     "metadata": {},
     "output_type": "execute_result"
    }
   ],
   "source": [
    "l"
   ]
  },
  {
   "cell_type": "code",
   "execution_count": 26,
   "id": "cf59efd4",
   "metadata": {},
   "outputs": [],
   "source": [
    "b = np.array(l)"
   ]
  },
  {
   "cell_type": "code",
   "execution_count": 27,
   "id": "d7c552f7",
   "metadata": {},
   "outputs": [
    {
     "data": {
      "text/plain": [
       "array(['1', '2', '1.2', 'aaa'], dtype='<U32')"
      ]
     },
     "execution_count": 27,
     "metadata": {},
     "output_type": "execute_result"
    }
   ],
   "source": [
    "b   #문자열의 배열로 되어있음"
   ]
  },
  {
   "cell_type": "code",
   "execution_count": 29,
   "id": "2781b0aa",
   "metadata": {},
   "outputs": [
    {
     "data": {
      "text/plain": [
       "numpy.str_"
      ]
     },
     "execution_count": 29,
     "metadata": {},
     "output_type": "execute_result"
    }
   ],
   "source": [
    "type(b[0])"
   ]
  },
  {
   "cell_type": "code",
   "execution_count": 30,
   "id": "4f2bc4af",
   "metadata": {},
   "outputs": [],
   "source": [
    "a = np.zeros((3,5)) #1로 채워진 배열"
   ]
  },
  {
   "cell_type": "code",
   "execution_count": 31,
   "id": "6e4a80d3",
   "metadata": {},
   "outputs": [
    {
     "data": {
      "text/plain": [
       "array([[0., 0., 0., 0., 0.],\n",
       "       [0., 0., 0., 0., 0.],\n",
       "       [0., 0., 0., 0., 0.]])"
      ]
     },
     "execution_count": 31,
     "metadata": {},
     "output_type": "execute_result"
    }
   ],
   "source": [
    "a"
   ]
  },
  {
   "cell_type": "code",
   "execution_count": 32,
   "id": "839c2e2e",
   "metadata": {},
   "outputs": [],
   "source": [
    "a=np.zeros((4,3,6,5))"
   ]
  },
  {
   "cell_type": "code",
   "execution_count": 33,
   "id": "e3dbee29",
   "metadata": {
    "scrolled": true
   },
   "outputs": [
    {
     "data": {
      "text/plain": [
       "array([[[[0., 0., 0., 0., 0.],\n",
       "         [0., 0., 0., 0., 0.],\n",
       "         [0., 0., 0., 0., 0.],\n",
       "         [0., 0., 0., 0., 0.],\n",
       "         [0., 0., 0., 0., 0.],\n",
       "         [0., 0., 0., 0., 0.]],\n",
       "\n",
       "        [[0., 0., 0., 0., 0.],\n",
       "         [0., 0., 0., 0., 0.],\n",
       "         [0., 0., 0., 0., 0.],\n",
       "         [0., 0., 0., 0., 0.],\n",
       "         [0., 0., 0., 0., 0.],\n",
       "         [0., 0., 0., 0., 0.]],\n",
       "\n",
       "        [[0., 0., 0., 0., 0.],\n",
       "         [0., 0., 0., 0., 0.],\n",
       "         [0., 0., 0., 0., 0.],\n",
       "         [0., 0., 0., 0., 0.],\n",
       "         [0., 0., 0., 0., 0.],\n",
       "         [0., 0., 0., 0., 0.]]],\n",
       "\n",
       "\n",
       "       [[[0., 0., 0., 0., 0.],\n",
       "         [0., 0., 0., 0., 0.],\n",
       "         [0., 0., 0., 0., 0.],\n",
       "         [0., 0., 0., 0., 0.],\n",
       "         [0., 0., 0., 0., 0.],\n",
       "         [0., 0., 0., 0., 0.]],\n",
       "\n",
       "        [[0., 0., 0., 0., 0.],\n",
       "         [0., 0., 0., 0., 0.],\n",
       "         [0., 0., 0., 0., 0.],\n",
       "         [0., 0., 0., 0., 0.],\n",
       "         [0., 0., 0., 0., 0.],\n",
       "         [0., 0., 0., 0., 0.]],\n",
       "\n",
       "        [[0., 0., 0., 0., 0.],\n",
       "         [0., 0., 0., 0., 0.],\n",
       "         [0., 0., 0., 0., 0.],\n",
       "         [0., 0., 0., 0., 0.],\n",
       "         [0., 0., 0., 0., 0.],\n",
       "         [0., 0., 0., 0., 0.]]],\n",
       "\n",
       "\n",
       "       [[[0., 0., 0., 0., 0.],\n",
       "         [0., 0., 0., 0., 0.],\n",
       "         [0., 0., 0., 0., 0.],\n",
       "         [0., 0., 0., 0., 0.],\n",
       "         [0., 0., 0., 0., 0.],\n",
       "         [0., 0., 0., 0., 0.]],\n",
       "\n",
       "        [[0., 0., 0., 0., 0.],\n",
       "         [0., 0., 0., 0., 0.],\n",
       "         [0., 0., 0., 0., 0.],\n",
       "         [0., 0., 0., 0., 0.],\n",
       "         [0., 0., 0., 0., 0.],\n",
       "         [0., 0., 0., 0., 0.]],\n",
       "\n",
       "        [[0., 0., 0., 0., 0.],\n",
       "         [0., 0., 0., 0., 0.],\n",
       "         [0., 0., 0., 0., 0.],\n",
       "         [0., 0., 0., 0., 0.],\n",
       "         [0., 0., 0., 0., 0.],\n",
       "         [0., 0., 0., 0., 0.]]],\n",
       "\n",
       "\n",
       "       [[[0., 0., 0., 0., 0.],\n",
       "         [0., 0., 0., 0., 0.],\n",
       "         [0., 0., 0., 0., 0.],\n",
       "         [0., 0., 0., 0., 0.],\n",
       "         [0., 0., 0., 0., 0.],\n",
       "         [0., 0., 0., 0., 0.]],\n",
       "\n",
       "        [[0., 0., 0., 0., 0.],\n",
       "         [0., 0., 0., 0., 0.],\n",
       "         [0., 0., 0., 0., 0.],\n",
       "         [0., 0., 0., 0., 0.],\n",
       "         [0., 0., 0., 0., 0.],\n",
       "         [0., 0., 0., 0., 0.]],\n",
       "\n",
       "        [[0., 0., 0., 0., 0.],\n",
       "         [0., 0., 0., 0., 0.],\n",
       "         [0., 0., 0., 0., 0.],\n",
       "         [0., 0., 0., 0., 0.],\n",
       "         [0., 0., 0., 0., 0.],\n",
       "         [0., 0., 0., 0., 0.]]]])"
      ]
     },
     "execution_count": 33,
     "metadata": {},
     "output_type": "execute_result"
    }
   ],
   "source": [
    "a"
   ]
  },
  {
   "cell_type": "code",
   "execution_count": 34,
   "id": "d291e42c",
   "metadata": {},
   "outputs": [],
   "source": [
    "#단위행렬 만드는 2가지 방법\n",
    "a = np.eye(5)"
   ]
  },
  {
   "cell_type": "code",
   "execution_count": 35,
   "id": "887bdda9",
   "metadata": {},
   "outputs": [
    {
     "data": {
      "text/plain": [
       "array([[1., 0., 0., 0., 0.],\n",
       "       [0., 1., 0., 0., 0.],\n",
       "       [0., 0., 1., 0., 0.],\n",
       "       [0., 0., 0., 1., 0.],\n",
       "       [0., 0., 0., 0., 1.]])"
      ]
     },
     "execution_count": 35,
     "metadata": {},
     "output_type": "execute_result"
    }
   ],
   "source": [
    "a"
   ]
  },
  {
   "cell_type": "code",
   "execution_count": 36,
   "id": "fb1b3cd2",
   "metadata": {},
   "outputs": [],
   "source": [
    "a = np.identity(5) #단순한 것"
   ]
  },
  {
   "cell_type": "code",
   "execution_count": 37,
   "id": "a46c3e94",
   "metadata": {},
   "outputs": [
    {
     "data": {
      "text/plain": [
       "array([[1., 0., 0., 0., 0.],\n",
       "       [0., 1., 0., 0., 0.],\n",
       "       [0., 0., 1., 0., 0.],\n",
       "       [0., 0., 0., 1., 0.],\n",
       "       [0., 0., 0., 0., 1.]])"
      ]
     },
     "execution_count": 37,
     "metadata": {},
     "output_type": "execute_result"
    }
   ],
   "source": [
    "a"
   ]
  },
  {
   "cell_type": "code",
   "execution_count": 38,
   "id": "0a0af9da",
   "metadata": {},
   "outputs": [],
   "source": [
    "a = np.eye(5, k=1) #1번 인덱스 부터"
   ]
  },
  {
   "cell_type": "code",
   "execution_count": 39,
   "id": "67fd92db",
   "metadata": {},
   "outputs": [
    {
     "data": {
      "text/plain": [
       "array([[0., 1., 0., 0., 0.],\n",
       "       [0., 0., 1., 0., 0.],\n",
       "       [0., 0., 0., 1., 0.],\n",
       "       [0., 0., 0., 0., 1.],\n",
       "       [0., 0., 0., 0., 0.]])"
      ]
     },
     "execution_count": 39,
     "metadata": {},
     "output_type": "execute_result"
    }
   ],
   "source": [
    "a"
   ]
  },
  {
   "cell_type": "code",
   "execution_count": 40,
   "id": "693c736e",
   "metadata": {},
   "outputs": [],
   "source": [
    "a = np.eye(5, k=2) #2번 인덱스 부터"
   ]
  },
  {
   "cell_type": "code",
   "execution_count": 41,
   "id": "b4498149",
   "metadata": {},
   "outputs": [
    {
     "data": {
      "text/plain": [
       "array([[0., 0., 1., 0., 0.],\n",
       "       [0., 0., 0., 1., 0.],\n",
       "       [0., 0., 0., 0., 1.],\n",
       "       [0., 0., 0., 0., 0.],\n",
       "       [0., 0., 0., 0., 0.]])"
      ]
     },
     "execution_count": 41,
     "metadata": {},
     "output_type": "execute_result"
    }
   ],
   "source": [
    "a"
   ]
  },
  {
   "cell_type": "code",
   "execution_count": 42,
   "id": "a7a926c4",
   "metadata": {},
   "outputs": [],
   "source": [
    "a = np.eye(5,k=-1)"
   ]
  },
  {
   "cell_type": "code",
   "execution_count": 43,
   "id": "247377bb",
   "metadata": {},
   "outputs": [
    {
     "data": {
      "text/plain": [
       "array([[0., 0., 0., 0., 0.],\n",
       "       [1., 0., 0., 0., 0.],\n",
       "       [0., 1., 0., 0., 0.],\n",
       "       [0., 0., 1., 0., 0.],\n",
       "       [0., 0., 0., 1., 0.]])"
      ]
     },
     "execution_count": 43,
     "metadata": {},
     "output_type": "execute_result"
    }
   ],
   "source": [
    "a"
   ]
  },
  {
   "cell_type": "code",
   "execution_count": 44,
   "id": "ffcf0705",
   "metadata": {},
   "outputs": [],
   "source": [
    "a = np.ones((3,5)) #1로 채워진 배열"
   ]
  },
  {
   "cell_type": "code",
   "execution_count": 45,
   "id": "e101b8ef",
   "metadata": {},
   "outputs": [
    {
     "data": {
      "text/plain": [
       "array([[1., 1., 1., 1., 1.],\n",
       "       [1., 1., 1., 1., 1.],\n",
       "       [1., 1., 1., 1., 1.]])"
      ]
     },
     "execution_count": 45,
     "metadata": {},
     "output_type": "execute_result"
    }
   ],
   "source": [
    "a"
   ]
  },
  {
   "cell_type": "code",
   "execution_count": 46,
   "id": "7434e259",
   "metadata": {},
   "outputs": [],
   "source": [
    "a = np.full((3,5), 102) #원하는 값으로 채워진 배열"
   ]
  },
  {
   "cell_type": "code",
   "execution_count": 47,
   "id": "0f77653e",
   "metadata": {},
   "outputs": [
    {
     "data": {
      "text/plain": [
       "array([[102, 102, 102, 102, 102],\n",
       "       [102, 102, 102, 102, 102],\n",
       "       [102, 102, 102, 102, 102]])"
      ]
     },
     "execution_count": 47,
     "metadata": {},
     "output_type": "execute_result"
    }
   ],
   "source": [
    "a"
   ]
  },
  {
   "cell_type": "code",
   "execution_count": 48,
   "id": "191d84ef",
   "metadata": {},
   "outputs": [],
   "source": [
    "a = np.full((2,3), False)"
   ]
  },
  {
   "cell_type": "code",
   "execution_count": 49,
   "id": "bf5a5009",
   "metadata": {},
   "outputs": [
    {
     "data": {
      "text/plain": [
       "array([[False, False, False],\n",
       "       [False, False, False]])"
      ]
     },
     "execution_count": 49,
     "metadata": {},
     "output_type": "execute_result"
    }
   ],
   "source": [
    "a"
   ]
  },
  {
   "cell_type": "code",
   "execution_count": 50,
   "id": "d174716a",
   "metadata": {},
   "outputs": [],
   "source": [
    "a = np.empty((2,3)) #빈걸(쓰레기값)로 채워진 배열 생성(메모리에 공간만 확보, 최기화x)"
   ]
  },
  {
   "cell_type": "code",
   "execution_count": 52,
   "id": "31506512",
   "metadata": {},
   "outputs": [
    {
     "data": {
      "text/plain": [
       "array([[0.e+000, 1.e-323, 0.e+000],\n",
       "       [0.e+000, 0.e+000, 0.e+000]])"
      ]
     },
     "execution_count": 52,
     "metadata": {},
     "output_type": "execute_result"
    }
   ],
   "source": [
    "a"
   ]
  },
  {
   "cell_type": "code",
   "execution_count": 53,
   "id": "c556da10",
   "metadata": {},
   "outputs": [],
   "source": [
    "b = np.ones_like(a) #a의 모양만 가져와 1로채움"
   ]
  },
  {
   "cell_type": "code",
   "execution_count": 54,
   "id": "b0ea23aa",
   "metadata": {},
   "outputs": [
    {
     "data": {
      "text/plain": [
       "array([[1., 1., 1.],\n",
       "       [1., 1., 1.]])"
      ]
     },
     "execution_count": 54,
     "metadata": {},
     "output_type": "execute_result"
    }
   ],
   "source": [
    "b"
   ]
  },
  {
   "cell_type": "code",
   "execution_count": 55,
   "id": "0508b96d",
   "metadata": {},
   "outputs": [
    {
     "data": {
      "text/plain": [
       "array([[0.e+000, 1.e-323, 0.e+000],\n",
       "       [0.e+000, 0.e+000, 0.e+000]])"
      ]
     },
     "execution_count": 55,
     "metadata": {},
     "output_type": "execute_result"
    }
   ],
   "source": [
    "a"
   ]
  },
  {
   "cell_type": "code",
   "execution_count": 56,
   "id": "5c9b6db5",
   "metadata": {},
   "outputs": [
    {
     "data": {
      "text/plain": [
       "[0, 1, 2, 3, 4, 5, 6, 7, 8, 9]"
      ]
     },
     "execution_count": 56,
     "metadata": {},
     "output_type": "execute_result"
    }
   ],
   "source": [
    "list(range(0,10))"
   ]
  },
  {
   "cell_type": "code",
   "execution_count": 57,
   "id": "1d4a8741",
   "metadata": {},
   "outputs": [
    {
     "ename": "TypeError",
     "evalue": "'float' object cannot be interpreted as an integer",
     "output_type": "error",
     "traceback": [
      "\u001b[0;31m---------------------------------------------------------------------------\u001b[0m",
      "\u001b[0;31mTypeError\u001b[0m                                 Traceback (most recent call last)",
      "\u001b[0;32m/var/folders/tk/_xgwj1jx765d70vyp9fbnn140000gn/T/ipykernel_1500/150918675.py\u001b[0m in \u001b[0;36m<module>\u001b[0;34m\u001b[0m\n\u001b[0;32m----> 1\u001b[0;31m \u001b[0mlist\u001b[0m\u001b[0;34m(\u001b[0m\u001b[0mrange\u001b[0m\u001b[0;34m(\u001b[0m\u001b[0;36m0\u001b[0m\u001b[0;34m,\u001b[0m\u001b[0;36m1\u001b[0m\u001b[0;34m,\u001b[0m\u001b[0;36m0.1\u001b[0m\u001b[0;34m)\u001b[0m\u001b[0;34m)\u001b[0m\u001b[0;34m\u001b[0m\u001b[0;34m\u001b[0m\u001b[0m\n\u001b[0m",
      "\u001b[0;31mTypeError\u001b[0m: 'float' object cannot be interpreted as an integer"
     ]
    }
   ],
   "source": [
    "list(range(0,1,0.1)) #실수값 불가"
   ]
  },
  {
   "cell_type": "code",
   "execution_count": 58,
   "id": "67f2e73b",
   "metadata": {},
   "outputs": [
    {
     "data": {
      "text/plain": [
       "array([0, 1, 2, 3, 4, 5, 6, 7, 8, 9])"
      ]
     },
     "execution_count": 58,
     "metadata": {},
     "output_type": "execute_result"
    }
   ],
   "source": [
    "np.arange(10)"
   ]
  },
  {
   "cell_type": "code",
   "execution_count": 59,
   "id": "62af151a",
   "metadata": {},
   "outputs": [
    {
     "data": {
      "text/plain": [
       "array([0. , 0.1, 0.2, 0.3, 0.4, 0.5, 0.6, 0.7, 0.8, 0.9])"
      ]
     },
     "execution_count": 59,
     "metadata": {},
     "output_type": "execute_result"
    }
   ],
   "source": [
    "np.arange(0,1,0.1)"
   ]
  },
  {
   "cell_type": "markdown",
   "id": "39bd2c4c",
   "metadata": {},
   "source": [
    "# 등간격으로 나누기"
   ]
  },
  {
   "cell_type": "code",
   "execution_count": 60,
   "id": "31b38efc",
   "metadata": {},
   "outputs": [],
   "source": [
    "a = np.linspace(0,100) #0부터 100까지 50(디폴트)개로 나눔"
   ]
  },
  {
   "cell_type": "code",
   "execution_count": 61,
   "id": "abd6e8f5",
   "metadata": {},
   "outputs": [
    {
     "data": {
      "text/plain": [
       "array([  0.        ,   2.04081633,   4.08163265,   6.12244898,\n",
       "         8.16326531,  10.20408163,  12.24489796,  14.28571429,\n",
       "        16.32653061,  18.36734694,  20.40816327,  22.44897959,\n",
       "        24.48979592,  26.53061224,  28.57142857,  30.6122449 ,\n",
       "        32.65306122,  34.69387755,  36.73469388,  38.7755102 ,\n",
       "        40.81632653,  42.85714286,  44.89795918,  46.93877551,\n",
       "        48.97959184,  51.02040816,  53.06122449,  55.10204082,\n",
       "        57.14285714,  59.18367347,  61.2244898 ,  63.26530612,\n",
       "        65.30612245,  67.34693878,  69.3877551 ,  71.42857143,\n",
       "        73.46938776,  75.51020408,  77.55102041,  79.59183673,\n",
       "        81.63265306,  83.67346939,  85.71428571,  87.75510204,\n",
       "        89.79591837,  91.83673469,  93.87755102,  95.91836735,\n",
       "        97.95918367, 100.        ])"
      ]
     },
     "execution_count": 61,
     "metadata": {},
     "output_type": "execute_result"
    }
   ],
   "source": [
    "a"
   ]
  },
  {
   "cell_type": "code",
   "execution_count": 66,
   "id": "4ecf1ab3",
   "metadata": {},
   "outputs": [],
   "source": [
    "a = np.linspace(0,98)"
   ]
  },
  {
   "cell_type": "code",
   "execution_count": 67,
   "id": "af04f747",
   "metadata": {},
   "outputs": [
    {
     "data": {
      "text/plain": [
       "array([ 0.,  2.,  4.,  6.,  8., 10., 12., 14., 16., 18., 20., 22., 24.,\n",
       "       26., 28., 30., 32., 34., 36., 38., 40., 42., 44., 46., 48., 50.,\n",
       "       52., 54., 56., 58., 60., 62., 64., 66., 68., 70., 72., 74., 76.,\n",
       "       78., 80., 82., 84., 86., 88., 90., 92., 94., 96., 98.])"
      ]
     },
     "execution_count": 67,
     "metadata": {},
     "output_type": "execute_result"
    }
   ],
   "source": [
    "a"
   ]
  },
  {
   "cell_type": "code",
   "execution_count": 68,
   "id": "f9c2ccc3",
   "metadata": {},
   "outputs": [],
   "source": [
    "a = np.linspace(0,100,2) #0부터 100까지 2개"
   ]
  },
  {
   "cell_type": "code",
   "execution_count": 69,
   "id": "935631dd",
   "metadata": {},
   "outputs": [
    {
     "data": {
      "text/plain": [
       "array([  0., 100.])"
      ]
     },
     "execution_count": 69,
     "metadata": {},
     "output_type": "execute_result"
    }
   ],
   "source": [
    "a"
   ]
  },
  {
   "cell_type": "code",
   "execution_count": 71,
   "id": "35702e61",
   "metadata": {},
   "outputs": [],
   "source": [
    "a = np.logspace(1,100,20)"
   ]
  },
  {
   "cell_type": "code",
   "execution_count": 72,
   "id": "97d6a5bb",
   "metadata": {},
   "outputs": [
    {
     "data": {
      "text/plain": [
       "array([1.00000000e+001, 1.62377674e+006, 2.63665090e+011, 4.28133240e+016,\n",
       "       6.95192796e+021, 1.12883789e+027, 1.83298071e+032, 2.97635144e+037,\n",
       "       4.83293024e+042, 7.84759970e+047, 1.27427499e+053, 2.06913808e+058,\n",
       "       3.35981829e+063, 5.45559478e+068, 8.85866790e+073, 1.43844989e+079,\n",
       "       2.33572147e+084, 3.79269019e+089, 6.15848211e+094, 1.00000000e+100])"
      ]
     },
     "execution_count": 72,
     "metadata": {},
     "output_type": "execute_result"
    }
   ],
   "source": [
    "a"
   ]
  },
  {
   "cell_type": "markdown",
   "id": "45231fab",
   "metadata": {},
   "source": [
    "### ndarray 속성"
   ]
  },
  {
   "cell_type": "code",
   "execution_count": 75,
   "id": "f4f9711e",
   "metadata": {},
   "outputs": [],
   "source": [
    "a= np.ones(5)"
   ]
  },
  {
   "cell_type": "code",
   "execution_count": 76,
   "id": "b6f3c281",
   "metadata": {},
   "outputs": [
    {
     "data": {
      "text/plain": [
       "array([1., 1., 1., 1., 1.])"
      ]
     },
     "execution_count": 76,
     "metadata": {},
     "output_type": "execute_result"
    }
   ],
   "source": [
    "a"
   ]
  },
  {
   "cell_type": "code",
   "execution_count": 77,
   "id": "8d34b1b4",
   "metadata": {},
   "outputs": [
    {
     "data": {
      "text/plain": [
       "['T',\n",
       " '__abs__',\n",
       " '__add__',\n",
       " '__and__',\n",
       " '__array__',\n",
       " '__array_finalize__',\n",
       " '__array_function__',\n",
       " '__array_interface__',\n",
       " '__array_prepare__',\n",
       " '__array_priority__',\n",
       " '__array_struct__',\n",
       " '__array_ufunc__',\n",
       " '__array_wrap__',\n",
       " '__bool__',\n",
       " '__class__',\n",
       " '__complex__',\n",
       " '__contains__',\n",
       " '__copy__',\n",
       " '__deepcopy__',\n",
       " '__delattr__',\n",
       " '__delitem__',\n",
       " '__dir__',\n",
       " '__divmod__',\n",
       " '__doc__',\n",
       " '__eq__',\n",
       " '__float__',\n",
       " '__floordiv__',\n",
       " '__format__',\n",
       " '__ge__',\n",
       " '__getattribute__',\n",
       " '__getitem__',\n",
       " '__gt__',\n",
       " '__hash__',\n",
       " '__iadd__',\n",
       " '__iand__',\n",
       " '__ifloordiv__',\n",
       " '__ilshift__',\n",
       " '__imatmul__',\n",
       " '__imod__',\n",
       " '__imul__',\n",
       " '__index__',\n",
       " '__init__',\n",
       " '__init_subclass__',\n",
       " '__int__',\n",
       " '__invert__',\n",
       " '__ior__',\n",
       " '__ipow__',\n",
       " '__irshift__',\n",
       " '__isub__',\n",
       " '__iter__',\n",
       " '__itruediv__',\n",
       " '__ixor__',\n",
       " '__le__',\n",
       " '__len__',\n",
       " '__lshift__',\n",
       " '__lt__',\n",
       " '__matmul__',\n",
       " '__mod__',\n",
       " '__mul__',\n",
       " '__ne__',\n",
       " '__neg__',\n",
       " '__new__',\n",
       " '__or__',\n",
       " '__pos__',\n",
       " '__pow__',\n",
       " '__radd__',\n",
       " '__rand__',\n",
       " '__rdivmod__',\n",
       " '__reduce__',\n",
       " '__reduce_ex__',\n",
       " '__repr__',\n",
       " '__rfloordiv__',\n",
       " '__rlshift__',\n",
       " '__rmatmul__',\n",
       " '__rmod__',\n",
       " '__rmul__',\n",
       " '__ror__',\n",
       " '__rpow__',\n",
       " '__rrshift__',\n",
       " '__rshift__',\n",
       " '__rsub__',\n",
       " '__rtruediv__',\n",
       " '__rxor__',\n",
       " '__setattr__',\n",
       " '__setitem__',\n",
       " '__setstate__',\n",
       " '__sizeof__',\n",
       " '__str__',\n",
       " '__sub__',\n",
       " '__subclasshook__',\n",
       " '__truediv__',\n",
       " '__xor__',\n",
       " 'all',\n",
       " 'any',\n",
       " 'argmax',\n",
       " 'argmin',\n",
       " 'argpartition',\n",
       " 'argsort',\n",
       " 'astype',\n",
       " 'base',\n",
       " 'byteswap',\n",
       " 'choose',\n",
       " 'clip',\n",
       " 'compress',\n",
       " 'conj',\n",
       " 'conjugate',\n",
       " 'copy',\n",
       " 'ctypes',\n",
       " 'cumprod',\n",
       " 'cumsum',\n",
       " 'data',\n",
       " 'diagonal',\n",
       " 'dot',\n",
       " 'dtype',\n",
       " 'dump',\n",
       " 'dumps',\n",
       " 'fill',\n",
       " 'flags',\n",
       " 'flat',\n",
       " 'flatten',\n",
       " 'getfield',\n",
       " 'imag',\n",
       " 'item',\n",
       " 'itemset',\n",
       " 'itemsize',\n",
       " 'max',\n",
       " 'mean',\n",
       " 'min',\n",
       " 'nbytes',\n",
       " 'ndim',\n",
       " 'newbyteorder',\n",
       " 'nonzero',\n",
       " 'partition',\n",
       " 'prod',\n",
       " 'ptp',\n",
       " 'put',\n",
       " 'ravel',\n",
       " 'real',\n",
       " 'repeat',\n",
       " 'reshape',\n",
       " 'resize',\n",
       " 'round',\n",
       " 'searchsorted',\n",
       " 'setfield',\n",
       " 'setflags',\n",
       " 'shape',\n",
       " 'size',\n",
       " 'sort',\n",
       " 'squeeze',\n",
       " 'std',\n",
       " 'strides',\n",
       " 'sum',\n",
       " 'swapaxes',\n",
       " 'take',\n",
       " 'tobytes',\n",
       " 'tofile',\n",
       " 'tolist',\n",
       " 'tostring',\n",
       " 'trace',\n",
       " 'transpose',\n",
       " 'var',\n",
       " 'view']"
      ]
     },
     "execution_count": 77,
     "metadata": {},
     "output_type": "execute_result"
    }
   ],
   "source": [
    "dir(a)"
   ]
  },
  {
   "cell_type": "code",
   "execution_count": 78,
   "id": "56f32061",
   "metadata": {},
   "outputs": [
    {
     "data": {
      "text/plain": [
       "dtype('float64')"
      ]
     },
     "execution_count": 78,
     "metadata": {},
     "output_type": "execute_result"
    }
   ],
   "source": [
    "a.dtype #배열의 데이터 타입"
   ]
  },
  {
   "cell_type": "code",
   "execution_count": 79,
   "id": "0795b1ce",
   "metadata": {},
   "outputs": [],
   "source": [
    "a = np.ones(5,dtype=np.int8) #데이터 타입 지정"
   ]
  },
  {
   "cell_type": "code",
   "execution_count": 80,
   "id": "78f1c006",
   "metadata": {},
   "outputs": [
    {
     "data": {
      "text/plain": [
       "array([1, 1, 1, 1, 1], dtype=int8)"
      ]
     },
     "execution_count": 80,
     "metadata": {},
     "output_type": "execute_result"
    }
   ],
   "source": [
    "a"
   ]
  },
  {
   "cell_type": "code",
   "execution_count": 81,
   "id": "714231c0",
   "metadata": {},
   "outputs": [
    {
     "data": {
      "text/plain": [
       "dtype('int8')"
      ]
     },
     "execution_count": 81,
     "metadata": {},
     "output_type": "execute_result"
    }
   ],
   "source": [
    "a.dtype"
   ]
  },
  {
   "cell_type": "code",
   "execution_count": 82,
   "id": "ba3edda7",
   "metadata": {},
   "outputs": [
    {
     "data": {
      "text/plain": [
       "(5,)"
      ]
     },
     "execution_count": 82,
     "metadata": {},
     "output_type": "execute_result"
    }
   ],
   "source": [
    "a.shape   #배열 모양"
   ]
  },
  {
   "cell_type": "code",
   "execution_count": 83,
   "id": "cdc42314",
   "metadata": {},
   "outputs": [],
   "source": [
    "a = np.ones((3,5))"
   ]
  },
  {
   "cell_type": "code",
   "execution_count": 84,
   "id": "5d16962f",
   "metadata": {},
   "outputs": [
    {
     "data": {
      "text/plain": [
       "array([[1., 1., 1., 1., 1.],\n",
       "       [1., 1., 1., 1., 1.],\n",
       "       [1., 1., 1., 1., 1.]])"
      ]
     },
     "execution_count": 84,
     "metadata": {},
     "output_type": "execute_result"
    }
   ],
   "source": [
    "a"
   ]
  },
  {
   "cell_type": "code",
   "execution_count": 85,
   "id": "c6a46e1e",
   "metadata": {},
   "outputs": [
    {
     "data": {
      "text/plain": [
       "(3, 5)"
      ]
     },
     "execution_count": 85,
     "metadata": {},
     "output_type": "execute_result"
    }
   ],
   "source": [
    "a.shape"
   ]
  },
  {
   "cell_type": "code",
   "execution_count": 86,
   "id": "6b83482b",
   "metadata": {},
   "outputs": [
    {
     "data": {
      "text/plain": [
       "2"
      ]
     },
     "execution_count": 86,
     "metadata": {},
     "output_type": "execute_result"
    }
   ],
   "source": [
    "a.ndim #배열의 차원확인"
   ]
  },
  {
   "cell_type": "code",
   "execution_count": 92,
   "id": "e028f48a",
   "metadata": {},
   "outputs": [],
   "source": [
    "a = np.zeros((3,2,2,4))"
   ]
  },
  {
   "cell_type": "code",
   "execution_count": 93,
   "id": "d6741855",
   "metadata": {
    "scrolled": true
   },
   "outputs": [
    {
     "data": {
      "text/plain": [
       "array([[[[0., 0., 0., 0.],\n",
       "         [0., 0., 0., 0.]],\n",
       "\n",
       "        [[0., 0., 0., 0.],\n",
       "         [0., 0., 0., 0.]]],\n",
       "\n",
       "\n",
       "       [[[0., 0., 0., 0.],\n",
       "         [0., 0., 0., 0.]],\n",
       "\n",
       "        [[0., 0., 0., 0.],\n",
       "         [0., 0., 0., 0.]]],\n",
       "\n",
       "\n",
       "       [[[0., 0., 0., 0.],\n",
       "         [0., 0., 0., 0.]],\n",
       "\n",
       "        [[0., 0., 0., 0.],\n",
       "         [0., 0., 0., 0.]]]])"
      ]
     },
     "execution_count": 93,
     "metadata": {},
     "output_type": "execute_result"
    }
   ],
   "source": [
    "a"
   ]
  },
  {
   "cell_type": "code",
   "execution_count": 89,
   "id": "d790431f",
   "metadata": {},
   "outputs": [
    {
     "data": {
      "text/plain": [
       "4"
      ]
     },
     "execution_count": 89,
     "metadata": {},
     "output_type": "execute_result"
    }
   ],
   "source": [
    "a.ndim"
   ]
  },
  {
   "cell_type": "code",
   "execution_count": 94,
   "id": "f8b09690",
   "metadata": {},
   "outputs": [
    {
     "data": {
      "text/plain": [
       "48"
      ]
     },
     "execution_count": 94,
     "metadata": {},
     "output_type": "execute_result"
    }
   ],
   "source": [
    "a.size #원소 갯수"
   ]
  },
  {
   "cell_type": "code",
   "execution_count": 95,
   "id": "1f9a2bf2",
   "metadata": {},
   "outputs": [
    {
     "data": {
      "text/plain": [
       "8"
      ]
     },
     "execution_count": 95,
     "metadata": {},
     "output_type": "execute_result"
    }
   ],
   "source": [
    "a.itemsize #배열안의 아이템 크기(데이터타입의 크기)"
   ]
  },
  {
   "cell_type": "code",
   "execution_count": 96,
   "id": "4f2a2dfb",
   "metadata": {},
   "outputs": [
    {
     "data": {
      "text/plain": [
       "dtype('float64')"
      ]
     },
     "execution_count": 96,
     "metadata": {},
     "output_type": "execute_result"
    }
   ],
   "source": [
    "a.dtype"
   ]
  },
  {
   "cell_type": "markdown",
   "id": "15821fc0",
   "metadata": {},
   "source": [
    "### 파이썬 리스트 vs numpy 배열 속도 비교"
   ]
  },
  {
   "cell_type": "code",
   "execution_count": 99,
   "id": "d1597907",
   "metadata": {},
   "outputs": [
    {
     "name": "stdout",
     "output_type": "stream",
     "text": [
      "CPU times: user 29.2 ms, sys: 597 µs, total: 29.8 ms\n",
      "Wall time: 29.7 ms\n"
     ]
    },
    {
     "data": {
      "text/plain": [
       "499999500000"
      ]
     },
     "execution_count": 99,
     "metadata": {},
     "output_type": "execute_result"
    }
   ],
   "source": [
    "%time sum(range(1000000))"
   ]
  },
  {
   "cell_type": "code",
   "execution_count": 100,
   "id": "36d143cd",
   "metadata": {},
   "outputs": [
    {
     "name": "stdout",
     "output_type": "stream",
     "text": [
      "CPU times: user 5.61 ms, sys: 7.23 ms, total: 12.8 ms\n",
      "Wall time: 13.2 ms\n"
     ]
    },
    {
     "data": {
      "text/plain": [
       "499999500000"
      ]
     },
     "execution_count": 100,
     "metadata": {},
     "output_type": "execute_result"
    }
   ],
   "source": [
    "%time np.sum(np.arange(1000000)) #더 빠르다"
   ]
  },
  {
   "cell_type": "markdown",
   "id": "513814d1",
   "metadata": {},
   "source": [
    "# 복사"
   ]
  },
  {
   "cell_type": "code",
   "execution_count": 101,
   "id": "cf69dc6f",
   "metadata": {},
   "outputs": [],
   "source": [
    "list_a = [1,2,3,4,5,6,7,8]"
   ]
  },
  {
   "cell_type": "code",
   "execution_count": 102,
   "id": "950ea60f",
   "metadata": {},
   "outputs": [],
   "source": [
    "list_b = list_a"
   ]
  },
  {
   "cell_type": "code",
   "execution_count": 103,
   "id": "f815d3cc",
   "metadata": {},
   "outputs": [
    {
     "data": {
      "text/plain": [
       "[1, 2, 3, 4, 5, 6, 7, 8]"
      ]
     },
     "execution_count": 103,
     "metadata": {},
     "output_type": "execute_result"
    }
   ],
   "source": [
    "list_a"
   ]
  },
  {
   "cell_type": "code",
   "execution_count": 104,
   "id": "0852d20b",
   "metadata": {},
   "outputs": [
    {
     "data": {
      "text/plain": [
       "[1, 2, 3, 4, 5, 6, 7, 8]"
      ]
     },
     "execution_count": 104,
     "metadata": {},
     "output_type": "execute_result"
    }
   ],
   "source": [
    "list_b"
   ]
  },
  {
   "cell_type": "code",
   "execution_count": 105,
   "id": "e627151f",
   "metadata": {},
   "outputs": [],
   "source": [
    "list_b[3] = 1004"
   ]
  },
  {
   "cell_type": "code",
   "execution_count": 106,
   "id": "c1cc982a",
   "metadata": {},
   "outputs": [
    {
     "data": {
      "text/plain": [
       "[1, 2, 3, 1004, 5, 6, 7, 8]"
      ]
     },
     "execution_count": 106,
     "metadata": {},
     "output_type": "execute_result"
    }
   ],
   "source": [
    "list_b"
   ]
  },
  {
   "cell_type": "code",
   "execution_count": 107,
   "id": "c75fa527",
   "metadata": {},
   "outputs": [
    {
     "data": {
      "text/plain": [
       "[1, 2, 3, 1004, 5, 6, 7, 8]"
      ]
     },
     "execution_count": 107,
     "metadata": {},
     "output_type": "execute_result"
    }
   ],
   "source": [
    "list_a #a도 바뀜"
   ]
  },
  {
   "cell_type": "code",
   "execution_count": 108,
   "id": "c353c8a0",
   "metadata": {},
   "outputs": [],
   "source": [
    "list_a = [1,2,3,4,5,6,7,8]\n",
    "list_b = list_a.copy()"
   ]
  },
  {
   "cell_type": "code",
   "execution_count": 109,
   "id": "574cd370",
   "metadata": {},
   "outputs": [
    {
     "data": {
      "text/plain": [
       "[1, 2, 3, 4, 5, 6, 7, 8]"
      ]
     },
     "execution_count": 109,
     "metadata": {},
     "output_type": "execute_result"
    }
   ],
   "source": [
    "list_b"
   ]
  },
  {
   "cell_type": "code",
   "execution_count": 110,
   "id": "fd7d37a7",
   "metadata": {},
   "outputs": [
    {
     "data": {
      "text/plain": [
       "[1, 2, 3, 4, 5, 6, 7, 8]"
      ]
     },
     "execution_count": 110,
     "metadata": {},
     "output_type": "execute_result"
    }
   ],
   "source": [
    "list_a"
   ]
  },
  {
   "cell_type": "code",
   "execution_count": 111,
   "id": "61896288",
   "metadata": {},
   "outputs": [],
   "source": [
    "list_b[3] = 1004"
   ]
  },
  {
   "cell_type": "code",
   "execution_count": 112,
   "id": "7f00595e",
   "metadata": {},
   "outputs": [
    {
     "data": {
      "text/plain": [
       "[1, 2, 3, 1004, 5, 6, 7, 8]"
      ]
     },
     "execution_count": 112,
     "metadata": {},
     "output_type": "execute_result"
    }
   ],
   "source": [
    "list_b"
   ]
  },
  {
   "cell_type": "code",
   "execution_count": 113,
   "id": "0110c9f1",
   "metadata": {},
   "outputs": [
    {
     "data": {
      "text/plain": [
       "[1, 2, 3, 4, 5, 6, 7, 8]"
      ]
     },
     "execution_count": 113,
     "metadata": {},
     "output_type": "execute_result"
    }
   ],
   "source": [
    "list_a"
   ]
  },
  {
   "cell_type": "code",
   "execution_count": 114,
   "id": "22c2dd58",
   "metadata": {},
   "outputs": [],
   "source": [
    "list_c = list_a[1:4]"
   ]
  },
  {
   "cell_type": "code",
   "execution_count": 115,
   "id": "ff2f93e8",
   "metadata": {},
   "outputs": [
    {
     "data": {
      "text/plain": [
       "[2, 3, 4]"
      ]
     },
     "execution_count": 115,
     "metadata": {},
     "output_type": "execute_result"
    }
   ],
   "source": [
    "list_c"
   ]
  },
  {
   "cell_type": "code",
   "execution_count": 116,
   "id": "6c80cc68",
   "metadata": {},
   "outputs": [],
   "source": [
    "list_c[0] = 2004"
   ]
  },
  {
   "cell_type": "code",
   "execution_count": 117,
   "id": "311879b7",
   "metadata": {},
   "outputs": [
    {
     "data": {
      "text/plain": [
       "[2004, 3, 4]"
      ]
     },
     "execution_count": 117,
     "metadata": {},
     "output_type": "execute_result"
    }
   ],
   "source": [
    "list_c"
   ]
  },
  {
   "cell_type": "code",
   "execution_count": 118,
   "id": "a3b64803",
   "metadata": {},
   "outputs": [
    {
     "data": {
      "text/plain": [
       "[1, 2, 3, 4, 5, 6, 7, 8]"
      ]
     },
     "execution_count": 118,
     "metadata": {},
     "output_type": "execute_result"
    }
   ],
   "source": [
    "list_a"
   ]
  },
  {
   "cell_type": "code",
   "execution_count": 120,
   "id": "205fbd13",
   "metadata": {},
   "outputs": [],
   "source": [
    "list_a = [[10,20,30], 1,2,3]\n",
    "list_d = list_a.copy()"
   ]
  },
  {
   "cell_type": "code",
   "execution_count": 121,
   "id": "0fa3bedd",
   "metadata": {},
   "outputs": [
    {
     "data": {
      "text/plain": [
       "[[10, 20, 30], 1, 2, 3]"
      ]
     },
     "execution_count": 121,
     "metadata": {},
     "output_type": "execute_result"
    }
   ],
   "source": [
    "list_d"
   ]
  },
  {
   "cell_type": "code",
   "execution_count": 122,
   "id": "ee5bb8b2",
   "metadata": {},
   "outputs": [],
   "source": [
    "list_d[-1] = 3003"
   ]
  },
  {
   "cell_type": "code",
   "execution_count": 123,
   "id": "e887f7fe",
   "metadata": {},
   "outputs": [
    {
     "data": {
      "text/plain": [
       "[[10, 20, 30], 1, 2, 3003]"
      ]
     },
     "execution_count": 123,
     "metadata": {},
     "output_type": "execute_result"
    }
   ],
   "source": [
    "list_d"
   ]
  },
  {
   "cell_type": "code",
   "execution_count": 124,
   "id": "8806de07",
   "metadata": {},
   "outputs": [
    {
     "data": {
      "text/plain": [
       "[[10, 20, 30], 1, 2, 3]"
      ]
     },
     "execution_count": 124,
     "metadata": {},
     "output_type": "execute_result"
    }
   ],
   "source": [
    "list_a"
   ]
  },
  {
   "cell_type": "code",
   "execution_count": 125,
   "id": "b68e7099",
   "metadata": {},
   "outputs": [
    {
     "data": {
      "text/plain": [
       "10"
      ]
     },
     "execution_count": 125,
     "metadata": {},
     "output_type": "execute_result"
    }
   ],
   "source": [
    "list_a[0][0]"
   ]
  },
  {
   "cell_type": "code",
   "execution_count": 126,
   "id": "f114ac5b",
   "metadata": {},
   "outputs": [],
   "source": [
    "list_a[0][0] = 2002"
   ]
  },
  {
   "cell_type": "code",
   "execution_count": 127,
   "id": "069ae457",
   "metadata": {},
   "outputs": [
    {
     "data": {
      "text/plain": [
       "[[2002, 20, 30], 1, 2, 3]"
      ]
     },
     "execution_count": 127,
     "metadata": {},
     "output_type": "execute_result"
    }
   ],
   "source": [
    "list_a"
   ]
  },
  {
   "cell_type": "code",
   "execution_count": 128,
   "id": "ae34ccc9",
   "metadata": {},
   "outputs": [
    {
     "data": {
      "text/plain": [
       "[[2002, 20, 30], 1, 2, 3003]"
      ]
     },
     "execution_count": 128,
     "metadata": {},
     "output_type": "execute_result"
    }
   ],
   "source": [
    "list_d #리스트안의 리스트는 값이 바뀜"
   ]
  },
  {
   "cell_type": "code",
   "execution_count": 129,
   "id": "46946ecf",
   "metadata": {},
   "outputs": [],
   "source": [
    "import copy\n",
    "list_d = copy.deepcopy(list_a)"
   ]
  },
  {
   "cell_type": "code",
   "execution_count": 130,
   "id": "32dfbb85",
   "metadata": {},
   "outputs": [
    {
     "data": {
      "text/plain": [
       "[[2002, 20, 30], 1, 2, 3]"
      ]
     },
     "execution_count": 130,
     "metadata": {},
     "output_type": "execute_result"
    }
   ],
   "source": [
    "list_a"
   ]
  },
  {
   "cell_type": "code",
   "execution_count": 131,
   "id": "78db00b1",
   "metadata": {},
   "outputs": [
    {
     "data": {
      "text/plain": [
       "[[2002, 20, 30], 1, 2, 3]"
      ]
     },
     "execution_count": 131,
     "metadata": {},
     "output_type": "execute_result"
    }
   ],
   "source": [
    "list_d"
   ]
  },
  {
   "cell_type": "code",
   "execution_count": 132,
   "id": "b73b6c9e",
   "metadata": {},
   "outputs": [],
   "source": [
    "list_d[0][0]= 5005"
   ]
  },
  {
   "cell_type": "code",
   "execution_count": 133,
   "id": "e5bc3ce1",
   "metadata": {},
   "outputs": [
    {
     "data": {
      "text/plain": [
       "[[5005, 20, 30], 1, 2, 3]"
      ]
     },
     "execution_count": 133,
     "metadata": {},
     "output_type": "execute_result"
    }
   ],
   "source": [
    "list_d"
   ]
  },
  {
   "cell_type": "code",
   "execution_count": 134,
   "id": "083bac86",
   "metadata": {},
   "outputs": [
    {
     "data": {
      "text/plain": [
       "[[2002, 20, 30], 1, 2, 3]"
      ]
     },
     "execution_count": 134,
     "metadata": {},
     "output_type": "execute_result"
    }
   ],
   "source": [
    "list_a"
   ]
  },
  {
   "cell_type": "code",
   "execution_count": 135,
   "id": "f9452b28",
   "metadata": {},
   "outputs": [],
   "source": [
    "a = np.array(np.arange(10))"
   ]
  },
  {
   "cell_type": "code",
   "execution_count": 136,
   "id": "581c0d06",
   "metadata": {},
   "outputs": [
    {
     "data": {
      "text/plain": [
       "array([0, 1, 2, 3, 4, 5, 6, 7, 8, 9])"
      ]
     },
     "execution_count": 136,
     "metadata": {},
     "output_type": "execute_result"
    }
   ],
   "source": [
    "a"
   ]
  },
  {
   "cell_type": "code",
   "execution_count": 137,
   "id": "a68dbcd3",
   "metadata": {},
   "outputs": [],
   "source": [
    "b = a #얕은 복사"
   ]
  },
  {
   "cell_type": "code",
   "execution_count": 138,
   "id": "18c4adb3",
   "metadata": {},
   "outputs": [
    {
     "data": {
      "text/plain": [
       "140545315442288"
      ]
     },
     "execution_count": 138,
     "metadata": {},
     "output_type": "execute_result"
    }
   ],
   "source": [
    "id(a)"
   ]
  },
  {
   "cell_type": "code",
   "execution_count": 139,
   "id": "786e2582",
   "metadata": {},
   "outputs": [
    {
     "data": {
      "text/plain": [
       "140545315442288"
      ]
     },
     "execution_count": 139,
     "metadata": {},
     "output_type": "execute_result"
    }
   ],
   "source": [
    "id(b)"
   ]
  },
  {
   "cell_type": "code",
   "execution_count": 143,
   "id": "a5d8c1d5",
   "metadata": {},
   "outputs": [],
   "source": [
    "c = a[2:4]   #a를 공유. view. (파이썬의 리스트와 다르다.)"
   ]
  },
  {
   "cell_type": "code",
   "execution_count": 144,
   "id": "2f77d54c",
   "metadata": {},
   "outputs": [
    {
     "data": {
      "text/plain": [
       "array([2, 3])"
      ]
     },
     "execution_count": 144,
     "metadata": {},
     "output_type": "execute_result"
    }
   ],
   "source": [
    "c"
   ]
  },
  {
   "cell_type": "code",
   "execution_count": 145,
   "id": "71ce5a03",
   "metadata": {},
   "outputs": [
    {
     "data": {
      "text/plain": [
       "array([0, 1, 2, 3, 4, 5, 6, 7, 8, 9])"
      ]
     },
     "execution_count": 145,
     "metadata": {},
     "output_type": "execute_result"
    }
   ],
   "source": [
    "a"
   ]
  },
  {
   "cell_type": "code",
   "execution_count": 146,
   "id": "31e1d5a8",
   "metadata": {},
   "outputs": [],
   "source": [
    "c[0] = 3004"
   ]
  },
  {
   "cell_type": "code",
   "execution_count": 147,
   "id": "4218dccb",
   "metadata": {},
   "outputs": [
    {
     "data": {
      "text/plain": [
       "array([3004,    3])"
      ]
     },
     "execution_count": 147,
     "metadata": {},
     "output_type": "execute_result"
    }
   ],
   "source": [
    "c"
   ]
  },
  {
   "cell_type": "code",
   "execution_count": 148,
   "id": "214146be",
   "metadata": {},
   "outputs": [
    {
     "data": {
      "text/plain": [
       "array([   0,    1, 3004,    3,    4,    5,    6,    7,    8,    9])"
      ]
     },
     "execution_count": 148,
     "metadata": {},
     "output_type": "execute_result"
    }
   ],
   "source": [
    "a"
   ]
  },
  {
   "cell_type": "code",
   "execution_count": 149,
   "id": "4d0a785e",
   "metadata": {},
   "outputs": [],
   "source": [
    "d = a.copy() #깊은복사"
   ]
  },
  {
   "cell_type": "code",
   "execution_count": 151,
   "id": "612e754e",
   "metadata": {},
   "outputs": [
    {
     "data": {
      "text/plain": [
       "140545314495824"
      ]
     },
     "execution_count": 151,
     "metadata": {},
     "output_type": "execute_result"
    }
   ],
   "source": [
    "id(d)"
   ]
  },
  {
   "cell_type": "code",
   "execution_count": 152,
   "id": "904cfc4e",
   "metadata": {},
   "outputs": [
    {
     "data": {
      "text/plain": [
       "140545315442288"
      ]
     },
     "execution_count": 152,
     "metadata": {},
     "output_type": "execute_result"
    }
   ],
   "source": [
    "id(a)"
   ]
  },
  {
   "cell_type": "code",
   "execution_count": 153,
   "id": "340e96f0",
   "metadata": {},
   "outputs": [],
   "source": [
    "c=a.view() #b=a와 다름. c에서 바꾸는 값만 a에 바뀜"
   ]
  },
  {
   "cell_type": "markdown",
   "id": "e1e0c16c",
   "metadata": {},
   "source": [
    "### 배열 값을 가져오는 방법"
   ]
  },
  {
   "cell_type": "code",
   "execution_count": 155,
   "id": "a94ff77e",
   "metadata": {},
   "outputs": [],
   "source": [
    "a = np.array(np.arange(1,7))"
   ]
  },
  {
   "cell_type": "code",
   "execution_count": 156,
   "id": "a8890e3a",
   "metadata": {},
   "outputs": [
    {
     "data": {
      "text/plain": [
       "array([1, 2, 3, 4, 5, 6])"
      ]
     },
     "execution_count": 156,
     "metadata": {},
     "output_type": "execute_result"
    }
   ],
   "source": [
    "a"
   ]
  },
  {
   "cell_type": "code",
   "execution_count": 157,
   "id": "d4fbaa3f",
   "metadata": {},
   "outputs": [
    {
     "data": {
      "text/plain": [
       "(6,)"
      ]
     },
     "execution_count": 157,
     "metadata": {},
     "output_type": "execute_result"
    }
   ],
   "source": [
    "a.shape"
   ]
  },
  {
   "cell_type": "code",
   "execution_count": 158,
   "id": "c7a02192",
   "metadata": {},
   "outputs": [
    {
     "data": {
      "text/plain": [
       "array([[1, 2, 3],\n",
       "       [4, 5, 6]])"
      ]
     },
     "execution_count": 158,
     "metadata": {},
     "output_type": "execute_result"
    }
   ],
   "source": [
    "a.reshape((2,3))"
   ]
  },
  {
   "cell_type": "code",
   "execution_count": 159,
   "id": "09183583",
   "metadata": {},
   "outputs": [
    {
     "data": {
      "text/plain": [
       "array([1, 2, 3, 4, 5, 6])"
      ]
     },
     "execution_count": 159,
     "metadata": {},
     "output_type": "execute_result"
    }
   ],
   "source": [
    "a"
   ]
  },
  {
   "cell_type": "code",
   "execution_count": 160,
   "id": "b3585ce6",
   "metadata": {},
   "outputs": [],
   "source": [
    "a = a.reshape((2,3))"
   ]
  },
  {
   "cell_type": "code",
   "execution_count": 161,
   "id": "8ac147c3",
   "metadata": {},
   "outputs": [
    {
     "data": {
      "text/plain": [
       "array([[1, 2, 3],\n",
       "       [4, 5, 6]])"
      ]
     },
     "execution_count": 161,
     "metadata": {},
     "output_type": "execute_result"
    }
   ],
   "source": [
    "a"
   ]
  },
  {
   "cell_type": "code",
   "execution_count": 163,
   "id": "b94bc45f",
   "metadata": {},
   "outputs": [
    {
     "data": {
      "text/plain": [
       "array([[1, 2],\n",
       "       [3, 4],\n",
       "       [5, 6]])"
      ]
     },
     "execution_count": 163,
     "metadata": {},
     "output_type": "execute_result"
    }
   ],
   "source": [
    "a.reshape((3,2)) #아이템 갯수가 맞아야함"
   ]
  },
  {
   "cell_type": "code",
   "execution_count": 164,
   "id": "86f89d5e",
   "metadata": {},
   "outputs": [
    {
     "ename": "ValueError",
     "evalue": "cannot reshape array of size 6 into shape (4,2)",
     "output_type": "error",
     "traceback": [
      "\u001b[0;31m---------------------------------------------------------------------------\u001b[0m",
      "\u001b[0;31mValueError\u001b[0m                                Traceback (most recent call last)",
      "\u001b[0;32m/var/folders/tk/_xgwj1jx765d70vyp9fbnn140000gn/T/ipykernel_1500/2557991257.py\u001b[0m in \u001b[0;36m<module>\u001b[0;34m\u001b[0m\n\u001b[0;32m----> 1\u001b[0;31m \u001b[0ma\u001b[0m\u001b[0;34m.\u001b[0m\u001b[0mreshape\u001b[0m\u001b[0;34m(\u001b[0m\u001b[0;34m(\u001b[0m\u001b[0;36m4\u001b[0m\u001b[0;34m,\u001b[0m\u001b[0;36m2\u001b[0m\u001b[0;34m)\u001b[0m\u001b[0;34m)\u001b[0m\u001b[0;34m\u001b[0m\u001b[0;34m\u001b[0m\u001b[0m\n\u001b[0m",
      "\u001b[0;31mValueError\u001b[0m: cannot reshape array of size 6 into shape (4,2)"
     ]
    }
   ],
   "source": [
    "a.reshape((4,2))"
   ]
  },
  {
   "cell_type": "code",
   "execution_count": 165,
   "id": "90538515",
   "metadata": {},
   "outputs": [
    {
     "data": {
      "text/plain": [
       "array([[1, 2],\n",
       "       [3, 4],\n",
       "       [5, 6]])"
      ]
     },
     "execution_count": 165,
     "metadata": {},
     "output_type": "execute_result"
    }
   ],
   "source": [
    "a.reshape((3,-1)) #자동으로 열 계산"
   ]
  },
  {
   "cell_type": "code",
   "execution_count": 166,
   "id": "014f9b52",
   "metadata": {},
   "outputs": [
    {
     "data": {
      "text/plain": [
       "array([[1, 2, 3],\n",
       "       [4, 5, 6]])"
      ]
     },
     "execution_count": 166,
     "metadata": {},
     "output_type": "execute_result"
    }
   ],
   "source": [
    "a.reshape((-1,3)) #자동으로 행 계산"
   ]
  },
  {
   "cell_type": "code",
   "execution_count": 167,
   "id": "d2caea89",
   "metadata": {},
   "outputs": [
    {
     "data": {
      "text/plain": [
       "array([1, 2, 3])"
      ]
     },
     "execution_count": 167,
     "metadata": {},
     "output_type": "execute_result"
    }
   ],
   "source": [
    "a[0]"
   ]
  },
  {
   "cell_type": "code",
   "execution_count": 168,
   "id": "aadf2de1",
   "metadata": {},
   "outputs": [
    {
     "data": {
      "text/plain": [
       "1"
      ]
     },
     "execution_count": 168,
     "metadata": {},
     "output_type": "execute_result"
    }
   ],
   "source": [
    "a[0][0]"
   ]
  },
  {
   "cell_type": "code",
   "execution_count": 169,
   "id": "946647a0",
   "metadata": {},
   "outputs": [
    {
     "data": {
      "text/plain": [
       "array([2])"
      ]
     },
     "execution_count": 169,
     "metadata": {},
     "output_type": "execute_result"
    }
   ],
   "source": [
    "a[0][1:2]"
   ]
  },
  {
   "cell_type": "code",
   "execution_count": 170,
   "id": "8cb33e06",
   "metadata": {},
   "outputs": [
    {
     "data": {
      "text/plain": [
       "array([[1, 2, 3],\n",
       "       [4, 5, 6]])"
      ]
     },
     "execution_count": 170,
     "metadata": {},
     "output_type": "execute_result"
    }
   ],
   "source": [
    "a"
   ]
  },
  {
   "cell_type": "code",
   "execution_count": 171,
   "id": "a60021f0",
   "metadata": {},
   "outputs": [
    {
     "data": {
      "text/plain": [
       "5"
      ]
     },
     "execution_count": 171,
     "metadata": {},
     "output_type": "execute_result"
    }
   ],
   "source": [
    "a[1][1]"
   ]
  },
  {
   "cell_type": "code",
   "execution_count": 172,
   "id": "c894feff",
   "metadata": {},
   "outputs": [
    {
     "data": {
      "text/plain": [
       "5"
      ]
     },
     "execution_count": 172,
     "metadata": {},
     "output_type": "execute_result"
    }
   ],
   "source": [
    "a[1,1] #위와 같음"
   ]
  },
  {
   "cell_type": "code",
   "execution_count": 173,
   "id": "cd1c1286",
   "metadata": {},
   "outputs": [
    {
     "data": {
      "text/plain": [
       "array([1, 2])"
      ]
     },
     "execution_count": 173,
     "metadata": {},
     "output_type": "execute_result"
    }
   ],
   "source": [
    "a[0, :2]   #슬라이싱도 가능"
   ]
  },
  {
   "cell_type": "markdown",
   "id": "27dbc236",
   "metadata": {},
   "source": [
    "## boolean indexing"
   ]
  },
  {
   "cell_type": "code",
   "execution_count": 174,
   "id": "ef9d19c3",
   "metadata": {},
   "outputs": [],
   "source": [
    "a = np.array(np.arange(1,6))"
   ]
  },
  {
   "cell_type": "code",
   "execution_count": 175,
   "id": "d19e1e19",
   "metadata": {},
   "outputs": [
    {
     "data": {
      "text/plain": [
       "array([1, 2, 3, 4, 5])"
      ]
     },
     "execution_count": 175,
     "metadata": {},
     "output_type": "execute_result"
    }
   ],
   "source": [
    "a"
   ]
  },
  {
   "cell_type": "code",
   "execution_count": 176,
   "id": "ae86a5f8",
   "metadata": {},
   "outputs": [
    {
     "data": {
      "text/plain": [
       "5"
      ]
     },
     "execution_count": 176,
     "metadata": {},
     "output_type": "execute_result"
    }
   ],
   "source": [
    "a[4]"
   ]
  },
  {
   "cell_type": "code",
   "execution_count": 177,
   "id": "3baa2d0b",
   "metadata": {},
   "outputs": [
    {
     "data": {
      "text/plain": [
       "array([1])"
      ]
     },
     "execution_count": 177,
     "metadata": {},
     "output_type": "execute_result"
    }
   ],
   "source": [
    "a[[True,False,False,False,False]]"
   ]
  },
  {
   "cell_type": "code",
   "execution_count": 178,
   "id": "686ec9aa",
   "metadata": {},
   "outputs": [
    {
     "data": {
      "text/plain": [
       "array([1, 3, 4])"
      ]
     },
     "execution_count": 178,
     "metadata": {},
     "output_type": "execute_result"
    }
   ],
   "source": [
    "a[[True,False,True,True,False]]"
   ]
  },
  {
   "cell_type": "code",
   "execution_count": 179,
   "id": "77563e7b",
   "metadata": {},
   "outputs": [],
   "source": [
    "b = a[[True,False,True,True,False]] #copy"
   ]
  },
  {
   "cell_type": "code",
   "execution_count": 180,
   "id": "aafed80a",
   "metadata": {},
   "outputs": [
    {
     "data": {
      "text/plain": [
       "array([1, 3, 4])"
      ]
     },
     "execution_count": 180,
     "metadata": {},
     "output_type": "execute_result"
    }
   ],
   "source": [
    "b"
   ]
  },
  {
   "cell_type": "code",
   "execution_count": 181,
   "id": "2500e67d",
   "metadata": {},
   "outputs": [],
   "source": [
    "b[0] = 1004"
   ]
  },
  {
   "cell_type": "code",
   "execution_count": 182,
   "id": "53354433",
   "metadata": {},
   "outputs": [
    {
     "data": {
      "text/plain": [
       "array([1004,    3,    4])"
      ]
     },
     "execution_count": 182,
     "metadata": {},
     "output_type": "execute_result"
    }
   ],
   "source": [
    "b"
   ]
  },
  {
   "cell_type": "code",
   "execution_count": 183,
   "id": "10d793a1",
   "metadata": {},
   "outputs": [
    {
     "data": {
      "text/plain": [
       "array([1, 2, 3, 4, 5])"
      ]
     },
     "execution_count": 183,
     "metadata": {},
     "output_type": "execute_result"
    }
   ],
   "source": [
    "a"
   ]
  },
  {
   "cell_type": "code",
   "execution_count": 184,
   "id": "786e3b0f",
   "metadata": {},
   "outputs": [
    {
     "ename": "IndexError",
     "evalue": "boolean index did not match indexed array along dimension 0; dimension is 5 but corresponding boolean dimension is 6",
     "output_type": "error",
     "traceback": [
      "\u001b[0;31m---------------------------------------------------------------------------\u001b[0m",
      "\u001b[0;31mIndexError\u001b[0m                                Traceback (most recent call last)",
      "\u001b[0;32m/var/folders/tk/_xgwj1jx765d70vyp9fbnn140000gn/T/ipykernel_1500/14521892.py\u001b[0m in \u001b[0;36m<module>\u001b[0;34m\u001b[0m\n\u001b[0;32m----> 1\u001b[0;31m \u001b[0ma\u001b[0m\u001b[0;34m[\u001b[0m\u001b[0;34m[\u001b[0m\u001b[0;32mTrue\u001b[0m\u001b[0;34m,\u001b[0m\u001b[0;32mFalse\u001b[0m\u001b[0;34m,\u001b[0m\u001b[0;32mTrue\u001b[0m\u001b[0;34m,\u001b[0m\u001b[0;32mTrue\u001b[0m\u001b[0;34m,\u001b[0m\u001b[0;32mFalse\u001b[0m\u001b[0;34m,\u001b[0m\u001b[0;32mTrue\u001b[0m\u001b[0;34m]\u001b[0m\u001b[0;34m]\u001b[0m\u001b[0;34m\u001b[0m\u001b[0;34m\u001b[0m\u001b[0m\n\u001b[0m",
      "\u001b[0;31mIndexError\u001b[0m: boolean index did not match indexed array along dimension 0; dimension is 5 but corresponding boolean dimension is 6"
     ]
    }
   ],
   "source": [
    "a[[True,False,True,True,False,True]] #아이템 갯수 같아야 한다."
   ]
  },
  {
   "cell_type": "code",
   "execution_count": 185,
   "id": "39898f4d",
   "metadata": {},
   "outputs": [
    {
     "data": {
      "text/plain": [
       "array([1, 2, 3, 4, 5])"
      ]
     },
     "execution_count": 185,
     "metadata": {},
     "output_type": "execute_result"
    }
   ],
   "source": [
    "a"
   ]
  },
  {
   "cell_type": "code",
   "execution_count": 186,
   "id": "168f9b12",
   "metadata": {},
   "outputs": [],
   "source": [
    "list_a = [1,2,3,4,5]"
   ]
  },
  {
   "cell_type": "code",
   "execution_count": 187,
   "id": "0c89d180",
   "metadata": {},
   "outputs": [
    {
     "ename": "TypeError",
     "evalue": "'>' not supported between instances of 'list' and 'int'",
     "output_type": "error",
     "traceback": [
      "\u001b[0;31m---------------------------------------------------------------------------\u001b[0m",
      "\u001b[0;31mTypeError\u001b[0m                                 Traceback (most recent call last)",
      "\u001b[0;32m/var/folders/tk/_xgwj1jx765d70vyp9fbnn140000gn/T/ipykernel_1500/3655020053.py\u001b[0m in \u001b[0;36m<module>\u001b[0;34m\u001b[0m\n\u001b[0;32m----> 1\u001b[0;31m \u001b[0mlist_a\u001b[0m \u001b[0;34m>\u001b[0m \u001b[0;36m3\u001b[0m\u001b[0;34m\u001b[0m\u001b[0;34m\u001b[0m\u001b[0m\n\u001b[0m",
      "\u001b[0;31mTypeError\u001b[0m: '>' not supported between instances of 'list' and 'int'"
     ]
    }
   ],
   "source": [
    "list_a > 3 #파이썬 리스트는 불가"
   ]
  },
  {
   "cell_type": "code",
   "execution_count": 188,
   "id": "82088030",
   "metadata": {},
   "outputs": [
    {
     "data": {
      "text/plain": [
       "array([False, False, False,  True,  True])"
      ]
     },
     "execution_count": 188,
     "metadata": {},
     "output_type": "execute_result"
    }
   ],
   "source": [
    "a>3  #element wise 아이템별 연산"
   ]
  },
  {
   "cell_type": "code",
   "execution_count": 189,
   "id": "7929808c",
   "metadata": {},
   "outputs": [
    {
     "data": {
      "text/plain": [
       "array([4, 5])"
      ]
     },
     "execution_count": 189,
     "metadata": {},
     "output_type": "execute_result"
    }
   ],
   "source": [
    "a[a>3]"
   ]
  },
  {
   "cell_type": "code",
   "execution_count": 191,
   "id": "68b274f4",
   "metadata": {},
   "outputs": [
    {
     "ename": "TypeError",
     "evalue": "can only concatenate list (not \"int\") to list",
     "output_type": "error",
     "traceback": [
      "\u001b[0;31m---------------------------------------------------------------------------\u001b[0m",
      "\u001b[0;31mTypeError\u001b[0m                                 Traceback (most recent call last)",
      "\u001b[0;32m/var/folders/tk/_xgwj1jx765d70vyp9fbnn140000gn/T/ipykernel_1500/1286411172.py\u001b[0m in \u001b[0;36m<module>\u001b[0;34m\u001b[0m\n\u001b[0;32m----> 1\u001b[0;31m \u001b[0mlist_a\u001b[0m \u001b[0;34m+\u001b[0m \u001b[0;36m5\u001b[0m\u001b[0;34m\u001b[0m\u001b[0;34m\u001b[0m\u001b[0m\n\u001b[0m",
      "\u001b[0;31mTypeError\u001b[0m: can only concatenate list (not \"int\") to list"
     ]
    }
   ],
   "source": [
    "list_a + 5"
   ]
  },
  {
   "cell_type": "code",
   "execution_count": 192,
   "id": "91a103d8",
   "metadata": {},
   "outputs": [
    {
     "data": {
      "text/plain": [
       "array([ 6,  7,  8,  9, 10])"
      ]
     },
     "execution_count": 192,
     "metadata": {},
     "output_type": "execute_result"
    }
   ],
   "source": [
    "a + 5"
   ]
  },
  {
   "cell_type": "code",
   "execution_count": 193,
   "id": "404689d0",
   "metadata": {},
   "outputs": [
    {
     "data": {
      "text/plain": [
       "array([10, 20, 30, 40, 50])"
      ]
     },
     "execution_count": 193,
     "metadata": {},
     "output_type": "execute_result"
    }
   ],
   "source": [
    "a*10"
   ]
  },
  {
   "cell_type": "code",
   "execution_count": 194,
   "id": "cb901519",
   "metadata": {},
   "outputs": [
    {
     "data": {
      "text/plain": [
       "array([40, 50])"
      ]
     },
     "execution_count": 194,
     "metadata": {},
     "output_type": "execute_result"
    }
   ],
   "source": [
    "a[a>3]*10"
   ]
  },
  {
   "cell_type": "markdown",
   "id": "e2e63629",
   "metadata": {},
   "source": [
    "### a배열 값 중에서 짝수 값만 2배한 새로운 배열b를 만드시오"
   ]
  },
  {
   "cell_type": "code",
   "execution_count": 198,
   "id": "301f9d24",
   "metadata": {},
   "outputs": [],
   "source": [
    "b = a[a%2==0]*2"
   ]
  },
  {
   "cell_type": "code",
   "execution_count": 199,
   "id": "c604a542",
   "metadata": {},
   "outputs": [
    {
     "data": {
      "text/plain": [
       "array([4, 8])"
      ]
     },
     "execution_count": 199,
     "metadata": {},
     "output_type": "execute_result"
    }
   ],
   "source": [
    "b"
   ]
  },
  {
   "cell_type": "markdown",
   "id": "9b6e101f",
   "metadata": {},
   "source": [
    "### a배열에서 짝수만 2배하기"
   ]
  },
  {
   "cell_type": "code",
   "execution_count": 200,
   "id": "25f93dc5",
   "metadata": {},
   "outputs": [],
   "source": [
    "a[a%2==0] = a[a%2==0]*2"
   ]
  },
  {
   "cell_type": "code",
   "execution_count": 201,
   "id": "920709ee",
   "metadata": {},
   "outputs": [
    {
     "data": {
      "text/plain": [
       "array([1, 4, 3, 8, 5])"
      ]
     },
     "execution_count": 201,
     "metadata": {},
     "output_type": "execute_result"
    }
   ],
   "source": [
    "a"
   ]
  },
  {
   "cell_type": "code",
   "execution_count": 202,
   "id": "7790d37b",
   "metadata": {},
   "outputs": [],
   "source": [
    "a[a<4] = 0"
   ]
  },
  {
   "cell_type": "code",
   "execution_count": 203,
   "id": "3102c74c",
   "metadata": {},
   "outputs": [
    {
     "data": {
      "text/plain": [
       "array([0, 4, 0, 8, 5])"
      ]
     },
     "execution_count": 203,
     "metadata": {},
     "output_type": "execute_result"
    }
   ],
   "source": [
    "a"
   ]
  },
  {
   "cell_type": "markdown",
   "id": "e2734152",
   "metadata": {},
   "source": [
    "### fancy indexing"
   ]
  },
  {
   "cell_type": "code",
   "execution_count": 204,
   "id": "6ade83ba",
   "metadata": {},
   "outputs": [
    {
     "data": {
      "text/plain": [
       "array([[ 0,  1,  2,  3,  4],\n",
       "       [ 5,  6,  7,  8,  9],\n",
       "       [10, 11, 12, 13, 14],\n",
       "       [15, 16, 17, 18, 19],\n",
       "       [20, 21, 22, 23, 24],\n",
       "       [25, 26, 27, 28, 29],\n",
       "       [30, 31, 32, 33, 34],\n",
       "       [35, 36, 37, 38, 39],\n",
       "       [40, 41, 42, 43, 44],\n",
       "       [45, 46, 47, 48, 49],\n",
       "       [50, 51, 52, 53, 54],\n",
       "       [55, 56, 57, 58, 59],\n",
       "       [60, 61, 62, 63, 64],\n",
       "       [65, 66, 67, 68, 69],\n",
       "       [70, 71, 72, 73, 74],\n",
       "       [75, 76, 77, 78, 79],\n",
       "       [80, 81, 82, 83, 84],\n",
       "       [85, 86, 87, 88, 89],\n",
       "       [90, 91, 92, 93, 94],\n",
       "       [95, 96, 97, 98, 99]])"
      ]
     },
     "execution_count": 204,
     "metadata": {},
     "output_type": "execute_result"
    }
   ],
   "source": [
    "b = np.arange(100).reshape((20,-1))\n",
    "b"
   ]
  },
  {
   "cell_type": "code",
   "execution_count": 205,
   "id": "c3224bd5",
   "metadata": {},
   "outputs": [
    {
     "data": {
      "text/plain": [
       "array([0, 1, 2, 3, 4])"
      ]
     },
     "execution_count": 205,
     "metadata": {},
     "output_type": "execute_result"
    }
   ],
   "source": [
    "b[0]"
   ]
  },
  {
   "cell_type": "code",
   "execution_count": 206,
   "id": "952c29dc",
   "metadata": {},
   "outputs": [
    {
     "data": {
      "text/plain": [
       "0"
      ]
     },
     "execution_count": 206,
     "metadata": {},
     "output_type": "execute_result"
    }
   ],
   "source": [
    "b[0][0]"
   ]
  },
  {
   "cell_type": "code",
   "execution_count": 207,
   "id": "325512f6",
   "metadata": {},
   "outputs": [
    {
     "data": {
      "text/plain": [
       "array([[10, 11, 12, 13, 14],\n",
       "       [20, 21, 22, 23, 24],\n",
       "       [40, 41, 42, 43, 44]])"
      ]
     },
     "execution_count": 207,
     "metadata": {},
     "output_type": "execute_result"
    }
   ],
   "source": [
    "b[[2,4,8]] #fancy indexing.  2,4,8행 선택"
   ]
  },
  {
   "cell_type": "code",
   "execution_count": 209,
   "id": "e2c7b71d",
   "metadata": {
    "scrolled": true
   },
   "outputs": [
    {
     "data": {
      "text/plain": [
       "array([[ 0,  1,  2,  3,  4],\n",
       "       [ 5,  6,  7,  8,  9],\n",
       "       [10, 11, 12, 13, 14],\n",
       "       [15, 16, 17, 18, 19],\n",
       "       [20, 21, 22, 23, 24],\n",
       "       [25, 26, 27, 28, 29],\n",
       "       [30, 31, 32, 33, 34],\n",
       "       [35, 36, 37, 38, 39],\n",
       "       [40, 41, 42, 43, 44],\n",
       "       [45, 46, 47, 48, 49],\n",
       "       [50, 51, 52, 53, 54],\n",
       "       [55, 56, 57, 58, 59],\n",
       "       [60, 61, 62, 63, 64],\n",
       "       [65, 66, 67, 68, 69],\n",
       "       [70, 71, 72, 73, 74],\n",
       "       [75, 76, 77, 78, 79],\n",
       "       [80, 81, 82, 83, 84],\n",
       "       [85, 86, 87, 88, 89],\n",
       "       [90, 91, 92, 93, 94],\n",
       "       [95, 96, 97, 98, 99]])"
      ]
     },
     "execution_count": 209,
     "metadata": {},
     "output_type": "execute_result"
    }
   ],
   "source": [
    "b"
   ]
  },
  {
   "cell_type": "code",
   "execution_count": 210,
   "id": "225f4559",
   "metadata": {},
   "outputs": [
    {
     "data": {
      "text/plain": [
       "array([10, 23, 44])"
      ]
     },
     "execution_count": 210,
     "metadata": {},
     "output_type": "execute_result"
    }
   ],
   "source": [
    "b[[2,4,8], [0,3,4]]   #[2][0], [4][3], [8][4]"
   ]
  },
  {
   "cell_type": "code",
   "execution_count": 211,
   "id": "611fec14",
   "metadata": {},
   "outputs": [
    {
     "data": {
      "text/plain": [
       "array([[ 0,  3,  4],\n",
       "       [ 5,  8,  9],\n",
       "       [10, 13, 14],\n",
       "       [15, 18, 19],\n",
       "       [20, 23, 24],\n",
       "       [25, 28, 29],\n",
       "       [30, 33, 34],\n",
       "       [35, 38, 39],\n",
       "       [40, 43, 44],\n",
       "       [45, 48, 49],\n",
       "       [50, 53, 54],\n",
       "       [55, 58, 59],\n",
       "       [60, 63, 64],\n",
       "       [65, 68, 69],\n",
       "       [70, 73, 74],\n",
       "       [75, 78, 79],\n",
       "       [80, 83, 84],\n",
       "       [85, 88, 89],\n",
       "       [90, 93, 94],\n",
       "       [95, 98, 99]])"
      ]
     },
     "execution_count": 211,
     "metadata": {},
     "output_type": "execute_result"
    }
   ],
   "source": [
    "b[:,[0,3,4]]   #모든 행의 0,3,4열 선택"
   ]
  },
  {
   "cell_type": "code",
   "execution_count": 212,
   "id": "95a72c91",
   "metadata": {},
   "outputs": [
    {
     "data": {
      "text/plain": [
       "array([[ 0,  1,  2,  3,  4],\n",
       "       [ 5,  6,  7,  8,  9],\n",
       "       [10, 11, 12, 13, 14],\n",
       "       [15, 16, 17, 18, 19],\n",
       "       [20, 21, 22, 23, 24],\n",
       "       [25, 26, 27, 28, 29],\n",
       "       [30, 31, 32, 33, 34],\n",
       "       [35, 36, 37, 38, 39],\n",
       "       [40, 41, 42, 43, 44],\n",
       "       [45, 46, 47, 48, 49],\n",
       "       [50, 51, 52, 53, 54],\n",
       "       [55, 56, 57, 58, 59],\n",
       "       [60, 61, 62, 63, 64],\n",
       "       [65, 66, 67, 68, 69],\n",
       "       [70, 71, 72, 73, 74],\n",
       "       [75, 76, 77, 78, 79],\n",
       "       [80, 81, 82, 83, 84],\n",
       "       [85, 86, 87, 88, 89],\n",
       "       [90, 91, 92, 93, 94],\n",
       "       [95, 96, 97, 98, 99]])"
      ]
     },
     "execution_count": 212,
     "metadata": {},
     "output_type": "execute_result"
    }
   ],
   "source": [
    "b[:,:] #전체 = b"
   ]
  },
  {
   "cell_type": "code",
   "execution_count": 213,
   "id": "1627d50c",
   "metadata": {},
   "outputs": [],
   "source": [
    "c = b[:,:]   #view (슬라이싱 부분은 view)"
   ]
  },
  {
   "cell_type": "code",
   "execution_count": 214,
   "id": "cd950697",
   "metadata": {},
   "outputs": [
    {
     "data": {
      "text/plain": [
       "0"
      ]
     },
     "execution_count": 214,
     "metadata": {},
     "output_type": "execute_result"
    }
   ],
   "source": [
    "c[0][0]"
   ]
  },
  {
   "cell_type": "code",
   "execution_count": 215,
   "id": "6e9dc490",
   "metadata": {},
   "outputs": [
    {
     "data": {
      "text/plain": [
       "0"
      ]
     },
     "execution_count": 215,
     "metadata": {},
     "output_type": "execute_result"
    }
   ],
   "source": [
    "b[0][0]"
   ]
  },
  {
   "cell_type": "code",
   "execution_count": 216,
   "id": "2c13cdfd",
   "metadata": {},
   "outputs": [],
   "source": [
    "c[0][0] = 1000"
   ]
  },
  {
   "cell_type": "code",
   "execution_count": 217,
   "id": "dd0b328c",
   "metadata": {},
   "outputs": [
    {
     "data": {
      "text/plain": [
       "1000"
      ]
     },
     "execution_count": 217,
     "metadata": {},
     "output_type": "execute_result"
    }
   ],
   "source": [
    "c[0][0]"
   ]
  },
  {
   "cell_type": "code",
   "execution_count": 218,
   "id": "1fc2fab4",
   "metadata": {},
   "outputs": [
    {
     "data": {
      "text/plain": [
       "1000"
      ]
     },
     "execution_count": 218,
     "metadata": {},
     "output_type": "execute_result"
    }
   ],
   "source": [
    "b[0][0]"
   ]
  },
  {
   "cell_type": "code",
   "execution_count": 219,
   "id": "6fcb263d",
   "metadata": {},
   "outputs": [],
   "source": [
    "c = b[[2,4,8], [0,3,4]]   #copy(fancy는 copy)"
   ]
  },
  {
   "cell_type": "code",
   "execution_count": 220,
   "id": "9cbc6251",
   "metadata": {},
   "outputs": [
    {
     "data": {
      "text/plain": [
       "array([10, 23, 44])"
      ]
     },
     "execution_count": 220,
     "metadata": {},
     "output_type": "execute_result"
    }
   ],
   "source": [
    "c"
   ]
  },
  {
   "cell_type": "code",
   "execution_count": 221,
   "id": "86e07a91",
   "metadata": {},
   "outputs": [],
   "source": [
    "c[0] = 5005"
   ]
  },
  {
   "cell_type": "code",
   "execution_count": 222,
   "id": "bf16edfa",
   "metadata": {},
   "outputs": [
    {
     "data": {
      "text/plain": [
       "array([5005,   23,   44])"
      ]
     },
     "execution_count": 222,
     "metadata": {},
     "output_type": "execute_result"
    }
   ],
   "source": [
    "c"
   ]
  },
  {
   "cell_type": "code",
   "execution_count": 223,
   "id": "c9c0efd8",
   "metadata": {},
   "outputs": [
    {
     "data": {
      "text/plain": [
       "10"
      ]
     },
     "execution_count": 223,
     "metadata": {},
     "output_type": "execute_result"
    }
   ],
   "source": [
    "b[2][0]"
   ]
  },
  {
   "cell_type": "markdown",
   "id": "c73647ec",
   "metadata": {},
   "source": [
    "### vectorized 연산 (벡터화 연산)\n",
    "elementwise 연산"
   ]
  },
  {
   "cell_type": "code",
   "execution_count": 224,
   "id": "3355244e",
   "metadata": {},
   "outputs": [],
   "source": [
    "a = np.array([1,2,3,4,5])"
   ]
  },
  {
   "cell_type": "code",
   "execution_count": 225,
   "id": "6b46de02",
   "metadata": {},
   "outputs": [],
   "source": [
    "b = np.array([6,7,8,9,10])"
   ]
  },
  {
   "cell_type": "code",
   "execution_count": 226,
   "id": "c623da43",
   "metadata": {},
   "outputs": [
    {
     "data": {
      "text/plain": [
       "array([1, 2, 3, 4, 5])"
      ]
     },
     "execution_count": 226,
     "metadata": {},
     "output_type": "execute_result"
    }
   ],
   "source": [
    "a"
   ]
  },
  {
   "cell_type": "code",
   "execution_count": 227,
   "id": "cbb0c4b1",
   "metadata": {},
   "outputs": [
    {
     "data": {
      "text/plain": [
       "array([ 6,  7,  8,  9, 10])"
      ]
     },
     "execution_count": 227,
     "metadata": {},
     "output_type": "execute_result"
    }
   ],
   "source": [
    "b"
   ]
  },
  {
   "cell_type": "code",
   "execution_count": 228,
   "id": "eee5ec0f",
   "metadata": {},
   "outputs": [
    {
     "data": {
      "text/plain": [
       "array([ 7,  9, 11, 13, 15])"
      ]
     },
     "execution_count": 228,
     "metadata": {},
     "output_type": "execute_result"
    }
   ],
   "source": [
    "a+b"
   ]
  },
  {
   "cell_type": "code",
   "execution_count": 229,
   "id": "dea7173d",
   "metadata": {},
   "outputs": [
    {
     "data": {
      "text/plain": [
       "array([ 6, 14, 24, 36, 50])"
      ]
     },
     "execution_count": 229,
     "metadata": {},
     "output_type": "execute_result"
    }
   ],
   "source": [
    "a*b"
   ]
  },
  {
   "cell_type": "code",
   "execution_count": 230,
   "id": "a1e8f6fc",
   "metadata": {},
   "outputs": [
    {
     "data": {
      "text/plain": [
       "array([ True,  True,  True,  True,  True])"
      ]
     },
     "execution_count": 230,
     "metadata": {},
     "output_type": "execute_result"
    }
   ],
   "source": [
    "b>a"
   ]
  },
  {
   "cell_type": "code",
   "execution_count": 231,
   "id": "0e0fb537",
   "metadata": {},
   "outputs": [],
   "source": [
    "c = np.array([2,3,4,5])"
   ]
  },
  {
   "cell_type": "code",
   "execution_count": 232,
   "id": "2fbca07a",
   "metadata": {},
   "outputs": [
    {
     "ename": "ValueError",
     "evalue": "operands could not be broadcast together with shapes (5,) (4,) ",
     "output_type": "error",
     "traceback": [
      "\u001b[0;31m---------------------------------------------------------------------------\u001b[0m",
      "\u001b[0;31mValueError\u001b[0m                                Traceback (most recent call last)",
      "\u001b[0;32m/var/folders/tk/_xgwj1jx765d70vyp9fbnn140000gn/T/ipykernel_1500/3032047929.py\u001b[0m in \u001b[0;36m<module>\u001b[0;34m\u001b[0m\n\u001b[0;32m----> 1\u001b[0;31m \u001b[0ma\u001b[0m\u001b[0;34m+\u001b[0m\u001b[0mc\u001b[0m\u001b[0;34m\u001b[0m\u001b[0;34m\u001b[0m\u001b[0m\n\u001b[0m",
      "\u001b[0;31mValueError\u001b[0m: operands could not be broadcast together with shapes (5,) (4,) "
     ]
    }
   ],
   "source": [
    "a+c #불가. 아이템 갯수 맞춰야됨"
   ]
  },
  {
   "cell_type": "code",
   "execution_count": 235,
   "id": "1a4e6ec4",
   "metadata": {},
   "outputs": [],
   "source": [
    "c = np.zeros((2,5))"
   ]
  },
  {
   "cell_type": "code",
   "execution_count": 236,
   "id": "9e4eedcb",
   "metadata": {},
   "outputs": [
    {
     "data": {
      "text/plain": [
       "array([[1., 2., 3., 4., 5.],\n",
       "       [1., 2., 3., 4., 5.]])"
      ]
     },
     "execution_count": 236,
     "metadata": {},
     "output_type": "execute_result"
    }
   ],
   "source": [
    "a+c"
   ]
  },
  {
   "cell_type": "code",
   "execution_count": 237,
   "id": "1ab16ff3",
   "metadata": {},
   "outputs": [],
   "source": [
    "a = np.arange(6).reshape((2,3))\n",
    "b = np.arange(6,12).reshape((2,3))"
   ]
  },
  {
   "cell_type": "code",
   "execution_count": 238,
   "id": "46756bf1",
   "metadata": {},
   "outputs": [
    {
     "data": {
      "text/plain": [
       "array([[ 0,  7, 16],\n",
       "       [27, 40, 55]])"
      ]
     },
     "execution_count": 238,
     "metadata": {},
     "output_type": "execute_result"
    }
   ],
   "source": [
    "a*b"
   ]
  },
  {
   "cell_type": "code",
   "execution_count": 239,
   "id": "47f782c1",
   "metadata": {},
   "outputs": [
    {
     "ename": "ValueError",
     "evalue": "matmul: Input operand 1 has a mismatch in its core dimension 0, with gufunc signature (n?,k),(k,m?)->(n?,m?) (size 2 is different from 3)",
     "output_type": "error",
     "traceback": [
      "\u001b[0;31m---------------------------------------------------------------------------\u001b[0m",
      "\u001b[0;31mValueError\u001b[0m                                Traceback (most recent call last)",
      "\u001b[0;32m/var/folders/tk/_xgwj1jx765d70vyp9fbnn140000gn/T/ipykernel_1500/409213080.py\u001b[0m in \u001b[0;36m<module>\u001b[0;34m\u001b[0m\n\u001b[0;32m----> 1\u001b[0;31m \u001b[0ma\u001b[0m \u001b[0;34m@\u001b[0m \u001b[0mb\u001b[0m \u001b[0;31m#행렬 곱\u001b[0m\u001b[0;34m\u001b[0m\u001b[0;34m\u001b[0m\u001b[0m\n\u001b[0m",
      "\u001b[0;31mValueError\u001b[0m: matmul: Input operand 1 has a mismatch in its core dimension 0, with gufunc signature (n?,k),(k,m?)->(n?,m?) (size 2 is different from 3)"
     ]
    }
   ],
   "source": [
    "a @ b #행렬 곱(행과 열의 갯수 맞춰야됨)"
   ]
  },
  {
   "cell_type": "code",
   "execution_count": 240,
   "id": "a9a1d03c",
   "metadata": {},
   "outputs": [
    {
     "data": {
      "text/plain": [
       "array([[ 6,  7],\n",
       "       [ 8,  9],\n",
       "       [10, 11]])"
      ]
     },
     "execution_count": 240,
     "metadata": {},
     "output_type": "execute_result"
    }
   ],
   "source": [
    "b.reshape((3,2))"
   ]
  },
  {
   "cell_type": "code",
   "execution_count": 241,
   "id": "b1cc3bb0",
   "metadata": {},
   "outputs": [
    {
     "data": {
      "text/plain": [
       "array([[ 28,  31],\n",
       "       [100, 112]])"
      ]
     },
     "execution_count": 241,
     "metadata": {},
     "output_type": "execute_result"
    }
   ],
   "source": [
    "a @ b.reshape((3,2))"
   ]
  },
  {
   "cell_type": "code",
   "execution_count": 242,
   "id": "aabed2ac",
   "metadata": {},
   "outputs": [
    {
     "data": {
      "text/plain": [
       "array([[ 6,  7,  8],\n",
       "       [ 9, 10, 11]])"
      ]
     },
     "execution_count": 242,
     "metadata": {},
     "output_type": "execute_result"
    }
   ],
   "source": [
    "b"
   ]
  },
  {
   "cell_type": "code",
   "execution_count": 243,
   "id": "bf53a118",
   "metadata": {},
   "outputs": [
    {
     "data": {
      "text/plain": [
       "array([[ 6,  9],\n",
       "       [ 7, 10],\n",
       "       [ 8, 11]])"
      ]
     },
     "execution_count": 243,
     "metadata": {},
     "output_type": "execute_result"
    }
   ],
   "source": [
    "b.T #전치행렬 : 행<->열"
   ]
  },
  {
   "cell_type": "code",
   "execution_count": 244,
   "id": "154bdbe7",
   "metadata": {},
   "outputs": [
    {
     "data": {
      "text/plain": [
       "array([[ 23,  32],\n",
       "       [ 86, 122]])"
      ]
     },
     "execution_count": 244,
     "metadata": {},
     "output_type": "execute_result"
    }
   ],
   "source": [
    "a@b.T"
   ]
  },
  {
   "cell_type": "code",
   "execution_count": 245,
   "id": "ab029b66",
   "metadata": {},
   "outputs": [
    {
     "data": {
      "text/plain": [
       "array([[ 0,  5, 10],\n",
       "       [15, 20, 25]])"
      ]
     },
     "execution_count": 245,
     "metadata": {},
     "output_type": "execute_result"
    }
   ],
   "source": [
    "a*5"
   ]
  },
  {
   "cell_type": "markdown",
   "id": "4b3566e0",
   "metadata": {},
   "source": [
    "### Broadcasting"
   ]
  },
  {
   "cell_type": "code",
   "execution_count": 246,
   "id": "d6f060b7",
   "metadata": {},
   "outputs": [],
   "source": [
    "c = np.array([10,20,30])"
   ]
  },
  {
   "cell_type": "code",
   "execution_count": 247,
   "id": "e4262c9e",
   "metadata": {},
   "outputs": [
    {
     "data": {
      "text/plain": [
       "array([[0, 1, 2],\n",
       "       [3, 4, 5]])"
      ]
     },
     "execution_count": 247,
     "metadata": {},
     "output_type": "execute_result"
    }
   ],
   "source": [
    "a"
   ]
  },
  {
   "cell_type": "code",
   "execution_count": 248,
   "id": "b5efc227",
   "metadata": {},
   "outputs": [
    {
     "data": {
      "text/plain": [
       "array([10, 20, 30])"
      ]
     },
     "execution_count": 248,
     "metadata": {},
     "output_type": "execute_result"
    }
   ],
   "source": [
    "c"
   ]
  },
  {
   "cell_type": "code",
   "execution_count": 249,
   "id": "91042889",
   "metadata": {},
   "outputs": [
    {
     "data": {
      "text/plain": [
       "array([[10, 21, 32],\n",
       "       [13, 24, 35]])"
      ]
     },
     "execution_count": 249,
     "metadata": {},
     "output_type": "execute_result"
    }
   ],
   "source": [
    "a + c #c를 broadcasting하여 각 행마다 더함"
   ]
  },
  {
   "cell_type": "code",
   "execution_count": 251,
   "id": "94a1b798",
   "metadata": {},
   "outputs": [
    {
     "data": {
      "text/plain": [
       "array([[1, 2, 3],\n",
       "       [5, 6, 7]])"
      ]
     },
     "execution_count": 251,
     "metadata": {},
     "output_type": "execute_result"
    }
   ],
   "source": [
    "a + np.array([[1],[2]]) #각 열마다 더함"
   ]
  },
  {
   "cell_type": "code",
   "execution_count": 252,
   "id": "13de1311",
   "metadata": {},
   "outputs": [
    {
     "data": {
      "text/plain": [
       "array([[10, 11, 12],\n",
       "       [13, 14, 15]])"
      ]
     },
     "execution_count": 252,
     "metadata": {},
     "output_type": "execute_result"
    }
   ],
   "source": [
    "a + np.array([10])"
   ]
  },
  {
   "cell_type": "markdown",
   "id": "044a6b23",
   "metadata": {},
   "source": [
    "### 축(axis)"
   ]
  },
  {
   "cell_type": "code",
   "execution_count": 253,
   "id": "a06a9728",
   "metadata": {},
   "outputs": [
    {
     "data": {
      "text/plain": [
       "array([[0, 1, 2],\n",
       "       [3, 4, 5]])"
      ]
     },
     "execution_count": 253,
     "metadata": {},
     "output_type": "execute_result"
    }
   ],
   "source": [
    "a"
   ]
  },
  {
   "cell_type": "code",
   "execution_count": 258,
   "id": "9cddaf9d",
   "metadata": {},
   "outputs": [
    {
     "data": {
      "text/plain": [
       "array([3, 5, 7])"
      ]
     },
     "execution_count": 258,
     "metadata": {},
     "output_type": "execute_result"
    }
   ],
   "source": [
    "np.sum(a,axis=0) #열 별로(행방향) 따로 계산"
   ]
  },
  {
   "cell_type": "code",
   "execution_count": 259,
   "id": "233a621b",
   "metadata": {},
   "outputs": [
    {
     "data": {
      "text/plain": [
       "array([ 3, 12])"
      ]
     },
     "execution_count": 259,
     "metadata": {},
     "output_type": "execute_result"
    }
   ],
   "source": [
    "np.sum(a, axis=1)  #행 별로(열방향) 따로 계산"
   ]
  },
  {
   "cell_type": "code",
   "execution_count": 260,
   "id": "965edae9",
   "metadata": {},
   "outputs": [
    {
     "data": {
      "text/plain": [
       "5"
      ]
     },
     "execution_count": 260,
     "metadata": {},
     "output_type": "execute_result"
    }
   ],
   "source": [
    "np.max(a)"
   ]
  },
  {
   "cell_type": "code",
   "execution_count": 262,
   "id": "2f4e6219",
   "metadata": {},
   "outputs": [
    {
     "data": {
      "text/plain": [
       "array([3, 4, 5])"
      ]
     },
     "execution_count": 262,
     "metadata": {},
     "output_type": "execute_result"
    }
   ],
   "source": [
    "np.max(a,axis=0)   #행방향 최댓값"
   ]
  },
  {
   "cell_type": "code",
   "execution_count": 263,
   "id": "935ec7d1",
   "metadata": {},
   "outputs": [
    {
     "data": {
      "text/plain": [
       "array([2, 5])"
      ]
     },
     "execution_count": 263,
     "metadata": {},
     "output_type": "execute_result"
    }
   ],
   "source": [
    "np.max(a, axis=1)   #열방향 최댓값"
   ]
  },
  {
   "cell_type": "markdown",
   "id": "5d7b0f98",
   "metadata": {},
   "source": [
    "### universal function: ufunc\n",
    "- 벡터화 연산을지원하는 함수들"
   ]
  },
  {
   "cell_type": "code",
   "execution_count": 264,
   "id": "002daac2",
   "metadata": {},
   "outputs": [
    {
     "data": {
      "text/plain": [
       "function"
      ]
     },
     "execution_count": 264,
     "metadata": {},
     "output_type": "execute_result"
    }
   ],
   "source": [
    "type(np.max)"
   ]
  },
  {
   "cell_type": "code",
   "execution_count": 265,
   "id": "02f6f89a",
   "metadata": {},
   "outputs": [
    {
     "data": {
      "text/plain": [
       "numpy.ufunc"
      ]
     },
     "execution_count": 265,
     "metadata": {},
     "output_type": "execute_result"
    }
   ],
   "source": [
    "type(np.add)"
   ]
  },
  {
   "cell_type": "code",
   "execution_count": 267,
   "id": "bbb44264",
   "metadata": {},
   "outputs": [
    {
     "data": {
      "text/plain": [
       "5"
      ]
     },
     "execution_count": 267,
     "metadata": {},
     "output_type": "execute_result"
    }
   ],
   "source": [
    "np.argmax(a) #a의 최댓값이 있는 인덱스(1차원으로 보고)"
   ]
  },
  {
   "cell_type": "code",
   "execution_count": 269,
   "id": "6f938738",
   "metadata": {},
   "outputs": [
    {
     "data": {
      "text/plain": [
       "array([[0, 1, 2],\n",
       "       [3, 4, 5]])"
      ]
     },
     "execution_count": 269,
     "metadata": {},
     "output_type": "execute_result"
    }
   ],
   "source": [
    "a"
   ]
  },
  {
   "cell_type": "code",
   "execution_count": 270,
   "id": "8689d363",
   "metadata": {},
   "outputs": [
    {
     "data": {
      "text/plain": [
       "0"
      ]
     },
     "execution_count": 270,
     "metadata": {},
     "output_type": "execute_result"
    }
   ],
   "source": [
    "np.argmin(a)"
   ]
  },
  {
   "cell_type": "code",
   "execution_count": 271,
   "id": "679db804",
   "metadata": {},
   "outputs": [
    {
     "data": {
      "text/plain": [
       "False"
      ]
     },
     "execution_count": 271,
     "metadata": {},
     "output_type": "execute_result"
    }
   ],
   "source": [
    "np.all(a)"
   ]
  },
  {
   "cell_type": "code",
   "execution_count": 272,
   "id": "f3d0e9fd",
   "metadata": {},
   "outputs": [
    {
     "data": {
      "text/plain": [
       "False"
      ]
     },
     "execution_count": 272,
     "metadata": {},
     "output_type": "execute_result"
    }
   ],
   "source": [
    "a.all()   #모든 값이 참인가?(false뿐 아니라 0도 거짓으로 본다.)"
   ]
  },
  {
   "cell_type": "code",
   "execution_count": 273,
   "id": "6b9703c5",
   "metadata": {},
   "outputs": [
    {
     "data": {
      "text/plain": [
       "array([False,  True,  True])"
      ]
     },
     "execution_count": 273,
     "metadata": {},
     "output_type": "execute_result"
    }
   ],
   "source": [
    "a.all(axis=0)"
   ]
  },
  {
   "cell_type": "code",
   "execution_count": 274,
   "id": "aba0641c",
   "metadata": {},
   "outputs": [
    {
     "data": {
      "text/plain": [
       "array([False,  True])"
      ]
     },
     "execution_count": 274,
     "metadata": {},
     "output_type": "execute_result"
    }
   ],
   "source": [
    "a.all(axis = 1)"
   ]
  },
  {
   "cell_type": "code",
   "execution_count": 276,
   "id": "d1975ac9",
   "metadata": {},
   "outputs": [
    {
     "data": {
      "text/plain": [
       "True"
      ]
     },
     "execution_count": 276,
     "metadata": {},
     "output_type": "execute_result"
    }
   ],
   "source": [
    "a.any()   #하나라도 true이면 true"
   ]
  },
  {
   "cell_type": "code",
   "execution_count": 277,
   "id": "8dd0e3b9",
   "metadata": {},
   "outputs": [
    {
     "data": {
      "text/plain": [
       "array([ True,  True,  True])"
      ]
     },
     "execution_count": 277,
     "metadata": {},
     "output_type": "execute_result"
    }
   ],
   "source": [
    "a.any(axis=0)"
   ]
  },
  {
   "cell_type": "code",
   "execution_count": 278,
   "id": "eb6c2500",
   "metadata": {},
   "outputs": [
    {
     "data": {
      "text/plain": [
       "(array([0, 0, 1, 1, 1]), array([1, 2, 0, 1, 2]))"
      ]
     },
     "execution_count": 278,
     "metadata": {},
     "output_type": "execute_result"
    }
   ],
   "source": [
    "a.nonzero() #0이 아닌것 위치. 앞의거가 행, 뒤에거가 열"
   ]
  },
  {
   "cell_type": "code",
   "execution_count": 279,
   "id": "d58f50e8",
   "metadata": {},
   "outputs": [
    {
     "data": {
      "text/plain": [
       "(array([1, 1]), array([1, 2]))"
      ]
     },
     "execution_count": 279,
     "metadata": {},
     "output_type": "execute_result"
    }
   ],
   "source": [
    "np.where(a>3)   #조건만족하는 것의 위치."
   ]
  },
  {
   "cell_type": "markdown",
   "id": "2e3ef841",
   "metadata": {},
   "source": [
    "### 난수 생성"
   ]
  },
  {
   "cell_type": "code",
   "execution_count": 280,
   "id": "dc86b490",
   "metadata": {},
   "outputs": [
    {
     "data": {
      "text/plain": [
       "1"
      ]
     },
     "execution_count": 280,
     "metadata": {},
     "output_type": "execute_result"
    }
   ],
   "source": [
    "np.random.randint(1,6)   #1~5까지 중 랜덤 수"
   ]
  },
  {
   "cell_type": "code",
   "execution_count": 281,
   "id": "75282ff7",
   "metadata": {},
   "outputs": [
    {
     "data": {
      "text/plain": [
       "array([1, 1, 2, 4, 6, 3, 3, 4, 3, 2, 2, 5, 2, 2, 3, 5, 2, 1, 6, 1, 5, 1,\n",
       "       6, 3, 3, 3, 2, 4, 6, 1, 2, 1, 4, 1, 6, 3, 3, 6, 4, 5, 4, 5, 4, 5,\n",
       "       5, 6, 3, 6, 3, 3, 5, 3, 1, 4, 3, 4, 5, 2, 3, 6, 1, 3, 3, 1, 5, 3,\n",
       "       4, 3, 1, 6, 5, 3, 2, 1, 5, 3, 5, 5, 2, 5, 3, 6, 6, 5, 5, 4, 3, 3,\n",
       "       6, 1, 3, 3, 1, 3, 1, 4, 5, 2, 5, 4, 1, 1, 6, 6, 1, 6, 5, 4, 2, 2,\n",
       "       1, 4, 2, 5, 1, 4, 6, 1, 5, 5, 5, 4, 2, 5, 1, 5, 5, 4, 1, 1, 5, 3,\n",
       "       1, 6, 3, 5, 1, 1, 4, 3, 6, 3, 2, 4, 6, 5, 1, 5, 5, 5, 6, 2, 2, 6,\n",
       "       2, 5, 2, 6, 6, 6, 2, 2, 5, 5, 1, 1, 1, 1, 5, 3, 3, 2, 4, 1, 3, 5,\n",
       "       4, 4, 5, 5, 6, 2, 2, 1, 2, 3, 4, 2, 2, 4, 4, 2, 2, 1, 6, 1, 3, 1,\n",
       "       6, 2])"
      ]
     },
     "execution_count": 281,
     "metadata": {},
     "output_type": "execute_result"
    }
   ],
   "source": [
    "np.random.randint(1,7,200)  #200번"
   ]
  },
  {
   "cell_type": "code",
   "execution_count": 282,
   "id": "09d3bff1",
   "metadata": {},
   "outputs": [
    {
     "data": {
      "text/plain": [
       "array([0.06232916, 0.75819631, 0.82849655, 0.38786127, 0.77918818])"
      ]
     },
     "execution_count": 282,
     "metadata": {},
     "output_type": "execute_result"
    }
   ],
   "source": [
    "np.random.rand(5)  #0~1까지 실수 5개"
   ]
  },
  {
   "cell_type": "code",
   "execution_count": 285,
   "id": "df2b78c1",
   "metadata": {
    "collapsed": true
   },
   "outputs": [
    {
     "data": {
      "text/plain": [
       "array([-0.35636376,  1.02883711, -1.68663677, -0.39919432, -0.18303097,\n",
       "       -0.05247963,  0.32508553,  1.32173207, -0.26948616, -1.87048924,\n",
       "        0.13822847, -0.14280589,  0.36891581,  1.16441023, -1.96434168,\n",
       "        1.18179   ,  0.75269817,  2.77172783, -0.59407334, -0.30615226,\n",
       "        1.65361652, -1.5288839 , -0.14622637, -0.42417809,  0.50210153,\n",
       "        1.34558488,  0.78668009,  0.1572916 ,  1.01702542,  0.31090638,\n",
       "       -0.08290807,  0.6604039 ,  1.30214262,  0.17210247, -0.62445484,\n",
       "       -0.1700596 , -0.08443013, -0.57442923,  0.93512098, -0.28423373,\n",
       "        0.20547679, -0.85241629,  0.072424  , -1.08394103,  0.95634302,\n",
       "       -0.07186205,  0.78584453,  0.57406103,  0.50011188, -1.22284446,\n",
       "        0.17570489,  1.1571372 ,  0.75163242, -0.80270832,  0.34075592,\n",
       "        1.41078492,  1.68651249, -0.33767779,  0.1726212 , -0.58232387,\n",
       "        1.99391906,  0.11972971, -0.41587901, -0.06469002,  0.10656392,\n",
       "       -0.3558444 ,  2.26448017, -0.26334077,  0.2649064 , -0.30898528,\n",
       "        0.11411768,  0.19700119, -1.52905439, -0.56665442,  1.04668941,\n",
       "       -0.0517979 , -0.78184245, -1.21983966, -0.76959795, -0.45304075,\n",
       "        0.62989046, -0.87331336, -0.13472597,  0.54865082,  0.23459377,\n",
       "        1.76651242, -0.64899893,  1.53195896,  0.39432213,  1.9741481 ,\n",
       "       -0.66976174, -0.0115865 ,  0.65757568,  1.43655739, -1.75439393,\n",
       "        0.27484935,  0.13056278,  0.80714706, -0.62987341, -0.28365645])"
      ]
     },
     "execution_count": 285,
     "metadata": {},
     "output_type": "execute_result"
    }
   ],
   "source": [
    "np.random.randn(100)   #표준 정규분포값에따라"
   ]
  },
  {
   "cell_type": "code",
   "execution_count": 286,
   "id": "466f0df5",
   "metadata": {},
   "outputs": [
    {
     "data": {
      "text/plain": [
       "array([11, 19, 22, 33, 14, 16])"
      ]
     },
     "execution_count": 286,
     "metadata": {},
     "output_type": "execute_result"
    }
   ],
   "source": [
    "np.random.randint(1,46,6)"
   ]
  },
  {
   "cell_type": "markdown",
   "id": "1ee85e87",
   "metadata": {},
   "source": [
    "### resize"
   ]
  },
  {
   "cell_type": "code",
   "execution_count": 287,
   "id": "470cee67",
   "metadata": {},
   "outputs": [
    {
     "data": {
      "text/plain": [
       "6"
      ]
     },
     "execution_count": 287,
     "metadata": {},
     "output_type": "execute_result"
    }
   ],
   "source": [
    "a.size"
   ]
  },
  {
   "cell_type": "code",
   "execution_count": 288,
   "id": "bb039284",
   "metadata": {},
   "outputs": [],
   "source": [
    "a = np.arange(24)"
   ]
  },
  {
   "cell_type": "code",
   "execution_count": 289,
   "id": "5efbd3e5",
   "metadata": {},
   "outputs": [
    {
     "data": {
      "text/plain": [
       "array([ 0,  1,  2,  3,  4,  5,  6,  7,  8,  9, 10, 11, 12, 13, 14, 15, 16,\n",
       "       17, 18, 19, 20, 21, 22, 23])"
      ]
     },
     "execution_count": 289,
     "metadata": {},
     "output_type": "execute_result"
    }
   ],
   "source": [
    "a"
   ]
  },
  {
   "cell_type": "code",
   "execution_count": 290,
   "id": "084cd119",
   "metadata": {},
   "outputs": [
    {
     "data": {
      "text/plain": [
       "24"
      ]
     },
     "execution_count": 290,
     "metadata": {},
     "output_type": "execute_result"
    }
   ],
   "source": [
    "a.size"
   ]
  },
  {
   "cell_type": "code",
   "execution_count": 291,
   "id": "4dbf1bc2",
   "metadata": {},
   "outputs": [
    {
     "ename": "ValueError",
     "evalue": "cannot resize an array that references or is referenced\nby another array in this way.\nUse the np.resize function or refcheck=False",
     "output_type": "error",
     "traceback": [
      "\u001b[0;31m---------------------------------------------------------------------------\u001b[0m",
      "\u001b[0;31mValueError\u001b[0m                                Traceback (most recent call last)",
      "\u001b[0;32m/var/folders/tk/_xgwj1jx765d70vyp9fbnn140000gn/T/ipykernel_1500/3737689724.py\u001b[0m in \u001b[0;36m<module>\u001b[0;34m\u001b[0m\n\u001b[0;32m----> 1\u001b[0;31m \u001b[0ma\u001b[0m\u001b[0;34m.\u001b[0m\u001b[0mresize\u001b[0m\u001b[0;34m(\u001b[0m\u001b[0;34m(\u001b[0m\u001b[0;36m2\u001b[0m\u001b[0;34m,\u001b[0m\u001b[0;36m2\u001b[0m\u001b[0;34m)\u001b[0m\u001b[0;34m)\u001b[0m\u001b[0;34m\u001b[0m\u001b[0;34m\u001b[0m\u001b[0m\n\u001b[0m",
      "\u001b[0;31mValueError\u001b[0m: cannot resize an array that references or is referenced\nby another array in this way.\nUse the np.resize function or refcheck=False"
     ]
    }
   ],
   "source": [
    "a.resize((2,2))"
   ]
  },
  {
   "cell_type": "code",
   "execution_count": 292,
   "id": "ed90a796",
   "metadata": {},
   "outputs": [],
   "source": [
    "a.resize((2,2), refcheck=False)   #a가 바뀜"
   ]
  },
  {
   "cell_type": "code",
   "execution_count": 293,
   "id": "269a87d7",
   "metadata": {},
   "outputs": [
    {
     "data": {
      "text/plain": [
       "array([[0, 1],\n",
       "       [2, 3]])"
      ]
     },
     "execution_count": 293,
     "metadata": {},
     "output_type": "execute_result"
    }
   ],
   "source": [
    "a"
   ]
  },
  {
   "cell_type": "code",
   "execution_count": 294,
   "id": "fb633cdf",
   "metadata": {},
   "outputs": [],
   "source": [
    "a = np.arange(24)"
   ]
  },
  {
   "cell_type": "code",
   "execution_count": 295,
   "id": "9cb5dac0",
   "metadata": {},
   "outputs": [
    {
     "data": {
      "text/plain": [
       "array([[[ 0,  1,  2,  3,  4,  5,  6,  7],\n",
       "        [ 8,  9, 10, 11, 12, 13, 14, 15],\n",
       "        [16, 17, 18, 19, 20, 21, 22, 23]],\n",
       "\n",
       "       [[ 0,  1,  2,  3,  4,  5,  6,  7],\n",
       "        [ 8,  9, 10, 11, 12, 13, 14, 15],\n",
       "        [16, 17, 18, 19, 20, 21, 22, 23]]])"
      ]
     },
     "execution_count": 295,
     "metadata": {},
     "output_type": "execute_result"
    }
   ],
   "source": [
    "np.resize(a, (2,3,8))"
   ]
  },
  {
   "cell_type": "code",
   "execution_count": 296,
   "id": "e90fa0c7",
   "metadata": {},
   "outputs": [
    {
     "data": {
      "text/plain": [
       "array([ 0,  1,  2,  3,  4,  5,  6,  7,  8,  9, 10, 11, 12, 13, 14, 15, 16,\n",
       "       17, 18, 19, 20, 21, 22, 23,  0,  1,  2,  3,  4,  5,  6,  7,  8,  9,\n",
       "       10])"
      ]
     },
     "execution_count": 296,
     "metadata": {},
     "output_type": "execute_result"
    }
   ],
   "source": [
    "np.resize(a,35)"
   ]
  },
  {
   "cell_type": "code",
   "execution_count": 297,
   "id": "ea725e8a",
   "metadata": {},
   "outputs": [],
   "source": [
    "a = np.random.randint(1,46,100)"
   ]
  },
  {
   "cell_type": "code",
   "execution_count": 298,
   "id": "cfa88683",
   "metadata": {},
   "outputs": [
    {
     "data": {
      "text/plain": [
       "array([39, 39, 22, 13,  5, 19, 29,  7, 17, 39, 20,  5,  2, 19, 43, 22, 26,\n",
       "        4, 18, 16, 22,  9, 42,  3,  1, 22, 43, 14, 43, 41, 16, 45, 30, 19,\n",
       "        2,  6, 35, 26, 45, 26, 30, 12, 33,  3, 21,  7, 11, 29, 43,  9,  7,\n",
       "        8,  3, 30, 15,  1, 23, 22, 44, 28, 34, 28, 32,  1, 22, 41, 42, 14,\n",
       "       34, 41, 40,  5, 17, 34, 19, 43, 15, 17,  4,  4, 23, 20, 37, 24,  1,\n",
       "        4, 40, 33, 30, 18, 14, 13, 29,  1, 35, 23, 20, 39, 37, 35])"
      ]
     },
     "execution_count": 298,
     "metadata": {},
     "output_type": "execute_result"
    }
   ],
   "source": [
    "a"
   ]
  },
  {
   "cell_type": "code",
   "execution_count": 299,
   "id": "13009388",
   "metadata": {},
   "outputs": [],
   "source": [
    "a=a.reshape((10,-1))"
   ]
  },
  {
   "cell_type": "code",
   "execution_count": 300,
   "id": "27838fb1",
   "metadata": {},
   "outputs": [
    {
     "data": {
      "text/plain": [
       "array([[39, 39, 22, 13,  5, 19, 29,  7, 17, 39],\n",
       "       [20,  5,  2, 19, 43, 22, 26,  4, 18, 16],\n",
       "       [22,  9, 42,  3,  1, 22, 43, 14, 43, 41],\n",
       "       [16, 45, 30, 19,  2,  6, 35, 26, 45, 26],\n",
       "       [30, 12, 33,  3, 21,  7, 11, 29, 43,  9],\n",
       "       [ 7,  8,  3, 30, 15,  1, 23, 22, 44, 28],\n",
       "       [34, 28, 32,  1, 22, 41, 42, 14, 34, 41],\n",
       "       [40,  5, 17, 34, 19, 43, 15, 17,  4,  4],\n",
       "       [23, 20, 37, 24,  1,  4, 40, 33, 30, 18],\n",
       "       [14, 13, 29,  1, 35, 23, 20, 39, 37, 35]])"
      ]
     },
     "execution_count": 300,
     "metadata": {},
     "output_type": "execute_result"
    }
   ],
   "source": [
    "a"
   ]
  },
  {
   "cell_type": "markdown",
   "id": "fbbf3307",
   "metadata": {},
   "source": [
    "### 배열을파일로"
   ]
  },
  {
   "cell_type": "code",
   "execution_count": 302,
   "id": "6bc8657e",
   "metadata": {},
   "outputs": [],
   "source": [
    "np.savetxt('rand1to45.csv', a, delimiter=',',fmt='%d')"
   ]
  },
  {
   "cell_type": "markdown",
   "id": "5e5f359e",
   "metadata": {},
   "source": [
    "### 파일로부터 데이터를 읽어 배열 만들기"
   ]
  },
  {
   "cell_type": "code",
   "execution_count": 307,
   "id": "5f646ff1",
   "metadata": {},
   "outputs": [],
   "source": [
    "b = np.loadtxt('rand1to45.csv', delimiter=',')"
   ]
  },
  {
   "cell_type": "code",
   "execution_count": 308,
   "id": "4431ecde",
   "metadata": {},
   "outputs": [
    {
     "data": {
      "text/plain": [
       "array([[39., 39., 22., 13.,  5., 19., 29.,  7., 17., 39.],\n",
       "       [20.,  5.,  2., 19., 43., 22., 26.,  4., 18., 16.],\n",
       "       [22.,  9., 42.,  3.,  1., 22., 43., 14., 43., 41.],\n",
       "       [16., 45., 30., 19.,  2.,  6., 35., 26., 45., 26.],\n",
       "       [30., 12., 33.,  3., 21.,  7., 11., 29., 43.,  9.],\n",
       "       [ 7.,  8.,  3., 30., 15.,  1., 23., 22., 44., 28.],\n",
       "       [34., 28., 32.,  1., 22., 41., 42., 14., 34., 41.],\n",
       "       [40.,  5., 17., 34., 19., 43., 15., 17.,  4.,  4.],\n",
       "       [23., 20., 37., 24.,  1.,  4., 40., 33., 30., 18.],\n",
       "       [14., 13., 29.,  1., 35., 23., 20., 39., 37., 35.]])"
      ]
     },
     "execution_count": 308,
     "metadata": {},
     "output_type": "execute_result"
    }
   ],
   "source": [
    "b"
   ]
  },
  {
   "cell_type": "code",
   "execution_count": 309,
   "id": "ae390048",
   "metadata": {},
   "outputs": [
    {
     "data": {
      "text/plain": [
       "dtype('float64')"
      ]
     },
     "execution_count": 309,
     "metadata": {},
     "output_type": "execute_result"
    }
   ],
   "source": [
    "b.dtype"
   ]
  },
  {
   "cell_type": "code",
   "execution_count": 313,
   "id": "91f86be6",
   "metadata": {},
   "outputs": [],
   "source": [
    "c = np.loadtxt('rand1to45.csv', delimiter=',', dtype=np.int64)"
   ]
  },
  {
   "cell_type": "code",
   "execution_count": 314,
   "id": "ea075f70",
   "metadata": {},
   "outputs": [
    {
     "data": {
      "text/plain": [
       "array([[39, 39, 22, 13,  5, 19, 29,  7, 17, 39],\n",
       "       [20,  5,  2, 19, 43, 22, 26,  4, 18, 16],\n",
       "       [22,  9, 42,  3,  1, 22, 43, 14, 43, 41],\n",
       "       [16, 45, 30, 19,  2,  6, 35, 26, 45, 26],\n",
       "       [30, 12, 33,  3, 21,  7, 11, 29, 43,  9],\n",
       "       [ 7,  8,  3, 30, 15,  1, 23, 22, 44, 28],\n",
       "       [34, 28, 32,  1, 22, 41, 42, 14, 34, 41],\n",
       "       [40,  5, 17, 34, 19, 43, 15, 17,  4,  4],\n",
       "       [23, 20, 37, 24,  1,  4, 40, 33, 30, 18],\n",
       "       [14, 13, 29,  1, 35, 23, 20, 39, 37, 35]])"
      ]
     },
     "execution_count": 314,
     "metadata": {},
     "output_type": "execute_result"
    }
   ],
   "source": [
    "c"
   ]
  },
  {
   "cell_type": "code",
   "execution_count": 315,
   "id": "07622c15",
   "metadata": {},
   "outputs": [
    {
     "data": {
      "text/plain": [
       "array([[39, 39, 22, 13,  5, 19, 29,  7, 17, 39],\n",
       "       [20,  5,  2, 19, 43, 22, 26,  4, 18, 16],\n",
       "       [22,  9, 42,  3,  1, 22, 43, 14, 43, 41],\n",
       "       [16, 45, 30, 19,  2,  6, 35, 26, 45, 26],\n",
       "       [30, 12, 33,  3, 21,  7, 11, 29, 43,  9],\n",
       "       [ 7,  8,  3, 30, 15,  1, 23, 22, 44, 28],\n",
       "       [34, 28, 32,  1, 22, 41, 42, 14, 34, 41],\n",
       "       [40,  5, 17, 34, 19, 43, 15, 17,  4,  4],\n",
       "       [23, 20, 37, 24,  1,  4, 40, 33, 30, 18],\n",
       "       [14, 13, 29,  1, 35, 23, 20, 39, 37, 35]])"
      ]
     },
     "execution_count": 315,
     "metadata": {},
     "output_type": "execute_result"
    }
   ],
   "source": [
    "b.astype(np.int64)"
   ]
  },
  {
   "cell_type": "code",
   "execution_count": 319,
   "id": "bab45a56",
   "metadata": {},
   "outputs": [],
   "source": [
    "b = b.astype(np.int64)"
   ]
  },
  {
   "cell_type": "code",
   "execution_count": 320,
   "id": "ee318861",
   "metadata": {},
   "outputs": [
    {
     "data": {
      "text/plain": [
       "array([[39, 39, 22, 13,  5, 19, 29,  7, 17, 39],\n",
       "       [20,  5,  2, 19, 43, 22, 26,  4, 18, 16],\n",
       "       [22,  9, 42,  3,  1, 22, 43, 14, 43, 41],\n",
       "       [16, 45, 30, 19,  2,  6, 35, 26, 45, 26],\n",
       "       [30, 12, 33,  3, 21,  7, 11, 29, 43,  9],\n",
       "       [ 7,  8,  3, 30, 15,  1, 23, 22, 44, 28],\n",
       "       [34, 28, 32,  1, 22, 41, 42, 14, 34, 41],\n",
       "       [40,  5, 17, 34, 19, 43, 15, 17,  4,  4],\n",
       "       [23, 20, 37, 24,  1,  4, 40, 33, 30, 18],\n",
       "       [14, 13, 29,  1, 35, 23, 20, 39, 37, 35]])"
      ]
     },
     "execution_count": 320,
     "metadata": {},
     "output_type": "execute_result"
    }
   ],
   "source": [
    "b"
   ]
  },
  {
   "cell_type": "code",
   "execution_count": 323,
   "id": "25f0d154",
   "metadata": {},
   "outputs": [],
   "source": [
    "# 0~9까지 값을 가진 배열a를 만들어 보세요.\n",
    "a = np.arange(10)"
   ]
  },
  {
   "cell_type": "code",
   "execution_count": 324,
   "id": "67fa0e37",
   "metadata": {},
   "outputs": [
    {
     "data": {
      "text/plain": [
       "array([0, 1, 2, 3, 4, 5, 6, 7, 8, 9])"
      ]
     },
     "execution_count": 324,
     "metadata": {},
     "output_type": "execute_result"
    }
   ],
   "source": [
    "a"
   ]
  },
  {
   "cell_type": "code",
   "execution_count": 325,
   "id": "46bc67fd",
   "metadata": {},
   "outputs": [
    {
     "data": {
      "text/plain": [
       "array([1, 3, 5, 7, 9])"
      ]
     },
     "execution_count": 325,
     "metadata": {},
     "output_type": "execute_result"
    }
   ],
   "source": [
    "# a배열에서 홀수 값만 선택해 보시오.\n",
    "a[a%2!=0]"
   ]
  },
  {
   "cell_type": "code",
   "execution_count": 326,
   "id": "13028fac",
   "metadata": {},
   "outputs": [],
   "source": [
    "# a배열의 홀수 값을 모두 -1로 변경\n",
    "a[a%2 == 1] = -1"
   ]
  },
  {
   "cell_type": "code",
   "execution_count": 327,
   "id": "640cdab7",
   "metadata": {},
   "outputs": [
    {
     "data": {
      "text/plain": [
       "array([ 0, -1,  2, -1,  4, -1,  6, -1,  8, -1])"
      ]
     },
     "execution_count": 327,
     "metadata": {},
     "output_type": "execute_result"
    }
   ],
   "source": [
    "a"
   ]
  },
  {
   "cell_type": "code",
   "execution_count": 330,
   "id": "7ccc3544",
   "metadata": {},
   "outputs": [],
   "source": [
    "# a배열의 모양을 (2,5)의 형태로 바꿔서 b에 저장\n",
    "b = a.reshape((2,5))"
   ]
  },
  {
   "cell_type": "code",
   "execution_count": 331,
   "id": "a56d3131",
   "metadata": {},
   "outputs": [
    {
     "data": {
      "text/plain": [
       "array([[ 0, -1,  2, -1,  4],\n",
       "       [-1,  6, -1,  8, -1]])"
      ]
     },
     "execution_count": 331,
     "metadata": {},
     "output_type": "execute_result"
    }
   ],
   "source": [
    "b"
   ]
  },
  {
   "cell_type": "code",
   "execution_count": 332,
   "id": "4aa080b9",
   "metadata": {},
   "outputs": [],
   "source": [
    "# b배열의 1번 열과 3번 열의 위치를 바꿔서 c에 저장하시오\n",
    "c = b[:,[0,3,2,1,4]]"
   ]
  },
  {
   "cell_type": "code",
   "execution_count": 333,
   "id": "f3077ab8",
   "metadata": {},
   "outputs": [
    {
     "data": {
      "text/plain": [
       "array([[ 0, -1,  2, -1,  4],\n",
       "       [-1,  8, -1,  6, -1]])"
      ]
     },
     "execution_count": 333,
     "metadata": {},
     "output_type": "execute_result"
    }
   ],
   "source": [
    "c"
   ]
  },
  {
   "cell_type": "code",
   "execution_count": 334,
   "id": "80b7e526",
   "metadata": {},
   "outputs": [
    {
     "data": {
      "text/plain": [
       "array([[-1,  6, -1,  8, -1],\n",
       "       [ 0, -1,  2, -1,  4]])"
      ]
     },
     "execution_count": 334,
     "metadata": {},
     "output_type": "execute_result"
    }
   ],
   "source": [
    "# b배열의 0행과 1번행을 바꾸어 d에 저장\n",
    "d = b[[1,0],:]\n",
    "d"
   ]
  },
  {
   "cell_type": "code",
   "execution_count": 6,
   "id": "c8114f56",
   "metadata": {},
   "outputs": [],
   "source": [
    "daegu = np.loadtxt('daegu.csv', delimiter=',', dtype='str')"
   ]
  },
  {
   "cell_type": "code",
   "execution_count": 7,
   "id": "a029ac98",
   "metadata": {},
   "outputs": [
    {
     "data": {
      "text/plain": [
       "array([[20170101.],\n",
       "       [20170102.],\n",
       "       [20170103.],\n",
       "       ...,\n",
       "       [20220722.],\n",
       "       [20220723.],\n",
       "       [20220724.]])"
      ]
     },
     "execution_count": 7,
     "metadata": {},
     "output_type": "execute_result"
    }
   ],
   "source": [
    "daegu_date = daegu[:,[0]]\n",
    "daeguDate = np.empty((len(daegu_date),1))\n",
    "count = 0\n",
    "for i in daegu_date:\n",
    "    q = i[0].split('/')\n",
    "    daeguDate[count] = q[2]+q[0]+q[1]\n",
    "    count+=1\n",
    "    \n",
    "daeguDate"
   ]
  },
  {
   "cell_type": "code",
   "execution_count": 8,
   "id": "38f7a3cc",
   "metadata": {},
   "outputs": [
    {
     "data": {
      "text/plain": [
       "(2031, 5)"
      ]
     },
     "execution_count": 8,
     "metadata": {},
     "output_type": "execute_result"
    }
   ],
   "source": [
    "daegu.shape"
   ]
  },
  {
   "cell_type": "code",
   "execution_count": 9,
   "id": "550ed42c",
   "metadata": {},
   "outputs": [],
   "source": [
    "#데이터 모양\n",
    "#날짜0, 지점1, 평균2, 최저3,최고4"
   ]
  },
  {
   "cell_type": "code",
   "execution_count": 10,
   "id": "63ba4f97",
   "metadata": {},
   "outputs": [
    {
     "data": {
      "text/plain": [
       "39.2"
      ]
     },
     "execution_count": 10,
     "metadata": {},
     "output_type": "execute_result"
    }
   ],
   "source": [
    "# 최근 5년간 최고기온을 구하시오\n",
    "daegu_temp = daegu[:,[1,2,3,4]]\n",
    "daegu_temp = daegu_temp.astype(np.float64)\n",
    "np.max(daegu_temp, axis=0)[3]"
   ]
  },
  {
   "cell_type": "code",
   "execution_count": 11,
   "id": "a6471514",
   "metadata": {},
   "outputs": [
    {
     "data": {
      "text/plain": [
       "39.2"
      ]
     },
     "execution_count": 11,
     "metadata": {},
     "output_type": "execute_result"
    }
   ],
   "source": [
    "np.max(daegu_temp[:,3])"
   ]
  },
  {
   "cell_type": "code",
   "execution_count": 12,
   "id": "b623df04",
   "metadata": {},
   "outputs": [
    {
     "data": {
      "text/plain": [
       "array([[ 2.0170101e+07,  1.4300000e+02,  3.4000000e+00, -2.0000000e+00,\n",
       "         1.0000000e+01],\n",
       "       [ 2.0170102e+07,  1.4300000e+02,  5.3000000e+00, -4.0000000e-01,\n",
       "         1.2300000e+01],\n",
       "       [ 2.0170103e+07,  1.4300000e+02,  5.2000000e+00,  9.0000000e-01,\n",
       "         1.0900000e+01],\n",
       "       ...,\n",
       "       [ 2.0220722e+07,  1.4300000e+02,  2.5800000e+01,  2.2600000e+01,\n",
       "         2.9700000e+01],\n",
       "       [ 2.0220723e+07,  1.4300000e+02,  2.4900000e+01,  2.2100000e+01,\n",
       "         2.8600000e+01],\n",
       "       [ 2.0220724e+07,  1.4300000e+02,  2.7400000e+01,  2.2300000e+01,\n",
       "         3.2000000e+01]])"
      ]
     },
     "execution_count": 12,
     "metadata": {},
     "output_type": "execute_result"
    }
   ],
   "source": [
    "daeguTemp = np.concatenate([daeguDate, daegu_temp], axis=1)\n",
    "daeguTemp"
   ]
  },
  {
   "cell_type": "code",
   "execution_count": 13,
   "id": "bd345b89",
   "metadata": {},
   "outputs": [
    {
     "data": {
      "text/plain": [
       "-13.9"
      ]
     },
     "execution_count": 13,
     "metadata": {},
     "output_type": "execute_result"
    }
   ],
   "source": [
    "# 최저기온\n",
    "np.min(daegu_temp[:,2])"
   ]
  },
  {
   "cell_type": "code",
   "execution_count": 14,
   "id": "fa82ec94",
   "metadata": {},
   "outputs": [
    {
     "data": {
      "text/plain": [
       "572"
      ]
     },
     "execution_count": 14,
     "metadata": {},
     "output_type": "execute_result"
    }
   ],
   "source": [
    "np.argmax(daegu_temp[:,3])"
   ]
  },
  {
   "cell_type": "code",
   "execution_count": 15,
   "id": "2547dc69",
   "metadata": {},
   "outputs": [
    {
     "data": {
      "text/plain": [
       "'07/27/2018'"
      ]
     },
     "execution_count": 15,
     "metadata": {},
     "output_type": "execute_result"
    }
   ],
   "source": [
    "daegu_date[572][0]"
   ]
  },
  {
   "cell_type": "code",
   "execution_count": 16,
   "id": "119f1236",
   "metadata": {},
   "outputs": [
    {
     "data": {
      "text/plain": [
       "20180727.0"
      ]
     },
     "execution_count": 16,
     "metadata": {},
     "output_type": "execute_result"
    }
   ],
   "source": [
    "daeguTemp[572][0]"
   ]
  },
  {
   "cell_type": "code",
   "execution_count": 17,
   "id": "9c43ff0d",
   "metadata": {},
   "outputs": [
    {
     "data": {
      "text/plain": [
       "20180127"
      ]
     },
     "execution_count": 17,
     "metadata": {},
     "output_type": "execute_result"
    }
   ],
   "source": [
    "daeguTemp[np.argmin(daeguTemp[:,3])][0].astype(np.int64)"
   ]
  },
  {
   "cell_type": "code",
   "execution_count": 39,
   "id": "d70aef8e",
   "metadata": {},
   "outputs": [],
   "source": [
    "# 최저기온, 최고기온 top10\n",
    "def getTempTop(tData, n=10):\n",
    "    highTempTop = {}\n",
    "    lowTempTop = {}\n",
    "    for i in range(n):\n",
    "        maxTempIndex = np.argmax(tData[:,4])\n",
    "        highestTemp = tData[maxTempIndex,4]\n",
    "        highestTempDate = tData[maxTempIndex,0].astype(np.int64)\n",
    "        highTempTop[highestTempDate] = highestTemp\n",
    "        \n",
    "        minTempIndex = np.argmin(tData[:,3])\n",
    "        lowestTemp = tData[minTempIndex,3]\n",
    "        lowestTempDate = tData[minTempIndex][0].astype(np.int64)\n",
    "        lowTempTop[lowestTempDate] = lowestTemp\n",
    "        \n",
    "        if maxTempIndex == minTempIndex:\n",
    "            tData = np.delete(tData, minTempIndex, axis=0)\n",
    "        elif maxTempIndex > minTempIndex:\n",
    "            tData = np.delete(tData, maxTempIndex, axis=0)\n",
    "            tData = np.delete(tData, minTempIndex, axis=0)\n",
    "        else:\n",
    "            tData = np.delete(tData, minTempIndex, axis=0)\n",
    "            tData = np.delete(tData, maxTempIndex, axis=0)\n",
    "            \n",
    "    return highTempTop, lowTempTop"
   ]
  },
  {
   "cell_type": "code",
   "execution_count": 40,
   "id": "808c915b",
   "metadata": {},
   "outputs": [],
   "source": [
    "htop10, ltop10 = getTempTop(daeguTemp)"
   ]
  },
  {
   "cell_type": "code",
   "execution_count": 26,
   "id": "27041d3a",
   "metadata": {},
   "outputs": [
    {
     "data": {
      "text/plain": [
       "{20180727: 39.2,\n",
       " 20180804: 38.7,\n",
       " 20180724: 38.6,\n",
       " 20180720: 38.5,\n",
       " 20170722: 38.4,\n",
       " 20180723: 38.0,\n",
       " 20180726: 38.0,\n",
       " 20180803: 37.8,\n",
       " 20180801: 37.5,\n",
       " 20170713: 37.2}"
      ]
     },
     "execution_count": 26,
     "metadata": {},
     "output_type": "execute_result"
    }
   ],
   "source": [
    "htop10"
   ]
  },
  {
   "cell_type": "code",
   "execution_count": 41,
   "id": "53a5f849",
   "metadata": {},
   "outputs": [
    {
     "data": {
      "text/plain": [
       "{20180127: -13.9,\n",
       " 20210108: -13.6,\n",
       " 20180126: -13.0,\n",
       " 20180125: -12.4,\n",
       " 20210107: -12.4,\n",
       " 20180124: -12.3,\n",
       " 20210109: -11.4,\n",
       " 20180206: -10.9,\n",
       " 20180207: -10.9,\n",
       " 20210110: -10.8}"
      ]
     },
     "execution_count": 41,
     "metadata": {},
     "output_type": "execute_result"
    }
   ],
   "source": [
    "ltop10"
   ]
  },
  {
   "cell_type": "code",
   "execution_count": null,
   "id": "2155b461",
   "metadata": {},
   "outputs": [],
   "source": [
    "#np.delete\n",
    "#a=np.delete(a,100,axis=0)  a배열의 100번 인덱스 지우기"
   ]
  },
  {
   "cell_type": "code",
   "execution_count": 397,
   "id": "e27b2233",
   "metadata": {},
   "outputs": [
    {
     "name": "stdout",
     "output_type": "stream",
     "text": [
      "[0, 2, 4, 6, 8, 10, 12, 14, 16, 18]\n"
     ]
    }
   ],
   "source": [
    "myList = [x*2for x in range(10)]\n",
    "print(myList)"
   ]
  },
  {
   "cell_type": "code",
   "execution_count": null,
   "id": "adb2b078",
   "metadata": {},
   "outputs": [],
   "source": []
  }
 ],
 "metadata": {
  "kernelspec": {
   "display_name": "Python 3 (ipykernel)",
   "language": "python",
   "name": "python3"
  },
  "language_info": {
   "codemirror_mode": {
    "name": "ipython",
    "version": 3
   },
   "file_extension": ".py",
   "mimetype": "text/x-python",
   "name": "python",
   "nbconvert_exporter": "python",
   "pygments_lexer": "ipython3",
   "version": "3.7.13"
  }
 },
 "nbformat": 4,
 "nbformat_minor": 5
}
