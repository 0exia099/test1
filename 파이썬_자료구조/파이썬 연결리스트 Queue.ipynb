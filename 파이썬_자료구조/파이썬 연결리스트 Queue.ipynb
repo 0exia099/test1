{
 "cells": [
  {
   "cell_type": "code",
   "execution_count": 1,
   "id": "c5df7495",
   "metadata": {},
   "outputs": [],
   "source": [
    "from exceptions import Empty"
   ]
  },
  {
   "cell_type": "code",
   "execution_count": 2,
   "id": "34f594f9",
   "metadata": {},
   "outputs": [],
   "source": [
    "class LinkedQueue: #헤드꺼 삭제 테일에 추가\n",
    "    #노드 클래스\n",
    "    class _Node:\n",
    "        __slots__ = '_element', '_next'\n",
    "\n",
    "        def __init__(self, element, next):\n",
    "            self._element = element\n",
    "            self._next = next\n",
    "    ############################################################\n",
    "\n",
    "    def __init__(self):\n",
    "        self._head = None\n",
    "        self._tail = None\n",
    "        self._size = 0\n",
    "\n",
    "    def __len__(self):\n",
    "        return self._size\n",
    "\n",
    "    def is_empty(self):\n",
    "        return self._size == 0\n",
    "\n",
    "    def first(self):\n",
    "        if self.is_empty():\n",
    "            raise Empty('Queue is empty')\n",
    "        return self._head._element\n",
    "\n",
    "    def dequeue(self):\n",
    "        if self.is_empty():\n",
    "            raise Empty('Queue is empty')\n",
    "        answer = self._head._element\n",
    "        self._head = self._head._next\n",
    "        self._size -= 1\n",
    "        if self.is_empty():\n",
    "            self._tail = None #큐가 비게되면 tail을 None으로\n",
    "        return answer\n",
    "\n",
    "    def enqueue(self, e):\n",
    "        newest = self._Node(e, None)\n",
    "        if self.is_empty():\n",
    "            self._head = newest\n",
    "        else:\n",
    "            self._tail._next = newest\n",
    "        self._tail = newest\n",
    "        self._size += 1\n",
    "\n",
    "    def __str__(self):\n",
    "        A = []\n",
    "        ptr = self._head\n",
    "        while ptr is not None:\n",
    "            A.append(ptr._element)\n",
    "            ptr = ptr._next\n",
    "        return f\"{str(A)}, front = {A[0]}, rear = {A[-1]}\""
   ]
  },
  {
   "cell_type": "code",
   "execution_count": 7,
   "id": "a00b34b8",
   "metadata": {},
   "outputs": [
    {
     "name": "stdout",
     "output_type": "stream",
     "text": [
      "2\n",
      "5\n",
      "False\n",
      "3\n",
      "True\n"
     ]
    }
   ],
   "source": [
    "Q = LinkedQueue()\n",
    "Q.enqueue(5)\n",
    "Q.enqueue(3)\n",
    "print(len(Q))\n",
    "print(Q.dequeue())\n",
    "print(Q.is_empty())\n",
    "print(Q.dequeue())\n",
    "print(Q.is_empty())"
   ]
  },
  {
   "cell_type": "code",
   "execution_count": 8,
   "id": "28d972f7",
   "metadata": {},
   "outputs": [
    {
     "name": "stdout",
     "output_type": "stream",
     "text": [
      "7\n",
      "3\n",
      "[7, 9, 4], front = 7, rear = 4\n"
     ]
    }
   ],
   "source": [
    "Q.enqueue(7)\n",
    "Q.enqueue(9)\n",
    "print(Q.first())\n",
    "Q.enqueue(4)\n",
    "print(len(Q))\n",
    "print(Q)"
   ]
  },
  {
   "cell_type": "code",
   "execution_count": 10,
   "id": "7929fc54",
   "metadata": {},
   "outputs": [],
   "source": [
    "class CircularQueue: #연결리스트를 이용해 원형 큐\n",
    " \n",
    "    #노드 클래스\n",
    "    class _Node:\n",
    "        __slots__ = '_element', '_next'\n",
    "        \n",
    "        def __init__(self, element, next):\n",
    "            self._element = element\n",
    "            self._next = next\n",
    "    ##############################################\n",
    "\n",
    "    def __init__(self):\n",
    "        self._tail = None\n",
    "        self._size = 0\n",
    "\n",
    "    def __len__(self):\n",
    "        return self._size\n",
    "\n",
    "    def is_empty(self):\n",
    "        return self._size == 0\n",
    "\n",
    "    def first(self):\n",
    "        if self.is_empty():\n",
    "            raise Empty('Queue is empty')\n",
    "        head = self._tail._next\n",
    "        return head._element\n",
    "\n",
    "    def dequeue(self):\n",
    "        if self.is_empty():\n",
    "            raise Empty('Queue is empty')\n",
    "        oldhead = self._tail._next\n",
    "        if self._size == 1:\n",
    "            self._tail = None\n",
    "        else:\n",
    "            self._tail._next = oldhead._next\n",
    "        self._size -= 1\n",
    "        return oldhead._element\n",
    "\n",
    "    def enqueue(self, e):\n",
    "        newest = self._Node(e, None)\n",
    "        if self.is_empty(): #첫노드 추가하는 경우 next를 자기자신\n",
    "            newest._next = newest\n",
    "        else:\n",
    "            newest._next = self._tail._next\n",
    "            self._tail._next = newest\n",
    "        self._tail = newest\n",
    "        self._size += 1\n",
    "\n",
    "    def rotate(self):\n",
    "        if self._size > 0:\n",
    "            self._tail = self._tail._next\n",
    "\n",
    "    def __str__(self):\n",
    "        A = []\n",
    "        if self.is_empty():\n",
    "            return f\"Queue is empty\"\n",
    "        ptr = self._tail._next #tail다음것(처음것)부터 tail까지 출력\n",
    "        while ptr is not self._tail:\n",
    "            A.append(ptr._element)\n",
    "            ptr = ptr._next\n",
    "        A.append(ptr._element)\n",
    "        return f\"{str(A)}, front = {A[0]}, rear = {A[-1]}\""
   ]
  },
  {
   "cell_type": "code",
   "execution_count": 11,
   "id": "9739ec31",
   "metadata": {},
   "outputs": [
    {
     "name": "stdout",
     "output_type": "stream",
     "text": [
      "2\n",
      "5\n",
      "False\n",
      "3\n",
      "True\n"
     ]
    }
   ],
   "source": [
    "Q = CircularQueue()\n",
    "Q.enqueue(5)\n",
    "Q.enqueue(3)\n",
    "print(len(Q))\n",
    "print(Q.dequeue())\n",
    "print(Q.is_empty())\n",
    "print(Q.dequeue())\n",
    "print(Q.is_empty())"
   ]
  },
  {
   "cell_type": "code",
   "execution_count": 12,
   "id": "ed4ed286",
   "metadata": {},
   "outputs": [
    {
     "name": "stdout",
     "output_type": "stream",
     "text": [
      "7\n",
      "3\n",
      "[7, 9, 4], front = 7, rear = 4\n"
     ]
    }
   ],
   "source": [
    "Q.enqueue(7)\n",
    "Q.enqueue(9)\n",
    "print(Q.first())\n",
    "Q.enqueue(4)\n",
    "print(len(Q))\n",
    "print(Q)"
   ]
  },
  {
   "cell_type": "code",
   "execution_count": null,
   "id": "5101eede",
   "metadata": {},
   "outputs": [],
   "source": []
  }
 ],
 "metadata": {
  "kernelspec": {
   "display_name": "Python 3 (ipykernel)",
   "language": "python",
   "name": "python3"
  },
  "language_info": {
   "codemirror_mode": {
    "name": "ipython",
    "version": 3
   },
   "file_extension": ".py",
   "mimetype": "text/x-python",
   "name": "python",
   "nbconvert_exporter": "python",
   "pygments_lexer": "ipython3",
   "version": "3.9.7"
  }
 },
 "nbformat": 4,
 "nbformat_minor": 5
}
