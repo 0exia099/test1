{
 "cells": [
  {
   "cell_type": "code",
   "execution_count": 9,
   "id": "4039d9e9",
   "metadata": {},
   "outputs": [],
   "source": [
    "class Car:\n",
    "    def __init__(self, color, model, price, make):\n",
    "        self.color = color\n",
    "        self.model = model\n",
    "        self.price = price\n",
    "        self.make = make\n",
    "        \n",
    "    def setMake(self, make):\n",
    "        self.make = make\n",
    "        \n",
    "    def getMake(self):\n",
    "        return self.make\n",
    "    \n",
    "    def getDesc(self):\n",
    "        return \"차량 = (\"+str(self.make)+\", \"+str(self.model)+\", \"+str(self.color)+\", \"+str(self.price)+\")\""
   ]
  },
  {
   "cell_type": "code",
   "execution_count": 10,
   "id": "d1f9a799",
   "metadata": {},
   "outputs": [],
   "source": [
    "class ElectricCar(Car):\n",
    "    def __init__(self, color, model, price, make, batterySize):\n",
    "        super().__init__(color, model, price, make)\n",
    "        self.batterySize = batterySize\n",
    "        \n",
    "    def setBatterySize(self, batterySize):\n",
    "        self.batterySize = batterySize\n",
    "        \n",
    "    def getBatterySize(self):\n",
    "        return self.batterySize"
   ]
  },
  {
   "cell_type": "code",
   "execution_count": 11,
   "id": "a8bd1259",
   "metadata": {},
   "outputs": [],
   "source": [
    "def main():\n",
    "    myCar = ElectricCar(\"white\", \"Model S\", 10000, \"Tisla\", 0)\n",
    "    myCar.setMake(\"Tesla\")\n",
    "    myCar.setBatterySize(30000)\n",
    "    print(myCar.getDesc())"
   ]
  },
  {
   "cell_type": "code",
   "execution_count": 12,
   "id": "cd99ca6f",
   "metadata": {},
   "outputs": [
    {
     "name": "stdout",
     "output_type": "stream",
     "text": [
      "차량 = (Tesla, Model S, white, 10000)\n"
     ]
    }
   ],
   "source": [
    "main()"
   ]
  },
  {
   "cell_type": "code",
   "execution_count": 13,
   "id": "099ca2b4",
   "metadata": {},
   "outputs": [
    {
     "name": "stdout",
     "output_type": "stream",
     "text": [
      "0\n"
     ]
    }
   ],
   "source": [
    "class Animal:\n",
    "    def __init__(self, age=0):\n",
    "        self.age = age\n",
    "        \n",
    "    def eat(self):\n",
    "        print(\"동물이 먹고 있습니다.\")\n",
    "        \n",
    "class Dog(Animal): #부모 클래스의 생성자 사용\n",
    "    def __str__(self):\n",
    "        return f\"Dog: 나이 = {self.age}\"\n",
    "    \n",
    "\n",
    "d = Dog()\n",
    "print(d.age)"
   ]
  },
  {
   "cell_type": "code",
   "execution_count": 14,
   "id": "c5269586",
   "metadata": {},
   "outputs": [
    {
     "ename": "AttributeError",
     "evalue": "'Child' object has no attribute '_Child__money'",
     "output_type": "error",
     "traceback": [
      "\u001b[1;31m---------------------------------------------------------------------------\u001b[0m",
      "\u001b[1;31mAttributeError\u001b[0m                            Traceback (most recent call last)",
      "\u001b[1;32m~\\AppData\\Local\\Temp/ipykernel_85036/642895975.py\u001b[0m in \u001b[0;36m<module>\u001b[1;34m\u001b[0m\n\u001b[0;32m      8\u001b[0m \u001b[1;33m\u001b[0m\u001b[0m\n\u001b[0;32m      9\u001b[0m \u001b[0mobj\u001b[0m \u001b[1;33m=\u001b[0m \u001b[0mChild\u001b[0m\u001b[1;33m(\u001b[0m\u001b[1;33m)\u001b[0m\u001b[1;33m\u001b[0m\u001b[1;33m\u001b[0m\u001b[0m\n\u001b[1;32m---> 10\u001b[1;33m \u001b[0mprint\u001b[0m\u001b[1;33m(\u001b[0m\u001b[0mobj\u001b[0m\u001b[1;33m)\u001b[0m\u001b[1;33m\u001b[0m\u001b[1;33m\u001b[0m\u001b[0m\n\u001b[0m",
      "\u001b[1;32m~\\AppData\\Local\\Temp/ipykernel_85036/642895975.py\u001b[0m in \u001b[0;36m__str__\u001b[1;34m(self)\u001b[0m\n\u001b[0;32m      5\u001b[0m \u001b[1;32mclass\u001b[0m \u001b[0mChild\u001b[0m\u001b[1;33m(\u001b[0m\u001b[0mParent\u001b[0m\u001b[1;33m)\u001b[0m\u001b[1;33m:\u001b[0m\u001b[1;33m\u001b[0m\u001b[1;33m\u001b[0m\u001b[0m\n\u001b[0;32m      6\u001b[0m     \u001b[1;32mdef\u001b[0m \u001b[0m__str__\u001b[0m\u001b[1;33m(\u001b[0m\u001b[0mself\u001b[0m\u001b[1;33m)\u001b[0m\u001b[1;33m:\u001b[0m\u001b[1;33m\u001b[0m\u001b[1;33m\u001b[0m\u001b[0m\n\u001b[1;32m----> 7\u001b[1;33m         \u001b[1;32mreturn\u001b[0m \u001b[0mstr\u001b[0m\u001b[1;33m(\u001b[0m\u001b[0mself\u001b[0m\u001b[1;33m.\u001b[0m\u001b[0m__money\u001b[0m\u001b[1;33m)\u001b[0m\u001b[1;33m\u001b[0m\u001b[1;33m\u001b[0m\u001b[0m\n\u001b[0m\u001b[0;32m      8\u001b[0m \u001b[1;33m\u001b[0m\u001b[0m\n\u001b[0;32m      9\u001b[0m \u001b[0mobj\u001b[0m \u001b[1;33m=\u001b[0m \u001b[0mChild\u001b[0m\u001b[1;33m(\u001b[0m\u001b[1;33m)\u001b[0m\u001b[1;33m\u001b[0m\u001b[1;33m\u001b[0m\u001b[0m\n",
      "\u001b[1;31mAttributeError\u001b[0m: 'Child' object has no attribute '_Child__money'"
     ]
    }
   ],
   "source": [
    "class Parent(object):\n",
    "    def __init__(self):\n",
    "        self.__money = 100 #private이기 때문에 상속되지 않아 자식 클래스에서 사용 불가.\n",
    "        \n",
    "class Child(Parent):\n",
    "    def __str__(self):\n",
    "        return str(self.__money)\n",
    "    \n",
    "obj = Child()\n",
    "print(obj)"
   ]
  },
  {
   "cell_type": "code",
   "execution_count": 17,
   "id": "742b010c",
   "metadata": {},
   "outputs": [],
   "source": [
    "#다중상속\n",
    "class Person:\n",
    "    def __init__(self, name, age):\n",
    "        self.name = name\n",
    "        self.age = age\n",
    "        \n",
    "    def show(self):\n",
    "        print(self.name, self.age)\n",
    "\n",
    "class Student:\n",
    "    def __init__(self, id):\n",
    "        self.id = id\n",
    "        \n",
    "    def getId(self):\n",
    "        return self.id\n",
    "    \n",
    "class ColleageStudent(Person, Student): #부모클래스가 여러개인 경우 super가 아니라 클래스이름사용\n",
    "    def __init__(self, name, age, id):\n",
    "        Person.__init__(self, name, age)\n",
    "        Student.__init__(self, id)"
   ]
  },
  {
   "cell_type": "code",
   "execution_count": 18,
   "id": "82ddb388",
   "metadata": {},
   "outputs": [
    {
     "name": "stdout",
     "output_type": "stream",
     "text": [
      "Kim 22\n",
      "100036\n"
     ]
    }
   ],
   "source": [
    "obj = ColleageStudent('Kim', 22, '100036')\n",
    "obj.show()\n",
    "print(obj.getId())"
   ]
  },
  {
   "cell_type": "code",
   "execution_count": 25,
   "id": "57cf1548",
   "metadata": {},
   "outputs": [],
   "source": [
    "import math\n",
    "\n",
    "class Shape:\n",
    "    def __init__(self):\n",
    "        pass\n",
    "    \n",
    "    def draw(self):\n",
    "        print(\"draw()가 호출됨\")\n",
    "        \n",
    "    def get_area(self):\n",
    "        print(\"get_area()가 호출됨\")"
   ]
  },
  {
   "cell_type": "code",
   "execution_count": 26,
   "id": "f7013f03",
   "metadata": {},
   "outputs": [],
   "source": [
    "class Circle(Shape):\n",
    "    def __init__(self, radius = 0):\n",
    "        super().__init__()\n",
    "        self.radius = radius\n",
    "        \n",
    "    def draw(self):\n",
    "        print(\"원을 그립니다.\")\n",
    "        \n",
    "    def get_area(self):\n",
    "        return math.pi*self.radius**2"
   ]
  },
  {
   "cell_type": "code",
   "execution_count": 27,
   "id": "341e623a",
   "metadata": {},
   "outputs": [],
   "source": [
    "class Triangle(Shape):\n",
    "    def __init__(self, base = 0, altitude = 0):\n",
    "        super().__init__()\n",
    "        self.base = base\n",
    "        self.altitude = altitude\n",
    "        \n",
    "    def draw(self):\n",
    "        print(\"삼각형을 그립니다.\")\n",
    "        \n",
    "    def get_area(self):\n",
    "        return self.base*self.altitude/2"
   ]
  },
  {
   "cell_type": "code",
   "execution_count": 28,
   "id": "1aec9fea",
   "metadata": {},
   "outputs": [],
   "source": [
    "class Square(Shape):\n",
    "    def __init__(self, base = 0, altitude = 0):\n",
    "        super().__init__()\n",
    "        self.base = base\n",
    "        self.altitude = altitude\n",
    "        \n",
    "    def draw(self):\n",
    "        print(\"사각형을 그립니다.\")\n",
    "        \n",
    "    def get_area(self):\n",
    "        return self.base*self.altitude"
   ]
  },
  {
   "cell_type": "code",
   "execution_count": 29,
   "id": "a52395c6",
   "metadata": {},
   "outputs": [
    {
     "name": "stdout",
     "output_type": "stream",
     "text": [
      "원을 그립니다.\n",
      "원의 면적:  314.1592653589793\n",
      "삼각형을 그립니다.\n",
      "삼각형의 면적:  25.0\n",
      "사각형을 그립니다.\n",
      "사각형의 면적:  60\n"
     ]
    }
   ],
   "source": [
    "c = Circle(10)\n",
    "c.draw()\n",
    "print(\"원의 면적: \", c.get_area())\n",
    "t = Triangle(10, 5)\n",
    "t.draw()\n",
    "print(\"삼각형의 면적: \", t.get_area())\n",
    "s = Square(10, 6)\n",
    "s.draw()\n",
    "print(\"사각형의 면적: \", s.get_area())"
   ]
  },
  {
   "cell_type": "code",
   "execution_count": 37,
   "id": "f0df0077",
   "metadata": {},
   "outputs": [
    {
     "name": "stdout",
     "output_type": "stream",
     "text": [
      "314.1592653589793\n",
      "50.0\n",
      "100\n"
     ]
    }
   ],
   "source": [
    "shapeList = [Circle(10), Triangle(10,10), Square(10,10)]\n",
    "for i in shapeList:\n",
    "    print(i.get_area())"
   ]
  },
  {
   "cell_type": "code",
   "execution_count": 34,
   "id": "624d4b06",
   "metadata": {},
   "outputs": [
    {
     "name": "stdout",
     "output_type": "stream",
     "text": [
      "In Class2\n"
     ]
    }
   ],
   "source": [
    "class Class1:\n",
    "    def m(self):\n",
    "        print(\"In Class1\")\n",
    "        \n",
    "class Class2(Class1):\n",
    "    def m(self):\n",
    "        print(\"In Class2\")\n",
    "        \n",
    "class Class3(Class1):\n",
    "    def m(self):\n",
    "        print(\"In Class3\")\n",
    "        \n",
    "class Class4(Class2, Class3):\n",
    "    pass\n",
    "\n",
    "obj = Class4()\n",
    "obj.m() #Class2의 m()이 불린다. 부모중에 첫번째것이 실행된다.\n",
    "#클래스4에서 class Class4(Class3, Class2)로 하면 Class3꺼가 불림\n",
    "#Class2에서 m을 오버라이딩 하지 않고 pass로 두면 다른 부모인 Class3꺼가 불린다"
   ]
  },
  {
   "cell_type": "markdown",
   "id": "946c86ad",
   "metadata": {},
   "source": [
    "### object클래스\n",
    "object클래스는 최상위 클래스이다  \n",
    "object클래스의 메소드로는  \n",
    "\"__init__(self[,args...])\" : 생성자  \n",
    "\"__del__(self)\" : 소멸자  \n",
    "\"__repr__(self)\" : 객체 표현 문자열 반환  \n",
    "\"__str__(self)\" : 문자열 표현 반환  \n",
    "\"__cmp__(self,x)\" : 객체 비교  \n",
    "repr, str둘다 print(obj)로 실행된다.  \n",
    "repr은 unambiguous하게 객체를 설명하는것  \n",
    "str은 객체의 내용을 readable하게 표현한다.  \n",
    "둘다 있는 경우 print(obj)를 하면 str이 실행된다.  \n",
    "repr은 반드시 하고 str은 필요한 경우 한다."
   ]
  },
  {
   "cell_type": "code",
   "execution_count": 38,
   "id": "d4a58baf",
   "metadata": {},
   "outputs": [],
   "source": [
    "class Department:\n",
    "    def __init__(self, name):\n",
    "        self.name = name\n",
    "        self.courses = [] #Course클래스를 배열로 가짐. 이를 has-a관계라 한다. 일반적 상속은 is-a관계\n",
    "        \n",
    "    def __str__(self):\n",
    "        return f\"학과 이름 = {self.name}, 개설 과목 = {self.courses}\"\n",
    "    \n",
    "    def add_course(self, cname, degree):\n",
    "        c = Course(cname, degree)\n",
    "        self.courses.append(c) #배열에 새로운 Course클래스 객체 추가\n",
    "        return c"
   ]
  },
  {
   "cell_type": "code",
   "execution_count": 39,
   "id": "0b0b6158",
   "metadata": {},
   "outputs": [],
   "source": [
    "class Course:\n",
    "    def __init__(self, name, degree):\n",
    "        self.name = name\n",
    "        self.degree = degree\n",
    "        \n",
    "    def __str__(self):\n",
    "        return f\"(s{self.name}, {self.degree})\"\n",
    "    \n",
    "    def __repr__(self):\n",
    "        return f\"(r{self.name}, {self.degree})\""
   ]
  },
  {
   "cell_type": "code",
   "execution_count": 41,
   "id": "eb23325f",
   "metadata": {},
   "outputs": [],
   "source": [
    "class Student:\n",
    "    def __init__(self, name, id):\n",
    "        self.name = name\n",
    "        self.id = id\n",
    "        self.courses = []\n",
    "        \n",
    "    def __str__(self):\n",
    "        return f\"학생이름 = {self.name}, 학변 = {self.id}, 수강 과목 = {self.courses}\"\n",
    "    \n",
    "    def enroll(self, course):\n",
    "        self.courses.append(course)"
   ]
  },
  {
   "cell_type": "code",
   "execution_count": 43,
   "id": "d1f23331",
   "metadata": {},
   "outputs": [
    {
     "name": "stdout",
     "output_type": "stream",
     "text": [
      "학과 이름 = 컴퓨터공학과, 개설 과목 = [(r대학생활의설계, 1), (r인공지능, 3), (r파이썬프로그래밍, 3)]\n",
      "학생이름 = 홍길동, 학변 = 20000000, 수강 과목 = [(r인공지능, 3), (r파이썬프로그래밍, 3)]\n"
     ]
    }
   ],
   "source": [
    "dept = Department(\"컴퓨터공학과\")\n",
    "c1 = dept.add_course(\"대학생활의설계\", 1)\n",
    "c2 = dept.add_course(\"인공지능\", 3)\n",
    "c3 = dept.add_course(\"파이썬프로그래밍\", 3)\n",
    "print(dept)\n",
    "st = Student(\"홍길동\", 20000000)\n",
    "st.enroll(c2)\n",
    "st.enroll(c3)\n",
    "print(st)"
   ]
  },
  {
   "cell_type": "markdown",
   "id": "cdab8c31",
   "metadata": {},
   "source": [
    "하지만 이 경우 Department클래스와 Student클래스의 str에서 self.courses를 통해 Course클래스의 str이 아닌 repr이 불려온다.  \n",
    "객체를 print를 사용하는게 아니라 self.courses처럼 리스트로 찍는 경우  \n",
    "리스트의 str이 실행 되고 이 str은 리스트 안의 항목들의 repr을 부른다.  \n",
    "따라서 repr과 str을 같이 만드는 것이 좋다."
   ]
  },
  {
   "cell_type": "code",
   "execution_count": null,
   "id": "cc577a9c",
   "metadata": {},
   "outputs": [],
   "source": []
  }
 ],
 "metadata": {
  "kernelspec": {
   "display_name": "Python 3 (ipykernel)",
   "language": "python",
   "name": "python3"
  },
  "language_info": {
   "codemirror_mode": {
    "name": "ipython",
    "version": 3
   },
   "file_extension": ".py",
   "mimetype": "text/x-python",
   "name": "python",
   "nbconvert_exporter": "python",
   "pygments_lexer": "ipython3",
   "version": "3.9.7"
  }
 },
 "nbformat": 4,
 "nbformat_minor": 5
}
