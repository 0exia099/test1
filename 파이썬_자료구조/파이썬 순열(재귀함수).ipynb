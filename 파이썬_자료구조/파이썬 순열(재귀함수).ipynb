{
 "cells": [
  {
   "cell_type": "markdown",
   "id": "252cec99",
   "metadata": {},
   "source": [
    "### 문제\n",
    "n>=1개의 원소를 갖는 집합에 대해 이 집합의 모든 원소들에 대한 순열을 출력하라  \n",
    "예 : 집합{a,b,b}에 대해 순열의 집합 = 3!  \n",
    "    {(a,b,c),(a,d,b),(b,a,c),(b,c,a),(c,a,b),(c,b,a)}  \n",
    "n개의 원소에 대한 순열의 수는 n!  \n",
    "  \n",
    "재귀적인 해결 방법 : 집합{a,b,c,d}를 가정  \n",
    "    a가 먼저 나온 후, {b,c,d}로 구성된 모든 순열  \n",
    "    b가 먼저 나온 후, {a,c,d}로 구성된 모든 순열  \n",
    "    c가 먼저 나온 후, {a,b,d}로 구성된 모든 순열  \n",
    "    d가 먼저 나온 후, {a,b,c}로 구성된 모든 순열  "
   ]
  },
  {
   "cell_type": "code",
   "execution_count": 4,
   "id": "bde73c09",
   "metadata": {},
   "outputs": [],
   "source": [
    "def permutations(data, i, n):\n",
    "    if i == n:\n",
    "        print(data)\n",
    "    else:\n",
    "        for j in range(i, n+1):\n",
    "            data[i], data[j] = data[j], data[i]\n",
    "            permutations(data, i+1, n)\n",
    "            data[i], data[j] = data[j], data[i]"
   ]
  },
  {
   "cell_type": "code",
   "execution_count": 5,
   "id": "57762fd4",
   "metadata": {},
   "outputs": [
    {
     "name": "stdout",
     "output_type": "stream",
     "text": [
      "['a', 'b', 'c', 'd']\n",
      "['a', 'b', 'd', 'c']\n",
      "['a', 'c', 'b', 'd']\n",
      "['a', 'c', 'd', 'b']\n",
      "['a', 'd', 'c', 'b']\n",
      "['a', 'd', 'b', 'c']\n",
      "['b', 'a', 'c', 'd']\n",
      "['b', 'a', 'd', 'c']\n",
      "['b', 'c', 'a', 'd']\n",
      "['b', 'c', 'd', 'a']\n",
      "['b', 'd', 'c', 'a']\n",
      "['b', 'd', 'a', 'c']\n",
      "['c', 'b', 'a', 'd']\n",
      "['c', 'b', 'd', 'a']\n",
      "['c', 'a', 'b', 'd']\n",
      "['c', 'a', 'd', 'b']\n",
      "['c', 'd', 'a', 'b']\n",
      "['c', 'd', 'b', 'a']\n",
      "['d', 'b', 'c', 'a']\n",
      "['d', 'b', 'a', 'c']\n",
      "['d', 'c', 'b', 'a']\n",
      "['d', 'c', 'a', 'b']\n",
      "['d', 'a', 'c', 'b']\n",
      "['d', 'a', 'b', 'c']\n"
     ]
    }
   ],
   "source": [
    "permutations(['a', 'b', 'c', 'd'], 0, 3)"
   ]
  },
  {
   "cell_type": "code",
   "execution_count": null,
   "id": "0528fbbe",
   "metadata": {},
   "outputs": [],
   "source": []
  }
 ],
 "metadata": {
  "kernelspec": {
   "display_name": "Python 3 (ipykernel)",
   "language": "python",
   "name": "python3"
  },
  "language_info": {
   "codemirror_mode": {
    "name": "ipython",
    "version": 3
   },
   "file_extension": ".py",
   "mimetype": "text/x-python",
   "name": "python",
   "nbconvert_exporter": "python",
   "pygments_lexer": "ipython3",
   "version": "3.9.7"
  }
 },
 "nbformat": 4,
 "nbformat_minor": 5
}
