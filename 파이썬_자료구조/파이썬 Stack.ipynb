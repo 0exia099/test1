{
 "cells": [
  {
   "cell_type": "markdown",
   "id": "9b7c6b50",
   "metadata": {},
   "source": [
    "### Python의 list를 이용하여 스택을 구현\n",
    "top은 리스트의 가장 마지막 원소를 가리킨다고 가정  \n",
    "push -> list.append  \n",
    "pop -> list.pop()\n",
    "stack_full은 파이썬의 리스트의 경우 동적으로 할당하기 때문에 고려하지 않아도 된다.  \n",
    "stack_empty는 append와 pop을 사용함으로 top이 필요없으므로 배열이 비었을때 empty"
   ]
  },
  {
   "cell_type": "code",
   "execution_count": 9,
   "id": "347af29d",
   "metadata": {},
   "outputs": [],
   "source": [
    "class Empty(Exception):\n",
    "    def __init__(self, message):\n",
    "        self.message = message\n",
    "        \n",
    "    def __str__(self):\n",
    "        return f\"{self.__class__.__name__}: {self.message}\""
   ]
  },
  {
   "cell_type": "code",
   "execution_count": 10,
   "id": "98cd90e9",
   "metadata": {},
   "outputs": [],
   "source": [
    "class ArrayStack:\n",
    "    def __init__(self):\n",
    "        self._data = []\n",
    "        \n",
    "    def __len__(self):\n",
    "        return len(self._data)\n",
    "    \n",
    "    def is_empty(self):\n",
    "        return len(self._data) == 0\n",
    "    \n",
    "    def push(self, e):\n",
    "        self._data.append(e)\n",
    "        \n",
    "    def top(self):\n",
    "        if self.is_empty():\n",
    "            raise Empty('Stack is empty')\n",
    "        return self._data[-1]\n",
    "    \n",
    "    def pop(self):\n",
    "        \n",
    "        if self.is_empty():\n",
    "            raise Empty('Stack is empty')\n",
    "        return self._data.pop()\n",
    "    \n",
    "    def __str__(self):\n",
    "        return str(self._data)"
   ]
  },
  {
   "cell_type": "code",
   "execution_count": 11,
   "id": "bdae2767",
   "metadata": {},
   "outputs": [],
   "source": [
    "S = ArrayStack()"
   ]
  },
  {
   "cell_type": "code",
   "execution_count": 12,
   "id": "c41200cc",
   "metadata": {},
   "outputs": [
    {
     "name": "stdout",
     "output_type": "stream",
     "text": [
      "2\n",
      "3\n",
      "False\n",
      "5\n",
      "True\n",
      "9\n",
      "3\n",
      "4\n",
      "8\n"
     ]
    }
   ],
   "source": [
    "S.push(5)\n",
    "S.push(3)\n",
    "print(len(S))\n",
    "print(S.pop())\n",
    "print(S.is_empty())\n",
    "print(S.pop())\n",
    "print(S.is_empty())\n",
    "S.push(7)\n",
    "S.push(9)\n",
    "print(S.top())\n",
    "S.push(4)\n",
    "print(len(S))\n",
    "print(S.pop())\n",
    "S.push(6)\n",
    "S.push(8)\n",
    "print(S.pop())"
   ]
  },
  {
   "cell_type": "code",
   "execution_count": 13,
   "id": "44681f27",
   "metadata": {},
   "outputs": [
    {
     "name": "stdout",
     "output_type": "stream",
     "text": [
      "[7, 9, 6]\n"
     ]
    }
   ],
   "source": [
    "print(S._data)"
   ]
  },
  {
   "cell_type": "code",
   "execution_count": 14,
   "id": "f9220457",
   "metadata": {},
   "outputs": [
    {
     "name": "stdout",
     "output_type": "stream",
     "text": [
      "[7, 9, 6]\n"
     ]
    }
   ],
   "source": [
    "print(S)"
   ]
  },
  {
   "cell_type": "code",
   "execution_count": 15,
   "id": "e4afac25",
   "metadata": {},
   "outputs": [
    {
     "name": "stdout",
     "output_type": "stream",
     "text": [
      "6\n",
      "9\n",
      "7\n",
      "Empty: Stack is empty\n"
     ]
    }
   ],
   "source": [
    "try:\n",
    "    print(S.pop())\n",
    "    print(S.pop())\n",
    "    print(S.pop())\n",
    "    print(S.pop())\n",
    "except Empty as e:\n",
    "    print(e)"
   ]
  },
  {
   "cell_type": "markdown",
   "id": "fb9cd238",
   "metadata": {},
   "source": [
    "### 스택을 이용한 괄호매칭\n",
    "괄호가 순서에 맞게 닫히는지 확인  \n",
    "괄호 여는걸 스택에 push하고 괄호닫는게 오면 pop하여 맞는지 비교"
   ]
  },
  {
   "cell_type": "code",
   "execution_count": 17,
   "id": "5b3f8e93",
   "metadata": {},
   "outputs": [],
   "source": [
    "def is_matched(expr):\n",
    "    lefty = '({['\n",
    "    righty = ')}]'\n",
    "    S = ArrayStack()\n",
    "    for c in expr:\n",
    "        if c in lefty:\n",
    "            S.push(c)\n",
    "        elif c in righty:\n",
    "            if S.is_empty():\n",
    "                return False\n",
    "            if righty.index(c) != lefty.index(S.pop()):\n",
    "                return False\n",
    "    return S.is_empty()"
   ]
  },
  {
   "cell_type": "code",
   "execution_count": 18,
   "id": "2e731a12",
   "metadata": {},
   "outputs": [
    {
     "data": {
      "text/plain": [
       "True"
      ]
     },
     "execution_count": 18,
     "metadata": {},
     "output_type": "execute_result"
    }
   ],
   "source": [
    "is_matched('()(()){([()])}')"
   ]
  },
  {
   "cell_type": "code",
   "execution_count": 19,
   "id": "bdb690e6",
   "metadata": {},
   "outputs": [
    {
     "data": {
      "text/plain": [
       "False"
      ]
     },
     "execution_count": 19,
     "metadata": {},
     "output_type": "execute_result"
    }
   ],
   "source": [
    "is_matched('({[])}')"
   ]
  },
  {
   "cell_type": "code",
   "execution_count": 20,
   "id": "de21c437",
   "metadata": {},
   "outputs": [
    {
     "data": {
      "text/plain": [
       "True"
      ]
     },
     "execution_count": 20,
     "metadata": {},
     "output_type": "execute_result"
    }
   ],
   "source": [
    "is_matched('[(5+x)-(y+z)]')"
   ]
  },
  {
   "cell_type": "markdown",
   "id": "8975f588",
   "metadata": {},
   "source": [
    "### Stack을 이용한 HTML Tag 매칭확인"
   ]
  },
  {
   "cell_type": "code",
   "execution_count": 30,
   "id": "2a6b59a7",
   "metadata": {},
   "outputs": [],
   "source": [
    "def is_matched_html(raw):\n",
    "    St = ArrayStack()\n",
    "    j = raw.find('<')\n",
    "    while j != -1:\n",
    "        k = raw.find('>', j+1)\n",
    "        if k == -1:\n",
    "            return False\n",
    "        tag = raw[j+1:k]\n",
    "        if not tag.startswith('/'):\n",
    "            St.push(tag)\n",
    "        else:\n",
    "            if St.is_empty():\n",
    "                return False\n",
    "            if tag[1:] != St.pop():   \n",
    "                return False\n",
    "        j = raw.find('<', k+1)\n",
    "    return St.is_empty()"
   ]
  },
  {
   "cell_type": "code",
   "execution_count": 31,
   "id": "03a40f46",
   "metadata": {},
   "outputs": [],
   "source": [
    "raw = \"\"\"<body>\n",
    "    <center>\n",
    "    <h1> The Little Boat </h1>\n",
    "    </center>\n",
    "    <p> The storm tossed the little boat like a cheap sneaker in an old washing machine. The three\n",
    "    drunken fishermen were used to such treatment, of course, but not the tree salesman, who even as a stowaway now felt that he had overpaid for the voyage. </p>\n",
    "    <ol>\n",
    "    <li> Will the salesman die? </li>\n",
    "    <li> What color is the boat? </li>\n",
    "    <li> And what about Naomi? </li>\n",
    "    </ol>\n",
    "    </body>\n",
    "    \"\"\""
   ]
  },
  {
   "cell_type": "code",
   "execution_count": 32,
   "id": "137fa5b4",
   "metadata": {},
   "outputs": [
    {
     "data": {
      "text/plain": [
       "True"
      ]
     },
     "execution_count": 32,
     "metadata": {},
     "output_type": "execute_result"
    }
   ],
   "source": [
    "is_matched_html(raw)"
   ]
  },
  {
   "cell_type": "code",
   "execution_count": null,
   "id": "4d8e3eff",
   "metadata": {},
   "outputs": [],
   "source": []
  }
 ],
 "metadata": {
  "kernelspec": {
   "display_name": "Python 3 (ipykernel)",
   "language": "python",
   "name": "python3"
  },
  "language_info": {
   "codemirror_mode": {
    "name": "ipython",
    "version": 3
   },
   "file_extension": ".py",
   "mimetype": "text/x-python",
   "name": "python",
   "nbconvert_exporter": "python",
   "pygments_lexer": "ipython3",
   "version": "3.9.7"
  }
 },
 "nbformat": 4,
 "nbformat_minor": 5
}
