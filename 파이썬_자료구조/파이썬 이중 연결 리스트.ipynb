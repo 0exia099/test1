{
 "cells": [
  {
   "cell_type": "code",
   "execution_count": 4,
   "id": "dce8dea6",
   "metadata": {},
   "outputs": [],
   "source": [
    "class DoublyLinkedBase:\n",
    "\n",
    "    class _Node: #노드\n",
    "        __slots__ = '_element', '_prev', '_next'\n",
    "\n",
    "        def __init__(self, element, prev, next):\n",
    "            self._element = element\n",
    "            self._prev = prev\n",
    "            self._next = next\n",
    "    ##############################################\n",
    "\n",
    "    def __init__(self): #초기 빈 열결리스트 생성\n",
    "        self._header = self._Node(None, None, None)\n",
    "        self._trailer = self._Node(None, None, None)\n",
    "        self._header._next = self._trailer\n",
    "        self._trailer._prev = self._header\n",
    "        self._size = 0\n",
    "\n",
    "    def __len__(self):\n",
    "        return self._size\n",
    "\n",
    "    def is_empty(self):\n",
    "        return self._size == 0\n",
    "\n",
    "    def _insert_between(self, e, predecessor, successor):\n",
    "        newest = self._Node(e, predecessor, successor) #새로운 노드 생성(predecessor와 successor사이)\n",
    "        predecessor._next = newest #이전 노드의 next를 새 노드로\n",
    "        successor._prev = newest #뒤의 노드의 prev를 새 노드로\n",
    "        self._size += 1\n",
    "        return newest\n",
    "\n",
    "    def _delete_node(self, node):\n",
    "        predecessor = node._prev\n",
    "        successor = node._next\n",
    "        predecessor._next = successor #전노드와 뒤의 노드 연결\n",
    "        successor._prev = predecessor\n",
    "        self._size -= 1\n",
    "        element = node._element\n",
    "        node._prev = node._next = node._element = None #연결 끊은 노드는 None\n",
    "        return element"
   ]
  },
  {
   "cell_type": "markdown",
   "id": "220bf2d7",
   "metadata": {},
   "source": [
    "queue의 양 끝에서 삽입과 삭제를 할 수 있는 Double-Ended Queue  \n",
    "이중 연결 리스트의 자식 클래스로 정의"
   ]
  },
  {
   "cell_type": "code",
   "execution_count": 7,
   "id": "c53e3753",
   "metadata": {},
   "outputs": [],
   "source": [
    "from exceptions import Empty\n",
    "\n",
    "class LinkedDeque(DoublyLinkedBase): #DoublyLinkedBase상속받음\n",
    "    def first(self): #첫노드 값 반환\n",
    "        if self.is_empty():\n",
    "            raise Empty(\"Deque is empty\")\n",
    "        return self._header._next._element\n",
    "\n",
    "    def last(self): #마지막 노드 값 반환\n",
    "        if self.is_empty():\n",
    "            raise Empty(\"Deque is empty\")\n",
    "        return self._trailer._prev._element\n",
    "\n",
    "    def insert_first(self, e): #처음에 e값을 가지는 노드 추가\n",
    "        self._insert_between(e, self._header, self._header._next)\n",
    "\n",
    "    def insert_last(self, e): #마지막에 e값을 가지는 노드 추가\n",
    "        self._insert_between(e, self._trailer._prev, self._trailer)\n",
    "\n",
    "    def delete_first(self): #첫노드 삭제\n",
    "        if self.is_empty():\n",
    "            raise Empty(\"Deque is empty\")\n",
    "        return self._delete_node(self._header._next)\n",
    "\n",
    "    def delete_last(self): #마지막 노드 삭제\n",
    "        if self.is_empty():\n",
    "            raise Empty(\"Deque is empty\")\n",
    "        return self._delete_node(self._trailer._prev)\n",
    "\n",
    "    def __str__(self): #연결리스트의 처음부터 출력\n",
    "        A = []\n",
    "        ptr = self._header._next\n",
    "        while ptr != self._trailer :\n",
    "            A.append(ptr._element)\n",
    "            ptr = ptr._next\n",
    "        return(str(A))"
   ]
  },
  {
   "cell_type": "code",
   "execution_count": 8,
   "id": "a555f127",
   "metadata": {},
   "outputs": [
    {
     "name": "stdout",
     "output_type": "stream",
     "text": [
      "['B', 'A', 'D']\n",
      "B\n",
      "D\n",
      "['A']\n"
     ]
    }
   ],
   "source": [
    "ld = LinkedDeque()\n",
    "ld.insert_first('A')\n",
    "ld.insert_first('B')\n",
    "ld.insert_last('D')\n",
    "print(ld)\n",
    "print(ld.delete_first())\n",
    "print(ld.delete_last())\n",
    "print(ld)"
   ]
  },
  {
   "cell_type": "code",
   "execution_count": null,
   "id": "698df476",
   "metadata": {},
   "outputs": [],
   "source": []
  }
 ],
 "metadata": {
  "kernelspec": {
   "display_name": "Python 3 (ipykernel)",
   "language": "python",
   "name": "python3"
  },
  "language_info": {
   "codemirror_mode": {
    "name": "ipython",
    "version": 3
   },
   "file_extension": ".py",
   "mimetype": "text/x-python",
   "name": "python",
   "nbconvert_exporter": "python",
   "pygments_lexer": "ipython3",
   "version": "3.9.7"
  }
 },
 "nbformat": 4,
 "nbformat_minor": 5
}
