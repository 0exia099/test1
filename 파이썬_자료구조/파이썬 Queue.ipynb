{
 "cells": [
  {
   "cell_type": "code",
   "execution_count": 1,
   "id": "51a8b308",
   "metadata": {},
   "outputs": [],
   "source": [
    "class Empty(Exception):\n",
    "    def __init__(self, message):\n",
    "        self.message = message\n",
    "        \n",
    "    def __str__(self):\n",
    "        return f\"{self.__class__.__name__}: {self.message}\""
   ]
  },
  {
   "cell_type": "code",
   "execution_count": 2,
   "id": "c40528d9",
   "metadata": {},
   "outputs": [],
   "source": [
    "class ArrayQueue: #Circular Queue\n",
    "    DEFAULT_CAPACITY = 10\n",
    "\n",
    "    def __init__(self):\n",
    "        self._data = [None] * ArrayQueue.DEFAULT_CAPACITY\n",
    "        self._size = 0\n",
    "        self._front = 0\n",
    "\n",
    "    def __len__(self):\n",
    "        return self._size\n",
    "\n",
    "    def is_empty(self):\n",
    "        return self._size == 0\n",
    "\n",
    "    def first(self):\n",
    "        if self.is_empty():\n",
    "            raise Empty('Queue is empty')\n",
    "        return self._data[self._front]\n",
    "\n",
    "    def dequeue(self):\n",
    "        if self.is_empty():\n",
    "            raise Empty('Queue is empty')\n",
    "        answer = self._data[self._front]\n",
    "        self._data[self._front] = None\n",
    "        self._front = (self._front + 1) % len(self._data) #배열의 크기는 len(self._data)가 가지고\n",
    "        self._size -= 1 #원소의 수는 self._size가 가진다\n",
    "        return answer\n",
    "\n",
    "    def enqueue(self, e):\n",
    "        if self._size == len(self._data): #이 경우 꽉찬것\n",
    "            self._resize(2 * len(self.data)) #사이즈 두배로\n",
    "        avail = (self._front + self._size) % len(self._data) #rear의 값을 (front + 원소갯수) % 배열크기로 구한다\n",
    "        self._data[avail] = e\n",
    "        self._size += 1\n",
    "\n",
    "    def _resize(self, cap):\n",
    "        old = self._data\n",
    "        self._data = [None] * cap #새로운 크기만큼 할당\n",
    "        walk = self._front\n",
    "        for k in range(self._size):\n",
    "            self._data[k] = old[walk] #front의 위치부터 원소갯수만큼 다시 받아옴\n",
    "            walk = (1 + walk) % len(old)\n",
    "        self._front = 0"
   ]
  },
  {
   "cell_type": "code",
   "execution_count": 5,
   "id": "be7df578",
   "metadata": {},
   "outputs": [
    {
     "name": "stdout",
     "output_type": "stream",
     "text": [
      "2\n",
      "5\n",
      "False\n",
      "3\n",
      "True\n"
     ]
    }
   ],
   "source": [
    "Q = ArrayQueue()\n",
    "Q.enqueue(5)\n",
    "Q.enqueue(3)\n",
    "print(len(Q))\n",
    "print(Q.dequeue())\n",
    "print(Q.is_empty())\n",
    "print(Q.dequeue())\n",
    "print(Q.is_empty())"
   ]
  },
  {
   "cell_type": "code",
   "execution_count": 6,
   "id": "ec4d4a57",
   "metadata": {},
   "outputs": [
    {
     "name": "stdout",
     "output_type": "stream",
     "text": [
      "7\n",
      "3\n",
      "7\n"
     ]
    }
   ],
   "source": [
    "Q.enqueue(7)\n",
    "Q.enqueue(9)\n",
    "print(Q.first())\n",
    "Q.enqueue(4)\n",
    "print(len(Q))\n",
    "print(Q.dequeue())"
   ]
  },
  {
   "cell_type": "code",
   "execution_count": null,
   "id": "3f475700",
   "metadata": {},
   "outputs": [],
   "source": []
  }
 ],
 "metadata": {
  "kernelspec": {
   "display_name": "Python 3 (ipykernel)",
   "language": "python",
   "name": "python3"
  },
  "language_info": {
   "codemirror_mode": {
    "name": "ipython",
    "version": 3
   },
   "file_extension": ".py",
   "mimetype": "text/x-python",
   "name": "python",
   "nbconvert_exporter": "python",
   "pygments_lexer": "ipython3",
   "version": "3.9.7"
  }
 },
 "nbformat": 4,
 "nbformat_minor": 5
}
