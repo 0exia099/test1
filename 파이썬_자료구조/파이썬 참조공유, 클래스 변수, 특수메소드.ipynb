{
 "cells": [
  {
   "cell_type": "code",
   "execution_count": 5,
   "id": "dca8f216",
   "metadata": {},
   "outputs": [
    {
     "name": "stdout",
     "output_type": "stream",
     "text": [
      "list1의 id = 2546500754560, list2의 id = 2546500755584, list3의 id = 2546500754560\n",
      "True\n",
      "False\n",
      "True\n",
      "False\n",
      "False\n",
      "True\n",
      "list1의 id = 2546500754560, list2의 id = 2546500755584, list3의 id = 2546500753920\n"
     ]
    }
   ],
   "source": [
    "list1 = []\n",
    "list2 = []\n",
    "list3 = list1\n",
    "\n",
    "print(f\"list1의 id = {id(list1)}, list2의 id = {id(list2)}, list3의 id = {id(list3)}\")\n",
    "print(list1 == list2) #list1과 list2의 내용 비교\n",
    "print(list1 is list2) #list1과 list2가 같은지 비교(다르다)\n",
    "print(list1 is list3) #list1과 list3가 같은지 비교(같다)->list3 = list1은 값을 가져오는게 아니라 list1의 주소에 list3를 연결\n",
    "\n",
    "list3 = list3 + list2 #list3는 1, 2둘다와 달라짐\n",
    "print(list1 is list3)\n",
    "print(list2 is list3)\n",
    "print(list1 == list3)\n",
    "print(f\"list1의 id = {id(list1)}, list2의 id = {id(list2)}, list3의 id = {id(list3)}\")"
   ]
  },
  {
   "cell_type": "markdown",
   "id": "be78a072",
   "metadata": {},
   "source": [
    "### None 참조값\n",
    "변수가 현재 아무것도 가리키고 있지 않다면 None으로 설정하는 것이 좋다.  \n",
    "None은 True도 아니고 False도 아니다."
   ]
  },
  {
   "cell_type": "code",
   "execution_count": 14,
   "id": "4c996fec",
   "metadata": {},
   "outputs": [
    {
     "name": "stdout",
     "output_type": "stream",
     "text": [
      "11 2 True 1\n",
      "12 10 True 2\n"
     ]
    }
   ],
   "source": [
    "###객체를 함수로 전달할 때\n",
    "\n",
    "class Television:\n",
    "    serialNumber = 0 #클래스 변수\n",
    "    def __init__(self, channel, volume, on):\n",
    "        self.channel = channel\n",
    "        self.volume = volume\n",
    "        self.on = on\n",
    "        Television.serialNumber += 1 #클래스 변수의 값을 객체의 시리얼 번호로.\n",
    "        self.number = Television.serialNumber\n",
    "        \n",
    "    def show(self):\n",
    "        print(self.channel, self.volume, self.on, self.number)\n",
    "        \n",
    "#전달받은 텔레비전의 음량을 줄인다.\n",
    "def setSilentMode(t):\n",
    "    t.volume = 2\n",
    "    \n",
    "# setSilentMode()를 호출하여 객체의 내용이 변경되는지 확인(변경된다)\n",
    "myTV = Television(11, 10, True)\n",
    "setSilentMode(myTV)\n",
    "myTV.show()\n",
    "yourTV = Television(12,10, True)\n",
    "yourTV.show()"
   ]
  },
  {
   "cell_type": "code",
   "execution_count": 15,
   "id": "50b0cd10",
   "metadata": {},
   "outputs": [],
   "source": [
    "class Monster :\n",
    "    WEAK = 0\n",
    "    NORMAL = 10\n",
    "    STRONG = 20\n",
    "    VERY_STRONG = 30\n",
    "    \n",
    "    def __init__(self):\n",
    "        self._health = Monster.NORMAL\n",
    "    def eat(self):\n",
    "        self._health = Monster.STRONG\n",
    "    def attack(self):\n",
    "        self._health = Monster.WEAK"
   ]
  },
  {
   "cell_type": "code",
   "execution_count": 17,
   "id": "88834229",
   "metadata": {},
   "outputs": [
    {
     "name": "stdout",
     "output_type": "stream",
     "text": [
      " m is t? False\n",
      "0 0\n",
      "100 100 100\n",
      "10 200 10\n",
      "10\n"
     ]
    }
   ],
   "source": [
    "m = Monster()\n",
    "t = Monster()\n",
    "print(\" m is t?\", m is t)\n",
    "print(m.WEAK, t.WEAK)\n",
    "Monster.WEAK = 100 #클래스 변수 변경\n",
    "print(Monster.WEAK, m.WEAK, t.WEAK)\n",
    "m.NORMAL = 200 #m의 NORMAL변경->다른 객체들의 클래스 변수는 바뀌지 않음\n",
    "#클래스를 통해서 클래스 변수를 바꾸면 다른 객체에도 영향을 미치는데\n",
    "#인스턴스를 통해서 클래스 변수를 바꾸면 해당 인스턴스의 변수가 생기는것\n",
    "print(Monster.NORMAL, m.NORMAL, t.NORMAL)\n",
    "print(m.__class__.NORMAL)"
   ]
  },
  {
   "cell_type": "code",
   "execution_count": 20,
   "id": "bdd3cfaa",
   "metadata": {},
   "outputs": [
    {
     "name": "stdout",
     "output_type": "stream",
     "text": [
      "원의 반지름은 동일합니다.\n"
     ]
    }
   ],
   "source": [
    "class Circle:\n",
    "    def __init__(self, radius = 0):\n",
    "        self.radius = radius\n",
    "        \n",
    "    def getArea(self):\n",
    "        return math.pi*self.radius**2\n",
    "    \n",
    "    def getPerimeter(self):\n",
    "        return 2*math.pi*self.radius\n",
    "    \n",
    "    def __eq__(self, other): #특수 메소드\n",
    "        return self.radius == other.radius\n",
    "    \n",
    "c1 = Circle(10)\n",
    "c2 = Circle(10)\n",
    "if c1 == c2:\n",
    "    print(\"원의 반지름은 동일합니다.\") #c1.__eq__(c2)할 필요 없이 ==로 해당 메소드가 사용됨"
   ]
  },
  {
   "cell_type": "markdown",
   "id": "0725cffb",
   "metadata": {},
   "source": [
    "### 특수 메소드\n",
    "__add__(self, y) : x+y  \n",
    "__sub__(self, y) : x-y  \n",
    "__mul__(self, y) : x*y  \n",
    "__truediv__(self, y) : x/y (실수나눗셈)  \n",
    "__floordiv__(self, y) : x//y (정수나눗셈)  \n",
    "__mod__(self, y) : x%y  \n",
    "__divmod__(self, y) : divmod(x,y) (실수나눗셈과 나머지)  \n",
    "__pow__(self, y) : x**y (지수)  \n",
    "__lshift__(self, y) : x<<y  \n",
    "__rshift__(self, y) : x>>y  \n",
    "__le__(self, y) : x<=y  \n",
    "__lt__(self, y) : x<y  \n",
    "__ge__(self, y) : x>=y  \n",
    "__gt__(self, y) : x>y  \n",
    "__eq__(self, y) : x==y  \n",
    "__neq__(self, y) : x!=y"
   ]
  },
  {
   "cell_type": "code",
   "execution_count": null,
   "id": "869d9207",
   "metadata": {},
   "outputs": [],
   "source": []
  }
 ],
 "metadata": {
  "kernelspec": {
   "display_name": "Python 3 (ipykernel)",
   "language": "python",
   "name": "python3"
  },
  "language_info": {
   "codemirror_mode": {
    "name": "ipython",
    "version": 3
   },
   "file_extension": ".py",
   "mimetype": "text/x-python",
   "name": "python",
   "nbconvert_exporter": "python",
   "pygments_lexer": "ipython3",
   "version": "3.9.7"
  }
 },
 "nbformat": 4,
 "nbformat_minor": 5
}
