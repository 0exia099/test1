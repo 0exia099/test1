{
 "cells": [
  {
   "cell_type": "markdown",
   "id": "2a095d71",
   "metadata": {},
   "source": [
    "### 이진검색 재귀함수\n",
    "\n",
    "가정 : 서로 다른 n>=1개의 정수가 list[]배열에 정렬. key가 주어질 때, list[i] = key인 i를 발견하여 출력.  \n",
    "해결 방법  \n",
    "1 : left = 0. right = n-1. middle = (left+right)/2로 설정  \n",
    "2 : list[middle]과 key를 비교"
   ]
  },
  {
   "cell_type": "code",
   "execution_count": 3,
   "id": "ea0048e6",
   "metadata": {},
   "outputs": [],
   "source": [
    "def binary_search(data, key, left, right):\n",
    "    if left > right:\n",
    "        return -1\n",
    "    else:\n",
    "        middle = (left + right) // 2\n",
    "        if key == data[middle]:\n",
    "            return middle\n",
    "        elif key < data[middle]:\n",
    "            return binary_search(data, key, left, middle - 1)\n",
    "        else:\n",
    "            return binary_search(data, key, middle + 1, right)"
   ]
  },
  {
   "cell_type": "code",
   "execution_count": 9,
   "id": "218a069d",
   "metadata": {},
   "outputs": [],
   "source": [
    "def bs_in(data, key):\n",
    "    if binary_search(data, key, 0, len(data)-1) == -1:\n",
    "        return False\n",
    "    else:\n",
    "        return True"
   ]
  },
  {
   "cell_type": "code",
   "execution_count": 11,
   "id": "2c89e85e",
   "metadata": {},
   "outputs": [
    {
     "name": "stdout",
     "output_type": "stream",
     "text": [
      "리스트의 크기 = 100000, in 시간 = 0.04787731170654297\n",
      "리스트의 크기 = 100000, bs_in 시간 = 0.0009908676147460938\n",
      "리스트의 크기 = 200000, in 시간 = 0.0878136157989502\n",
      "리스트의 크기 = 200000, bs_in 시간 = 0.0009961128234863281\n",
      "리스트의 크기 = 400000, in 시간 = 0.16057610511779785\n",
      "리스트의 크기 = 400000, bs_in 시간 = 0.0\n",
      "리스트의 크기 = 800000, in 시간 = 0.323030948638916\n",
      "리스트의 크기 = 800000, bs_in 시간 = 0.000997304916381836\n",
      "리스트의 크기 = 1600000, in 시간 = 0.6787493228912354\n",
      "리스트의 크기 = 1600000, bs_in 시간 = 0.0\n"
     ]
    }
   ],
   "source": [
    "import time\n",
    "\n",
    "for x in [100000, 200000, 400000, 800000, 1600000]:\n",
    "    A = list(range(x))\n",
    "    start = time.time()\n",
    "    for _ in range(20): #처음부터 있는지 확인\n",
    "        x in A\n",
    "    end = time.time()\n",
    "    print(f\"리스트의 크기 = {x}, in 시간 = {end-start}\")\n",
    "    start = time.time()\n",
    "    for _ in range(20): #이진검색으로 있는지 확인\n",
    "        bs_in(A,x)\n",
    "    end = time.time()\n",
    "    print(f\"리스트의 크기 = {x}, bs_in 시간 = {end-start}\")"
   ]
  },
  {
   "cell_type": "code",
   "execution_count": 13,
   "id": "42628a78",
   "metadata": {},
   "outputs": [
    {
     "name": "stdout",
     "output_type": "stream",
     "text": [
      "리스트의 크기 = 100000, in 시간 = 0.060836076736450195\n",
      "리스트의 크기 = 100000, bs_in 시간 = 0.03191781044006348\n",
      "리스트의 크기 = 200000, in 시간 = 0.18052124977111816\n",
      "리스트의 크기 = 200000, bs_in 시간 = 0.07276368141174316\n",
      "리스트의 크기 = 400000, in 시간 = 0.6701734066009521\n",
      "리스트의 크기 = 400000, bs_in 시간 = 0.24320626258850098\n",
      "리스트의 크기 = 800000, in 시간 = 1.2604107856750488\n",
      "리스트의 크기 = 800000, bs_in 시간 = 0.4179270267486572\n",
      "리스트의 크기 = 1600000, in 시간 = 2.6942691802978516\n",
      "리스트의 크기 = 1600000, bs_in 시간 = 0.9283874034881592\n"
     ]
    }
   ],
   "source": [
    "import time\n",
    "import random\n",
    "\n",
    "for x in [100000, 200000, 400000, 800000, 1600000]:\n",
    "    A = list(range(x))\n",
    "    random.shuffle(A) #정렬되어 있지 않은 경우\n",
    "    start = time.time()\n",
    "    for _ in range(20): #처음부터 있는지 확인\n",
    "        x in A\n",
    "    end = time.time()\n",
    "    print(f\"리스트의 크기 = {x}, in 시간 = {end-start}\")\n",
    "    start = time.time()\n",
    "    A.sort() #정렬을 하고 사용해야 한다\n",
    "    for _ in range(20): #이진검색으로 있는지 확인\n",
    "        bs_in(A,x)\n",
    "    end = time.time()\n",
    "    print(f\"리스트의 크기 = {x}, bs_in 시간 = {end-start}\")"
   ]
  },
  {
   "cell_type": "code",
   "execution_count": null,
   "id": "28d77dbe",
   "metadata": {},
   "outputs": [],
   "source": []
  }
 ],
 "metadata": {
  "kernelspec": {
   "display_name": "Python 3 (ipykernel)",
   "language": "python",
   "name": "python3"
  },
  "language_info": {
   "codemirror_mode": {
    "name": "ipython",
    "version": 3
   },
   "file_extension": ".py",
   "mimetype": "text/x-python",
   "name": "python",
   "nbconvert_exporter": "python",
   "pygments_lexer": "ipython3",
   "version": "3.9.7"
  }
 },
 "nbformat": 4,
 "nbformat_minor": 5
}
