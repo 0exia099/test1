{
 "cells": [
  {
   "cell_type": "markdown",
   "id": "514c8c58",
   "metadata": {},
   "source": [
    "### for루프와 함께 사용할 수 있는 여러 종류의 객체가 있고 이들 객체는 이터러블 객체(iterable object)라고 한다.\n",
    "이들은 iterator를 포함하고 있다.  \n",
    "iter()이라는 메소드를 가짐  \n",
    "__next__()메소드를 구현한 것이 iterator이다"
   ]
  },
  {
   "cell_type": "code",
   "execution_count": 2,
   "id": "8baa4081",
   "metadata": {},
   "outputs": [],
   "source": [
    "I = iter([1,2,3]) #list.__iter__()메소드 호출"
   ]
  },
  {
   "cell_type": "code",
   "execution_count": 5,
   "id": "cd76add2",
   "metadata": {},
   "outputs": [
    {
     "data": {
      "text/plain": [
       "<list_iterator at 0x1b4d1774af0>"
      ]
     },
     "execution_count": 5,
     "metadata": {},
     "output_type": "execute_result"
    }
   ],
   "source": [
    "I"
   ]
  },
  {
   "cell_type": "code",
   "execution_count": 6,
   "id": "8e6f3e0e",
   "metadata": {},
   "outputs": [
    {
     "data": {
      "text/plain": [
       "<list_iterator at 0x1b4d1774af0>"
      ]
     },
     "execution_count": 6,
     "metadata": {},
     "output_type": "execute_result"
    }
   ],
   "source": [
    "iter(I) #iterator의 iterator는 자기 자신이다."
   ]
  },
  {
   "cell_type": "code",
   "execution_count": 7,
   "id": "29e77aab",
   "metadata": {},
   "outputs": [
    {
     "data": {
      "text/plain": [
       "1"
      ]
     },
     "execution_count": 7,
     "metadata": {},
     "output_type": "execute_result"
    }
   ],
   "source": [
    "next(I) #iterator.__next__()메소드 호출"
   ]
  },
  {
   "cell_type": "code",
   "execution_count": 8,
   "id": "726b54ff",
   "metadata": {},
   "outputs": [
    {
     "data": {
      "text/plain": [
       "2"
      ]
     },
     "execution_count": 8,
     "metadata": {},
     "output_type": "execute_result"
    }
   ],
   "source": [
    "next(I)"
   ]
  },
  {
   "cell_type": "code",
   "execution_count": 9,
   "id": "875ab689",
   "metadata": {},
   "outputs": [
    {
     "data": {
      "text/plain": [
       "3"
      ]
     },
     "execution_count": 9,
     "metadata": {},
     "output_type": "execute_result"
    }
   ],
   "source": [
    "next(I)"
   ]
  },
  {
   "cell_type": "code",
   "execution_count": 10,
   "id": "e6cce8f7",
   "metadata": {},
   "outputs": [
    {
     "ename": "StopIteration",
     "evalue": "",
     "output_type": "error",
     "traceback": [
      "\u001b[1;31m---------------------------------------------------------------------------\u001b[0m",
      "\u001b[1;31mStopIteration\u001b[0m                             Traceback (most recent call last)",
      "\u001b[1;32m~\\AppData\\Local\\Temp/ipykernel_65288/1643842136.py\u001b[0m in \u001b[0;36m<module>\u001b[1;34m\u001b[0m\n\u001b[1;32m----> 1\u001b[1;33m \u001b[0mnext\u001b[0m\u001b[1;33m(\u001b[0m\u001b[0mI\u001b[0m\u001b[1;33m)\u001b[0m\u001b[1;33m\u001b[0m\u001b[1;33m\u001b[0m\u001b[0m\n\u001b[0m",
      "\u001b[1;31mStopIteration\u001b[0m: "
     ]
    }
   ],
   "source": [
    "next(I)"
   ]
  },
  {
   "cell_type": "markdown",
   "id": "29225677",
   "metadata": {},
   "source": [
    "### Iterable객체가 Iterator 객체가 되려면\n",
    "iter()가 객체 자신을 반환하고 next()는 다음 반복을 위한 값을 반환한다. 더 이상 값이 없다면 StopIteration예외를 발생"
   ]
  },
  {
   "cell_type": "code",
   "execution_count": 13,
   "id": "2d5ee678",
   "metadata": {},
   "outputs": [],
   "source": [
    "class MyCounter(object):\n",
    "    def __init__(self, low, high):\n",
    "        self.current = low\n",
    "        self.high = high\n",
    "        \n",
    "    def __iter__(self):\n",
    "        return self #스스로 iterator가 된다는 선언\n",
    "    \n",
    "    def __next__(self): #next()정의\n",
    "        if self.current > self.high: #current가 high보다 크면 StopIteration예외\n",
    "            raise StopIteration\n",
    "        else: #작으면 다음값 반환\n",
    "            self.current += 1\n",
    "            return self.current - 1"
   ]
  },
  {
   "cell_type": "code",
   "execution_count": 15,
   "id": "4335ea2b",
   "metadata": {},
   "outputs": [
    {
     "name": "stdout",
     "output_type": "stream",
     "text": [
      "1 2 3 4 5 6 7 8 9 10 "
     ]
    }
   ],
   "source": [
    "c = MyCounter(1,10)\n",
    "for i in c:\n",
    "    print(i, end = ' ')"
   ]
  },
  {
   "cell_type": "code",
   "execution_count": 16,
   "id": "184fbc95",
   "metadata": {},
   "outputs": [],
   "source": [
    "class MyList(list):\n",
    "    class Iterator:\n",
    "        def __init__(self, arr):\n",
    "            self.__pos = 0\n",
    "            self.arr =arr[:]\n",
    "            \n",
    "        def __iter__(self):\n",
    "            return self\n",
    "        \n",
    "        def __next__(self):\n",
    "            if self.__pos >= len(self.arr):\n",
    "                raise StopIteration('..')\n",
    "            obj = self.arr[self.__pos]\n",
    "            self.__pos += 1\n",
    "            return obj\n",
    "        \n",
    "    def __iter__(self):\n",
    "        return self.Iterator(self) #별도의 iterator반환"
   ]
  },
  {
   "cell_type": "code",
   "execution_count": 19,
   "id": "0eb0ddea",
   "metadata": {},
   "outputs": [
    {
     "name": "stdout",
     "output_type": "stream",
     "text": [
      "[1, 2, 3]\n",
      "<__main__.MyList.Iterator object at 0x000001B4D17907F0>\n",
      "1 2 3\n",
      "1 2 3 "
     ]
    }
   ],
   "source": [
    "m = MyList([1,2,3])\n",
    "print(m)\n",
    "i = iter(m)\n",
    "print(i)\n",
    "print(next(i), next(i), next(i))\n",
    "#print(next(i)) #한번 더하면 StopIteration\n",
    "for k in m:\n",
    "    print(k, end = \" \")"
   ]
  },
  {
   "cell_type": "markdown",
   "id": "d41eda4e",
   "metadata": {},
   "source": [
    "### 피보나치 이터레이터"
   ]
  },
  {
   "cell_type": "code",
   "execution_count": 25,
   "id": "14210222",
   "metadata": {},
   "outputs": [],
   "source": [
    "class FibIterator:\n",
    "    def __init__(self, a=1, b=0, maxValue = 50):\n",
    "        self.a = a\n",
    "        self.b = b\n",
    "        self.maxValue = maxValue\n",
    "        \n",
    "    def __iter__(self):\n",
    "        return self\n",
    "    \n",
    "    def __next__(self):\n",
    "        n = self.a + self.b\n",
    "        if n > self.maxValue:\n",
    "            raise StopIteration()\n",
    "        self.a = self.b\n",
    "        self.b = n\n",
    "        return n"
   ]
  },
  {
   "cell_type": "code",
   "execution_count": 26,
   "id": "b1de0441",
   "metadata": {},
   "outputs": [
    {
     "name": "stdout",
     "output_type": "stream",
     "text": [
      "1 1 2 3 5 8 13 21 34 "
     ]
    }
   ],
   "source": [
    "for i in FibIterator():\n",
    "    print(i, end = \" \")"
   ]
  },
  {
   "cell_type": "markdown",
   "id": "79d1ece3",
   "metadata": {},
   "source": [
    "### 제너레이터(Generator)\n",
    "제너레이터는 yield를 사용하여 함수로부터 이터레이터를 생성하는 방법.  \n",
    "중단된 시점부터 재실행이 가능한 함수. yield문은 return문과 비슷하나 실행 상태를 보존한 상태로 복귀한다."
   ]
  },
  {
   "cell_type": "code",
   "execution_count": 27,
   "id": "98ad928a",
   "metadata": {},
   "outputs": [],
   "source": [
    "def gen_sample():\n",
    "    print('1st step')\n",
    "    yield 1\n",
    "    print('2nd step')\n",
    "    yield 2\n",
    "    print('3rd step')\n",
    "    yield 3"
   ]
  },
  {
   "cell_type": "code",
   "execution_count": 28,
   "id": "bf6c26f4",
   "metadata": {},
   "outputs": [],
   "source": [
    "g = gen_sample()"
   ]
  },
  {
   "cell_type": "code",
   "execution_count": 29,
   "id": "d9caf590",
   "metadata": {},
   "outputs": [
    {
     "name": "stdout",
     "output_type": "stream",
     "text": [
      "<generator object gen_sample at 0x000001B4D1896510>\n",
      "1st step\n",
      "2nd step\n",
      "3rd step\n",
      "1 2 3\n"
     ]
    }
   ],
   "source": [
    "print(g)\n",
    "a1 = next(g)\n",
    "a2 = next(g)\n",
    "a3 = next(g)\n",
    "print(a1, a2, a3)"
   ]
  },
  {
   "cell_type": "markdown",
   "id": "a37617c9",
   "metadata": {},
   "source": [
    "### 피보나치 제너레이터"
   ]
  },
  {
   "cell_type": "code",
   "execution_count": 30,
   "id": "3e8c9cff",
   "metadata": {},
   "outputs": [],
   "source": [
    "def fibo(n):\n",
    "    a = b = 1\n",
    "    for i in range(n):\n",
    "        yield a\n",
    "        a, b = b, a+b"
   ]
  },
  {
   "cell_type": "code",
   "execution_count": 31,
   "id": "8ec7dd08",
   "metadata": {},
   "outputs": [
    {
     "name": "stdout",
     "output_type": "stream",
     "text": [
      "1 1 2 3 5 8 13 21 34 55 "
     ]
    }
   ],
   "source": [
    "for n in fibo(10):\n",
    "    print(n, end = \" \")"
   ]
  },
  {
   "cell_type": "markdown",
   "id": "aadd619a",
   "metadata": {},
   "source": [
    "함수가 호출될 때마다 하나씩 결과를 만들어 반환한다.  \n",
    "모든 계산을 수행하여 메모리에 저장하고 반환하는 return문과 비교 시 메모리 낭비를 줄이고 시간도 단축된다"
   ]
  },
  {
   "cell_type": "code",
   "execution_count": 32,
   "id": "dd89b413",
   "metadata": {},
   "outputs": [],
   "source": [
    "def myCounter(start, step): #start부터 step을 계속 더하는 카운터. 상한이 없다.\n",
    "    x = start\n",
    "    while True:\n",
    "        yield x\n",
    "        x += step"
   ]
  },
  {
   "cell_type": "code",
   "execution_count": 33,
   "id": "6302b6d5",
   "metadata": {},
   "outputs": [
    {
     "name": "stdout",
     "output_type": "stream",
     "text": [
      "1 4 7 10 13 16 19 22 25 28 31 34 37 40 43 46 49 52 "
     ]
    }
   ],
   "source": [
    "for n in myCounter(1, 3):\n",
    "    print(n, end = \" \")\n",
    "    if n > 50: #사용할때 상한을 지정\n",
    "        break"
   ]
  },
  {
   "cell_type": "code",
   "execution_count": null,
   "id": "2e97cd3d",
   "metadata": {},
   "outputs": [],
   "source": []
  }
 ],
 "metadata": {
  "kernelspec": {
   "display_name": "Python 3 (ipykernel)",
   "language": "python",
   "name": "python3"
  },
  "language_info": {
   "codemirror_mode": {
    "name": "ipython",
    "version": 3
   },
   "file_extension": ".py",
   "mimetype": "text/x-python",
   "name": "python",
   "nbconvert_exporter": "python",
   "pygments_lexer": "ipython3",
   "version": "3.9.7"
  }
 },
 "nbformat": 4,
 "nbformat_minor": 5
}
