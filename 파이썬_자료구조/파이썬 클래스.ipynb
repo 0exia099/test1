{
 "cells": [
  {
   "cell_type": "code",
   "execution_count": 14,
   "id": "edb97ba8",
   "metadata": {},
   "outputs": [],
   "source": [
    "import math\n",
    "\n",
    "class Circle:\n",
    "    def __init__(self, radius = 0):\n",
    "        self.radius = radius\n",
    "        \n",
    "    def getArea(self):\n",
    "        return math.pi*self.radius**2\n",
    "    \n",
    "    def getPerimeter(self):\n",
    "        return 2*math.pi*self.radius"
   ]
  },
  {
   "cell_type": "code",
   "execution_count": 15,
   "id": "82718177",
   "metadata": {},
   "outputs": [
    {
     "name": "stdout",
     "output_type": "stream",
     "text": [
      "원의 면적 314.1592653589793\n",
      "원의 둘레 62.83185307179586\n"
     ]
    }
   ],
   "source": [
    "c = Circle(10)\n",
    "print(\"원의 면적\", c.getArea())\n",
    "print(\"원의 둘레\", c.getPerimeter())"
   ]
  },
  {
   "cell_type": "code",
   "execution_count": 18,
   "id": "c0da4254",
   "metadata": {},
   "outputs": [
    {
     "name": "stdout",
     "output_type": "stream",
     "text": [
      "자동차 객체를 생성하였습니다.\n",
      "자동차의 속도는 0\n",
      "자동차의 색상은 blue\n",
      "자동차의 모델은 E-class\n",
      "자동차의 속도는 60\n"
     ]
    }
   ],
   "source": [
    "class Car:\n",
    "    def __init__(self, speed, color, model):\n",
    "        self.speed = speed\n",
    "        self.color = color\n",
    "        self.model = model\n",
    "        \n",
    "    def drive(self):\n",
    "        self.speed = 60\n",
    "        \n",
    "myCar = Car(0,\"blue\", \"E-class\")\n",
    "\n",
    "print(\"자동차 객체를 생성하였습니다.\")\n",
    "print(\"자동차의 속도는\", myCar.speed)\n",
    "print(\"자동차의 색상은\", myCar.color)\n",
    "print(\"자동차의 모델은\", myCar.model)\n",
    "\n",
    "myCar.drive()\n",
    "print(\"자동차의 속도는\", myCar.speed)"
   ]
  },
  {
   "cell_type": "code",
   "execution_count": 24,
   "id": "161d106c",
   "metadata": {},
   "outputs": [
    {
     "name": "stdout",
     "output_type": "stream",
     "text": [
      "0\n",
      "0\n",
      "name\n"
     ]
    }
   ],
   "source": [
    "class Student:\n",
    "    def __init__(self, name = None, age = 0):\n",
    "        self.__name = name #__가 변수앞에 붙으면 private\n",
    "        self.__age = age\n",
    "        \n",
    "    def getAge(self):\n",
    "        return self.__age\n",
    "    \n",
    "    def getName(self):\n",
    "        return self.__name\n",
    "    \n",
    "    def setAge(self, age):\n",
    "        self.__age = age\n",
    "        \n",
    "    def setName(self, name):\n",
    "        self.__name = name\n",
    "        \n",
    "obj = Student()\n",
    "#print(obj.__age)하면 안됨\n",
    "print(obj._Student__age) #_클래스 이름 붙이면 참조 가능\n",
    "print(obj.getAge())\n",
    "obj.setName('name')\n",
    "print(obj.getName())"
   ]
  },
  {
   "cell_type": "code",
   "execution_count": 31,
   "id": "aee347c7",
   "metadata": {},
   "outputs": [
    {
     "name": "stdout",
     "output_type": "stream",
     "text": [
      "통장에서  100 가 입금되었음\n",
      "통장에  10 가 출금되었음\n"
     ]
    },
    {
     "data": {
      "text/plain": [
       "90"
      ]
     },
     "execution_count": 31,
     "metadata": {},
     "output_type": "execute_result"
    }
   ],
   "source": [
    "class BankAccount:\n",
    "    def __init__(self):\n",
    "        self.__balance = 0\n",
    "        \n",
    "    def withdraw(self, amount):\n",
    "        if self.__balance > amount:\n",
    "            self.__balance -= amount\n",
    "            print(\"통장에 \", amount,\"가 출금되었음\")\n",
    "        else:\n",
    "            print(\"잔액이 부족함\")\n",
    "        return self.__balance\n",
    "    \n",
    "    def deposit(self, amount):\n",
    "        self.__balance += amount\n",
    "        print(\"통장에서 \", amount, \"가 입금되었음\")\n",
    "        return self.__balance\n",
    "        \n",
    "a = BankAccount()\n",
    "a.deposit(100)\n",
    "a.withdraw(10)"
   ]
  },
  {
   "cell_type": "code",
   "execution_count": null,
   "id": "e4625cdf",
   "metadata": {},
   "outputs": [],
   "source": []
  }
 ],
 "metadata": {
  "kernelspec": {
   "display_name": "Python 3 (ipykernel)",
   "language": "python",
   "name": "python3"
  },
  "language_info": {
   "codemirror_mode": {
    "name": "ipython",
    "version": 3
   },
   "file_extension": ".py",
   "mimetype": "text/x-python",
   "name": "python",
   "nbconvert_exporter": "python",
   "pygments_lexer": "ipython3",
   "version": "3.9.7"
  }
 },
 "nbformat": 4,
 "nbformat_minor": 5
}
