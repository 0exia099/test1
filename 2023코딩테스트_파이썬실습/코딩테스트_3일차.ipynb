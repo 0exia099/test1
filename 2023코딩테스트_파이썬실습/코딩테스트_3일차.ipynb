{
  "nbformat": 4,
  "nbformat_minor": 0,
  "metadata": {
    "colab": {
      "provenance": []
    },
    "kernelspec": {
      "name": "python3",
      "display_name": "Python 3"
    },
    "language_info": {
      "name": "python"
    }
  },
  "cells": [
    {
      "cell_type": "markdown",
      "source": [
        "# 내장함수"
      ],
      "metadata": {
        "id": "JQpHoAvzbIKi"
      }
    },
    {
      "cell_type": "markdown",
      "source": [
        "## # find(), count(), upper(), lower(), len()"
      ],
      "metadata": {
        "id": "aUqaQ5UsbTjy"
      }
    },
    {
      "cell_type": "code",
      "execution_count": null,
      "metadata": {
        "colab": {
          "base_uri": "https://localhost:8080/"
        },
        "id": "9_y0R0LOa6UU",
        "outputId": "d6897338-aaea-4149-ee49-655f5109e969"
      },
      "outputs": [
        {
          "output_type": "stream",
          "name": "stdout",
          "text": [
            "7\n",
            "2\n",
            "CODING TEST!!\n",
            "coding test!!\n",
            "13\n"
          ]
        }
      ],
      "source": [
        "str1 = 'Coding Test!!'\n",
        "\n",
        "print(str1.find('T')) # 특정 문자의 인덱스를 찾아줌\n",
        "print(str1.count('!'))  # 특정 문자의 반복횟수 찾아줌\n",
        "print(str1.upper()) # \n",
        "print(str1.lower())\n",
        "print(len(str1))"
      ]
    },
    {
      "cell_type": "code",
      "source": [
        "# str1 문자를 나누어서 출력\n",
        "for i in range(len(str1)):\n",
        "  print(str1[i])"
      ],
      "metadata": {
        "colab": {
          "base_uri": "https://localhost:8080/"
        },
        "id": "qI01RheHbfGL",
        "outputId": "f6edacd8-2579-48fc-ddac-9f285c0f135f"
      },
      "execution_count": null,
      "outputs": [
        {
          "output_type": "stream",
          "name": "stdout",
          "text": [
            "C\n",
            "o\n",
            "d\n",
            "i\n",
            "n\n",
            "g\n",
            " \n",
            "T\n",
            "e\n",
            "s\n",
            "t\n",
            "!\n",
            "!\n"
          ]
        }
      ]
    },
    {
      "cell_type": "code",
      "source": [
        "# str1 문자를 한자 출력하고 빈칸 형식으로 나오도록\n",
        "for i in range(len(str1)):\n",
        "  print(str1[i], end=' ')\n",
        "print()\n",
        "for i in str1:\n",
        "  print(i, end=' ')"
      ],
      "metadata": {
        "colab": {
          "base_uri": "https://localhost:8080/"
        },
        "id": "2sRHSb7qcaId",
        "outputId": "915f94f6-f3d3-402c-a17e-9719cf16a6fd"
      },
      "execution_count": null,
      "outputs": [
        {
          "output_type": "stream",
          "name": "stdout",
          "text": [
            "C o d i n g   T e s t ! ! \n",
            "C o d i n g   T e s t ! ! "
          ]
        }
      ]
    },
    {
      "cell_type": "markdown",
      "source": [
        "## isupper(), islower(), isalpha(), ord(), chr()"
      ],
      "metadata": {
        "id": "g4fs38qIc9cw"
      }
    },
    {
      "cell_type": "code",
      "source": [
        "# str1에서 대문자만 출력\n",
        "for i in str1:\n",
        "  if i.isupper():\n",
        "    print(i, end=' ')\n",
        "print()"
      ],
      "metadata": {
        "colab": {
          "base_uri": "https://localhost:8080/"
        },
        "id": "Mq52HP39cj8s",
        "outputId": "aa18e062-f26a-479d-e222-8e95de1abc51"
      },
      "execution_count": null,
      "outputs": [
        {
          "output_type": "stream",
          "name": "stdout",
          "text": [
            "C T \n"
          ]
        }
      ]
    },
    {
      "cell_type": "code",
      "source": [
        "# str1에서 소문자만 출력\n",
        "for i in str1:\n",
        "  if i.islower():\n",
        "    print(i, end=' ')\n",
        "print()"
      ],
      "metadata": {
        "colab": {
          "base_uri": "https://localhost:8080/"
        },
        "id": "VAUTkJe7dJpW",
        "outputId": "4c45317a-2d69-42f0-8679-5472cf53a77c"
      },
      "execution_count": null,
      "outputs": [
        {
          "output_type": "stream",
          "name": "stdout",
          "text": [
            "o d i n g e s t \n"
          ]
        }
      ]
    },
    {
      "cell_type": "code",
      "source": [
        "# str1에서 알파벳만 출력\n",
        "for i in str1:\n",
        "  if i.isalpha():\n",
        "    print(i, end=' ')\n",
        "print()"
      ],
      "metadata": {
        "colab": {
          "base_uri": "https://localhost:8080/"
        },
        "id": "QF5pK2U-dOFS",
        "outputId": "8519a5ce-241e-4cc2-be62-68158fe39ee4"
      },
      "execution_count": null,
      "outputs": [
        {
          "output_type": "stream",
          "name": "stdout",
          "text": [
            "C o d i n g T e s t \n"
          ]
        }
      ]
    },
    {
      "cell_type": "code",
      "source": [
        "# ord(), chr()\n",
        "# ASCII number출력하라\n",
        "# A~Z (65~90), a~z (97~122)\n",
        "\n",
        "str2 = 'AZ'\n",
        "for i in str2:\n",
        "  print(f'{i}의 ASCII={ord(i)}')\n",
        "\n",
        "str3 = 'az'\n",
        "for i in str3:\n",
        "  print(f'{i}의 ASCII={ord(i)}')\n",
        "\n",
        "str4 = [66,77,99]\n",
        "for i in str4:\n",
        "  print(f'ASCII number {i}의 문자={chr(i)}')"
      ],
      "metadata": {
        "colab": {
          "base_uri": "https://localhost:8080/"
        },
        "id": "wMOxayl5dvv3",
        "outputId": "2f730ca4-5533-4c15-b7dd-06baf4b268a9"
      },
      "execution_count": null,
      "outputs": [
        {
          "output_type": "stream",
          "name": "stdout",
          "text": [
            "A의 ASCII=65\n",
            "Z의 ASCII=90\n",
            "a의 ASCII=97\n",
            "z의 ASCII=122\n",
            "ASCII number 66의 문자=B\n",
            "ASCII number 77의 문자=M\n",
            "ASCII number 99의 문자=c\n"
          ]
        }
      ]
    },
    {
      "cell_type": "markdown",
      "source": [
        "## shuffle(), range(), sum(), max(), min()"
      ],
      "metadata": {
        "id": "lzu_hDuMete_"
      }
    },
    {
      "cell_type": "code",
      "source": [
        "import random as r"
      ],
      "metadata": {
        "id": "ZwuYWTV2eFcY"
      },
      "execution_count": null,
      "outputs": []
    },
    {
      "cell_type": "code",
      "source": [
        "a = list(range(1,11))\n",
        "print(a)\n",
        "r.shuffle(a)  # 게임에서 활용. 할때마다 값이 달라진다.\n",
        "print(a)\n",
        "a.sort(reverse=True)  # 리스트 정렬 내림차순\n",
        "print(a)\n",
        "a.sort()  # 리스트 정렬 오름차순\n",
        "print(a)\n",
        "a.clear() # 리스트 삭제 -> 빈 리스트\n",
        "print(a)"
      ],
      "metadata": {
        "colab": {
          "base_uri": "https://localhost:8080/"
        },
        "id": "pTuqrZa1e2O3",
        "outputId": "a1b6fec7-0951-49c1-a85d-312ebd9e6a44"
      },
      "execution_count": null,
      "outputs": [
        {
          "output_type": "stream",
          "name": "stdout",
          "text": [
            "[1, 2, 3, 4, 5, 6, 7, 8, 9, 10]\n",
            "[2, 7, 3, 4, 5, 8, 9, 1, 10, 6]\n",
            "[10, 9, 8, 7, 6, 5, 4, 3, 2, 1]\n",
            "[1, 2, 3, 4, 5, 6, 7, 8, 9, 10]\n",
            "[]\n"
          ]
        }
      ]
    },
    {
      "cell_type": "code",
      "source": [
        "# sum(), max(), min()\n",
        "a = list(range(1,11))\n",
        "print(a)\n",
        "print(sum(a))\n",
        "print(max(a))\n",
        "print(min(a))\n",
        "print(min(21,23,66))"
      ],
      "metadata": {
        "colab": {
          "base_uri": "https://localhost:8080/"
        },
        "id": "Tzq1RBNTfks3",
        "outputId": "ea9eea84-2b4c-4d8c-c479-fed7d3fca9e2"
      },
      "execution_count": null,
      "outputs": [
        {
          "output_type": "stream",
          "name": "stdout",
          "text": [
            "[1, 2, 3, 4, 5, 6, 7, 8, 9, 10]\n",
            "55\n",
            "10\n",
            "1\n",
            "21\n"
          ]
        }
      ]
    },
    {
      "cell_type": "markdown",
      "source": [
        "## all(), any()"
      ],
      "metadata": {
        "id": "JE8Ct9TTgbdN"
      }
    },
    {
      "cell_type": "code",
      "source": [
        "# 모두 조건 만족할 때 참\n",
        "a = [1,4,60,80]\n",
        "\n",
        "if all(60>i for i in a):  # 모두 작으면 참\n",
        "  print('참')\n",
        "else:\n",
        "  print('거짓')\n",
        "\n",
        "# 한번이라도 조건 만족하면 참\n",
        "if any(60>i for i in a):  # 하나라도 작으면 참\n",
        "  print('참')\n",
        "else:\n",
        "  print('거짓')"
      ],
      "metadata": {
        "colab": {
          "base_uri": "https://localhost:8080/"
        },
        "id": "2zx_WeArgAk2",
        "outputId": "5c29a1a2-1a97-46cc-b70f-df1237f332d2"
      },
      "execution_count": null,
      "outputs": [
        {
          "output_type": "stream",
          "name": "stdout",
          "text": [
            "거짓\n",
            "참\n"
          ]
        }
      ]
    },
    {
      "cell_type": "markdown",
      "source": [
        "# level 1 문제풀이"
      ],
      "metadata": {
        "id": "EPfxIDxqonvW"
      }
    },
    {
      "cell_type": "markdown",
      "source": [
        "## 음양 더하기"
      ],
      "metadata": {
        "id": "IxfZITTgoqiZ"
      }
    },
    {
      "cell_type": "code",
      "source": [
        "# 음양 더하기\n",
        "# sings = [true, false, true]\n",
        "\n",
        "absolutes = [4,7,12]\n",
        "signs = [True, False, True]\n",
        "result = 0\n",
        "for i in range(len(absolutes)):\n",
        "  if signs[i]:\n",
        "    result += absolutes[i]\n",
        "  else:\n",
        "    result -= absolutes[i]\n",
        "print(result)"
      ],
      "metadata": {
        "colab": {
          "base_uri": "https://localhost:8080/"
        },
        "id": "pv5ikB93gozu",
        "outputId": "11c73c0d-a071-40ef-dc99-2c93ea7cc520"
      },
      "execution_count": null,
      "outputs": [
        {
          "output_type": "stream",
          "name": "stdout",
          "text": [
            "9\n"
          ]
        }
      ]
    },
    {
      "cell_type": "code",
      "source": [
        "def solution(absolutes, signs):\n",
        "  answer = 0\n",
        "  for i in range(len(absolutes)):\n",
        "      if signs[i]:\n",
        "        answer += absolutes[i]\n",
        "      else:\n",
        "        answer -= absolutes[i]\n",
        "  return answer\n",
        "\n",
        "print(solution([4,7,12],[True, False, True]))\n",
        "print(solution([1,2,3],[False, False, True]))"
      ],
      "metadata": {
        "colab": {
          "base_uri": "https://localhost:8080/"
        },
        "id": "1yOp_c7WpJu-",
        "outputId": "6d0d03fd-d3c6-4237-a232-0da6913093c0"
      },
      "execution_count": null,
      "outputs": [
        {
          "output_type": "stream",
          "name": "stdout",
          "text": [
            "9\n",
            "0\n"
          ]
        }
      ]
    },
    {
      "cell_type": "code",
      "source": [
        "def solution(absolutes, signs):\n",
        "  return sum(absolutes if sign else -absolutes for absolutes, sign in zip(absolutes, signs))\n",
        "\n",
        "print(solution([4,7,12],[True, False, True]))\n",
        "print(solution([1,2,3],[False, False, True]))"
      ],
      "metadata": {
        "colab": {
          "base_uri": "https://localhost:8080/"
        },
        "id": "QkAusCzLqqVX",
        "outputId": "a8aabd9c-608c-4943-95db-6d12bb4faf5f"
      },
      "execution_count": null,
      "outputs": [
        {
          "output_type": "stream",
          "name": "stdout",
          "text": [
            "9\n",
            "0\n"
          ]
        }
      ]
    },
    {
      "cell_type": "code",
      "source": [
        "# 없는 숫자 더하기(my)\n",
        "def solution(numbers):\n",
        "  answer = 45\n",
        "  for i in numbers:\n",
        "    answer -= i\n",
        "  return answer\n",
        "\n",
        "print(solution([1, 2, 3, 4, 6, 7, 8, 0]))\n",
        "print(solution([5,8,4,0,6,7,9]))\n",
        "\n",
        "def solution(numbers):\n",
        "  return 45 - sum(numbers)\n",
        "\n",
        "print(solution([1, 2, 3, 4, 6, 7, 8, 0]))\n",
        "print(solution([5,8,4,0,6,7,9]))\n",
        "\n",
        "# 더하기 쓰는 정답\n",
        "def solution(numbers):\n",
        "  answer = 0\n",
        "  for i in range(10):\n",
        "    if i not in numbers:\n",
        "      answer += i\n",
        "  return answer\n",
        "\n",
        "print(solution([1, 2, 3, 4, 6, 7, 8, 0]))\n",
        "print(solution([5,8,4,0,6,7,9]))"
      ],
      "metadata": {
        "colab": {
          "base_uri": "https://localhost:8080/"
        },
        "id": "CxjjGzfZrYQt",
        "outputId": "37729113-8882-4612-fda9-2e3c34623ecd"
      },
      "execution_count": null,
      "outputs": [
        {
          "output_type": "stream",
          "name": "stdout",
          "text": [
            "14\n",
            "6\n",
            "14\n",
            "6\n",
            "14\n",
            "6\n"
          ]
        }
      ]
    },
    {
      "cell_type": "code",
      "source": [
        "# k번째 수\n",
        "def solution(array, commands):\n",
        "  answer = []\n",
        "  for i in commands:\n",
        "    answer.append(sorted(array[i[0]-1:i[1]])[i[2]-1])\n",
        "  return answer\n",
        "\n",
        "print(solution([1, 5, 2, 6, 3, 7, 4], [[2, 5, 3], [4, 4, 1], [1, 7, 3]]))\n",
        "\n",
        "def solution(array, commands):\n",
        "  return [sorted(array[i[0]-1:i[1]])[i[2]-1] for i in commands]\n",
        "\n",
        "print(solution([1, 5, 2, 6, 3, 7, 4], [[2, 5, 3], [4, 4, 1], [1, 7, 3]]))\n",
        "\n",
        "def solution(array, commands):\n",
        "  return list(map(lambda x:sorted(array[x[0]-1:x[1]])[x[2]-1], commands))\n",
        "\n",
        "print(solution([1, 5, 2, 6, 3, 7, 4], [[2, 5, 3], [4, 4, 1], [1, 7, 3]]))"
      ],
      "metadata": {
        "colab": {
          "base_uri": "https://localhost:8080/"
        },
        "id": "rOLT5ickv68Y",
        "outputId": "b0fd3cb7-dbaa-44e5-e304-876b24596329"
      },
      "execution_count": null,
      "outputs": [
        {
          "output_type": "stream",
          "name": "stdout",
          "text": [
            "[5, 6, 3]\n",
            "[5, 6, 3]\n",
            "[5, 6, 3]\n"
          ]
        }
      ]
    },
    {
      "cell_type": "code",
      "source": [
        "# 팰린드롬\n",
        "def solution(word):\n",
        "  lst = list(word)\n",
        "  if lst == list(reversed(lst)):\n",
        "    return 1\n",
        "  else:\n",
        "    return 0\n",
        "\n",
        "solution(input())"
      ],
      "metadata": {
        "colab": {
          "base_uri": "https://localhost:8080/"
        },
        "id": "hVStzu-V0vXg",
        "outputId": "12f3a3cf-46eb-4026-8250-71edc1c927df"
      },
      "execution_count": null,
      "outputs": [
        {
          "name": "stdout",
          "output_type": "stream",
          "text": [
            "level\n"
          ]
        },
        {
          "output_type": "execute_result",
          "data": {
            "text/plain": [
              "1"
            ]
          },
          "metadata": {},
          "execution_count": 62
        }
      ]
    },
    {
      "cell_type": "code",
      "source": [
        "word = str(input())\n",
        "\n",
        "if word == word[::-1]:\n",
        "  print(1)\n",
        "else:\n",
        "  print(0)"
      ],
      "metadata": {
        "colab": {
          "base_uri": "https://localhost:8080/"
        },
        "id": "iA_fgoDmKM2b",
        "outputId": "fdd61427-6180-46ca-fa03-0521bd3fd514"
      },
      "execution_count": null,
      "outputs": [
        {
          "output_type": "stream",
          "name": "stdout",
          "text": [
            "test\n",
            "0\n"
          ]
        }
      ]
    },
    {
      "cell_type": "code",
      "source": [
        "word =list(str(input()))\n",
        "\n",
        "if list(reversed(word)) == word:\n",
        "    print(1)\n",
        "else:\n",
        "    print(0)"
      ],
      "metadata": {
        "colab": {
          "base_uri": "https://localhost:8080/"
        },
        "id": "NW453XVTNN0B",
        "outputId": "a0f422c6-4281-40a8-ef03-769c1a0b4848"
      },
      "execution_count": null,
      "outputs": [
        {
          "output_type": "stream",
          "name": "stdout",
          "text": [
            "level\n",
            "1\n"
          ]
        }
      ]
    },
    {
      "cell_type": "code",
      "source": [
        "# 문자열 뒤집기\n",
        "s = ['h','e','l','l','o']\n",
        "a = '가'\n",
        "b = '나'\n",
        "print(a, b)\n",
        "a, b = b, a\n",
        "print(a, b)"
      ],
      "metadata": {
        "colab": {
          "base_uri": "https://localhost:8080/"
        },
        "id": "gv06-FZQP3YJ",
        "outputId": "6addb238-2909-4166-c0f1-068a8bea807a"
      },
      "execution_count": null,
      "outputs": [
        {
          "output_type": "stream",
          "name": "stdout",
          "text": [
            "가 나\n",
            "나 가\n"
          ]
        }
      ]
    },
    {
      "cell_type": "code",
      "source": [
        "# while문 활용 뒤집기\n",
        "s = ['h','e','l','l','o']\n",
        "left = 0\n",
        "right = len(s) - 1\n",
        "print(left, right)\n",
        "print(s[left], s[right])\n",
        "\n",
        "while left < right:\n",
        "  s[left], s[right] = s[right], s[left]\n",
        "  left += 1\n",
        "  right -= 1\n",
        "\n",
        "print(s)"
      ],
      "metadata": {
        "colab": {
          "base_uri": "https://localhost:8080/"
        },
        "id": "6Wl_OuuGQ_qw",
        "outputId": "8bd271d6-e5a9-4519-b625-af85d28c0c6c"
      },
      "execution_count": null,
      "outputs": [
        {
          "output_type": "stream",
          "name": "stdout",
          "text": [
            "0 4\n",
            "h o\n",
            "['o', 'l', 'l', 'e', 'h']\n"
          ]
        }
      ]
    },
    {
      "cell_type": "code",
      "source": [
        "# 파이썬답게 \n",
        "\n",
        "s = ['h', 'e', 'l', 'ㅣ','o']\n",
        "print(s)\n",
        "s.reverse()\n",
        "print(s)\n",
        "\n",
        "s = ['h', 'e', 'l', 'ㅣ','o']\n",
        "print(s)\n",
        "s=s[::-1]\n",
        "print(s)"
      ],
      "metadata": {
        "colab": {
          "base_uri": "https://localhost:8080/"
        },
        "id": "4XvKYZi8RKC6",
        "outputId": "3bbfa8df-8f71-4b5d-bbde-1f6fd973b10d"
      },
      "execution_count": null,
      "outputs": [
        {
          "output_type": "stream",
          "name": "stdout",
          "text": [
            "['h', 'e', 'l', 'ㅣ', 'o']\n",
            "['o', 'ㅣ', 'l', 'e', 'h']\n",
            "['h', 'e', 'l', 'ㅣ', 'o']\n",
            "['o', 'ㅣ', 'l', 'e', 'h']\n"
          ]
        }
      ]
    },
    {
      "cell_type": "code",
      "source": [
        "# 클래스 사용\n",
        "# 변수초기값 선언\n",
        "s = ['h', 'e', 'l', 'ㅣ','o']\n",
        "\n",
        "# 클래스 선언 - 함수를 포함\n",
        "class Solution:\n",
        "    def reverseString(self, s) :\n",
        "        left, right = 0, len(s)-1\n",
        "        while left < right:\n",
        "            s[left], s[right] = s[right], s[left]\n",
        "            left += 1\n",
        "            right -= 1\n",
        "        print(s)\n",
        "\n",
        "# 객체 생성\n",
        "sol = Solution()\n",
        "sol.reverseString(s)"
      ],
      "metadata": {
        "colab": {
          "base_uri": "https://localhost:8080/"
        },
        "id": "aWRIAt2ZS-WY",
        "outputId": "13eb1a7d-07b3-4aca-8b62-60279a9f1017"
      },
      "execution_count": null,
      "outputs": [
        {
          "output_type": "stream",
          "name": "stdout",
          "text": [
            "['o', 'ㅣ', 'l', 'e', 'h']\n"
          ]
        }
      ]
    },
    {
      "cell_type": "code",
      "source": [
        "# 파이썬답게\n",
        "# 변수초기값 선언\n",
        "s = ['h', 'e', 'l', 'ㅣ','o']\n",
        "\n",
        "# 클래스 선언 - 함수를 포함\n",
        "class Solution:\n",
        "    def reverseString(self, s) :\n",
        "        s.reverse()\n",
        "        print(s)\n",
        "\n",
        "# 객체 생성\n",
        "sol = Solution()\n",
        "sol.reverseString(s)"
      ],
      "metadata": {
        "colab": {
          "base_uri": "https://localhost:8080/"
        },
        "id": "4-2tRc3sUSly",
        "outputId": "edad2371-b327-4d56-8e15-c52ae1c11152"
      },
      "execution_count": null,
      "outputs": [
        {
          "output_type": "stream",
          "name": "stdout",
          "text": [
            "['o', 'ㅣ', 'l', 'e', 'h']\n"
          ]
        }
      ]
    },
    {
      "cell_type": "code",
      "source": [
        "# 리스트 원소 갯수를 리스트로 받기\n",
        "data = [[1,1,1],\n",
        "        [2,3],\n",
        "        [1]]\n",
        "output = []\n",
        "\n",
        "for i in range(len(data)):\n",
        "  output.append(len(data[i]))\n",
        "\n",
        "print(output)"
      ],
      "metadata": {
        "colab": {
          "base_uri": "https://localhost:8080/"
        },
        "id": "nCwZsP_PVBuJ",
        "outputId": "f80ec91a-d9db-49aa-a2ae-0de5d4a9afc5"
      },
      "execution_count": null,
      "outputs": [
        {
          "output_type": "stream",
          "name": "stdout",
          "text": [
            "[3, 2, 1]\n"
          ]
        }
      ]
    },
    {
      "cell_type": "code",
      "source": [
        "# 파이썬 내장함수 활용 코드\n",
        "data = [[1,1,1],\n",
        "        [2,3],\n",
        "        [1]]\n",
        "output = list(map(len, data))\n",
        "\n",
        "print(output)\n",
        "\n",
        "# map(변환함수, 순회가능한 데이터형)\n",
        "# list(map(함수, 리스트))\n",
        "# tuple(map(함수, 튜플))"
      ],
      "metadata": {
        "colab": {
          "base_uri": "https://localhost:8080/"
        },
        "id": "sEIozjotaQ5x",
        "outputId": "ab9bdd83-c3fa-4598-c19d-0e94225b2bcf"
      },
      "execution_count": null,
      "outputs": [
        {
          "output_type": "stream",
          "name": "stdout",
          "text": [
            "[3, 2, 1]\n"
          ]
        }
      ]
    },
    {
      "cell_type": "code",
      "source": [
        "# 몫과 나머지\n",
        "a, b = map(int, input().strip().split(' ')) # 문자열 앞뒤 공백 제거\n",
        "print(f'{a//b} {a%b}')"
      ],
      "metadata": {
        "colab": {
          "base_uri": "https://localhost:8080/"
        },
        "id": "LYJnAPIxaT5V",
        "outputId": "c2feca02-28f9-4d52-88cf-bdea538c7445"
      },
      "execution_count": null,
      "outputs": [
        {
          "output_type": "stream",
          "name": "stdout",
          "text": [
            "17 5\n",
            "3 2\n"
          ]
        }
      ]
    },
    {
      "cell_type": "code",
      "source": [
        "# 파이썬답게\n",
        "a, b = map(int, input().strip().split(' ')) # 문자열 앞뒤 공백 제거\n",
        "print(*divmod(a,b))"
      ],
      "metadata": {
        "colab": {
          "base_uri": "https://localhost:8080/"
        },
        "id": "QI599hMTbYT4",
        "outputId": "766717e3-56f0-4e5e-e91c-d7cb9c4bc7fc"
      },
      "execution_count": null,
      "outputs": [
        {
          "output_type": "stream",
          "name": "stdout",
          "text": [
            "17 5\n",
            "3 2\n"
          ]
        }
      ]
    },
    {
      "cell_type": "code",
      "source": [
        "## 문자열 처리\n",
        "string = '        코딩테스트     '\n",
        "print(string.rstrip(), 0)\n",
        "print(string.lstrip(), 0)\n",
        "print(string.strip(), 0)\n",
        "\n",
        "string2 = '----코딩테스트------'\n",
        "print(string2.rstrip('-'))\n",
        "print(string2.lstrip('-'))\n",
        "print(string2.strip('-'))"
      ],
      "metadata": {
        "colab": {
          "base_uri": "https://localhost:8080/"
        },
        "id": "y0Xh3J_LdHQk",
        "outputId": "4d2d416a-041e-4904-8804-b81831cd4a20"
      },
      "execution_count": null,
      "outputs": [
        {
          "output_type": "stream",
          "name": "stdout",
          "text": [
            "        코딩테스트 0\n",
            "코딩테스트      0\n",
            "코딩테스트 0\n",
            "----코딩테스트\n",
            "코딩테스트------\n",
            "코딩테스트\n"
          ]
        }
      ]
    },
    {
      "cell_type": "code",
      "source": [
        "# 진법 변환\n",
        "# n진법으로 표기된 string을 10진법으로 변환하기\n",
        "# int(x, base = 10)\n",
        "\n",
        "num, base = map(int, input().strip().split(' '))\n",
        "print(int(str(num), base))  # num이 base진법일때 10진법으로"
      ],
      "metadata": {
        "colab": {
          "base_uri": "https://localhost:8080/"
        },
        "id": "1I0y2TY0djwz",
        "outputId": "61bf4703-6c91-4a07-8fca-a9911a26c4e3"
      },
      "execution_count": null,
      "outputs": [
        {
          "output_type": "stream",
          "name": "stdout",
          "text": [
            "101 2\n",
            "5\n"
          ]
        }
      ]
    },
    {
      "cell_type": "code",
      "source": [
        "# 10진수 -> 2진수, 8진수, 16진수\n",
        "# bin(), oct(), hex()\n",
        "num = int(input())\n",
        "print(bin(num))\n",
        "print(oct(num))\n",
        "print(hex(num))"
      ],
      "metadata": {
        "colab": {
          "base_uri": "https://localhost:8080/"
        },
        "id": "UeE6t7zUekE7",
        "outputId": "eed440aa-c001-4398-b188-d78f863e0ee9"
      },
      "execution_count": null,
      "outputs": [
        {
          "output_type": "stream",
          "name": "stdout",
          "text": [
            "15\n",
            "0b1111\n",
            "0o17\n",
            "0xf\n"
          ]
        }
      ]
    },
    {
      "cell_type": "code",
      "source": [
        "# 10진수 -> n진수\n",
        "num, base = map(int, input().strip().split(' '))\n",
        "n_base=''\n",
        "while num > 0:\n",
        "  num, mod = divmod(num, base)\n",
        "  n_base += str(mod)\n",
        "\n",
        "print(n_base[::-1])"
      ],
      "metadata": {
        "colab": {
          "base_uri": "https://localhost:8080/"
        },
        "id": "wl6NvwwIgNSG",
        "outputId": "2e834597-314d-4f9d-d2d8-a5f3d1cb89be"
      },
      "execution_count": null,
      "outputs": [
        {
          "output_type": "stream",
          "name": "stdout",
          "text": [
            "16 2\n",
            "10000\n"
          ]
        }
      ]
    },
    {
      "cell_type": "code",
      "source": [
        "# 문자열 정렬하기\n",
        "s, n = input().strip().split(' ')\n",
        "n = int(n)\n",
        "print(s.ljust(n))\n",
        "print(s.center(n))\n",
        "print(s.rjust(n))"
      ],
      "metadata": {
        "colab": {
          "base_uri": "https://localhost:8080/"
        },
        "id": "vsCnhrTjhVOq",
        "outputId": "8e315e22-f156-4f78-dcd5-f69cd6e0330c"
      },
      "execution_count": null,
      "outputs": [
        {
          "output_type": "stream",
          "name": "stdout",
          "text": [
            "abc 7\n",
            "abc    \n",
            "  abc  \n",
            "    abc\n"
          ]
        }
      ]
    },
    {
      "cell_type": "code",
      "source": [
        "# 2차원 리스트 뒤집기\n",
        "# 패킹과 언패킹\n",
        "a = [[1,2,3],\n",
        "     [4,5,6],\n",
        "     [7,8,9]]\n",
        "print(a)\n",
        "print(*a)\n",
        "\n",
        "# zip(*iterable) : 동일한 개수로 이루어진 자료형을 묶어줌\n",
        "name = ['영희', '철수', '길동']\n",
        "subject = ['코딩테스트', '토익', '한국사']\n",
        "\n",
        "print(list(zip(name, subject)))\n",
        "\n",
        "# 전치행렬(행과 열을 뒤집는것)\n",
        "a = [[1,2,3],\n",
        "     [4,5,6],\n",
        "     [7,8,9]]\n",
        "# 리스트(묶어주고(언패킹))\n",
        "\n",
        "print(list(zip(*a)))"
      ],
      "metadata": {
        "colab": {
          "base_uri": "https://localhost:8080/"
        },
        "id": "Co8jVeWgjEu7",
        "outputId": "f321b984-ed9b-4e06-eee0-f004a0f90935"
      },
      "execution_count": null,
      "outputs": [
        {
          "output_type": "stream",
          "name": "stdout",
          "text": [
            "[[1, 2, 3], [4, 5, 6], [7, 8, 9]]\n",
            "[1, 2, 3] [4, 5, 6] [7, 8, 9]\n",
            "[('영희', '코딩테스트'), ('철수', '토익'), ('길동', '한국사')]\n",
            "[(1, 4, 7), (2, 5, 8), (3, 6, 9)]\n"
          ]
        }
      ]
    },
    {
      "cell_type": "code",
      "source": [
        "# for문 활용\n",
        "mylist = [[1,2,3],\n",
        "          [4,5,6],\n",
        "          [7,8,9]]\n",
        "new_list = [[],[],[]]\n",
        "\n",
        "for i in range(len(mylist)):\n",
        "  for j in range(len(mylist[i])):\n",
        "    new_list[i].append(mylist[j][i])\n",
        "print(mylist)\n",
        "print(new_list)"
      ],
      "metadata": {
        "colab": {
          "base_uri": "https://localhost:8080/"
        },
        "id": "xsH5XPYNocMS",
        "outputId": "33a47990-2ff2-4faf-9b32-5495c43f7d51"
      },
      "execution_count": null,
      "outputs": [
        {
          "output_type": "stream",
          "name": "stdout",
          "text": [
            "[[1, 2, 3], [4, 5, 6], [7, 8, 9]]\n",
            "[[1, 4, 7], [2, 5, 8], [3, 6, 9]]\n"
          ]
        }
      ]
    },
    {
      "cell_type": "code",
      "source": [
        "# 파이썬답게 전치\n",
        "mylist = [[1,2,3],\n",
        "          [4,5,6],\n",
        "          [7,8,9]]\n",
        "new_list = list(map(list, zip(*mylist)))\n",
        "print(mylist)\n",
        "print(new_list)"
      ],
      "metadata": {
        "colab": {
          "base_uri": "https://localhost:8080/"
        },
        "id": "D2elNS3UpYGY",
        "outputId": "bb0f76d7-0e35-4f78-d7b5-2eadc72f9fd6"
      },
      "execution_count": null,
      "outputs": [
        {
          "output_type": "stream",
          "name": "stdout",
          "text": [
            "[[1, 2, 3], [4, 5, 6], [7, 8, 9]]\n",
            "[[1, 4, 7], [2, 5, 8], [3, 6, 9]]\n"
          ]
        }
      ]
    },
    {
      "cell_type": "code",
      "source": [
        "# 포켓몬\n",
        "def solution(nums):\n",
        "  return min(len(set(nums)), len(nums)//2)\n",
        "\n",
        "print(solution([3,1,2,3]))\n",
        "\n",
        "def solution(nums):\n",
        "  lenG = len(nums)\n",
        "  lenN = len(set(nums))\n",
        "  if lenN >= lenG//2:\n",
        "    return lenG//2\n",
        "  else:\n",
        "    return lenN\n",
        "\n",
        "print(solution([3,1,2,3]))"
      ],
      "metadata": {
        "colab": {
          "base_uri": "https://localhost:8080/"
        },
        "id": "8aOBvzoaqPOW",
        "outputId": "fd82b2de-e8ab-4884-81cb-8f161c9d0907"
      },
      "execution_count": null,
      "outputs": [
        {
          "output_type": "stream",
          "name": "stdout",
          "text": [
            "2\n",
            "2\n"
          ]
        }
      ]
    },
    {
      "cell_type": "code",
      "source": [],
      "metadata": {
        "id": "NXwLoqqlueAX"
      },
      "execution_count": null,
      "outputs": []
    }
  ]
}