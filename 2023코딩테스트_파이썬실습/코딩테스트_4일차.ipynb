{
  "nbformat": 4,
  "nbformat_minor": 0,
  "metadata": {
    "colab": {
      "provenance": []
    },
    "kernelspec": {
      "name": "python3",
      "display_name": "Python 3"
    },
    "language_info": {
      "name": "python"
    }
  },
  "cells": [
    {
      "cell_type": "markdown",
      "source": [
        "# 질의응답"
      ],
      "metadata": {
        "id": "a3S0pUCUigpW"
      }
    },
    {
      "cell_type": "code",
      "execution_count": 1,
      "metadata": {
        "colab": {
          "base_uri": "https://localhost:8080/"
        },
        "id": "0j1_UEfvZzqF",
        "outputId": "08277877-4b3d-4d6b-db0c-5b8825ec2fc1"
      },
      "outputs": [
        {
          "output_type": "stream",
          "name": "stdout",
          "text": [
            "[0, 1, 2, 3, 4]\n"
          ]
        }
      ],
      "source": [
        "# 조건, 반복 컴프리헨션 (함축식)에서 else 사용하는 법\n",
        "print([i for i in range(5)])"
      ]
    },
    {
      "cell_type": "code",
      "source": [
        "[list(range(5))]"
      ],
      "metadata": {
        "colab": {
          "base_uri": "https://localhost:8080/"
        },
        "id": "25pteA3Bi02A",
        "outputId": "3062e616-8b6e-45f0-94cd-fbea83145aeb"
      },
      "execution_count": 2,
      "outputs": [
        {
          "output_type": "execute_result",
          "data": {
            "text/plain": [
              "[[0, 1, 2, 3, 4]]"
            ]
          },
          "metadata": {},
          "execution_count": 2
        }
      ]
    },
    {
      "cell_type": "code",
      "source": [
        "[i*10 for i in range(5)]"
      ],
      "metadata": {
        "colab": {
          "base_uri": "https://localhost:8080/"
        },
        "id": "1lgr7mN0jIP9",
        "outputId": "cacafc62-a38f-4cf2-eab1-560c2cc86f7d"
      },
      "execution_count": 3,
      "outputs": [
        {
          "output_type": "execute_result",
          "data": {
            "text/plain": [
              "[0, 10, 20, 30, 40]"
            ]
          },
          "metadata": {},
          "execution_count": 3
        }
      ]
    },
    {
      "cell_type": "code",
      "source": [
        "[i for i in range(5) if i % 2 == 0]"
      ],
      "metadata": {
        "colab": {
          "base_uri": "https://localhost:8080/"
        },
        "id": "ZHrFEOpJjPYq",
        "outputId": "ee6f1a52-e8b6-4fa9-9058-6686633430e7"
      },
      "execution_count": 4,
      "outputs": [
        {
          "output_type": "execute_result",
          "data": {
            "text/plain": [
              "[0, 2, 4]"
            ]
          },
          "metadata": {},
          "execution_count": 4
        }
      ]
    },
    {
      "cell_type": "code",
      "source": [
        "[i for i in range(1,11) if i % 2 == 0 if i % 4 == 0]"
      ],
      "metadata": {
        "colab": {
          "base_uri": "https://localhost:8080/"
        },
        "id": "u03aUttejhwR",
        "outputId": "a0aa9f29-cbeb-4394-de40-f140bbde45db"
      },
      "execution_count": 6,
      "outputs": [
        {
          "output_type": "execute_result",
          "data": {
            "text/plain": [
              "[4, 8]"
            ]
          },
          "metadata": {},
          "execution_count": 6
        }
      ]
    },
    {
      "cell_type": "code",
      "source": [
        "# for if else 동시에 사용할 때는 if else 왼쪽\n",
        "[i if i % 2 == 0 else '홀수' for i in range(1,11)]"
      ],
      "metadata": {
        "colab": {
          "base_uri": "https://localhost:8080/"
        },
        "id": "1SnvovVQj5xg",
        "outputId": "a32b1bad-94a7-4c4e-85bf-fdd72210bc4a"
      },
      "execution_count": 7,
      "outputs": [
        {
          "output_type": "execute_result",
          "data": {
            "text/plain": [
              "['홀수', 2, '홀수', 4, '홀수', 6, '홀수', 8, '홀수', 10]"
            ]
          },
          "metadata": {},
          "execution_count": 7
        }
      ]
    },
    {
      "cell_type": "code",
      "source": [
        "# 진법변환\n",
        "print(int('10',2))\n",
        "print(int('10',8))\n",
        "print(int('f',16))\n",
        "print('-'*10)\n",
        "print(bin(10)[2:])\n",
        "print(oct(10)[2:])\n",
        "print(hex(15)[2:])\n",
        "print('-'*10)\n",
        "# 10진수를 16진수\n",
        "num = 15\n",
        "print('%x'%num)\n",
        "print(hex(num)[2:])"
      ],
      "metadata": {
        "colab": {
          "base_uri": "https://localhost:8080/"
        },
        "id": "Qe9QmidKkMrJ",
        "outputId": "b6feb8ce-1076-4bb2-c2a6-8e64cd8b09f9"
      },
      "execution_count": 10,
      "outputs": [
        {
          "output_type": "stream",
          "name": "stdout",
          "text": [
            "2\n",
            "8\n",
            "15\n",
            "----------\n",
            "1010\n",
            "12\n",
            "f\n",
            "----------\n",
            "f\n",
            "f\n"
          ]
        }
      ]
    },
    {
      "cell_type": "code",
      "source": [
        "# 복습과 확인\n",
        "'''\n",
        "문제 >> n진법(base)으로 표기된 string(num)을 10진법 숫자로 변환하기\n",
        "문제설명 및 조건 >>\n",
        "첫번째 숫자 num, 두번째 숫자 base\n",
        "\n",
        "### 힌트 >>>\n",
        "base 진법으로 된 첫번째 숫자 num을 10진법 숫자로 출력하시오.\n",
        "\n",
        "### 조건 >>>\n",
        "base <=10\n",
        "num <3000\n",
        "\n",
        "input \n",
        "12 3     \n",
        "==> 3진법의 12을 10진법으로 출력 \n",
        "==> 1 2 10 11 12\n",
        "==> 1 2  3  4  5\n",
        "\n",
        "24 5 \n",
        "==> 5진법 24\n",
        "1 2 3 4 10 11 12 13 14 20 21 22 23 24 30\n",
        "1 2 3 4  5  6  7  8  9 10 11 12 13 14 15\n",
        "\n",
        "\n",
        "output\n",
        "5\n",
        "14\n",
        "'''"
      ],
      "metadata": {
        "colab": {
          "base_uri": "https://localhost:8080/",
          "height": 54
        },
        "id": "peneLq3pmazH",
        "outputId": "19fb3072-5a56-4852-d6bb-8f5789f3610e"
      },
      "execution_count": 11,
      "outputs": [
        {
          "output_type": "execute_result",
          "data": {
            "text/plain": [
              "'\\n문제 >> n진법(base)으로 표기된 string(num)을 10진법 숫자로 변환하기\\n문제설명 및 조건 >>\\n첫번째 숫자 num, 두번째 숫자 base\\n\\n### 힌트 >>>\\nbase 진법으로 된 첫번째 숫자 num을 10진법 숫자로 출력하시오.\\n\\n### 조건 >>>\\nbase <=10\\nnum <3000\\n\\ninput \\n12 3     \\n==> 3진법의 12을 10진법으로 출력 \\n==> 1 2 10 11 12\\n==> 1 2  3  4  5\\n\\n24 5 \\n==> 5진법 24\\n1 2 3 4 10 11 12 13 14 20 21 22 23 24 30\\n1 2 3 4  5  6  7  8  9 10 11 12 13 14 15\\n\\n\\noutput\\n5\\n14\\n'"
            ],
            "application/vnd.google.colaboratory.intrinsic+json": {
              "type": "string"
            }
          },
          "metadata": {},
          "execution_count": 11
        }
      ]
    },
    {
      "cell_type": "markdown",
      "source": [
        "# 시간복잡도"
      ],
      "metadata": {
        "id": "A8rXUqODn0pN"
      }
    },
    {
      "cell_type": "code",
      "source": [
        "# 시간체크 -- 시간복잡도의 내용은 다르지만 확인을 위해(수행시간 검사)\n",
        "\n",
        "import time\n",
        "\n",
        "while True:\n",
        "  n = int(input())\n",
        "  if n == -1:\n",
        "    break\n",
        "  else:\n",
        "    lst = [i for i in range(n)]\n",
        "    start = time.time()\n",
        "    maximum = max(lst)\n",
        "    elapsed = time.time() - start\n",
        "    print(f'최대값 = {maximum}, 경과시간 = {elapsed:f}')"
      ],
      "metadata": {
        "colab": {
          "base_uri": "https://localhost:8080/"
        },
        "id": "FZ0BgBBCnzii",
        "outputId": "0abd5351-dfa2-47bb-f865-a34e69a6db91"
      },
      "execution_count": 2,
      "outputs": [
        {
          "name": "stdout",
          "output_type": "stream",
          "text": [
            "100\n",
            "최대값 = 99, 경과시간 = 0.000005\n",
            "1000\n",
            "최대값 = 999, 경과시간 = 0.000033\n",
            "10000\n",
            "최대값 = 9999, 경과시간 = 0.000294\n",
            "100000\n",
            "최대값 = 99999, 경과시간 = 0.003111\n",
            "1000000\n",
            "최대값 = 999999, 경과시간 = 0.017220\n",
            "10000000\n",
            "최대값 = 9999999, 경과시간 = 0.187538\n",
            "-1\n"
          ]
        }
      ]
    },
    {
      "cell_type": "code",
      "source": [
        "'''\n",
        "리스트 append(), pop() : 0(1)\n",
        "리스트 insert(), del : 데이터 길이에 따라 비례(선형시간) : O(N)\n",
        "해결하고자 하는 문제에 따라 최적의 해법이 서로 다름\n",
        "자료구조의 성질을 알고 적용해야 한다.\n",
        "알고리즘 : 어떤 문제를 해결하기 위한 절차, 방법, 명령어들의 집합\n",
        "프로그래밍 : 주어진 문제를 해결하기 위한 자료구조와 연산방법들에 대한 선택\n",
        "'''"
      ],
      "metadata": {
        "colab": {
          "base_uri": "https://localhost:8080/",
          "height": 54
        },
        "id": "Ov14bmfBqyzY",
        "outputId": "28f63cab-26d6-4faf-dfa1-d680449de1ad"
      },
      "execution_count": 1,
      "outputs": [
        {
          "output_type": "execute_result",
          "data": {
            "text/plain": [
              "'\\n리스트 append(), pop() : 0(1)\\n리스트 insert(), del : 데이터 길이에 따라 비례(선형시간) : O(N)\\n해결하고자 하는 문제에 따라 최적의 해법이 서로 다름\\n자료구조의 성질을 알고 적용해야 한다.\\n알고리즘 : 어떤 문제를 해결하기 위한 절차, 방법, 명령어들의 집합\\n프로그래밍 : 주어진 문제를 해결하기 위한 자료구조와 연산방법들에 대한 선택\\n'"
            ],
            "application/vnd.google.colaboratory.intrinsic+json": {
              "type": "string"
            }
          },
          "metadata": {},
          "execution_count": 1
        }
      ]
    },
    {
      "cell_type": "markdown",
      "source": [
        "# 그리드 알고리즘\n",
        "- 가장 최적인 것을 찾는 것\n",
        "- 단순하게 현재 가장 좋은 것을 찾는 문제\n",
        "- 정당성 확인해야 한다."
      ],
      "metadata": {
        "id": "YeLV7w76vp13"
      }
    },
    {
      "cell_type": "markdown",
      "source": [
        "## 거스름돈"
      ],
      "metadata": {
        "id": "AFD_jAOTvx34"
      }
    },
    {
      "cell_type": "code",
      "source": [
        "# 가장 큰 화폐 단위부터 거슬러 주는 것\n",
        "# 정당성 : 큰 단위가 항상 작은 단위 배수"
      ],
      "metadata": {
        "id": "MReGAf4dsa2J"
      },
      "execution_count": 3,
      "outputs": []
    },
    {
      "cell_type": "code",
      "source": [
        "n = 1260\n",
        "count = 0\n",
        "array = [500,100,50,10]\n",
        "\n",
        "for coin in array:\n",
        "  count += n // coin\n",
        "  n %= coin\n",
        "print(count)\n",
        "# 가장 큰 화폐단위부터 거슬러 주는 것이 최적의 해인 이유\n",
        "# -> 큰 단위가 항상 작은 단위의 배수이므로 작은 단위를 조합해도 다른 해가 나올 수 없다."
      ],
      "metadata": {
        "colab": {
          "base_uri": "https://localhost:8080/"
        },
        "id": "V8Fy8IFRwqxB",
        "outputId": "3a5c94b8-b657-43fe-ccb2-aedf291863f9"
      },
      "execution_count": 4,
      "outputs": [
        {
          "output_type": "stream",
          "name": "stdout",
          "text": [
            "6\n"
          ]
        }
      ]
    },
    {
      "cell_type": "markdown",
      "source": [
        "## 1이 될 때까지"
      ],
      "metadata": {
        "id": "dGo3__b9yxtM"
      }
    },
    {
      "cell_type": "code",
      "source": [
        "# 어떤 수 n이 1이 될 때까지 다음의 두 과정 중 하나를 반복 수행. 단 두번째 연산은 n이 k로 나누어 떨어질 때만 선택가능\n",
        "# 1. n에서 1을 뺌\n",
        "# 2. n을 k로 나눔\n",
        "# n이 17, k가 4 인 경우 1, 2, 2로 3번의 실행"
      ],
      "metadata": {
        "id": "A-FG0EZ4yMUh"
      },
      "execution_count": 5,
      "outputs": []
    },
    {
      "cell_type": "code",
      "source": [
        "import time\n",
        "n, k = map(int, input().strip().split())\n",
        "start1 = time.time()\n",
        "count = 0\n",
        "\n",
        "while n != 1:\n",
        "  a = divmod(n,k)\n",
        "  if a[1] == 0:\n",
        "    n = a[0]\n",
        "  else:\n",
        "    n -= 1\n",
        "  count += 1\n",
        "\n",
        "print(count)\n",
        "end1 = time.time()\n",
        "print(f'수행시간 : {end1-start1}')"
      ],
      "metadata": {
        "colab": {
          "base_uri": "https://localhost:8080/"
        },
        "id": "zJpwG0PRzUio",
        "outputId": "12eb1638-9ff6-44d6-be8e-8f13d091d312"
      },
      "execution_count": 16,
      "outputs": [
        {
          "output_type": "stream",
          "name": "stdout",
          "text": [
            "17 4\n",
            "3\n",
            "수행시간 : 0.0013930797576904297\n"
          ]
        }
      ]
    },
    {
      "cell_type": "code",
      "source": [
        "import time\n",
        "n, k = map(int, input().strip().split())\n",
        "start2 = time.time()\n",
        "count = 0\n",
        "\n",
        "while n != 1:\n",
        "  target = (n // k) * k\n",
        "  count += (n-target)\n",
        "  n = target\n",
        "  if n < k:\n",
        "    count += (n-1)\n",
        "    break\n",
        "  n //= k\n",
        "  count += 1\n",
        "\n",
        "print(count)\n",
        "end2 = time.time()\n",
        "print(f'수행시간 : {end2-start2}')"
      ],
      "metadata": {
        "colab": {
          "base_uri": "https://localhost:8080/"
        },
        "id": "Q_4S4-Bl0aIa",
        "outputId": "607b80ec-ea7b-43e1-c94a-055d4d5f5072"
      },
      "execution_count": 18,
      "outputs": [
        {
          "output_type": "stream",
          "name": "stdout",
          "text": [
            "17 4\n",
            "3\n",
            "수행시간 : 0.00042748451232910156\n"
          ]
        }
      ]
    },
    {
      "cell_type": "markdown",
      "source": [
        "## 큰 수 만들기"
      ],
      "metadata": {
        "id": "ODTeisHS8sdc"
      }
    },
    {
      "cell_type": "code",
      "source": [
        "# 각 자리가 숫자로만 주어진 문자열 S\n",
        "# 숫자 사이에 * 또는 + 연산을 넣어 결과적으로 만들어질 수 있는 가장 큰 수를 구하는 프로그램 작성.\n",
        "# +보다 *를 먼저 계산하는 일반적인 방식과 달리 모든 연산은 왼쪽부터 순서대로\n",
        "import time\n",
        "s = input()\n",
        "start1 = time.time()\n",
        "result = int(s[0])\n",
        "\n",
        "for i in range(len(s)):\n",
        "  num = int(s[i])\n",
        "  if result <= 1 or num <= 1:\n",
        "    result += num\n",
        "  else:\n",
        "    result *= num\n",
        "\n",
        "print(result)\n",
        "end1 = time.time()\n",
        "print(f'수행시간 : {end1-start1}')"
      ],
      "metadata": {
        "colab": {
          "base_uri": "https://localhost:8080/"
        },
        "id": "B5FZ9Eul3yWT",
        "outputId": "c868e887-628d-47d8-fada-325a05abd0e8"
      },
      "execution_count": 21,
      "outputs": [
        {
          "output_type": "stream",
          "name": "stdout",
          "text": [
            "02845123570235\n",
            "2022300\n",
            "수행시간 : 0.0016033649444580078\n"
          ]
        }
      ]
    },
    {
      "cell_type": "code",
      "source": [
        "# 각 자리가 숫자로만 주어진 문자열 S\n",
        "# s에서 k개의 수를 제거하여 만들 수 있는 숫자 중 가장 큰 것\n",
        "# 1924 2 -> 19 12 14 92 94 24 -> 94\n",
        "# 1231234 3 -> 3234\n",
        "# 4177252841 4 -> 775841\n",
        "def solution(number, k):\n",
        "  answer = []\n",
        "  for i in number:\n",
        "    if not answer:\n",
        "      answer.append(i)\n",
        "      continue\n",
        "    while answer[-1] < i and k > 0:\n",
        "      answer.pop()\n",
        "      k -= 1\n",
        "      if not answer or k <= 0:\n",
        "        break\n",
        "    answer.append(i)\n",
        "    if len(answer) == len(number) - k:\n",
        "      break\n",
        "  return ''.join(answer)  # 리스트의 값을 합쳐서 문자열로 만들기\n",
        "start1 = time.time()\n",
        "print(solution('1924', 2))\n",
        "print(solution('1231234', 3))\n",
        "print(solution('4177252841', 4))\n",
        "print(solution('553442138636446387717061132565845835415522862743837482513453532841', 20))\n",
        "end1 = time.time()\n",
        "print(f'수행시간 : {end1-start1}')"
      ],
      "metadata": {
        "colab": {
          "base_uri": "https://localhost:8080/"
        },
        "id": "dnrK7g-x9u-C",
        "outputId": "e9d16003-f325-49e7-d024-df795fb82659"
      },
      "execution_count": 97,
      "outputs": [
        {
          "output_type": "stream",
          "name": "stdout",
          "text": [
            "94\n",
            "3234\n",
            "775841\n",
            "8877763565845835415522862743837482513453532841\n",
            "수행시간 : 0.003737211227416992\n"
          ]
        }
      ]
    },
    {
      "cell_type": "code",
      "source": [
        "def solution(number, k):\n",
        "  answer = []\n",
        "  for num in number:\n",
        "    while k > 0 and answer and answer[-1] < num:\n",
        "      answer.pop()\n",
        "      k -= 1\n",
        "    answer.append(num)\n",
        "  return ''.join(answer)  # 리스트의 값을 합쳐서 문자열로 만들기\n",
        "start1 = time.time()\n",
        "print(solution('1924', 2))\n",
        "print(solution('1231234', 3))\n",
        "print(solution('4177252841', 4))\n",
        "print(solution('553442138636446387717061132565845835415522862743837482513453532841', 20))\n",
        "end1 = time.time()\n",
        "print(f'수행시간 : {end1-start1}')"
      ],
      "metadata": {
        "colab": {
          "base_uri": "https://localhost:8080/"
        },
        "id": "FZRoV5AXJ-cK",
        "outputId": "ac88f30a-6ae5-4e98-efe4-4de926344c1b"
      },
      "execution_count": 98,
      "outputs": [
        {
          "output_type": "stream",
          "name": "stdout",
          "text": [
            "94\n",
            "3234\n",
            "775841\n",
            "8877763565845835415522862743837482513453532841\n",
            "수행시간 : 0.0003247261047363281\n"
          ]
        }
      ]
    },
    {
      "cell_type": "markdown",
      "source": [
        "## 체육복"
      ],
      "metadata": {
        "id": "mixhElvOb5e-"
      }
    },
    {
      "cell_type": "code",
      "source": [
        "# 체육복 도난. 여벌 있는 학생에 빌려준다.\n",
        "# 학생번호는 체격순이라 바로 앞번호나 바로 뒷 번호의 학생에게만 빌려줄 수 있다.\n",
        "# 최대한 많은 학생이 체육복 사용가능하게하기\n",
        "# 전체 학생수 n, 도난당한 학생들 lost, 여벌있는 학생은 reserve. 여벌 없는 학생은 못빌려줌\n",
        "# 여벌체육복이 도난당할 수도 있다. -> 이경우 해당 학생은 여벌 없어져 못빌려준다.\n",
        "def solution(n, lost, reserve):\n",
        "  reserveOnly = list(set(reserve) - set(lost))\n",
        "  reserveOnly.sort()\n",
        "  lostOnly = list(set(lost)-set(reserve))\n",
        "  for i in reserveOnly:\n",
        "    front = i - 1\n",
        "    back = i + 1\n",
        "    if front in lostOnly:\n",
        "      lostOnly.remove(front)\n",
        "    elif back in lostOnly:\n",
        "      lostOnly.remove(back)\n",
        "  return n - len(lostOnly)\n",
        "\n",
        "print(solution(5,[2,4],[1,3,5]))\n",
        "print(solution(5,[2,4],[3]))\n",
        "print(solution(3,[3],[1]))\n",
        "print(solution(7,[2,4,6,7],[1,3,5]))"
      ],
      "metadata": {
        "colab": {
          "base_uri": "https://localhost:8080/"
        },
        "id": "Bg2Gfsb6BuKG",
        "outputId": "4f533e3c-cb4e-4cdf-e159-e12320242cd7"
      },
      "execution_count": 106,
      "outputs": [
        {
          "output_type": "stream",
          "name": "stdout",
          "text": [
            "5\n",
            "4\n",
            "2\n",
            "6\n"
          ]
        }
      ]
    },
    {
      "cell_type": "code",
      "source": [
        "# 체육복 문제\n",
        "# map과 lambda도 사용\n",
        "def solution(n, lost, reserve):\n",
        "  reserve = set(reserve)\n",
        "  for size in [0,1,-2]:\n",
        "    lost = set(map(lambda x:x+size, lost))\n",
        "    reserve, lost = reserve-lost, lost-reserve\n",
        "  return n - len(lost)\n",
        "\n",
        "print(solution(5,[2,4],[1,3,5]))\n",
        "print(solution(5,[2,4],[3]))\n",
        "print(solution(3,[3],[1]))\n",
        "print(solution(7,[2,4,6,7],[1,3,5])) # 불가"
      ],
      "metadata": {
        "colab": {
          "base_uri": "https://localhost:8080/"
        },
        "id": "Pz5FU0LcGqrP",
        "outputId": "672b8ce9-b346-4268-b128-8f45ae80d0c9"
      },
      "execution_count": 105,
      "outputs": [
        {
          "output_type": "stream",
          "name": "stdout",
          "text": [
            "5\n",
            "4\n",
            "2\n",
            "5\n"
          ]
        }
      ]
    },
    {
      "cell_type": "code",
      "source": [
        "# 체육복 문제\n",
        "# map과 lambda도 사용\n",
        "def solution(n, lost, reserve):\n",
        "  reserve = set(reserve)\n",
        "  for size in [0,1,-2]:\n",
        "    lost = set(map(lambda x:x+size, lost))\n",
        "    reserve, lost = reserve-lost, lost-reserve\n",
        "  return n - len(lost)\n",
        "\n",
        "# 문제가 생기는 예시\n",
        "print(solution(7,[2,4,6,7],[1,3,5]))\n",
        "# 전부 자기 뒤의 학생에게 주면 6이나와야 하는데 5가 나옵니다.\n",
        "\n",
        "# -> set만 사용하는것은 정렬된 *reserve*의 앞부터 앞 뒤를 보아 앞의 도난학생부터 채우며 최대한 많이 빌려주게 됩니다.\n",
        "\n",
        "# -> 이 코드는 모든 *lost항목의 전체* 각각의 뒤를 보고 앞을 보고 빌려옵니다.\n",
        "# 이로 인하여 중간중간에 최적화 되어 들어가지 않는 경우가 생기는것 같습니다.\n",
        "# ex) 앞뒤 둘다 빌려줄 수 있는데 앞에 빌려주는게 더 좋지만 뒤를 먼저 빌려주게 되는 경우나 그 반대\n",
        "\n",
        "# 이로인하여 사용한 예시에서 1,3,5가 뒤로(2,4,6) 빌려주는 것이 좋지만\n",
        "# 코드에서는 {3,5,7,8}, {1,3,5}로 3,5제거 후\n",
        "# {5,6}, {1}로 2명이 못 받게 됩니다 .\n",
        "\n",
        "# for size in [0,-1,2]:로 바꾸면 해당 사용 예시는 해결가능한거 같은데\n",
        "# 뒤를 먼저 봐야좋은 경우도 존재할것 같아 완벽한 해결방법은 잘 모르겠습니다."
      ],
      "metadata": {
        "colab": {
          "base_uri": "https://localhost:8080/"
        },
        "id": "n7OSPAqvqgm7",
        "outputId": "de4ca545-a4ef-476d-e3e0-475f822aaa3e"
      },
      "execution_count": 107,
      "outputs": [
        {
          "output_type": "stream",
          "name": "stdout",
          "text": [
            "5\n"
          ]
        }
      ]
    },
    {
      "cell_type": "markdown",
      "source": [
        "# 해시(해싱) ash, hashing\n",
        "- key:value\n",
        "- 배열(리스트)에서 비교해서 찾는 것 O(n)\n",
        "- 키를 기준으로 찾는 것은 0(1) 삭제 0(1)\n",
        "- 키가 같으면 해시함수 충돌이 일어날 수 있다.   \n",
        "  --> 키 +데이터 추가해서 선형검색 방법  \n",
        "  --> 0(1) 아닐 수도 있다."
      ],
      "metadata": {
        "id": "m0s-413XsAkr"
      }
    },
    {
      "cell_type": "code",
      "source": [
        "'''\n",
        "문제정의 - 조건 - 아이디어도출 - 코딩\n",
        "문제정의>>\n",
        "한 명의 완주하지 못한 선수 이름 찾기\n",
        "참여 선수 배열 : participant\n",
        "완주 선수 배열 : completion\n",
        "완주하지 못한 선수 이름 : return\n",
        "\n",
        "문제조건>>\n",
        "1. 참여 선수 수 : 1~ 100,000\n",
        "2. len(completion) < len(participant) - 1\n",
        "3. 참가자 이름 : 1~20 알파벳 소문자, 동명이인 가능\n",
        "\n",
        "예시>>\n",
        "participant     [\"leo\",\"kiki\",\"eden\"]   참여한 선수\n",
        "completion      [\"eden\",\"kiki\"]         완주한 선수\n",
        "return          \"leo\"                   완주못한 선수\n",
        "\n",
        "문제에 대한 고민>>\n",
        "1. 문제 단순화시키기\n",
        "2. 비교해서 없는 것 찾기 참여자 N 완주자 N-1\n",
        "\n",
        "해결아이디어>>\n",
        "1. 정렬 -> 1:1 비교\n",
        "2. 해시\n",
        "3. collections 모듈 Counter 클래스 활용 : 딕셔너리 확장\n",
        "\n",
        "'''"
      ],
      "metadata": {
        "colab": {
          "base_uri": "https://localhost:8080/"
        },
        "id": "E82VFkuXrsgJ",
        "outputId": "5764e391-c9a0-4204-8b42-3f354f42e91e"
      },
      "execution_count": 108,
      "outputs": [
        {
          "output_type": "stream",
          "name": "stdout",
          "text": [
            "6\n"
          ]
        }
      ]
    },
    {
      "cell_type": "code",
      "source": [
        "# 방법 1. sorting/loop\n",
        "\n",
        "# 0. 데이터 준비\n",
        "participant = ['leo', 'kiki', 'eden']\n",
        "completion = ['eden', 'kiki']\n",
        "\n",
        "# 1. 두 리스트를 정렬\n",
        "participant.sort()\n",
        "completion.sort()\n",
        "\n",
        "# 2. completion list 길이만큼 반복\n",
        "# 참여선수에만 있는 한명을 찾기-> 같지않다면 !=\n",
        "for i in range(len(completion)):\n",
        "  if participant[i] != completion[i]:\n",
        "    print(participant[i])\n",
        "\n",
        "# 3. 끝까지 확인해도 없다면\n",
        "# participant[-1]가 완주못한 선수가 된다.\n",
        "print(participant[-1])"
      ],
      "metadata": {
        "colab": {
          "base_uri": "https://localhost:8080/"
        },
        "id": "P8rhsIrrs6DS",
        "outputId": "d87c3f4d-5823-4a5f-830a-6821599e8e84"
      },
      "execution_count": 109,
      "outputs": [
        {
          "output_type": "stream",
          "name": "stdout",
          "text": [
            "leo\n"
          ]
        }
      ]
    },
    {
      "cell_type": "code",
      "source": [
        "# 방법 2. 해시 활용\n",
        "# 해시테이블 만들기\n",
        "# 딕셔너리 key, value\n",
        "participant = ['leo', 'kiki', 'eden']\n",
        "completion = ['eden', 'kiki']\n",
        "hashDict = {}\n",
        "sumHash = 0\n",
        "# 1. participant의 hash 구하고 더하기\n",
        "for p in participant:\n",
        "  hashDict[hash(p)] = p\n",
        "  sumHash += hash(p)\n",
        "# 2. completion의 hash 구하고 participant의 hash 빼준다\n",
        "for c in completion:\n",
        "  sumHash -= hash(c)\n",
        "# 3. 남은 해시의 값이 완주못한 선수이다.\n",
        "print(hashDict[sumHash])"
      ],
      "metadata": {
        "colab": {
          "base_uri": "https://localhost:8080/"
        },
        "id": "NXW9JqDQyLbX",
        "outputId": "67df279a-b492-4c35-f703-35b0e703ec44"
      },
      "execution_count": 113,
      "outputs": [
        {
          "output_type": "stream",
          "name": "stdout",
          "text": [
            "leo\n"
          ]
        }
      ]
    },
    {
      "cell_type": "code",
      "source": [
        "# 방법 3.을 위한 사전학습\n",
        "from collections import Counter\n",
        "\n",
        "lst1 = [1,1,1,3,4,5,4,5,6,7,1,3,5,7]\n",
        "result = Counter(lst1)\n",
        "print(result, type(result))\n",
        "print(result[1], type(result[1])) # -> result는 딕셔너리타입\n",
        "print(result[0], type(result[0])) # 따라서 인덱스가 아니라 해당 키의 값(갯수)을 가져오는것\n",
        "print(result.keys())\n",
        "print(result.values())\n",
        "print(result.items())"
      ],
      "metadata": {
        "colab": {
          "base_uri": "https://localhost:8080/"
        },
        "id": "_t4RF4GM0npA",
        "outputId": "a4da4f46-5004-46ce-8894-5315cdd52401"
      },
      "execution_count": 116,
      "outputs": [
        {
          "output_type": "stream",
          "name": "stdout",
          "text": [
            "Counter({1: 4, 5: 3, 3: 2, 4: 2, 7: 2, 6: 1}) <class 'collections.Counter'>\n",
            "4 <class 'int'>\n",
            "0 <class 'int'>\n",
            "dict_keys([1, 3, 4, 5, 6, 7])\n",
            "dict_values([4, 2, 2, 3, 1, 2])\n",
            "dict_items([(1, 4), (3, 2), (4, 2), (5, 3), (6, 1), (7, 2)])\n"
          ]
        }
      ]
    },
    {
      "cell_type": "code",
      "source": [
        "# 방법 3. collections 모듈의 counter클래스 : 딕셔너리 확장\n",
        "from collections import Counter\n",
        "\n",
        "participant = ['leo', 'kiki', 'eden']\n",
        "completion = ['eden', 'kiki']\n",
        "\n",
        "# 1. 각각의 Counter 구한다.\n",
        "partCounter = Counter(participant)\n",
        "compCounter = Counter(completion)\n",
        "# 2. 둘의 차를 구하고, key만 가지고 온다\n",
        "result = partCounter - compCounter\n",
        "# 3. 출력\n",
        "print(list(result.keys())[0])"
      ],
      "metadata": {
        "colab": {
          "base_uri": "https://localhost:8080/"
        },
        "id": "ESa95PsH2C2U",
        "outputId": "4252d400-ec49-40ed-a208-9c406f90a735"
      },
      "execution_count": 119,
      "outputs": [
        {
          "output_type": "stream",
          "name": "stdout",
          "text": [
            "leo\n"
          ]
        }
      ]
    },
    {
      "cell_type": "code",
      "source": [
        "# 함수로\n",
        "def solution(participant, completion):\n",
        "  from collections import Counter\n",
        "  partCounter = Counter(participant)\n",
        "  compCounter = Counter(completion)\n",
        "  result = partCounter - compCounter\n",
        "  return list(result.keys())[0]\n",
        "\n",
        "print(solution(['leo', 'kiki', 'eden'], ['eden', 'kiki']))"
      ],
      "metadata": {
        "colab": {
          "base_uri": "https://localhost:8080/"
        },
        "id": "sH6VUvdQ4Byh",
        "outputId": "73967f22-5b88-46a1-cc13-8234550138dc"
      },
      "execution_count": 120,
      "outputs": [
        {
          "output_type": "stream",
          "name": "stdout",
          "text": [
            "leo\n"
          ]
        }
      ]
    },
    {
      "cell_type": "code",
      "source": [],
      "metadata": {
        "id": "n1rB_56340yT"
      },
      "execution_count": null,
      "outputs": []
    }
  ]
}