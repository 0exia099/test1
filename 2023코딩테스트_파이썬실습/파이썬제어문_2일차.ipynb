{
  "nbformat": 4,
  "nbformat_minor": 0,
  "metadata": {
    "colab": {
      "provenance": []
    },
    "kernelspec": {
      "name": "python3",
      "display_name": "Python 3"
    },
    "language_info": {
      "name": "python"
    }
  },
  "cells": [
    {
      "cell_type": "markdown",
      "source": [
        "# 제어문(조건문, 반복문)"
      ],
      "metadata": {
        "id": "JUgcbXTraXIG"
      }
    },
    {
      "cell_type": "markdown",
      "source": [
        "# 조건문\n",
        "경우의 수 1개 : if  \n",
        "경우의 수 2개 : if 참 ~ else 거짓  \n",
        "경우의 수 3개 : if 참 ~ elif 참 ~ else 거짓  \n",
        "경우의 수 3개 이상 : if 참 ~ (elif 참 ... elif 참) ~ else 거짓  "
      ],
      "metadata": {
        "id": "jzgYkxTHadBd"
      }
    },
    {
      "cell_type": "code",
      "execution_count": null,
      "metadata": {
        "colab": {
          "base_uri": "https://localhost:8080/"
        },
        "id": "dEPER-fPWTDx",
        "outputId": "e7ee284d-7def-4728-f23c-fae95503ff59"
      },
      "outputs": [
        {
          "output_type": "stream",
          "name": "stdout",
          "text": [
            "버스 번호 : 104\n",
            "104번 버스 승차\n"
          ]
        }
      ],
      "source": [
        "bus = int(input(\"버스 번호 : \")) # = 할당, 대입연산자, == 조건연산자\n",
        "\n",
        "if bus == 104:\n",
        "  print(\"104번 버스 승차\")\n",
        "else:\n",
        "  print(\"104번 아님\")"
      ]
    },
    {
      "cell_type": "code",
      "source": [
        "money = int(input('버스비가 있나요? ex)있다(1), 없다(0) >> '))\n",
        "\n",
        "if money == 1:\n",
        "  print(\"104번 버스 승차\")\n",
        "else:\n",
        "  print(\"승차 불가\")"
      ],
      "metadata": {
        "colab": {
          "base_uri": "https://localhost:8080/"
        },
        "id": "ieFtUdZObkVL",
        "outputId": "3a016833-efbd-497b-f36a-3374237fcb38"
      },
      "execution_count": null,
      "outputs": [
        {
          "output_type": "stream",
          "name": "stdout",
          "text": [
            "버스비가 있나요? ex)있다(1), 없다(0) >> 0\n",
            "승차 불가\n"
          ]
        }
      ]
    },
    {
      "cell_type": "markdown",
      "source": [
        "## 조건문 한줄 표현식"
      ],
      "metadata": {
        "id": "0XF5OWudjTXs"
      }
    },
    {
      "cell_type": "code",
      "source": [
        "# 조건문 표현식\n",
        "# 명령문나오고 if 조건식 else 거짓명령문\n",
        "money = int(input('버스비가 있나요? ex)있다(1), 없다(0) >> '))\n",
        "print('버스 승차') if money == 1 else print('도보')"
      ],
      "metadata": {
        "colab": {
          "base_uri": "https://localhost:8080/"
        },
        "id": "QsfS-5urc-l5",
        "outputId": "54900332-544a-4e84-8cac-90966fd3f859"
      },
      "execution_count": null,
      "outputs": [
        {
          "output_type": "stream",
          "name": "stdout",
          "text": [
            "버스비가 있나요? ex)있다(1), 없다(0) >> 0\n",
            "도보\n"
          ]
        }
      ]
    },
    {
      "cell_type": "markdown",
      "source": [
        "## 여러조건 비교"
      ],
      "metadata": {
        "id": "xFYsvxhsjeNQ"
      }
    },
    {
      "cell_type": "code",
      "source": [
        "# 여러조건 비교\n",
        "age = int(input('탑승자의 나이는? >> '))\n",
        "\n",
        "if age < 8:\n",
        "  print('버스 요금 : 350')\n",
        "elif age < 18:\n",
        "  print('버스 요금 : 800')\n",
        "else:\n",
        "  print('버스 요금 : 1250')"
      ],
      "metadata": {
        "colab": {
          "base_uri": "https://localhost:8080/"
        },
        "id": "LgXf_TWkeNV-",
        "outputId": "7cbc28f4-88a6-4450-d1a0-baee1321ac4f"
      },
      "execution_count": null,
      "outputs": [
        {
          "output_type": "stream",
          "name": "stdout",
          "text": [
            "탑승자의 나이는? >> 5\n",
            "버스 요금 : 350\n"
          ]
        }
      ]
    },
    {
      "cell_type": "code",
      "source": [
        "# 숫자 입력 받아서 3의 배수 판별 프로그램\n",
        "# 나머지 값을 이용\n",
        "\n",
        "num1 = int(input('숫자를 입력하세요(0보다 큰 숫자) : '))\n",
        "if num1%3 == 0:\n",
        "  print(f\"{num1}은/는 3의 배수이다.\")\n",
        "else:\n",
        "  print(f\"{num1}은/는 3의 배수가 아니다.\")"
      ],
      "metadata": {
        "colab": {
          "base_uri": "https://localhost:8080/"
        },
        "id": "T92OQZWLfOtv",
        "outputId": "1a12b12a-3ea0-4ba6-d394-930e07c6e9fc"
      },
      "execution_count": null,
      "outputs": [
        {
          "output_type": "stream",
          "name": "stdout",
          "text": [
            "숫자를 입력하세요(0보다 큰 숫자) : 128\n",
            "128은/는 3의 배수가 아니다.\n"
          ]
        }
      ]
    },
    {
      "cell_type": "code",
      "source": [
        "print(f\"{num1}은/는 3의 배수이다.\") if num1%3 == 0 else  print(f\"{num1}은/는 3의 배수가 아니다.\")"
      ],
      "metadata": {
        "colab": {
          "base_uri": "https://localhost:8080/"
        },
        "id": "kaJzR--ff0V5",
        "outputId": "7dd8c34b-528c-419d-cd0f-ea2463f1a5ab"
      },
      "execution_count": null,
      "outputs": [
        {
          "output_type": "stream",
          "name": "stdout",
          "text": [
            "128은/는 3의 배수가 아니다.\n"
          ]
        }
      ]
    },
    {
      "cell_type": "code",
      "source": [
        "# if문과 리스트등(컬렉션자료형, 문자열) 활용\n",
        "myPocket = [500, '폰', '카드']\n",
        "if '카드' in myPocket:\n",
        "  print('라면 사먹자')\n",
        "else:\n",
        "  print('내일 보자')"
      ],
      "metadata": {
        "colab": {
          "base_uri": "https://localhost:8080/"
        },
        "id": "gtUFtXY-gxGK",
        "outputId": "90b6498d-91a4-4538-b6de-b596980bc051"
      },
      "execution_count": null,
      "outputs": [
        {
          "output_type": "stream",
          "name": "stdout",
          "text": [
            "라면 사먹자\n"
          ]
        }
      ]
    },
    {
      "cell_type": "code",
      "source": [
        "'a' in 'bcdefg'"
      ],
      "metadata": {
        "colab": {
          "base_uri": "https://localhost:8080/"
        },
        "id": "41otAgszivQA",
        "outputId": "a81eb432-48c5-4bcf-f23b-abf93849768c"
      },
      "execution_count": null,
      "outputs": [
        {
          "output_type": "execute_result",
          "data": {
            "text/plain": [
              "False"
            ]
          },
          "metadata": {},
          "execution_count": 11
        }
      ]
    },
    {
      "cell_type": "markdown",
      "source": [
        "## 예외처리"
      ],
      "metadata": {
        "id": "vEBG_d84jV8Y"
      }
    },
    {
      "cell_type": "code",
      "source": [
        "# try ~ except 에러가 났을 때의 실행문\n",
        "\n",
        "try:\n",
        "  num = int(input('숫자를 입력하세요 >>'))\n",
        "  print(f\"입력된 숫자{num}에 2를 더한 수는 {num+2}이다.\")\n",
        "except:\n",
        "  print('숫자를 입력하세요')"
      ],
      "metadata": {
        "colab": {
          "base_uri": "https://localhost:8080/"
        },
        "id": "c3NRL4Rtixyy",
        "outputId": "edc43155-e877-4f37-8db8-da82d60bcf2a"
      },
      "execution_count": null,
      "outputs": [
        {
          "output_type": "stream",
          "name": "stdout",
          "text": [
            "숫자를 입력하세요 >>ㅣ\n",
            "숫자를 입력하세요\n"
          ]
        }
      ]
    },
    {
      "cell_type": "markdown",
      "source": [
        "# 반복문\n",
        "- 순차 -> for ~ in 컬렉션 자료형:\n",
        "- 범위 -> for ~ in range(시작 까지 간격):\n",
        "- 조건 -> while 조건:"
      ],
      "metadata": {
        "id": "jTBYFcHAmVya"
      }
    },
    {
      "cell_type": "markdown",
      "source": [
        "## 순차에 대한 반복(for ~ in 컬렉션자료형)"
      ],
      "metadata": {
        "id": "m3LdPCGfmib6"
      }
    },
    {
      "cell_type": "code",
      "source": [
        "lstFood = ['라면', '치킨', '피자']\n",
        "lstNum = list(range(1,11))\n",
        "print(lstFood, lstNum)\n",
        "'''\n",
        "# 컬렉션자료형을 순차반복으로 가져오기\n",
        "for item in lstFood:\n",
        "  print(item)\n",
        "'''\n",
        "for i in lstFood:\n",
        "  print(i)\n",
        "\n",
        "#인덱스를 이용해서 가져오기\n",
        "for i in range(len(lstFood)):\n",
        "  print(lstFood[i])"
      ],
      "metadata": {
        "colab": {
          "base_uri": "https://localhost:8080/"
        },
        "id": "nvYtWyvojEOx",
        "outputId": "77245383-8fcd-4507-f9dc-075b87350728"
      },
      "execution_count": null,
      "outputs": [
        {
          "output_type": "stream",
          "name": "stdout",
          "text": [
            "['라면', '치킨', '피자'] [1, 2, 3, 4, 5, 6, 7, 8, 9, 10]\n",
            "라면\n",
            "치킨\n",
            "피자\n",
            "라면\n",
            "치킨\n",
            "피자\n"
          ]
        }
      ]
    },
    {
      "cell_type": "code",
      "source": [
        "list(range(len(lstFood)))"
      ],
      "metadata": {
        "colab": {
          "base_uri": "https://localhost:8080/"
        },
        "id": "cnSVLKDxnh96",
        "outputId": "57c33773-ae1d-4dc1-cf3d-83808313a7fa"
      },
      "execution_count": null,
      "outputs": [
        {
          "output_type": "execute_result",
          "data": {
            "text/plain": [
              "[0, 1, 2]"
            ]
          },
          "metadata": {},
          "execution_count": 15
        }
      ]
    },
    {
      "cell_type": "code",
      "source": [
        "lstNum = list(range(1,11))\n",
        "for i in lstNum:\n",
        "  print(i)"
      ],
      "metadata": {
        "colab": {
          "base_uri": "https://localhost:8080/"
        },
        "id": "p3CdXNh3oHvm",
        "outputId": "e4a7fc16-bf66-447f-f455-0a47f5e84734"
      },
      "execution_count": null,
      "outputs": [
        {
          "output_type": "stream",
          "name": "stdout",
          "text": [
            "1\n",
            "2\n",
            "3\n",
            "4\n",
            "5\n",
            "6\n",
            "7\n",
            "8\n",
            "9\n",
            "10\n"
          ]
        }
      ]
    },
    {
      "cell_type": "code",
      "source": [
        "for i in range(1,6,1):\n",
        "  print(i, end=' ')\n",
        "print()\n",
        "for i in range(1,6):\n",
        "  print(i, end=' ')\n",
        "print()\n",
        "for i in range(6):  # range의 처음을 생략하면 0부터 시작\n",
        "  print(i, end=' ')\n",
        "print()\n",
        "for i in range(1,11,2):\n",
        "  print(i, end='')"
      ],
      "metadata": {
        "colab": {
          "base_uri": "https://localhost:8080/"
        },
        "id": "OPB5m4EZoN3u",
        "outputId": "b6bbc2b2-ba15-4031-f33a-4522f804ed09"
      },
      "execution_count": null,
      "outputs": [
        {
          "output_type": "stream",
          "name": "stdout",
          "text": [
            "1 2 3 4 5 \n",
            "1 2 3 4 5 \n",
            "0 1 2 3 4 5 \n",
            "13579"
          ]
        }
      ]
    },
    {
      "cell_type": "code",
      "source": [
        "# 조건무과 range이용해서 짝수만 출력\n",
        "for i in range(1,11):\n",
        "  if i % 2 == 0:\n",
        "    print(i, end=' ')\n",
        "print()\n",
        "\n",
        "for i in range(2,11,2):\n",
        "  print(i, end=' ')\n",
        "print()\n",
        "\n",
        "for i in range(1,11):\n",
        "  if not i % 2:\n",
        "    print(i, end=' ')\n",
        "print()"
      ],
      "metadata": {
        "colab": {
          "base_uri": "https://localhost:8080/"
        },
        "id": "aAaGJxUBoYvN",
        "outputId": "8c113855-d201-48c2-bd27-af0a9d20c67a"
      },
      "execution_count": null,
      "outputs": [
        {
          "output_type": "stream",
          "name": "stdout",
          "text": [
            "2 4 6 8 10 \n",
            "2 4 6 8 10 \n",
            "2 4 6 8 10 \n"
          ]
        }
      ]
    },
    {
      "cell_type": "markdown",
      "source": [
        "## 반복문 표현식"
      ],
      "metadata": {
        "id": "Zj44pPv6qjxj"
      }
    },
    {
      "cell_type": "code",
      "source": [
        "# 참 for 변수외 in 범위 if 조건\n",
        "print([num for num in range(1,11) if num % 2 == 0])"
      ],
      "metadata": {
        "colab": {
          "base_uri": "https://localhost:8080/"
        },
        "id": "_AXZ7mxGpoEd",
        "outputId": "dea673e1-d0a8-4cb5-d2d2-2666cc350129"
      },
      "execution_count": null,
      "outputs": [
        {
          "output_type": "stream",
          "name": "stdout",
          "text": [
            "[2, 4, 6, 8, 10]\n"
          ]
        }
      ]
    },
    {
      "cell_type": "code",
      "source": [
        "# 1~10 합 구하기\n",
        "sumNum = 0  # 초기값 확인\n",
        "for i in range(11):\n",
        "  sumNum += i\n",
        "  print(f'{i}더하기{sumNum}')\n",
        "print(f'1~10까지의 합 : {sumNum}')"
      ],
      "metadata": {
        "colab": {
          "base_uri": "https://localhost:8080/"
        },
        "id": "qseKecr0qu2G",
        "outputId": "2a65cf62-6351-4c3c-f4b1-46adc3a0bfc8"
      },
      "execution_count": null,
      "outputs": [
        {
          "output_type": "stream",
          "name": "stdout",
          "text": [
            "0더하기0\n",
            "1더하기1\n",
            "2더하기3\n",
            "3더하기6\n",
            "4더하기10\n",
            "5더하기15\n",
            "6더하기21\n",
            "7더하기28\n",
            "8더하기36\n",
            "9더하기45\n",
            "10더하기55\n",
            "1~10까지의 합 : 55\n"
          ]
        }
      ]
    },
    {
      "cell_type": "markdown",
      "source": [
        "## 조건에 대한 반복(while)"
      ],
      "metadata": {
        "id": "-mHmdAYGsHcu"
      }
    },
    {
      "cell_type": "code",
      "source": [
        "# while 조건문 : 초기값 필요\n",
        "# 1부터 10까지 합 구하기\n",
        "\n",
        "# 1. 1 ~ 10 까지 출력\n",
        "num = 0\n",
        "while num < 10:\n",
        "    num += 1  # num = num + 1\n",
        "    print(num, end=' ')\n",
        "print()\n",
        "\n",
        "num = 1\n",
        "while num < 11:\n",
        "    print(num, end=' ')\n",
        "    num += 1  # num = num + 1"
      ],
      "metadata": {
        "colab": {
          "base_uri": "https://localhost:8080/"
        },
        "id": "YkN6XMPhrcgG",
        "outputId": "e5977acd-f15d-4c02-ea37-ee9db066b04f"
      },
      "execution_count": null,
      "outputs": [
        {
          "output_type": "stream",
          "name": "stdout",
          "text": [
            "1 2 3 4 5 6 7 8 9 10 \n",
            "1 2 3 4 5 6 7 8 9 10 "
          ]
        }
      ]
    },
    {
      "cell_type": "code",
      "source": [
        "# 2. 합계변수 이용해서 누적\n",
        "sumNum = 0\n",
        "num = 0\n",
        "while num < 10:\n",
        "    print(sumNum, end=\" \")\n",
        "    num += 1        # num = num + 1\n",
        "    sumNum += num   # sumNum = sumNum + num\n",
        "    print(f\"+ {num}  = {sumNum}\")\n",
        "\n",
        "print('-'*25)\n",
        "\n",
        "print(f\"1~10까지의 합은 {sumNum}이다.\")"
      ],
      "metadata": {
        "colab": {
          "base_uri": "https://localhost:8080/"
        },
        "id": "gLpGDbYrscmG",
        "outputId": "ec7771a2-edb1-47fd-a995-318c4ef6c010"
      },
      "execution_count": null,
      "outputs": [
        {
          "output_type": "stream",
          "name": "stdout",
          "text": [
            "0 + 1  = 1\n",
            "1 + 2  = 3\n",
            "3 + 3  = 6\n",
            "6 + 4  = 10\n",
            "10 + 5  = 15\n",
            "15 + 6  = 21\n",
            "21 + 7  = 28\n",
            "28 + 8  = 36\n",
            "36 + 9  = 45\n",
            "45 + 10  = 55\n",
            "-------------------------\n",
            "1~10까지의 합은 55이다.\n"
          ]
        }
      ]
    },
    {
      "cell_type": "markdown",
      "source": [
        "## 반복문 제어(break, continue)\n",
        "- break : 빠져나가기\n",
        "- continue : 건너뛰기"
      ],
      "metadata": {
        "id": "dZCAgRFWv4Ry"
      }
    },
    {
      "cell_type": "code",
      "source": [
        "# 1~ 10 짝수 출력\n",
        "num = 0\n",
        "while num < 10:\n",
        "    num += 1\n",
        "    if num % 2 !=0:   # 2나누어 떨어지지 않으면 홀수\n",
        "        continue      # 중간에 주석처리 ==> 드래그하고 ctrl + k, c/ 해제 ctrl + k, u\n",
        "    print(num, end=\" \")"
      ],
      "metadata": {
        "colab": {
          "base_uri": "https://localhost:8080/"
        },
        "id": "IOOPq1cDtwo3",
        "outputId": "e751bdf0-3fe5-47d1-86c8-2a8c6faf1b70"
      },
      "execution_count": null,
      "outputs": [
        {
          "output_type": "stream",
          "name": "stdout",
          "text": [
            "2 4 6 8 10 "
          ]
        }
      ]
    },
    {
      "cell_type": "code",
      "source": [
        "# 1부터 10까지 짝수 출력-무한반복\n",
        "num= 0\n",
        "\n",
        "while True: # 무한반복\n",
        "    num += 1\n",
        "    if num % 2 !=0:  # 2로 나누어서 떨어지지 않으면 (홀수)\n",
        "        continue # 건너뛰기\n",
        "    print(num, end= ' ')\n",
        "\n",
        "    # 반복 멈출 조건\n",
        "    if num > 9:\n",
        "        break  # 빠져나가기 (탈출)"
      ],
      "metadata": {
        "colab": {
          "base_uri": "https://localhost:8080/"
        },
        "id": "huRsWftuBp-n",
        "outputId": "48552074-891e-4a2f-fb49-66420744da6c"
      },
      "execution_count": null,
      "outputs": [
        {
          "output_type": "stream",
          "name": "stdout",
          "text": [
            "2 4 6 8 10 "
          ]
        }
      ]
    },
    {
      "cell_type": "markdown",
      "source": [
        "## 중첩반복문"
      ],
      "metadata": {
        "id": "WH2LqzPZBmpr"
      }
    },
    {
      "cell_type": "code",
      "source": [
        "# 2~4단 구구단(for)\n",
        "# 1. 곱해지는 단 설정\n",
        "for i in range(2,5):\n",
        "  print(f'{i}*j={i}*j')"
      ],
      "metadata": {
        "colab": {
          "base_uri": "https://localhost:8080/"
        },
        "id": "6K8i7yd4wCWn",
        "outputId": "c52c3c8f-a455-4507-d075-6c34b41a79ed"
      },
      "execution_count": null,
      "outputs": [
        {
          "output_type": "stream",
          "name": "stdout",
          "text": [
            "2*j=2*j\n",
            "3*j=3*j\n",
            "4*j=4*j\n"
          ]
        }
      ]
    },
    {
      "cell_type": "code",
      "source": [
        "# 2. 단에 곱해지는 수 설정\n",
        "for dan in range(2,5):\n",
        "  for num in range(1,10):\n",
        "    print(f'{dan} * {num} = {dan * num}')\n",
        "  print('=' * 10)"
      ],
      "metadata": {
        "colab": {
          "base_uri": "https://localhost:8080/"
        },
        "id": "ggrelOe1C-V-",
        "outputId": "a9d43f83-9d94-4fa3-9f39-4dad4d850d94"
      },
      "execution_count": null,
      "outputs": [
        {
          "output_type": "stream",
          "name": "stdout",
          "text": [
            "2 * 1 = 2\n",
            "2 * 2 = 4\n",
            "2 * 3 = 6\n",
            "2 * 4 = 8\n",
            "2 * 5 = 10\n",
            "2 * 6 = 12\n",
            "2 * 7 = 14\n",
            "2 * 8 = 16\n",
            "2 * 9 = 18\n",
            "==========\n",
            "3 * 1 = 3\n",
            "3 * 2 = 6\n",
            "3 * 3 = 9\n",
            "3 * 4 = 12\n",
            "3 * 5 = 15\n",
            "3 * 6 = 18\n",
            "3 * 7 = 21\n",
            "3 * 8 = 24\n",
            "3 * 9 = 27\n",
            "==========\n",
            "4 * 1 = 4\n",
            "4 * 2 = 8\n",
            "4 * 3 = 12\n",
            "4 * 4 = 16\n",
            "4 * 5 = 20\n",
            "4 * 6 = 24\n",
            "4 * 7 = 28\n",
            "4 * 8 = 32\n",
            "4 * 9 = 36\n",
            "==========\n"
          ]
        }
      ]
    },
    {
      "cell_type": "code",
      "source": [
        "# 별찍기\n",
        "for i in range(5):\n",
        "  for j in range(i+1):\n",
        "    print('*', end=' ')\n",
        "  print()"
      ],
      "metadata": {
        "colab": {
          "base_uri": "https://localhost:8080/"
        },
        "id": "mAiH79vuDPmE",
        "outputId": "c2efbe73-979c-4a0b-8e60-40afb6329138"
      },
      "execution_count": null,
      "outputs": [
        {
          "output_type": "stream",
          "name": "stdout",
          "text": [
            "* \n",
            "* * \n",
            "* * * \n",
            "* * * * \n",
            "* * * * * \n"
          ]
        }
      ]
    },
    {
      "cell_type": "code",
      "source": [
        "for i in range(5):\n",
        "  for j in range(5-i):\n",
        "    print('*', end=' ')\n",
        "  print()"
      ],
      "metadata": {
        "colab": {
          "base_uri": "https://localhost:8080/"
        },
        "id": "kDGY4J-kEBpx",
        "outputId": "64ce263d-2949-40d5-d1d9-f1cc206e1df7"
      },
      "execution_count": null,
      "outputs": [
        {
          "output_type": "stream",
          "name": "stdout",
          "text": [
            "* * * * * \n",
            "* * * * \n",
            "* * * \n",
            "* * \n",
            "* \n"
          ]
        }
      ]
    },
    {
      "cell_type": "markdown",
      "source": [
        "## 내장함수 zip\n",
        "zip(컬렉션자료형1, 자료형2, 자료형 3)"
      ],
      "metadata": {
        "id": "_SS7g3ynGwg-"
      }
    },
    {
      "cell_type": "code",
      "source": [
        "num = [2, 4, 1, 5]\n",
        "name =['철수','영희','민수','세나']\n",
        "score = [80, 60, 70, 90]"
      ],
      "metadata": {
        "id": "f2D0eKfXFmdT"
      },
      "execution_count": null,
      "outputs": []
    },
    {
      "cell_type": "code",
      "source": [
        "for result in zip(num, name, score):\n",
        "  print(result)"
      ],
      "metadata": {
        "colab": {
          "base_uri": "https://localhost:8080/"
        },
        "id": "k0f3cBJ8HttE",
        "outputId": "bc93d191-57f1-47f6-ed44-a73cd2e69a3c"
      },
      "execution_count": null,
      "outputs": [
        {
          "output_type": "stream",
          "name": "stdout",
          "text": [
            "(2, '철수', 80)\n",
            "(4, '영희', 60)\n",
            "(1, '민수', 70)\n",
            "(5, '세나', 90)\n"
          ]
        }
      ]
    },
    {
      "cell_type": "code",
      "source": [
        "for result in zip(num, name, score):\n",
        "  result = list(result)\n",
        "  print(result)"
      ],
      "metadata": {
        "colab": {
          "base_uri": "https://localhost:8080/"
        },
        "id": "1il4zc_HHylV",
        "outputId": "dc222a09-50d0-4f99-81e5-1bb8b946ca73"
      },
      "execution_count": null,
      "outputs": [
        {
          "output_type": "stream",
          "name": "stdout",
          "text": [
            "[2, '철수', 80]\n",
            "[4, '영희', 60]\n",
            "[1, '민수', 70]\n",
            "[5, '세나', 90]\n"
          ]
        }
      ]
    },
    {
      "cell_type": "code",
      "source": [
        "stdInfo = [[2,'철수',80],\n",
        "           [4,'영희',60],\n",
        "           [1,'민수',70],\n",
        "           [5,'세나',90]]\n",
        "# 언패킹 연산자: unzip -> zip(*컬렉션자료형)\n",
        "num, name, score = zip(*stdInfo)\n",
        "print(num)\n",
        "print(name)\n",
        "print(score)\n",
        "print(list(num))\n",
        "print(list(name))\n",
        "print(list(score))"
      ],
      "metadata": {
        "colab": {
          "base_uri": "https://localhost:8080/"
        },
        "id": "aHJu7hg0H3eU",
        "outputId": "0b09cc33-2a82-4a9e-f376-36109f78434c"
      },
      "execution_count": null,
      "outputs": [
        {
          "output_type": "stream",
          "name": "stdout",
          "text": [
            "(2, 4, 1, 5)\n",
            "('철수', '영희', '민수', '세나')\n",
            "(80, 60, 70, 90)\n",
            "[2, 4, 1, 5]\n",
            "['철수', '영희', '민수', '세나']\n",
            "[80, 60, 70, 90]\n"
          ]
        }
      ]
    },
    {
      "cell_type": "code",
      "source": [],
      "metadata": {
        "id": "PJaWz0NmJAp8"
      },
      "execution_count": null,
      "outputs": []
    }
  ]
}