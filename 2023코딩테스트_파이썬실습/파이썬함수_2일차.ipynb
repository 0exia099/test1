{
  "nbformat": 4,
  "nbformat_minor": 0,
  "metadata": {
    "colab": {
      "provenance": []
    },
    "kernelspec": {
      "name": "python3",
      "display_name": "Python 3"
    },
    "language_info": {
      "name": "python"
    }
  },
  "cells": [
    {
      "cell_type": "markdown",
      "source": [
        "# 함수"
      ],
      "metadata": {
        "id": "xEcKiuepKJ-9"
      }
    },
    {
      "cell_type": "code",
      "source": [
        "'''\n",
        "def 함수명(매개변수=입력변수, 매개변수....):\n",
        "    명령\n",
        "    ...\n",
        "    \n",
        "    return 출력변수 또는 값\n",
        "'''"
      ],
      "metadata": {
        "colab": {
          "base_uri": "https://localhost:8080/",
          "height": 36
        },
        "id": "j0elEgeCLs-u",
        "outputId": "f4e93949-3406-4247-f8df-715d6f5f5d65"
      },
      "execution_count": null,
      "outputs": [
        {
          "output_type": "execute_result",
          "data": {
            "text/plain": [
              "'\\ndef 함수명(매개변수=입력변수, 매개변수....):\\n    명령\\n    ...\\n    \\n    return 출력변수 또는 값\\n'"
            ],
            "application/vnd.google.colaboratory.intrinsic+json": {
              "type": "string"
            }
          },
          "metadata": {},
          "execution_count": 4
        }
      ]
    },
    {
      "cell_type": "code",
      "execution_count": null,
      "metadata": {
        "id": "ROZJ1UGqJe6D"
      },
      "outputs": [],
      "source": [
        "# 함수 선언 또는 정의\n",
        "def adder(a, b):\n",
        "  return a+b"
      ]
    },
    {
      "cell_type": "code",
      "source": [
        "# 함수 호출 또는 사용\n",
        "adder(1234,4321)"
      ],
      "metadata": {
        "colab": {
          "base_uri": "https://localhost:8080/"
        },
        "id": "6UYizp1-KhjO",
        "outputId": "2911bc91-d6b5-44a7-8f52-b5c4a0d1a9c4"
      },
      "execution_count": null,
      "outputs": [
        {
          "output_type": "execute_result",
          "data": {
            "text/plain": [
              "5555"
            ]
          },
          "metadata": {},
          "execution_count": 2
        }
      ]
    },
    {
      "cell_type": "code",
      "source": [
        "print(adder(12,34))\n",
        "print(adder(123,234))"
      ],
      "metadata": {
        "colab": {
          "base_uri": "https://localhost:8080/"
        },
        "id": "La3b912vK7xV",
        "outputId": "1ccaf735-70b8-491b-dbf3-7fe7b0754101"
      },
      "execution_count": null,
      "outputs": [
        {
          "output_type": "stream",
          "name": "stdout",
          "text": [
            "46\n",
            "357\n"
          ]
        }
      ]
    },
    {
      "cell_type": "code",
      "source": [
        "## 입력값의 형태"
      ],
      "metadata": {
        "id": "JXMUQsdTLAEF"
      },
      "execution_count": null,
      "outputs": []
    },
    {
      "cell_type": "code",
      "source": [
        "def hi():\n",
        "  return '안녕'\n",
        "hi()"
      ],
      "metadata": {
        "colab": {
          "base_uri": "https://localhost:8080/",
          "height": 36
        },
        "id": "QLyUCdzkL1ai",
        "outputId": "781cf48d-c563-4d7a-d1fa-dc9cb980525f"
      },
      "execution_count": null,
      "outputs": [
        {
          "output_type": "execute_result",
          "data": {
            "text/plain": [
              "'안녕'"
            ],
            "application/vnd.google.colaboratory.intrinsic+json": {
              "type": "string"
            }
          },
          "metadata": {},
          "execution_count": 6
        }
      ]
    },
    {
      "cell_type": "code",
      "source": [
        "# 출력 값이 없는 경우\n",
        "def sub(a, b):\n",
        "    print(\"%d - %d = %d\" % (a, b, a-b))  #형식%변수\n",
        "sub(10, 7)"
      ],
      "metadata": {
        "colab": {
          "base_uri": "https://localhost:8080/"
        },
        "id": "F9lQgcYQMgYs",
        "outputId": "a5846f80-800d-457d-aa9b-fd72c9a58724"
      },
      "execution_count": null,
      "outputs": [
        {
          "output_type": "stream",
          "name": "stdout",
          "text": [
            "10 - 7 = 3\n"
          ]
        }
      ]
    },
    {
      "cell_type": "code",
      "source": [
        "# 입출력 둘다 없는 경우\n",
        "def ok():\n",
        "  print('OK')\n",
        "\n",
        "ok()"
      ],
      "metadata": {
        "colab": {
          "base_uri": "https://localhost:8080/"
        },
        "id": "2Nrh99ALMnp0",
        "outputId": "2e5d5a6e-5e40-42b1-9e91-0d68b082c2ef"
      },
      "execution_count": null,
      "outputs": [
        {
          "output_type": "stream",
          "name": "stdout",
          "text": [
            "OK\n"
          ]
        }
      ]
    },
    {
      "cell_type": "code",
      "source": [
        "# 기본 인자 함수\n",
        "def sum_score(math:int, eng, sci=50,music=20):\n",
        "    print(f\"math={math}, eng={eng}, sci={sci}, music={music}\")\n",
        "    return math+eng+sci+music\n",
        "\n",
        "# 기본 키워드 인자 함수\n",
        "def key_sum_score(math, eng, sci, music):\n",
        "    print(f\"math={math}, eng={eng}, sci={sci}, music={music}\")\n",
        "    return math+eng+sci+music\n",
        "\n",
        "print(sum_score(50,70,80,40))\n",
        "print(sum_score(50,70,80)) # 기본값이 있는 인자는 생략이 가능\n",
        "print(sum_score(80, 95))\n",
        "print(key_sum_score(eng=90, math=50, sci=60, music=100))"
      ],
      "metadata": {
        "colab": {
          "base_uri": "https://localhost:8080/"
        },
        "id": "SjugqWawMx46",
        "outputId": "d2d35a66-dbfb-4255-b1e9-51e9416c386f"
      },
      "execution_count": null,
      "outputs": [
        {
          "output_type": "stream",
          "name": "stdout",
          "text": [
            "math=50, eng=70, sci=80, music=40\n",
            "240\n",
            "math=50, eng=70, sci=80, music=20\n",
            "220\n",
            "math=80, eng=95, sci=50, music=20\n",
            "245\n",
            "math=50, eng=90, sci=60, music=100\n",
            "300\n"
          ]
        }
      ]
    },
    {
      "cell_type": "code",
      "source": [
        "## 가변 인자/키워드 인자 함수 형태\n",
        "# 가변 인자(인자의 갯수가 정해지지 않음)\n",
        "def sumNums(*nums): # *nums : 튜플\n",
        "  print(f'sumNums() -> {nums}')\n",
        "  print(f'sumNums() type -> {type(sumNums)}')\n",
        "  result = 0\n",
        "  for num in nums:\n",
        "    result += num\n",
        "  return result"
      ],
      "metadata": {
        "id": "AdAeQuyvRXZN"
      },
      "execution_count": null,
      "outputs": []
    },
    {
      "cell_type": "code",
      "source": [
        "# 함수 호출\n",
        "print(f'합계 : {sumNums(1,3,5,6,10)}')\n",
        "print(f'합계 : {sumNums(3,5)}')"
      ],
      "metadata": {
        "colab": {
          "base_uri": "https://localhost:8080/"
        },
        "id": "Bn5LTUX6SldQ",
        "outputId": "33ddfabd-b135-41ec-def5-247bb22303bd"
      },
      "execution_count": null,
      "outputs": [
        {
          "output_type": "stream",
          "name": "stdout",
          "text": [
            "sumNums() -> (1, 3, 5, 6, 10)\n",
            "sumNums() type -> <class 'function'>\n",
            "합계 : 25\n",
            "sumNums() -> (3, 5)\n",
            "sumNums() type -> <class 'function'>\n",
            "합계 : 8\n"
          ]
        }
      ]
    },
    {
      "cell_type": "code",
      "source": [
        "# 가변 키워드 인자\n",
        "def key_sum_score2(**score):  # **score : 딕셔너리\n",
        "  print(f'score -> {score}')\n",
        "  print(f'score type -> {type(score)}')\n",
        "  sumScore = 0\n",
        "  for sub, jumsu in score.items():  # dict.items() -> (k, v)\n",
        "    sumScore += jumsu\n",
        "  return sumScore, tuple(score.keys())\n",
        "\n",
        "suJumsu, sub = key_sum_score2(eng=80, math=50, sci=90)\n",
        "print(suJumsu, sub)"
      ],
      "metadata": {
        "colab": {
          "base_uri": "https://localhost:8080/"
        },
        "id": "h3Cru8SqSr9o",
        "outputId": "07a97b1c-e4fe-4faa-e371-6e7efcc9c05a"
      },
      "execution_count": null,
      "outputs": [
        {
          "output_type": "stream",
          "name": "stdout",
          "text": [
            "score -> {'eng': 80, 'math': 50, 'sci': 90}\n",
            "score type -> <class 'dict'>\n",
            "220 ('eng', 'math', 'sci')\n"
          ]
        }
      ]
    },
    {
      "cell_type": "markdown",
      "source": [
        "## 내장함수 print() - 옵션(sep, end)"
      ],
      "metadata": {
        "id": "nMo0rBl_Vdo5"
      }
    },
    {
      "cell_type": "code",
      "source": [
        "y, m, d, day = '2023','01','03','화'\n",
        "print(y, m, d)\n",
        "print(day)\n",
        "print(y, m, d, sep='/', end='\\t')\n",
        "print(day)\n",
        "print(y,m,d,end='\\t', sep=',')\n",
        "print(day)\n",
        "#print(y,m,end='\\t', sep='/', d)  #기본인자 다음에 키워드 인자가 올 수 있다."
      ],
      "metadata": {
        "colab": {
          "base_uri": "https://localhost:8080/"
        },
        "id": "S5vjvahjUwdG",
        "outputId": "afe8102f-bd1b-42e5-e812-9c64462aeedf"
      },
      "execution_count": null,
      "outputs": [
        {
          "output_type": "stream",
          "name": "stdout",
          "text": [
            "2023 01 03\n",
            "화\n",
            "2023/01/03\t화\n",
            "2023,01,03\t화\n"
          ]
        }
      ]
    },
    {
      "cell_type": "code",
      "source": [
        "def price(**kwargs):\n",
        "  print(kwargs)\n",
        "  for k,v in kwargs.items():\n",
        "    print(f'{k}의 가격은 {v}원 입니다.')\n",
        "\n",
        "price(cola=1000, hotdog=3000, coffee=1500)"
      ],
      "metadata": {
        "colab": {
          "base_uri": "https://localhost:8080/"
        },
        "id": "VCNWHMv-WPT2",
        "outputId": "01e8f724-58bd-4d86-a5e3-b2bffe2d6f4f"
      },
      "execution_count": null,
      "outputs": [
        {
          "output_type": "stream",
          "name": "stdout",
          "text": [
            "{'cola': 1000, 'hotdog': 3000, 'coffee': 1500}\n",
            "cola의 가격은 1000원 입니다.\n",
            "hotdog의 가격은 3000원 입니다.\n",
            "coffee의 가격은 1500원 입니다.\n"
          ]
        }
      ]
    },
    {
      "cell_type": "markdown",
      "source": [
        "# 지역변수와 전역변수"
      ],
      "metadata": {
        "id": "QdE6gReMYw89"
      }
    },
    {
      "cell_type": "code",
      "source": [
        "a = 1"
      ],
      "metadata": {
        "id": "QMC-MSphZL6H"
      },
      "execution_count": null,
      "outputs": []
    },
    {
      "cell_type": "code",
      "source": [
        "def check(args):\n",
        "  a = args  #지역변수\n",
        "  b = 2\n",
        "  print('check() -> a=',a)"
      ],
      "metadata": {
        "id": "lVWcS_SfX9GM"
      },
      "execution_count": null,
      "outputs": []
    },
    {
      "cell_type": "code",
      "source": [
        "print('함수호출 전 : a=', a)\n",
        "check(3)\n",
        "print('함수호출 후 : a=', a)  # 지역변수로 외부의 전역변수 접근 불가\n",
        "#print(b)  # 지역변수는 외부에서도 사용불가"
      ],
      "metadata": {
        "colab": {
          "base_uri": "https://localhost:8080/"
        },
        "id": "gFz40xXEZOPJ",
        "outputId": "1d986400-1dcc-4a20-dfe8-ac044350f62a"
      },
      "execution_count": null,
      "outputs": [
        {
          "output_type": "stream",
          "name": "stdout",
          "text": [
            "함수호출 전 : a= 1\n",
            "check() -> a= 3\n",
            "함수호출 후 : a= 1\n"
          ]
        }
      ]
    },
    {
      "cell_type": "code",
      "source": [
        "a = 1 # 전역변수\n",
        "def check(args):\n",
        "  global a, b #전역변수 선언\n",
        "  a = a + 10\n",
        "  b = 2\n",
        "  print('check() -> a=',a)\n",
        "\n",
        "print('함수호출 전 : a=', a)\n",
        "check(3)\n",
        "print('함수호출 후 : a=', a)\n",
        "print(b)  # 전역변수는 외부에서도 사용가능"
      ],
      "metadata": {
        "colab": {
          "base_uri": "https://localhost:8080/"
        },
        "id": "a4N6PJL6ZeTZ",
        "outputId": "bc1abadd-5b23-4d05-b1c4-c90f52fa3b16"
      },
      "execution_count": null,
      "outputs": [
        {
          "output_type": "stream",
          "name": "stdout",
          "text": [
            "함수호출 전 : a= 1\n",
            "check() -> a= 11\n",
            "함수호출 후 : a= 11\n",
            "2\n"
          ]
        }
      ]
    },
    {
      "cell_type": "markdown",
      "source": [
        "## 람다함수(익명함수)"
      ],
      "metadata": {
        "id": "PMzB1gFhddKQ"
      }
    },
    {
      "cell_type": "code",
      "source": [
        "# 람다 표현식\n",
        "# (lambda 매개변수 : 결과 = 반환값)(호출인자)\n",
        "(lambda x, y : x + y)(12,34)"
      ],
      "metadata": {
        "colab": {
          "base_uri": "https://localhost:8080/"
        },
        "id": "mit4yGYcag6z",
        "outputId": "e1ecc86d-0439-4759-fae1-21431fbe15d9"
      },
      "execution_count": null,
      "outputs": [
        {
          "output_type": "execute_result",
          "data": {
            "text/plain": [
              "46"
            ]
          },
          "metadata": {},
          "execution_count": 26
        }
      ]
    },
    {
      "cell_type": "code",
      "source": [
        "def plus_one(x):\n",
        "  return x + 1\n",
        "print(plus_one(23))"
      ],
      "metadata": {
        "colab": {
          "base_uri": "https://localhost:8080/"
        },
        "id": "B7utUgmGeUFS",
        "outputId": "05465f99-f18e-4522-87c3-26c46ad139be"
      },
      "execution_count": null,
      "outputs": [
        {
          "output_type": "stream",
          "name": "stdout",
          "text": [
            "24\n"
          ]
        }
      ]
    },
    {
      "cell_type": "code",
      "source": [
        "# 람다표현식\n",
        "# (lambda 매개변수 : 결과 = 반환값)(호출인자)\n",
        "plus1 = (lambda x : x + 1)(23)\n",
        "print(plus1)"
      ],
      "metadata": {
        "colab": {
          "base_uri": "https://localhost:8080/"
        },
        "id": "whca92T1eeU5",
        "outputId": "bc87bf69-3e93-4d39-c810-d5afea8ee3a6"
      },
      "execution_count": null,
      "outputs": [
        {
          "output_type": "stream",
          "name": "stdout",
          "text": [
            "24\n"
          ]
        }
      ]
    },
    {
      "cell_type": "code",
      "source": [
        "# x : x + 2\n",
        "plus2 = lambda x : x + 2\n",
        "plus2(35)"
      ],
      "metadata": {
        "colab": {
          "base_uri": "https://localhost:8080/"
        },
        "id": "lS1W4HQxe1vc",
        "outputId": "5aa5113f-eb85-49dd-cb35-f644413bae1a"
      },
      "execution_count": null,
      "outputs": [
        {
          "output_type": "execute_result",
          "data": {
            "text/plain": [
              "37"
            ]
          },
          "metadata": {},
          "execution_count": 32
        }
      ]
    },
    {
      "cell_type": "code",
      "source": [
        "# 특정 x값에 더하기 3 람다함수식 만들기\n",
        "plus3 = lambda x : x + 3\n",
        "plus3(123)"
      ],
      "metadata": {
        "colab": {
          "base_uri": "https://localhost:8080/"
        },
        "id": "XHCrv63Xfj68",
        "outputId": "5ae2b377-45f6-492b-815b-d9a668d18151"
      },
      "execution_count": null,
      "outputs": [
        {
          "output_type": "execute_result",
          "data": {
            "text/plain": [
              "126"
            ]
          },
          "metadata": {},
          "execution_count": 33
        }
      ]
    },
    {
      "cell_type": "markdown",
      "source": [
        "## 람다함수와 map() filter()\n",
        "- map(함수, 컬렉션 자료형) : 각각의 요소에 해당하는 함수 적용\n",
        "- filter(함수, 컬렉션 자료형) : 각각의 요소에 해당 함수 적용하여 걸러진 데이터만 출력(참, 거짓을 체크)"
      ],
      "metadata": {
        "id": "cSAFrvjHf8GC"
      }
    },
    {
      "cell_type": "code",
      "source": [
        "a = [5,2,3,12,15]\n",
        "list(map(lambda x : x + 1, a))"
      ],
      "metadata": {
        "colab": {
          "base_uri": "https://localhost:8080/"
        },
        "id": "W8k07csHf6zN",
        "outputId": "4a59d51e-57b0-4f2c-ae2b-4ca873541144"
      },
      "execution_count": null,
      "outputs": [
        {
          "output_type": "execute_result",
          "data": {
            "text/plain": [
              "[6, 3, 4, 13, 16]"
            ]
          },
          "metadata": {},
          "execution_count": 34
        }
      ]
    },
    {
      "cell_type": "code",
      "source": [
        "# 1~10 짝수만 구하기\n",
        "# range(1,11)\n",
        "# filter 참 거짓\n",
        "\n",
        "# 홀수\n",
        "print(list(map(lambda x : x%2, range(1,11))))\n",
        "# 2로 나누어서 나머지 값만 리스트 출력\n",
        "print(list(filter(lambda x : x%2, range(1,11))))\n",
        "# 짝수\n",
        "print(list(map(lambda x : x%2 == 0, range(1,11))))\n",
        "# 2로 나누어서 나머지 값만 리스트 출력\n",
        "print(list(filter(lambda x : x%2 == 0, range(1,11))))\n",
        "print(list(filter(lambda x : x%2 != 1, range(1,11))))\n",
        "print(list(filter(lambda x : not x%2, range(1,11))))\n",
        "print(list(filter(lambda x : ~ x%2, range(1,11))))"
      ],
      "metadata": {
        "colab": {
          "base_uri": "https://localhost:8080/"
        },
        "id": "2KRUWS26gw7l",
        "outputId": "45b1c13f-df65-4bde-dd59-a431cd0d55e7"
      },
      "execution_count": null,
      "outputs": [
        {
          "output_type": "stream",
          "name": "stdout",
          "text": [
            "[1, 0, 1, 0, 1, 0, 1, 0, 1, 0]\n",
            "[1, 3, 5, 7, 9]\n",
            "[False, True, False, True, False, True, False, True, False, True]\n",
            "[2, 4, 6, 8, 10]\n",
            "[2, 4, 6, 8, 10]\n",
            "[2, 4, 6, 8, 10]\n",
            "[2, 4, 6, 8, 10]\n"
          ]
        }
      ]
    },
    {
      "cell_type": "code",
      "source": [
        "# filter(람다조건, 리스트)\n",
        "# 4의 배수만 반환\n",
        "lstNum = [13,4,20,35,78,100]\n",
        "print(list(filter(lambda x : x%4 == 0, lstNum)))"
      ],
      "metadata": {
        "colab": {
          "base_uri": "https://localhost:8080/"
        },
        "id": "cf0M6ZcmhQ3t",
        "outputId": "b2515a44-4233-44b6-d62e-0c2c9825876f"
      },
      "execution_count": null,
      "outputs": [
        {
          "output_type": "stream",
          "name": "stdout",
          "text": [
            "[4, 20, 100]\n"
          ]
        }
      ]
    },
    {
      "cell_type": "markdown",
      "source": [
        "## 람다함수와 sorted(), sort()\n",
        "- sorted() : 원본유지, 정렬값만 반환\n",
        "- list.sort() : 원본 직접 수정, 반환값 None"
      ],
      "metadata": {
        "id": "xno4pQhZjjW_"
      }
    },
    {
      "cell_type": "code",
      "source": [
        "nums = [5,2,3,1,4]\n",
        "print(nums)\n",
        "\n",
        "sortN = nums.sort()\n",
        "print(nums) # 원본 정렬됨\n",
        "print(sortN)  # 별도의 변수로 저장되지 않음"
      ],
      "metadata": {
        "colab": {
          "base_uri": "https://localhost:8080/"
        },
        "id": "9ZO_IhBfitlS",
        "outputId": "45af829f-a0d8-4612-8178-458f6c73a9bd"
      },
      "execution_count": null,
      "outputs": [
        {
          "output_type": "stream",
          "name": "stdout",
          "text": [
            "[5, 2, 3, 1, 4]\n",
            "[1, 2, 3, 4, 5]\n",
            "None\n"
          ]
        }
      ]
    },
    {
      "cell_type": "code",
      "source": [
        "nums = [5,2,3,1,4]\n",
        "print(nums)"
      ],
      "metadata": {
        "colab": {
          "base_uri": "https://localhost:8080/"
        },
        "id": "bn46R0QQj8VS",
        "outputId": "b762a411-b533-4470-de4d-09e4ba52cb29"
      },
      "execution_count": null,
      "outputs": [
        {
          "output_type": "stream",
          "name": "stdout",
          "text": [
            "[5, 2, 3, 1, 4]\n"
          ]
        }
      ]
    },
    {
      "cell_type": "code",
      "source": [
        "sortedN = sorted(nums)\n",
        "print(nums) # 원본 정렬되지 않음\n",
        "print(sortedN)  #반환값 있어 변수에 저장이 된다."
      ],
      "metadata": {
        "colab": {
          "base_uri": "https://localhost:8080/"
        },
        "id": "_ojmYKybkp1y",
        "outputId": "09da50d6-3052-4291-885a-48e9775b3be3"
      },
      "execution_count": null,
      "outputs": [
        {
          "output_type": "stream",
          "name": "stdout",
          "text": [
            "[5, 2, 3, 1, 4]\n",
            "[1, 2, 3, 4, 5]\n"
          ]
        }
      ]
    },
    {
      "cell_type": "code",
      "source": [
        "nums = [5,2,3,1,4]\n",
        "# 원본 유지하고 정렬값 구할 때\n",
        "print(sorted(nums))\n",
        "\n",
        "# 원본 정렬된걸로 변경\n",
        "nums.sort()\n",
        "print(nums)"
      ],
      "metadata": {
        "colab": {
          "base_uri": "https://localhost:8080/"
        },
        "id": "TxzA_rxlkvhV",
        "outputId": "2d59d932-31bf-4fbf-813c-63ef6645aec2"
      },
      "execution_count": null,
      "outputs": [
        {
          "output_type": "stream",
          "name": "stdout",
          "text": [
            "[1, 2, 3, 4, 5]\n",
            "[1, 2, 3, 4, 5]\n"
          ]
        }
      ]
    },
    {
      "cell_type": "code",
      "source": [
        "# 1. 원본유지하고 정렬값 구할 때\n",
        "nums = [5, 2, 3, 1, 4]\n",
        "print(f\"원본 = {nums}\")\n",
        "numsSorted = sorted(nums)\n",
        "print(f\"변경 = {numsSorted}\")\n",
        "\n",
        "# 2. 원본변경하고 정렬값 구할 때\n",
        "nums = [5, 2, 3, 1, 4]\n",
        "print(f\"원본 = {nums}\")\n",
        "nums.sort()\n",
        "print(f\"변경 = {nums}\")"
      ],
      "metadata": {
        "colab": {
          "base_uri": "https://localhost:8080/"
        },
        "id": "CPTFnuVelcHV",
        "outputId": "0bcfccab-4233-45fc-e0e1-69ed71657c3d"
      },
      "execution_count": null,
      "outputs": [
        {
          "output_type": "stream",
          "name": "stdout",
          "text": [
            "원본 = [5, 2, 3, 1, 4]\n",
            "변경 = [1, 2, 3, 4, 5]\n",
            "원본 = [5, 2, 3, 1, 4]\n",
            "변경 = [1, 2, 3, 4, 5]\n"
          ]
        }
      ]
    },
    {
      "cell_type": "code",
      "source": [
        "# 람다함수와 sorted()\n",
        "# 문자열 길이 기준으로 정렬\n",
        "lstStr = ['my', 'name', 'is', 'y']\n",
        "print(len(lstStr))\n",
        "print(sorted(lstStr, key=lambda x : len(x)))"
      ],
      "metadata": {
        "colab": {
          "base_uri": "https://localhost:8080/"
        },
        "id": "TqSMpx4MmEIp",
        "outputId": "b7e5efde-2910-4d56-fab5-3d1bb4512105"
      },
      "execution_count": null,
      "outputs": [
        {
          "output_type": "stream",
          "name": "stdout",
          "text": [
            "4\n",
            "['y', 'my', 'is', 'name']\n"
          ]
        }
      ]
    },
    {
      "cell_type": "code",
      "source": [
        "# 리스트의 인덱스로 정렬\n",
        "menu = [['핫도그', 1800],\n",
        "        ['컵라면', 1500],\n",
        "        ['콜라', 1000],\n",
        "        ['커피', 2000]]\n",
        "\n",
        "print(sorted(menu, key=lambda x:x[1]))"
      ],
      "metadata": {
        "colab": {
          "base_uri": "https://localhost:8080/"
        },
        "id": "FMBLuJsfm8Pm",
        "outputId": "30d94e3a-0ead-4456-96e2-144778dcad3a"
      },
      "execution_count": null,
      "outputs": [
        {
          "output_type": "stream",
          "name": "stdout",
          "text": [
            "[['콜라', 1000], ['컵라면', 1500], ['핫도그', 1800], ['커피', 2000]]\n"
          ]
        }
      ]
    },
    {
      "cell_type": "code",
      "source": [],
      "metadata": {
        "id": "QGmJ_SSonygF"
      },
      "execution_count": null,
      "outputs": []
    }
  ]
}