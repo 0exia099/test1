{
  "nbformat": 4,
  "nbformat_minor": 0,
  "metadata": {
    "colab": {
      "provenance": []
    },
    "kernelspec": {
      "name": "python3",
      "display_name": "Python 3"
    },
    "language_info": {
      "name": "python"
    }
  },
  "cells": [
    {
      "cell_type": "markdown",
      "source": [
        "# 질의응답"
      ],
      "metadata": {
        "id": "a3S0pUCUigpW"
      }
    },
    {
      "cell_type": "code",
      "execution_count": null,
      "metadata": {
        "colab": {
          "base_uri": "https://localhost:8080/"
        },
        "id": "0j1_UEfvZzqF",
        "outputId": "08277877-4b3d-4d6b-db0c-5b8825ec2fc1"
      },
      "outputs": [
        {
          "output_type": "stream",
          "name": "stdout",
          "text": [
            "[0, 1, 2, 3, 4]\n"
          ]
        }
      ],
      "source": [
        "# 조건, 반복 컴프리헨션 (함축식)에서 else 사용하는 법\n",
        "print([i for i in range(5)])"
      ]
    },
    {
      "cell_type": "code",
      "source": [
        "[list(range(5))]"
      ],
      "metadata": {
        "colab": {
          "base_uri": "https://localhost:8080/"
        },
        "id": "25pteA3Bi02A",
        "outputId": "3062e616-8b6e-45f0-94cd-fbea83145aeb"
      },
      "execution_count": null,
      "outputs": [
        {
          "output_type": "execute_result",
          "data": {
            "text/plain": [
              "[[0, 1, 2, 3, 4]]"
            ]
          },
          "metadata": {},
          "execution_count": 2
        }
      ]
    },
    {
      "cell_type": "code",
      "source": [
        "[i*10 for i in range(5)]"
      ],
      "metadata": {
        "colab": {
          "base_uri": "https://localhost:8080/"
        },
        "id": "1lgr7mN0jIP9",
        "outputId": "cacafc62-a38f-4cf2-eab1-560c2cc86f7d"
      },
      "execution_count": null,
      "outputs": [
        {
          "output_type": "execute_result",
          "data": {
            "text/plain": [
              "[0, 10, 20, 30, 40]"
            ]
          },
          "metadata": {},
          "execution_count": 3
        }
      ]
    },
    {
      "cell_type": "code",
      "source": [
        "[i for i in range(5) if i % 2 == 0]"
      ],
      "metadata": {
        "colab": {
          "base_uri": "https://localhost:8080/"
        },
        "id": "ZHrFEOpJjPYq",
        "outputId": "ee6f1a52-e8b6-4fa9-9058-6686633430e7"
      },
      "execution_count": null,
      "outputs": [
        {
          "output_type": "execute_result",
          "data": {
            "text/plain": [
              "[0, 2, 4]"
            ]
          },
          "metadata": {},
          "execution_count": 4
        }
      ]
    },
    {
      "cell_type": "code",
      "source": [
        "[i for i in range(1,11) if i % 2 == 0 if i % 4 == 0]"
      ],
      "metadata": {
        "colab": {
          "base_uri": "https://localhost:8080/"
        },
        "id": "u03aUttejhwR",
        "outputId": "a0aa9f29-cbeb-4394-de40-f140bbde45db"
      },
      "execution_count": null,
      "outputs": [
        {
          "output_type": "execute_result",
          "data": {
            "text/plain": [
              "[4, 8]"
            ]
          },
          "metadata": {},
          "execution_count": 6
        }
      ]
    },
    {
      "cell_type": "code",
      "source": [
        "# for if else 동시에 사용할 때는 if else 왼쪽\n",
        "[i if i % 2 == 0 else '홀수' for i in range(1,11)]"
      ],
      "metadata": {
        "colab": {
          "base_uri": "https://localhost:8080/"
        },
        "id": "1SnvovVQj5xg",
        "outputId": "a32b1bad-94a7-4c4e-85bf-fdd72210bc4a"
      },
      "execution_count": null,
      "outputs": [
        {
          "output_type": "execute_result",
          "data": {
            "text/plain": [
              "['홀수', 2, '홀수', 4, '홀수', 6, '홀수', 8, '홀수', 10]"
            ]
          },
          "metadata": {},
          "execution_count": 7
        }
      ]
    },
    {
      "cell_type": "code",
      "source": [
        "# 진법변환\n",
        "print(int('10',2))\n",
        "print(int('10',8))\n",
        "print(int('f',16))\n",
        "print('-'*10)\n",
        "print(bin(10)[2:])\n",
        "print(oct(10)[2:])\n",
        "print(hex(15)[2:])\n",
        "print('-'*10)\n",
        "# 10진수를 16진수\n",
        "num = 15\n",
        "print('%x'%num)\n",
        "print(hex(num)[2:])"
      ],
      "metadata": {
        "colab": {
          "base_uri": "https://localhost:8080/"
        },
        "id": "Qe9QmidKkMrJ",
        "outputId": "b6feb8ce-1076-4bb2-c2a6-8e64cd8b09f9"
      },
      "execution_count": null,
      "outputs": [
        {
          "output_type": "stream",
          "name": "stdout",
          "text": [
            "2\n",
            "8\n",
            "15\n",
            "----------\n",
            "1010\n",
            "12\n",
            "f\n",
            "----------\n",
            "f\n",
            "f\n"
          ]
        }
      ]
    },
    {
      "cell_type": "code",
      "source": [
        "# 복습과 확인\n",
        "'''\n",
        "문제 >> n진법(base)으로 표기된 string(num)을 10진법 숫자로 변환하기\n",
        "문제설명 및 조건 >>\n",
        "첫번째 숫자 num, 두번째 숫자 base\n",
        "\n",
        "### 힌트 >>>\n",
        "base 진법으로 된 첫번째 숫자 num을 10진법 숫자로 출력하시오.\n",
        "\n",
        "### 조건 >>>\n",
        "base <=10\n",
        "num <3000\n",
        "\n",
        "input \n",
        "12 3     \n",
        "==> 3진법의 12을 10진법으로 출력 \n",
        "==> 1 2 10 11 12\n",
        "==> 1 2  3  4  5\n",
        "\n",
        "24 5 \n",
        "==> 5진법 24\n",
        "1 2 3 4 10 11 12 13 14 20 21 22 23 24 30\n",
        "1 2 3 4  5  6  7  8  9 10 11 12 13 14 15\n",
        "\n",
        "\n",
        "output\n",
        "5\n",
        "14\n",
        "'''"
      ],
      "metadata": {
        "colab": {
          "base_uri": "https://localhost:8080/",
          "height": 89
        },
        "id": "peneLq3pmazH",
        "outputId": "19fb3072-5a56-4852-d6bb-8f5789f3610e"
      },
      "execution_count": null,
      "outputs": [
        {
          "output_type": "execute_result",
          "data": {
            "text/plain": [
              "'\\n문제 >> n진법(base)으로 표기된 string(num)을 10진법 숫자로 변환하기\\n문제설명 및 조건 >>\\n첫번째 숫자 num, 두번째 숫자 base\\n\\n### 힌트 >>>\\nbase 진법으로 된 첫번째 숫자 num을 10진법 숫자로 출력하시오.\\n\\n### 조건 >>>\\nbase <=10\\nnum <3000\\n\\ninput \\n12 3     \\n==> 3진법의 12을 10진법으로 출력 \\n==> 1 2 10 11 12\\n==> 1 2  3  4  5\\n\\n24 5 \\n==> 5진법 24\\n1 2 3 4 10 11 12 13 14 20 21 22 23 24 30\\n1 2 3 4  5  6  7  8  9 10 11 12 13 14 15\\n\\n\\noutput\\n5\\n14\\n'"
            ],
            "application/vnd.google.colaboratory.intrinsic+json": {
              "type": "string"
            }
          },
          "metadata": {},
          "execution_count": 11
        }
      ]
    },
    {
      "cell_type": "markdown",
      "source": [
        "# 시간복잡도"
      ],
      "metadata": {
        "id": "A8rXUqODn0pN"
      }
    },
    {
      "cell_type": "code",
      "source": [
        "# 시간체크 -- 시간복잡도의 내용은 다르지만 확인을 위해(수행시간 검사)\n",
        "\n",
        "import time\n",
        "\n",
        "while True:\n",
        "  n = int(input())\n",
        "  if n == -1:\n",
        "    break\n",
        "  else:\n",
        "    lst = [i for i in range(n)]\n",
        "    start = time.time()\n",
        "    maximum = max(lst)\n",
        "    elapsed = time.time() - start\n",
        "    print(f'최대값 = {maximum}, 경과시간 = {elapsed:f}')"
      ],
      "metadata": {
        "colab": {
          "base_uri": "https://localhost:8080/"
        },
        "id": "FZ0BgBBCnzii",
        "outputId": "0abd5351-dfa2-47bb-f865-a34e69a6db91"
      },
      "execution_count": null,
      "outputs": [
        {
          "name": "stdout",
          "output_type": "stream",
          "text": [
            "100\n",
            "최대값 = 99, 경과시간 = 0.000005\n",
            "1000\n",
            "최대값 = 999, 경과시간 = 0.000033\n",
            "10000\n",
            "최대값 = 9999, 경과시간 = 0.000294\n",
            "100000\n",
            "최대값 = 99999, 경과시간 = 0.003111\n",
            "1000000\n",
            "최대값 = 999999, 경과시간 = 0.017220\n",
            "10000000\n",
            "최대값 = 9999999, 경과시간 = 0.187538\n",
            "-1\n"
          ]
        }
      ]
    },
    {
      "cell_type": "code",
      "source": [
        "'''\n",
        "리스트 append(), pop() : 0(1)\n",
        "리스트 insert(), del : 데이터 길이에 따라 비례(선형시간) : O(N)\n",
        "해결하고자 하는 문제에 따라 최적의 해법이 서로 다름\n",
        "자료구조의 성질을 알고 적용해야 한다.\n",
        "알고리즘 : 어떤 문제를 해결하기 위한 절차, 방법, 명령어들의 집합\n",
        "프로그래밍 : 주어진 문제를 해결하기 위한 자료구조와 연산방법들에 대한 선택\n",
        "'''"
      ],
      "metadata": {
        "colab": {
          "base_uri": "https://localhost:8080/",
          "height": 72
        },
        "id": "Ov14bmfBqyzY",
        "outputId": "28f63cab-26d6-4faf-dfa1-d680449de1ad"
      },
      "execution_count": null,
      "outputs": [
        {
          "output_type": "execute_result",
          "data": {
            "text/plain": [
              "'\\n리스트 append(), pop() : 0(1)\\n리스트 insert(), del : 데이터 길이에 따라 비례(선형시간) : O(N)\\n해결하고자 하는 문제에 따라 최적의 해법이 서로 다름\\n자료구조의 성질을 알고 적용해야 한다.\\n알고리즘 : 어떤 문제를 해결하기 위한 절차, 방법, 명령어들의 집합\\n프로그래밍 : 주어진 문제를 해결하기 위한 자료구조와 연산방법들에 대한 선택\\n'"
            ],
            "application/vnd.google.colaboratory.intrinsic+json": {
              "type": "string"
            }
          },
          "metadata": {},
          "execution_count": 1
        }
      ]
    },
    {
      "cell_type": "markdown",
      "source": [
        "# 그리드 알고리즘\n",
        "- 가장 최적인 것을 찾는 것\n",
        "- 단순하게 현재 가장 좋은 것을 찾는 문제\n",
        "- 정당성 확인해야 한다."
      ],
      "metadata": {
        "id": "YeLV7w76vp13"
      }
    },
    {
      "cell_type": "markdown",
      "source": [
        "## 거스름돈"
      ],
      "metadata": {
        "id": "AFD_jAOTvx34"
      }
    },
    {
      "cell_type": "code",
      "source": [
        "# 가장 큰 화폐 단위부터 거슬러 주는 것\n",
        "# 정당성 : 큰 단위가 항상 작은 단위 배수"
      ],
      "metadata": {
        "id": "MReGAf4dsa2J"
      },
      "execution_count": null,
      "outputs": []
    },
    {
      "cell_type": "code",
      "source": [
        "n = 1260\n",
        "count = 0\n",
        "array = [500,100,50,10]\n",
        "\n",
        "for coin in array:\n",
        "  count += n // coin\n",
        "  n %= coin\n",
        "print(count)\n",
        "# 가장 큰 화폐단위부터 거슬러 주는 것이 최적의 해인 이유\n",
        "# -> 큰 단위가 항상 작은 단위의 배수이므로 작은 단위를 조합해도 다른 해가 나올 수 없다."
      ],
      "metadata": {
        "colab": {
          "base_uri": "https://localhost:8080/"
        },
        "id": "V8Fy8IFRwqxB",
        "outputId": "3a5c94b8-b657-43fe-ccb2-aedf291863f9"
      },
      "execution_count": null,
      "outputs": [
        {
          "output_type": "stream",
          "name": "stdout",
          "text": [
            "6\n"
          ]
        }
      ]
    },
    {
      "cell_type": "markdown",
      "source": [
        "## 1이 될 때까지"
      ],
      "metadata": {
        "id": "dGo3__b9yxtM"
      }
    },
    {
      "cell_type": "code",
      "source": [
        "# 어떤 수 n이 1이 될 때까지 다음의 두 과정 중 하나를 반복 수행. 단 두번째 연산은 n이 k로 나누어 떨어질 때만 선택가능\n",
        "# 1. n에서 1을 뺌\n",
        "# 2. n을 k로 나눔\n",
        "# n이 17, k가 4 인 경우 1, 2, 2로 3번의 실행"
      ],
      "metadata": {
        "id": "A-FG0EZ4yMUh"
      },
      "execution_count": null,
      "outputs": []
    },
    {
      "cell_type": "code",
      "source": [
        "import time\n",
        "n, k = map(int, input().strip().split())\n",
        "start1 = time.time()\n",
        "count = 0\n",
        "\n",
        "while n != 1:\n",
        "  a = divmod(n,k)\n",
        "  if a[1] == 0:\n",
        "    n = a[0]\n",
        "  else:\n",
        "    n -= 1\n",
        "  count += 1\n",
        "\n",
        "print(count)\n",
        "end1 = time.time()\n",
        "print(f'수행시간 : {end1-start1}')"
      ],
      "metadata": {
        "colab": {
          "base_uri": "https://localhost:8080/"
        },
        "id": "zJpwG0PRzUio",
        "outputId": "12eb1638-9ff6-44d6-be8e-8f13d091d312"
      },
      "execution_count": null,
      "outputs": [
        {
          "output_type": "stream",
          "name": "stdout",
          "text": [
            "17 4\n",
            "3\n",
            "수행시간 : 0.0013930797576904297\n"
          ]
        }
      ]
    },
    {
      "cell_type": "code",
      "source": [
        "import time\n",
        "n, k = map(int, input().strip().split())\n",
        "start2 = time.time()\n",
        "count = 0\n",
        "\n",
        "while n != 1:\n",
        "  target = (n // k) * k\n",
        "  count += (n-target)\n",
        "  n = target\n",
        "  if n < k:\n",
        "    count += (n-1)\n",
        "    break\n",
        "  n //= k\n",
        "  count += 1\n",
        "\n",
        "print(count)\n",
        "end2 = time.time()\n",
        "print(f'수행시간 : {end2-start2}')"
      ],
      "metadata": {
        "colab": {
          "base_uri": "https://localhost:8080/"
        },
        "id": "Q_4S4-Bl0aIa",
        "outputId": "607b80ec-ea7b-43e1-c94a-055d4d5f5072"
      },
      "execution_count": null,
      "outputs": [
        {
          "output_type": "stream",
          "name": "stdout",
          "text": [
            "17 4\n",
            "3\n",
            "수행시간 : 0.00042748451232910156\n"
          ]
        }
      ]
    },
    {
      "cell_type": "markdown",
      "source": [
        "## 큰 수 만들기"
      ],
      "metadata": {
        "id": "ODTeisHS8sdc"
      }
    },
    {
      "cell_type": "code",
      "source": [
        "# 각 자리가 숫자로만 주어진 문자열 S\n",
        "# 숫자 사이에 * 또는 + 연산을 넣어 결과적으로 만들어질 수 있는 가장 큰 수를 구하는 프로그램 작성.\n",
        "# +보다 *를 먼저 계산하는 일반적인 방식과 달리 모든 연산은 왼쪽부터 순서대로\n",
        "import time\n",
        "s = input()\n",
        "start1 = time.time()\n",
        "result = int(s[0])\n",
        "\n",
        "for i in range(len(s)):\n",
        "  num = int(s[i])\n",
        "  if result <= 1 or num <= 1:\n",
        "    result += num\n",
        "  else:\n",
        "    result *= num\n",
        "\n",
        "print(result)\n",
        "end1 = time.time()\n",
        "print(f'수행시간 : {end1-start1}')"
      ],
      "metadata": {
        "colab": {
          "base_uri": "https://localhost:8080/"
        },
        "id": "B5FZ9Eul3yWT",
        "outputId": "c868e887-628d-47d8-fada-325a05abd0e8"
      },
      "execution_count": null,
      "outputs": [
        {
          "output_type": "stream",
          "name": "stdout",
          "text": [
            "02845123570235\n",
            "2022300\n",
            "수행시간 : 0.0016033649444580078\n"
          ]
        }
      ]
    },
    {
      "cell_type": "code",
      "source": [
        "# 각 자리가 숫자로만 주어진 문자열 S\n",
        "# s에서 k개의 수를 제거하여 만들 수 있는 숫자 중 가장 큰 것\n",
        "# 1924 2 -> 19 12 14 92 94 24 -> 94\n",
        "# 1231234 3 -> 3234\n",
        "# 4177252841 4 -> 775841\n",
        "def solution(number, k):\n",
        "  answer = []\n",
        "  for i in number:\n",
        "    if not answer:\n",
        "      answer.append(i)\n",
        "      continue\n",
        "    while answer[-1] < i and k > 0:\n",
        "      answer.pop()\n",
        "      k -= 1\n",
        "      if not answer or k <= 0:\n",
        "        break\n",
        "    answer.append(i)\n",
        "    if len(answer) == len(number) - k:\n",
        "      break\n",
        "  return ''.join(answer)  # 리스트의 값을 합쳐서 문자열로 만들기\n",
        "start1 = time.time()\n",
        "print(solution('1924', 2))\n",
        "print(solution('1231234', 3))\n",
        "print(solution('4177252841', 4))\n",
        "print(solution('553442138636446387717061132565845835415522862743837482513453532841', 20))\n",
        "end1 = time.time()\n",
        "print(f'수행시간 : {end1-start1}')"
      ],
      "metadata": {
        "colab": {
          "base_uri": "https://localhost:8080/"
        },
        "id": "dnrK7g-x9u-C",
        "outputId": "e9d16003-f325-49e7-d024-df795fb82659"
      },
      "execution_count": null,
      "outputs": [
        {
          "output_type": "stream",
          "name": "stdout",
          "text": [
            "94\n",
            "3234\n",
            "775841\n",
            "8877763565845835415522862743837482513453532841\n",
            "수행시간 : 0.003737211227416992\n"
          ]
        }
      ]
    },
    {
      "cell_type": "code",
      "source": [
        "def solution(number, k):\n",
        "  answer = []\n",
        "  for num in number:\n",
        "    while k > 0 and answer and answer[-1] < num:\n",
        "      answer.pop()\n",
        "      k -= 1\n",
        "    answer.append(num)\n",
        "  return ''.join(answer)  # 리스트의 값을 합쳐서 문자열로 만들기\n",
        "start1 = time.time()\n",
        "print(solution('1924', 2))\n",
        "print(solution('1231234', 3))\n",
        "print(solution('4177252841', 4))\n",
        "print(solution('553442138636446387717061132565845835415522862743837482513453532841', 20))\n",
        "end1 = time.time()\n",
        "print(f'수행시간 : {end1-start1}')"
      ],
      "metadata": {
        "colab": {
          "base_uri": "https://localhost:8080/"
        },
        "id": "FZRoV5AXJ-cK",
        "outputId": "ac88f30a-6ae5-4e98-efe4-4de926344c1b"
      },
      "execution_count": null,
      "outputs": [
        {
          "output_type": "stream",
          "name": "stdout",
          "text": [
            "94\n",
            "3234\n",
            "775841\n",
            "8877763565845835415522862743837482513453532841\n",
            "수행시간 : 0.0003247261047363281\n"
          ]
        }
      ]
    },
    {
      "cell_type": "markdown",
      "source": [
        "## 체육복"
      ],
      "metadata": {
        "id": "mixhElvOb5e-"
      }
    },
    {
      "cell_type": "code",
      "source": [
        "# 체육복 도난. 여벌 있는 학생에 빌려준다.\n",
        "# 학생번호는 체격순이라 바로 앞번호나 바로 뒷 번호의 학생에게만 빌려줄 수 있다.\n",
        "# 최대한 많은 학생이 체육복 사용가능하게하기\n",
        "# 전체 학생수 n, 도난당한 학생들 lost, 여벌있는 학생은 reserve. 여벌 없는 학생은 못빌려줌\n",
        "# 여벌체육복이 도난당할 수도 있다. -> 이경우 해당 학생은 여벌 없어져 못빌려준다.\n",
        "def solution(n, lost, reserve):\n",
        "  reserveOnly = list(set(reserve) - set(lost))\n",
        "  reserveOnly.sort()\n",
        "  lostOnly = list(set(lost)-set(reserve))\n",
        "  for i in reserveOnly:\n",
        "    front = i - 1\n",
        "    back = i + 1\n",
        "    if front in lostOnly:\n",
        "      lostOnly.remove(front)\n",
        "    elif back in lostOnly:\n",
        "      lostOnly.remove(back)\n",
        "  return n - len(lostOnly)\n",
        "\n",
        "print(solution(5,[2,4],[1,3,5]))\n",
        "print(solution(5,[2,4],[3]))\n",
        "print(solution(3,[3],[1]))\n",
        "print(solution(7,[2,4,6,7],[1,3,5]))"
      ],
      "metadata": {
        "colab": {
          "base_uri": "https://localhost:8080/"
        },
        "id": "Bg2Gfsb6BuKG",
        "outputId": "4f533e3c-cb4e-4cdf-e159-e12320242cd7"
      },
      "execution_count": null,
      "outputs": [
        {
          "output_type": "stream",
          "name": "stdout",
          "text": [
            "5\n",
            "4\n",
            "2\n",
            "6\n"
          ]
        }
      ]
    },
    {
      "cell_type": "markdown",
      "source": [
        "# 해시(해싱) ash, hashing\n",
        "- key:value\n",
        "- 배열(리스트)에서 비교해서 찾는 것 O(n)\n",
        "- 키를 기준으로 찾는 것은 0(1) 삭제 0(1)\n",
        "- 키가 같으면 해시함수 충돌이 일어날 수 있다.   \n",
        "  --> 키 +데이터 추가해서 선형검색 방법  \n",
        "  --> 0(1) 아닐 수도 있다."
      ],
      "metadata": {
        "id": "m0s-413XsAkr"
      }
    },
    {
      "cell_type": "code",
      "source": [
        "'''\n",
        "문제정의 - 조건 - 아이디어도출 - 코딩\n",
        "문제정의>>\n",
        "한 명의 완주하지 못한 선수 이름 찾기\n",
        "참여 선수 배열 : participant\n",
        "완주 선수 배열 : completion\n",
        "완주하지 못한 선수 이름 : return\n",
        "\n",
        "문제조건>>\n",
        "1. 참여 선수 수 : 1~ 100,000\n",
        "2. len(completion) < len(participant) - 1\n",
        "3. 참가자 이름 : 1~20 알파벳 소문자, 동명이인 가능\n",
        "\n",
        "예시>>\n",
        "participant     [\"leo\",\"kiki\",\"eden\"]   참여한 선수\n",
        "completion      [\"eden\",\"kiki\"]         완주한 선수\n",
        "return          \"leo\"                   완주못한 선수\n",
        "\n",
        "문제에 대한 고민>>\n",
        "1. 문제 단순화시키기\n",
        "2. 비교해서 없는 것 찾기 참여자 N 완주자 N-1\n",
        "\n",
        "해결아이디어>>\n",
        "1. 정렬 -> 1:1 비교\n",
        "2. 해시\n",
        "3. collections 모듈 Counter 클래스 활용 : 딕셔너리 확장\n",
        "\n",
        "'''"
      ],
      "metadata": {
        "colab": {
          "base_uri": "https://localhost:8080/"
        },
        "id": "E82VFkuXrsgJ",
        "outputId": "5764e391-c9a0-4204-8b42-3f354f42e91e"
      },
      "execution_count": null,
      "outputs": [
        {
          "output_type": "stream",
          "name": "stdout",
          "text": [
            "6\n"
          ]
        }
      ]
    },
    {
      "cell_type": "code",
      "source": [
        "# 방법 1. sorting/loop\n",
        "\n",
        "# 0. 데이터 준비\n",
        "participant = ['leo', 'kiki', 'eden']\n",
        "completion = ['eden', 'kiki']\n",
        "\n",
        "# 1. 두 리스트를 정렬\n",
        "participant.sort()\n",
        "completion.sort()\n",
        "\n",
        "# 2. completion list 길이만큼 반복\n",
        "# 참여선수에만 있는 한명을 찾기-> 같지않다면 !=\n",
        "for i in range(len(completion)):\n",
        "  if participant[i] != completion[i]:\n",
        "    print(participant[i])\n",
        "\n",
        "# 3. 끝까지 확인해도 없다면\n",
        "# participant[-1]가 완주못한 선수가 된다.\n",
        "print(participant[-1])"
      ],
      "metadata": {
        "colab": {
          "base_uri": "https://localhost:8080/"
        },
        "id": "P8rhsIrrs6DS",
        "outputId": "d87c3f4d-5823-4a5f-830a-6821599e8e84"
      },
      "execution_count": null,
      "outputs": [
        {
          "output_type": "stream",
          "name": "stdout",
          "text": [
            "leo\n"
          ]
        }
      ]
    },
    {
      "cell_type": "code",
      "source": [
        "# 방법 2. 해시 활용\n",
        "# 해시테이블 만들기\n",
        "# 딕셔너리 key, value\n",
        "participant = ['leo', 'kiki', 'eden']\n",
        "completion = ['eden', 'kiki']\n",
        "hashDict = {}\n",
        "sumHash = 0\n",
        "# 1. participant의 hash 구하고 더하기\n",
        "for p in participant:\n",
        "  hashDict[hash(p)] = p\n",
        "  sumHash += hash(p)\n",
        "# 2. completion의 hash 구하고 participant의 hash 빼준다\n",
        "for c in completion:\n",
        "  sumHash -= hash(c)\n",
        "# 3. 남은 해시의 값이 완주못한 선수이다.\n",
        "print(hashDict[sumHash])"
      ],
      "metadata": {
        "colab": {
          "base_uri": "https://localhost:8080/"
        },
        "id": "NXW9JqDQyLbX",
        "outputId": "67df279a-b492-4c35-f703-35b0e703ec44"
      },
      "execution_count": null,
      "outputs": [
        {
          "output_type": "stream",
          "name": "stdout",
          "text": [
            "leo\n"
          ]
        }
      ]
    },
    {
      "cell_type": "code",
      "source": [
        "# 방법 3.을 위한 사전학습\n",
        "from collections import Counter\n",
        "\n",
        "lst1 = [1,1,1,3,4,5,4,5,6,7,1,3,5,7]\n",
        "result = Counter(lst1)\n",
        "print(result, type(result))\n",
        "print(result[1], type(result[1])) # -> result는 딕셔너리타입\n",
        "print(result[0], type(result[0])) # 따라서 인덱스가 아니라 해당 키의 값(갯수)을 가져오는것\n",
        "print(result.keys())\n",
        "print(result.values())\n",
        "print(result.items())"
      ],
      "metadata": {
        "colab": {
          "base_uri": "https://localhost:8080/"
        },
        "id": "_t4RF4GM0npA",
        "outputId": "a4da4f46-5004-46ce-8894-5315cdd52401"
      },
      "execution_count": null,
      "outputs": [
        {
          "output_type": "stream",
          "name": "stdout",
          "text": [
            "Counter({1: 4, 5: 3, 3: 2, 4: 2, 7: 2, 6: 1}) <class 'collections.Counter'>\n",
            "4 <class 'int'>\n",
            "0 <class 'int'>\n",
            "dict_keys([1, 3, 4, 5, 6, 7])\n",
            "dict_values([4, 2, 2, 3, 1, 2])\n",
            "dict_items([(1, 4), (3, 2), (4, 2), (5, 3), (6, 1), (7, 2)])\n"
          ]
        }
      ]
    },
    {
      "cell_type": "code",
      "source": [
        "# 방법 3. collections 모듈의 counter클래스 : 딕셔너리 확장\n",
        "from collections import Counter\n",
        "\n",
        "participant = ['leo', 'kiki', 'eden']\n",
        "completion = ['eden', 'kiki']\n",
        "\n",
        "# 1. 각각의 Counter 구한다.\n",
        "partCounter = Counter(participant)\n",
        "compCounter = Counter(completion)\n",
        "# 2. 둘의 차를 구하고, key만 가지고 온다\n",
        "result = partCounter - compCounter\n",
        "# 3. 출력\n",
        "print(list(result.keys())[0])"
      ],
      "metadata": {
        "colab": {
          "base_uri": "https://localhost:8080/"
        },
        "id": "ESa95PsH2C2U",
        "outputId": "4252d400-ec49-40ed-a208-9c406f90a735"
      },
      "execution_count": null,
      "outputs": [
        {
          "output_type": "stream",
          "name": "stdout",
          "text": [
            "leo\n"
          ]
        }
      ]
    },
    {
      "cell_type": "code",
      "source": [
        "# 함수로\n",
        "def solution(participant, completion):\n",
        "  from collections import Counter\n",
        "  partCounter = Counter(participant)\n",
        "  compCounter = Counter(completion)\n",
        "  result = partCounter - compCounter\n",
        "  return list(result.keys())[0]\n",
        "\n",
        "print(solution(['leo', 'kiki', 'eden'], ['eden', 'kiki']))"
      ],
      "metadata": {
        "colab": {
          "base_uri": "https://localhost:8080/"
        },
        "id": "sH6VUvdQ4Byh",
        "outputId": "73967f22-5b88-46a1-cc13-8234550138dc"
      },
      "execution_count": null,
      "outputs": [
        {
          "output_type": "stream",
          "name": "stdout",
          "text": [
            "leo\n"
          ]
        }
      ]
    },
    {
      "cell_type": "markdown",
      "source": [
        "## 전화번호 목록"
      ],
      "metadata": {
        "id": "2t4CO5FjtDVY"
      }
    },
    {
      "cell_type": "code",
      "source": [
        "# 방법1. 이중for문\n",
        "def solution(phone_book):\n",
        "  for i in range(len(phone_book)):\n",
        "    for j in range(i + 1,len(phone_book)):\n",
        "      if phone_book[i].startswith(phone_book[j]):\n",
        "        return False\n",
        "      if phone_book[j].startswith(phone_book[i]):\n",
        "        return False\n",
        "  return True\n",
        "\n",
        "print(solution(['119','97674223','1195524421']))\n",
        "print(solution(['123','456','789']))\n",
        "print(solution(['12','123','12345','567','88']))"
      ],
      "metadata": {
        "colab": {
          "base_uri": "https://localhost:8080/"
        },
        "id": "shotO9RWwDuL",
        "outputId": "503330a2-44c8-4edd-c1f6-cbf24c2ee4c5"
      },
      "execution_count": 6,
      "outputs": [
        {
          "output_type": "stream",
          "name": "stdout",
          "text": [
            "False\n",
            "True\n",
            "False\n"
          ]
        }
      ]
    },
    {
      "cell_type": "code",
      "source": [
        "# 방법 2. 정렬후 for문\n",
        "def solution(phone_book):\n",
        "  phone_book.sort()\n",
        "  for i in range(len(phone_book)-1):\n",
        "    if phone_book[i+1].startswith(phone_book[i]):\n",
        "      return False\n",
        "  return True\n",
        "\n",
        "print(solution(['119','97674223','1195524421']))\n",
        "print(solution(['123','456','789']))\n",
        "print(solution(['12','123','12345','567','88']))"
      ],
      "metadata": {
        "colab": {
          "base_uri": "https://localhost:8080/"
        },
        "id": "7qO3GR5Aul6P",
        "outputId": "068cfa70-e41a-4976-f650-33c409566422"
      },
      "execution_count": 15,
      "outputs": [
        {
          "output_type": "stream",
          "name": "stdout",
          "text": [
            "False\n",
            "True\n",
            "False\n"
          ]
        }
      ]
    },
    {
      "cell_type": "code",
      "source": [
        "# 방법 3. 해시 (15)\n",
        "def solution(phone_book):\n",
        "  hashDic = {}\n",
        "  for i in phone_book:\n",
        "    hashDic[hash(i)] = True\n",
        "  \n",
        "  for num in phone_book:\n",
        "    temp = ''\n",
        "    for j in num:\n",
        "      temp += j\n",
        "      if (temp in hashDic) and (temp != num):\n",
        "        return False\n",
        "  return True\n",
        "\n",
        "print(solution(['119','97674223','1195524421']))\n",
        "print(solution(['123','456','789']))\n",
        "print(solution(['12','123','12345','567','88']))"
      ],
      "metadata": {
        "colab": {
          "base_uri": "https://localhost:8080/"
        },
        "id": "tXxmOd6bviuE",
        "outputId": "82c0bf3c-dc27-42fe-d86d-158a87a0f486"
      },
      "execution_count": 11,
      "outputs": [
        {
          "output_type": "stream",
          "name": "stdout",
          "text": [
            "False\n",
            "True\n",
            "False\n"
          ]
        }
      ]
    },
    {
      "cell_type": "code",
      "source": [
        "# 방법 4. 파이썬 내장함수 (13)\n",
        "def solution(phone_book):\n",
        "  phone_book.sort()\n",
        "  for p1, p2 in zip(phone_book, phone_book[1:]):\n",
        "    if p2.startswith(p1):\n",
        "      return False\n",
        "  return True\n",
        "\n",
        "print(solution(['119','97674223','1195524421']))\n",
        "print(solution(['123','456','789']))\n",
        "print(solution(['12','123','12345','567','88']))"
      ],
      "metadata": {
        "colab": {
          "base_uri": "https://localhost:8080/"
        },
        "id": "cB6udRievvQT",
        "outputId": "72a13413-c37d-48fc-e3be-2bc20d17e111"
      },
      "execution_count": 16,
      "outputs": [
        {
          "output_type": "stream",
          "name": "stdout",
          "text": [
            "False\n",
            "True\n",
            "False\n"
          ]
        }
      ]
    },
    {
      "cell_type": "markdown",
      "source": [
        "## 위장"
      ],
      "metadata": {
        "id": "THCGfGt25tY4"
      }
    },
    {
      "cell_type": "code",
      "source": [
        "# 서로 다른 의상 조합 수 반환\n",
        "# 의상 1~30개(중복없음)\n",
        "# 의상은 알파벳 소문자와 _로만 이루어짐\n",
        "# 하루 최소 한개의 의상"
      ],
      "metadata": {
        "id": "Hww7hOho5Zhk"
      },
      "execution_count": 17,
      "outputs": []
    },
    {
      "cell_type": "code",
      "source": [
        "# 방법 1. 해시\n",
        "def solution(clothes):\n",
        "  hash_map = {}\n",
        "  answer = 1\n",
        "  for _, i in clothes:\n",
        "    if i in hash_map:\n",
        "      hash_map[i] += 1\n",
        "    else:\n",
        "      hash_map[i] = 2 # 아무것도 착용안하는 경우 + 해당 의상 해서 2\n",
        "  for j in hash_map.values():\n",
        "    answer *= j\n",
        "  # for j in hash_map:\n",
        "  #   answer *= hash_map[j]\n",
        "  return answer - 1 # 전부 착용안하는 경우 제외\n",
        "\n",
        "print(solution([['yellow_hat', 'headgear'], ['blue_sunglasses', 'eyewear'], ['green_turban', 'headgear']]))\n",
        "print(solution([['crow_mask', 'face'], ['blue_sunglasses', 'face'], ['smoky_makeup', 'face']]))"
      ],
      "metadata": {
        "colab": {
          "base_uri": "https://localhost:8080/"
        },
        "id": "RbkFcUSG7Hy7",
        "outputId": "a0656fa2-fc06-4740-d0a2-8238c79052c4"
      },
      "execution_count": 25,
      "outputs": [
        {
          "output_type": "stream",
          "name": "stdout",
          "text": [
            "5\n",
            "3\n"
          ]
        }
      ]
    },
    {
      "cell_type": "code",
      "source": [
        "# 방법 2. 카운터\n",
        "from collections import Counter\n",
        "from functools import reduce  # 데이터의 집계함수를 반복해서 계산\n",
        "# reduce(함수, 컬렉션형, 초기값)\n",
        "def solution(clothes):\n",
        "  clothesCounter = Counter([kind for name, kind in clothes])\n",
        "  answer = reduce(lambda a, b : a * (b+1), clothesCounter.values(), 1) - 1\n",
        "  return answer\n",
        "\n",
        "print(solution([['yellow_hat', 'headgear'], ['blue_sunglasses', 'eyewear'], ['green_turban', 'headgear']]))\n",
        "print(solution([['crow_mask', 'face'], ['blue_sunglasses', 'face'], ['smoky_makeup', 'face']]))"
      ],
      "metadata": {
        "colab": {
          "base_uri": "https://localhost:8080/"
        },
        "id": "7vB051D77Nv1",
        "outputId": "cc1de97c-9645-49dc-a92d-a80fc83df07e"
      },
      "execution_count": 32,
      "outputs": [
        {
          "output_type": "stream",
          "name": "stdout",
          "text": [
            "5\n",
            "3\n"
          ]
        }
      ]
    },
    {
      "cell_type": "markdown",
      "source": [
        "# 구현문제 - 완전탐색, 시뮬레이션"
      ],
      "metadata": {
        "id": "8Deb-mEpD0Az"
      }
    },
    {
      "cell_type": "markdown",
      "source": [
        "## 주사위 게임"
      ],
      "metadata": {
        "id": "rfehPIYcEYef"
      }
    },
    {
      "cell_type": "code",
      "source": [
        "# 주사위 3개 던져\n",
        "# 같은눈 3개 -> 10000+(같은 눈)*1000\n",
        "# 같은눈 2개 -> 1000+(같은 눈)*100\n",
        "# 같은눈 0개 -> (가장 큰 눈)*100\n",
        "# n명이 하여 가장 많은 상금을 받은 사람 출력\n",
        "n = int(input())\n",
        "res = 0\n",
        "for i in range(n):\n",
        "    a, b, c = map(int, input().split())\n",
        "    if a == b and b == c:\n",
        "      money = 10000 + (a * 1000)\n",
        "    elif a == b or a == c:\n",
        "      money = 1000 + (a * 100)\n",
        "    elif b == c:\n",
        "      money = 1000 + (b * 100)\n",
        "    else:\n",
        "      money = max(a,b,c) * 100\n",
        "    if money > res:\n",
        "      res = money\n",
        "print(res)"
      ],
      "metadata": {
        "colab": {
          "base_uri": "https://localhost:8080/"
        },
        "id": "7z2zocA7_E2c",
        "outputId": "82f4ffd2-f833-4d4c-9796-312ce55d41d3"
      },
      "execution_count": 35,
      "outputs": [
        {
          "output_type": "stream",
          "name": "stdout",
          "text": [
            "3\n",
            "3 3 6\n",
            "2 2 2\n",
            "6 2 5\n",
            "12000\n"
          ]
        }
      ]
    },
    {
      "cell_type": "markdown",
      "source": [
        "## 시각"
      ],
      "metadata": {
        "id": "oGKvkyf7IILv"
      }
    },
    {
      "cell_type": "code",
      "source": [
        "# n입력되면 00시00분00초부터 n시59분59초까지의 모든 시각중 3이 하나라도 포함되는 모든 경우의수\n",
        "n = int(input())\n",
        "count = 0\n",
        "for i in range(n+1):\n",
        "  for j in range(60):\n",
        "    for k in range(60):\n",
        "      if '3' in str(i)+str(j)+str(k):\n",
        "        count += 1\n",
        "\n",
        "print(count)"
      ],
      "metadata": {
        "colab": {
          "base_uri": "https://localhost:8080/"
        },
        "id": "RGyG8t6mGkP9",
        "outputId": "791ad233-23bd-4901-b722-aa79f3ffa114"
      },
      "execution_count": 37,
      "outputs": [
        {
          "output_type": "stream",
          "name": "stdout",
          "text": [
            "5\n",
            "11475\n"
          ]
        }
      ]
    },
    {
      "cell_type": "code",
      "source": [
        "n = int(input())\n",
        "count = 0\n",
        "for i in range(n+1):\n",
        "  if '3' not in str(i):\n",
        "      count += 1575\n",
        "      continue\n",
        "  for j in range(60):\n",
        "    if '3' not in str(i)+str(j):\n",
        "      count += 15\n",
        "      continue\n",
        "    for k in range(60):\n",
        "      if '3' in str(i)+str(j)+str(k):\n",
        "        count += 1\n",
        "\n",
        "print(count)"
      ],
      "metadata": {
        "colab": {
          "base_uri": "https://localhost:8080/"
        },
        "id": "OB02bfITJ4Gm",
        "outputId": "1938a403-322f-42d1-88a3-5c34c6be0326"
      },
      "execution_count": 41,
      "outputs": [
        {
          "output_type": "stream",
          "name": "stdout",
          "text": [
            "5\n",
            "11475\n"
          ]
        }
      ]
    },
    {
      "cell_type": "markdown",
      "source": [
        "## 문자열 재정렬"
      ],
      "metadata": {
        "id": "4vZLl5RNJmnz"
      }
    },
    {
      "cell_type": "code",
      "source": [
        "# 알파벳 대문자와 숫자로만 구성된 문자열 입력. 알파벳 오름차순 정렬후 그 뒤에 모든 숫자 합 출력\n",
        "data1 = 'K1KA5CB7'\n",
        "data2 = 'AJKDLSI412K4JSJ9D'\n",
        "data3 = 'AHDFASERH'\n",
        "result = []\n",
        "value = 0\n",
        "#for x in data1:\n",
        "#for x in data2:\n",
        "for x in data3:\n",
        "  if x.isalpha():\n",
        "    result.append(x)\n",
        "  else:\n",
        "    value += int(x)\n",
        "result.sort()\n",
        "if value != 0:\n",
        "  result.append(str(value))\n",
        "#print(''.join(s for s in result))\n",
        "print(''.join(result))"
      ],
      "metadata": {
        "colab": {
          "base_uri": "https://localhost:8080/"
        },
        "id": "e8p-E3BOJAPe",
        "outputId": "3bb63432-2f7a-4b94-ed78-89737f0a05f4"
      },
      "execution_count": 51,
      "outputs": [
        {
          "output_type": "stream",
          "name": "stdout",
          "text": [
            "AADEFHHRS\n"
          ]
        }
      ]
    },
    {
      "cell_type": "markdown",
      "source": [
        "## 상하좌우"
      ],
      "metadata": {
        "id": "lo_UnnCbdzdA"
      }
    },
    {
      "cell_type": "code",
      "source": [
        "# 1,1이 왼쪽 위, n,n이 오른쪽 아래.\n",
        "# x가 세로, y가 가로\n",
        "# 1,1에서 시작. 밖으로 벗어나는건 무시"
      ],
      "metadata": {
        "id": "mDusk0R6LqM_"
      },
      "execution_count": 53,
      "outputs": []
    },
    {
      "cell_type": "code",
      "source": [
        "# 방법 1\n",
        "n = int(input())\n",
        "lst = list(input().replace(' ',''))\n",
        "n = 5\n",
        "lst = ['R','R','R','U', 'D', 'D']\n",
        "x, y = 1, 1\n",
        "\n",
        "for i in lst:\n",
        "  if i == 'L':\n",
        "    y -= 1\n",
        "  if i == 'R':\n",
        "    y += 1\n",
        "  if i == 'U':\n",
        "    x -= 1\n",
        "  if i == 'D':\n",
        "    x += 1\n",
        "  if x == 0:\n",
        "    x = 1\n",
        "  if y == 0:\n",
        "    y = 1\n",
        "  if x == n + 1:\n",
        "    x = n\n",
        "  if y == n + 1:\n",
        "    y = n\n",
        "\n",
        "print(x,y)"
      ],
      "metadata": {
        "colab": {
          "base_uri": "https://localhost:8080/"
        },
        "id": "VK7ExcHweiQo",
        "outputId": "d193df7e-0dd7-4262-a0d8-ec05a8dc11f4"
      },
      "execution_count": 56,
      "outputs": [
        {
          "output_type": "stream",
          "name": "stdout",
          "text": [
            "5\n",
            "R R R U D D\n",
            "3 4\n"
          ]
        }
      ]
    },
    {
      "cell_type": "code",
      "source": [
        "# 방법 2\n",
        "#n = int(input())\n",
        "#lst = list(input().replace(' ',''))\n",
        "\n",
        "n = 5\n",
        "lst = ['R','R','R','U', 'D', 'D']\n",
        "\n",
        "x, y = 1, 1\n",
        "dic = {'L' : (0,-1),\n",
        "            'R' : (0,1),\n",
        "            'U' : (-1,0),\n",
        "            'D' : (1,0)}\n",
        "\n",
        "for i in lst:\n",
        "  nx, ny = dic[i]\n",
        "  nx += x\n",
        "  ny += y\n",
        "  if nx < 1 or ny < 1 or nx > n or ny > n:\n",
        "        continue\n",
        "  x = nx\n",
        "  y = ny\n",
        "\n",
        "print(x,y)"
      ],
      "metadata": {
        "colab": {
          "base_uri": "https://localhost:8080/"
        },
        "id": "jb-7Ts_LgB-y",
        "outputId": "b5f5ab1c-bf4a-45a1-f3e9-4d6cb6d419fb"
      },
      "execution_count": 61,
      "outputs": [
        {
          "output_type": "stream",
          "name": "stdout",
          "text": [
            "3 4\n"
          ]
        }
      ]
    },
    {
      "cell_type": "code",
      "source": [
        "# 방법 3\n",
        "n = 5\n",
        "x = y = 1\n",
        "plans = 'RRRUDD'\n",
        "\n",
        "# 왼, 오, 위, 아\n",
        "dx = [0, 0, -1, 1]\n",
        "dy = [-1, 1, 0 , 0]\n",
        "\n",
        "nx, ny = 0, 0\n",
        "print(x, y)\n",
        "\n",
        "move_type = ['L','R','U','D']\n",
        "\n",
        "# 2. 이동한 좌표 구하기\n",
        "for plan in plans:\n",
        "    for i in range(len(move_type)):\n",
        "        if plan == move_type[i]:\n",
        "            nx = x + dx[i]\n",
        "            ny = y + dy[i]\n",
        "    if nx<1 or ny<1 or nx>n or ny>n:\n",
        "        continue\n",
        "    print(nx, ny)\n",
        "    x, y = nx, ny\n",
        "    \n",
        "print(x, y)"
      ],
      "metadata": {
        "colab": {
          "base_uri": "https://localhost:8080/"
        },
        "id": "ikqwkSIGimEy",
        "outputId": "160e13ef-fb11-47e2-d9e1-6df823bcb220"
      },
      "execution_count": 60,
      "outputs": [
        {
          "output_type": "stream",
          "name": "stdout",
          "text": [
            "1 1\n",
            "1 2\n",
            "1 3\n",
            "1 4\n",
            "2 4\n",
            "3 4\n",
            "3 4\n"
          ]
        }
      ]
    },
    {
      "cell_type": "markdown",
      "source": [
        "## 만들 수 없는 금액\n",
        "그리디 -> 완전탐색 구현"
      ],
      "metadata": {
        "id": "b5woN-3SkCkT"
      }
    },
    {
      "cell_type": "code",
      "source": [
        "# n개 동전. 가진 동전 화폐단위들\n",
        "# n개의 동전을 이용해 만들 수 없는 가장 작은 값\n",
        "\n",
        "#n = int(input())\n",
        "#coins = list(map(int, input().split()))\n",
        "n = 5\n",
        "#coins = [3,2,1,1,9]\n",
        "coins = [1,1,2,6,5]\n",
        "print(n, coins)\n",
        "\n",
        "coins.sort()\n",
        "\n",
        "cost = 1\n",
        "for coin in coins:\n",
        "  #print(coin)\n",
        "  if cost < coin:\n",
        "    break\n",
        "  cost += coin\n",
        "print(cost)"
      ],
      "metadata": {
        "colab": {
          "base_uri": "https://localhost:8080/"
        },
        "id": "4FdaEvvoj_ku",
        "outputId": "33cf1c03-f77b-4ff7-b514-695e3316dcc3"
      },
      "execution_count": 67,
      "outputs": [
        {
          "output_type": "stream",
          "name": "stdout",
          "text": [
            "5 [1, 1, 2, 6, 5]\n",
            "16\n"
          ]
        }
      ]
    },
    {
      "cell_type": "markdown",
      "source": [
        "## 왕실의 나이트"
      ],
      "metadata": {
        "id": "Oe0JBnjEmqrv"
      }
    },
    {
      "cell_type": "code",
      "source": [
        "# 8*8 좌표 평면. 체스 나이트.\n",
        "# 가로줄의 번호1~8(아래일수록 큼)\n",
        "# 세로줄의 번호 a~h(오른쪽일수록 큼)\n",
        "# 처음 위치 입력값\n",
        "# 이동가능 경우의 수 출력\n",
        "\n",
        "dx = [-2,-1,1,2,2,1,-1,-1]\n",
        "dy = [1,2,2,1,-1,-2,-2,-1]\n",
        "\n",
        "input_data = input()\n",
        "\n",
        "count = 0\n",
        "\n",
        "row = int(input_data[1])\n",
        "column = int(ord(input_data[0])-ord(input_data[0])+1)\n",
        "for i in range(8):\n",
        "  nR = dx[i] + row\n",
        "  nC = dy[i] + column\n",
        "  if nR >= 1 and nR < 8 and nC >= 1 and nC < 8:\n",
        "    count += 1\n",
        "print(count)"
      ],
      "metadata": {
        "colab": {
          "base_uri": "https://localhost:8080/"
        },
        "id": "rM8uSNUek8G3",
        "outputId": "04700833-f2a5-4e66-f4c1-3cce07904412"
      },
      "execution_count": 72,
      "outputs": [
        {
          "output_type": "stream",
          "name": "stdout",
          "text": [
            "a1\n",
            "2\n"
          ]
        }
      ]
    },
    {
      "cell_type": "code",
      "source": [
        "# 1. 나이트 현재 위치 입력\n",
        "input_data = input()\n",
        "row = int(input_data[1])\n",
        "col = int(ord(input_data[0]))-int(ord('a'))+1\n",
        "print(row, col)\n",
        "\n",
        "# 2. 나이트가 이동 가능한 8가지 방향 설정\n",
        "steps = [(-2, -1), (-1, -2), (1, -2), (2, -1), (2, 1), (1, 2), (-1, 2), (-2, 1)]\n",
        "\n",
        "# 3. 위치 이동 가능 여부 확인\n",
        "result = 0\n",
        "for step in steps:\n",
        "    nextR = row + step[0]\n",
        "    nextC = col + step[1]\n",
        "\n",
        "# 4. 이동 가능 범위 설정 후 이동 가능한 경우의 수 증가\n",
        "    if nextR >=1 and nextR <8 and nextC >=1 and nextC <=8:\n",
        "        result += 1\n",
        "\n",
        "print(result)"
      ],
      "metadata": {
        "id": "MC_Oj1lDp_3W"
      },
      "execution_count": null,
      "outputs": []
    },
    {
      "cell_type": "markdown",
      "source": [
        "## 문자열 압축"
      ],
      "metadata": {
        "id": "O3vI4UI0p7A9"
      }
    },
    {
      "cell_type": "code",
      "source": [
        "# aabbacccc -> 2a2ba3c 압축\n",
        "# 반복되는 문자가 적으면 압축률이 낮다\n",
        "# 문자열을 1개 이상의 단위로 잘라서 압축하여 더 짧은 문자열로 표현할 수 있는지 방법\n",
        "# aaaabbabbabb\n",
        "# 1개 단위 : 4a2ba2ba2b\n",
        "# 2개 단위 : 2aabbabbabb\n",
        "# 3개 단위 : aaa3abb\n",
        "# aabbaccc : 7\n",
        "# ababcdcdababcdcd : 9\n",
        "# abcabcdede : 8\n",
        "# abcabcabcabcdededededede : 14\n",
        "# xababcdcdababcdcd : 17"
      ],
      "metadata": {
        "id": "bC58B1dHnp8g"
      },
      "execution_count": 73,
      "outputs": []
    },
    {
      "cell_type": "code",
      "source": [
        "def solution(s):\n",
        "  answer = len(s)\n",
        "  for step in range(1, len(s)//2 + 1):\n",
        "    res = ''\n",
        "    prev = s[0:step]\n",
        "    count = 1\n",
        "\n",
        "    for j in range(step, len(s), step):\n",
        "      if prev == s[j:j+step]:\n",
        "        count += 1\n",
        "      else:\n",
        "        res += str(count) + prev if count >= 2 else prev\n",
        "        prev = s[j:j+step]\n",
        "        count = 1\n",
        "    res += str(count) + prev if count >= 2 else prev\n",
        "    answer = min(answer, len(res))\n",
        "  return answer\n",
        "\n",
        "print(solution('aabbaccc'))\n",
        "print(solution('ababcdcdababcdcd'))\n",
        "print(solution('abcabcdede'))\n",
        "print(solution('abcabcabcabcdededededede'))\n",
        "print(solution('xababcdcdababcdcd'))"
      ],
      "metadata": {
        "colab": {
          "base_uri": "https://localhost:8080/"
        },
        "id": "LJ-JA3lRt9wT",
        "outputId": "04b4333a-80fa-432b-f528-3121dbaea5aa"
      },
      "execution_count": 84,
      "outputs": [
        {
          "output_type": "stream",
          "name": "stdout",
          "text": [
            "7\n",
            "9\n",
            "8\n",
            "14\n",
            "17\n"
          ]
        }
      ]
    },
    {
      "cell_type": "code",
      "source": [
        "def solution(s):\n",
        "  answer = len(s)\n",
        "  for step in range(1, len(s)//2 + 1):\n",
        "    res = ''\n",
        "    count = 1\n",
        "    for j in range(0, len(s), step):\n",
        "      if s[j:j+step] == s[j+step:j+2*step]:\n",
        "        count += 1\n",
        "      else:\n",
        "        if (count != 1):\n",
        "          res += str(count)\n",
        "        res += s[j:j+step]\n",
        "        count = 1\n",
        "    answer = min(answer, len(res))\n",
        "  return answer\n",
        "\n",
        "print(solution('aabbaccc'))\n",
        "print(solution('ababcdcdababcdcd'))\n",
        "print(solution('abcabcdede'))\n",
        "print(solution('abcabcabcabcdededededede'))\n",
        "print(solution('xababcdcdababcdcd'))"
      ],
      "metadata": {
        "colab": {
          "base_uri": "https://localhost:8080/"
        },
        "id": "JqEx0WaMu3nz",
        "outputId": "799c1c98-4266-446a-e15d-209c0e452622"
      },
      "execution_count": 88,
      "outputs": [
        {
          "output_type": "stream",
          "name": "stdout",
          "text": [
            "7\n",
            "9\n",
            "8\n",
            "14\n",
            "17\n"
          ]
        }
      ]
    },
    {
      "cell_type": "markdown",
      "source": [
        "## 스택과 큐"
      ],
      "metadata": {
        "id": "XdvFn_XV0Y7E"
      }
    },
    {
      "cell_type": "markdown",
      "source": [
        "## 재귀"
      ],
      "metadata": {
        "id": "RFdVEiSx1kF3"
      }
    },
    {
      "cell_type": "code",
      "source": [
        "# 팩토리얼\n",
        "def function(n):\n",
        "  if n <= 1:\n",
        "    return 1\n",
        "  else:\n",
        "    #print(n)\n",
        "    return n * function(n-1)\n",
        "\n",
        "function(3)"
      ],
      "metadata": {
        "colab": {
          "base_uri": "https://localhost:8080/"
        },
        "id": "z8ealEktz1-n",
        "outputId": "837a4af0-55c9-4994-af91-c9a6aad51787"
      },
      "execution_count": 95,
      "outputs": [
        {
          "output_type": "execute_result",
          "data": {
            "text/plain": [
              "6"
            ]
          },
          "metadata": {},
          "execution_count": 95
        }
      ]
    },
    {
      "cell_type": "code",
      "source": [
        "# 반복문으로\n",
        "def fact1(n):\n",
        "  result = 1\n",
        "  for i in range(1,n+1):\n",
        "    result *= i\n",
        "  return result\n",
        "\n",
        "print(fact1(3))"
      ],
      "metadata": {
        "colab": {
          "base_uri": "https://localhost:8080/"
        },
        "id": "i07eY9Eh1u1e",
        "outputId": "293aeeef-ed5b-45d7-dd1f-470a6deb3873"
      },
      "execution_count": 96,
      "outputs": [
        {
          "output_type": "stream",
          "name": "stdout",
          "text": [
            "6\n"
          ]
        }
      ]
    },
    {
      "cell_type": "markdown",
      "source": [
        "## 프린터"
      ],
      "metadata": {
        "id": "X_c9saB62veG"
      }
    },
    {
      "cell_type": "code",
      "source": [
        "# 중요도 높은거 먼저 출력하는 프린터\n",
        "# 인쇄물 중요도, 위치 입력\n",
        "# 순서대로 뽑고 더 높은 중요도가 있으면 맨뒤로\n",
        "# 위치의 인쇄물이 출력되는 순서반환\n",
        "# [2,1,3,2] 2 -> 1\n",
        "# [1,1,9,1,1,1] 0 -> 5"
      ],
      "metadata": {
        "id": "GMP36gnJ2Mw-"
      },
      "execution_count": 97,
      "outputs": []
    },
    {
      "cell_type": "code",
      "source": [
        "from collections import deque\n",
        "def solution(priorities, location):\n",
        "  count = 0\n",
        "  q = [(i,p) for i, p in enumerate(priorities)]\n",
        "  while q:\n",
        "    maximu = max(a[1] for a in q)\n",
        "    now = q.pop(0)\n",
        "    if now[1] == maximu:\n",
        "      count += 1\n",
        "      if now[0] == location:\n",
        "        return count\n",
        "    else:\n",
        "      q.append(now)\n",
        "\n",
        "print(solution([2,1,3,2], 2))\n",
        "print(solution([1,1,9,1,1,1], 0))"
      ],
      "metadata": {
        "colab": {
          "base_uri": "https://localhost:8080/"
        },
        "id": "WOMU2zRb3ouL",
        "outputId": "4e2efd9f-01cc-46cc-80aa-14a63528374b"
      },
      "execution_count": 110,
      "outputs": [
        {
          "output_type": "stream",
          "name": "stdout",
          "text": [
            "1\n",
            "5\n"
          ]
        }
      ]
    },
    {
      "cell_type": "code",
      "source": [
        "from collections import deque\n",
        "def solution(priorities, location):\n",
        "  count = 0\n",
        "  q = [(i,p) for i, p in enumerate(priorities)]\n",
        "  while q:\n",
        "    now = q.pop(0)\n",
        "    if any(now[1] < other[1] for other in q):\n",
        "      q.append(now)\n",
        "    else:\n",
        "      count += 1\n",
        "      priorities.remove(now[1])\n",
        "      if now[0] == location:\n",
        "        return count\n",
        "\n",
        "print(solution([2,1,3,2], 2))\n",
        "print(solution([1,1,9,1,1,1], 0))"
      ],
      "metadata": {
        "colab": {
          "base_uri": "https://localhost:8080/"
        },
        "id": "9duf-wq76FyC",
        "outputId": "a50897ed-3ba3-4716-cbc8-b7b15c7b4ce2"
      },
      "execution_count": 109,
      "outputs": [
        {
          "output_type": "stream",
          "name": "stdout",
          "text": [
            "1\n",
            "5\n"
          ]
        }
      ]
    },
    {
      "cell_type": "markdown",
      "source": [
        "# DFS/BFS\n",
        "- DFS : 깊이 우선 탐색. 그래프의 깊은 부분을 우선적으로 탐색. 스택, 재귀함수 사용\n",
        "- BFS : 너비 우선 탐색. 가까운 노드부터 탐색. 큐 사용."
      ],
      "metadata": {
        "id": "MDfsZkco9m7C"
      }
    },
    {
      "cell_type": "code",
      "source": [
        "# DFS(재귀)\n",
        "def dfs(graph, v, visited):\n",
        "  visited[v] = True\n",
        "  print(v, end=' ')\n",
        "  for i in graph[v]:\n",
        "    if not visited[i]:\n",
        "      dfs(graph, i, visited)\n",
        "\n",
        "# 인접 리스트\n",
        "graph = [\n",
        "  [],\n",
        "  [2, 3, 8],    # 1\n",
        "  [1, 7],       # 2\n",
        "  [1, 4, 5],    # 3\n",
        "  [3, 5],       # 4\n",
        "  [3, 4],       # 5\n",
        "  [7],          # 6\n",
        "  [2, 6, 8],    # 7\n",
        "  [1, 7]        # 8\n",
        "]\n",
        "\n",
        "# 각 노드가 방문된 정보를 리스트 자료형으로 표현(1차원 리스트)\n",
        "visited = [False] * 9\n",
        "\n",
        "# 정의된 DFS 함수 호출\n",
        "dfs(graph, 1, visited)"
      ],
      "metadata": {
        "colab": {
          "base_uri": "https://localhost:8080/"
        },
        "id": "hLVhPPhX8vin",
        "outputId": "ff4881f8-e9bb-4481-9a7e-12fb26f36b77"
      },
      "execution_count": 111,
      "outputs": [
        {
          "output_type": "stream",
          "name": "stdout",
          "text": [
            "1 2 7 6 8 3 4 5 "
          ]
        }
      ]
    },
    {
      "cell_type": "code",
      "source": [
        "# BFS\n",
        "from collections import deque\n",
        "\n",
        "# BFS 함수 정의\n",
        "def bfs(graph, start, visited):\n",
        "    # 큐(Queue) 구현을 위해 deque 라이브러리 사용\n",
        "    queue = deque([start])\n",
        "    # 현재 노드를 방문 처리\n",
        "    visited[start] = True\n",
        "    # 큐가 빌 때까지 반복\n",
        "    while queue:\n",
        "        # 큐에서 하나의 원소를 뽑아 출력\n",
        "        v = queue.popleft()\n",
        "        print(v, end=' ')\n",
        "        # 해당 원소와 연결된, 아직 방문하지 않은 원소들을 큐에 삽입\n",
        "        for i in graph[v]:\n",
        "            if not visited[i]:\n",
        "                queue.append(i)\n",
        "                visited[i] = True\n",
        "\n",
        "# 각 노드가 연결된 정보를 리스트 자료형으로 표현(2차원 리스트)\n",
        "graph = [\n",
        "  [],\n",
        "  [2, 3, 8],\n",
        "  [1, 7],\n",
        "  [1, 4, 5],\n",
        "  [3, 5],\n",
        "  [3, 4],\n",
        "  [7],\n",
        "  [2, 6, 8],\n",
        "  [1, 7]\n",
        "]\n",
        "\n",
        "# 각 노드가 방문된 정보를 리스트 자료형으로 표현(1차원 리스트)\n",
        "visited = [False] * 9\n",
        "\n",
        "# 정의된 BFS 함수 호출\n",
        "bfs(graph, 1, visited)"
      ],
      "metadata": {
        "colab": {
          "base_uri": "https://localhost:8080/"
        },
        "id": "p6AEjEFX_Dcf",
        "outputId": "fb2472b0-8c4b-4fc6-b905-c9e2080bc8af"
      },
      "execution_count": 112,
      "outputs": [
        {
          "output_type": "stream",
          "name": "stdout",
          "text": [
            "1 2 3 8 7 4 5 6 "
          ]
        }
      ]
    },
    {
      "cell_type": "markdown",
      "source": [
        "## 음료수 얼려 먹기"
      ],
      "metadata": {
        "id": "7VjGmLHxA82D"
      }
    },
    {
      "cell_type": "code",
      "source": [
        "# 세로 n, 가로 m 얼음틀\n",
        "# 구멍이 뚫려있는 부분 0, 칸막이 1\n",
        "# 생성되는 아이스 개수"
      ],
      "metadata": {
        "id": "enBRhT2rAnxq"
      },
      "execution_count": 113,
      "outputs": []
    },
    {
      "cell_type": "code",
      "source": [
        "#n, m = map(int, input().split())\n",
        "n, m = 4,5\n",
        "\n",
        "graph = []\n",
        "# for i in range(n):\n",
        "#   graph.append(list(map(int, input())))\n",
        "graph = [\n",
        "    [0,0,1,1,0],\n",
        "    [0,0,0,1,1],\n",
        "    [1,1,1,1,1],\n",
        "    [0,0,0,0,0]\n",
        "]\n",
        "print(graph[0])\n",
        "print(graph[1])\n",
        "print(graph[2])\n",
        "print(graph[3])\n",
        "\n",
        "def dfs(x,y):\n",
        "  if x<=-1 or x>=n or y<=-1 or y>=m:\n",
        "    return False\n",
        "  if graph[x][y] == 0:\n",
        "    graph[x][y] = 1\n",
        "    dfs(x-1, y)\n",
        "    dfs(x, y-1)\n",
        "    dfs(x+1, y)\n",
        "    dfs(x,y+1)\n",
        "    return True\n",
        "  return False\n",
        "\n",
        "result = 0\n",
        "for i in range(n):\n",
        "  for j in range(m):\n",
        "    if dfs(i,j) == True:\n",
        "      result += 1\n",
        "\n",
        "print(result)"
      ],
      "metadata": {
        "colab": {
          "base_uri": "https://localhost:8080/"
        },
        "id": "35NaEVOwBeIa",
        "outputId": "4f92536f-4927-421c-867e-aee7041496ea"
      },
      "execution_count": 115,
      "outputs": [
        {
          "output_type": "stream",
          "name": "stdout",
          "text": [
            "[0, 0, 1, 1, 0]\n",
            "[0, 0, 0, 1, 1]\n",
            "[1, 1, 1, 1, 1]\n",
            "[0, 0, 0, 0, 0]\n",
            "3\n"
          ]
        }
      ]
    },
    {
      "cell_type": "markdown",
      "source": [
        "## 미로탈출"
      ],
      "metadata": {
        "id": "bNZLui60DdMr"
      }
    },
    {
      "cell_type": "code",
      "source": [
        "from collections import deque\n",
        "\n",
        "#n, m = map(int, input().split())\n",
        "n, m = 5, 6\n",
        "graph = []\n",
        "\n",
        "#for i in range(n):\n",
        "#  graph.append(list(map(int, input())))\n",
        "graph = [\n",
        "    [1,0,1,0,1,0],\n",
        "    [1,1,1,1,1,1],\n",
        "    [0,0,0,0,0,1],\n",
        "    [1,1,1,1,1,1],\n",
        "    [1,1,1,1,1,1]\n",
        "]\n",
        "dx = [-1,1,0,0]\n",
        "dy = [0,0,-1,1]\n",
        "\n",
        "def bfs(x,y):\n",
        "  queue = deque()\n",
        "  queue.append((x,y))\n",
        "  while queue:\n",
        "    x,y = queue.popleft()\n",
        "    for i in range(4):\n",
        "      nx = x + dx[i]\n",
        "      ny = y + dy[i]\n",
        "      if nx < 0 or nx >= n or ny < 0 or ny >= m:\n",
        "        continue\n",
        "      if graph[nx][ny] == 0:\n",
        "        continue\n",
        "      if graph[nx][ny] == 1:\n",
        "        graph[nx][ny] = graph[x][y] + 1\n",
        "        queue.append((nx, ny))\n",
        "  return graph[n - 1][m - 1]\n",
        "\n",
        "print(bfs(0,0))"
      ],
      "metadata": {
        "colab": {
          "base_uri": "https://localhost:8080/"
        },
        "id": "YnU2gjHiC1Fu",
        "outputId": "755193b2-d6a3-47f0-a167-92ecc6e4eb7d"
      },
      "execution_count": 124,
      "outputs": [
        {
          "output_type": "stream",
          "name": "stdout",
          "text": [
            "10\n"
          ]
        }
      ]
    },
    {
      "cell_type": "code",
      "source": [
        "# 특정 거리의 도시 찾기\n",
        "from collections import deque\n",
        "# 도시의 개수, 도로의 개수, 거리 정보, 출발 도시 번호\n",
        "#n, m, k, x = map(int, input().split())\n",
        "n, m, k, x = 4, 4, 2, 1\n",
        "graph = [[] for _ in range(n+1)]\n",
        "\n",
        "# for _ in range(m):\n",
        "#   a, b = map(int, input().split())\n",
        "#   graph[a].append(b)\n",
        "\n",
        "graph[1].append(2)\n",
        "graph[1].append(3)\n",
        "graph[2].append(3)\n",
        "graph[2].append(4)\n",
        "\n",
        "distance = [-1] * (n + 1)\n",
        "distance[x] = 0\n",
        "q = deque([x])\n",
        "while q:\n",
        "  now = q.popleft()\n",
        "  for next_node in graph[now]:\n",
        "    if distance[next_node] == -1:\n",
        "      distance[next_node] = distance[now] + 1\n",
        "      q.append(next_node)\n",
        "\n",
        "check = False\n",
        "for i in range(1, n + 1):\n",
        "  if distance[i] == k:\n",
        "    print(i)\n",
        "    check = True\n",
        "\n",
        "if check == False:\n",
        "  print(-1)"
      ],
      "metadata": {
        "colab": {
          "base_uri": "https://localhost:8080/"
        },
        "id": "YyzNvVuINIyQ",
        "outputId": "3944f38b-26d5-419a-cc34-8787500639b8"
      },
      "execution_count": 126,
      "outputs": [
        {
          "output_type": "stream",
          "name": "stdout",
          "text": [
            "4\n"
          ]
        }
      ]
    },
    {
      "cell_type": "markdown",
      "source": [
        "## 정렬"
      ],
      "metadata": {
        "id": "0QAhUrJPFy3v"
      }
    },
    {
      "cell_type": "code",
      "source": [
        "# 선택정렬\n",
        "arr = [7, 5, 0, 3, 1, 6, 2, 4, 8]\n",
        "print(arr)\n",
        "\n",
        "for i in range(len(arr)):\n",
        "  min_index = i\n",
        "  for j in range(i + 1, len(arr)):\n",
        "    if arr[min_index] > arr[j]:\n",
        "      min_index = j\n",
        "  arr[i], arr[min_index] = arr[min_index], arr[i]\n",
        "\n",
        "print(arr)"
      ],
      "metadata": {
        "colab": {
          "base_uri": "https://localhost:8080/"
        },
        "id": "WVXeIqdUK4iD",
        "outputId": "7c158a62-af53-46e7-d47b-e445920ebb24"
      },
      "execution_count": 122,
      "outputs": [
        {
          "output_type": "stream",
          "name": "stdout",
          "text": [
            "[7, 5, 0, 3, 1, 6, 2, 4, 8]\n",
            "[0, 1, 2, 3, 4, 5, 6, 7, 8]\n"
          ]
        }
      ]
    },
    {
      "cell_type": "code",
      "source": [
        "# 퀵정렬\n",
        "arr = [7, 5, 0, 3, 1, 6, 2, 4, 8]\n",
        "print(arr)\n",
        "\n",
        "def quick_sort(arr):\n",
        "    if len(arr) <=1:\n",
        "        return arr\n",
        "    \n",
        "    pivot = arr[0]\n",
        "    tail = arr[1:]\n",
        "    \n",
        "    left = [x for x in tail if x <= pivot]\n",
        "    right = [x for x in tail if x > pivot]\n",
        "\n",
        "    return quick_sort(left)+[pivot] + quick_sort(right)\n",
        "\n",
        "print(quick_sort(arr))"
      ],
      "metadata": {
        "colab": {
          "base_uri": "https://localhost:8080/"
        },
        "id": "kFsxWwhNFz3E",
        "outputId": "024ed5e5-5999-4d22-d616-2f08571a76a2"
      },
      "execution_count": 116,
      "outputs": [
        {
          "output_type": "stream",
          "name": "stdout",
          "text": [
            "[7, 5, 0, 3, 1, 6, 2, 4, 8]\n",
            "[0, 1, 2, 3, 4, 5, 6, 7, 8]\n"
          ]
        }
      ]
    },
    {
      "cell_type": "code",
      "source": [
        "# 계수정렬\n",
        "\n",
        "arr = [7, 5, 0, 3, 1, 6, 2, 4, 8]\n",
        "print(arr)\n",
        "\n",
        "count = [0] * (max(arr)+1)\n",
        "\n",
        "for i in range(len(arr)):\n",
        "    count[arr[i]] += 1\n",
        "\n",
        "for i in range(len(count)):\n",
        "    for j in range(count[i]):\n",
        "        print(i, end=\" \")"
      ],
      "metadata": {
        "colab": {
          "base_uri": "https://localhost:8080/"
        },
        "id": "YamYYKedF3JX",
        "outputId": "1d54ffbf-72f6-41d7-f875-bd1abf49e741"
      },
      "execution_count": 120,
      "outputs": [
        {
          "output_type": "stream",
          "name": "stdout",
          "text": [
            "[7, 5, 0, 3, 1, 6, 2, 4, 8]\n",
            "0 1 2 3 4 5 6 7 8 "
          ]
        }
      ]
    },
    {
      "cell_type": "code",
      "source": [],
      "metadata": {
        "id": "qI6_F_8UF5GP"
      },
      "execution_count": null,
      "outputs": []
    }
  ]
}