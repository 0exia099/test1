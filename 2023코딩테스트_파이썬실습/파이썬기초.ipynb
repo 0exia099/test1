{
  "nbformat": 4,
  "nbformat_minor": 0,
  "metadata": {
    "colab": {
      "provenance": []
    },
    "kernelspec": {
      "name": "python3",
      "display_name": "Python 3"
    },
    "language_info": {
      "name": "python"
    }
  },
  "cells": [
    {
      "cell_type": "markdown",
      "source": [
        "#파이썬 기초 문법"
      ],
      "metadata": {
        "id": "KjB9kdBINcNT"
      }
    },
    {
      "cell_type": "markdown",
      "source": [
        "# 기본 자료형\n",
        "* 숫자 : 정수(int), 실수(float)\n",
        "* 문자열(str)"
      ],
      "metadata": {
        "id": "erhNcmGWNip7"
      }
    },
    {
      "cell_type": "code",
      "execution_count": null,
      "metadata": {
        "colab": {
          "base_uri": "https://localhost:8080/"
        },
        "id": "AQMkI6ehKRIl",
        "outputId": "e1d4e15b-e5c1-4236-8379-5767799a7c17"
      },
      "outputs": [
        {
          "output_type": "stream",
          "name": "stdout",
          "text": [
            "Hello\n"
          ]
        }
      ],
      "source": [
        "print('Hello')"
      ]
    },
    {
      "cell_type": "code",
      "source": [
        "print(34,type(34))\n",
        "print(34.1, type(34.1))"
      ],
      "metadata": {
        "colab": {
          "base_uri": "https://localhost:8080/"
        },
        "id": "oDqHiskyK5fv",
        "outputId": "486e8f9a-46de-4d0d-941f-0c3b90ae8a2d"
      },
      "execution_count": null,
      "outputs": [
        {
          "output_type": "stream",
          "name": "stdout",
          "text": [
            "34 <class 'int'>\n",
            "34.1 <class 'float'>\n"
          ]
        }
      ]
    },
    {
      "cell_type": "code",
      "source": [
        "a = 34\n",
        "b = 3.4\n",
        "print(a, type(a))\n",
        "print(b, type(b))"
      ],
      "metadata": {
        "colab": {
          "base_uri": "https://localhost:8080/"
        },
        "id": "yIxzFzCRNBVB",
        "outputId": "d1548982-5006-473d-8fa8-225bd7c40a74"
      },
      "execution_count": null,
      "outputs": [
        {
          "output_type": "stream",
          "name": "stdout",
          "text": [
            "34 <class 'int'>\n",
            "3.4 <class 'float'>\n"
          ]
        }
      ]
    },
    {
      "cell_type": "code",
      "source": [
        "a = 'hello' # '', \"\" 문자열 앞뒤에 표기\n",
        "print(a, type(a))"
      ],
      "metadata": {
        "colab": {
          "base_uri": "https://localhost:8080/"
        },
        "id": "60pIOX8lODkk",
        "outputId": "71695826-2e8a-4c47-fb30-efb36591c92e"
      },
      "execution_count": null,
      "outputs": [
        {
          "output_type": "stream",
          "name": "stdout",
          "text": [
            "hello <class 'str'>\n"
          ]
        }
      ]
    },
    {
      "cell_type": "code",
      "source": [
        "a = 10\n",
        "print(a, type(a))"
      ],
      "metadata": {
        "colab": {
          "base_uri": "https://localhost:8080/"
        },
        "id": "bqvVJh_TOF90",
        "outputId": "8d15fd3a-3da0-4cb7-8d21-eaf362a26953"
      },
      "execution_count": null,
      "outputs": [
        {
          "output_type": "stream",
          "name": "stdout",
          "text": [
            "10 <class 'int'>\n"
          ]
        }
      ]
    },
    {
      "cell_type": "code",
      "source": [
        "str(a)\n",
        "print(a, type(a))"
      ],
      "metadata": {
        "colab": {
          "base_uri": "https://localhost:8080/"
        },
        "id": "bA2su9OlSpP6",
        "outputId": "52330f14-5841-4d59-8880-f4d612fb97d3"
      },
      "execution_count": null,
      "outputs": [
        {
          "output_type": "stream",
          "name": "stdout",
          "text": [
            "10 <class 'int'>\n"
          ]
        }
      ]
    },
    {
      "cell_type": "code",
      "source": [
        "a = '''hello \n",
        "          python'''\n",
        "print(a, '\\n', type(a))"
      ],
      "metadata": {
        "colab": {
          "base_uri": "https://localhost:8080/"
        },
        "id": "PU5TOpROStgZ",
        "outputId": "25b67a62-3d83-4153-8e2b-d5d25dbcbc7f"
      },
      "execution_count": null,
      "outputs": [
        {
          "output_type": "stream",
          "name": "stdout",
          "text": [
            "hello \n",
            "          python \n",
            " <class 'str'>\n"
          ]
        }
      ]
    },
    {
      "cell_type": "code",
      "source": [
        "print(a, type(a))"
      ],
      "metadata": {
        "colab": {
          "base_uri": "https://localhost:8080/"
        },
        "id": "m4FSU5kETLAq",
        "outputId": "9327c70a-7f9f-42e5-d8a3-6664d7fc8a17"
      },
      "execution_count": null,
      "outputs": [
        {
          "output_type": "stream",
          "name": "stdout",
          "text": [
            "hello \n",
            "          python <class 'str'>\n"
          ]
        }
      ]
    },
    {
      "cell_type": "code",
      "source": [
        "# 데이터 형 변환\n",
        "a = '03'\n",
        "print(a, type(a))"
      ],
      "metadata": {
        "colab": {
          "base_uri": "https://localhost:8080/"
        },
        "id": "CqvcWqlXTPEA",
        "outputId": "de2162e5-85bf-48c9-a363-f74adc9931b4"
      },
      "execution_count": null,
      "outputs": [
        {
          "output_type": "stream",
          "name": "stdout",
          "text": [
            "03 <class 'str'>\n"
          ]
        }
      ]
    },
    {
      "cell_type": "code",
      "source": [
        "a = int(a)\n",
        "print(a, type(a))"
      ],
      "metadata": {
        "colab": {
          "base_uri": "https://localhost:8080/"
        },
        "id": "UrOEkcARTf06",
        "outputId": "c9ae968d-caa3-49e2-d8d3-204de2902bc0"
      },
      "execution_count": null,
      "outputs": [
        {
          "output_type": "stream",
          "name": "stdout",
          "text": [
            "3 <class 'int'>\n"
          ]
        }
      ]
    },
    {
      "cell_type": "code",
      "source": [
        "a = float(a)\n",
        "print(a, type(a))"
      ],
      "metadata": {
        "colab": {
          "base_uri": "https://localhost:8080/"
        },
        "id": "vkD7aa5kTijC",
        "outputId": "7ffe0714-58fc-421c-c807-96c0ea1876ea"
      },
      "execution_count": null,
      "outputs": [
        {
          "output_type": "stream",
          "name": "stdout",
          "text": [
            "3.0 <class 'float'>\n"
          ]
        }
      ]
    },
    {
      "cell_type": "markdown",
      "source": [
        "## 지수표현 방식\n",
        "임의의 큰 수 표현(최단 경로 알고리즘)  \n",
        "무한으로 활용하기 위해 사용  \n",
        "예) 1,000,000,000 -> 10^9 -> 1e9"
      ],
      "metadata": {
        "id": "rNZyPbSIVvJb"
      }
    },
    {
      "cell_type": "code",
      "source": [
        "inf = 1e9\n",
        "print(inf)"
      ],
      "metadata": {
        "colab": {
          "base_uri": "https://localhost:8080/"
        },
        "id": "EjNczHKNT4_D",
        "outputId": "9e67ad24-f03b-4770-ad45-a330b4bf7238"
      },
      "execution_count": null,
      "outputs": [
        {
          "output_type": "stream",
          "name": "stdout",
          "text": [
            "1000000000.0\n"
          ]
        }
      ]
    },
    {
      "cell_type": "code",
      "source": [
        "a = 10 ** 9\n",
        "print(a)"
      ],
      "metadata": {
        "colab": {
          "base_uri": "https://localhost:8080/"
        },
        "id": "hi-dROihWMlP",
        "outputId": "9103591f-524d-48d4-959e-db32d4dfc1f5"
      },
      "execution_count": null,
      "outputs": [
        {
          "output_type": "stream",
          "name": "stdout",
          "text": [
            "1000000000\n"
          ]
        }
      ]
    },
    {
      "cell_type": "code",
      "source": [
        "b = 1e9 #지수표현방식 : 실수형 float\n",
        "a = 10 ** 9 #거듭제곱 : int\n",
        "print(b, type(b))\n",
        "print(a, type(a))"
      ],
      "metadata": {
        "colab": {
          "base_uri": "https://localhost:8080/"
        },
        "id": "X_pHWGUUWRSL",
        "outputId": "2b8e6e66-629a-49bb-84d9-1ada986ff595"
      },
      "execution_count": null,
      "outputs": [
        {
          "output_type": "stream",
          "name": "stdout",
          "text": [
            "1000000000.0 <class 'float'>\n",
            "1000000000 <class 'int'>\n"
          ]
        }
      ]
    },
    {
      "cell_type": "code",
      "source": [
        "a = 7525e-1\n",
        "print(a)"
      ],
      "metadata": {
        "colab": {
          "base_uri": "https://localhost:8080/"
        },
        "id": "oKyZ5YarWqGj",
        "outputId": "fc809616-a159-40d2-ecf7-efe2b2279403"
      },
      "execution_count": null,
      "outputs": [
        {
          "output_type": "stream",
          "name": "stdout",
          "text": [
            "752.5\n"
          ]
        }
      ]
    },
    {
      "cell_type": "code",
      "source": [
        "b = 3954e-3\n",
        "print(b, type(b))"
      ],
      "metadata": {
        "colab": {
          "base_uri": "https://localhost:8080/"
        },
        "id": "REPuQlvrW1aF",
        "outputId": "f9c5dd89-a354-42b9-cc0f-cdaf714773f7"
      },
      "execution_count": null,
      "outputs": [
        {
          "output_type": "stream",
          "name": "stdout",
          "text": [
            "3.954 <class 'float'>\n"
          ]
        }
      ]
    },
    {
      "cell_type": "markdown",
      "source": [
        "## 여러 개의 변수에 할당 & 값 교환"
      ],
      "metadata": {
        "id": "y4duhTFBXj-x"
      }
    },
    {
      "cell_type": "code",
      "source": [
        "a, b, c = 10, 20, 30\n",
        "print(a, b, c)"
      ],
      "metadata": {
        "colab": {
          "base_uri": "https://localhost:8080/"
        },
        "id": "lcnZP-hHXodA",
        "outputId": "bee64d2c-3224-48b3-c331-daf68db1618d"
      },
      "execution_count": null,
      "outputs": [
        {
          "output_type": "stream",
          "name": "stdout",
          "text": [
            "10 20 30\n"
          ]
        }
      ]
    },
    {
      "cell_type": "code",
      "source": [
        "a = b = c = 0\n",
        "print(a,b,c)"
      ],
      "metadata": {
        "colab": {
          "base_uri": "https://localhost:8080/"
        },
        "id": "wnV50V8eXs5m",
        "outputId": "cf27ad93-1b3d-4848-8e6c-2027be2fa3cd"
      },
      "execution_count": null,
      "outputs": [
        {
          "output_type": "stream",
          "name": "stdout",
          "text": [
            "0 0 0\n"
          ]
        }
      ]
    },
    {
      "cell_type": "code",
      "source": [
        "# 값 교환\n",
        "a, b = 10, 20\n",
        "print('값 교환 전 : ', a, b)\n",
        "a, b = b, a\n",
        "print('값 교환 후 : ', a, b)"
      ],
      "metadata": {
        "colab": {
          "base_uri": "https://localhost:8080/"
        },
        "id": "d5TB85UsYAp6",
        "outputId": "185db9c9-37a3-4c56-ec74-6f79e6534b6c"
      },
      "execution_count": null,
      "outputs": [
        {
          "output_type": "stream",
          "name": "stdout",
          "text": [
            "값 교환 전 :  10 20\n",
            "값 교환 후 :  20 10\n"
          ]
        }
      ]
    },
    {
      "cell_type": "markdown",
      "source": [
        "## 연산자\n",
        "사칙연산 : +, -, *, /  \n",
        "몫 : //  \n",
        "나머지 : %  \n",
        "거듭제곱 : ** 또는 ^  \n"
      ],
      "metadata": {
        "id": "zCegM9JsYmvi"
      }
    },
    {
      "cell_type": "code",
      "source": [
        "a = 10\n",
        "b = 3\n",
        "print('a = ', a, ', b = ', b)\n",
        "print('-' * 30)\n",
        "print('더하기 : ', a+b)\n",
        "print('빼기 : ', a-b)\n",
        "print('곱하기 : ', a*b)\n",
        "print('나누기 : ', a/b)\n",
        "print('몫 : ', a//b)\n",
        "print('나머지 : ', a%b)\n",
        "print('거듭제곱 : ', a**b)\n",
        "print('-' * 30)"
      ],
      "metadata": {
        "colab": {
          "base_uri": "https://localhost:8080/"
        },
        "id": "tLa6Ri79YyI3",
        "outputId": "2cf1d4bd-d84d-4551-e2d5-6b0265075b02"
      },
      "execution_count": null,
      "outputs": [
        {
          "output_type": "stream",
          "name": "stdout",
          "text": [
            "a =  10 , b =  3\n",
            "------------------------------\n",
            "더하기 :  13\n",
            "빼기 :  7\n",
            "곱하기 :  30\n",
            "나누기 :  3.3333333333333335\n",
            "몫 :  3\n",
            "나머지 :  1\n",
            "거듭제곱 :  1000\n",
            "------------------------------\n"
          ]
        }
      ]
    },
    {
      "cell_type": "code",
      "source": [
        "a = 5\n",
        "b = 4\n",
        "print('a = ', a, ', b = ', b)\n",
        "print('나누기 : ', a/b)\n",
        "print('나누기(int) : ', int(a/b)) # int() 소수점 아래 버림\n",
        "print('나누기(round) : ', round(a/b)) # round() 반올림\n",
        "print('나누기(round) : ', round(a/b, 1)) # round() 둘째자리에서 반올림->무조건 아님"
      ],
      "metadata": {
        "colab": {
          "base_uri": "https://localhost:8080/"
        },
        "id": "hsL5FngFY-TI",
        "outputId": "b148d18f-9e0b-4acc-f9f4-15cd244e9745"
      },
      "execution_count": null,
      "outputs": [
        {
          "output_type": "stream",
          "name": "stdout",
          "text": [
            "a =  5 , b =  4\n",
            "나누기 :  1.25\n",
            "나누기(int) :  1\n",
            "나누기(round) :  1\n",
            "나누기(round) :  1.2\n"
          ]
        }
      ]
    },
    {
      "cell_type": "code",
      "source": [
        "# 5일때 짝수에 가깝게.\n",
        "num1 = 1.5\n",
        "num2 = 2.5\n",
        "print(round(num1))  # -> 반올림\n",
        "print(round(num2))  # -> 버림\n",
        "num1 = 1.115\n",
        "num2 = 1.225\n",
        "print(round(num1, 2))  # -> 버림\n",
        "print(round(num2, 2))  # -> 반올림\n",
        "num1 = 1.1115\n",
        "num2 = 1.2215\n",
        "print(round(num1, 3))  # -> 버림\n",
        "print(round(num2, 3))  # -> 반올림"
      ],
      "metadata": {
        "colab": {
          "base_uri": "https://localhost:8080/"
        },
        "id": "XxOO6n1UaNG4",
        "outputId": "25b1002e-03f3-460d-bb45-9f9657f0f2fd"
      },
      "execution_count": null,
      "outputs": [
        {
          "output_type": "stream",
          "name": "stdout",
          "text": [
            "2\n",
            "2\n",
            "1.11\n",
            "1.23\n",
            "1.111\n",
            "1.222\n"
          ]
        }
      ]
    },
    {
      "cell_type": "code",
      "source": [
        "import math\n",
        "print(math.ceil(1.2)) # 올림\n",
        "# 내장 수학함수 max, min, abs, round\n",
        "print(max(2,3,5))  # 큰값\n",
        "print(abs(-3))\n",
        "print(abs(-345))"
      ],
      "metadata": {
        "colab": {
          "base_uri": "https://localhost:8080/"
        },
        "id": "8cCsRzdQbH8Q",
        "outputId": "b1347961-afe0-4a26-f2b3-78059b88fa1a"
      },
      "execution_count": null,
      "outputs": [
        {
          "output_type": "stream",
          "name": "stdout",
          "text": [
            "2\n",
            "5\n",
            "3\n",
            "345\n"
          ]
        }
      ]
    },
    {
      "cell_type": "markdown",
      "source": [
        "## 입출력 함수\n",
        "- 출력 : print()\n",
        "- 입력 : input()"
      ],
      "metadata": {
        "id": "2n6fALWAhEM7"
      }
    },
    {
      "cell_type": "code",
      "source": [
        "# 한 줄에 하나씩 입력 받기\n",
        "a = input()\n",
        "b = input()\n",
        "print(a, b)"
      ],
      "metadata": {
        "colab": {
          "base_uri": "https://localhost:8080/"
        },
        "id": "X5Is2MS1hKfl",
        "outputId": "8b8b3f8e-88a4-4d05-9492-de78528383e0"
      },
      "execution_count": null,
      "outputs": [
        {
          "output_type": "stream",
          "name": "stdout",
          "text": [
            "123\n",
            "123\n",
            "123 123\n"
          ]
        }
      ]
    },
    {
      "cell_type": "code",
      "source": [
        "# 숫자로 입력 받기\n",
        "a = int(input('정수1을 입력해 주세요 : '))\n",
        "b = int(input('정수2를 입력해 주세요 : '))\n",
        "# f string방식. 3버전 이상 가능\n",
        "print(f\"a = {a}, b = {b}, a+b = {a+b}\")\n",
        "print(f\"{a} + {b} = {a + b}\")\n",
        "\n",
        "# ValueError"
      ],
      "metadata": {
        "colab": {
          "base_uri": "https://localhost:8080/"
        },
        "id": "h5EraDVWhPx8",
        "outputId": "180424bd-802c-4acc-efda-f7d5d4444e2e"
      },
      "execution_count": null,
      "outputs": [
        {
          "output_type": "stream",
          "name": "stdout",
          "text": [
            "정수1을 입력해 주세요 : 123\n",
            "정수2를 입력해 주세요 : 123\n",
            "a = 123, b = 123, a+b = 246\n",
            "123 + 123 = 246\n"
          ]
        }
      ]
    },
    {
      "cell_type": "markdown",
      "source": [
        "## 입력 값을 여러 개 받기(문자열 split메서드 이용)"
      ],
      "metadata": {
        "id": "SgeSGj4UjfLt"
      }
    },
    {
      "cell_type": "code",
      "source": [
        "strDate = input('날짜 입력 형식 : yyyy.mm.dd >> ')\n",
        "y, m, d = strDate.split('.')\n",
        "\n",
        "print(f\"strDate={strDate}\")\n",
        "print(f\"y = {y}, m = {m}, d = {d}\")"
      ],
      "metadata": {
        "colab": {
          "base_uri": "https://localhost:8080/"
        },
        "id": "X8NX4op0iIAC",
        "outputId": "412f5f7b-e0ac-43c7-9487-0239de3d140d"
      },
      "execution_count": null,
      "outputs": [
        {
          "output_type": "stream",
          "name": "stdout",
          "text": [
            "날짜 입력 형식 : yyyy.mm.dd >> 1234.12.12\n",
            "strDate=1234.12.12\n",
            "y = 1234, m = 12, d = 12\n"
          ]
        }
      ]
    },
    {
      "cell_type": "code",
      "source": [
        "# map(함수, 컬랙션 자료형)을 사용하여 입력받은 값을 정수로 변환하기\n",
        "a, b, c = map(int, input(\"a b c 값 입력 >> \").split(' '))\n",
        "print(a, b, c)\n",
        "print(type(a), type(b), type(c))"
      ],
      "metadata": {
        "colab": {
          "base_uri": "https://localhost:8080/"
        },
        "id": "_oVDq-sbkJ8Z",
        "outputId": "9a445d8e-6bf3-4fb7-9998-ac864b6d1d85"
      },
      "execution_count": null,
      "outputs": [
        {
          "output_type": "stream",
          "name": "stdout",
          "text": [
            "a b c 값 입력 >> 1 2 3\n",
            "1 2 3\n",
            "<class 'int'> <class 'int'> <class 'int'>\n"
          ]
        }
      ]
    },
    {
      "cell_type": "markdown",
      "source": [
        "## 문자열 연산 및 인덱싱과 슬라이싱"
      ],
      "metadata": {
        "id": "ylt4nLLo28Cf"
      }
    },
    {
      "cell_type": "code",
      "source": [
        "# 문자열 더하기\n",
        "a = 'apple'\n",
        "b = 'banana'\n",
        "print(\"문자열 더하기 a + ' ' + b :\", a + ' ' + b)\n",
        "print(\"문자열 더하기 a + \\\" \\\"+b :\", a + ' ' + b) # \\ : 이스케이프 문자(제어문자)"
      ],
      "metadata": {
        "colab": {
          "base_uri": "https://localhost:8080/"
        },
        "id": "ZlLQB1FYlNTX",
        "outputId": "1e9f7ee5-aa6b-4deb-b453-fcf983167a2f"
      },
      "execution_count": null,
      "outputs": [
        {
          "output_type": "stream",
          "name": "stdout",
          "text": [
            "문자열 더하기 a + ' ' + b : apple banana\n",
            "문자열 더하기 a + \" \"+b : apple banana\n"
          ]
        }
      ]
    },
    {
      "cell_type": "code",
      "source": [
        "# 문자열 곱하기\n",
        "print('★' * 20)\n",
        "print('문자열' * 3)\n",
        "print(a * 3)"
      ],
      "metadata": {
        "colab": {
          "base_uri": "https://localhost:8080/"
        },
        "id": "pfjRAgeX3ZsQ",
        "outputId": "91e3bdd2-9f75-4574-f0ae-52306679b24c"
      },
      "execution_count": null,
      "outputs": [
        {
          "output_type": "stream",
          "name": "stdout",
          "text": [
            "★★★★★★★★★★★★★★★★★★★★\n",
            "문자열문자열문자열\n",
            "appleappleapple\n"
          ]
        }
      ]
    },
    {
      "cell_type": "code",
      "source": [
        "a = 'hello world'\n",
        "print(f\"a={a}, a 문자열의 길이 : {len(a)}\")"
      ],
      "metadata": {
        "colab": {
          "base_uri": "https://localhost:8080/"
        },
        "id": "FU9wasE34aAc",
        "outputId": "d3ab6c92-6c85-4c9a-8710-c48a2ee21244"
      },
      "execution_count": null,
      "outputs": [
        {
          "output_type": "stream",
          "name": "stdout",
          "text": [
            "a=hello world, a 문자열의 길이 : 11\n"
          ]
        }
      ]
    },
    {
      "cell_type": "code",
      "source": [
        "# 첫번째 문자 추출(위치->인덱싱->슬라이싱)\n",
        "print(a[0]) # 예외) 통계처리 대표적인 프로그램 R에서는 첫번째가 1이다."
      ],
      "metadata": {
        "colab": {
          "base_uri": "https://localhost:8080/"
        },
        "id": "qvwJOM6C44zL",
        "outputId": "5fd8b5b4-457a-4efd-cc87-c7b73d3535d1"
      },
      "execution_count": null,
      "outputs": [
        {
          "output_type": "stream",
          "name": "stdout",
          "text": [
            "h\n"
          ]
        }
      ]
    },
    {
      "cell_type": "code",
      "source": [
        "# 마지막 문자 추출\n",
        "print(a[len(a)-1])\n",
        "print(a[-1])"
      ],
      "metadata": {
        "colab": {
          "base_uri": "https://localhost:8080/"
        },
        "id": "TcJcm8J15Tgi",
        "outputId": "7b59a115-9448-46ba-9061-c76ca1c54a00"
      },
      "execution_count": null,
      "outputs": [
        {
          "output_type": "stream",
          "name": "stdout",
          "text": [
            "d\n",
            "d\n"
          ]
        }
      ]
    },
    {
      "cell_type": "code",
      "source": [
        "# 슬라이싱\n",
        "# hello world -> hello만\n",
        "print(a[0:5]) # [시작:끝-1] 즉 0~4까지\n",
        "print(a[:5])  # 0은 생략가능\n",
        "print(a[6:]) # 뒤를 생략하면 끝까지\n",
        "print(a[-5:])"
      ],
      "metadata": {
        "colab": {
          "base_uri": "https://localhost:8080/"
        },
        "id": "37_msU4X5WSC",
        "outputId": "1388d3e8-fdeb-4a07-ce1e-3cbf0de12302"
      },
      "execution_count": null,
      "outputs": [
        {
          "output_type": "stream",
          "name": "stdout",
          "text": [
            "hello\n",
            "hello\n",
            "world\n",
            "world\n"
          ]
        }
      ]
    },
    {
      "cell_type": "markdown",
      "source": [
        "# 데이터구조\n",
        "데이터형(데이터구조)"
      ],
      "metadata": {
        "id": "sNQE8KRm-MJ7"
      }
    },
    {
      "cell_type": "markdown",
      "source": [
        "# 리스트"
      ],
      "metadata": {
        "id": "-TJkvjr1-ayC"
      }
    },
    {
      "cell_type": "code",
      "source": [
        "# 리스트 생성 []\n",
        "lst1 = []\n",
        "lst2 = [1, 2, 3]\n",
        "lst3 = ['my', 'name', 'is', 'abc']\n",
        "lst4 = [2, 'nickname', ['is', 'abc']]\n",
        "lst5 = [6, lst4, 2.0]\n",
        "print(lst1)\n",
        "print(lst2)\n",
        "print(lst3)\n",
        "print(lst4)\n",
        "print(lst5)"
      ],
      "metadata": {
        "colab": {
          "base_uri": "https://localhost:8080/"
        },
        "id": "iSidvn_k65Eg",
        "outputId": "7db58ee6-532a-45aa-d069-b40e80542ad5"
      },
      "execution_count": null,
      "outputs": [
        {
          "output_type": "stream",
          "name": "stdout",
          "text": [
            "[]\n",
            "[1, 2, 3]\n",
            "['my', 'name', 'is', 'abc']\n",
            "[2, 'nickname', ['is', 'abc']]\n",
            "[6, [2, 'nickname', ['is', 'abc']], 2.0]\n"
          ]
        }
      ]
    },
    {
      "cell_type": "code",
      "source": [
        "# 리스트 인덱싱 : 문자열 인덱싱 동일\n",
        "print(lst2[0])\n",
        "print(lst4[2])\n",
        "print(lst4[2][0])"
      ],
      "metadata": {
        "colab": {
          "base_uri": "https://localhost:8080/"
        },
        "id": "uZCm6Mie9goj",
        "outputId": "e667d10a-6fd9-43a0-9189-1c012f7d1bac"
      },
      "execution_count": null,
      "outputs": [
        {
          "output_type": "stream",
          "name": "stdout",
          "text": [
            "1\n",
            "['is', 'abc']\n",
            "is\n"
          ]
        }
      ]
    },
    {
      "cell_type": "code",
      "source": [
        "# 리스트 슬라이싱 [start:end(-1):step]\n",
        "lst6 = list('hello')\n",
        "print(lst6[0:3])\n",
        "print(lst5[1:3])\n",
        "print(lst6[-1])"
      ],
      "metadata": {
        "colab": {
          "base_uri": "https://localhost:8080/"
        },
        "id": "w0Dx9y-t__Ex",
        "outputId": "6479d0ff-7489-46c8-c54d-d67e0cf4bc14"
      },
      "execution_count": null,
      "outputs": [
        {
          "output_type": "stream",
          "name": "stdout",
          "text": [
            "['h', 'e', 'l']\n",
            "[[2, 'nickname', ['is', 'abc']], 2.0]\n",
            "o\n"
          ]
        }
      ]
    },
    {
      "cell_type": "code",
      "source": [
        "lst7 = list('abcdefghijklmn')\n",
        "print(lst7)\n",
        "print(lst7[::2])"
      ],
      "metadata": {
        "colab": {
          "base_uri": "https://localhost:8080/"
        },
        "id": "tzXth342AocM",
        "outputId": "e9af25e8-5fb6-47e4-ca44-d6c09e8df961"
      },
      "execution_count": null,
      "outputs": [
        {
          "output_type": "stream",
          "name": "stdout",
          "text": [
            "['a', 'b', 'c', 'd', 'e', 'f', 'g', 'h', 'i', 'j', 'k', 'l', 'm', 'n']\n",
            "['a', 'c', 'e', 'g', 'i', 'k', 'm']\n"
          ]
        }
      ]
    },
    {
      "cell_type": "code",
      "source": [
        "# 리스트 연산\n",
        "lstColor = ['red', 'green', 'blue']\n",
        "lstFruit = ['orange', 'mango', 'apple']\n",
        "print(lstColor + lstFruit)\n",
        "print(lstColor * 2)\n",
        "print(len(lstColor))"
      ],
      "metadata": {
        "colab": {
          "base_uri": "https://localhost:8080/"
        },
        "id": "BaV930bjBsV2",
        "outputId": "907526d5-4ecb-4776-a3d4-7344bea7615a"
      },
      "execution_count": null,
      "outputs": [
        {
          "output_type": "stream",
          "name": "stdout",
          "text": [
            "['red', 'green', 'blue', 'orange', 'mango', 'apple']\n",
            "['red', 'green', 'blue', 'red', 'green', 'blue']\n",
            "3\n"
          ]
        }
      ]
    },
    {
      "cell_type": "markdown",
      "source": [
        "## 리스트 수정 및 삭제"
      ],
      "metadata": {
        "id": "aDcRL27yFRws"
      }
    },
    {
      "cell_type": "code",
      "source": [
        "# 리스트 수정 : 인덱싱을 이용해서 데이터 수정\n",
        "print('원본 :', lstColor)\n",
        "lstColor[0] = 'pink'\n",
        "print('수정 :', lstColor)"
      ],
      "metadata": {
        "colab": {
          "base_uri": "https://localhost:8080/"
        },
        "id": "0rUQ5A89CLuM",
        "outputId": "38288c64-ac4e-4367-9d96-422f4885e4af"
      },
      "execution_count": null,
      "outputs": [
        {
          "output_type": "stream",
          "name": "stdout",
          "text": [
            "원본 : ['red', 'green', 'blue']\n",
            "수정 : ['pink', 'green', 'blue']\n"
          ]
        }
      ]
    },
    {
      "cell_type": "code",
      "source": [
        "# 리스트 삭제(del)\n",
        "print('원본 :', lstColor)\n",
        "del lstColor[1]\n",
        "print('수정 :', lstColor)"
      ],
      "metadata": {
        "colab": {
          "base_uri": "https://localhost:8080/"
        },
        "id": "XKYRAgI1Fwko",
        "outputId": "dd32d3f0-7e69-4a4b-bc5d-b75a80bddac1"
      },
      "execution_count": null,
      "outputs": [
        {
          "output_type": "stream",
          "name": "stdout",
          "text": [
            "원본 : ['pink', 'green', 'blue']\n",
            "수정 : ['pink', 'blue']\n"
          ]
        }
      ]
    },
    {
      "cell_type": "code",
      "source": [
        "# 리스트 삭제(스택 데이터 구조 방식 삭제  .pop(위치))\n",
        "print('원본 :', lstColor)\n",
        "print(lstColor.pop(1))\n",
        "print('수정 :', lstColor)"
      ],
      "metadata": {
        "colab": {
          "base_uri": "https://localhost:8080/"
        },
        "id": "52LrL3QCGHLa",
        "outputId": "83c0a36f-1a93-4e08-8656-c468559b288d"
      },
      "execution_count": null,
      "outputs": [
        {
          "output_type": "stream",
          "name": "stdout",
          "text": [
            "원본 : ['pink', 'blue']\n",
            "blue\n",
            "수정 : ['pink']\n"
          ]
        }
      ]
    },
    {
      "cell_type": "code",
      "source": [
        "print('원본 :', lstColor)\n",
        "print(lstColor.pop()) # 마지막 데이터 삭제\n",
        "print('수정 :', lstColor)"
      ],
      "metadata": {
        "colab": {
          "base_uri": "https://localhost:8080/"
        },
        "id": "ReLpKCM0GiJb",
        "outputId": "091d9f72-6cd8-443d-d287-cfc594b1a1fa"
      },
      "execution_count": null,
      "outputs": [
        {
          "output_type": "stream",
          "name": "stdout",
          "text": [
            "원본 : ['pink']\n",
            "pink\n",
            "수정 : []\n"
          ]
        }
      ]
    },
    {
      "cell_type": "markdown",
      "source": [
        "## 리스트 추가"
      ],
      "metadata": {
        "id": "ehcJbs3kH5d8"
      }
    },
    {
      "cell_type": "code",
      "source": [
        "# 리스트 추가(마지막에 통째로 추가)\n",
        "a = [10, 20, 30]\n",
        "b = [40, 50]\n",
        "a.append(b)\n",
        "print(a)"
      ],
      "metadata": {
        "colab": {
          "base_uri": "https://localhost:8080/"
        },
        "id": "5jkyAWvNH3Cz",
        "outputId": "b95ac030-20db-4c48-8266-d035c847711f"
      },
      "execution_count": null,
      "outputs": [
        {
          "output_type": "stream",
          "name": "stdout",
          "text": [
            "[10, 20, 30, [40, 50]]\n"
          ]
        }
      ]
    },
    {
      "cell_type": "code",
      "source": [
        "# 리스트 안의 리스트 요소\n",
        "print(a[3][0])\n",
        "print(a[-1][0])"
      ],
      "metadata": {
        "colab": {
          "base_uri": "https://localhost:8080/"
        },
        "id": "bfZKTd2SIEB0",
        "outputId": "7abf0ca9-09a5-41d3-8f96-f0cdc02722a8"
      },
      "execution_count": null,
      "outputs": [
        {
          "output_type": "stream",
          "name": "stdout",
          "text": [
            "40\n",
            "40\n"
          ]
        }
      ]
    },
    {
      "cell_type": "code",
      "source": [
        "a.append(100)\n",
        "print(a)"
      ],
      "metadata": {
        "colab": {
          "base_uri": "https://localhost:8080/"
        },
        "id": "Hpiv836AImPE",
        "outputId": "3e0893d4-88bb-4d3e-c8b6-083f23a3c39f"
      },
      "execution_count": null,
      "outputs": [
        {
          "output_type": "stream",
          "name": "stdout",
          "text": [
            "[10, 20, 30, [40, 50], 100]\n"
          ]
        }
      ]
    },
    {
      "cell_type": "code",
      "source": [
        "# 리스트 추가(마지막에 낱개로 추가)\n",
        "a = [10,20,30]\n",
        "b = [40,50]\n",
        "a.extend(b)\n",
        "print(a)"
      ],
      "metadata": {
        "colab": {
          "base_uri": "https://localhost:8080/"
        },
        "id": "cXmex1d0JRL6",
        "outputId": "8aeb9ed6-5676-4986-b161-71bf9b7d908a"
      },
      "execution_count": null,
      "outputs": [
        {
          "output_type": "stream",
          "name": "stdout",
          "text": [
            "[10, 20, 30, 40, 50]\n"
          ]
        }
      ]
    },
    {
      "cell_type": "code",
      "source": [
        "# 리스트에 문자열 추가\n",
        "a.extend('고양이')\n",
        "print(a)"
      ],
      "metadata": {
        "colab": {
          "base_uri": "https://localhost:8080/"
        },
        "id": "PGWxoyO3J5IP",
        "outputId": "9649ae0a-ca47-401a-ce16-ea24239ea315"
      },
      "execution_count": null,
      "outputs": [
        {
          "output_type": "stream",
          "name": "stdout",
          "text": [
            "[10, 20, 30, 40, 50, '고', '양', '이']\n"
          ]
        }
      ]
    },
    {
      "cell_type": "markdown",
      "source": [
        "## 리스트 정렬"
      ],
      "metadata": {
        "id": "MhyczTR8KLF2"
      }
    },
    {
      "cell_type": "code",
      "source": [
        "x = [42,3,68,1,27]\n",
        "print(x)\n",
        "x.sort()\n",
        "print(x)\n",
        "x.reverse()\n",
        "print(x)"
      ],
      "metadata": {
        "colab": {
          "base_uri": "https://localhost:8080/"
        },
        "id": "CwBPC4x1J-xG",
        "outputId": "8af9bb15-f913-4aa4-e739-d5291adfb67f"
      },
      "execution_count": null,
      "outputs": [
        {
          "output_type": "stream",
          "name": "stdout",
          "text": [
            "[42, 3, 68, 1, 27]\n",
            "[1, 3, 27, 42, 68]\n",
            "[68, 42, 27, 3, 1]\n"
          ]
        }
      ]
    },
    {
      "cell_type": "code",
      "source": [
        "x.sort(reverse=True)\n",
        "print(x)"
      ],
      "metadata": {
        "colab": {
          "base_uri": "https://localhost:8080/"
        },
        "id": "LMtqbWVlKpUY",
        "outputId": "de0d6ec3-d967-4736-e231-50e640816b17"
      },
      "execution_count": null,
      "outputs": [
        {
          "output_type": "stream",
          "name": "stdout",
          "text": [
            "[68, 42, 27, 3, 1]\n"
          ]
        }
      ]
    },
    {
      "cell_type": "code",
      "source": [
        "# 특정요소의 위치 반환\n",
        "x = [42, 3, 68, 1, 27]\n",
        "print(x)\n",
        "idx = x.index(27)\n",
        "print('27의 실제 위치 :', idx)"
      ],
      "metadata": {
        "colab": {
          "base_uri": "https://localhost:8080/"
        },
        "id": "jznysorYK8Fr",
        "outputId": "3548f61c-dbf7-45ff-8302-2a90151b9f99"
      },
      "execution_count": null,
      "outputs": [
        {
          "output_type": "stream",
          "name": "stdout",
          "text": [
            "[42, 3, 68, 1, 27]\n",
            "27의 실제 위치 : 4\n"
          ]
        }
      ]
    },
    {
      "cell_type": "code",
      "source": [
        "# 특정 위치에 값을 추가 .insert() <-> .append()\n",
        "print('원본 :', x)\n",
        "x.insert(idx, 30) # idx = 4이다.\n",
        "print(x)"
      ],
      "metadata": {
        "colab": {
          "base_uri": "https://localhost:8080/"
        },
        "id": "j4I-PbAIMH2B",
        "outputId": "5552e924-bc0b-4e57-9b8d-2b809dcdfcbd"
      },
      "execution_count": null,
      "outputs": [
        {
          "output_type": "stream",
          "name": "stdout",
          "text": [
            "원본 : [42, 3, 68, 1, 27]\n",
            "[42, 3, 68, 1, 30, 27]\n"
          ]
        }
      ]
    },
    {
      "cell_type": "code",
      "source": [
        "x.append(30)\n",
        "print(x)"
      ],
      "metadata": {
        "colab": {
          "base_uri": "https://localhost:8080/"
        },
        "id": "MUyx2h3tM5tW",
        "outputId": "709e2bc6-a37d-4474-a48e-76ba33bbcef7"
      },
      "execution_count": null,
      "outputs": [
        {
          "output_type": "stream",
          "name": "stdout",
          "text": [
            "[42, 3, 68, 1, 30, 27, 30]\n"
          ]
        }
      ]
    },
    {
      "cell_type": "code",
      "source": [
        "# 갯수\n",
        "# .count(x) x의 원소 갯수 반환\n",
        "print(x)\n",
        "print(x.count(30))"
      ],
      "metadata": {
        "colab": {
          "base_uri": "https://localhost:8080/"
        },
        "id": "kj5vpqhqN4MI",
        "outputId": "74ca34c9-4b1a-48df-885f-979f2aab2484"
      },
      "execution_count": null,
      "outputs": [
        {
          "output_type": "stream",
          "name": "stdout",
          "text": [
            "[42, 3, 68, 1, 30, 27, 30]\n",
            "2\n"
          ]
        }
      ]
    },
    {
      "cell_type": "markdown",
      "source": [
        "# 딕셔너리\n",
        "{k:v}->1:1대응"
      ],
      "metadata": {
        "id": "_wuQmB7bSrHW"
      }
    },
    {
      "cell_type": "code",
      "source": [
        "myInfo = {'name':'홍길동', 'likeNum':2, 'height':185}\n",
        "print(myInfo, type(myInfo))"
      ],
      "metadata": {
        "colab": {
          "base_uri": "https://localhost:8080/"
        },
        "id": "RWwmmkwZOCyq",
        "outputId": "2a207263-78dc-4892-b05a-e5e3604619fa"
      },
      "execution_count": null,
      "outputs": [
        {
          "output_type": "stream",
          "name": "stdout",
          "text": [
            "{'name': '홍길동', 'likeNum': 2, 'height': 185} <class 'dict'>\n"
          ]
        }
      ]
    },
    {
      "cell_type": "code",
      "source": [
        "a = {}\n",
        "print(a, type(a))"
      ],
      "metadata": {
        "colab": {
          "base_uri": "https://localhost:8080/"
        },
        "id": "yb76r861TS_A",
        "outputId": "3181f670-f878-48bb-ab3b-580745bfd350"
      },
      "execution_count": null,
      "outputs": [
        {
          "output_type": "stream",
          "name": "stdout",
          "text": [
            "{} <class 'dict'>\n"
          ]
        }
      ]
    },
    {
      "cell_type": "code",
      "source": [
        "# 딕셔너리 검색 키로 찾기\n",
        "myInfo['name']"
      ],
      "metadata": {
        "colab": {
          "base_uri": "https://localhost:8080/",
          "height": 36
        },
        "id": "doi6mchcTgQc",
        "outputId": "98d3280e-896d-4126-de47-b8c2583cd3f2"
      },
      "execution_count": null,
      "outputs": [
        {
          "output_type": "execute_result",
          "data": {
            "text/plain": [
              "'홍길동'"
            ],
            "application/vnd.google.colaboratory.intrinsic+json": {
              "type": "string"
            }
          },
          "metadata": {},
          "execution_count": 56
        }
      ]
    },
    {
      "cell_type": "code",
      "source": [
        "# 딕셔너리 수정 키로 변경\n",
        "myInfo['name'] = '홍길재'\n",
        "print(myInfo)"
      ],
      "metadata": {
        "colab": {
          "base_uri": "https://localhost:8080/"
        },
        "id": "RDkYLLzjTq3X",
        "outputId": "2a20c061-1ed8-4320-a763-621fb37c8cd2"
      },
      "execution_count": null,
      "outputs": [
        {
          "output_type": "stream",
          "name": "stdout",
          "text": [
            "{'name': '홍길재', 'likeNum': 2, 'height': 185}\n"
          ]
        }
      ]
    },
    {
      "cell_type": "code",
      "source": [
        "# 추가 및 수정 : 키와 값이 있을 때는 수정, 없을 때는 추가\n",
        "myInfo['hobby'] = '벽타기'\n",
        "print(myInfo)"
      ],
      "metadata": {
        "colab": {
          "base_uri": "https://localhost:8080/"
        },
        "id": "rIK9pSZbUCOb",
        "outputId": "bf27ad0b-c401-4904-da5a-5204e8ea68fe"
      },
      "execution_count": null,
      "outputs": [
        {
          "output_type": "stream",
          "name": "stdout",
          "text": [
            "{'name': '홍길재', 'likeNum': 2, 'height': 185, 'hobby': '벽타기'}\n"
          ]
        }
      ]
    },
    {
      "cell_type": "code",
      "source": [
        "myInfo['hobby'] = '담넘기'\n",
        "print(myInfo)"
      ],
      "metadata": {
        "colab": {
          "base_uri": "https://localhost:8080/"
        },
        "id": "AZDsoMkIUV17",
        "outputId": "33e31b45-6713-495e-cde2-9a590f6ff935"
      },
      "execution_count": null,
      "outputs": [
        {
          "output_type": "stream",
          "name": "stdout",
          "text": [
            "{'name': '홍길재', 'likeNum': 2, 'height': 185, 'hobby': '담넘기'}\n"
          ]
        }
      ]
    },
    {
      "cell_type": "code",
      "source": [
        "# 삭제\n",
        "print('원본 :', myInfo)\n",
        "del myInfo['height']\n",
        "print('변경 :', myInfo)"
      ],
      "metadata": {
        "colab": {
          "base_uri": "https://localhost:8080/"
        },
        "id": "FlEjKl1VUcfe",
        "outputId": "8095bbbb-9362-4711-9c05-d451ecf8b567"
      },
      "execution_count": null,
      "outputs": [
        {
          "output_type": "stream",
          "name": "stdout",
          "text": [
            "원본 : {'name': '홍길재', 'likeNum': 2, 'height': 185, 'hobby': '담넘기'}\n",
            "변경 : {'name': '홍길재', 'likeNum': 2, 'hobby': '담넘기'}\n"
          ]
        }
      ]
    },
    {
      "cell_type": "code",
      "source": [
        "myInfo['height'] = '165'  # 마지막에 추가된다.\n",
        "print(myInfo)"
      ],
      "metadata": {
        "colab": {
          "base_uri": "https://localhost:8080/"
        },
        "id": "9XDvOJQhUzqp",
        "outputId": "227875f6-82b2-44dc-9cdc-8940ed9793ee"
      },
      "execution_count": null,
      "outputs": [
        {
          "output_type": "stream",
          "name": "stdout",
          "text": [
            "{'name': '홍길재', 'likeNum': 2, 'hobby': '담넘기', 'height': '165'}\n"
          ]
        }
      ]
    },
    {
      "cell_type": "code",
      "source": [
        "print(myInfo)\n",
        "myInfo.pop('height')"
      ],
      "metadata": {
        "colab": {
          "base_uri": "https://localhost:8080/",
          "height": 54
        },
        "id": "a_oEH5fvVNEP",
        "outputId": "82a80ea4-db9d-4725-af80-f5934d145684"
      },
      "execution_count": null,
      "outputs": [
        {
          "output_type": "stream",
          "name": "stdout",
          "text": [
            "{'name': '홍길재', 'likeNum': 2, 'hobby': '담넘기', 'height': '165'}\n"
          ]
        },
        {
          "output_type": "execute_result",
          "data": {
            "text/plain": [
              "'165'"
            ],
            "application/vnd.google.colaboratory.intrinsic+json": {
              "type": "string"
            }
          },
          "metadata": {},
          "execution_count": 62
        }
      ]
    },
    {
      "cell_type": "code",
      "source": [
        "print(myInfo)"
      ],
      "metadata": {
        "colab": {
          "base_uri": "https://localhost:8080/"
        },
        "id": "gKJsnY8hV4Xe",
        "outputId": "59e35b0d-e4b9-48b7-99c3-3530307b0c26"
      },
      "execution_count": null,
      "outputs": [
        {
          "output_type": "stream",
          "name": "stdout",
          "text": [
            "{'name': '홍길재', 'likeNum': 2, 'hobby': '담넘기'}\n"
          ]
        }
      ]
    },
    {
      "cell_type": "code",
      "source": [
        "# 데이터 가져오기 get\n",
        "print(myInfo.get('height')) # 없으면 None\n",
        "print(myInfo.get('height', 'no key')) # 반환값을 적어주면 그거 출력\n",
        "print(myInfo.get('hobby'))"
      ],
      "metadata": {
        "colab": {
          "base_uri": "https://localhost:8080/"
        },
        "id": "87MEyVZAWSDq",
        "outputId": "b10c7f5a-3482-4151-8c98-83b8def951f9"
      },
      "execution_count": null,
      "outputs": [
        {
          "output_type": "stream",
          "name": "stdout",
          "text": [
            "None\n",
            "no key\n",
            "담넘기\n"
          ]
        }
      ]
    },
    {
      "cell_type": "code",
      "source": [
        "myInfo = {'name':'홍길동', 'likeNum':2, 'height':185}\n",
        "# 메서드 : 특정 함수가 가진 별도의 함수\n",
        "print(myInfo.keys())\n",
        "print(myInfo.values())\n",
        "print(myInfo.items())"
      ],
      "metadata": {
        "colab": {
          "base_uri": "https://localhost:8080/"
        },
        "id": "EMzqGsB4Wydg",
        "outputId": "553a4af7-4982-48fd-8e26-0e92f0602eff"
      },
      "execution_count": null,
      "outputs": [
        {
          "output_type": "stream",
          "name": "stdout",
          "text": [
            "dict_keys(['name', 'likeNum', 'height'])\n",
            "dict_values(['홍길동', 2, 185])\n",
            "dict_items([('name', '홍길동'), ('likeNum', 2), ('height', 185)])\n"
          ]
        }
      ]
    },
    {
      "cell_type": "code",
      "source": [
        "# 리스트 타입 변환\n",
        "# int(), float(), str(), list(), dict(), tuple() 강제형변환 -> 파이썬 데이터타입 가변형으로 사용\n",
        "lstkeys = list(myInfo.keys())\n",
        "print(lstkeys, type(lstkeys))\n",
        "# 특정 키가 있는지 확인\n",
        "print('names' in myInfo.keys())\n",
        "print('height' in myInfo)"
      ],
      "metadata": {
        "colab": {
          "base_uri": "https://localhost:8080/"
        },
        "id": "gvPFqElNXc9k",
        "outputId": "146fe11e-5a26-4334-c0ec-189716feaec5"
      },
      "execution_count": null,
      "outputs": [
        {
          "output_type": "stream",
          "name": "stdout",
          "text": [
            "['name', 'likeNum', 'height'] <class 'list'>\n",
            "False\n",
            "True\n"
          ]
        }
      ]
    },
    {
      "cell_type": "markdown",
      "source": [
        "# 튜플\n",
        "() 리스트와 유사, 읽기전용 -> 수정 불가"
      ],
      "metadata": {
        "id": "MC3coWx8aHZq"
      }
    },
    {
      "cell_type": "code",
      "source": [
        "t1 = (1,2,3)  # 튜플\n",
        "t2 = 1,2,3  # 튜플\n",
        "t3 = (1)  # int -> 괄호로 주어져도 원소 하나면 튜플아님\n",
        "t4 = (1,) # ,있으면 튜플\n",
        "print(t1, type(t1))\n",
        "print(t2, type(t2))\n",
        "print(t3, type(t3))\n",
        "print(t4, type(t4))"
      ],
      "metadata": {
        "colab": {
          "base_uri": "https://localhost:8080/"
        },
        "id": "NiNmZg80Yub4",
        "outputId": "27d3972d-66ef-4f68-b234-9929ba1e181a"
      },
      "execution_count": null,
      "outputs": [
        {
          "output_type": "stream",
          "name": "stdout",
          "text": [
            "(1, 2, 3) <class 'tuple'>\n",
            "(1, 2, 3) <class 'tuple'>\n",
            "1 <class 'int'>\n",
            "(1,) <class 'tuple'>\n"
          ]
        }
      ]
    },
    {
      "cell_type": "code",
      "source": [
        "t1 = (1,2,3)\n",
        "n1 = 1   \n",
        "t2 = 1,2,3\n",
        "t3 = (10)       # 괄호로 주어져도 원소가 1개이면 int로 저장\n",
        "t4 = (10,)      # 1개 튜플로 저장 끝에 콤마(,) 표시\n",
        "print(t1, type(t1))\n",
        "print(n1, type(n1))\n",
        "print(t2, type(t2))\n",
        "print(t3, type(t3))\n",
        "print(t4, type(t4))\n",
        "\n",
        "print(t1[0])\n",
        "print(t1[-1])\n",
        "# t1[0] = 100 TypeError  튜플은 수정불가\n",
        "print(t1)"
      ],
      "metadata": {
        "colab": {
          "base_uri": "https://localhost:8080/"
        },
        "id": "tXXeSk_QajA7",
        "outputId": "80e7de0c-98ed-45ad-9ac2-132bfce1145b"
      },
      "execution_count": null,
      "outputs": [
        {
          "output_type": "stream",
          "name": "stdout",
          "text": [
            "(1, 2, 3) <class 'tuple'>\n",
            "1 <class 'int'>\n",
            "(1, 2, 3) <class 'tuple'>\n",
            "10 <class 'int'>\n",
            "(10,) <class 'tuple'>\n",
            "1\n",
            "3\n",
            "(1, 2, 3)\n"
          ]
        }
      ]
    },
    {
      "cell_type": "markdown",
      "source": [
        "# 내장함수 enumerate()"
      ],
      "metadata": {
        "id": "ZcXvErS7Ql-n"
      }
    },
    {
      "cell_type": "code",
      "source": [
        "a = [45,12,34]\n",
        "\n",
        "for i in a:\n",
        "  print(i)\n",
        "\n",
        "for i in enumerate(a):  # 인덱스와 값이 튜플의 형태로 나온다.\n",
        "  print(i)\n",
        "\n",
        "for i in enumerate(a):\n",
        "  print(i[0], i[1])"
      ],
      "metadata": {
        "id": "nGscLgZsb82D",
        "colab": {
          "base_uri": "https://localhost:8080/"
        },
        "outputId": "90e08f90-a86a-4c4f-fc7f-65a9c2664a04"
      },
      "execution_count": null,
      "outputs": [
        {
          "output_type": "stream",
          "name": "stdout",
          "text": [
            "45\n",
            "12\n",
            "34\n",
            "(0, 45)\n",
            "(1, 12)\n",
            "(2, 34)\n",
            "0 45\n",
            "1 12\n",
            "2 34\n"
          ]
        }
      ]
    },
    {
      "cell_type": "markdown",
      "source": [
        "# 집합 {데이터1, 데이터2,}\n",
        "- 순서가 없어서 인덱스 x\n",
        "- 자료 중복 허용x(리스트 중복 허용)\n",
        "- 결과 순서 예측 불가능"
      ],
      "metadata": {
        "id": "0oEl9NsXSq23"
      }
    },
    {
      "cell_type": "code",
      "source": [
        "lst1 = [3,3,4,5,6]\n",
        "print(lst1)"
      ],
      "metadata": {
        "colab": {
          "base_uri": "https://localhost:8080/"
        },
        "id": "e7LQsobMRV1a",
        "outputId": "6045aa46-24fc-4e07-a56e-bab85a4f38d7"
      },
      "execution_count": null,
      "outputs": [
        {
          "output_type": "stream",
          "name": "stdout",
          "text": [
            "[3, 3, 4, 5, 6]\n"
          ]
        }
      ]
    },
    {
      "cell_type": "code",
      "source": [
        "print(set(lst1))"
      ],
      "metadata": {
        "colab": {
          "base_uri": "https://localhost:8080/"
        },
        "id": "mfLe2ujJS4jM",
        "outputId": "416e9b6e-3909-483d-f980-e7848eda70b2"
      },
      "execution_count": null,
      "outputs": [
        {
          "output_type": "stream",
          "name": "stdout",
          "text": [
            "{3, 4, 5, 6}\n"
          ]
        }
      ]
    },
    {
      "cell_type": "code",
      "source": [
        "print(list(set(lst1)))"
      ],
      "metadata": {
        "colab": {
          "base_uri": "https://localhost:8080/"
        },
        "id": "ChltTXZpS6VB",
        "outputId": "b3211568-4fad-4c6e-a0d5-3672fa59f2e3"
      },
      "execution_count": null,
      "outputs": [
        {
          "output_type": "stream",
          "name": "stdout",
          "text": [
            "[3, 4, 5, 6]\n"
          ]
        }
      ]
    },
    {
      "cell_type": "code",
      "source": [
        "# 집합 연산\n",
        "st1 = {1,3,5,7,1,9}\n",
        "st2 = {2,2,1,3,6}\n",
        "st3 = {3,1,8}\n",
        "\n",
        "print(set(st1))\n",
        "print(set(st2))\n",
        "print('교집합 :', st1 & st3)  # 규칙이 없다.\n",
        "print('합집합 :', st1 | st2)\n",
        "print('차집합1 :', st1 - st2)\n",
        "print('차집합2 :', st2 - st1)\n",
        "print('대칭차집합 -> 합집합 - 교집합 :', st1 ^ st2)\n",
        "print('union(합집합) :', st1.union(st2))\n",
        "print('difference(차집합) = ', st1.difference(st2))\n",
        "print('symmetric_difference(대칭차집합) = ', st1.symmetric_difference(st2))"
      ],
      "metadata": {
        "colab": {
          "base_uri": "https://localhost:8080/"
        },
        "id": "S5RdzSS0S8ai",
        "outputId": "d3fde289-fde4-4073-90ef-37c74153a439"
      },
      "execution_count": null,
      "outputs": [
        {
          "output_type": "stream",
          "name": "stdout",
          "text": [
            "{1, 3, 5, 7, 9}\n",
            "{1, 2, 3, 6}\n",
            "교집합 : {1, 3}\n",
            "합집합 : {1, 2, 3, 5, 6, 7, 9}\n",
            "차집합1 : {9, 5, 7}\n",
            "차집합2 : {2, 6}\n",
            "대칭차집합 -> 합집합 - 교집합 : {2, 5, 6, 7, 9}\n",
            "union(합집합) : {1, 2, 3, 5, 6, 7, 9}\n",
            "difference(차집합) =  {9, 5, 7}\n",
            "symmetric_difference(대칭차집합) =  {2, 5, 6, 7, 9}\n"
          ]
        }
      ]
    },
    {
      "cell_type": "code",
      "source": [],
      "metadata": {
        "id": "t2mE2EUWUeEI"
      },
      "execution_count": null,
      "outputs": []
    }
  ]
}