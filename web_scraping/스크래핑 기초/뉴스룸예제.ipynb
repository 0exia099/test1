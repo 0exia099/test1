{
 "cells": [
  {
   "cell_type": "code",
   "execution_count": 1,
   "id": "7e4e4d5d",
   "metadata": {},
   "outputs": [],
   "source": [
    "import requests\n",
    "from bs4 import BeautifulSoup"
   ]
  },
  {
   "cell_type": "code",
   "execution_count": 4,
   "id": "f8682b0f",
   "metadata": {},
   "outputs": [
    {
     "name": "stderr",
     "output_type": "stream",
     "text": [
      "C:\\Users\\0exia\\anaconda3\\lib\\site-packages\\urllib3\\connectionpool.py:1013: InsecureRequestWarning: Unverified HTTPS request is being made to host 'www.yu.ac.kr'. Adding certificate verification is strongly advised. See: https://urllib3.readthedocs.io/en/1.26.x/advanced-usage.html#ssl-warnings\n",
      "  warnings.warn(\n"
     ]
    }
   ],
   "source": [
    "url = 'https://www.yu.ac.kr/main/index.do'\n",
    "r = requests.get(url, verify = False)\n",
    "r.raise_for_status()"
   ]
  },
  {
   "cell_type": "code",
   "execution_count": 5,
   "id": "ce9d99b1",
   "metadata": {},
   "outputs": [],
   "source": [
    "soup = BeautifulSoup(r.content, 'html.parser') #뉴스룸의 제목만 가지고 오려고함.\n",
    "titles = soup.select('.mini-title') #제목에 mini-title있음"
   ]
  },
  {
   "cell_type": "code",
   "execution_count": 6,
   "id": "ee937a27",
   "metadata": {},
   "outputs": [
    {
     "name": "stdout",
     "output_type": "stream",
     "text": [
      "[<p class=\"mini-title\">영남대, 30대 그룹 계열사 CEO 배출 대학 ‘9위’</p>, <p class=\"mini-title\">영남대 로봇축구대회…기계·전자·ICT 등 융합 인재 키운다!</p>, <p class=\"mini-title\">“새마을개발 배우자!” 외국인 유학생들 머리 맞대</p>, <p class=\"mini-title\">이용호 로스쿨 교수, 대한국제법학회 회장 취임</p>, <p class=\"mini-title\">영남대, ‘Smart Mobility 창업캠프’ 최우수상 수상</p>, <p class=\"mini-title\">이돈 Active USA 회장, 모교 영남대에 200만 달러 기탁</p>, <p class=\"mini-title\">2022학년도 1학기 ICT학점연계 프로젝트 인턴십(국내과정) 참가자 모집</p>, <p class=\"mini-title\">영남대학교 개교 75주년 기념 디자인 공모전</p>, <p class=\"mini-title\">[학생상담센터] 2021학년도 학생상담센터 이용후기 공모전 결과 발표 </p>, <p class=\"mini-title\">[건강관리센터] 2022학년도 1학기 건강공제회 안내</p>, <p class=\"mini-title\">[대구상공회의소] Global Business 사업단 20기 추가모집공고</p>, <p class=\"mini-title\">[진로교육팀] 하반기 기업이 원하는 인성 함양 캠프 (마지막 차수!)</p>, <p class=\"mini-title\">제8회 청정에너지중점연구소워크샵 안내</p>, <p class=\"mini-title\">[의과학연구소] 영남대학교 의과대학 기초의학 40주년 기념 심포지엄 개최</p>, <p class=\"mini-title\">[생활과학연구소] 2022 영남대학교 생활과학연구소 학술 심포지움 개최 안내</p>, <p class=\"mini-title\">[생활과학연구소] 세미나 개최 안내</p>, <p class=\"mini-title\">[독도연구소] 2022년 1월 영남대 독도연구소 월례세미나 개최 </p>, <p class=\"mini-title\">[교육학과 BK21 연구팀] 천마 교육학술대회 행사개요 및 논문모집 안내</p>, <p class=\"mini-title\">2022-1학기 2차 국가근로장학생 신청 안내</p>, <p class=\"mini-title\">2021년 하반기 인천시 대학생 학자금대출 이자지원 신청 안내</p>, <p class=\"mini-title\">★2022-1학기 국가장학금 2차 학생신청 안내★</p>, <p class=\"mini-title\">2022-1학기 행정인턴십장학생 '희망근로지' 신청 안내(일정변경)</p>, <p class=\"mini-title\">2022-1학기 국가근로장학생 '희망근로지' 신청 안내(일정변경)</p>, <p class=\"mini-title\">[추가접수]2022-1학기 한국지도자육성장학재단 신규장학생 선발안내</p>, <p class=\"mini-title\">[우수 작품 선정 및 시상] 총 60명, 총 상금 5천만원 자세히보기 - https://w...</p>, <p class=\"mini-title\">‘영남대 LINC+사업단-경북시민재단’ 협약 체결 지역문제 해결, 공동체 활성화 통해 지역...</p>, <p class=\"mini-title\">영남대 ‘반류수 처리용 아나목스 공정 기술’, 기업 이전 정진영 환경공학과 교수 개발 기술...</p>, <p class=\"mini-title\">영남대 출판부 발간도서 ‘2021 올해의 최우수 학술도서’ 선정 &lt;8세기말 중국에서 인도로...</p>, <p class=\"mini-title\">⭐ 영남대학교 개교 75주년을 맞이하여 디자인 공모전을 개최합니다🥳🥳🥳 우리 대학을 ...</p>, <p class=\"mini-title\">검은 호랑이의 해, 임인년 새해가 밝았습니다. 2022년 새해에도 항상 건강하시고 뜻깊고 ...</p>, <p class=\"mini-title\">강한 바람에 순식간에 광탈한 단풍을 기리며,,, #강풍주의보 #바람에날아갈뻔 #숨은단풍명소...</p>, <p class=\"mini-title\">#리그램 - @yu_enter 영남대학교 편입학모집 원서접수 안내 1. 원서접수 일정 - ...</p>]\n"
     ]
    }
   ],
   "source": [
    "print(titles) #뉴스룸 이외의 것들도 다 표시됨"
   ]
  },
  {
   "cell_type": "code",
   "execution_count": 7,
   "id": "0ff1890c",
   "metadata": {},
   "outputs": [
    {
     "name": "stdout",
     "output_type": "stream",
     "text": [
      "[<p class=\"mini-title\">영남대, 30대 그룹 계열사 CEO 배출 대학 ‘9위’</p>, <p class=\"mini-title\">영남대 로봇축구대회…기계·전자·ICT 등 융합 인재 키운다!</p>, <p class=\"mini-title\">“새마을개발 배우자!” 외국인 유학생들 머리 맞대</p>, <p class=\"mini-title\">이용호 로스쿨 교수, 대한국제법학회 회장 취임</p>, <p class=\"mini-title\">영남대, ‘Smart Mobility 창업캠프’ 최우수상 수상</p>, <p class=\"mini-title\">이돈 Active USA 회장, 모교 영남대에 200만 달러 기탁</p>]\n"
     ]
    }
   ],
   "source": [
    "titles = soup.select('.main-news-box .mini-title') #main-news-box안의 mini-title만 가지고 옴\n",
    "print(titles)"
   ]
  },
  {
   "cell_type": "code",
   "execution_count": 9,
   "id": "c37e7123",
   "metadata": {},
   "outputs": [],
   "source": [
    "titles = [p.get_text() for p in titles] #list comprehension"
   ]
  },
  {
   "cell_type": "code",
   "execution_count": 10,
   "id": "a6194530",
   "metadata": {},
   "outputs": [
    {
     "data": {
      "text/plain": [
       "['영남대, 30대 그룹 계열사 CEO 배출 대학 ‘9위’',\n",
       " '영남대 로봇축구대회…기계·전자·ICT 등 융합 인재 키운다!',\n",
       " '“새마을개발 배우자!” 외국인 유학생들 머리 맞대',\n",
       " '이용호 로스쿨 교수, 대한국제법학회 회장 취임',\n",
       " '영남대, ‘Smart Mobility 창업캠프’ 최우수상 수상',\n",
       " '이돈 Active USA 회장, 모교 영남대에 200만 달러 기탁']"
      ]
     },
     "execution_count": 10,
     "metadata": {},
     "output_type": "execute_result"
    }
   ],
   "source": [
    "titles"
   ]
  },
  {
   "cell_type": "code",
   "execution_count": 11,
   "id": "c7c92d89",
   "metadata": {},
   "outputs": [
    {
     "name": "stdout",
     "output_type": "stream",
     "text": [
      "[<div class=\"news-txt-box\">\n",
      "<p class=\"mini-title\">영남대, 30대 그룹 계열사 CEO 배출 대학 ‘9위’</p>\n",
      "<span class=\"mini-date\">2022-01-28</span>\n",
      "</div>, <div class=\"news-txt-box\">\n",
      "<p class=\"mini-title\">영남대 로봇축구대회…기계·전자·ICT 등 융합 인재 키운다!</p>\n",
      "<span class=\"mini-date\">2022-01-26</span>\n",
      "</div>, <div class=\"news-txt-box\">\n",
      "<p class=\"mini-title\">“새마을개발 배우자!” 외국인 유학생들 머리 맞대</p>\n",
      "<span class=\"mini-date\">2022-01-20</span>\n",
      "</div>, <div class=\"news-txt-box\">\n",
      "<p class=\"mini-title\">이용호 로스쿨 교수, 대한국제법학회 회장 취임</p>\n",
      "<span class=\"mini-date\">2022-01-18</span>\n",
      "</div>, <div class=\"news-txt-box\">\n",
      "<p class=\"mini-title\">영남대, ‘Smart Mobility 창업캠프’ 최우수상 수상</p>\n",
      "<span class=\"mini-date\">2022-01-14</span>\n",
      "</div>, <div class=\"news-txt-box\">\n",
      "<p class=\"mini-title\">이돈 Active USA 회장, 모교 영남대에 200만 달러 기탁</p>\n",
      "<span class=\"mini-date\">2022-01-12</span>\n",
      "</div>]\n"
     ]
    }
   ],
   "source": [
    "news_txt_box = soup.select('.news-txt-box') #뉴스룸에서 제목과 날짜까지 있는 부분 가지고옴\n",
    "print(news_txt_box)"
   ]
  },
  {
   "cell_type": "code",
   "execution_count": 12,
   "id": "392052ae",
   "metadata": {},
   "outputs": [
    {
     "name": "stdout",
     "output_type": "stream",
     "text": [
      "<div class=\"news-txt-box\">\n",
      "<p class=\"mini-title\">영남대, 30대 그룹 계열사 CEO 배출 대학 ‘9위’</p>\n",
      "<span class=\"mini-date\">2022-01-28</span>\n",
      "</div>\n"
     ]
    }
   ],
   "source": [
    "print(news_txt_box[0]) #처음거"
   ]
  },
  {
   "cell_type": "code",
   "execution_count": 13,
   "id": "7cbe2465",
   "metadata": {},
   "outputs": [
    {
     "data": {
      "text/plain": [
       "'영남대, 30대 그룹 계열사 CEO 배출 대학 ‘9위’'"
      ]
     },
     "execution_count": 13,
     "metadata": {},
     "output_type": "execute_result"
    }
   ],
   "source": [
    "news_txt_box[0].p.get_text() #news_txt_box 처음거의 p태그의 문자 가지고옴"
   ]
  },
  {
   "cell_type": "code",
   "execution_count": 14,
   "id": "4822347f",
   "metadata": {},
   "outputs": [
    {
     "data": {
      "text/plain": [
       "'2022-01-28'"
      ]
     },
     "execution_count": 14,
     "metadata": {},
     "output_type": "execute_result"
    }
   ],
   "source": [
    "news_txt_box[0].span.get_text() #날짜"
   ]
  },
  {
   "cell_type": "code",
   "execution_count": 15,
   "id": "0b256a51",
   "metadata": {},
   "outputs": [],
   "source": [
    "titles_and_dates = [(content.p.get_text(), content.span.get_text()) for content in news_txt_box] #제목과 날짜 문자만 가지고옴"
   ]
  },
  {
   "cell_type": "code",
   "execution_count": 16,
   "id": "c44ab555",
   "metadata": {},
   "outputs": [
    {
     "name": "stdout",
     "output_type": "stream",
     "text": [
      "[('영남대, 30대 그룹 계열사 CEO 배출 대학 ‘9위’', '2022-01-28'), ('영남대 로봇축구대회…기계·전자·ICT 등 융합 인재 키운다!', '2022-01-26'), ('“새마을개발 배우자!” 외국인 유학생들 머리 맞대', '2022-01-20'), ('이용호 로스쿨 교수, 대한국제법학회 회장 취임', '2022-01-18'), ('영남대, ‘Smart Mobility 창업캠프’ 최우수상 수상', '2022-01-14'), ('이돈 Active USA 회장, 모교 영남대에 200만 달러 기탁', '2022-01-12')]\n"
     ]
    }
   ],
   "source": [
    "print(titles_and_dates)"
   ]
  },
  {
   "cell_type": "code",
   "execution_count": 17,
   "id": "ddf7e569",
   "metadata": {},
   "outputs": [],
   "source": [
    "import pandas as pd"
   ]
  },
  {
   "cell_type": "code",
   "execution_count": 18,
   "id": "0e454153",
   "metadata": {},
   "outputs": [],
   "source": [
    "yu_newsroom_title = pd.DataFrame(titles_and_dates) #엑셀의 시트와 비슷함"
   ]
  },
  {
   "cell_type": "code",
   "execution_count": 19,
   "id": "e6900b50",
   "metadata": {},
   "outputs": [
    {
     "data": {
      "text/html": [
       "<div>\n",
       "<style scoped>\n",
       "    .dataframe tbody tr th:only-of-type {\n",
       "        vertical-align: middle;\n",
       "    }\n",
       "\n",
       "    .dataframe tbody tr th {\n",
       "        vertical-align: top;\n",
       "    }\n",
       "\n",
       "    .dataframe thead th {\n",
       "        text-align: right;\n",
       "    }\n",
       "</style>\n",
       "<table border=\"1\" class=\"dataframe\">\n",
       "  <thead>\n",
       "    <tr style=\"text-align: right;\">\n",
       "      <th></th>\n",
       "      <th>0</th>\n",
       "      <th>1</th>\n",
       "    </tr>\n",
       "  </thead>\n",
       "  <tbody>\n",
       "    <tr>\n",
       "      <th>0</th>\n",
       "      <td>영남대, 30대 그룹 계열사 CEO 배출 대학 ‘9위’</td>\n",
       "      <td>2022-01-28</td>\n",
       "    </tr>\n",
       "    <tr>\n",
       "      <th>1</th>\n",
       "      <td>영남대 로봇축구대회…기계·전자·ICT 등 융합 인재 키운다!</td>\n",
       "      <td>2022-01-26</td>\n",
       "    </tr>\n",
       "    <tr>\n",
       "      <th>2</th>\n",
       "      <td>“새마을개발 배우자!” 외국인 유학생들 머리 맞대</td>\n",
       "      <td>2022-01-20</td>\n",
       "    </tr>\n",
       "    <tr>\n",
       "      <th>3</th>\n",
       "      <td>이용호 로스쿨 교수, 대한국제법학회 회장 취임</td>\n",
       "      <td>2022-01-18</td>\n",
       "    </tr>\n",
       "    <tr>\n",
       "      <th>4</th>\n",
       "      <td>영남대, ‘Smart Mobility 창업캠프’ 최우수상 수상</td>\n",
       "      <td>2022-01-14</td>\n",
       "    </tr>\n",
       "    <tr>\n",
       "      <th>5</th>\n",
       "      <td>이돈 Active USA 회장, 모교 영남대에 200만 달러 기탁</td>\n",
       "      <td>2022-01-12</td>\n",
       "    </tr>\n",
       "  </tbody>\n",
       "</table>\n",
       "</div>"
      ],
      "text/plain": [
       "                                      0           1\n",
       "0        영남대, 30대 그룹 계열사 CEO 배출 대학 ‘9위’  2022-01-28\n",
       "1     영남대 로봇축구대회…기계·전자·ICT 등 융합 인재 키운다!  2022-01-26\n",
       "2           “새마을개발 배우자!” 외국인 유학생들 머리 맞대  2022-01-20\n",
       "3             이용호 로스쿨 교수, 대한국제법학회 회장 취임  2022-01-18\n",
       "4    영남대, ‘Smart Mobility 창업캠프’ 최우수상 수상  2022-01-14\n",
       "5  이돈 Active USA 회장, 모교 영남대에 200만 달러 기탁  2022-01-12"
      ]
     },
     "execution_count": 19,
     "metadata": {},
     "output_type": "execute_result"
    }
   ],
   "source": [
    "yu_newsroom_title"
   ]
  },
  {
   "cell_type": "code",
   "execution_count": 20,
   "id": "6077b888",
   "metadata": {},
   "outputs": [],
   "source": [
    "yu_newsroom_title = pd.DataFrame(titles_and_dates, columns=['제목', '게시날짜']) #칼럼 이름지정"
   ]
  },
  {
   "cell_type": "code",
   "execution_count": 21,
   "id": "4e27c776",
   "metadata": {},
   "outputs": [
    {
     "data": {
      "text/html": [
       "<div>\n",
       "<style scoped>\n",
       "    .dataframe tbody tr th:only-of-type {\n",
       "        vertical-align: middle;\n",
       "    }\n",
       "\n",
       "    .dataframe tbody tr th {\n",
       "        vertical-align: top;\n",
       "    }\n",
       "\n",
       "    .dataframe thead th {\n",
       "        text-align: right;\n",
       "    }\n",
       "</style>\n",
       "<table border=\"1\" class=\"dataframe\">\n",
       "  <thead>\n",
       "    <tr style=\"text-align: right;\">\n",
       "      <th></th>\n",
       "      <th>제목</th>\n",
       "      <th>게시날짜</th>\n",
       "    </tr>\n",
       "  </thead>\n",
       "  <tbody>\n",
       "    <tr>\n",
       "      <th>0</th>\n",
       "      <td>영남대, 30대 그룹 계열사 CEO 배출 대학 ‘9위’</td>\n",
       "      <td>2022-01-28</td>\n",
       "    </tr>\n",
       "    <tr>\n",
       "      <th>1</th>\n",
       "      <td>영남대 로봇축구대회…기계·전자·ICT 등 융합 인재 키운다!</td>\n",
       "      <td>2022-01-26</td>\n",
       "    </tr>\n",
       "    <tr>\n",
       "      <th>2</th>\n",
       "      <td>“새마을개발 배우자!” 외국인 유학생들 머리 맞대</td>\n",
       "      <td>2022-01-20</td>\n",
       "    </tr>\n",
       "    <tr>\n",
       "      <th>3</th>\n",
       "      <td>이용호 로스쿨 교수, 대한국제법학회 회장 취임</td>\n",
       "      <td>2022-01-18</td>\n",
       "    </tr>\n",
       "    <tr>\n",
       "      <th>4</th>\n",
       "      <td>영남대, ‘Smart Mobility 창업캠프’ 최우수상 수상</td>\n",
       "      <td>2022-01-14</td>\n",
       "    </tr>\n",
       "    <tr>\n",
       "      <th>5</th>\n",
       "      <td>이돈 Active USA 회장, 모교 영남대에 200만 달러 기탁</td>\n",
       "      <td>2022-01-12</td>\n",
       "    </tr>\n",
       "  </tbody>\n",
       "</table>\n",
       "</div>"
      ],
      "text/plain": [
       "                                     제목        게시날짜\n",
       "0        영남대, 30대 그룹 계열사 CEO 배출 대학 ‘9위’  2022-01-28\n",
       "1     영남대 로봇축구대회…기계·전자·ICT 등 융합 인재 키운다!  2022-01-26\n",
       "2           “새마을개발 배우자!” 외국인 유학생들 머리 맞대  2022-01-20\n",
       "3             이용호 로스쿨 교수, 대한국제법학회 회장 취임  2022-01-18\n",
       "4    영남대, ‘Smart Mobility 창업캠프’ 최우수상 수상  2022-01-14\n",
       "5  이돈 Active USA 회장, 모교 영남대에 200만 달러 기탁  2022-01-12"
      ]
     },
     "execution_count": 21,
     "metadata": {},
     "output_type": "execute_result"
    }
   ],
   "source": [
    "yu_newsroom_title"
   ]
  },
  {
   "cell_type": "code",
   "execution_count": 22,
   "id": "d6fd156f",
   "metadata": {},
   "outputs": [
    {
     "name": "stdout",
     "output_type": "stream",
     "text": [
      "22-02-06\n"
     ]
    }
   ],
   "source": [
    "from datetime import datetime #수집한 날짜 저장을 위해 현재날짜 가지고옴\n",
    "today = datetime.today().strftime('%y-%m-%d')\n",
    "print(today)"
   ]
  },
  {
   "cell_type": "code",
   "execution_count": 23,
   "id": "70a4a93c",
   "metadata": {},
   "outputs": [],
   "source": [
    "yu_newsroom_title['수집날짜'] = today #수집날짜 추가"
   ]
  },
  {
   "cell_type": "code",
   "execution_count": 24,
   "id": "a9a02cab",
   "metadata": {},
   "outputs": [
    {
     "data": {
      "text/html": [
       "<div>\n",
       "<style scoped>\n",
       "    .dataframe tbody tr th:only-of-type {\n",
       "        vertical-align: middle;\n",
       "    }\n",
       "\n",
       "    .dataframe tbody tr th {\n",
       "        vertical-align: top;\n",
       "    }\n",
       "\n",
       "    .dataframe thead th {\n",
       "        text-align: right;\n",
       "    }\n",
       "</style>\n",
       "<table border=\"1\" class=\"dataframe\">\n",
       "  <thead>\n",
       "    <tr style=\"text-align: right;\">\n",
       "      <th></th>\n",
       "      <th>제목</th>\n",
       "      <th>게시날짜</th>\n",
       "      <th>수집날짜</th>\n",
       "    </tr>\n",
       "  </thead>\n",
       "  <tbody>\n",
       "    <tr>\n",
       "      <th>0</th>\n",
       "      <td>영남대, 30대 그룹 계열사 CEO 배출 대학 ‘9위’</td>\n",
       "      <td>2022-01-28</td>\n",
       "      <td>22-02-06</td>\n",
       "    </tr>\n",
       "    <tr>\n",
       "      <th>1</th>\n",
       "      <td>영남대 로봇축구대회…기계·전자·ICT 등 융합 인재 키운다!</td>\n",
       "      <td>2022-01-26</td>\n",
       "      <td>22-02-06</td>\n",
       "    </tr>\n",
       "    <tr>\n",
       "      <th>2</th>\n",
       "      <td>“새마을개발 배우자!” 외국인 유학생들 머리 맞대</td>\n",
       "      <td>2022-01-20</td>\n",
       "      <td>22-02-06</td>\n",
       "    </tr>\n",
       "    <tr>\n",
       "      <th>3</th>\n",
       "      <td>이용호 로스쿨 교수, 대한국제법학회 회장 취임</td>\n",
       "      <td>2022-01-18</td>\n",
       "      <td>22-02-06</td>\n",
       "    </tr>\n",
       "    <tr>\n",
       "      <th>4</th>\n",
       "      <td>영남대, ‘Smart Mobility 창업캠프’ 최우수상 수상</td>\n",
       "      <td>2022-01-14</td>\n",
       "      <td>22-02-06</td>\n",
       "    </tr>\n",
       "    <tr>\n",
       "      <th>5</th>\n",
       "      <td>이돈 Active USA 회장, 모교 영남대에 200만 달러 기탁</td>\n",
       "      <td>2022-01-12</td>\n",
       "      <td>22-02-06</td>\n",
       "    </tr>\n",
       "  </tbody>\n",
       "</table>\n",
       "</div>"
      ],
      "text/plain": [
       "                                     제목        게시날짜      수집날짜\n",
       "0        영남대, 30대 그룹 계열사 CEO 배출 대학 ‘9위’  2022-01-28  22-02-06\n",
       "1     영남대 로봇축구대회…기계·전자·ICT 등 융합 인재 키운다!  2022-01-26  22-02-06\n",
       "2           “새마을개발 배우자!” 외국인 유학생들 머리 맞대  2022-01-20  22-02-06\n",
       "3             이용호 로스쿨 교수, 대한국제법학회 회장 취임  2022-01-18  22-02-06\n",
       "4    영남대, ‘Smart Mobility 창업캠프’ 최우수상 수상  2022-01-14  22-02-06\n",
       "5  이돈 Active USA 회장, 모교 영남대에 200만 달러 기탁  2022-01-12  22-02-06"
      ]
     },
     "execution_count": 24,
     "metadata": {},
     "output_type": "execute_result"
    }
   ],
   "source": [
    "yu_newsroom_title"
   ]
  },
  {
   "cell_type": "code",
   "execution_count": 26,
   "id": "e7d38e7c",
   "metadata": {},
   "outputs": [],
   "source": [
    "yu_newsroom_title.to_excel('yu_newsroom.xlsx') #엑셀파일로 저장"
   ]
  },
  {
   "cell_type": "markdown",
   "id": "55dab36d",
   "metadata": {},
   "source": [
    "### 주기적 실행\n",
    "\n",
    "crontab"
   ]
  },
  {
   "cell_type": "code",
   "execution_count": null,
   "id": "a96c7a54",
   "metadata": {},
   "outputs": [],
   "source": []
  }
 ],
 "metadata": {
  "kernelspec": {
   "display_name": "Python 3 (ipykernel)",
   "language": "python",
   "name": "python3"
  },
  "language_info": {
   "codemirror_mode": {
    "name": "ipython",
    "version": 3
   },
   "file_extension": ".py",
   "mimetype": "text/x-python",
   "name": "python",
   "nbconvert_exporter": "python",
   "pygments_lexer": "ipython3",
   "version": "3.9.7"
  }
 },
 "nbformat": 4,
 "nbformat_minor": 5
}
