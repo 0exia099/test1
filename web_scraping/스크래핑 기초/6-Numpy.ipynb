{
 "cells": [
  {
   "cell_type": "code",
   "execution_count": 1,
   "id": "5e88479f",
   "metadata": {},
   "outputs": [],
   "source": [
    "import numpy as np"
   ]
  },
  {
   "cell_type": "code",
   "execution_count": 2,
   "id": "85929e01",
   "metadata": {},
   "outputs": [],
   "source": [
    "a = np.arange(100).reshape((5,-1))"
   ]
  },
  {
   "cell_type": "code",
   "execution_count": 3,
   "id": "4579601a",
   "metadata": {},
   "outputs": [
    {
     "data": {
      "text/plain": [
       "array([[ 0,  1,  2,  3,  4,  5,  6,  7,  8,  9, 10, 11, 12, 13, 14, 15,\n",
       "        16, 17, 18, 19],\n",
       "       [20, 21, 22, 23, 24, 25, 26, 27, 28, 29, 30, 31, 32, 33, 34, 35,\n",
       "        36, 37, 38, 39],\n",
       "       [40, 41, 42, 43, 44, 45, 46, 47, 48, 49, 50, 51, 52, 53, 54, 55,\n",
       "        56, 57, 58, 59],\n",
       "       [60, 61, 62, 63, 64, 65, 66, 67, 68, 69, 70, 71, 72, 73, 74, 75,\n",
       "        76, 77, 78, 79],\n",
       "       [80, 81, 82, 83, 84, 85, 86, 87, 88, 89, 90, 91, 92, 93, 94, 95,\n",
       "        96, 97, 98, 99]])"
      ]
     },
     "execution_count": 3,
     "metadata": {},
     "output_type": "execute_result"
    }
   ],
   "source": [
    "a"
   ]
  },
  {
   "cell_type": "code",
   "execution_count": 4,
   "id": "7c378819",
   "metadata": {},
   "outputs": [],
   "source": [
    "np.savetxt('a.txt',a,delimiter=',', fmt = '%d')"
   ]
  },
  {
   "cell_type": "code",
   "execution_count": 7,
   "id": "b4dc4b1c",
   "metadata": {},
   "outputs": [],
   "source": [
    "b = np.loadtxt('a.txt', delimiter = ',', dtype = int)"
   ]
  },
  {
   "cell_type": "code",
   "execution_count": 8,
   "id": "d7a188ef",
   "metadata": {},
   "outputs": [
    {
     "data": {
      "text/plain": [
       "array([[ 0,  1,  2,  3,  4,  5,  6,  7,  8,  9, 10, 11, 12, 13, 14, 15,\n",
       "        16, 17, 18, 19],\n",
       "       [20, 21, 22, 23, 24, 25, 26, 27, 28, 29, 30, 31, 32, 33, 34, 35,\n",
       "        36, 37, 38, 39],\n",
       "       [40, 41, 42, 43, 44, 45, 46, 47, 48, 49, 50, 51, 52, 53, 54, 55,\n",
       "        56, 57, 58, 59],\n",
       "       [60, 61, 62, 63, 64, 65, 66, 67, 68, 69, 70, 71, 72, 73, 74, 75,\n",
       "        76, 77, 78, 79],\n",
       "       [80, 81, 82, 83, 84, 85, 86, 87, 88, 89, 90, 91, 92, 93, 94, 95,\n",
       "        96, 97, 98, 99]])"
      ]
     },
     "execution_count": 8,
     "metadata": {},
     "output_type": "execute_result"
    }
   ],
   "source": [
    "b"
   ]
  },
  {
   "cell_type": "code",
   "execution_count": 12,
   "id": "64f34412",
   "metadata": {},
   "outputs": [],
   "source": [
    "daegu_temp = np.loadtxt('daegu_temp.csv', delimiter = ',', skiprows = 8, encoding = 'cp949')"
   ]
  },
  {
   "cell_type": "code",
   "execution_count": 13,
   "id": "5ddee796",
   "metadata": {},
   "outputs": [
    {
     "data": {
      "text/plain": [
       "array([[ 2.0100106e+07,  1.4300000e+02, -5.4000000e+00, -8.4000000e+00,\n",
       "        -7.0000000e-01],\n",
       "       [ 2.0100107e+07,  1.4300000e+02, -4.5000000e+00, -7.5000000e+00,\n",
       "        -4.0000000e-01],\n",
       "       [ 2.0100108e+07,  1.4300000e+02, -2.8000000e+00, -8.6000000e+00,\n",
       "         3.2000000e+00],\n",
       "       ...,\n",
       "       [ 2.0220204e+07,  1.4300000e+02, -6.0000000e-01, -3.4000000e+00,\n",
       "         4.2000000e+00],\n",
       "       [ 2.0220205e+07,  1.4300000e+02, -3.0000000e+00, -6.4000000e+00,\n",
       "         1.1000000e+00],\n",
       "       [ 2.0220206e+07,  1.4300000e+02, -1.1000000e+00, -5.0000000e+00,\n",
       "         3.5000000e+00]])"
      ]
     },
     "execution_count": 13,
     "metadata": {},
     "output_type": "execute_result"
    }
   ],
   "source": [
    "daegu_temp"
   ]
  },
  {
   "cell_type": "code",
   "execution_count": 14,
   "id": "67893f33",
   "metadata": {},
   "outputs": [
    {
     "data": {
      "text/plain": [
       "(4413, 5)"
      ]
     },
     "execution_count": 14,
     "metadata": {},
     "output_type": "execute_result"
    }
   ],
   "source": [
    "daegu_temp.shape"
   ]
  },
  {
   "cell_type": "markdown",
   "id": "b7a11845",
   "metadata": {},
   "source": [
    "### 최고온도 구하기.\n",
    "\n",
    "날짜 지점 평균기온 최저기온 최고기온"
   ]
  },
  {
   "cell_type": "code",
   "execution_count": 15,
   "id": "d6b0995a",
   "metadata": {},
   "outputs": [
    {
     "data": {
      "text/plain": [
       "array([-0.7, -0.4,  3.2, ...,  4.2,  1.1,  3.5])"
      ]
     },
     "execution_count": 15,
     "metadata": {},
     "output_type": "execute_result"
    }
   ],
   "source": [
    "daegu_temp[:, 4] "
   ]
  },
  {
   "cell_type": "code",
   "execution_count": 16,
   "id": "ce16d28e",
   "metadata": {},
   "outputs": [
    {
     "data": {
      "text/plain": [
       "39.2"
      ]
     },
     "execution_count": 16,
     "metadata": {},
     "output_type": "execute_result"
    }
   ],
   "source": [
    "np.max(daegu_temp[:, 4]) #4번째에서 최고"
   ]
  },
  {
   "cell_type": "code",
   "execution_count": 17,
   "id": "6b0639ff",
   "metadata": {},
   "outputs": [
    {
     "data": {
      "text/plain": [
       "3122"
      ]
     },
     "execution_count": 17,
     "metadata": {},
     "output_type": "execute_result"
    }
   ],
   "source": [
    "np.argmax(daegu_temp[:,4]) #최고온도의 위치"
   ]
  },
  {
   "cell_type": "code",
   "execution_count": 18,
   "id": "64b648c4",
   "metadata": {},
   "outputs": [
    {
     "data": {
      "text/plain": [
       "array([2.0180727e+07, 1.4300000e+02, 3.2400000e+01, 2.8600000e+01,\n",
       "       3.9200000e+01])"
      ]
     },
     "execution_count": 18,
     "metadata": {},
     "output_type": "execute_result"
    }
   ],
   "source": [
    "daegu_temp[3122]"
   ]
  },
  {
   "cell_type": "code",
   "execution_count": 20,
   "id": "1d82a6cf",
   "metadata": {},
   "outputs": [
    {
     "data": {
      "text/plain": [
       "20180727.0"
      ]
     },
     "execution_count": 20,
     "metadata": {},
     "output_type": "execute_result"
    }
   ],
   "source": [
    "daegu_temp[np.argmax(daegu_temp[:,4]), 0] #최고온도의 위치의 날짜만"
   ]
  },
  {
   "cell_type": "markdown",
   "id": "8d6bb0c4",
   "metadata": {},
   "source": [
    "### 최저기온"
   ]
  },
  {
   "cell_type": "code",
   "execution_count": 21,
   "id": "19e88ba2",
   "metadata": {},
   "outputs": [
    {
     "data": {
      "text/plain": [
       "-13.9"
      ]
     },
     "execution_count": 21,
     "metadata": {},
     "output_type": "execute_result"
    }
   ],
   "source": [
    "np.min(daegu_temp[:,3])"
   ]
  },
  {
   "cell_type": "code",
   "execution_count": 22,
   "id": "c6294b46",
   "metadata": {},
   "outputs": [
    {
     "data": {
      "text/plain": [
       "20180127.0"
      ]
     },
     "execution_count": 22,
     "metadata": {},
     "output_type": "execute_result"
    }
   ],
   "source": [
    "daegu_temp[np.argmin(daegu_temp[:,3]), 0]"
   ]
  },
  {
   "cell_type": "code",
   "execution_count": null,
   "id": "7da52271",
   "metadata": {},
   "outputs": [],
   "source": [
    "### 최고기온 top10, 최저기온 top 10\n",
    "\n",
    "예)\n",
    "최고기온\n",
    "1 20180727 39.2도\n",
    "2\n",
    "...\n",
    "10\n",
    "최저기온\n",
    "1 20180127 -13.9도\n",
    "2\n",
    "...\n",
    "10"
   ]
  }
 ],
 "metadata": {
  "kernelspec": {
   "display_name": "Python 3 (ipykernel)",
   "language": "python",
   "name": "python3"
  },
  "language_info": {
   "codemirror_mode": {
    "name": "ipython",
    "version": 3
   },
   "file_extension": ".py",
   "mimetype": "text/x-python",
   "name": "python",
   "nbconvert_exporter": "python",
   "pygments_lexer": "ipython3",
   "version": "3.9.7"
  }
 },
 "nbformat": 4,
 "nbformat_minor": 5
}
