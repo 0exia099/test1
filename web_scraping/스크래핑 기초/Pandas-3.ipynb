{
 "cells": [
  {
   "cell_type": "code",
   "execution_count": 15,
   "id": "42308fae",
   "metadata": {},
   "outputs": [],
   "source": [
    "import pandas as pd"
   ]
  },
  {
   "cell_type": "markdown",
   "id": "6c5640a6",
   "metadata": {},
   "source": [
    "### 행 또는 열 선택방법"
   ]
  },
  {
   "cell_type": "code",
   "execution_count": 30,
   "id": "e59b4145",
   "metadata": {},
   "outputs": [],
   "source": [
    "data = {\n",
    "    '이름' : ['홍길동', '임꺽정', '이순신'],\n",
    "    '중간' : [40,60,100],\n",
    "    '기말' : [60,50,95],\n",
    "    '출석' : [8.5, 7.8,9.9]\n",
    "}"
   ]
  },
  {
   "cell_type": "code",
   "execution_count": 31,
   "id": "97fb007d",
   "metadata": {},
   "outputs": [],
   "source": [
    "df = pd.DataFrame(data)"
   ]
  },
  {
   "cell_type": "code",
   "execution_count": 32,
   "id": "4e5556e4",
   "metadata": {},
   "outputs": [],
   "source": [
    "df['주소'] = '경산'"
   ]
  },
  {
   "cell_type": "code",
   "execution_count": 33,
   "id": "c37362dc",
   "metadata": {},
   "outputs": [],
   "source": [
    "df['생일'] = ['1999-01-02', '2010-09-17', '2015-01-18']"
   ]
  },
  {
   "cell_type": "code",
   "execution_count": 34,
   "id": "998d644e",
   "metadata": {},
   "outputs": [],
   "source": [
    "df.index = ['1', '2','3']"
   ]
  },
  {
   "cell_type": "code",
   "execution_count": 35,
   "id": "67b5c9bc",
   "metadata": {},
   "outputs": [
    {
     "data": {
      "text/html": [
       "<div>\n",
       "<style scoped>\n",
       "    .dataframe tbody tr th:only-of-type {\n",
       "        vertical-align: middle;\n",
       "    }\n",
       "\n",
       "    .dataframe tbody tr th {\n",
       "        vertical-align: top;\n",
       "    }\n",
       "\n",
       "    .dataframe thead th {\n",
       "        text-align: right;\n",
       "    }\n",
       "</style>\n",
       "<table border=\"1\" class=\"dataframe\">\n",
       "  <thead>\n",
       "    <tr style=\"text-align: right;\">\n",
       "      <th></th>\n",
       "      <th>이름</th>\n",
       "      <th>중간</th>\n",
       "      <th>기말</th>\n",
       "      <th>출석</th>\n",
       "      <th>주소</th>\n",
       "      <th>생일</th>\n",
       "    </tr>\n",
       "  </thead>\n",
       "  <tbody>\n",
       "    <tr>\n",
       "      <th>1</th>\n",
       "      <td>홍길동</td>\n",
       "      <td>40</td>\n",
       "      <td>60</td>\n",
       "      <td>8.5</td>\n",
       "      <td>경산</td>\n",
       "      <td>1999-01-02</td>\n",
       "    </tr>\n",
       "    <tr>\n",
       "      <th>2</th>\n",
       "      <td>임꺽정</td>\n",
       "      <td>60</td>\n",
       "      <td>50</td>\n",
       "      <td>7.8</td>\n",
       "      <td>경산</td>\n",
       "      <td>2010-09-17</td>\n",
       "    </tr>\n",
       "    <tr>\n",
       "      <th>3</th>\n",
       "      <td>이순신</td>\n",
       "      <td>100</td>\n",
       "      <td>95</td>\n",
       "      <td>9.9</td>\n",
       "      <td>경산</td>\n",
       "      <td>2015-01-18</td>\n",
       "    </tr>\n",
       "  </tbody>\n",
       "</table>\n",
       "</div>"
      ],
      "text/plain": [
       "    이름   중간  기말   출석  주소          생일\n",
       "1  홍길동   40  60  8.5  경산  1999-01-02\n",
       "2  임꺽정   60  50  7.8  경산  2010-09-17\n",
       "3  이순신  100  95  9.9  경산  2015-01-18"
      ]
     },
     "execution_count": 35,
     "metadata": {},
     "output_type": "execute_result"
    }
   ],
   "source": [
    "df"
   ]
  },
  {
   "cell_type": "code",
   "execution_count": 36,
   "id": "5e50f06f",
   "metadata": {},
   "outputs": [
    {
     "data": {
      "text/plain": [
       "이름           홍길동\n",
       "중간            40\n",
       "기말            60\n",
       "출석           8.5\n",
       "주소            경산\n",
       "생일    1999-01-02\n",
       "Name: 1, dtype: object"
      ]
     },
     "execution_count": 36,
     "metadata": {},
     "output_type": "execute_result"
    }
   ],
   "source": [
    "df.loc['1'] #행을 선택하기"
   ]
  },
  {
   "cell_type": "code",
   "execution_count": 37,
   "id": "87dda053",
   "metadata": {},
   "outputs": [],
   "source": [
    "df2 = df.set_index(['이름'])"
   ]
  },
  {
   "cell_type": "code",
   "execution_count": 38,
   "id": "eedbaa77",
   "metadata": {},
   "outputs": [
    {
     "data": {
      "text/html": [
       "<div>\n",
       "<style scoped>\n",
       "    .dataframe tbody tr th:only-of-type {\n",
       "        vertical-align: middle;\n",
       "    }\n",
       "\n",
       "    .dataframe tbody tr th {\n",
       "        vertical-align: top;\n",
       "    }\n",
       "\n",
       "    .dataframe thead th {\n",
       "        text-align: right;\n",
       "    }\n",
       "</style>\n",
       "<table border=\"1\" class=\"dataframe\">\n",
       "  <thead>\n",
       "    <tr style=\"text-align: right;\">\n",
       "      <th></th>\n",
       "      <th>중간</th>\n",
       "      <th>기말</th>\n",
       "      <th>출석</th>\n",
       "      <th>주소</th>\n",
       "      <th>생일</th>\n",
       "    </tr>\n",
       "    <tr>\n",
       "      <th>이름</th>\n",
       "      <th></th>\n",
       "      <th></th>\n",
       "      <th></th>\n",
       "      <th></th>\n",
       "      <th></th>\n",
       "    </tr>\n",
       "  </thead>\n",
       "  <tbody>\n",
       "    <tr>\n",
       "      <th>홍길동</th>\n",
       "      <td>40</td>\n",
       "      <td>60</td>\n",
       "      <td>8.5</td>\n",
       "      <td>경산</td>\n",
       "      <td>1999-01-02</td>\n",
       "    </tr>\n",
       "    <tr>\n",
       "      <th>임꺽정</th>\n",
       "      <td>60</td>\n",
       "      <td>50</td>\n",
       "      <td>7.8</td>\n",
       "      <td>경산</td>\n",
       "      <td>2010-09-17</td>\n",
       "    </tr>\n",
       "    <tr>\n",
       "      <th>이순신</th>\n",
       "      <td>100</td>\n",
       "      <td>95</td>\n",
       "      <td>9.9</td>\n",
       "      <td>경산</td>\n",
       "      <td>2015-01-18</td>\n",
       "    </tr>\n",
       "  </tbody>\n",
       "</table>\n",
       "</div>"
      ],
      "text/plain": [
       "      중간  기말   출석  주소          생일\n",
       "이름                               \n",
       "홍길동   40  60  8.5  경산  1999-01-02\n",
       "임꺽정   60  50  7.8  경산  2010-09-17\n",
       "이순신  100  95  9.9  경산  2015-01-18"
      ]
     },
     "execution_count": 38,
     "metadata": {},
     "output_type": "execute_result"
    }
   ],
   "source": [
    "df2"
   ]
  },
  {
   "cell_type": "code",
   "execution_count": 39,
   "id": "3cfce6ca",
   "metadata": {},
   "outputs": [
    {
     "data": {
      "text/plain": [
       "중간            60\n",
       "기말            50\n",
       "출석           7.8\n",
       "주소            경산\n",
       "생일    2010-09-17\n",
       "Name: 임꺽정, dtype: object"
      ]
     },
     "execution_count": 39,
     "metadata": {},
     "output_type": "execute_result"
    }
   ],
   "source": [
    "df2.loc['임꺽정']"
   ]
  },
  {
   "cell_type": "code",
   "execution_count": 40,
   "id": "f5075456",
   "metadata": {},
   "outputs": [
    {
     "data": {
      "text/html": [
       "<div>\n",
       "<style scoped>\n",
       "    .dataframe tbody tr th:only-of-type {\n",
       "        vertical-align: middle;\n",
       "    }\n",
       "\n",
       "    .dataframe tbody tr th {\n",
       "        vertical-align: top;\n",
       "    }\n",
       "\n",
       "    .dataframe thead th {\n",
       "        text-align: right;\n",
       "    }\n",
       "</style>\n",
       "<table border=\"1\" class=\"dataframe\">\n",
       "  <thead>\n",
       "    <tr style=\"text-align: right;\">\n",
       "      <th></th>\n",
       "      <th>중간</th>\n",
       "      <th>기말</th>\n",
       "      <th>출석</th>\n",
       "      <th>주소</th>\n",
       "      <th>생일</th>\n",
       "    </tr>\n",
       "    <tr>\n",
       "      <th>이름</th>\n",
       "      <th></th>\n",
       "      <th></th>\n",
       "      <th></th>\n",
       "      <th></th>\n",
       "      <th></th>\n",
       "    </tr>\n",
       "  </thead>\n",
       "  <tbody>\n",
       "    <tr>\n",
       "      <th>홍길동</th>\n",
       "      <td>40</td>\n",
       "      <td>60</td>\n",
       "      <td>8.5</td>\n",
       "      <td>경산</td>\n",
       "      <td>1999-01-02</td>\n",
       "    </tr>\n",
       "    <tr>\n",
       "      <th>임꺽정</th>\n",
       "      <td>60</td>\n",
       "      <td>50</td>\n",
       "      <td>7.8</td>\n",
       "      <td>경산</td>\n",
       "      <td>2010-09-17</td>\n",
       "    </tr>\n",
       "    <tr>\n",
       "      <th>이순신</th>\n",
       "      <td>100</td>\n",
       "      <td>95</td>\n",
       "      <td>9.9</td>\n",
       "      <td>경산</td>\n",
       "      <td>2015-01-18</td>\n",
       "    </tr>\n",
       "  </tbody>\n",
       "</table>\n",
       "</div>"
      ],
      "text/plain": [
       "      중간  기말   출석  주소          생일\n",
       "이름                               \n",
       "홍길동   40  60  8.5  경산  1999-01-02\n",
       "임꺽정   60  50  7.8  경산  2010-09-17\n",
       "이순신  100  95  9.9  경산  2015-01-18"
      ]
     },
     "execution_count": 40,
     "metadata": {},
     "output_type": "execute_result"
    }
   ],
   "source": [
    "df2"
   ]
  },
  {
   "cell_type": "code",
   "execution_count": 42,
   "id": "2083bc2d",
   "metadata": {
    "scrolled": true
   },
   "outputs": [
    {
     "data": {
      "text/html": [
       "<div>\n",
       "<style scoped>\n",
       "    .dataframe tbody tr th:only-of-type {\n",
       "        vertical-align: middle;\n",
       "    }\n",
       "\n",
       "    .dataframe tbody tr th {\n",
       "        vertical-align: top;\n",
       "    }\n",
       "\n",
       "    .dataframe thead th {\n",
       "        text-align: right;\n",
       "    }\n",
       "</style>\n",
       "<table border=\"1\" class=\"dataframe\">\n",
       "  <thead>\n",
       "    <tr style=\"text-align: right;\">\n",
       "      <th></th>\n",
       "      <th>중간</th>\n",
       "      <th>기말</th>\n",
       "      <th>출석</th>\n",
       "      <th>주소</th>\n",
       "      <th>생일</th>\n",
       "    </tr>\n",
       "    <tr>\n",
       "      <th>이름</th>\n",
       "      <th></th>\n",
       "      <th></th>\n",
       "      <th></th>\n",
       "      <th></th>\n",
       "      <th></th>\n",
       "    </tr>\n",
       "  </thead>\n",
       "  <tbody>\n",
       "    <tr>\n",
       "      <th>홍길동</th>\n",
       "      <td>40</td>\n",
       "      <td>60</td>\n",
       "      <td>8.5</td>\n",
       "      <td>경산</td>\n",
       "      <td>1999-01-02</td>\n",
       "    </tr>\n",
       "    <tr>\n",
       "      <th>임꺽정</th>\n",
       "      <td>60</td>\n",
       "      <td>50</td>\n",
       "      <td>7.8</td>\n",
       "      <td>경산</td>\n",
       "      <td>2010-09-17</td>\n",
       "    </tr>\n",
       "  </tbody>\n",
       "</table>\n",
       "</div>"
      ],
      "text/plain": [
       "     중간  기말   출석  주소          생일\n",
       "이름                              \n",
       "홍길동  40  60  8.5  경산  1999-01-02\n",
       "임꺽정  60  50  7.8  경산  2010-09-17"
      ]
     },
     "execution_count": 42,
     "metadata": {},
     "output_type": "execute_result"
    }
   ],
   "source": [
    "df2['홍길동':'임꺽정']"
   ]
  },
  {
   "cell_type": "code",
   "execution_count": 43,
   "id": "0e33d129",
   "metadata": {},
   "outputs": [
    {
     "data": {
      "text/html": [
       "<div>\n",
       "<style scoped>\n",
       "    .dataframe tbody tr th:only-of-type {\n",
       "        vertical-align: middle;\n",
       "    }\n",
       "\n",
       "    .dataframe tbody tr th {\n",
       "        vertical-align: top;\n",
       "    }\n",
       "\n",
       "    .dataframe thead th {\n",
       "        text-align: right;\n",
       "    }\n",
       "</style>\n",
       "<table border=\"1\" class=\"dataframe\">\n",
       "  <thead>\n",
       "    <tr style=\"text-align: right;\">\n",
       "      <th></th>\n",
       "      <th>중간</th>\n",
       "      <th>기말</th>\n",
       "      <th>출석</th>\n",
       "      <th>주소</th>\n",
       "      <th>생일</th>\n",
       "    </tr>\n",
       "    <tr>\n",
       "      <th>이름</th>\n",
       "      <th></th>\n",
       "      <th></th>\n",
       "      <th></th>\n",
       "      <th></th>\n",
       "      <th></th>\n",
       "    </tr>\n",
       "  </thead>\n",
       "  <tbody>\n",
       "    <tr>\n",
       "      <th>홍길동</th>\n",
       "      <td>40</td>\n",
       "      <td>60</td>\n",
       "      <td>8.5</td>\n",
       "      <td>경산</td>\n",
       "      <td>1999-01-02</td>\n",
       "    </tr>\n",
       "  </tbody>\n",
       "</table>\n",
       "</div>"
      ],
      "text/plain": [
       "     중간  기말   출석  주소          생일\n",
       "이름                              \n",
       "홍길동  40  60  8.5  경산  1999-01-02"
      ]
     },
     "execution_count": 43,
     "metadata": {},
     "output_type": "execute_result"
    }
   ],
   "source": [
    "df2[0:1]"
   ]
  },
  {
   "cell_type": "code",
   "execution_count": 44,
   "id": "4c9b17f3",
   "metadata": {},
   "outputs": [
    {
     "data": {
      "text/html": [
       "<div>\n",
       "<style scoped>\n",
       "    .dataframe tbody tr th:only-of-type {\n",
       "        vertical-align: middle;\n",
       "    }\n",
       "\n",
       "    .dataframe tbody tr th {\n",
       "        vertical-align: top;\n",
       "    }\n",
       "\n",
       "    .dataframe thead th {\n",
       "        text-align: right;\n",
       "    }\n",
       "</style>\n",
       "<table border=\"1\" class=\"dataframe\">\n",
       "  <thead>\n",
       "    <tr style=\"text-align: right;\">\n",
       "      <th></th>\n",
       "      <th>이름</th>\n",
       "      <th>중간</th>\n",
       "      <th>기말</th>\n",
       "      <th>출석</th>\n",
       "      <th>주소</th>\n",
       "      <th>생일</th>\n",
       "    </tr>\n",
       "  </thead>\n",
       "  <tbody>\n",
       "    <tr>\n",
       "      <th>1</th>\n",
       "      <td>홍길동</td>\n",
       "      <td>40</td>\n",
       "      <td>60</td>\n",
       "      <td>8.5</td>\n",
       "      <td>경산</td>\n",
       "      <td>1999-01-02</td>\n",
       "    </tr>\n",
       "    <tr>\n",
       "      <th>2</th>\n",
       "      <td>임꺽정</td>\n",
       "      <td>60</td>\n",
       "      <td>50</td>\n",
       "      <td>7.8</td>\n",
       "      <td>경산</td>\n",
       "      <td>2010-09-17</td>\n",
       "    </tr>\n",
       "    <tr>\n",
       "      <th>3</th>\n",
       "      <td>이순신</td>\n",
       "      <td>100</td>\n",
       "      <td>95</td>\n",
       "      <td>9.9</td>\n",
       "      <td>경산</td>\n",
       "      <td>2015-01-18</td>\n",
       "    </tr>\n",
       "  </tbody>\n",
       "</table>\n",
       "</div>"
      ],
      "text/plain": [
       "    이름   중간  기말   출석  주소          생일\n",
       "1  홍길동   40  60  8.5  경산  1999-01-02\n",
       "2  임꺽정   60  50  7.8  경산  2010-09-17\n",
       "3  이순신  100  95  9.9  경산  2015-01-18"
      ]
     },
     "execution_count": 44,
     "metadata": {},
     "output_type": "execute_result"
    }
   ],
   "source": [
    "df"
   ]
  },
  {
   "cell_type": "code",
   "execution_count": 45,
   "id": "a5f72678",
   "metadata": {},
   "outputs": [
    {
     "data": {
      "text/html": [
       "<div>\n",
       "<style scoped>\n",
       "    .dataframe tbody tr th:only-of-type {\n",
       "        vertical-align: middle;\n",
       "    }\n",
       "\n",
       "    .dataframe tbody tr th {\n",
       "        vertical-align: top;\n",
       "    }\n",
       "\n",
       "    .dataframe thead th {\n",
       "        text-align: right;\n",
       "    }\n",
       "</style>\n",
       "<table border=\"1\" class=\"dataframe\">\n",
       "  <thead>\n",
       "    <tr style=\"text-align: right;\">\n",
       "      <th></th>\n",
       "      <th>이름</th>\n",
       "      <th>출석</th>\n",
       "      <th>생일</th>\n",
       "    </tr>\n",
       "  </thead>\n",
       "  <tbody>\n",
       "    <tr>\n",
       "      <th>1</th>\n",
       "      <td>홍길동</td>\n",
       "      <td>8.5</td>\n",
       "      <td>1999-01-02</td>\n",
       "    </tr>\n",
       "    <tr>\n",
       "      <th>2</th>\n",
       "      <td>임꺽정</td>\n",
       "      <td>7.8</td>\n",
       "      <td>2010-09-17</td>\n",
       "    </tr>\n",
       "    <tr>\n",
       "      <th>3</th>\n",
       "      <td>이순신</td>\n",
       "      <td>9.9</td>\n",
       "      <td>2015-01-18</td>\n",
       "    </tr>\n",
       "  </tbody>\n",
       "</table>\n",
       "</div>"
      ],
      "text/plain": [
       "    이름   출석          생일\n",
       "1  홍길동  8.5  1999-01-02\n",
       "2  임꺽정  7.8  2010-09-17\n",
       "3  이순신  9.9  2015-01-18"
      ]
     },
     "execution_count": 45,
     "metadata": {},
     "output_type": "execute_result"
    }
   ],
   "source": [
    "df.loc[ : , ['이름', '출석', '생일'] ]"
   ]
  },
  {
   "cell_type": "code",
   "execution_count": 46,
   "id": "b0d9c985",
   "metadata": {},
   "outputs": [
    {
     "data": {
      "text/html": [
       "<div>\n",
       "<style scoped>\n",
       "    .dataframe tbody tr th:only-of-type {\n",
       "        vertical-align: middle;\n",
       "    }\n",
       "\n",
       "    .dataframe tbody tr th {\n",
       "        vertical-align: top;\n",
       "    }\n",
       "\n",
       "    .dataframe thead th {\n",
       "        text-align: right;\n",
       "    }\n",
       "</style>\n",
       "<table border=\"1\" class=\"dataframe\">\n",
       "  <thead>\n",
       "    <tr style=\"text-align: right;\">\n",
       "      <th></th>\n",
       "      <th>이름</th>\n",
       "      <th>중간</th>\n",
       "      <th>기말</th>\n",
       "      <th>출석</th>\n",
       "      <th>주소</th>\n",
       "      <th>생일</th>\n",
       "    </tr>\n",
       "  </thead>\n",
       "  <tbody>\n",
       "    <tr>\n",
       "      <th>1</th>\n",
       "      <td>홍길동</td>\n",
       "      <td>40</td>\n",
       "      <td>60</td>\n",
       "      <td>8.5</td>\n",
       "      <td>경산</td>\n",
       "      <td>1999-01-02</td>\n",
       "    </tr>\n",
       "    <tr>\n",
       "      <th>2</th>\n",
       "      <td>임꺽정</td>\n",
       "      <td>60</td>\n",
       "      <td>50</td>\n",
       "      <td>7.8</td>\n",
       "      <td>경산</td>\n",
       "      <td>2010-09-17</td>\n",
       "    </tr>\n",
       "    <tr>\n",
       "      <th>3</th>\n",
       "      <td>이순신</td>\n",
       "      <td>100</td>\n",
       "      <td>95</td>\n",
       "      <td>9.9</td>\n",
       "      <td>경산</td>\n",
       "      <td>2015-01-18</td>\n",
       "    </tr>\n",
       "  </tbody>\n",
       "</table>\n",
       "</div>"
      ],
      "text/plain": [
       "    이름   중간  기말   출석  주소          생일\n",
       "1  홍길동   40  60  8.5  경산  1999-01-02\n",
       "2  임꺽정   60  50  7.8  경산  2010-09-17\n",
       "3  이순신  100  95  9.9  경산  2015-01-18"
      ]
     },
     "execution_count": 46,
     "metadata": {},
     "output_type": "execute_result"
    }
   ],
   "source": [
    "df"
   ]
  },
  {
   "cell_type": "code",
   "execution_count": 47,
   "id": "571f55d5",
   "metadata": {},
   "outputs": [
    {
     "data": {
      "text/html": [
       "<div>\n",
       "<style scoped>\n",
       "    .dataframe tbody tr th:only-of-type {\n",
       "        vertical-align: middle;\n",
       "    }\n",
       "\n",
       "    .dataframe tbody tr th {\n",
       "        vertical-align: top;\n",
       "    }\n",
       "\n",
       "    .dataframe thead th {\n",
       "        text-align: right;\n",
       "    }\n",
       "</style>\n",
       "<table border=\"1\" class=\"dataframe\">\n",
       "  <thead>\n",
       "    <tr style=\"text-align: right;\">\n",
       "      <th></th>\n",
       "      <th>중간</th>\n",
       "      <th>기말</th>\n",
       "      <th>출석</th>\n",
       "      <th>주소</th>\n",
       "      <th>생일</th>\n",
       "    </tr>\n",
       "    <tr>\n",
       "      <th>이름</th>\n",
       "      <th></th>\n",
       "      <th></th>\n",
       "      <th></th>\n",
       "      <th></th>\n",
       "      <th></th>\n",
       "    </tr>\n",
       "  </thead>\n",
       "  <tbody>\n",
       "    <tr>\n",
       "      <th>홍길동</th>\n",
       "      <td>40</td>\n",
       "      <td>60</td>\n",
       "      <td>8.5</td>\n",
       "      <td>경산</td>\n",
       "      <td>1999-01-02</td>\n",
       "    </tr>\n",
       "    <tr>\n",
       "      <th>임꺽정</th>\n",
       "      <td>60</td>\n",
       "      <td>50</td>\n",
       "      <td>7.8</td>\n",
       "      <td>경산</td>\n",
       "      <td>2010-09-17</td>\n",
       "    </tr>\n",
       "    <tr>\n",
       "      <th>이순신</th>\n",
       "      <td>100</td>\n",
       "      <td>95</td>\n",
       "      <td>9.9</td>\n",
       "      <td>경산</td>\n",
       "      <td>2015-01-18</td>\n",
       "    </tr>\n",
       "  </tbody>\n",
       "</table>\n",
       "</div>"
      ],
      "text/plain": [
       "      중간  기말   출석  주소          생일\n",
       "이름                               \n",
       "홍길동   40  60  8.5  경산  1999-01-02\n",
       "임꺽정   60  50  7.8  경산  2010-09-17\n",
       "이순신  100  95  9.9  경산  2015-01-18"
      ]
     },
     "execution_count": 47,
     "metadata": {},
     "output_type": "execute_result"
    }
   ],
   "source": [
    "df2"
   ]
  },
  {
   "cell_type": "code",
   "execution_count": 48,
   "id": "7c2f9a9a",
   "metadata": {},
   "outputs": [
    {
     "data": {
      "text/plain": [
       "'2010-09-17'"
      ]
     },
     "execution_count": 48,
     "metadata": {},
     "output_type": "execute_result"
    }
   ],
   "source": [
    "df2.loc['임꺽정', '생일']"
   ]
  },
  {
   "cell_type": "code",
   "execution_count": 49,
   "id": "61353cbf",
   "metadata": {},
   "outputs": [
    {
     "data": {
      "text/plain": [
       "'2010-09-17'"
      ]
     },
     "execution_count": 49,
     "metadata": {},
     "output_type": "execute_result"
    }
   ],
   "source": [
    "df2.loc['임꺽정']['생일']"
   ]
  },
  {
   "cell_type": "code",
   "execution_count": 50,
   "id": "0ab9a15a",
   "metadata": {},
   "outputs": [
    {
     "data": {
      "text/plain": [
       "'2010-09-17'"
      ]
     },
     "execution_count": 50,
     "metadata": {},
     "output_type": "execute_result"
    }
   ],
   "source": [
    "df2.at['임꺽정', '생일'] #loc에 비해서 at이 빠르다"
   ]
  },
  {
   "cell_type": "code",
   "execution_count": 51,
   "id": "dde13796",
   "metadata": {},
   "outputs": [
    {
     "data": {
      "text/html": [
       "<div>\n",
       "<style scoped>\n",
       "    .dataframe tbody tr th:only-of-type {\n",
       "        vertical-align: middle;\n",
       "    }\n",
       "\n",
       "    .dataframe tbody tr th {\n",
       "        vertical-align: top;\n",
       "    }\n",
       "\n",
       "    .dataframe thead th {\n",
       "        text-align: right;\n",
       "    }\n",
       "</style>\n",
       "<table border=\"1\" class=\"dataframe\">\n",
       "  <thead>\n",
       "    <tr style=\"text-align: right;\">\n",
       "      <th></th>\n",
       "      <th>이름</th>\n",
       "      <th>중간</th>\n",
       "      <th>기말</th>\n",
       "      <th>출석</th>\n",
       "      <th>주소</th>\n",
       "      <th>생일</th>\n",
       "    </tr>\n",
       "  </thead>\n",
       "  <tbody>\n",
       "    <tr>\n",
       "      <th>1</th>\n",
       "      <td>홍길동</td>\n",
       "      <td>40</td>\n",
       "      <td>60</td>\n",
       "      <td>8.5</td>\n",
       "      <td>경산</td>\n",
       "      <td>1999-01-02</td>\n",
       "    </tr>\n",
       "    <tr>\n",
       "      <th>2</th>\n",
       "      <td>임꺽정</td>\n",
       "      <td>60</td>\n",
       "      <td>50</td>\n",
       "      <td>7.8</td>\n",
       "      <td>경산</td>\n",
       "      <td>2010-09-17</td>\n",
       "    </tr>\n",
       "    <tr>\n",
       "      <th>3</th>\n",
       "      <td>이순신</td>\n",
       "      <td>100</td>\n",
       "      <td>95</td>\n",
       "      <td>9.9</td>\n",
       "      <td>경산</td>\n",
       "      <td>2015-01-18</td>\n",
       "    </tr>\n",
       "  </tbody>\n",
       "</table>\n",
       "</div>"
      ],
      "text/plain": [
       "    이름   중간  기말   출석  주소          생일\n",
       "1  홍길동   40  60  8.5  경산  1999-01-02\n",
       "2  임꺽정   60  50  7.8  경산  2010-09-17\n",
       "3  이순신  100  95  9.9  경산  2015-01-18"
      ]
     },
     "execution_count": 51,
     "metadata": {},
     "output_type": "execute_result"
    }
   ],
   "source": [
    "df"
   ]
  },
  {
   "cell_type": "code",
   "execution_count": 52,
   "id": "d44807cc",
   "metadata": {},
   "outputs": [
    {
     "data": {
      "text/plain": [
       "이름           이순신\n",
       "중간           100\n",
       "기말            95\n",
       "출석           9.9\n",
       "주소            경산\n",
       "생일    2015-01-18\n",
       "Name: 3, dtype: object"
      ]
     },
     "execution_count": 52,
     "metadata": {},
     "output_type": "execute_result"
    }
   ],
   "source": [
    "df.iloc[2]"
   ]
  },
  {
   "cell_type": "code",
   "execution_count": 53,
   "id": "eb5e9646",
   "metadata": {},
   "outputs": [
    {
     "data": {
      "text/html": [
       "<div>\n",
       "<style scoped>\n",
       "    .dataframe tbody tr th:only-of-type {\n",
       "        vertical-align: middle;\n",
       "    }\n",
       "\n",
       "    .dataframe tbody tr th {\n",
       "        vertical-align: top;\n",
       "    }\n",
       "\n",
       "    .dataframe thead th {\n",
       "        text-align: right;\n",
       "    }\n",
       "</style>\n",
       "<table border=\"1\" class=\"dataframe\">\n",
       "  <thead>\n",
       "    <tr style=\"text-align: right;\">\n",
       "      <th></th>\n",
       "      <th>중간</th>\n",
       "      <th>기말</th>\n",
       "      <th>출석</th>\n",
       "      <th>주소</th>\n",
       "      <th>생일</th>\n",
       "    </tr>\n",
       "    <tr>\n",
       "      <th>이름</th>\n",
       "      <th></th>\n",
       "      <th></th>\n",
       "      <th></th>\n",
       "      <th></th>\n",
       "      <th></th>\n",
       "    </tr>\n",
       "  </thead>\n",
       "  <tbody>\n",
       "    <tr>\n",
       "      <th>홍길동</th>\n",
       "      <td>40</td>\n",
       "      <td>60</td>\n",
       "      <td>8.5</td>\n",
       "      <td>경산</td>\n",
       "      <td>1999-01-02</td>\n",
       "    </tr>\n",
       "    <tr>\n",
       "      <th>임꺽정</th>\n",
       "      <td>60</td>\n",
       "      <td>50</td>\n",
       "      <td>7.8</td>\n",
       "      <td>경산</td>\n",
       "      <td>2010-09-17</td>\n",
       "    </tr>\n",
       "    <tr>\n",
       "      <th>이순신</th>\n",
       "      <td>100</td>\n",
       "      <td>95</td>\n",
       "      <td>9.9</td>\n",
       "      <td>경산</td>\n",
       "      <td>2015-01-18</td>\n",
       "    </tr>\n",
       "  </tbody>\n",
       "</table>\n",
       "</div>"
      ],
      "text/plain": [
       "      중간  기말   출석  주소          생일\n",
       "이름                               \n",
       "홍길동   40  60  8.5  경산  1999-01-02\n",
       "임꺽정   60  50  7.8  경산  2010-09-17\n",
       "이순신  100  95  9.9  경산  2015-01-18"
      ]
     },
     "execution_count": 53,
     "metadata": {},
     "output_type": "execute_result"
    }
   ],
   "source": [
    "df2"
   ]
  },
  {
   "cell_type": "code",
   "execution_count": 54,
   "id": "fdc17e2c",
   "metadata": {},
   "outputs": [
    {
     "data": {
      "text/plain": [
       "중간           100\n",
       "기말            95\n",
       "출석           9.9\n",
       "주소            경산\n",
       "생일    2015-01-18\n",
       "Name: 이순신, dtype: object"
      ]
     },
     "execution_count": 54,
     "metadata": {},
     "output_type": "execute_result"
    }
   ],
   "source": [
    "df2.iloc[2]"
   ]
  },
  {
   "cell_type": "code",
   "execution_count": 55,
   "id": "921d9ae3",
   "metadata": {},
   "outputs": [
    {
     "data": {
      "text/html": [
       "<div>\n",
       "<style scoped>\n",
       "    .dataframe tbody tr th:only-of-type {\n",
       "        vertical-align: middle;\n",
       "    }\n",
       "\n",
       "    .dataframe tbody tr th {\n",
       "        vertical-align: top;\n",
       "    }\n",
       "\n",
       "    .dataframe thead th {\n",
       "        text-align: right;\n",
       "    }\n",
       "</style>\n",
       "<table border=\"1\" class=\"dataframe\">\n",
       "  <thead>\n",
       "    <tr style=\"text-align: right;\">\n",
       "      <th></th>\n",
       "      <th>중간</th>\n",
       "      <th>출석</th>\n",
       "      <th>생일</th>\n",
       "    </tr>\n",
       "    <tr>\n",
       "      <th>이름</th>\n",
       "      <th></th>\n",
       "      <th></th>\n",
       "      <th></th>\n",
       "    </tr>\n",
       "  </thead>\n",
       "  <tbody>\n",
       "    <tr>\n",
       "      <th>홍길동</th>\n",
       "      <td>40</td>\n",
       "      <td>8.5</td>\n",
       "      <td>1999-01-02</td>\n",
       "    </tr>\n",
       "    <tr>\n",
       "      <th>임꺽정</th>\n",
       "      <td>60</td>\n",
       "      <td>7.8</td>\n",
       "      <td>2010-09-17</td>\n",
       "    </tr>\n",
       "  </tbody>\n",
       "</table>\n",
       "</div>"
      ],
      "text/plain": [
       "     중간   출석          생일\n",
       "이름                      \n",
       "홍길동  40  8.5  1999-01-02\n",
       "임꺽정  60  7.8  2010-09-17"
      ]
     },
     "execution_count": 55,
     "metadata": {},
     "output_type": "execute_result"
    }
   ],
   "source": [
    "df2.iloc[[0,1],[0,2,4]]"
   ]
  },
  {
   "cell_type": "code",
   "execution_count": 56,
   "id": "42395b87",
   "metadata": {},
   "outputs": [
    {
     "data": {
      "text/plain": [
       "50"
      ]
     },
     "execution_count": 56,
     "metadata": {},
     "output_type": "execute_result"
    }
   ],
   "source": [
    "df2.iat[1,1]"
   ]
  },
  {
   "cell_type": "markdown",
   "id": "e7a2baec",
   "metadata": {},
   "source": [
    "### 열과 행을 삭제하는 방법"
   ]
  },
  {
   "cell_type": "code",
   "execution_count": 57,
   "id": "b18e446b",
   "metadata": {},
   "outputs": [
    {
     "data": {
      "text/html": [
       "<div>\n",
       "<style scoped>\n",
       "    .dataframe tbody tr th:only-of-type {\n",
       "        vertical-align: middle;\n",
       "    }\n",
       "\n",
       "    .dataframe tbody tr th {\n",
       "        vertical-align: top;\n",
       "    }\n",
       "\n",
       "    .dataframe thead th {\n",
       "        text-align: right;\n",
       "    }\n",
       "</style>\n",
       "<table border=\"1\" class=\"dataframe\">\n",
       "  <thead>\n",
       "    <tr style=\"text-align: right;\">\n",
       "      <th></th>\n",
       "      <th>이름</th>\n",
       "      <th>중간</th>\n",
       "      <th>기말</th>\n",
       "      <th>출석</th>\n",
       "      <th>주소</th>\n",
       "      <th>생일</th>\n",
       "    </tr>\n",
       "  </thead>\n",
       "  <tbody>\n",
       "    <tr>\n",
       "      <th>1</th>\n",
       "      <td>홍길동</td>\n",
       "      <td>40</td>\n",
       "      <td>60</td>\n",
       "      <td>8.5</td>\n",
       "      <td>경산</td>\n",
       "      <td>1999-01-02</td>\n",
       "    </tr>\n",
       "    <tr>\n",
       "      <th>2</th>\n",
       "      <td>임꺽정</td>\n",
       "      <td>60</td>\n",
       "      <td>50</td>\n",
       "      <td>7.8</td>\n",
       "      <td>경산</td>\n",
       "      <td>2010-09-17</td>\n",
       "    </tr>\n",
       "    <tr>\n",
       "      <th>3</th>\n",
       "      <td>이순신</td>\n",
       "      <td>100</td>\n",
       "      <td>95</td>\n",
       "      <td>9.9</td>\n",
       "      <td>경산</td>\n",
       "      <td>2015-01-18</td>\n",
       "    </tr>\n",
       "  </tbody>\n",
       "</table>\n",
       "</div>"
      ],
      "text/plain": [
       "    이름   중간  기말   출석  주소          생일\n",
       "1  홍길동   40  60  8.5  경산  1999-01-02\n",
       "2  임꺽정   60  50  7.8  경산  2010-09-17\n",
       "3  이순신  100  95  9.9  경산  2015-01-18"
      ]
     },
     "execution_count": 57,
     "metadata": {},
     "output_type": "execute_result"
    }
   ],
   "source": [
    "df"
   ]
  },
  {
   "cell_type": "code",
   "execution_count": 58,
   "id": "5e549d78",
   "metadata": {},
   "outputs": [],
   "source": [
    "del df['주소'] #주소 열을 삭제"
   ]
  },
  {
   "cell_type": "code",
   "execution_count": 59,
   "id": "da243b0d",
   "metadata": {},
   "outputs": [
    {
     "data": {
      "text/html": [
       "<div>\n",
       "<style scoped>\n",
       "    .dataframe tbody tr th:only-of-type {\n",
       "        vertical-align: middle;\n",
       "    }\n",
       "\n",
       "    .dataframe tbody tr th {\n",
       "        vertical-align: top;\n",
       "    }\n",
       "\n",
       "    .dataframe thead th {\n",
       "        text-align: right;\n",
       "    }\n",
       "</style>\n",
       "<table border=\"1\" class=\"dataframe\">\n",
       "  <thead>\n",
       "    <tr style=\"text-align: right;\">\n",
       "      <th></th>\n",
       "      <th>이름</th>\n",
       "      <th>중간</th>\n",
       "      <th>기말</th>\n",
       "      <th>출석</th>\n",
       "      <th>생일</th>\n",
       "    </tr>\n",
       "  </thead>\n",
       "  <tbody>\n",
       "    <tr>\n",
       "      <th>1</th>\n",
       "      <td>홍길동</td>\n",
       "      <td>40</td>\n",
       "      <td>60</td>\n",
       "      <td>8.5</td>\n",
       "      <td>1999-01-02</td>\n",
       "    </tr>\n",
       "    <tr>\n",
       "      <th>2</th>\n",
       "      <td>임꺽정</td>\n",
       "      <td>60</td>\n",
       "      <td>50</td>\n",
       "      <td>7.8</td>\n",
       "      <td>2010-09-17</td>\n",
       "    </tr>\n",
       "    <tr>\n",
       "      <th>3</th>\n",
       "      <td>이순신</td>\n",
       "      <td>100</td>\n",
       "      <td>95</td>\n",
       "      <td>9.9</td>\n",
       "      <td>2015-01-18</td>\n",
       "    </tr>\n",
       "  </tbody>\n",
       "</table>\n",
       "</div>"
      ],
      "text/plain": [
       "    이름   중간  기말   출석          생일\n",
       "1  홍길동   40  60  8.5  1999-01-02\n",
       "2  임꺽정   60  50  7.8  2010-09-17\n",
       "3  이순신  100  95  9.9  2015-01-18"
      ]
     },
     "execution_count": 59,
     "metadata": {},
     "output_type": "execute_result"
    }
   ],
   "source": [
    "df"
   ]
  },
  {
   "cell_type": "code",
   "execution_count": 62,
   "id": "d75a8734",
   "metadata": {},
   "outputs": [
    {
     "data": {
      "text/html": [
       "<div>\n",
       "<style scoped>\n",
       "    .dataframe tbody tr th:only-of-type {\n",
       "        vertical-align: middle;\n",
       "    }\n",
       "\n",
       "    .dataframe tbody tr th {\n",
       "        vertical-align: top;\n",
       "    }\n",
       "\n",
       "    .dataframe thead th {\n",
       "        text-align: right;\n",
       "    }\n",
       "</style>\n",
       "<table border=\"1\" class=\"dataframe\">\n",
       "  <thead>\n",
       "    <tr style=\"text-align: right;\">\n",
       "      <th></th>\n",
       "      <th>이름</th>\n",
       "      <th>중간</th>\n",
       "      <th>기말</th>\n",
       "      <th>출석</th>\n",
       "    </tr>\n",
       "  </thead>\n",
       "  <tbody>\n",
       "    <tr>\n",
       "      <th>1</th>\n",
       "      <td>홍길동</td>\n",
       "      <td>40</td>\n",
       "      <td>60</td>\n",
       "      <td>8.5</td>\n",
       "    </tr>\n",
       "    <tr>\n",
       "      <th>2</th>\n",
       "      <td>임꺽정</td>\n",
       "      <td>60</td>\n",
       "      <td>50</td>\n",
       "      <td>7.8</td>\n",
       "    </tr>\n",
       "    <tr>\n",
       "      <th>3</th>\n",
       "      <td>이순신</td>\n",
       "      <td>100</td>\n",
       "      <td>95</td>\n",
       "      <td>9.9</td>\n",
       "    </tr>\n",
       "  </tbody>\n",
       "</table>\n",
       "</div>"
      ],
      "text/plain": [
       "    이름   중간  기말   출석\n",
       "1  홍길동   40  60  8.5\n",
       "2  임꺽정   60  50  7.8\n",
       "3  이순신  100  95  9.9"
      ]
     },
     "execution_count": 62,
     "metadata": {},
     "output_type": "execute_result"
    }
   ],
   "source": [
    "df.drop('생일', axis = 1) #drop은 del과 다르게 빼고 보여주는것"
   ]
  },
  {
   "cell_type": "code",
   "execution_count": 63,
   "id": "56a6a180",
   "metadata": {},
   "outputs": [
    {
     "data": {
      "text/html": [
       "<div>\n",
       "<style scoped>\n",
       "    .dataframe tbody tr th:only-of-type {\n",
       "        vertical-align: middle;\n",
       "    }\n",
       "\n",
       "    .dataframe tbody tr th {\n",
       "        vertical-align: top;\n",
       "    }\n",
       "\n",
       "    .dataframe thead th {\n",
       "        text-align: right;\n",
       "    }\n",
       "</style>\n",
       "<table border=\"1\" class=\"dataframe\">\n",
       "  <thead>\n",
       "    <tr style=\"text-align: right;\">\n",
       "      <th></th>\n",
       "      <th>이름</th>\n",
       "      <th>중간</th>\n",
       "      <th>기말</th>\n",
       "      <th>출석</th>\n",
       "      <th>생일</th>\n",
       "    </tr>\n",
       "  </thead>\n",
       "  <tbody>\n",
       "    <tr>\n",
       "      <th>1</th>\n",
       "      <td>홍길동</td>\n",
       "      <td>40</td>\n",
       "      <td>60</td>\n",
       "      <td>8.5</td>\n",
       "      <td>1999-01-02</td>\n",
       "    </tr>\n",
       "    <tr>\n",
       "      <th>2</th>\n",
       "      <td>임꺽정</td>\n",
       "      <td>60</td>\n",
       "      <td>50</td>\n",
       "      <td>7.8</td>\n",
       "      <td>2010-09-17</td>\n",
       "    </tr>\n",
       "    <tr>\n",
       "      <th>3</th>\n",
       "      <td>이순신</td>\n",
       "      <td>100</td>\n",
       "      <td>95</td>\n",
       "      <td>9.9</td>\n",
       "      <td>2015-01-18</td>\n",
       "    </tr>\n",
       "  </tbody>\n",
       "</table>\n",
       "</div>"
      ],
      "text/plain": [
       "    이름   중간  기말   출석          생일\n",
       "1  홍길동   40  60  8.5  1999-01-02\n",
       "2  임꺽정   60  50  7.8  2010-09-17\n",
       "3  이순신  100  95  9.9  2015-01-18"
      ]
     },
     "execution_count": 63,
     "metadata": {},
     "output_type": "execute_result"
    }
   ],
   "source": [
    "df #df는 그대로이다"
   ]
  },
  {
   "cell_type": "code",
   "execution_count": 66,
   "id": "3d8b7e64",
   "metadata": {},
   "outputs": [],
   "source": [
    "df3 = df.drop('생일', axis = 1) #이렇게 사용"
   ]
  },
  {
   "cell_type": "code",
   "execution_count": 67,
   "id": "bd0005b6",
   "metadata": {},
   "outputs": [
    {
     "data": {
      "text/html": [
       "<div>\n",
       "<style scoped>\n",
       "    .dataframe tbody tr th:only-of-type {\n",
       "        vertical-align: middle;\n",
       "    }\n",
       "\n",
       "    .dataframe tbody tr th {\n",
       "        vertical-align: top;\n",
       "    }\n",
       "\n",
       "    .dataframe thead th {\n",
       "        text-align: right;\n",
       "    }\n",
       "</style>\n",
       "<table border=\"1\" class=\"dataframe\">\n",
       "  <thead>\n",
       "    <tr style=\"text-align: right;\">\n",
       "      <th></th>\n",
       "      <th>이름</th>\n",
       "      <th>중간</th>\n",
       "      <th>기말</th>\n",
       "      <th>출석</th>\n",
       "    </tr>\n",
       "  </thead>\n",
       "  <tbody>\n",
       "    <tr>\n",
       "      <th>1</th>\n",
       "      <td>홍길동</td>\n",
       "      <td>40</td>\n",
       "      <td>60</td>\n",
       "      <td>8.5</td>\n",
       "    </tr>\n",
       "    <tr>\n",
       "      <th>2</th>\n",
       "      <td>임꺽정</td>\n",
       "      <td>60</td>\n",
       "      <td>50</td>\n",
       "      <td>7.8</td>\n",
       "    </tr>\n",
       "    <tr>\n",
       "      <th>3</th>\n",
       "      <td>이순신</td>\n",
       "      <td>100</td>\n",
       "      <td>95</td>\n",
       "      <td>9.9</td>\n",
       "    </tr>\n",
       "  </tbody>\n",
       "</table>\n",
       "</div>"
      ],
      "text/plain": [
       "    이름   중간  기말   출석\n",
       "1  홍길동   40  60  8.5\n",
       "2  임꺽정   60  50  7.8\n",
       "3  이순신  100  95  9.9"
      ]
     },
     "execution_count": 67,
     "metadata": {},
     "output_type": "execute_result"
    }
   ],
   "source": [
    "df3"
   ]
  },
  {
   "cell_type": "code",
   "execution_count": 68,
   "id": "a00766a3",
   "metadata": {},
   "outputs": [],
   "source": [
    "df.drop('출석', axis = 1, inplace = True) #혹은 이렇게 사용"
   ]
  },
  {
   "cell_type": "code",
   "execution_count": 69,
   "id": "78d1a45e",
   "metadata": {},
   "outputs": [
    {
     "data": {
      "text/html": [
       "<div>\n",
       "<style scoped>\n",
       "    .dataframe tbody tr th:only-of-type {\n",
       "        vertical-align: middle;\n",
       "    }\n",
       "\n",
       "    .dataframe tbody tr th {\n",
       "        vertical-align: top;\n",
       "    }\n",
       "\n",
       "    .dataframe thead th {\n",
       "        text-align: right;\n",
       "    }\n",
       "</style>\n",
       "<table border=\"1\" class=\"dataframe\">\n",
       "  <thead>\n",
       "    <tr style=\"text-align: right;\">\n",
       "      <th></th>\n",
       "      <th>이름</th>\n",
       "      <th>중간</th>\n",
       "      <th>기말</th>\n",
       "      <th>생일</th>\n",
       "    </tr>\n",
       "  </thead>\n",
       "  <tbody>\n",
       "    <tr>\n",
       "      <th>1</th>\n",
       "      <td>홍길동</td>\n",
       "      <td>40</td>\n",
       "      <td>60</td>\n",
       "      <td>1999-01-02</td>\n",
       "    </tr>\n",
       "    <tr>\n",
       "      <th>2</th>\n",
       "      <td>임꺽정</td>\n",
       "      <td>60</td>\n",
       "      <td>50</td>\n",
       "      <td>2010-09-17</td>\n",
       "    </tr>\n",
       "    <tr>\n",
       "      <th>3</th>\n",
       "      <td>이순신</td>\n",
       "      <td>100</td>\n",
       "      <td>95</td>\n",
       "      <td>2015-01-18</td>\n",
       "    </tr>\n",
       "  </tbody>\n",
       "</table>\n",
       "</div>"
      ],
      "text/plain": [
       "    이름   중간  기말          생일\n",
       "1  홍길동   40  60  1999-01-02\n",
       "2  임꺽정   60  50  2010-09-17\n",
       "3  이순신  100  95  2015-01-18"
      ]
     },
     "execution_count": 69,
     "metadata": {},
     "output_type": "execute_result"
    }
   ],
   "source": [
    "df"
   ]
  },
  {
   "cell_type": "code",
   "execution_count": 72,
   "id": "8831af5f",
   "metadata": {},
   "outputs": [
    {
     "data": {
      "text/html": [
       "<div>\n",
       "<style scoped>\n",
       "    .dataframe tbody tr th:only-of-type {\n",
       "        vertical-align: middle;\n",
       "    }\n",
       "\n",
       "    .dataframe tbody tr th {\n",
       "        vertical-align: top;\n",
       "    }\n",
       "\n",
       "    .dataframe thead th {\n",
       "        text-align: right;\n",
       "    }\n",
       "</style>\n",
       "<table border=\"1\" class=\"dataframe\">\n",
       "  <thead>\n",
       "    <tr style=\"text-align: right;\">\n",
       "      <th></th>\n",
       "      <th>이름</th>\n",
       "      <th>중간</th>\n",
       "      <th>기말</th>\n",
       "      <th>생일</th>\n",
       "    </tr>\n",
       "  </thead>\n",
       "  <tbody>\n",
       "    <tr>\n",
       "      <th>1</th>\n",
       "      <td>홍길동</td>\n",
       "      <td>40</td>\n",
       "      <td>60</td>\n",
       "      <td>1999-01-02</td>\n",
       "    </tr>\n",
       "    <tr>\n",
       "      <th>3</th>\n",
       "      <td>이순신</td>\n",
       "      <td>100</td>\n",
       "      <td>95</td>\n",
       "      <td>2015-01-18</td>\n",
       "    </tr>\n",
       "  </tbody>\n",
       "</table>\n",
       "</div>"
      ],
      "text/plain": [
       "    이름   중간  기말          생일\n",
       "1  홍길동   40  60  1999-01-02\n",
       "3  이순신  100  95  2015-01-18"
      ]
     },
     "execution_count": 72,
     "metadata": {},
     "output_type": "execute_result"
    }
   ],
   "source": [
    "# 행삭제\n",
    "df.drop('2')"
   ]
  },
  {
   "cell_type": "code",
   "execution_count": 74,
   "id": "29e3fc48",
   "metadata": {},
   "outputs": [
    {
     "data": {
      "text/html": [
       "<div>\n",
       "<style scoped>\n",
       "    .dataframe tbody tr th:only-of-type {\n",
       "        vertical-align: middle;\n",
       "    }\n",
       "\n",
       "    .dataframe tbody tr th {\n",
       "        vertical-align: top;\n",
       "    }\n",
       "\n",
       "    .dataframe thead th {\n",
       "        text-align: right;\n",
       "    }\n",
       "</style>\n",
       "<table border=\"1\" class=\"dataframe\">\n",
       "  <thead>\n",
       "    <tr style=\"text-align: right;\">\n",
       "      <th></th>\n",
       "      <th>이름</th>\n",
       "      <th>중간</th>\n",
       "      <th>기말</th>\n",
       "      <th>생일</th>\n",
       "    </tr>\n",
       "  </thead>\n",
       "  <tbody>\n",
       "    <tr>\n",
       "      <th>1</th>\n",
       "      <td>홍길동</td>\n",
       "      <td>40</td>\n",
       "      <td>60</td>\n",
       "      <td>1999-01-02</td>\n",
       "    </tr>\n",
       "    <tr>\n",
       "      <th>2</th>\n",
       "      <td>임꺽정</td>\n",
       "      <td>60</td>\n",
       "      <td>50</td>\n",
       "      <td>2010-09-17</td>\n",
       "    </tr>\n",
       "    <tr>\n",
       "      <th>3</th>\n",
       "      <td>이순신</td>\n",
       "      <td>100</td>\n",
       "      <td>95</td>\n",
       "      <td>2015-01-18</td>\n",
       "    </tr>\n",
       "  </tbody>\n",
       "</table>\n",
       "</div>"
      ],
      "text/plain": [
       "    이름   중간  기말          생일\n",
       "1  홍길동   40  60  1999-01-02\n",
       "2  임꺽정   60  50  2010-09-17\n",
       "3  이순신  100  95  2015-01-18"
      ]
     },
     "execution_count": 74,
     "metadata": {},
     "output_type": "execute_result"
    }
   ],
   "source": [
    "df"
   ]
  },
  {
   "cell_type": "code",
   "execution_count": 76,
   "id": "35b4d284",
   "metadata": {},
   "outputs": [],
   "source": [
    "df.drop('1',inplace = True)"
   ]
  },
  {
   "cell_type": "code",
   "execution_count": 77,
   "id": "e5ecc2f8",
   "metadata": {},
   "outputs": [
    {
     "data": {
      "text/html": [
       "<div>\n",
       "<style scoped>\n",
       "    .dataframe tbody tr th:only-of-type {\n",
       "        vertical-align: middle;\n",
       "    }\n",
       "\n",
       "    .dataframe tbody tr th {\n",
       "        vertical-align: top;\n",
       "    }\n",
       "\n",
       "    .dataframe thead th {\n",
       "        text-align: right;\n",
       "    }\n",
       "</style>\n",
       "<table border=\"1\" class=\"dataframe\">\n",
       "  <thead>\n",
       "    <tr style=\"text-align: right;\">\n",
       "      <th></th>\n",
       "      <th>이름</th>\n",
       "      <th>중간</th>\n",
       "      <th>기말</th>\n",
       "      <th>생일</th>\n",
       "    </tr>\n",
       "  </thead>\n",
       "  <tbody>\n",
       "    <tr>\n",
       "      <th>2</th>\n",
       "      <td>임꺽정</td>\n",
       "      <td>60</td>\n",
       "      <td>50</td>\n",
       "      <td>2010-09-17</td>\n",
       "    </tr>\n",
       "    <tr>\n",
       "      <th>3</th>\n",
       "      <td>이순신</td>\n",
       "      <td>100</td>\n",
       "      <td>95</td>\n",
       "      <td>2015-01-18</td>\n",
       "    </tr>\n",
       "  </tbody>\n",
       "</table>\n",
       "</div>"
      ],
      "text/plain": [
       "    이름   중간  기말          생일\n",
       "2  임꺽정   60  50  2010-09-17\n",
       "3  이순신  100  95  2015-01-18"
      ]
     },
     "execution_count": 77,
     "metadata": {},
     "output_type": "execute_result"
    }
   ],
   "source": [
    "df"
   ]
  },
  {
   "cell_type": "code",
   "execution_count": null,
   "id": "e15422a9",
   "metadata": {},
   "outputs": [],
   "source": []
  }
 ],
 "metadata": {
  "kernelspec": {
   "display_name": "Python 3 (ipykernel)",
   "language": "python",
   "name": "python3"
  },
  "language_info": {
   "codemirror_mode": {
    "name": "ipython",
    "version": 3
   },
   "file_extension": ".py",
   "mimetype": "text/x-python",
   "name": "python",
   "nbconvert_exporter": "python",
   "pygments_lexer": "ipython3",
   "version": "3.9.7"
  }
 },
 "nbformat": 4,
 "nbformat_minor": 5
}
