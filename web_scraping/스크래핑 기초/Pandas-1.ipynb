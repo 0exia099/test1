{
 "cells": [
  {
   "cell_type": "code",
   "execution_count": 1,
   "id": "6b9b6b0f",
   "metadata": {},
   "outputs": [],
   "source": [
    "import pandas as pd"
   ]
  },
  {
   "cell_type": "markdown",
   "id": "8b4c3221",
   "metadata": {},
   "source": [
    "### Series\n",
    "1차원 배열 : 리스트, 튜블, 배열, 사전형..."
   ]
  },
  {
   "cell_type": "code",
   "execution_count": 2,
   "id": "144a46ba",
   "metadata": {},
   "outputs": [],
   "source": [
    "a = ('aaa',1234,'2022-01-05', 12.999)"
   ]
  },
  {
   "cell_type": "code",
   "execution_count": 3,
   "id": "070404b0",
   "metadata": {},
   "outputs": [
    {
     "data": {
      "text/plain": [
       "tuple"
      ]
     },
     "execution_count": 3,
     "metadata": {},
     "output_type": "execute_result"
    }
   ],
   "source": [
    "type(a)"
   ]
  },
  {
   "cell_type": "code",
   "execution_count": 4,
   "id": "26c601dd",
   "metadata": {},
   "outputs": [],
   "source": [
    "s = pd.Series(a)"
   ]
  },
  {
   "cell_type": "code",
   "execution_count": 5,
   "id": "d89a1b78",
   "metadata": {},
   "outputs": [
    {
     "data": {
      "text/plain": [
       "pandas.core.series.Series"
      ]
     },
     "execution_count": 5,
     "metadata": {},
     "output_type": "execute_result"
    }
   ],
   "source": [
    "type(s)"
   ]
  },
  {
   "cell_type": "code",
   "execution_count": 6,
   "id": "eabf588c",
   "metadata": {},
   "outputs": [
    {
     "data": {
      "text/plain": [
       "0           aaa\n",
       "1          1234\n",
       "2    2022-01-05\n",
       "3        12.999\n",
       "dtype: object"
      ]
     },
     "execution_count": 6,
     "metadata": {},
     "output_type": "execute_result"
    }
   ],
   "source": [
    "s"
   ]
  },
  {
   "cell_type": "code",
   "execution_count": 7,
   "id": "a0136e04",
   "metadata": {},
   "outputs": [
    {
     "data": {
      "text/plain": [
       "'aaa'"
      ]
     },
     "execution_count": 7,
     "metadata": {},
     "output_type": "execute_result"
    }
   ],
   "source": [
    "s[0]"
   ]
  },
  {
   "cell_type": "code",
   "execution_count": 8,
   "id": "b7548006",
   "metadata": {},
   "outputs": [
    {
     "data": {
      "text/plain": [
       "1234"
      ]
     },
     "execution_count": 8,
     "metadata": {},
     "output_type": "execute_result"
    }
   ],
   "source": [
    "s[1]"
   ]
  },
  {
   "cell_type": "code",
   "execution_count": 9,
   "id": "6349d734",
   "metadata": {},
   "outputs": [
    {
     "data": {
      "text/plain": [
       "str"
      ]
     },
     "execution_count": 9,
     "metadata": {},
     "output_type": "execute_result"
    }
   ],
   "source": [
    "type(s[0])"
   ]
  },
  {
   "cell_type": "code",
   "execution_count": 11,
   "id": "cd2a65da",
   "metadata": {},
   "outputs": [
    {
     "data": {
      "text/plain": [
       "int"
      ]
     },
     "execution_count": 11,
     "metadata": {},
     "output_type": "execute_result"
    }
   ],
   "source": [
    "type(s[1]) #넘파이는 같은타입만 가능했지만 판다스는 타입이 달라도 가능"
   ]
  },
  {
   "cell_type": "code",
   "execution_count": 12,
   "id": "6092d9e3",
   "metadata": {},
   "outputs": [],
   "source": [
    "a= {'name' : '임꺽정', '중간고사' : 40, '기말고사' : 50, '출석' : 9.5}"
   ]
  },
  {
   "cell_type": "code",
   "execution_count": 13,
   "id": "a7f54ecd",
   "metadata": {},
   "outputs": [
    {
     "data": {
      "text/plain": [
       "dict"
      ]
     },
     "execution_count": 13,
     "metadata": {},
     "output_type": "execute_result"
    }
   ],
   "source": [
    "type(a)"
   ]
  },
  {
   "cell_type": "code",
   "execution_count": 15,
   "id": "d100a7d9",
   "metadata": {},
   "outputs": [],
   "source": [
    "s = pd.Series(a)"
   ]
  },
  {
   "cell_type": "code",
   "execution_count": 16,
   "id": "0650ea9f",
   "metadata": {},
   "outputs": [
    {
     "data": {
      "text/plain": [
       "name    임꺽정\n",
       "중간고사     40\n",
       "기말고사     50\n",
       "출석      9.5\n",
       "dtype: object"
      ]
     },
     "execution_count": 16,
     "metadata": {},
     "output_type": "execute_result"
    }
   ],
   "source": [
    "s"
   ]
  },
  {
   "cell_type": "code",
   "execution_count": 17,
   "id": "35ff9194",
   "metadata": {},
   "outputs": [
    {
     "data": {
      "text/plain": [
       "'임꺽정'"
      ]
     },
     "execution_count": 17,
     "metadata": {},
     "output_type": "execute_result"
    }
   ],
   "source": [
    "s['name']"
   ]
  },
  {
   "cell_type": "code",
   "execution_count": 18,
   "id": "be0ebcce",
   "metadata": {},
   "outputs": [
    {
     "data": {
      "text/plain": [
       "40"
      ]
     },
     "execution_count": 18,
     "metadata": {},
     "output_type": "execute_result"
    }
   ],
   "source": [
    "s['중간고사']"
   ]
  },
  {
   "cell_type": "code",
   "execution_count": 19,
   "id": "6801c318",
   "metadata": {},
   "outputs": [
    {
     "data": {
      "text/plain": [
       "'임꺽정'"
      ]
     },
     "execution_count": 19,
     "metadata": {},
     "output_type": "execute_result"
    }
   ],
   "source": [
    "s[0]"
   ]
  },
  {
   "cell_type": "code",
   "execution_count": 20,
   "id": "470734bc",
   "metadata": {},
   "outputs": [
    {
     "data": {
      "text/plain": [
       "중간고사    40\n",
       "기말고사    50\n",
       "dtype: object"
      ]
     },
     "execution_count": 20,
     "metadata": {},
     "output_type": "execute_result"
    }
   ],
   "source": [
    "s[1:3] #슬라이싱 1~2(3앞까지)"
   ]
  },
  {
   "cell_type": "code",
   "execution_count": 21,
   "id": "5d7162b8",
   "metadata": {},
   "outputs": [
    {
     "data": {
      "text/plain": [
       "중간고사    40\n",
       "기말고사    50\n",
       "dtype: object"
      ]
     },
     "execution_count": 21,
     "metadata": {},
     "output_type": "execute_result"
    }
   ],
   "source": [
    "s['중간고사':'기말고사'] #슬라이싱 '중간고사'~'기말고사'(끝포함)"
   ]
  },
  {
   "cell_type": "code",
   "execution_count": 30,
   "id": "3906f29a",
   "metadata": {},
   "outputs": [],
   "source": [
    "a = ('홍길동', 30,20,8.9)"
   ]
  },
  {
   "cell_type": "code",
   "execution_count": 31,
   "id": "5630f081",
   "metadata": {},
   "outputs": [
    {
     "data": {
      "text/plain": [
       "('홍길동', 30, 20, 8.9)"
      ]
     },
     "execution_count": 31,
     "metadata": {},
     "output_type": "execute_result"
    }
   ],
   "source": [
    "a"
   ]
  },
  {
   "cell_type": "code",
   "execution_count": 32,
   "id": "635b8946",
   "metadata": {},
   "outputs": [],
   "source": [
    "s = pd.Series(a)"
   ]
  },
  {
   "cell_type": "code",
   "execution_count": 33,
   "id": "aebf43d3",
   "metadata": {},
   "outputs": [
    {
     "data": {
      "text/plain": [
       "0    홍길동\n",
       "1     30\n",
       "2     20\n",
       "3    8.9\n",
       "dtype: object"
      ]
     },
     "execution_count": 33,
     "metadata": {},
     "output_type": "execute_result"
    }
   ],
   "source": [
    "s"
   ]
  },
  {
   "cell_type": "code",
   "execution_count": 34,
   "id": "342b11f2",
   "metadata": {},
   "outputs": [],
   "source": [
    "s = pd.Series(a, index = ['이름','중간', '기말', '출석'])"
   ]
  },
  {
   "cell_type": "code",
   "execution_count": 35,
   "id": "190e5988",
   "metadata": {},
   "outputs": [
    {
     "data": {
      "text/plain": [
       "이름    홍길동\n",
       "중간     30\n",
       "기말     20\n",
       "출석    8.9\n",
       "dtype: object"
      ]
     },
     "execution_count": 35,
     "metadata": {},
     "output_type": "execute_result"
    }
   ],
   "source": [
    "s"
   ]
  },
  {
   "cell_type": "code",
   "execution_count": 36,
   "id": "67c267e6",
   "metadata": {},
   "outputs": [
    {
     "data": {
      "text/plain": [
       "이름    홍길동\n",
       "기말     20\n",
       "dtype: object"
      ]
     },
     "execution_count": 36,
     "metadata": {},
     "output_type": "execute_result"
    }
   ],
   "source": [
    "s[[0,2]]"
   ]
  },
  {
   "cell_type": "code",
   "execution_count": 37,
   "id": "826ceca3",
   "metadata": {},
   "outputs": [
    {
     "data": {
      "text/plain": [
       "이름    홍길동\n",
       "기말     20\n",
       "dtype: object"
      ]
     },
     "execution_count": 37,
     "metadata": {},
     "output_type": "execute_result"
    }
   ],
   "source": [
    "s[[True, False, True, False]]"
   ]
  },
  {
   "cell_type": "markdown",
   "id": "a2170ce3",
   "metadata": {},
   "source": [
    "### DataFrame\n",
    "2차원 배열:리스트, 사전형"
   ]
  },
  {
   "cell_type": "code",
   "execution_count": 44,
   "id": "cf05c252",
   "metadata": {},
   "outputs": [],
   "source": [
    "data = {\n",
    "    '이름' : ['홍길동', '임꺽정', '이순신'],\n",
    "    '중간' : [40,60,100],\n",
    "    '기말' : [60,50,95],\n",
    "    '출석' : [8.5, 7.8,9.9]\n",
    "}"
   ]
  },
  {
   "cell_type": "code",
   "execution_count": 45,
   "id": "144f5028",
   "metadata": {},
   "outputs": [
    {
     "data": {
      "text/plain": [
       "{'이름': ['홍길동', '임꺽정', '이순신'],\n",
       " '중간': [40, 60, 100],\n",
       " '기말': [60, 50, 95],\n",
       " '출석': [8.5, 7.8, 9.9]}"
      ]
     },
     "execution_count": 45,
     "metadata": {},
     "output_type": "execute_result"
    }
   ],
   "source": [
    "data"
   ]
  },
  {
   "cell_type": "code",
   "execution_count": 46,
   "id": "9ee5dd62",
   "metadata": {},
   "outputs": [],
   "source": [
    "df = pd.DataFrame(data)"
   ]
  },
  {
   "cell_type": "code",
   "execution_count": 47,
   "id": "65713d18",
   "metadata": {},
   "outputs": [
    {
     "data": {
      "text/html": [
       "<div>\n",
       "<style scoped>\n",
       "    .dataframe tbody tr th:only-of-type {\n",
       "        vertical-align: middle;\n",
       "    }\n",
       "\n",
       "    .dataframe tbody tr th {\n",
       "        vertical-align: top;\n",
       "    }\n",
       "\n",
       "    .dataframe thead th {\n",
       "        text-align: right;\n",
       "    }\n",
       "</style>\n",
       "<table border=\"1\" class=\"dataframe\">\n",
       "  <thead>\n",
       "    <tr style=\"text-align: right;\">\n",
       "      <th></th>\n",
       "      <th>이름</th>\n",
       "      <th>중간</th>\n",
       "      <th>기말</th>\n",
       "      <th>출석</th>\n",
       "    </tr>\n",
       "  </thead>\n",
       "  <tbody>\n",
       "    <tr>\n",
       "      <th>0</th>\n",
       "      <td>홍길동</td>\n",
       "      <td>40</td>\n",
       "      <td>60</td>\n",
       "      <td>8.5</td>\n",
       "    </tr>\n",
       "    <tr>\n",
       "      <th>1</th>\n",
       "      <td>임꺽정</td>\n",
       "      <td>60</td>\n",
       "      <td>50</td>\n",
       "      <td>7.8</td>\n",
       "    </tr>\n",
       "    <tr>\n",
       "      <th>2</th>\n",
       "      <td>이순신</td>\n",
       "      <td>100</td>\n",
       "      <td>95</td>\n",
       "      <td>9.9</td>\n",
       "    </tr>\n",
       "  </tbody>\n",
       "</table>\n",
       "</div>"
      ],
      "text/plain": [
       "    이름   중간  기말   출석\n",
       "0  홍길동   40  60  8.5\n",
       "1  임꺽정   60  50  7.8\n",
       "2  이순신  100  95  9.9"
      ]
     },
     "execution_count": 47,
     "metadata": {},
     "output_type": "execute_result"
    }
   ],
   "source": [
    "df"
   ]
  },
  {
   "cell_type": "code",
   "execution_count": 48,
   "id": "e8b97d5b",
   "metadata": {},
   "outputs": [
    {
     "data": {
      "text/plain": [
       "이름     object\n",
       "중간      int64\n",
       "기말      int64\n",
       "출석    float64\n",
       "dtype: object"
      ]
     },
     "execution_count": 48,
     "metadata": {},
     "output_type": "execute_result"
    }
   ],
   "source": [
    "df.dtypes"
   ]
  },
  {
   "cell_type": "code",
   "execution_count": 49,
   "id": "b0bf73a0",
   "metadata": {},
   "outputs": [
    {
     "name": "stdout",
     "output_type": "stream",
     "text": [
      "<class 'pandas.core.frame.DataFrame'>\n",
      "RangeIndex: 3 entries, 0 to 2\n",
      "Data columns (total 4 columns):\n",
      " #   Column  Non-Null Count  Dtype  \n",
      "---  ------  --------------  -----  \n",
      " 0   이름      3 non-null      object \n",
      " 1   중간      3 non-null      int64  \n",
      " 2   기말      3 non-null      int64  \n",
      " 3   출석      3 non-null      float64\n",
      "dtypes: float64(1), int64(2), object(1)\n",
      "memory usage: 224.0+ bytes\n"
     ]
    }
   ],
   "source": [
    "df.info()"
   ]
  },
  {
   "cell_type": "code",
   "execution_count": null,
   "id": "e1d6b29f",
   "metadata": {},
   "outputs": [],
   "source": []
  }
 ],
 "metadata": {
  "kernelspec": {
   "display_name": "Python 3 (ipykernel)",
   "language": "python",
   "name": "python3"
  },
  "language_info": {
   "codemirror_mode": {
    "name": "ipython",
    "version": 3
   },
   "file_extension": ".py",
   "mimetype": "text/x-python",
   "name": "python",
   "nbconvert_exporter": "python",
   "pygments_lexer": "ipython3",
   "version": "3.9.7"
  }
 },
 "nbformat": 4,
 "nbformat_minor": 5
}
