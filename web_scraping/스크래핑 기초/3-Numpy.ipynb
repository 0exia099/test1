{
 "cells": [
  {
   "cell_type": "code",
   "execution_count": 3,
   "id": "095cf978",
   "metadata": {},
   "outputs": [],
   "source": [
    "import numpy as np"
   ]
  },
  {
   "cell_type": "markdown",
   "id": "e49d2014",
   "metadata": {},
   "source": [
    "### 객체...(object)\n",
    "모든것이 다 객체이다\n",
    "2가지 유형\n",
    "1. mutable 객체 : 수정이 가능 ex)list, dict, set\n",
    "2. immutable 객체 : 수정이 불가능 ex) tuple, int, float, string"
   ]
  },
  {
   "cell_type": "code",
   "execution_count": 30,
   "id": "334b2dd7",
   "metadata": {},
   "outputs": [],
   "source": [
    "a = [1,2]"
   ]
  },
  {
   "cell_type": "code",
   "execution_count": 29,
   "id": "8c45e5e2",
   "metadata": {},
   "outputs": [
    {
     "data": {
      "text/plain": [
       "1973878352208"
      ]
     },
     "execution_count": 29,
     "metadata": {},
     "output_type": "execute_result"
    }
   ],
   "source": [
    "id(a)"
   ]
  },
  {
   "cell_type": "code",
   "execution_count": 31,
   "id": "2045c610",
   "metadata": {},
   "outputs": [],
   "source": [
    "a[0] = 100 #객체내용 수정가능-mutable"
   ]
  },
  {
   "cell_type": "code",
   "execution_count": 32,
   "id": "3d00b810",
   "metadata": {},
   "outputs": [
    {
     "data": {
      "text/plain": [
       "[100, 2]"
      ]
     },
     "execution_count": 32,
     "metadata": {},
     "output_type": "execute_result"
    }
   ],
   "source": [
    "a"
   ]
  },
  {
   "cell_type": "code",
   "execution_count": 13,
   "id": "de7ab6b0",
   "metadata": {},
   "outputs": [
    {
     "data": {
      "text/plain": [
       "1973878352208"
      ]
     },
     "execution_count": 13,
     "metadata": {},
     "output_type": "execute_result"
    }
   ],
   "source": [
    "id(a) #리스트 변수 변경해도 id는 그대로"
   ]
  },
  {
   "cell_type": "code",
   "execution_count": 33,
   "id": "dea3ee10",
   "metadata": {},
   "outputs": [],
   "source": [
    "a= 1"
   ]
  },
  {
   "cell_type": "code",
   "execution_count": 34,
   "id": "be1d180e",
   "metadata": {},
   "outputs": [
    {
     "data": {
      "text/plain": [
       "1973878352176"
      ]
     },
     "execution_count": 34,
     "metadata": {},
     "output_type": "execute_result"
    }
   ],
   "source": [
    "id(a)"
   ]
  },
  {
   "cell_type": "code",
   "execution_count": 37,
   "id": "a9b22e67",
   "metadata": {},
   "outputs": [
    {
     "data": {
      "text/plain": [
       "1973878352176"
      ]
     },
     "execution_count": 37,
     "metadata": {},
     "output_type": "execute_result"
    }
   ],
   "source": [
    "id(1) #a하고 1같음"
   ]
  },
  {
   "cell_type": "code",
   "execution_count": 38,
   "id": "ad5ba6e7",
   "metadata": {},
   "outputs": [],
   "source": [
    "a = 2"
   ]
  },
  {
   "cell_type": "code",
   "execution_count": 39,
   "id": "4f2260fb",
   "metadata": {},
   "outputs": [
    {
     "data": {
      "text/plain": [
       "2"
      ]
     },
     "execution_count": 39,
     "metadata": {},
     "output_type": "execute_result"
    }
   ],
   "source": [
    "a"
   ]
  },
  {
   "cell_type": "code",
   "execution_count": 40,
   "id": "063fc5da",
   "metadata": {},
   "outputs": [
    {
     "data": {
      "text/plain": [
       "1973878352208"
      ]
     },
     "execution_count": 40,
     "metadata": {},
     "output_type": "execute_result"
    }
   ],
   "source": [
    "id(a) #int는 id가 변경 -> 객체가 달라짐"
   ]
  },
  {
   "cell_type": "code",
   "execution_count": 41,
   "id": "a28cbdf1",
   "metadata": {},
   "outputs": [
    {
     "data": {
      "text/plain": [
       "1973878352208"
      ]
     },
     "execution_count": 41,
     "metadata": {},
     "output_type": "execute_result"
    }
   ],
   "source": [
    "id(2) #2와 같아짐"
   ]
  },
  {
   "cell_type": "code",
   "execution_count": 42,
   "id": "f9f7f2c8",
   "metadata": {},
   "outputs": [],
   "source": [
    "# -5 ~ 256까지 정수는 객체로 있음\n",
    "a = 257"
   ]
  },
  {
   "cell_type": "code",
   "execution_count": 43,
   "id": "cf39fdc9",
   "metadata": {},
   "outputs": [
    {
     "data": {
      "text/plain": [
       "1973980148048"
      ]
     },
     "execution_count": 43,
     "metadata": {},
     "output_type": "execute_result"
    }
   ],
   "source": [
    "id(a)"
   ]
  },
  {
   "cell_type": "code",
   "execution_count": 44,
   "id": "3ae41873",
   "metadata": {},
   "outputs": [
    {
     "data": {
      "text/plain": [
       "1973980149904"
      ]
     },
     "execution_count": 44,
     "metadata": {},
     "output_type": "execute_result"
    }
   ],
   "source": [
    "id(257) #257부터는 객체가 달라짐"
   ]
  },
  {
   "cell_type": "code",
   "execution_count": 45,
   "id": "0e8500fc",
   "metadata": {},
   "outputs": [],
   "source": [
    "a = 258"
   ]
  },
  {
   "cell_type": "code",
   "execution_count": 46,
   "id": "aab73629",
   "metadata": {},
   "outputs": [
    {
     "data": {
      "text/plain": [
       "1973980150032"
      ]
     },
     "execution_count": 46,
     "metadata": {},
     "output_type": "execute_result"
    }
   ],
   "source": [
    "id(a)"
   ]
  },
  {
   "cell_type": "code",
   "execution_count": 47,
   "id": "7680a2b6",
   "metadata": {},
   "outputs": [],
   "source": [
    "a = [1,2]"
   ]
  },
  {
   "cell_type": "code",
   "execution_count": 48,
   "id": "a65271b4",
   "metadata": {},
   "outputs": [],
   "source": [
    "b = a #a와 b가 같은 객체가 된다. shallow copy(얕은 복사)"
   ]
  },
  {
   "cell_type": "code",
   "execution_count": 49,
   "id": "0c78b225",
   "metadata": {},
   "outputs": [
    {
     "data": {
      "text/plain": [
       "[1, 2]"
      ]
     },
     "execution_count": 49,
     "metadata": {},
     "output_type": "execute_result"
    }
   ],
   "source": [
    "a"
   ]
  },
  {
   "cell_type": "code",
   "execution_count": 50,
   "id": "f184449c",
   "metadata": {},
   "outputs": [
    {
     "data": {
      "text/plain": [
       "[1, 2]"
      ]
     },
     "execution_count": 50,
     "metadata": {},
     "output_type": "execute_result"
    }
   ],
   "source": [
    "b"
   ]
  },
  {
   "cell_type": "code",
   "execution_count": 51,
   "id": "5adb8f1d",
   "metadata": {},
   "outputs": [],
   "source": [
    "b[0] = 100"
   ]
  },
  {
   "cell_type": "code",
   "execution_count": 52,
   "id": "81fc37c8",
   "metadata": {},
   "outputs": [
    {
     "data": {
      "text/plain": [
       "[100, 2]"
      ]
     },
     "execution_count": 52,
     "metadata": {},
     "output_type": "execute_result"
    }
   ],
   "source": [
    "b"
   ]
  },
  {
   "cell_type": "code",
   "execution_count": 53,
   "id": "43ab4104",
   "metadata": {},
   "outputs": [
    {
     "data": {
      "text/plain": [
       "[100, 2]"
      ]
     },
     "execution_count": 53,
     "metadata": {},
     "output_type": "execute_result"
    }
   ],
   "source": [
    "a #b변경해도 a같이 변경"
   ]
  },
  {
   "cell_type": "code",
   "execution_count": 54,
   "id": "2cc703d7",
   "metadata": {},
   "outputs": [
    {
     "data": {
      "text/plain": [
       "1973980323264"
      ]
     },
     "execution_count": 54,
     "metadata": {},
     "output_type": "execute_result"
    }
   ],
   "source": [
    "id(a)"
   ]
  },
  {
   "cell_type": "code",
   "execution_count": 55,
   "id": "f7663aa2",
   "metadata": {},
   "outputs": [
    {
     "data": {
      "text/plain": [
       "1973980323264"
      ]
     },
     "execution_count": 55,
     "metadata": {},
     "output_type": "execute_result"
    }
   ],
   "source": [
    "id(b) #같다"
   ]
  },
  {
   "cell_type": "code",
   "execution_count": 56,
   "id": "9009624d",
   "metadata": {},
   "outputs": [],
   "source": [
    "b = a.copy() #deep copy(깊은 복사)"
   ]
  },
  {
   "cell_type": "code",
   "execution_count": 57,
   "id": "dc142141",
   "metadata": {},
   "outputs": [
    {
     "data": {
      "text/plain": [
       "[100, 2]"
      ]
     },
     "execution_count": 57,
     "metadata": {},
     "output_type": "execute_result"
    }
   ],
   "source": [
    "a"
   ]
  },
  {
   "cell_type": "code",
   "execution_count": 58,
   "id": "b4633fa5",
   "metadata": {},
   "outputs": [
    {
     "data": {
      "text/plain": [
       "[100, 2]"
      ]
     },
     "execution_count": 58,
     "metadata": {},
     "output_type": "execute_result"
    }
   ],
   "source": [
    "b"
   ]
  },
  {
   "cell_type": "code",
   "execution_count": 59,
   "id": "9a138b28",
   "metadata": {},
   "outputs": [
    {
     "data": {
      "text/plain": [
       "1973980323264"
      ]
     },
     "execution_count": 59,
     "metadata": {},
     "output_type": "execute_result"
    }
   ],
   "source": [
    "id(a)"
   ]
  },
  {
   "cell_type": "code",
   "execution_count": 60,
   "id": "f5842c92",
   "metadata": {},
   "outputs": [
    {
     "data": {
      "text/plain": [
       "1973980332736"
      ]
     },
     "execution_count": 60,
     "metadata": {},
     "output_type": "execute_result"
    }
   ],
   "source": [
    "id(b) #a와 b가 다르다"
   ]
  },
  {
   "cell_type": "code",
   "execution_count": 61,
   "id": "70327e9e",
   "metadata": {},
   "outputs": [],
   "source": [
    "b[0] = 2000"
   ]
  },
  {
   "cell_type": "code",
   "execution_count": 62,
   "id": "56821292",
   "metadata": {},
   "outputs": [
    {
     "data": {
      "text/plain": [
       "[2000, 2]"
      ]
     },
     "execution_count": 62,
     "metadata": {},
     "output_type": "execute_result"
    }
   ],
   "source": [
    "b"
   ]
  },
  {
   "cell_type": "code",
   "execution_count": 63,
   "id": "0b081d56",
   "metadata": {},
   "outputs": [
    {
     "data": {
      "text/plain": [
       "[100, 2]"
      ]
     },
     "execution_count": 63,
     "metadata": {},
     "output_type": "execute_result"
    }
   ],
   "source": [
    "a"
   ]
  },
  {
   "cell_type": "code",
   "execution_count": 64,
   "id": "c0cf6b04",
   "metadata": {},
   "outputs": [],
   "source": [
    "a = [[1,2,3]] #이차원 배열"
   ]
  },
  {
   "cell_type": "code",
   "execution_count": 65,
   "id": "d4c9a5d5",
   "metadata": {},
   "outputs": [
    {
     "data": {
      "text/plain": [
       "[[1, 2, 3]]"
      ]
     },
     "execution_count": 65,
     "metadata": {},
     "output_type": "execute_result"
    }
   ],
   "source": [
    "a"
   ]
  },
  {
   "cell_type": "code",
   "execution_count": 66,
   "id": "8c481da3",
   "metadata": {},
   "outputs": [],
   "source": [
    "b = a.copy()"
   ]
  },
  {
   "cell_type": "code",
   "execution_count": 67,
   "id": "14803d3f",
   "metadata": {},
   "outputs": [
    {
     "data": {
      "text/plain": [
       "[[1, 2, 3]]"
      ]
     },
     "execution_count": 67,
     "metadata": {},
     "output_type": "execute_result"
    }
   ],
   "source": [
    "b"
   ]
  },
  {
   "cell_type": "code",
   "execution_count": 68,
   "id": "1f8838c5",
   "metadata": {},
   "outputs": [],
   "source": [
    "b[0][0] = 2000"
   ]
  },
  {
   "cell_type": "code",
   "execution_count": 69,
   "id": "23aae18d",
   "metadata": {},
   "outputs": [
    {
     "data": {
      "text/plain": [
       "[[2000, 2, 3]]"
      ]
     },
     "execution_count": 69,
     "metadata": {},
     "output_type": "execute_result"
    }
   ],
   "source": [
    "a #a값도 바뀜(a의 id와 b의 id는 다르지만 a[0]이랑 b[0]이랑은 같음)"
   ]
  },
  {
   "cell_type": "code",
   "execution_count": 70,
   "id": "4cdae270",
   "metadata": {},
   "outputs": [
    {
     "data": {
      "text/plain": [
       "1973980273664"
      ]
     },
     "execution_count": 70,
     "metadata": {},
     "output_type": "execute_result"
    }
   ],
   "source": [
    "id(a[0])"
   ]
  },
  {
   "cell_type": "code",
   "execution_count": 71,
   "id": "f091dc55",
   "metadata": {},
   "outputs": [
    {
     "data": {
      "text/plain": [
       "1973980273664"
      ]
     },
     "execution_count": 71,
     "metadata": {},
     "output_type": "execute_result"
    }
   ],
   "source": [
    "id(b[0])"
   ]
  },
  {
   "cell_type": "code",
   "execution_count": 72,
   "id": "2e480ef4",
   "metadata": {},
   "outputs": [],
   "source": [
    "import copy #진짜 deepcopy를 쓰기위해서는 copy.deepcopy를 써야된다."
   ]
  },
  {
   "cell_type": "code",
   "execution_count": 77,
   "id": "74243ae8",
   "metadata": {},
   "outputs": [],
   "source": [
    "a = [[1,2,3]]"
   ]
  },
  {
   "cell_type": "code",
   "execution_count": 78,
   "id": "c1b43715",
   "metadata": {},
   "outputs": [],
   "source": [
    "b = copy.deepcopy(a)"
   ]
  },
  {
   "cell_type": "code",
   "execution_count": 79,
   "id": "dcfb56f0",
   "metadata": {},
   "outputs": [],
   "source": [
    "b[0][0] = 3000"
   ]
  },
  {
   "cell_type": "code",
   "execution_count": 80,
   "id": "81980c95",
   "metadata": {},
   "outputs": [
    {
     "data": {
      "text/plain": [
       "[[3000, 2, 3]]"
      ]
     },
     "execution_count": 80,
     "metadata": {},
     "output_type": "execute_result"
    }
   ],
   "source": [
    "b"
   ]
  },
  {
   "cell_type": "code",
   "execution_count": 81,
   "id": "6962d286",
   "metadata": {},
   "outputs": [
    {
     "data": {
      "text/plain": [
       "[[1, 2, 3]]"
      ]
     },
     "execution_count": 81,
     "metadata": {},
     "output_type": "execute_result"
    }
   ],
   "source": [
    "a"
   ]
  },
  {
   "cell_type": "code",
   "execution_count": 82,
   "id": "5c357a41",
   "metadata": {},
   "outputs": [],
   "source": [
    "a =b =np.array([1,2,3])"
   ]
  },
  {
   "cell_type": "code",
   "execution_count": 83,
   "id": "b83477f1",
   "metadata": {},
   "outputs": [
    {
     "data": {
      "text/plain": [
       "array([1, 2, 3])"
      ]
     },
     "execution_count": 83,
     "metadata": {},
     "output_type": "execute_result"
    }
   ],
   "source": [
    "a"
   ]
  },
  {
   "cell_type": "code",
   "execution_count": 84,
   "id": "fff865a3",
   "metadata": {},
   "outputs": [
    {
     "data": {
      "text/plain": [
       "array([1, 2, 3])"
      ]
     },
     "execution_count": 84,
     "metadata": {},
     "output_type": "execute_result"
    }
   ],
   "source": [
    "b"
   ]
  },
  {
   "cell_type": "code",
   "execution_count": 85,
   "id": "f0c1aaa5",
   "metadata": {},
   "outputs": [],
   "source": [
    "b[0] = 1000"
   ]
  },
  {
   "cell_type": "code",
   "execution_count": 86,
   "id": "a64fc194",
   "metadata": {},
   "outputs": [
    {
     "data": {
      "text/plain": [
       "array([1000,    2,    3])"
      ]
     },
     "execution_count": 86,
     "metadata": {},
     "output_type": "execute_result"
    }
   ],
   "source": [
    "b"
   ]
  },
  {
   "cell_type": "code",
   "execution_count": 87,
   "id": "af91db80",
   "metadata": {},
   "outputs": [
    {
     "data": {
      "text/plain": [
       "array([1000,    2,    3])"
      ]
     },
     "execution_count": 87,
     "metadata": {},
     "output_type": "execute_result"
    }
   ],
   "source": [
    "a"
   ]
  },
  {
   "cell_type": "markdown",
   "id": "f4b01aa3",
   "metadata": {},
   "source": [
    "### ndarray도 mutable type!!"
   ]
  },
  {
   "cell_type": "code",
   "execution_count": 88,
   "id": "a1a08449",
   "metadata": {},
   "outputs": [
    {
     "data": {
      "text/plain": [
       "array([2, 3])"
      ]
     },
     "execution_count": 88,
     "metadata": {},
     "output_type": "execute_result"
    }
   ],
   "source": [
    "a[1:]"
   ]
  },
  {
   "cell_type": "code",
   "execution_count": 89,
   "id": "ae80662e",
   "metadata": {},
   "outputs": [
    {
     "data": {
      "text/plain": [
       "array([1000,    2,    3])"
      ]
     },
     "execution_count": 89,
     "metadata": {},
     "output_type": "execute_result"
    }
   ],
   "source": [
    "a"
   ]
  },
  {
   "cell_type": "code",
   "execution_count": 90,
   "id": "b337ac8e",
   "metadata": {},
   "outputs": [],
   "source": [
    "c = a[1:] #view"
   ]
  },
  {
   "cell_type": "code",
   "execution_count": 91,
   "id": "51adcdde",
   "metadata": {},
   "outputs": [
    {
     "data": {
      "text/plain": [
       "array([2, 3])"
      ]
     },
     "execution_count": 91,
     "metadata": {},
     "output_type": "execute_result"
    }
   ],
   "source": [
    "c"
   ]
  },
  {
   "cell_type": "code",
   "execution_count": 92,
   "id": "92bfc0a5",
   "metadata": {},
   "outputs": [],
   "source": [
    "c[0] = 2000"
   ]
  },
  {
   "cell_type": "code",
   "execution_count": 93,
   "id": "3c03fed8",
   "metadata": {},
   "outputs": [
    {
     "data": {
      "text/plain": [
       "array([2000,    3])"
      ]
     },
     "execution_count": 93,
     "metadata": {},
     "output_type": "execute_result"
    }
   ],
   "source": [
    "c"
   ]
  },
  {
   "cell_type": "code",
   "execution_count": 94,
   "id": "7943ca89",
   "metadata": {},
   "outputs": [
    {
     "data": {
      "text/plain": [
       "array([1000, 2000,    3])"
      ]
     },
     "execution_count": 94,
     "metadata": {},
     "output_type": "execute_result"
    }
   ],
   "source": [
    "a"
   ]
  },
  {
   "cell_type": "code",
   "execution_count": 95,
   "id": "a0daa741",
   "metadata": {},
   "outputs": [],
   "source": [
    "a = [[1,2,3],[4,5,6]]"
   ]
  },
  {
   "cell_type": "code",
   "execution_count": 96,
   "id": "1ea48783",
   "metadata": {},
   "outputs": [
    {
     "data": {
      "text/plain": [
       "[[1, 2, 3], [4, 5, 6]]"
      ]
     },
     "execution_count": 96,
     "metadata": {},
     "output_type": "execute_result"
    }
   ],
   "source": [
    "a"
   ]
  },
  {
   "cell_type": "code",
   "execution_count": 97,
   "id": "bb8eb2e1",
   "metadata": {},
   "outputs": [
    {
     "data": {
      "text/plain": [
       "3"
      ]
     },
     "execution_count": 97,
     "metadata": {},
     "output_type": "execute_result"
    }
   ],
   "source": [
    "a[0][2]"
   ]
  },
  {
   "cell_type": "code",
   "execution_count": 98,
   "id": "081152f5",
   "metadata": {},
   "outputs": [
    {
     "data": {
      "text/plain": [
       "5"
      ]
     },
     "execution_count": 98,
     "metadata": {},
     "output_type": "execute_result"
    }
   ],
   "source": [
    "a[1][1]"
   ]
  },
  {
   "cell_type": "code",
   "execution_count": 99,
   "id": "83357a5e",
   "metadata": {},
   "outputs": [
    {
     "ename": "TypeError",
     "evalue": "list indices must be integers or slices, not tuple",
     "output_type": "error",
     "traceback": [
      "\u001b[1;31m---------------------------------------------------------------------------\u001b[0m",
      "\u001b[1;31mTypeError\u001b[0m                                 Traceback (most recent call last)",
      "\u001b[1;32m~\\AppData\\Local\\Temp/ipykernel_144452/1165100428.py\u001b[0m in \u001b[0;36m<module>\u001b[1;34m\u001b[0m\n\u001b[1;32m----> 1\u001b[1;33m \u001b[0ma\u001b[0m\u001b[1;33m[\u001b[0m\u001b[1;36m1\u001b[0m\u001b[1;33m,\u001b[0m\u001b[1;36m1\u001b[0m\u001b[1;33m]\u001b[0m \u001b[1;31m#안됨\u001b[0m\u001b[1;33m\u001b[0m\u001b[1;33m\u001b[0m\u001b[0m\n\u001b[0m",
      "\u001b[1;31mTypeError\u001b[0m: list indices must be integers or slices, not tuple"
     ]
    }
   ],
   "source": [
    "a[1,1] #안됨"
   ]
  },
  {
   "cell_type": "code",
   "execution_count": 100,
   "id": "6511406c",
   "metadata": {},
   "outputs": [],
   "source": [
    "b = np.array(a) #넘파이로 깊은 복사가 됨"
   ]
  },
  {
   "cell_type": "code",
   "execution_count": 101,
   "id": "85501ffc",
   "metadata": {},
   "outputs": [
    {
     "data": {
      "text/plain": [
       "array([[1, 2, 3],\n",
       "       [4, 5, 6]])"
      ]
     },
     "execution_count": 101,
     "metadata": {},
     "output_type": "execute_result"
    }
   ],
   "source": [
    "b"
   ]
  },
  {
   "cell_type": "code",
   "execution_count": 102,
   "id": "cc347a30",
   "metadata": {},
   "outputs": [],
   "source": [
    "a[0] = 1000"
   ]
  },
  {
   "cell_type": "code",
   "execution_count": 103,
   "id": "873143e9",
   "metadata": {},
   "outputs": [
    {
     "data": {
      "text/plain": [
       "[1000, [4, 5, 6]]"
      ]
     },
     "execution_count": 103,
     "metadata": {},
     "output_type": "execute_result"
    }
   ],
   "source": [
    "a"
   ]
  },
  {
   "cell_type": "code",
   "execution_count": 104,
   "id": "dd0857c8",
   "metadata": {},
   "outputs": [
    {
     "data": {
      "text/plain": [
       "array([[1, 2, 3],\n",
       "       [4, 5, 6]])"
      ]
     },
     "execution_count": 104,
     "metadata": {},
     "output_type": "execute_result"
    }
   ],
   "source": [
    "b"
   ]
  },
  {
   "cell_type": "code",
   "execution_count": 105,
   "id": "8316100a",
   "metadata": {},
   "outputs": [
    {
     "data": {
      "text/plain": [
       "1"
      ]
     },
     "execution_count": 105,
     "metadata": {},
     "output_type": "execute_result"
    }
   ],
   "source": [
    "b[0][0]"
   ]
  },
  {
   "cell_type": "code",
   "execution_count": 106,
   "id": "c7ef8cac",
   "metadata": {},
   "outputs": [
    {
     "data": {
      "text/plain": [
       "5"
      ]
     },
     "execution_count": 106,
     "metadata": {},
     "output_type": "execute_result"
    }
   ],
   "source": [
    "b[1][1]"
   ]
  },
  {
   "cell_type": "code",
   "execution_count": 107,
   "id": "747a2d1b",
   "metadata": {},
   "outputs": [
    {
     "data": {
      "text/plain": [
       "5"
      ]
     },
     "execution_count": 107,
     "metadata": {},
     "output_type": "execute_result"
    }
   ],
   "source": [
    "b[1,1] #된다"
   ]
  },
  {
   "cell_type": "code",
   "execution_count": null,
   "id": "f6ef2108",
   "metadata": {},
   "outputs": [],
   "source": []
  }
 ],
 "metadata": {
  "kernelspec": {
   "display_name": "Python 3 (ipykernel)",
   "language": "python",
   "name": "python3"
  },
  "language_info": {
   "codemirror_mode": {
    "name": "ipython",
    "version": 3
   },
   "file_extension": ".py",
   "mimetype": "text/x-python",
   "name": "python",
   "nbconvert_exporter": "python",
   "pygments_lexer": "ipython3",
   "version": "3.9.7"
  }
 },
 "nbformat": 4,
 "nbformat_minor": 5
}
